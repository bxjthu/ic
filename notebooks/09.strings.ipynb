{
 "cells": [
  {
   "cell_type": "markdown",
   "metadata": {},
   "source": [
    "# 9. Strings"
   ]
  },
  {
   "cell_type": "markdown",
   "metadata": {},
   "source": [
    "## A Collection Data Type\n",
    "\n",
    "- Simple or primitive data types: `int, float, bool`\n",
    "\n",
    "    - cannot be broken down\n",
    "\n",
    "- Collection data types: `str, list`\n",
    "\n",
    "    - are made up of smaller pieces\n",
    "    \n",
    "<div class=\"alert alert-info\">\n",
    "Types that are comprised of smaller pieces are called collection data types.\n",
    "</div>"
   ]
  },
  {
   "cell_type": "markdown",
   "metadata": {},
   "source": [
    "** String: sequential collection of characters **\n",
    "\n",
    "The individual characters that make up the string are assumed to be in a particular order from left to right.\n",
    "\n",
    "Empy string:  `‘’` or `“”`"
   ]
  },
  {
   "cell_type": "markdown",
   "metadata": {},
   "source": [
    "## Operations on Strings\n",
    "\n",
    "illegal string ops (message is str):\n",
    "\n",
    "```python\n",
    "message - 1\n",
    "\"Hello\" / 123\n",
    "message * \"Hello\"\n",
    "\"15\" + 2\n",
    "```"
   ]
  },
  {
   "cell_type": "markdown",
   "metadata": {},
   "source": [
    "String ops: `string + string`, `string*integer`"
   ]
  },
  {
   "cell_type": "code",
   "execution_count": 1,
   "metadata": {
    "collapsed": false
   },
   "outputs": [
    {
     "name": "stdout",
     "output_type": "stream",
     "text": [
      "banana nut bread\n"
     ]
    }
   ],
   "source": [
    "fruit = \"banana\"\n",
    "bakedGood = \" nut bread\"\n",
    "print(fruit + bakedGood)"
   ]
  },
  {
   "cell_type": "code",
   "execution_count": 2,
   "metadata": {
    "collapsed": false
   },
   "outputs": [
    {
     "name": "stdout",
     "output_type": "stream",
     "text": [
      "GoGoGoGoGoGo\n",
      "PackersPackersPackers\n",
      "PackersGoGoGo\n",
      "PackersGoPackersGoPackersGo\n"
     ]
    }
   ],
   "source": [
    "print(\"Go\" * 6)\n",
    "\n",
    "name = \"Packers\"\n",
    "print(name * 3)\n",
    "\n",
    "print(name + \"Go\" * 3)\n",
    "\n",
    "print((name + \"Go\") * 3)"
   ]
  },
  {
   "cell_type": "markdown",
   "metadata": {},
   "source": [
    "** Exercise **\n",
    "```\n",
    "1. What is printed by the following statements?\n",
    "```\n",
    "```python\n",
    "s = \"python\"\n",
    "t = \"rocks\"\n",
    "print(s + t)\n",
    "```\n",
    "```\n",
    "(A) python rocks\n",
    "(B) python\n",
    "(C) pythonrocks\n",
    "(D) Error, you cannot add two strings together.\n",
    "```"
   ]
  },
  {
   "cell_type": "markdown",
   "metadata": {},
   "source": [
    "```2. What is printed by the following statements?```\n",
    "```python\n",
    "s = \"python\"\n",
    "excl = \"!\"\n",
    "print(s+excl*3)\n",
    "```\n",
    "```\n",
    "(A) python!!!\n",
    "(B) python!python!python!\n",
    "(C) pythonpythonpython!\n",
    "(D) Error, you cannot perform concatenation and repetition at the same time.\n",
    "```"
   ]
  },
  {
   "cell_type": "markdown",
   "metadata": {},
   "source": [
    "## Index Operator\n",
    "\n",
    "The indexing operator (Python uses square brackets `[]` to enclose the index) selects a single character from a string. \n",
    "\n",
    "The characters are accessed by their position or index value.\n",
    "\n",
    "<img src=\"http://sei.pku.edu.cn/~caodg/course/ic/notebooks/images/string.svg\" width=600>"
   ]
  },
  {
   "cell_type": "code",
   "execution_count": 3,
   "metadata": {
    "collapsed": false
   },
   "outputs": [
    {
     "name": "stdout",
     "output_type": "stream",
     "text": [
      "k\n",
      "y\n"
     ]
    }
   ],
   "source": [
    "school = \"Peking University\"\n",
    "m = school[2]\n",
    "print(m)\n",
    "\n",
    "lastchar = school[-1]\n",
    "print(lastchar)"
   ]
  },
  {
   "cell_type": "markdown",
   "metadata": {},
   "source": [
    "** Exercise **\n",
    "```\n",
    "1. What is printed by the following statements?\n",
    "```\n",
    "```python\n",
    "s = \"python rocks\"\n",
    "print(s[3])\n",
    "```\n",
    "```\n",
    "(A) t\n",
    "(B) h\n",
    "(C) c\n",
    "(D) Error, you cannot use the [ ] operator with a string.\n",
    "```"
   ]
  },
  {
   "cell_type": "markdown",
   "metadata": {},
   "source": [
    "```\n",
    "2. What is printed by the following statements?```\n",
    "```python\n",
    "s = \"python rocks\"\n",
    "print(s[2] + s[-5])\n",
    "```\n",
    "```\n",
    "(A) tr\n",
    "(B) ps\n",
    "(C) nn\n",
    "(D) Error, you cannot use the [ ] operator with the + operator.\n",
    "```"
   ]
  },
  {
   "cell_type": "markdown",
   "metadata": {},
   "source": [
    "## String Methods"
   ]
  },
  {
   "cell_type": "code",
   "execution_count": 4,
   "metadata": {
    "collapsed": false
   },
   "outputs": [
    {
     "name": "stdout",
     "output_type": "stream",
     "text": [
      "HELLO, WORLD\n",
      "hello, world\n"
     ]
    }
   ],
   "source": [
    "ss = \"Hello, World\"\n",
    "print(ss.upper())\n",
    "\n",
    "tt = ss.lower()\n",
    "print(tt)"
   ]
  },
  {
   "cell_type": "markdown",
   "metadata": {},
   "source": [
    "Method\t| Parameters |\tDescription\n",
    "--------|------------|-------------\n",
    "upper\t| none\t| Returns a string in all uppercase\n",
    "lower\t| none\t| Returns a string in all lowercase\n",
    "capitalize\t| none\t| Returns a string with first character capitalized, the rest lower\n",
    "strip\t| none\t| Returns a string with the leading and trailing whitespace removed\n",
    "lstrip\t| none\t| Returns a string with the leading whitespace removed\n",
    "rstrip\t| none\t| Returns a string with the trailing whitespace removed\n",
    "count\t| item\t| Returns the number of occurrences of item\n"
   ]
  },
  {
   "cell_type": "markdown",
   "metadata": {},
   "source": [
    "Method\t| Parameters |\tDescription\n",
    "--------|------------|-------------\n",
    "replace\t| old, new\t| Replaces all occurrences of old substring with new\n",
    "center\t| width\t| Returns a string centered in a field of width spaces\n",
    "ljust\t| width\t| Returns a string left justified in a field of width spaces\n",
    "rjust\t| width\t| Returns a string right justified in a field of width spaces\n",
    "find\t| item\t| Returns the leftmost index where the substring item is found\n",
    "rfind\t| item\t| Returns the rightmost index where the substring item is found\n",
    "index\t| item\t| Like find except causes a runtime error if item is not found\n",
    "rindex\t| item\t| Like rfind except causes a runtime error if item is not found"
   ]
  },
  {
   "cell_type": "code",
   "execution_count": 5,
   "metadata": {
    "collapsed": false
   },
   "outputs": [
    {
     "name": "stdout",
     "output_type": "stream",
     "text": [
      "3\n",
      "***Hello, World***\n",
      "***Hello, World    ***\n",
      "***    Hello, World***\n",
      "    Hell***, W***rld    \n"
     ]
    }
   ],
   "source": [
    "ss = \"    Hello, World    \"\n",
    "\n",
    "els = ss.count(\"l\")\n",
    "print(els)\n",
    "\n",
    "print(\"***\" + ss.strip() + \"***\")\n",
    "print(\"***\" + ss.lstrip() + \"***\")\n",
    "print(\"***\" + ss.rstrip() + \"***\")\n",
    "\n",
    "news = ss.replace(\"o\", \"***\")\n",
    "print(news)"
   ]
  },
  {
   "cell_type": "code",
   "execution_count": 6,
   "metadata": {
    "collapsed": false
   },
   "outputs": [
    {
     "name": "stdout",
     "output_type": "stream",
     "text": [
      "Banana bread\n",
      "*       banana bread      *\n",
      "*banana bread             *\n",
      "*             banana bread*\n",
      "9\n",
      "2\n",
      "0\n",
      "9\n",
      "4\n",
      "7\n",
      "9\n"
     ]
    }
   ],
   "source": [
    "food = \"banana bread\"\n",
    "print(food.capitalize())\n",
    "\n",
    "print(\"*\" + food.center(25) + \"*\")\n",
    "print(\"*\" + food.ljust(25) + \"*\")\n",
    "print(\"*\" + food.rjust(25) + \"*\")\n",
    "\n",
    "print(food.find(\"e\"))\n",
    "print(food.find(\"na\"))\n",
    "print(food.find(\"b\"))\n",
    "\n",
    "print(food.rfind(\"e\"))\n",
    "print(food.rfind(\"na\"))\n",
    "print(food.rfind(\"b\"))\n",
    "\n",
    "print(food.index(\"e\"))"
   ]
  },
  {
   "cell_type": "markdown",
   "metadata": {},
   "source": [
    "** Exercise **\n",
    "```\n",
    "1. What is printed by the following statements?\n",
    "```\n",
    "```python\n",
    "s = \"python rocks\"\n",
    "print(s.count(\"o\") + s.count(\"p\"))\n",
    "```\n",
    "```\n",
    "(A) 0\n",
    "(B) 2\n",
    "(C) 3\n",
    "```"
   ]
  },
  {
   "cell_type": "markdown",
   "metadata": {},
   "source": [
    "```\n",
    "2. What is printed by the following statements?```\n",
    "```python\n",
    "s = \"python rocks\"\n",
    "print(s[1] * s.index(\"n\"))```\n",
    "```\n",
    "(A) yyyyy\n",
    "(B) 55555\n",
    "(C) n\n",
    "(D) Error, you cannot combine all those things together.\n",
    "```"
   ]
  },
  {
   "cell_type": "markdown",
   "metadata": {},
   "source": [
    "## Length"
   ]
  },
  {
   "cell_type": "code",
   "execution_count": 7,
   "metadata": {
    "collapsed": false
   },
   "outputs": [
    {
     "name": "stdout",
     "output_type": "stream",
     "text": [
      "6\n"
     ]
    }
   ],
   "source": [
    "fruit = \"Banana\"\n",
    "print(len(fruit))"
   ]
  },
  {
   "cell_type": "code",
   "execution_count": 8,
   "metadata": {
    "collapsed": false
   },
   "outputs": [
    {
     "ename": "IndexError",
     "evalue": "string index out of range",
     "output_type": "error",
     "traceback": [
      "\u001b[0;31m---------------------------------------------------------------------------\u001b[0m",
      "\u001b[0;31mIndexError\u001b[0m                                Traceback (most recent call last)",
      "\u001b[0;32m<ipython-input-8-27a43253ceb3>\u001b[0m in \u001b[0;36m<module>\u001b[0;34m()\u001b[0m\n\u001b[1;32m      1\u001b[0m \u001b[0mfruit\u001b[0m \u001b[0;34m=\u001b[0m \u001b[0;34m\"Banana\"\u001b[0m\u001b[0;34m\u001b[0m\u001b[0m\n\u001b[1;32m      2\u001b[0m \u001b[0msz\u001b[0m \u001b[0;34m=\u001b[0m \u001b[0mlen\u001b[0m\u001b[0;34m(\u001b[0m\u001b[0mfruit\u001b[0m\u001b[0;34m)\u001b[0m\u001b[0;34m\u001b[0m\u001b[0m\n\u001b[0;32m----> 3\u001b[0;31m \u001b[0mlast\u001b[0m \u001b[0;34m=\u001b[0m \u001b[0mfruit\u001b[0m\u001b[0;34m[\u001b[0m\u001b[0msz\u001b[0m\u001b[0;34m]\u001b[0m  \u001b[0;31m# ERROR!\u001b[0m\u001b[0;34m\u001b[0m\u001b[0m\n\u001b[0m\u001b[1;32m      4\u001b[0m \u001b[0mprint\u001b[0m\u001b[0;34m(\u001b[0m\u001b[0mlast\u001b[0m\u001b[0;34m)\u001b[0m\u001b[0;34m\u001b[0m\u001b[0m\n",
      "\u001b[0;31mIndexError\u001b[0m: string index out of range"
     ]
    }
   ],
   "source": [
    "fruit = \"Banana\"\n",
    "sz = len(fruit)\n",
    "last = fruit[sz]  # ERROR!\n",
    "print(last)"
   ]
  },
  {
   "cell_type": "code",
   "execution_count": 9,
   "metadata": {
    "collapsed": false
   },
   "outputs": [
    {
     "name": "stdout",
     "output_type": "stream",
     "text": [
      "a\n"
     ]
    }
   ],
   "source": [
    "fruit = \"Banana\"\n",
    "sz = len(fruit)\n",
    "lastch = fruit[sz-1]\n",
    "print(lastch)"
   ]
  },
  {
   "cell_type": "markdown",
   "metadata": {},
   "source": [
    "** Exercise **\n",
    "```\n",
    "1. What is printed by the following statements?\n",
    "```\n",
    "```python\n",
    "s = \"python rocks\"\n",
    "print(len(s))```\n",
    "```\n",
    "(A) 11\n",
    "(B) 12\n",
    "```"
   ]
  },
  {
   "cell_type": "markdown",
   "metadata": {},
   "source": [
    "```\n",
    "2. What is printed by the following statements?```\n",
    "```python\n",
    "s = \"python rocks\"\n",
    "print(s[len(s)-5])\n",
    "```\n",
    "```\n",
    "(A) o\n",
    "(B) r\n",
    "(C) s\n",
    "(D) Error, len(s) is 12 and there is no index 12.\n",
    "```"
   ]
  },
  {
   "cell_type": "markdown",
   "metadata": {},
   "source": [
    "## The Slice Operator\n",
    "\n",
    "A substring of a string is called a **slice**."
   ]
  },
  {
   "cell_type": "code",
   "execution_count": 10,
   "metadata": {
    "collapsed": false
   },
   "outputs": [
    {
     "name": "stdout",
     "output_type": "stream",
     "text": [
      "Peter\n",
      "Paul\n",
      "Mary\n"
     ]
    }
   ],
   "source": [
    "singers = \"Peter, Paul, and Mary\"\n",
    "print(singers[0:5])\n",
    "print(singers[7:11])\n",
    "print(singers[17:21])"
   ]
  },
  {
   "cell_type": "code",
   "execution_count": 11,
   "metadata": {
    "collapsed": false
   },
   "outputs": [
    {
     "name": "stdout",
     "output_type": "stream",
     "text": [
      "ban\n",
      "ana\n"
     ]
    }
   ],
   "source": [
    "fruit = \"banana\"\n",
    "print(fruit[:3])\n",
    "print(fruit[3:])"
   ]
  },
  {
   "cell_type": "markdown",
   "metadata": {},
   "source": [
    "** Exercise **\n",
    "```\n",
    "1. What is printed by the following statements?```\n",
    "```python\n",
    "s = \"python rocks\"\n",
    "print(s[3:8])```\n",
    "```\n",
    "(A) python\n",
    "(B) rocks\n",
    "(C) hon r\n",
    "(D) Error, you cannot have two numbers inside the [ ].\n",
    "```"
   ]
  },
  {
   "cell_type": "markdown",
   "metadata": {},
   "source": [
    "```\n",
    "2. What is printed by the following statements?\n",
    "```\n",
    "```python\n",
    "s = \"python rocks\"\n",
    "print(s[7:11] * 3)\n",
    "```\n",
    "```\n",
    "(A) rockrockrock\n",
    "(B) rock rock rock\n",
    "(C) rocksrocksrocks\n",
    "(D) Error, you cannot use repetition with slicing.\n",
    "```"
   ]
  },
  {
   "cell_type": "markdown",
   "metadata": {},
   "source": [
    "## String Comparison"
   ]
  },
  {
   "cell_type": "code",
   "execution_count": 13,
   "metadata": {
    "collapsed": false
   },
   "outputs": [
    {
     "name": "stdout",
     "output_type": "stream",
     "text": [
      "Yes, we have bananas!\n"
     ]
    }
   ],
   "source": [
    "word = \"banana\"\n",
    "if word == \"banana\":\n",
    "    print(\"Yes, we have bananas!\")\n",
    "else:\n",
    "    print(\"Yes, we have NO bananas!\")"
   ]
  },
  {
   "cell_type": "code",
   "execution_count": 14,
   "metadata": {
    "collapsed": false
   },
   "outputs": [
    {
     "name": "stdout",
     "output_type": "stream",
     "text": [
      "Your word, zebra, comes after banana.\n"
     ]
    }
   ],
   "source": [
    "word = \"zebra\"\n",
    "\n",
    "if word < \"banana\":\n",
    "    print(\"Your word, \" + word + \", comes before banana.\")\n",
    "elif word > \"banana\":\n",
    "    print(\"Your word, \" + word + \", comes after banana.\")\n",
    "else:\n",
    "    print(\"Yes, we have no bananas!\")"
   ]
  },
  {
   "cell_type": "code",
   "execution_count": 15,
   "metadata": {
    "collapsed": false
   },
   "outputs": [
    {
     "name": "stdout",
     "output_type": "stream",
     "text": [
      "True\n",
      "False\n",
      "False\n"
     ]
    }
   ],
   "source": [
    "print(\"apple\" < \"banana\")\n",
    "\n",
    "print(\"apple\" == \"Apple\")\n",
    "print(\"apple\" < \"Apple\")"
   ]
  },
  {
   "cell_type": "code",
   "execution_count": 16,
   "metadata": {
    "collapsed": false
   },
   "outputs": [
    {
     "name": "stdout",
     "output_type": "stream",
     "text": [
      "65\n",
      "66\n",
      "53\n",
      "97\n",
      "True\n"
     ]
    }
   ],
   "source": [
    "print(ord(\"A\"))\n",
    "print(ord(\"B\"))\n",
    "print(ord(\"5\"))\n",
    "\n",
    "print(ord(\"a\"))\n",
    "print(\"apple\" > \"Apple\")"
   ]
  },
  {
   "cell_type": "code",
   "execution_count": 17,
   "metadata": {
    "collapsed": false
   },
   "outputs": [
    {
     "name": "stdout",
     "output_type": "stream",
     "text": [
      "A\n",
      "B\n",
      "1\n",
      "5\n",
      "The character for 32 is   !!!\n",
      "32\n"
     ]
    }
   ],
   "source": [
    "print(chr(65))\n",
    "print(chr(66))\n",
    "\n",
    "print(chr(49))\n",
    "print(chr(53))\n",
    "\n",
    "print(\"The character for 32 is\", chr(32), \"!!!\")\n",
    "print(ord(\" \"))"
   ]
  },
  {
   "cell_type": "markdown",
   "metadata": {},
   "source": [
    "** Exercise **\n",
    "```\n",
    "1. Evaluate the following comparison:```\n",
    "```python\n",
    "\"Dog\" < \"Doghouse\"\n",
    "```\n",
    "```\n",
    "(A) True\n",
    "(B) False\n",
    "```"
   ]
  },
  {
   "cell_type": "markdown",
   "metadata": {},
   "source": [
    "```\n",
    "2. Evaluate the following comparison:```\n",
    "```python\n",
    "\"dog\" < \"Dog\"\n",
    "```\n",
    "```\n",
    "(A) True\n",
    "(B) False\n",
    "(C) They are the same word\n",
    "```"
   ]
  },
  {
   "cell_type": "markdown",
   "metadata": {},
   "source": [
    "```\n",
    "3. Evaluate the following comparison:```\n",
    "```python\n",
    "\"dog\" < \"Doghouse\"\n",
    "```\n",
    "```\n",
    "(A) True\n",
    "(B) False\n",
    "```"
   ]
  },
  {
   "cell_type": "markdown",
   "metadata": {},
   "source": [
    "## Strings are Immutable"
   ]
  },
  {
   "cell_type": "code",
   "execution_count": null,
   "metadata": {
    "collapsed": false
   },
   "outputs": [],
   "source": [
    "greeting = \"Hello, world!\"\n",
    "greeting[0] = 'J'            # ERROR!\n",
    "print(greeting)"
   ]
  },
  {
   "cell_type": "markdown",
   "metadata": {},
   "source": [
    "Strings are **immutable**, which means you cannot change an existing string. \n",
    "\n",
    "The best you can do is create a new string that is a variation on the original."
   ]
  },
  {
   "cell_type": "code",
   "execution_count": 20,
   "metadata": {
    "collapsed": false
   },
   "outputs": [
    {
     "name": "stdout",
     "output_type": "stream",
     "text": [
      "Jello, world!\n",
      "Hello, world!\n"
     ]
    }
   ],
   "source": [
    "greeting = \"Hello, world!\"\n",
    "newGreeting = 'J' + greeting[1:]\n",
    "print(newGreeting)\n",
    "print(greeting)            # same as it was"
   ]
  },
  {
   "cell_type": "code",
   "execution_count": 24,
   "metadata": {
    "collapsed": false
   },
   "outputs": [
    {
     "data": {
      "text/plain": [
       "'heggo'"
      ]
     },
     "execution_count": 24,
     "metadata": {},
     "output_type": "execute_result"
    }
   ],
   "source": [
    "s='hello'\n",
    "t=s.replace('l','g')\n",
    "s\n",
    "t"
   ]
  },
  {
   "cell_type": "markdown",
   "metadata": {},
   "source": [
    "** Exercise **\n",
    "```\n",
    "What is printed by the following statements:```\n",
    "```python\n",
    "s = \"Ball\"\n",
    "s[0] = \"C\"\n",
    "print(s)```\n",
    "```\n",
    "(A) Ball\n",
    "(B) Call\n",
    "(C) Error\n",
    "```"
   ]
  },
  {
   "cell_type": "markdown",
   "metadata": {},
   "source": [
    "## Traversal by item\n",
    "\n",
    "A lot of computations involve processing a collection one item at a time. \n",
    "\n",
    "```\n",
    "For strings, often we start at the beginning, \n",
    "\n",
    "    select each character in turn, \n",
    "    \n",
    "        do something to it, \n",
    "            \n",
    "            and continue until the end. \n",
    "```\n",
    "            \n",
    "This pattern of processing is called a **traversal**."
   ]
  },
  {
   "cell_type": "code",
   "execution_count": 25,
   "metadata": {
    "collapsed": false
   },
   "outputs": [
    {
     "name": "stdout",
     "output_type": "stream",
     "text": [
      "Hi Joe.  Please come to my party on Saturday!\n",
      "Hi Amy.  Please come to my party on Saturday!\n",
      "Hi Brad.  Please come to my party on Saturday!\n",
      "Hi Angelina.  Please come to my party on Saturday!\n",
      "Hi Zuki.  Please come to my party on Saturday!\n",
      "Hi Thandi.  Please come to my party on Saturday!\n",
      "Hi Paris.  Please come to my party on Saturday!\n"
     ]
    }
   ],
   "source": [
    "for aname in [\"Joe\", \"Amy\", \"Brad\", \"Angelina\", \"Zuki\", \"Thandi\", \"Paris\"]:\n",
    "    invitation = \"Hi \" + aname + \".  Please come to my party on Saturday!\"\n",
    "    print(invitation)"
   ]
  },
  {
   "cell_type": "code",
   "execution_count": 26,
   "metadata": {
    "collapsed": false
   },
   "outputs": [
    {
     "name": "stdout",
     "output_type": "stream",
     "text": [
      "0\n",
      "1\n",
      "2\n",
      "3\n",
      "4\n",
      "5\n",
      "6\n",
      "7\n",
      "8\n",
      "9\n"
     ]
    }
   ],
   "source": [
    "for avalue in range(10):\n",
    "    print(avalue)"
   ]
  },
  {
   "cell_type": "code",
   "execution_count": 27,
   "metadata": {
    "collapsed": false
   },
   "outputs": [
    {
     "name": "stdout",
     "output_type": "stream",
     "text": [
      "G\n",
      "o\n",
      " \n",
      "S\n",
      "p\n",
      "o\n",
      "t\n",
      " \n",
      "G\n",
      "o\n"
     ]
    }
   ],
   "source": [
    "for achar in \"Go Spot Go\":\n",
    "    print(achar)"
   ]
  },
  {
   "cell_type": "markdown",
   "metadata": {},
   "source": [
    "** Exercise **\n",
    "```\n",
    "1. How many times is the word HELLO printed by the following statements?\n",
    "```\n",
    "```python\n",
    "s = \"python rocks\"\n",
    "for ch in s:\n",
    "    print(\"HELLO\")\n",
    "```\n",
    "```\n",
    "(A) 10\n",
    "(B) 11\n",
    "(C) 12\n",
    "(D) Error, the for statement needs to use the range function.\n",
    "```"
   ]
  },
  {
   "cell_type": "markdown",
   "metadata": {},
   "source": [
    "```\n",
    "2. How many times is the word HELLO printed by the following statements?\n",
    "```\n",
    "```python\n",
    "s = \"python rocks\"\n",
    "for ch in s[3:8]:\n",
    "    print(\"HELLO\")\n",
    "```\n",
    "```\n",
    "(A) 4\n",
    "(B) 5\n",
    "(C) 6\n",
    "(D) Error, the for statement cannot use slice.\n",
    "```"
   ]
  },
  {
   "cell_type": "markdown",
   "metadata": {},
   "source": [
    "## Traversal by index"
   ]
  },
  {
   "cell_type": "code",
   "execution_count": 29,
   "metadata": {
    "collapsed": false
   },
   "outputs": [
    {
     "name": "stdout",
     "output_type": "stream",
     "text": [
      "a\n",
      "p\n",
      "p\n",
      "l\n",
      "e\n"
     ]
    }
   ],
   "source": [
    "fruit = \"apple\"\n",
    "for idx in range(5):\n",
    "    currentChar = fruit[idx]\n",
    "    print(currentChar)"
   ]
  },
  {
   "cell_type": "code",
   "execution_count": 28,
   "metadata": {
    "collapsed": false
   },
   "outputs": [
    {
     "data": {
      "text/html": [
       "\n",
       "        <iframe\n",
       "            width=\"100%\"\n",
       "            height=\"450\"\n",
       "            src=\"http://pythontutor.com/iframe-embed.html#code=fruit%20%3D%20%22apple%22%0Afor%20idx%20in%20range(5%29%3A%0A%20%20%20%20currentChar%20%3D%20fruit%5Bidx%5D%0A%20%20%20%20print(currentChar%29&codeDivHeight=400&codeDivWidth=350&cumulative=false&curInstr=0&heapPrimitives=false&origin=opt-frontend.js&py=3&rawInputLstJSON=%5B%5D&textReferences=false\"\n",
       "            frameborder=\"0\"\n",
       "            allowfullscreen\n",
       "        ></iframe>\n",
       "        "
      ],
      "text/plain": [
       "<IPython.lib.display.IFrame at 0x106b1c518>"
      ]
     },
     "execution_count": 28,
     "metadata": {},
     "output_type": "execute_result"
    }
   ],
   "source": [
    "from IPython.display import IFrame\n",
    "IFrame(\"http://pythontutor.com/iframe-embed.html#code=fruit%20%3D%20%22apple%22%0Afor%20idx%20in%20range(5%29%3A%0A%20%20%20%20currentChar%20%3D%20fruit%5Bidx%5D%0A%20%20%20%20print(currentChar%29&codeDivHeight=400&codeDivWidth=350&cumulative=false&curInstr=0&heapPrimitives=false&origin=opt-frontend.js&py=3&rawInputLstJSON=%5B%5D&textReferences=false\", width='100%', height=450)"
   ]
  },
  {
   "cell_type": "code",
   "execution_count": 30,
   "metadata": {
    "collapsed": false
   },
   "outputs": [
    {
     "name": "stdout",
     "output_type": "stream",
     "text": [
      "a\n",
      "p\n",
      "p\n",
      "l\n",
      "e\n"
     ]
    }
   ],
   "source": [
    "fruit = \"apple\"\n",
    "for idx in range(len(fruit)):\n",
    "    print(fruit[idx])"
   ]
  },
  {
   "cell_type": "code",
   "execution_count": 32,
   "metadata": {
    "collapsed": false
   },
   "outputs": [
    {
     "name": "stdout",
     "output_type": "stream",
     "text": [
      "e\n",
      "l\n",
      "p\n",
      "p\n",
      "a\n"
     ]
    }
   ],
   "source": [
    "fruit = \"apple\"\n",
    "for idx in range(len(fruit)-1, -1, -1):\n",
    "    print(fruit[idx])"
   ]
  },
  {
   "cell_type": "code",
   "execution_count": 31,
   "metadata": {
    "collapsed": false
   },
   "outputs": [
    {
     "data": {
      "text/html": [
       "\n",
       "        <iframe\n",
       "            width=\"100%\"\n",
       "            height=\"450\"\n",
       "            src=\"http://pythontutor.com/iframe-embed.html#code=fruit%20%3D%20%22apple%22%0Afor%20idx%20in%20range(len(fruit%29-1,%20-1,%20-1%29%3A%0A%20%20%20%20print(fruit%5Bidx%5D%29&codeDivHeight=400&codeDivWidth=350&cumulative=false&curInstr=0&heapPrimitives=false&origin=opt-frontend.js&py=3&rawInputLstJSON=%5B%5D&textReferences=false\"\n",
       "            frameborder=\"0\"\n",
       "            allowfullscreen\n",
       "        ></iframe>\n",
       "        "
      ],
      "text/plain": [
       "<IPython.lib.display.IFrame at 0x106b0f0f0>"
      ]
     },
     "execution_count": 31,
     "metadata": {},
     "output_type": "execute_result"
    }
   ],
   "source": [
    "from IPython.display import IFrame\n",
    "IFrame(\"http://pythontutor.com/iframe-embed.html#code=fruit%20%3D%20%22apple%22%0Afor%20idx%20in%20range(len(fruit%29-1,%20-1,%20-1%29%3A%0A%20%20%20%20print(fruit%5Bidx%5D%29&codeDivHeight=400&codeDivWidth=350&cumulative=false&curInstr=0&heapPrimitives=false&origin=opt-frontend.js&py=3&rawInputLstJSON=%5B%5D&textReferences=false\", width='100%', height=450)"
   ]
  },
  {
   "cell_type": "markdown",
   "metadata": {},
   "source": [
    "** Exercise **\n",
    "```\n",
    "How many times is the letter o printed by the following statements?\n",
    "```\n",
    "```python\n",
    "s = \"python rocks\"\n",
    "for idx in range(len(s)):\n",
    "    if idx % 2 == 0:\n",
    "        print(s[idx])\n",
    "```\n",
    "```\n",
    "(A) 0\n",
    "(B) 1\n",
    "(C) 2\n",
    "(D) Error, the for statement cannot have an if inside.\n",
    "```"
   ]
  },
  {
   "cell_type": "markdown",
   "metadata": {},
   "source": [
    "## Traversal and the while Loop"
   ]
  },
  {
   "cell_type": "code",
   "execution_count": 33,
   "metadata": {
    "collapsed": false
   },
   "outputs": [
    {
     "name": "stdout",
     "output_type": "stream",
     "text": [
      "a\n",
      "p\n",
      "p\n",
      "l\n",
      "e\n"
     ]
    }
   ],
   "source": [
    "fruit = \"apple\"\n",
    "\n",
    "position = 0\n",
    "while position < len(fruit):\n",
    "    print(fruit[position])\n",
    "    position = position + 1"
   ]
  },
  {
   "cell_type": "code",
   "execution_count": 34,
   "metadata": {
    "collapsed": false
   },
   "outputs": [
    {
     "data": {
      "text/html": [
       "\n",
       "        <iframe\n",
       "            width=\"100%\"\n",
       "            height=\"450\"\n",
       "            src=\"http://pythontutor.com/iframe-embed.html#code=fruit%20%3D%20%22apple%22%0A%0Aposition%20%3D%200%0Awhile%20position%20%3C%20len(fruit%29%3A%0A%20%20%20%20print(fruit%5Bposition%5D%29%0A%20%20%20%20position%20%3D%20position%20%2B%201&codeDivHeight=400&codeDivWidth=350&cumulative=false&curInstr=0&heapPrimitives=false&origin=opt-frontend.js&py=3&rawInputLstJSON=%5B%5D&textReferences=false\"\n",
       "            frameborder=\"0\"\n",
       "            allowfullscreen\n",
       "        ></iframe>\n",
       "        "
      ],
      "text/plain": [
       "<IPython.lib.display.IFrame at 0x106b1cc18>"
      ]
     },
     "execution_count": 34,
     "metadata": {},
     "output_type": "execute_result"
    }
   ],
   "source": [
    "from IPython.display import IFrame\n",
    "IFrame(\"http://pythontutor.com/iframe-embed.html#code=fruit%20%3D%20%22apple%22%0A%0Aposition%20%3D%200%0Awhile%20position%20%3C%20len(fruit%29%3A%0A%20%20%20%20print(fruit%5Bposition%5D%29%0A%20%20%20%20position%20%3D%20position%20%2B%201&codeDivHeight=400&codeDivWidth=350&cumulative=false&curInstr=0&heapPrimitives=false&origin=opt-frontend.js&py=3&rawInputLstJSON=%5B%5D&textReferences=false\", width='100%', height=450)"
   ]
  },
  {
   "cell_type": "markdown",
   "metadata": {},
   "source": [
    "** Exercise **\n",
    "```\n",
    "How many times is the letter o printed by the following statements?\n",
    "```\n",
    "```python\n",
    "s = \"python rocks\"\n",
    "idx = 1\n",
    "while idx < len(s):\n",
    "    print(s[idx])\n",
    "    idx = idx + 2\n",
    "```\n",
    "```\n",
    "(A) 0\n",
    "(B) 1\n",
    "(C) 2\n",
    "```"
   ]
  },
  {
   "cell_type": "markdown",
   "metadata": {},
   "source": [
    "## The `in` and `not in` operators\n",
    "\n",
    "The `in` operator tests if one string is a substring of another."
   ]
  },
  {
   "cell_type": "code",
   "execution_count": 36,
   "metadata": {
    "collapsed": false
   },
   "outputs": [
    {
     "name": "stdout",
     "output_type": "stream",
     "text": [
      "True\n",
      "True\n",
      "True\n",
      "True\n"
     ]
    }
   ],
   "source": [
    "print('a' in 'a')\n",
    "print('apple' in 'apple')\n",
    "print('' in 'a')\n",
    "print('' in 'apple')"
   ]
  },
  {
   "cell_type": "code",
   "execution_count": 35,
   "metadata": {
    "collapsed": false
   },
   "outputs": [
    {
     "name": "stdout",
     "output_type": "stream",
     "text": [
      "True\n"
     ]
    }
   ],
   "source": [
    "print('x' not in 'apple')"
   ]
  },
  {
   "cell_type": "markdown",
   "metadata": {},
   "source": [
    "## The Accumulator Pattern with Strings"
   ]
  },
  {
   "cell_type": "code",
   "execution_count": 37,
   "metadata": {
    "collapsed": false
   },
   "outputs": [
    {
     "name": "stdout",
     "output_type": "stream",
     "text": [
      "cmpsc\n",
      "bfjps\n"
     ]
    }
   ],
   "source": [
    "def removeVowels(s):\n",
    "    vowels = \"aeiouAEIOU\"\n",
    "    sWithoutVowels = \"\"\n",
    "    for eachChar in s:\n",
    "        if eachChar not in vowels:\n",
    "            sWithoutVowels = sWithoutVowels + eachChar\n",
    "    return sWithoutVowels\n",
    "\n",
    "print(removeVowels(\"compsci\"))\n",
    "print(removeVowels(\"aAbEefIijOopUus\"))"
   ]
  },
  {
   "cell_type": "markdown",
   "metadata": {},
   "source": [
    "Alternatives to: `if eachChar not in vowels`\n",
    "\n",
    "```python\n",
    "if eachChar != 'a'  and eachChar != 'e'  and eachChar != 'i'  and\n",
    "   eachChar != 'o'  and eachChar != 'u'  and eachChar != 'A'  and\n",
    "   eachChar != 'E'  and eachChar != 'I'  and eachChar != 'O'  and\n",
    "   eachChar != 'U':\n",
    "\n",
    "     sWithoutVowels = sWithoutVowels + eachChar\n",
    "```"
   ]
  },
  {
   "cell_type": "code",
   "execution_count": 39,
   "metadata": {
    "collapsed": false
   },
   "outputs": [
    {
     "data": {
      "text/html": [
       "\n",
       "        <iframe\n",
       "            width=\"100%\"\n",
       "            height=\"450\"\n",
       "            src=\"http://pythontutor.com/iframe-embed.html#code=def%20removeVowels(s%29%3A%0A%20%20%20%20vowels%20%3D%20%22aeiouAEIOU%22%0A%20%20%20%20sWithoutVowels%20%3D%20%22%22%0A%20%20%20%20for%20eachChar%20in%20s%3A%0A%20%20%20%20%20%20%20%20if%20eachChar%20not%20in%20vowels%3A%0A%20%20%20%20%20%20%20%20%20%20%20%20sWithoutVowels%20%3D%20sWithoutVowels%20%2B%20eachChar%0A%20%20%20%20return%20sWithoutVowels%0A%0Aprint(removeVowels(%22compsci%22%29%29%0Aprint(removeVowels(%22aAbEefIijOopUus%22%29%29&codeDivHeight=400&codeDivWidth=350&cumulative=false&curInstr=0&heapPrimitives=false&origin=opt-frontend.js&py=3&rawInputLstJSON=%5B%5D&textReferences=false\"\n",
       "            frameborder=\"0\"\n",
       "            allowfullscreen\n",
       "        ></iframe>\n",
       "        "
      ],
      "text/plain": [
       "<IPython.lib.display.IFrame at 0x106b28780>"
      ]
     },
     "execution_count": 39,
     "metadata": {},
     "output_type": "execute_result"
    }
   ],
   "source": [
    "from IPython.display import IFrame\n",
    "IFrame(\"http://pythontutor.com/iframe-embed.html#code=def%20removeVowels(s%29%3A%0A%20%20%20%20vowels%20%3D%20%22aeiouAEIOU%22%0A%20%20%20%20sWithoutVowels%20%3D%20%22%22%0A%20%20%20%20for%20eachChar%20in%20s%3A%0A%20%20%20%20%20%20%20%20if%20eachChar%20not%20in%20vowels%3A%0A%20%20%20%20%20%20%20%20%20%20%20%20sWithoutVowels%20%3D%20sWithoutVowels%20%2B%20eachChar%0A%20%20%20%20return%20sWithoutVowels%0A%0Aprint(removeVowels(%22compsci%22%29%29%0Aprint(removeVowels(%22aAbEefIijOopUus%22%29%29&codeDivHeight=400&codeDivWidth=350&cumulative=false&curInstr=0&heapPrimitives=false&origin=opt-frontend.js&py=3&rawInputLstJSON=%5B%5D&textReferences=false\", width='100%', height=450)"
   ]
  },
  {
   "cell_type": "markdown",
   "metadata": {},
   "source": [
    "** Exercise **\n",
    "```\n",
    "What is printed by the following statements:\n",
    "```\n",
    "```python\n",
    "s = \"ball\"\n",
    "r = \"\"\n",
    "for item in s:\n",
    "    r = item.upper() + r\n",
    "print(r)\n",
    "```\n",
    "```\n",
    "(A) Ball\n",
    "(B) BALL\n",
    "(C) LLAB\n",
    "```"
   ]
  },
  {
   "cell_type": "markdown",
   "metadata": {},
   "source": [
    "## Looping and Counting"
   ]
  },
  {
   "cell_type": "code",
   "execution_count": 40,
   "metadata": {
    "collapsed": false
   },
   "outputs": [
    {
     "name": "stdout",
     "output_type": "stream",
     "text": [
      "3\n"
     ]
    }
   ],
   "source": [
    "def count(text, aChar):\n",
    "    lettercount = 0\n",
    "    for c in text:\n",
    "        if c == aChar:\n",
    "            lettercount = lettercount + 1\n",
    "    return lettercount\n",
    "\n",
    "print(count(\"banana\",\"a\"))"
   ]
  },
  {
   "cell_type": "markdown",
   "metadata": {},
   "source": [
    "## A find function"
   ]
  },
  {
   "cell_type": "code",
   "execution_count": 41,
   "metadata": {
    "collapsed": false
   },
   "outputs": [
    {
     "name": "stdout",
     "output_type": "stream",
     "text": [
      "3\n",
      "0\n",
      "6\n",
      "-1\n"
     ]
    }
   ],
   "source": [
    "def find(astring, achar):\n",
    "    \"\"\"\n",
    "    Find and return the index of achar in astring.\n",
    "    Return -1 if achar does not occur in astring.\n",
    "    \"\"\"\n",
    "    ix = 0\n",
    "    found = False\n",
    "    while ix < len(astring) and not found:\n",
    "        if astring[ix] == achar:\n",
    "            found = True\n",
    "        else:\n",
    "            ix = ix + 1\n",
    "    if found:\n",
    "        return ix\n",
    "    else:\n",
    "        return -1\n",
    "\n",
    "print(find(\"Compsci\", \"p\"))\n",
    "print(find(\"Compsci\", \"C\"))\n",
    "print(find(\"Compsci\", \"i\"))\n",
    "print(find(\"Compsci\", \"x\"))"
   ]
  },
  {
   "cell_type": "code",
   "execution_count": 43,
   "metadata": {
    "collapsed": false
   },
   "outputs": [
    {
     "name": "stdout",
     "output_type": "stream",
     "text": [
      "3\n",
      "0\n",
      "6\n",
      "-1\n"
     ]
    }
   ],
   "source": [
    "print(\"Compsci\".find(\"p\"))\n",
    "print(\"Compsci\".find(\"C\"))\n",
    "print(\"Compsci\".find(\"i\"))\n",
    "print(\"Compsci\".find(\"x\"))"
   ]
  },
  {
   "cell_type": "markdown",
   "metadata": {},
   "source": [
    "## Optional parameters"
   ]
  },
  {
   "cell_type": "code",
   "execution_count": 44,
   "metadata": {
    "collapsed": false
   },
   "outputs": [
    {
     "name": "stdout",
     "output_type": "stream",
     "text": [
      "3\n"
     ]
    }
   ],
   "source": [
    "def find2(astring, achar, start):\n",
    "    \"\"\"\n",
    "    Find and return the index of achar in astring.\n",
    "    Return -1 if achar does not occur in astring.\n",
    "    \"\"\"\n",
    "    ix = start\n",
    "    found = False\n",
    "    while ix < len(astring) and not found:\n",
    "        if astring[ix] == achar:\n",
    "            found = True\n",
    "        else:\n",
    "            ix = ix + 1\n",
    "    if found:\n",
    "        return ix\n",
    "    else:\n",
    "        return -1\n",
    "\n",
    "print(find2('banana', 'a', 2))"
   ]
  },
  {
   "cell_type": "code",
   "execution_count": 45,
   "metadata": {
    "collapsed": false
   },
   "outputs": [
    {
     "data": {
      "text/plain": [
       "3"
      ]
     },
     "execution_count": 45,
     "metadata": {},
     "output_type": "execute_result"
    }
   ],
   "source": [
    "'banana'.find('a',2)"
   ]
  },
  {
   "cell_type": "code",
   "execution_count": 46,
   "metadata": {
    "collapsed": false
   },
   "outputs": [
    {
     "name": "stdout",
     "output_type": "stream",
     "text": [
      "3\n"
     ]
    }
   ],
   "source": [
    "def find3(astring, achar, start=0):\n",
    "    \"\"\"\n",
    "    Find and return the index of achar in astring.\n",
    "    Return -1 if achar does not occur in astring.\n",
    "    \"\"\"\n",
    "    ix = start\n",
    "    found = False\n",
    "    while ix < len(astring) and not found:\n",
    "        if astring[ix] == achar:\n",
    "            found = True\n",
    "        else:\n",
    "            ix = ix + 1\n",
    "    if found:\n",
    "        return ix\n",
    "    else:\n",
    "        return -1\n",
    "\n",
    "print(find3('banana', 'a', 2))"
   ]
  },
  {
   "cell_type": "code",
   "execution_count": 47,
   "metadata": {
    "collapsed": false
   },
   "outputs": [
    {
     "name": "stdout",
     "output_type": "stream",
     "text": [
      "7\n",
      "7\n",
      "13\n",
      "-1\n",
      "44\n"
     ]
    }
   ],
   "source": [
    "def find4(astring, achar, start=0, end=None):\n",
    "    \"\"\"\n",
    "    Find and return the index of achar in astring.\n",
    "    Return -1 if achar does not occur in astring.\n",
    "    \"\"\"\n",
    "    ix = start\n",
    "    if end == None:\n",
    "        end = len(astring)\n",
    "\n",
    "    found = False\n",
    "    while ix < end and not found:\n",
    "        if astring[ix] == achar:\n",
    "            found = True\n",
    "        else:\n",
    "            ix = ix + 1\n",
    "    if found:\n",
    "        return ix\n",
    "    else:\n",
    "        return -1\n",
    "\n",
    "ss = \"Python strings have some interesting methods.\"\n",
    "\n",
    "print(find4(ss, 's'))\n",
    "print(find4(ss, 's', 7))\n",
    "print(find4(ss, 's', 8))\n",
    "print(find4(ss, 's', 8, 13))\n",
    "print(find4(ss, '.'))"
   ]
  },
  {
   "cell_type": "code",
   "execution_count": 49,
   "metadata": {
    "collapsed": false
   },
   "outputs": [
    {
     "name": "stdout",
     "output_type": "stream",
     "text": [
      "7\n",
      "7\n",
      "13\n",
      "-1\n",
      "44\n"
     ]
    }
   ],
   "source": [
    "ss = \"Python strings have some interesting methods.\"\n",
    "print(ss.find('s'))\n",
    "print(ss.find('s', 7))\n",
    "print(ss.find('s', 8))\n",
    "print(ss.find('s', 8, 13))\n",
    "print(ss.find('.'))"
   ]
  },
  {
   "cell_type": "markdown",
   "metadata": {},
   "source": [
    "## Character classification"
   ]
  },
  {
   "cell_type": "code",
   "execution_count": 52,
   "metadata": {
    "collapsed": false
   },
   "outputs": [
    {
     "name": "stdout",
     "output_type": "stream",
     "text": [
      "abcdefghijklmnopqrstuvwxyz\n",
      "ABCDEFGHIJKLMNOPQRSTUVWXYZ\n",
      "0123456789\n",
      "!\"#$%&'()*+,-./:;<=>?@[\\]^_`{|}~\n",
      " \t\n",
      "\r",
      "\u000b",
      "\f",
      "\n"
     ]
    }
   ],
   "source": [
    "import string\n",
    "\n",
    "print(string.ascii_lowercase)\n",
    "print(string.ascii_uppercase)\n",
    "print(string.digits)\n",
    "print(string.punctuation)\n",
    "print(string.whitespace)"
   ]
  },
  {
   "cell_type": "code",
   "execution_count": 57,
   "metadata": {
    "collapsed": false
   },
   "outputs": [
    {
     "name": "stdout",
     "output_type": "stream",
     "text": [
      "True\n",
      "True\n",
      "True\n",
      "True\n",
      "True\n"
     ]
    }
   ],
   "source": [
    "print('ab'.isalpha())\n",
    "print('123'.isdigit())\n",
    "print('str'.isidentifier())\n",
    "print(' '.isspace())\n",
    "print('ab'.islower())"
   ]
  },
  {
   "cell_type": "markdown",
   "metadata": {},
   "source": [
    "## Join, replace, partition,  split"
   ]
  },
  {
   "cell_type": "code",
   "execution_count": 61,
   "metadata": {
    "collapsed": false
   },
   "outputs": [
    {
     "data": {
      "text/plain": [
       "'We, Are, Friends'"
      ]
     },
     "execution_count": 61,
     "metadata": {},
     "output_type": "execute_result"
    }
   ],
   "source": [
    "', '.join(['We','Are','Friends'])"
   ]
  },
  {
   "cell_type": "code",
   "execution_count": 62,
   "metadata": {
    "collapsed": false
   },
   "outputs": [
    {
     "data": {
      "text/plain": [
       "'Hallo'"
      ]
     },
     "execution_count": 62,
     "metadata": {},
     "output_type": "execute_result"
    }
   ],
   "source": [
    "'Hello'.replace('e', 'a')"
   ]
  },
  {
   "cell_type": "code",
   "execution_count": 66,
   "metadata": {
    "collapsed": false
   },
   "outputs": [
    {
     "data": {
      "text/plain": [
       "('We', ' ', 'are friends')"
      ]
     },
     "execution_count": 66,
     "metadata": {},
     "output_type": "execute_result"
    }
   ],
   "source": [
    "'We are friends'.partition(' ')"
   ]
  },
  {
   "cell_type": "code",
   "execution_count": 67,
   "metadata": {
    "collapsed": false
   },
   "outputs": [
    {
     "data": {
      "text/plain": [
       "('We are', ' ', 'friends')"
      ]
     },
     "execution_count": 67,
     "metadata": {},
     "output_type": "execute_result"
    }
   ],
   "source": [
    "'We are friends'.rpartition(' ')"
   ]
  },
  {
   "cell_type": "code",
   "execution_count": 76,
   "metadata": {
    "collapsed": false
   },
   "outputs": [
    {
     "data": {
      "text/plain": [
       "['We', 'are', 'friends']"
      ]
     },
     "execution_count": 76,
     "metadata": {},
     "output_type": "execute_result"
    }
   ],
   "source": [
    "'We are friends'.split(' ')"
   ]
  },
  {
   "cell_type": "code",
   "execution_count": null,
   "metadata": {
    "collapsed": false
   },
   "outputs": [],
   "source": [
    "name_value = input('input the name and value in one line, separated by space: ')\n",
    "name, value = name_value.split(' ')\n",
    "print(name, value)"
   ]
  },
  {
   "cell_type": "code",
   "execution_count": 79,
   "metadata": {
    "collapsed": false
   },
   "outputs": [
    {
     "data": {
      "text/plain": [
       "['1', '2', '3']"
      ]
     },
     "execution_count": 79,
     "metadata": {},
     "output_type": "execute_result"
    }
   ],
   "source": [
    "print('1 2 3'.split())\n",
    "['1', '2', '3']\n",
    "print('1 2 3'.split(maxsplit=1))\n",
    "['1', '2 3']\n",
    "print('   1   2   3   '.split())"
   ]
  },
  {
   "cell_type": "code",
   "execution_count": 81,
   "metadata": {
    "collapsed": false
   },
   "outputs": [
    {
     "name": "stdout",
     "output_type": "stream",
     "text": [
      "input the name and value in one line, separated by space: a,  b\n",
      "a, b\n"
     ]
    }
   ],
   "source": [
    "name_value = input('input the name and value in one line, separated by space: ')\n",
    "name, value = name_value.split()\n",
    "print(name, value)"
   ]
  },
  {
   "cell_type": "markdown",
   "metadata": {},
   "source": [
    "** line boundaries **\n",
    "\n",
    "Representation\t| Description\n",
    "----------------|-------------\n",
    "`\\n`\t| Line Feed\n",
    "`\\r`\t| Carriage Return\n",
    "`\\r\\n`\t| Carriage Return + Line Feed"
   ]
  },
  {
   "cell_type": "code",
   "execution_count": 86,
   "metadata": {
    "collapsed": false
   },
   "outputs": [
    {
     "name": "stdout",
     "output_type": "stream",
     "text": [
      "['ab c', '', 'de fg', 'kl']\n",
      "['ab c\\n', '\\n', 'de fg\\r', 'kl\\r\\n']\n",
      "[]\n",
      "['One line']\n",
      "['Two lines', '']\n"
     ]
    }
   ],
   "source": [
    "print('ab c\\n\\nde fg\\rkl\\r\\n'.splitlines())\n",
    "print('ab c\\n\\nde fg\\rkl\\r\\n'.splitlines(keepends=True))\n",
    "print(\"\".splitlines())\n",
    "print(\"One line\\n\".splitlines())\n",
    "print('Two lines\\n'.split('\\n'))"
   ]
  },
  {
   "cell_type": "markdown",
   "metadata": {},
   "source": [
    "## String formating: old\n",
    "\n",
    "```python\n",
    "format % values\n",
    "```\n",
    "format: string\n",
    "\n",
    "values: a single non-tuple value, or a tuple with exactly the number of items specified by the format string, or a single mapping object (for example, a dictionary)"
   ]
  },
  {
   "cell_type": "code",
   "execution_count": 95,
   "metadata": {
    "collapsed": false
   },
   "outputs": [
    {
     "name": "stdout",
     "output_type": "stream",
     "text": [
      "I love basketball\n",
      "I love basketball in 2016,   200.56\n",
      "Python has 002 quote types.\n"
     ]
    }
   ],
   "source": [
    "print('I love %s' % 'basketball')\n",
    "print('I love %s in %d, %8.2f' % ('basketball', 2016, 200.56))\n",
    "print('%(language)s has %(number)03d quote types.' %\n",
    "           {'language': \"Python\", \"number\": 2})"
   ]
  },
  {
   "cell_type": "markdown",
   "metadata": {},
   "source": [
    "## String formating: new\n",
    "\n",
    "```python\n",
    "str.format(*args, **kwargs)\n",
    "```"
   ]
  },
  {
   "cell_type": "code",
   "execution_count": 107,
   "metadata": {
    "collapsed": false
   },
   "outputs": [
    {
     "name": "stdout",
     "output_type": "stream",
     "text": [
      "I love basketball\n",
      "I love basketball in 2016,   200.56\n",
      "Python has 002 quote types.\n"
     ]
    }
   ],
   "source": [
    "print('I love {}'.format('basketball'))\n",
    "print('I love {} in {:d}, {:>8.2f}'.format('basketball', 2016, 200.56))\n",
    "print('{language} has {number:03d} quote types.'.format(\n",
    "           **{'language': \"Python\", \"number\": 2}))"
   ]
  },
  {
   "cell_type": "code",
   "execution_count": 109,
   "metadata": {
    "collapsed": false
   },
   "outputs": [
    {
     "name": "stdout",
     "output_type": "stream",
     "text": [
      "a, b, c\n",
      "a, b, c\n",
      "c, b, a\n",
      "c, b, a\n",
      "abracadabra\n"
     ]
    }
   ],
   "source": [
    "print('{0}, {1}, {2}'.format('a', 'b', 'c'))\n",
    "print('{}, {}, {}'.format('a', 'b', 'c'))\n",
    "print('{2}, {1}, {0}'.format('a', 'b', 'c'))\n",
    "print('{2}, {1}, {0}'.format(*'abc'))\n",
    "print('{0}{1}{0}'.format('abra', 'cad'))"
   ]
  },
  {
   "cell_type": "code",
   "execution_count": 111,
   "metadata": {
    "collapsed": false
   },
   "outputs": [
    {
     "name": "stdout",
     "output_type": "stream",
     "text": [
      "Coordinates: 37.24N, -115.81W\n",
      "Coordinates: 37.24N, -115.81W\n"
     ]
    }
   ],
   "source": [
    "print('Coordinates: {latitude}, {longitude}'.format(\n",
    "    latitude='37.24N', longitude='-115.81W'))\n",
    "\n",
    "coord = {'latitude': '37.24N', 'longitude': '-115.81W'}\n",
    "print('Coordinates: {latitude}, {longitude}'.format(**coord))"
   ]
  },
  {
   "cell_type": "code",
   "execution_count": 113,
   "metadata": {
    "collapsed": false
   },
   "outputs": [
    {
     "name": "stdout",
     "output_type": "stream",
     "text": [
      "left aligned                  \n",
      "                 right aligned\n",
      "           centered           \n",
      "***********centered***********\n",
      "###########centered###########\n"
     ]
    }
   ],
   "source": [
    "print('{:<30}'.format('left aligned'))\n",
    "print('{:>30}'.format('right aligned'))\n",
    "print('{:^30}'.format('centered'))\n",
    "print('{:*^30}'.format('centered'))\n",
    "print('{:#^30}'.format('centered'))"
   ]
  },
  {
   "cell_type": "code",
   "execution_count": 114,
   "metadata": {
    "collapsed": false
   },
   "outputs": [
    {
     "data": {
      "text/plain": [
       "'int: 42;  hex: 2a;  oct: 52;  bin: 101010'"
      ]
     },
     "execution_count": 114,
     "metadata": {},
     "output_type": "execute_result"
    }
   ],
   "source": [
    "# format also supports binary numbers\n",
    "\"int: {0:d};  hex: {0:x};  oct: {0:o};  bin: {0:b}\".format(42)"
   ]
  },
  {
   "cell_type": "code",
   "execution_count": 115,
   "metadata": {
    "collapsed": false
   },
   "outputs": [
    {
     "data": {
      "text/plain": [
       "'int: 42;  hex: 0x2a;  oct: 0o52;  bin: 0b101010'"
      ]
     },
     "execution_count": 115,
     "metadata": {},
     "output_type": "execute_result"
    }
   ],
   "source": [
    "# with 0x, 0o, or 0b as prefix:\n",
    "\"int: {0:d};  hex: {0:#x};  oct: {0:#o};  bin: {0:#b}\".format(42)"
   ]
  },
  {
   "cell_type": "code",
   "execution_count": 117,
   "metadata": {
    "collapsed": false
   },
   "outputs": [
    {
     "data": {
      "text/plain": [
       "'1,234,567,890'"
      ]
     },
     "execution_count": 117,
     "metadata": {},
     "output_type": "execute_result"
    }
   ],
   "source": [
    "# Using the comma as a thousands separator\n",
    "'{:,}'.format(1234567890)"
   ]
  },
  {
   "cell_type": "code",
   "execution_count": 118,
   "metadata": {
    "collapsed": false
   },
   "outputs": [
    {
     "data": {
      "text/plain": [
       "'Correct answers: 86.36%'"
      ]
     },
     "execution_count": 118,
     "metadata": {},
     "output_type": "execute_result"
    }
   ],
   "source": [
    "# Expressing a percentage:\n",
    "\n",
    "points = 19\n",
    "total = 22\n",
    "'Correct answers: {:.2%}'.format(points/total)"
   ]
  },
  {
   "cell_type": "code",
   "execution_count": 119,
   "metadata": {
    "collapsed": false
   },
   "outputs": [
    {
     "data": {
      "text/plain": [
       "'2010-07-04 12:15:58'"
      ]
     },
     "execution_count": 119,
     "metadata": {},
     "output_type": "execute_result"
    }
   ],
   "source": [
    "# Using type-specific formatting:\n",
    "\n",
    "import datetime\n",
    "d = datetime.datetime(2010, 7, 4, 12, 15, 58)\n",
    "'{:%Y-%m-%d %H:%M:%S}'.format(d)"
   ]
  },
  {
   "cell_type": "markdown",
   "metadata": {},
   "source": [
    "## Summary\n",
    "\n",
    "**`indexing ([])`**\n",
    "\n",
    "Access a single character in a string using its position (starting from 0). Example: `'This'[2]` evaluates to `'i'`.\n",
    "\n",
    "**length function (len)**\n",
    "\n",
    "Returns the number of characters in a string. Example: `len('happy')` evaluates to `5`.\n",
    "\n",
    "**`for` loop traversal (for)**\n",
    "\n",
    "Traversing a string means accessing each character in the string, one at a time. For example, the following for loop:\n",
    "\n",
    "```python\n",
    "for ix in 'Example':\n",
    "    ...\n",
    "```\n",
    "executes the body of the loop 7 times with different values of `ix` each time.\n",
    "\n",
    "**slicing (`[:]`)**\n",
    "\n",
    "A slice is a substring of a string. Example: `'bananas and cream'[3:6]` evaluates to `ana` (so does `'bananas and cream'[1:4]`).\n",
    "\n",
    "**string comparison `(>, <, >=, <=, ==, !=)`**\n",
    "\n",
    "The six common comparision operators work with strings, evaluating according to lexigraphical order. Examples: `'apple' < 'banana'` evaluates to `True`. `'Zeta' < 'Appricot'` evaluates to `False`. `'Zebra' <= 'aardvark'` evaluates to `True` because all upper case letters precede lower case letters.\n",
    "\n",
    "**`in` and `not in` operator (in, not in)**\n",
    "\n",
    "The `in` operator tests whether one string is contained inside another string. Examples: `'heck' in \"I'll be checking for you.\"` evaluates to `True`. `'cheese' in \"I'll be checking for you.\"` evaluates to `False`."
   ]
  },
  {
   "cell_type": "code",
   "execution_count": null,
   "metadata": {
    "collapsed": true
   },
   "outputs": [],
   "source": []
  }
 ],
 "metadata": {
  "anaconda-cloud": {},
  "kernelspec": {
   "display_name": "Python [default]",
   "language": "python",
   "name": "python3"
  },
  "language_info": {
   "codemirror_mode": {
    "name": "ipython",
    "version": 3
   },
   "file_extension": ".py",
   "mimetype": "text/x-python",
   "name": "python",
   "nbconvert_exporter": "python",
   "pygments_lexer": "ipython3",
   "version": "3.5.2"
  }
 },
 "nbformat": 4,
 "nbformat_minor": 1
}
