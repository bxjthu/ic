{
 "cells": [
  {
   "cell_type": "markdown",
   "metadata": {
    "nbpresent": {
     "id": "f38d5314-a572-46ba-890c-b7908cfd41a9"
    }
   },
   "source": [
    "# 9. Strings"
   ]
  },
  {
   "cell_type": "markdown",
   "metadata": {
    "nbpresent": {
     "id": "3c8e9218-a3d1-4656-9fcd-c82936a6750e"
    }
   },
   "source": [
    "## A Collection Data Type\n",
    "\n",
    "- Simple or primitive data types: `int, float, bool`\n",
    "\n",
    "    - cannot be broken down\n",
    "\n",
    "- Collection data types: `str, list`\n",
    "\n",
    "    - are made up of smaller pieces\n",
    "    \n",
    "<div class=\"alert alert-info\">\n",
    "Types that are comprised of smaller pieces are called collection data types.\n",
    "</div>"
   ]
  },
  {
   "cell_type": "markdown",
   "metadata": {
    "nbpresent": {
     "id": "bd5bdbb9-d0d4-42e4-8ce6-b7644575f6f9"
    }
   },
   "source": [
    "** String: sequential collection of characters **\n",
    "\n",
    "The individual characters that make up the string are assumed to be in a particular order from left to right.\n",
    "\n",
    "Empy string:  \n",
    "```python\n",
    "''\n",
    "``` \n",
    "or \n",
    "```python\n",
    "\"\"\n",
    "```"
   ]
  },
  {
   "cell_type": "markdown",
   "metadata": {
    "nbpresent": {
     "id": "985554c5-03a0-4530-a563-040135ad41bc"
    }
   },
   "source": [
    "## Operations on Strings\n",
    "\n",
    "illegal string ops (message is str):\n",
    "\n",
    "```python\n",
    "message - 1\n",
    "\"Hello\" / 123\n",
    "message * \"Hello\"\n",
    "\"15\" + 2\n",
    "```"
   ]
  },
  {
   "cell_type": "markdown",
   "metadata": {
    "nbpresent": {
     "id": "631d3b6a-68af-45ce-b97a-8a5cfd27d78b"
    }
   },
   "source": [
    "String ops: `string + string`, `string*integer`"
   ]
  },
  {
   "cell_type": "code",
   "execution_count": null,
   "metadata": {
    "collapsed": false,
    "nbpresent": {
     "id": "7d9bcc22-4072-4786-aae5-676d33934b09"
    }
   },
   "outputs": [],
   "source": [
    "fruit = \"banana\"\n",
    "bakedGood = \" nut bread\"\n",
    "print(fruit + bakedGood)"
   ]
  },
  {
   "cell_type": "code",
   "execution_count": null,
   "metadata": {
    "collapsed": false,
    "nbpresent": {
     "id": "94823cf5-5cfa-40e8-894f-9503d2ee3dc2"
    }
   },
   "outputs": [],
   "source": [
    "print(\"Go\" * 6)\n",
    "\n",
    "name = \"Packers\"\n",
    "print(name * 3)\n",
    "\n",
    "print(name + \"Go\" * 3)\n",
    "\n",
    "print((name + \"Go\") * 3)"
   ]
  },
  {
   "cell_type": "markdown",
   "metadata": {
    "nbpresent": {
     "id": "c16f8261-24ea-44d2-b4cf-bc286d2aad52"
    }
   },
   "source": [
    "** Exercise **\n",
    "```\n",
    "1. What is printed by the following statements?\n",
    "```\n",
    "```python\n",
    "s = \"python\"\n",
    "t = \"rocks\"\n",
    "print(s + t)\n",
    "```\n",
    "```\n",
    "(A) python rocks\n",
    "(B) python\n",
    "(C) pythonrocks\n",
    "(D) Error, you cannot add two strings together.\n",
    "```"
   ]
  },
  {
   "cell_type": "markdown",
   "metadata": {
    "nbpresent": {
     "id": "27f284c4-fa19-4774-b056-f362f35a8f2c"
    }
   },
   "source": [
    "```2. What is printed by the following statements?```\n",
    "```python\n",
    "s = \"python\"\n",
    "excl = \"!\"\n",
    "print(s+excl*3)\n",
    "```\n",
    "```\n",
    "(A) python!!!\n",
    "(B) python!python!python!\n",
    "(C) pythonpythonpython!\n",
    "(D) Error, you cannot perform concatenation and repetition at the same time.\n",
    "```"
   ]
  },
  {
   "cell_type": "markdown",
   "metadata": {
    "nbpresent": {
     "id": "e55e3405-edea-4be9-bd9c-0185487e2d69"
    }
   },
   "source": [
    "## Index Operator\n",
    "\n",
    "The indexing operator (Python uses square brackets `[]` to enclose the index) selects a single character from a string. \n",
    "\n",
    "The characters are accessed by their position or index value.\n",
    "\n",
    "<img src=\"http://sei.pku.edu.cn/~caodg/course/ic/notebooks/images/string.svg\" width=900>"
   ]
  },
  {
   "cell_type": "code",
   "execution_count": null,
   "metadata": {
    "collapsed": false,
    "nbpresent": {
     "id": "c8d31b8b-3d20-4781-b044-7275e9536de9"
    }
   },
   "outputs": [],
   "source": [
    "school = \"Peking University\"\n",
    "m = school[2]\n",
    "print(m)\n",
    "\n",
    "lastchar = school[-1]\n",
    "print(lastchar)"
   ]
  },
  {
   "cell_type": "markdown",
   "metadata": {
    "nbpresent": {
     "id": "dc475d0e-10cc-496c-b9fd-4999074d3c44"
    }
   },
   "source": [
    "** Exercise **\n",
    "```\n",
    "1. What is printed by the following statements?\n",
    "```\n",
    "```python\n",
    "s = \"python rocks\"\n",
    "print(s[3])\n",
    "```\n",
    "```\n",
    "(A) t\n",
    "(B) h\n",
    "(C) c\n",
    "(D) Error, you cannot use the [ ] operator with a string.\n",
    "```"
   ]
  },
  {
   "cell_type": "markdown",
   "metadata": {
    "nbpresent": {
     "id": "d91711c8-6b11-4160-8820-da475ec688de"
    }
   },
   "source": [
    "```\n",
    "2. What is printed by the following statements?```\n",
    "```python\n",
    "s = \"python rocks\"\n",
    "print(s[2] + s[-5])\n",
    "```\n",
    "```\n",
    "(A) tr\n",
    "(B) ps\n",
    "(C) nn\n",
    "(D) Error, you cannot use the [ ] operator with the + operator.\n",
    "```"
   ]
  },
  {
   "cell_type": "markdown",
   "metadata": {
    "nbpresent": {
     "id": "92fcd102-9886-4acb-b77d-5498a40823f1"
    }
   },
   "source": [
    "## String Methods"
   ]
  },
  {
   "cell_type": "code",
   "execution_count": null,
   "metadata": {
    "collapsed": false,
    "nbpresent": {
     "id": "8b607c29-39d6-4514-a4cb-67a11106b510"
    }
   },
   "outputs": [],
   "source": [
    "ss = \"Hello, World\"\n",
    "print(ss.upper())\n",
    "\n",
    "tt = ss.lower()\n",
    "print(tt)"
   ]
  },
  {
   "cell_type": "markdown",
   "metadata": {
    "nbpresent": {
     "id": "09c00c7b-9b0d-4d32-aafa-fdb1ba26c265"
    }
   },
   "source": [
    "Method\t| Parameters |\tDescription\n",
    "--------|------------|-------------\n",
    "upper\t| none\t| Returns a string in all uppercase\n",
    "lower\t| none\t| Returns a string in all lowercase\n",
    "capitalize\t| none\t| Returns a string with first character capitalized\n",
    "strip\t| none\t| Returns a string with the leading and trailing whitespace removed\n",
    "lstrip\t| none\t| Returns a string with the leading whitespace removed\n",
    "rstrip\t| none\t| Returns a string with the trailing whitespace removed\n",
    "count\t| item\t| Returns the number of occurrences of item\n"
   ]
  },
  {
   "cell_type": "markdown",
   "metadata": {
    "nbpresent": {
     "id": "94944b29-bc2b-4a33-91c0-6b2acc2abb53"
    }
   },
   "source": [
    "Method\t| Parameters |\tDescription\n",
    "--------|------------|-------------\n",
    "replace\t| old, new\t| Replaces all occurrences of old substring with new\n",
    "center\t| width\t| Returns a string centered in a field of width spaces\n",
    "ljust\t| width\t| Returns a string left justified\n",
    "rjust\t| width\t| Returns a string right justified\n",
    "find\t| item\t| Returns the leftmost index if item is found\n",
    "rfind\t| item\t| Returns the rightmost index\n",
    "index\t| item\t| Like find except causes a runtime error if item is not found\n",
    "rindex\t| item\t| Like rfind except causes a runtime error if item is not found"
   ]
  },
  {
   "cell_type": "code",
   "execution_count": null,
   "metadata": {
    "collapsed": false,
    "nbpresent": {
     "id": "6de2f3b0-d567-47fe-9555-fc5142d93d70"
    }
   },
   "outputs": [],
   "source": [
    "ss = \"    Hello, World    \"\n",
    "\n",
    "els = ss.count(\"l\")\n",
    "print(els)\n",
    "\n",
    "print(\"***\" + ss.strip() + \"***\")\n",
    "print(\"***\" + ss.lstrip() + \"***\")\n",
    "print(\"***\" + ss.rstrip() + \"***\")\n",
    "\n",
    "news = ss.replace(\"o\", \"***\")\n",
    "print(news)"
   ]
  },
  {
   "cell_type": "code",
   "execution_count": null,
   "metadata": {
    "collapsed": false,
    "nbpresent": {
     "id": "0cb65476-1125-474c-94bb-a2cbe49c8cb5"
    }
   },
   "outputs": [],
   "source": [
    "food = \"banana bread\"\n",
    "print(food.capitalize())\n",
    "print(\"*\" + food.center(25) + \"*\")\n",
    "print(\"*\" + food.ljust(25) + \"*\")\n",
    "print(\"*\" + food.rjust(25) + \"*\")\n",
    "print(food.find(\"b\"))\n",
    "print(food.rfind(\"b\"))\n",
    "print(food.index(\"z\"))"
   ]
  },
  {
   "cell_type": "markdown",
   "metadata": {
    "nbpresent": {
     "id": "cca41e78-e2b2-4b76-aa93-806f53c21646"
    }
   },
   "source": [
    "** Exercise **\n",
    "```\n",
    "1. What is printed by the following statements?\n",
    "```\n",
    "```python\n",
    "s = \"python rocks\"\n",
    "print(s.count(\"o\") + s.count(\"p\"))\n",
    "```\n",
    "```\n",
    "(A) 0\n",
    "(B) 2\n",
    "(C) 3\n",
    "```"
   ]
  },
  {
   "cell_type": "markdown",
   "metadata": {
    "nbpresent": {
     "id": "39a7fd48-9b28-4725-b92a-7a4ae58c5cd3"
    }
   },
   "source": [
    "```\n",
    "2. What is printed by the following statements?```\n",
    "```python\n",
    "s = \"python rocks\"\n",
    "print(s[1] * s.index(\"n\"))```\n",
    "```\n",
    "(A) yyyyy\n",
    "(B) 55555\n",
    "(C) n\n",
    "(D) Error, you cannot combine all those things together.\n",
    "```"
   ]
  },
  {
   "cell_type": "markdown",
   "metadata": {
    "nbpresent": {
     "id": "3f9ccbb3-96c2-4390-b5f1-4a6600d64b94"
    }
   },
   "source": [
    "## Length"
   ]
  },
  {
   "cell_type": "code",
   "execution_count": null,
   "metadata": {
    "collapsed": false,
    "nbpresent": {
     "id": "c2d8e166-7ba9-486b-8ba6-7544f4579799"
    }
   },
   "outputs": [],
   "source": [
    "fruit = \"Banana\"\n",
    "print(len(fruit))"
   ]
  },
  {
   "cell_type": "code",
   "execution_count": null,
   "metadata": {
    "collapsed": false,
    "nbpresent": {
     "id": "aba38dc5-e401-465d-8045-8e4fc2cdd5cb"
    }
   },
   "outputs": [],
   "source": [
    "fruit = \"Banana\"\n",
    "sz = len(fruit)\n",
    "last = fruit[sz]  # ERROR!\n",
    "print(last)"
   ]
  },
  {
   "cell_type": "code",
   "execution_count": null,
   "metadata": {
    "collapsed": false,
    "nbpresent": {
     "id": "db6af161-6788-4cab-842c-924a70b5a017"
    }
   },
   "outputs": [],
   "source": [
    "fruit = \"Banana\"\n",
    "sz = len(fruit)\n",
    "lastch = fruit[sz-1]\n",
    "print(lastch)"
   ]
  },
  {
   "cell_type": "markdown",
   "metadata": {
    "nbpresent": {
     "id": "e3fb5222-f68c-44f8-bc2b-6b5f770b1afa"
    }
   },
   "source": [
    "** Exercise **\n",
    "```\n",
    "1. What is printed by the following statements?\n",
    "```\n",
    "```python\n",
    "s = \"python rocks\"\n",
    "print(len(s))```\n",
    "```\n",
    "(A) 11\n",
    "(B) 12\n",
    "```"
   ]
  },
  {
   "cell_type": "markdown",
   "metadata": {
    "nbpresent": {
     "id": "1cce1ebb-18fa-4749-b0a3-8c2ba9474631"
    }
   },
   "source": [
    "```\n",
    "2. What is printed by the following statements?```\n",
    "```python\n",
    "s = \"python rocks\"\n",
    "print(s[len(s)-5])\n",
    "```\n",
    "```\n",
    "(A) o\n",
    "(B) r\n",
    "(C) s\n",
    "(D) Error, len(s) is 12 and there is no index 12.\n",
    "```"
   ]
  },
  {
   "cell_type": "markdown",
   "metadata": {
    "nbpresent": {
     "id": "439012a6-e397-40b7-931a-b0d439aec8f8"
    }
   },
   "source": [
    "## The Slice Operator\n",
    "\n",
    "A substring of a string is called a **slice**."
   ]
  },
  {
   "cell_type": "code",
   "execution_count": null,
   "metadata": {
    "collapsed": false,
    "nbpresent": {
     "id": "7f7fcdf9-d170-4396-bfdb-309ecb5a9e41"
    }
   },
   "outputs": [],
   "source": [
    "singers = \"Peter, Paul, and Mary\"\n",
    "print(singers[0:5])\n",
    "print(singers[7:11])\n",
    "print(singers[17:21])"
   ]
  },
  {
   "cell_type": "code",
   "execution_count": null,
   "metadata": {
    "collapsed": false,
    "nbpresent": {
     "id": "fe00bdf8-18ae-4d59-b394-69fc15956cf1"
    }
   },
   "outputs": [],
   "source": [
    "fruit = \"banana\"\n",
    "print(fruit[:3])\n",
    "print(fruit[3:])"
   ]
  },
  {
   "cell_type": "markdown",
   "metadata": {
    "nbpresent": {
     "id": "e8d68d3b-1d85-40d2-88dd-0f02e2481013"
    }
   },
   "source": [
    "** Exercise **\n",
    "```\n",
    "1. What is printed by the following statements?```\n",
    "```python\n",
    "s = \"python rocks\"\n",
    "print(s[3:8])```\n",
    "```\n",
    "(A) python\n",
    "(B) rocks\n",
    "(C) hon r\n",
    "(D) Error, you cannot have two numbers inside the [ ].\n",
    "```"
   ]
  },
  {
   "cell_type": "markdown",
   "metadata": {
    "nbpresent": {
     "id": "fea0ccf4-9e55-48e3-9c09-2ce504ae9c0c"
    }
   },
   "source": [
    "```\n",
    "2. What is printed by the following statements?\n",
    "```\n",
    "```python\n",
    "s = \"python rocks\"\n",
    "print(s[7:11] * 3)\n",
    "```\n",
    "```\n",
    "(A) rockrockrock\n",
    "(B) rock rock rock\n",
    "(C) rocksrocksrocks\n",
    "(D) Error, you cannot use repetition with slicing.\n",
    "```"
   ]
  },
  {
   "cell_type": "markdown",
   "metadata": {
    "nbpresent": {
     "id": "9c217cca-4e27-430c-893a-8d18dfd0f2a4"
    }
   },
   "source": [
    "## String Comparison"
   ]
  },
  {
   "cell_type": "code",
   "execution_count": null,
   "metadata": {
    "collapsed": false,
    "nbpresent": {
     "id": "bdd79012-7efb-4737-bffa-f680d6daf40c"
    }
   },
   "outputs": [],
   "source": [
    "word = \"banana\"\n",
    "if word == \"banana\":\n",
    "    print(\"Yes, we have bananas!\")\n",
    "else:\n",
    "    print(\"Yes, we have NO bananas!\")"
   ]
  },
  {
   "cell_type": "code",
   "execution_count": null,
   "metadata": {
    "collapsed": false,
    "nbpresent": {
     "id": "8467128b-ca35-4ebb-9ac3-9aa6c725b137"
    }
   },
   "outputs": [],
   "source": [
    "word = \"zebra\"\n",
    "\n",
    "if word < \"banana\":\n",
    "    print(\"Your word, \" + word + \n",
    "          \", comes before banana.\")\n",
    "elif word > \"banana\":\n",
    "    print(\"Your word, \" + word + \n",
    "          \", comes after banana.\")\n",
    "else:\n",
    "    print(\"Yes, we have no bananas!\")"
   ]
  },
  {
   "cell_type": "code",
   "execution_count": null,
   "metadata": {
    "collapsed": false,
    "nbpresent": {
     "id": "e3355130-208a-44d9-a668-b7cc8636df6f"
    }
   },
   "outputs": [],
   "source": [
    "print(\"apple\" < \"banana\")\n",
    "\n",
    "print(\"apple\" == \"Apple\")\n",
    "print(\"apple\" < \"Apple\")"
   ]
  },
  {
   "cell_type": "code",
   "execution_count": null,
   "metadata": {
    "collapsed": false,
    "nbpresent": {
     "id": "4b58228a-74a8-4e06-bd75-ce2a957350b3"
    }
   },
   "outputs": [],
   "source": [
    "print(ord(\"A\"))\n",
    "print(ord(\"B\"))\n",
    "print(ord(\"5\"))\n",
    "\n",
    "print(ord(\"a\"))\n",
    "print(\"apple\" > \"Apple\")"
   ]
  },
  {
   "cell_type": "code",
   "execution_count": null,
   "metadata": {
    "collapsed": false,
    "nbpresent": {
     "id": "270e9f27-6fbe-4719-aa71-bef8257b75e6"
    }
   },
   "outputs": [],
   "source": [
    "print(chr(65))\n",
    "print(chr(66))\n",
    "\n",
    "print(chr(49))\n",
    "print(chr(53))\n",
    "\n",
    "print(\"The character for 32 is\", chr(32), \"!!!\")\n",
    "print(ord(\" \"))"
   ]
  },
  {
   "cell_type": "markdown",
   "metadata": {
    "nbpresent": {
     "id": "cda516ad-5244-428d-b2ab-e5dfc41ca28b"
    }
   },
   "source": [
    "** Exercise **\n",
    "```\n",
    "1. Evaluate the following comparison:```\n",
    "```python\n",
    "\"Dog\" < \"Doghouse\"\n",
    "```\n",
    "```\n",
    "(A) True\n",
    "(B) False\n",
    "```"
   ]
  },
  {
   "cell_type": "markdown",
   "metadata": {
    "nbpresent": {
     "id": "e181a78e-cf7b-4748-8255-223a22864560"
    }
   },
   "source": [
    "```\n",
    "2. Evaluate the following comparison:```\n",
    "```python\n",
    "\"dog\" < \"Dog\"\n",
    "```\n",
    "```\n",
    "(A) True\n",
    "(B) False\n",
    "(C) They are the same word\n",
    "```"
   ]
  },
  {
   "cell_type": "markdown",
   "metadata": {
    "nbpresent": {
     "id": "8914a090-1131-4384-a129-d54d873662f9"
    }
   },
   "source": [
    "```\n",
    "3. Evaluate the following comparison:```\n",
    "```python\n",
    "\"dog\" < \"Doghouse\"\n",
    "```\n",
    "```\n",
    "(A) True\n",
    "(B) False\n",
    "```"
   ]
  },
  {
   "cell_type": "markdown",
   "metadata": {
    "nbpresent": {
     "id": "d656d7ee-2540-418a-b7ee-37e9eb03016e"
    }
   },
   "source": [
    "## Strings are Immutable"
   ]
  },
  {
   "cell_type": "code",
   "execution_count": null,
   "metadata": {
    "collapsed": false,
    "nbpresent": {
     "id": "31d68395-fd2e-45a2-98d0-002e211469d7"
    }
   },
   "outputs": [],
   "source": [
    "greeting = \"Hello, world!\"\n",
    "greeting[0] = 'J'            # ERROR!\n",
    "print(greeting)"
   ]
  },
  {
   "cell_type": "markdown",
   "metadata": {
    "nbpresent": {
     "id": "9c6e6bbf-0240-4086-82f4-3aa10bc76a96"
    }
   },
   "source": [
    "Strings are **immutable**, which means you cannot change an existing string. \n",
    "\n",
    "The best you can do is create a new string that is a variation on the original."
   ]
  },
  {
   "cell_type": "code",
   "execution_count": null,
   "metadata": {
    "collapsed": false,
    "nbpresent": {
     "id": "0b1b94e7-2aa7-4ce3-9b37-89849c2dbefa"
    }
   },
   "outputs": [],
   "source": [
    "greeting = \"Hello, world!\"\n",
    "newGreeting = 'J' + greeting[1:]\n",
    "print(newGreeting)\n",
    "print(greeting)            # same as it was"
   ]
  },
  {
   "cell_type": "code",
   "execution_count": null,
   "metadata": {
    "collapsed": false,
    "nbpresent": {
     "id": "4b13eaf5-61f9-4964-943d-6f6620ae0b1f"
    }
   },
   "outputs": [],
   "source": [
    "s='hello'\n",
    "t=s.replace('l','g')\n",
    "print(s)\n",
    "print(t)"
   ]
  },
  {
   "cell_type": "markdown",
   "metadata": {
    "nbpresent": {
     "id": "ca2057a7-f7f1-4bb6-b793-fa0b49054db8"
    }
   },
   "source": [
    "** Exercise **\n",
    "```\n",
    "What is printed by the following statements:```\n",
    "```python\n",
    "s = \"Ball\"\n",
    "s[0] = \"C\"\n",
    "print(s)```\n",
    "```\n",
    "(A) Ball\n",
    "(B) Call\n",
    "(C) Error\n",
    "```"
   ]
  },
  {
   "cell_type": "markdown",
   "metadata": {
    "nbpresent": {
     "id": "b680f83d-3b85-4184-8929-1d994cb1ec2c"
    }
   },
   "source": [
    "## Traversal by item\n",
    "\n",
    "A lot of computations involve processing a collection one item at a time. \n",
    "\n",
    "```\n",
    "For strings, often we:\n",
    "start at the beginning, select each character in turn, \n",
    "    do something to it,         \n",
    "    and continue until the end. \n",
    "```\n",
    "            \n",
    "This pattern of processing is called a **traversal**."
   ]
  },
  {
   "cell_type": "code",
   "execution_count": null,
   "metadata": {
    "collapsed": false,
    "nbpresent": {
     "id": "e1cac366-01c7-4856-8c27-9f3a0e1db188"
    }
   },
   "outputs": [],
   "source": [
    "for aname in [\"Joe\", \"Amy\", \"Brad\", \"Angelina\", \n",
    "              \"Zuki\", \"Thandi\", \"Paris\"]:\n",
    "    invitation = \"Hi \" + aname + \\\n",
    "        \".  Please come to my party on Saturday!\"\n",
    "    print(invitation)"
   ]
  },
  {
   "cell_type": "code",
   "execution_count": null,
   "metadata": {
    "collapsed": false,
    "nbpresent": {
     "id": "4d43a6b8-887a-4bc5-996b-2c3f8f3c1121"
    }
   },
   "outputs": [],
   "source": [
    "for avalue in range(10):\n",
    "    print(avalue)"
   ]
  },
  {
   "cell_type": "code",
   "execution_count": null,
   "metadata": {
    "collapsed": false,
    "nbpresent": {
     "id": "4f57f2af-b7af-4258-a6f1-f407f5e3cfc0"
    }
   },
   "outputs": [],
   "source": [
    "for achar in \"Go Spot Go\":\n",
    "    print(achar)"
   ]
  },
  {
   "cell_type": "markdown",
   "metadata": {
    "nbpresent": {
     "id": "6c49bd41-9ac5-442c-99e6-27d62452dede"
    }
   },
   "source": [
    "** Exercise **\n",
    "```\n",
    "1. How many times is the word HELLO printed by the following statements?\n",
    "```\n",
    "```python\n",
    "s = \"python rocks\"\n",
    "for ch in s:\n",
    "    print(\"HELLO\")\n",
    "```\n",
    "```\n",
    "(A) 10\n",
    "(B) 11\n",
    "(C) 12\n",
    "(D) Error, the for statement needs to use the range function.\n",
    "```"
   ]
  },
  {
   "cell_type": "markdown",
   "metadata": {
    "nbpresent": {
     "id": "bde03ea6-434d-4390-907b-fd86b656a653"
    }
   },
   "source": [
    "```\n",
    "2. How many times is the word HELLO printed by the following statements?\n",
    "```\n",
    "```python\n",
    "s = \"python rocks\"\n",
    "for ch in s[3:8]:\n",
    "    print(\"HELLO\")\n",
    "```\n",
    "```\n",
    "(A) 4\n",
    "(B) 5\n",
    "(C) 6\n",
    "(D) Error, the for statement cannot use slice.\n",
    "```"
   ]
  },
  {
   "cell_type": "markdown",
   "metadata": {
    "nbpresent": {
     "id": "43c67a95-d3b2-4795-9857-ca10fc41fbea"
    }
   },
   "source": [
    "## Traversal by index"
   ]
  },
  {
   "cell_type": "code",
   "execution_count": null,
   "metadata": {
    "collapsed": false,
    "nbpresent": {
     "id": "c731e33d-09ec-4908-94c3-a29eded1e5ef"
    }
   },
   "outputs": [],
   "source": [
    "fruit = \"apple\"\n",
    "for idx in range(5):\n",
    "    currentChar = fruit[idx]\n",
    "    print(currentChar)"
   ]
  },
  {
   "cell_type": "code",
   "execution_count": null,
   "metadata": {
    "collapsed": false,
    "nbpresent": {
     "id": "9859619b-e382-4a7e-b195-616e8d2bba13"
    }
   },
   "outputs": [],
   "source": [
    "from IPython.display import IFrame\n",
    "IFrame(\"http://pythontutor.com/iframe-embed.html#code=fruit%20%3D%20%22apple%22%0Afor%20idx%20in%20range(5%29%3A%0A%20%20%20%20currentChar%20%3D%20fruit%5Bidx%5D%0A%20%20%20%20print(currentChar%29&codeDivHeight=400&codeDivWidth=350&cumulative=false&curInstr=0&heapPrimitives=false&origin=opt-frontend.js&py=3&rawInputLstJSON=%5B%5D&textReferences=false\", width='100%', height=450)"
   ]
  },
  {
   "cell_type": "code",
   "execution_count": null,
   "metadata": {
    "collapsed": false,
    "nbpresent": {
     "id": "6cc8ff06-8567-43a5-81cf-a0ca7eebb635"
    }
   },
   "outputs": [],
   "source": [
    "fruit = \"apple\"\n",
    "for idx in range(len(fruit)):\n",
    "    print(fruit[idx])"
   ]
  },
  {
   "cell_type": "code",
   "execution_count": null,
   "metadata": {
    "collapsed": false,
    "nbpresent": {
     "id": "fec92d3f-a807-40ab-8b34-4bf931dae955"
    }
   },
   "outputs": [],
   "source": [
    "fruit = \"apple\"\n",
    "for idx in range(len(fruit)-1, -1, -1):\n",
    "    print(fruit[idx])"
   ]
  },
  {
   "cell_type": "code",
   "execution_count": null,
   "metadata": {
    "collapsed": false,
    "nbpresent": {
     "id": "abfdecfa-2199-4ff2-b956-ee581136fd78"
    }
   },
   "outputs": [],
   "source": [
    "from IPython.display import IFrame\n",
    "IFrame(\"http://pythontutor.com/iframe-embed.html#code=fruit%20%3D%20%22apple%22%0Afor%20idx%20in%20range(len(fruit%29-1,%20-1,%20-1%29%3A%0A%20%20%20%20print(fruit%5Bidx%5D%29&codeDivHeight=400&codeDivWidth=350&cumulative=false&curInstr=0&heapPrimitives=false&origin=opt-frontend.js&py=3&rawInputLstJSON=%5B%5D&textReferences=false\", width='100%', height=450)"
   ]
  },
  {
   "cell_type": "markdown",
   "metadata": {
    "nbpresent": {
     "id": "94ac114b-7b69-4ad5-8c46-a7ba93babe74"
    }
   },
   "source": [
    "** Exercise **\n",
    "```\n",
    "How many times is the letter o printed by the following statements?\n",
    "```\n",
    "```python\n",
    "s = \"python rocks\"\n",
    "for idx in range(len(s)):\n",
    "    if idx % 2 == 0:\n",
    "        print(s[idx])\n",
    "```\n",
    "```\n",
    "(A) 0\n",
    "(B) 1\n",
    "(C) 2\n",
    "(D) Error, the for statement cannot have an if inside.\n",
    "```"
   ]
  },
  {
   "cell_type": "markdown",
   "metadata": {
    "nbpresent": {
     "id": "0174da44-e81d-4633-aa00-f1e69534b1c9"
    }
   },
   "source": [
    "## Traversal and the while Loop"
   ]
  },
  {
   "cell_type": "code",
   "execution_count": null,
   "metadata": {
    "collapsed": false,
    "nbpresent": {
     "id": "13ac42a4-f265-45ae-9005-54c0000420bf"
    }
   },
   "outputs": [],
   "source": [
    "fruit = \"apple\"\n",
    "\n",
    "position = 0\n",
    "while position < len(fruit):\n",
    "    print(fruit[position])\n",
    "    position = position + 1"
   ]
  },
  {
   "cell_type": "code",
   "execution_count": null,
   "metadata": {
    "collapsed": false,
    "nbpresent": {
     "id": "1d35ab00-65ed-42e6-a95c-e0c69625af4f"
    }
   },
   "outputs": [],
   "source": [
    "from IPython.display import IFrame\n",
    "IFrame(\"http://pythontutor.com/iframe-embed.html#code=fruit%20%3D%20%22apple%22%0A%0Aposition%20%3D%200%0Awhile%20position%20%3C%20len(fruit%29%3A%0A%20%20%20%20print(fruit%5Bposition%5D%29%0A%20%20%20%20position%20%3D%20position%20%2B%201&codeDivHeight=400&codeDivWidth=350&cumulative=false&curInstr=0&heapPrimitives=false&origin=opt-frontend.js&py=3&rawInputLstJSON=%5B%5D&textReferences=false\", width='100%', height=450)"
   ]
  },
  {
   "cell_type": "markdown",
   "metadata": {
    "nbpresent": {
     "id": "3046d392-621e-42b1-a138-d5de6c916ffd"
    }
   },
   "source": [
    "** Exercise **\n",
    "```\n",
    "How many times is the letter o printed by the following statements?\n",
    "```\n",
    "```python\n",
    "s = \"python rocks\"\n",
    "idx = 1\n",
    "while idx < len(s):\n",
    "    print(s[idx])\n",
    "    idx = idx + 2\n",
    "```\n",
    "```\n",
    "(A) 0\n",
    "(B) 1\n",
    "(C) 2\n",
    "```"
   ]
  },
  {
   "cell_type": "markdown",
   "metadata": {
    "nbpresent": {
     "id": "b228718d-3a62-41b6-a334-f1a8274badd6"
    }
   },
   "source": [
    "## The `in` and `not in` operators\n",
    "\n",
    "The `in` operator tests if one string is a substring of another."
   ]
  },
  {
   "cell_type": "code",
   "execution_count": null,
   "metadata": {
    "collapsed": false,
    "nbpresent": {
     "id": "6bb06f5f-cae5-425b-aca0-4911640d6254"
    }
   },
   "outputs": [],
   "source": [
    "print('a' in 'a')\n",
    "print('apple' in 'apple')\n",
    "print('' in 'a')\n",
    "print('' in 'apple')"
   ]
  },
  {
   "cell_type": "code",
   "execution_count": null,
   "metadata": {
    "collapsed": false,
    "nbpresent": {
     "id": "7bb4784f-0957-4b4f-8d53-cb0f4462a990"
    }
   },
   "outputs": [],
   "source": [
    "print('x' not in 'apple')"
   ]
  },
  {
   "cell_type": "markdown",
   "metadata": {
    "nbpresent": {
     "id": "1b3e2deb-f305-4acf-a861-a6c17fdf2b1a"
    }
   },
   "source": [
    "## The Accumulator Pattern with Strings"
   ]
  },
  {
   "cell_type": "code",
   "execution_count": null,
   "metadata": {
    "collapsed": false,
    "nbpresent": {
     "id": "617759f2-e07e-4e12-afa1-2d177a32d396"
    }
   },
   "outputs": [],
   "source": [
    "def removeVowels(s):\n",
    "    vowels = \"aeiouAEIOU\"\n",
    "    noVowels = \"\"\n",
    "    for eachChar in s:\n",
    "        if eachChar not in vowels:\n",
    "            noVowels = noVowels + eachChar\n",
    "    return noVowels\n",
    "\n",
    "print(removeVowels(\"compsci\"))\n",
    "print(removeVowels(\"aAbEefIijOopUus\"))"
   ]
  },
  {
   "cell_type": "markdown",
   "metadata": {
    "nbpresent": {
     "id": "1f940a36-a260-4348-9484-c2f2389e86ad"
    }
   },
   "source": [
    "Alternatives to: `if eachChar not in vowels`\n",
    "\n",
    "```python\n",
    "if eachChar != 'a'  and eachChar != 'e'  and eachChar != 'i'  and\n",
    "   eachChar != 'o'  and eachChar != 'u'  and eachChar != 'A'  and\n",
    "   eachChar != 'E'  and eachChar != 'I'  and eachChar != 'O'  and\n",
    "   eachChar != 'U':\n",
    "\n",
    "     noVowels = noVowels + eachChar\n",
    "```"
   ]
  },
  {
   "cell_type": "code",
   "execution_count": null,
   "metadata": {
    "collapsed": false,
    "nbpresent": {
     "id": "f0371f3d-141c-43a5-b4dc-8d5918c6ae25"
    }
   },
   "outputs": [],
   "source": [
    "from IPython.display import IFrame\n",
    "IFrame(\"http://pythontutor.com/iframe-embed.html#code=def%20removeVowels(s%29%3A%0A%20%20%20%20vowels%20%3D%20%22aeiouAEIOU%22%0A%20%20%20%20sWithoutVowels%20%3D%20%22%22%0A%20%20%20%20for%20eachChar%20in%20s%3A%0A%20%20%20%20%20%20%20%20if%20eachChar%20not%20in%20vowels%3A%0A%20%20%20%20%20%20%20%20%20%20%20%20sWithoutVowels%20%3D%20sWithoutVowels%20%2B%20eachChar%0A%20%20%20%20return%20sWithoutVowels%0A%0Aprint(removeVowels(%22compsci%22%29%29%0Aprint(removeVowels(%22aAbEefIijOopUus%22%29%29&codeDivHeight=400&codeDivWidth=350&cumulative=false&curInstr=0&heapPrimitives=false&origin=opt-frontend.js&py=3&rawInputLstJSON=%5B%5D&textReferences=false\", width='100%', height=450)"
   ]
  },
  {
   "cell_type": "markdown",
   "metadata": {
    "nbpresent": {
     "id": "3d6515c5-7ab1-4004-bc8a-3ff5b61875ad"
    }
   },
   "source": [
    "** Exercise **\n",
    "```\n",
    "What is printed by the following statements:\n",
    "```\n",
    "```python\n",
    "s = \"ball\"\n",
    "r = \"\"\n",
    "for item in s:\n",
    "    r = item.upper() + r\n",
    "print(r)\n",
    "```\n",
    "```\n",
    "(A) Ball\n",
    "(B) BALL\n",
    "(C) LLAB\n",
    "```"
   ]
  },
  {
   "cell_type": "markdown",
   "metadata": {
    "nbpresent": {
     "id": "406b088c-0389-4050-94d1-ead773336eee"
    }
   },
   "source": [
    "## Looping and Counting"
   ]
  },
  {
   "cell_type": "code",
   "execution_count": null,
   "metadata": {
    "collapsed": false,
    "nbpresent": {
     "id": "7eae52fd-a9d9-48fd-a8db-4dee85c32aa7"
    }
   },
   "outputs": [],
   "source": [
    "def count(text, aChar):\n",
    "    lettercount = 0\n",
    "    for c in text:\n",
    "        if c == aChar:\n",
    "            lettercount = lettercount + 1\n",
    "    return lettercount\n",
    "\n",
    "print(count(\"banana\",\"a\"))"
   ]
  },
  {
   "cell_type": "markdown",
   "metadata": {
    "nbpresent": {
     "id": "27f1fb08-7691-43d0-a683-5acb814e66b2"
    }
   },
   "source": [
    "## A find function"
   ]
  },
  {
   "cell_type": "code",
   "execution_count": null,
   "metadata": {
    "collapsed": false,
    "nbpresent": {
     "id": "2124875a-3361-4553-8313-57bab9357ca0"
    }
   },
   "outputs": [],
   "source": [
    "def find(astring, achar):\n",
    "    \"\"\"\n",
    "    Find and return the index of achar in astring.\n",
    "    Return -1 if achar does not occur in astring.\"\"\"\n",
    "    ix = 0\n",
    "    found = False\n",
    "    while ix < len(astring) and not found:\n",
    "        if astring[ix] == achar:\n",
    "            found = True\n",
    "        else:\n",
    "            ix = ix + 1\n",
    "    if found:\n",
    "        return ix\n",
    "    else:\n",
    "        return -1"
   ]
  },
  {
   "cell_type": "code",
   "execution_count": null,
   "metadata": {
    "collapsed": true,
    "nbpresent": {
     "id": "74d18d22-af30-4689-804f-1962cacb5679"
    }
   },
   "outputs": [],
   "source": [
    "print(find(\"Compsci\", \"p\"))\n",
    "print(find(\"Compsci\", \"C\"))\n",
    "print(find(\"Compsci\", \"i\"))\n",
    "print(find(\"Compsci\", \"x\"))"
   ]
  },
  {
   "cell_type": "code",
   "execution_count": null,
   "metadata": {
    "collapsed": false,
    "nbpresent": {
     "id": "63568ed9-94e6-4250-a643-e8ca70bf52b9"
    }
   },
   "outputs": [],
   "source": [
    "print(\"Compsci\".find(\"p\"))\n",
    "print(\"Compsci\".find(\"C\"))\n",
    "print(\"Compsci\".find(\"i\"))\n",
    "print(\"Compsci\".find(\"x\"))"
   ]
  },
  {
   "cell_type": "markdown",
   "metadata": {
    "nbpresent": {
     "id": "d6439dee-7b7b-43a8-8ee8-8677f49d9829"
    }
   },
   "source": [
    "## Optional parameters"
   ]
  },
  {
   "cell_type": "code",
   "execution_count": null,
   "metadata": {
    "collapsed": false,
    "nbpresent": {
     "id": "15d93b40-0bee-4c54-9e07-fa9b09ea3cd9"
    }
   },
   "outputs": [],
   "source": [
    "def find2(astring, achar, start):\n",
    "    \"\"\"\n",
    "    Find and return the index of achar in astring.\n",
    "    Return -1 if achar does not occur in astring.\"\"\"\n",
    "    ix = start\n",
    "    found = False\n",
    "    while ix < len(astring) and not found:\n",
    "        if astring[ix] == achar:\n",
    "            found = True\n",
    "        else:\n",
    "            ix = ix + 1\n",
    "    if found:\n",
    "        return ix\n",
    "    else:\n",
    "        return -1"
   ]
  },
  {
   "cell_type": "code",
   "execution_count": null,
   "metadata": {
    "collapsed": false,
    "nbpresent": {
     "id": "76f24d6a-6fbb-4d26-a6a9-3a65d50a50ee"
    }
   },
   "outputs": [],
   "source": [
    "print(find2('banana', 'a', 2))\n",
    "\n",
    "print('banana'.find('a',2))"
   ]
  },
  {
   "cell_type": "code",
   "execution_count": null,
   "metadata": {
    "collapsed": false,
    "nbpresent": {
     "id": "39dda641-5d18-49f5-b0e6-683113fc220e"
    }
   },
   "outputs": [],
   "source": [
    "def find3(astring, achar, start=0):\n",
    "    \"\"\"find and return index of achar\"\"\"\n",
    "    ix = start\n",
    "    found = False\n",
    "    while ix < len(astring) and not found:\n",
    "        if astring[ix] == achar:\n",
    "            found = True\n",
    "        else:\n",
    "            ix = ix + 1\n",
    "    if found:\n",
    "        return ix\n",
    "    else:\n",
    "        return -1"
   ]
  },
  {
   "cell_type": "code",
   "execution_count": null,
   "metadata": {
    "collapsed": true,
    "nbpresent": {
     "id": "909f9120-ec68-4e84-8729-ebe3fa373506"
    }
   },
   "outputs": [],
   "source": [
    "print(find3('banana', 'a', 2))"
   ]
  },
  {
   "cell_type": "code",
   "execution_count": null,
   "metadata": {
    "collapsed": false,
    "nbpresent": {
     "id": "e267f610-695e-4471-8a14-f24ca6350226"
    }
   },
   "outputs": [],
   "source": [
    "def find4(astring, achar, start=0, end=None):\n",
    "    \"\"\"Find and return the index of achar\"\"\"\n",
    "    ix = start\n",
    "    if end == None:\n",
    "        end = len(astring)\n",
    "    found = False\n",
    "    while ix < end and not found:\n",
    "        if astring[ix] == achar:\n",
    "            found = True\n",
    "        else:\n",
    "            ix = ix + 1\n",
    "    if found:\n",
    "        return ix\n",
    "    else:\n",
    "        return -1"
   ]
  },
  {
   "cell_type": "code",
   "execution_count": null,
   "metadata": {
    "collapsed": true,
    "nbpresent": {
     "id": "068a7d9f-d44b-4905-bddf-efe6c3f27c13"
    }
   },
   "outputs": [],
   "source": [
    "ss = \"Python strings have some interesting methods.\"\n",
    "\n",
    "print(find4(ss, 's'))\n",
    "print(find4(ss, 's', 7))\n",
    "print(find4(ss, 's', 8))\n",
    "print(find4(ss, 's', 8, 13))\n",
    "print(find4(ss, '.'))"
   ]
  },
  {
   "cell_type": "code",
   "execution_count": null,
   "metadata": {
    "collapsed": false,
    "nbpresent": {
     "id": "444dd3ad-5823-47e9-9cef-d9c2a154f745"
    }
   },
   "outputs": [],
   "source": [
    "ss = \"Python strings have some interesting methods.\"\n",
    "\n",
    "print(ss.find('s'))\n",
    "print(ss.find('s', 7))\n",
    "print(ss.find('s', 8))\n",
    "print(ss.find('s', 8, 13))\n",
    "print(ss.find('.'))"
   ]
  },
  {
   "cell_type": "markdown",
   "metadata": {
    "nbpresent": {
     "id": "e174de38-16b7-4453-89b9-5f282842ad95"
    }
   },
   "source": [
    "## Character classification"
   ]
  },
  {
   "cell_type": "code",
   "execution_count": null,
   "metadata": {
    "collapsed": false,
    "nbpresent": {
     "id": "da97df27-c31b-47f4-ad25-73c424356ae3"
    }
   },
   "outputs": [],
   "source": [
    "import string\n",
    "\n",
    "print(string.ascii_lowercase)\n",
    "print(string.ascii_uppercase)\n",
    "print(string.digits)\n",
    "print(string.punctuation)\n",
    "print(string.whitespace)"
   ]
  },
  {
   "cell_type": "code",
   "execution_count": null,
   "metadata": {
    "collapsed": false,
    "nbpresent": {
     "id": "556c72e8-6186-418c-b302-906fec50d88d"
    }
   },
   "outputs": [],
   "source": [
    "print('ab'.isalpha())\n",
    "print('123'.isdigit())\n",
    "print('str'.isidentifier())\n",
    "print(' '.isspace())\n",
    "print('ab'.islower())"
   ]
  },
  {
   "cell_type": "markdown",
   "metadata": {
    "nbpresent": {
     "id": "46448a4c-b086-4472-ab23-53f0f5d1ea15"
    }
   },
   "source": [
    "## Join, replace, partition,  split"
   ]
  },
  {
   "cell_type": "code",
   "execution_count": null,
   "metadata": {
    "collapsed": false,
    "nbpresent": {
     "id": "a2aa1bd6-d18f-4766-90a9-c9364dc1b5b6"
    }
   },
   "outputs": [],
   "source": [
    "', '.join(['We','Are','Friends'])"
   ]
  },
  {
   "cell_type": "code",
   "execution_count": null,
   "metadata": {
    "collapsed": false,
    "nbpresent": {
     "id": "19e644f1-96e7-4919-9ef9-229f370daec0"
    }
   },
   "outputs": [],
   "source": [
    "'Hello'.replace('e', 'a')"
   ]
  },
  {
   "cell_type": "code",
   "execution_count": null,
   "metadata": {
    "collapsed": false,
    "nbpresent": {
     "id": "551bd0cf-a5f8-4e32-9ace-ab813f5ab3b4"
    }
   },
   "outputs": [],
   "source": [
    "'We are friends'.partition(' ')"
   ]
  },
  {
   "cell_type": "code",
   "execution_count": null,
   "metadata": {
    "collapsed": false,
    "nbpresent": {
     "id": "6ade1b4d-c7bf-41b1-9353-baa4d0e03154"
    }
   },
   "outputs": [],
   "source": [
    "'We are friends'.rpartition(' ')"
   ]
  },
  {
   "cell_type": "code",
   "execution_count": null,
   "metadata": {
    "collapsed": false,
    "nbpresent": {
     "id": "3aad48e5-5cb1-4a40-ab0e-7e0a3071b284"
    }
   },
   "outputs": [],
   "source": [
    "'We are friends'.split(' ')"
   ]
  },
  {
   "cell_type": "code",
   "execution_count": null,
   "metadata": {
    "collapsed": false,
    "nbpresent": {
     "id": "771f58f1-1eff-468a-aa97-a51f1110c9fc"
    }
   },
   "outputs": [],
   "source": [
    "name_value = input('input the name and value in one line, separated by space: ')\n",
    "name, value = name_value.split(' ')\n",
    "print(name, value)"
   ]
  },
  {
   "cell_type": "code",
   "execution_count": null,
   "metadata": {
    "collapsed": false,
    "nbpresent": {
     "id": "dda4e39e-19f6-4082-b98a-2e5759fc284e"
    }
   },
   "outputs": [],
   "source": [
    "print('1 2 3'.split())\n",
    "['1', '2', '3']\n",
    "print('1 2 3'.split(maxsplit=1))\n",
    "['1', '2 3']\n",
    "print('  1   2   3   '.split())"
   ]
  },
  {
   "cell_type": "code",
   "execution_count": null,
   "metadata": {
    "collapsed": false,
    "nbpresent": {
     "id": "39da2ea0-9dc8-4fdb-9988-4f19a53e15ff"
    }
   },
   "outputs": [],
   "source": [
    "name_value = input('input the name and value in one line, separated by space: ')\n",
    "name, value = name_value.split()\n",
    "print(name, value)"
   ]
  },
  {
   "cell_type": "markdown",
   "metadata": {
    "nbpresent": {
     "id": "86a64c36-9d2b-4f1d-b38d-e9e9e6eeba9b"
    }
   },
   "source": [
    "** line boundaries **\n",
    "\n",
    "Representation\t| Description\n",
    "----------------|-------------\n",
    "`\\n`\t| Line Feed\n",
    "`\\r`\t| Carriage Return\n",
    "`\\r\\n`\t| Carriage Return + Line Feed"
   ]
  },
  {
   "cell_type": "code",
   "execution_count": null,
   "metadata": {
    "collapsed": false,
    "nbpresent": {
     "id": "88d6de89-cfe2-4512-b197-74609b096e1d"
    }
   },
   "outputs": [],
   "source": [
    "print('ab c\\n\\nde fg\\rkl\\r\\n'.splitlines())\n",
    "print('ab c\\n\\nde fg\\rkl\\r\\n'.splitlines(\n",
    "        keepends=True))\n",
    "print(\"\".splitlines())\n",
    "print(\"One line\\n\".splitlines())\n",
    "print('Two lines\\n'.split('\\n'))"
   ]
  },
  {
   "cell_type": "markdown",
   "metadata": {
    "nbpresent": {
     "id": "77075c7a-cfdd-491a-9649-cd18f13a186c"
    }
   },
   "source": [
    "## String formating: old\n",
    "\n",
    "```python\n",
    "format % values\n",
    "```\n",
    "format: string\n",
    "\n",
    "values: a single non-tuple value, or a tuple with exactly the number of items specified by the format string, or a single mapping object (for example, a dictionary)"
   ]
  },
  {
   "cell_type": "code",
   "execution_count": null,
   "metadata": {
    "collapsed": false,
    "nbpresent": {
     "id": "f50a9b8b-41ac-45a7-8a12-ab1dfc6d1a86"
    }
   },
   "outputs": [],
   "source": [
    "print('I love %s' % 'basketball')\n",
    "print('I love %s in %d, %8.2f' % \n",
    "      ('basketball', 2016, 200.56))\n",
    "print('%(language)s has %(number)03d quote types.' \n",
    "      % {'language': \"Python\", \"number\": 2})"
   ]
  },
  {
   "cell_type": "markdown",
   "metadata": {
    "nbpresent": {
     "id": "912c34b0-dda6-4005-a1b6-9e7a059c44f1"
    }
   },
   "source": [
    "## String formating: new\n",
    "\n",
    "```python\n",
    "str.format(*args, **kwargs)\n",
    "```"
   ]
  },
  {
   "cell_type": "code",
   "execution_count": null,
   "metadata": {
    "collapsed": false,
    "nbpresent": {
     "id": "d1b9ea74-25b5-43c0-8890-99e2e00630b2"
    }
   },
   "outputs": [],
   "source": [
    "print('I love {}'.format('basketball'))\n",
    "print('I love {} in {:d}, {:>8.2f}'.format(\n",
    "        'basketball', 2016, 200.56))\n",
    "print('{language} has {number:03d} quote types.'.\n",
    "      format(\n",
    "           **{'language': \"Python\", \"number\": 2}))"
   ]
  },
  {
   "cell_type": "code",
   "execution_count": null,
   "metadata": {
    "collapsed": false,
    "nbpresent": {
     "id": "638988a0-1ee4-4c76-ba5a-460dcb8a71e4"
    }
   },
   "outputs": [],
   "source": [
    "print('{0}, {1}, {2}'.format('a', 'b', 'c'))\n",
    "print('{}, {}, {}'.format('a', 'b', 'c'))\n",
    "print('{2}, {1}, {0}'.format('a', 'b', 'c'))\n",
    "print('{2}, {1}, {0}'.format(*'abc'))\n",
    "print('{0}{1}{0}'.format('abra', 'cad'))"
   ]
  },
  {
   "cell_type": "code",
   "execution_count": null,
   "metadata": {
    "collapsed": false,
    "nbpresent": {
     "id": "ce1245a0-356f-495a-ad7d-3e83bbf7eec7"
    }
   },
   "outputs": [],
   "source": [
    "print('Coordinates: {latitude}, {longitude}'.\n",
    "      format(latitude='37.24N', \n",
    "             longitude='-115.81W'))\n",
    "\n",
    "coord = {'latitude': '37.24N', \n",
    "         'longitude': '-115.81W'}\n",
    "print('Coordinates: {latitude}, {longitude}'.\n",
    "      format(**coord))"
   ]
  },
  {
   "cell_type": "code",
   "execution_count": null,
   "metadata": {
    "collapsed": false,
    "nbpresent": {
     "id": "72b1be6b-110c-4916-8646-96cf69d1fa58"
    }
   },
   "outputs": [],
   "source": [
    "print('{:<30}'.format('left aligned'))\n",
    "print('{:>30}'.format('right aligned'))\n",
    "print('{:^30}'.format('centered'))\n",
    "print('{:*^30}'.format('centered'))\n",
    "print('{:#^30}'.format('centered'))"
   ]
  },
  {
   "cell_type": "code",
   "execution_count": null,
   "metadata": {
    "collapsed": false,
    "nbpresent": {
     "id": "84935cd1-0760-4db6-b475-a8badfb1ccee"
    }
   },
   "outputs": [],
   "source": [
    "# format also supports binary numbers\n",
    "\"int: {0:d};  hex: {0:x};  oct: {0:o};\\\n",
    "  bin: {0:b}\".format(42)"
   ]
  },
  {
   "cell_type": "code",
   "execution_count": null,
   "metadata": {
    "collapsed": false,
    "nbpresent": {
     "id": "f5402f79-fa87-4555-a40f-49866fa3535c"
    }
   },
   "outputs": [],
   "source": [
    "# with 0x, 0o, or 0b as prefix:\n",
    "\"int: {0:d};  hex: {0:#x};  oct: {0:#o};  \\\n",
    "bin: {0:#b}\".format(42)"
   ]
  },
  {
   "cell_type": "code",
   "execution_count": null,
   "metadata": {
    "collapsed": false,
    "nbpresent": {
     "id": "4daaa55e-11fa-413b-b7fc-0c43ae8b431f"
    }
   },
   "outputs": [],
   "source": [
    "# Using the comma as a thousands separator\n",
    "'{:,}'.format(1234567890)"
   ]
  },
  {
   "cell_type": "code",
   "execution_count": null,
   "metadata": {
    "collapsed": false,
    "nbpresent": {
     "id": "5ca4ec90-3e02-4901-9ac9-8ed0cd1705fc"
    }
   },
   "outputs": [],
   "source": [
    "# Expressing a percentage:\n",
    "\n",
    "points = 19\n",
    "total = 22\n",
    "'Correct answers: {:.2%}'.format(points/total)"
   ]
  },
  {
   "cell_type": "code",
   "execution_count": null,
   "metadata": {
    "collapsed": false,
    "nbpresent": {
     "id": "a3549336-ad28-4ec7-bb32-1fac960b77c0"
    }
   },
   "outputs": [],
   "source": [
    "# Using type-specific formatting:\n",
    "\n",
    "import datetime\n",
    "d = datetime.datetime(2010, 7, 4, 12, 15, 58)\n",
    "print(d)\n",
    "print('{:%Y/%m/%d %H:%M:%S}'.format(d))"
   ]
  },
  {
   "cell_type": "markdown",
   "metadata": {
    "nbpresent": {
     "id": "14c04b36-e897-44bc-8de4-71fcbed4e36f"
    }
   },
   "source": [
    "```\n",
    "print(...)\n",
    "    print(value, ..., sep=' ', end='\\n', file=sys.stdout, flush=False)\n",
    "    Prints the values to a stream, or to sys.stdout by default.\n",
    "    Optional keyword arguments:\n",
    "    file:  a file-like object (stream); defaults to the current sys.stdout.\n",
    "    sep:   string inserted between values, default a space.\n",
    "    end:   string appended after the last value, default a newline.\n",
    "    flush: whether to forcibly flush the stream.\n",
    "```"
   ]
  },
  {
   "cell_type": "code",
   "execution_count": null,
   "metadata": {
    "collapsed": false,
    "nbpresent": {
     "id": "f218c846-64b9-4e08-a31d-54ab0d8c3a10"
    }
   },
   "outputs": [],
   "source": [
    "for i in range(100):\n",
    "    if i % 2 == 0:\n",
    "        print(i)"
   ]
  },
  {
   "cell_type": "code",
   "execution_count": null,
   "metadata": {
    "collapsed": false,
    "nbpresent": {
     "id": "e3fd9cbb-42d3-4a2b-8374-9e2b089c06b5"
    }
   },
   "outputs": [],
   "source": [
    "for i in range(100):\n",
    "    if i % 2 == 0:\n",
    "        print(i, end=\" \")"
   ]
  },
  {
   "cell_type": "code",
   "execution_count": null,
   "metadata": {
    "collapsed": false,
    "nbpresent": {
     "id": "336f0eba-f4ea-47ca-900a-dcd9832a5faa"
    }
   },
   "outputs": [],
   "source": [
    "c = 0\n",
    "for i in range(100):\n",
    "    if i % 2 == 0:\n",
    "        c += 1\n",
    "        print(i, end=\" \")\n",
    "        if c == 5:\n",
    "            c = 0\n",
    "            print('\\n')"
   ]
  },
  {
   "cell_type": "code",
   "execution_count": null,
   "metadata": {
    "collapsed": false,
    "nbpresent": {
     "id": "78b4cd89-a899-46cc-9498-4b3024512129"
    }
   },
   "outputs": [],
   "source": [
    "c = 0\n",
    "for i in range(100):\n",
    "    if i % 2 == 0:\n",
    "        c += 1\n",
    "        print(i, end=\"\\t\")\n",
    "        if c == 5:\n",
    "            c = 0\n",
    "            print('\\n')"
   ]
  },
  {
   "cell_type": "code",
   "execution_count": null,
   "metadata": {
    "collapsed": false,
    "nbpresent": {
     "id": "82426d1c-d767-4f20-981c-727318b1f2ed"
    }
   },
   "outputs": [],
   "source": [
    "for i in range(100):\n",
    "    if i % 2 == 0:\n",
    "        print(i, end=\",\")"
   ]
  },
  {
   "cell_type": "markdown",
   "metadata": {
    "nbpresent": {
     "id": "50376ad7-f19f-4cbd-bb25-02f0cedbced2"
    }
   },
   "source": [
    "## Summary\n",
    "\n",
    "**`indexing ([])`**\n",
    "\n",
    "Access a single character in a string using its position (starting from 0). Example: `'This'[2]` evaluates to `'i'`.\n",
    "\n",
    "**length function (len)**\n",
    "\n",
    "Returns the number of characters in a string. Example: `len('happy')` evaluates to `5`.\n",
    "\n",
    "**`for` loop traversal (for)**\n",
    "\n",
    "Traversing a string means accessing each character in the string, one at a time. For example, the following for loop:\n",
    "\n",
    "```python\n",
    "for ix in 'Example':\n",
    "    ...\n",
    "```\n",
    "executes the body of the loop 7 times with different values of `ix` each time.\n",
    "\n",
    "**slicing (`[:]`)**\n",
    "\n",
    "A slice is a substring of a string. Example: `'bananas and cream'[3:6]` evaluates to `ana` (so does `'bananas and cream'[1:4]`).\n",
    "\n",
    "**string comparison `(>, <, >=, <=, ==, !=)`**\n",
    "\n",
    "The six common comparision operators work with strings, evaluating according to lexigraphical order. Examples: `'apple' < 'banana'` evaluates to `True`. `'Zeta' < 'Appricot'` evaluates to `False`. `'Zebra' <= 'aardvark'` evaluates to `True` because all upper case letters precede lower case letters.\n",
    "\n",
    "**`in` and `not in` operator (in, not in)**\n",
    "\n",
    "The `in` operator tests whether one string is contained inside another string. Examples: `'heck' in \"I'll be checking for you.\"` evaluates to `True`. `'cheese' in \"I'll be checking for you.\"` evaluates to `False`."
   ]
  },
  {
   "cell_type": "code",
   "execution_count": null,
   "metadata": {
    "collapsed": true,
    "nbpresent": {
     "id": "f11153c3-563d-4985-ad04-6639edc96134"
    }
   },
   "outputs": [],
   "source": []
  }
 ],
 "metadata": {
  "anaconda-cloud": {},
  "kernelspec": {
   "display_name": "Python [default]",
   "language": "python",
   "name": "python3"
  },
  "language_info": {
   "codemirror_mode": {
    "name": "ipython",
    "version": 3
   },
   "file_extension": ".py",
   "mimetype": "text/x-python",
   "name": "python",
   "nbconvert_exporter": "python",
   "pygments_lexer": "ipython3",
   "version": "3.5.2"
  },
  "nbpresent": {
   "slides": {
    "04b20942-dec9-46f2-a5bb-9380a8750e3b": {
     "id": "04b20942-dec9-46f2-a5bb-9380a8750e3b",
     "prev": "7719e6dc-7594-4e86-b07a-684c73b18da6",
     "regions": {
      "956fee72-82b3-4551-9b1c-560e1abc4e5b": {
       "attrs": {
        "height": 0.8,
        "width": 0.8,
        "x": 0.1,
        "y": 0.1
       },
       "content": {
        "cell": "631d3b6a-68af-45ce-b97a-8a5cfd27d78b",
        "part": "whole"
       },
       "id": "956fee72-82b3-4551-9b1c-560e1abc4e5b"
      }
     }
    },
    "0607c9a0-6096-42e7-b694-7a50b20201e2": {
     "id": "0607c9a0-6096-42e7-b694-7a50b20201e2",
     "prev": "156931bc-9704-41da-aa28-b2c1a1c0edd3",
     "regions": {
      "f649aad0-4f7c-45fc-b400-061e9539d2eb": {
       "attrs": {
        "height": 0.8,
        "width": 0.8,
        "x": 0.1,
        "y": 0.1
       },
       "content": {
        "cell": "f50a9b8b-41ac-45a7-8a12-ab1dfc6d1a86",
        "part": "whole"
       },
       "id": "f649aad0-4f7c-45fc-b400-061e9539d2eb"
      }
     }
    },
    "077bd60b-9f2e-439d-b87b-5906b8d647be": {
     "id": "077bd60b-9f2e-439d-b87b-5906b8d647be",
     "prev": "1fee9685-ff55-400e-8c0e-3d7c27bb3538",
     "regions": {
      "bf08ce93-ed7c-4af9-8f15-5a952734bf80": {
       "attrs": {
        "height": 0.8,
        "width": 0.8,
        "x": 0.1,
        "y": 0.1
       },
       "content": {
        "cell": "e1cac366-01c7-4856-8c27-9f3a0e1db188",
        "part": "whole"
       },
       "id": "bf08ce93-ed7c-4af9-8f15-5a952734bf80"
      }
     }
    },
    "0a01a15f-4fbf-4f56-8113-9864c02d1cda": {
     "id": "0a01a15f-4fbf-4f56-8113-9864c02d1cda",
     "prev": "ec992875-bd44-49ba-9160-68caf154bc12",
     "regions": {
      "525faeb3-30c3-4dfe-b734-d75ce3dd4c9b": {
       "attrs": {
        "height": 0.8,
        "width": 0.8,
        "x": 0.1,
        "y": 0.1
       },
       "content": {
        "cell": "74d18d22-af30-4689-804f-1962cacb5679",
        "part": "whole"
       },
       "id": "525faeb3-30c3-4dfe-b734-d75ce3dd4c9b"
      }
     }
    },
    "0df72952-786e-4a3d-822b-5bda7a518ce4": {
     "id": "0df72952-786e-4a3d-822b-5bda7a518ce4",
     "prev": "53954365-6307-4080-962e-9c3d706e0f81",
     "regions": {
      "8daa2f4c-bbbf-4b94-a4f0-44710b526643": {
       "attrs": {
        "height": 0.8,
        "width": 0.8,
        "x": 0.1,
        "y": 0.1
       },
       "content": {
        "cell": "bde03ea6-434d-4390-907b-fd86b656a653",
        "part": "whole"
       },
       "id": "8daa2f4c-bbbf-4b94-a4f0-44710b526643"
      }
     }
    },
    "0e4262c9-9985-4341-b3e8-67fe5f89cd50": {
     "id": "0e4262c9-9985-4341-b3e8-67fe5f89cd50",
     "prev": "32f708a3-8f3f-4b66-b996-4cd051eb90ae",
     "regions": {
      "39d4a227-b7a7-491c-a6f4-b0c378817b50": {
       "attrs": {
        "height": 0.8,
        "width": 0.8,
        "x": 0.1,
        "y": 0.1
       },
       "content": {
        "cell": "617759f2-e07e-4e12-afa1-2d177a32d396",
        "part": "whole"
       },
       "id": "39d4a227-b7a7-491c-a6f4-b0c378817b50"
      }
     }
    },
    "0fd13cc5-16f3-48f3-9fbb-ab491c03d61e": {
     "id": "0fd13cc5-16f3-48f3-9fbb-ab491c03d61e",
     "prev": "b12311f9-86b0-46ec-b30a-41e7ba201520",
     "regions": {
      "b3df0bc6-cdb9-4232-b507-89b24f2f71ee": {
       "attrs": {
        "height": 0.8,
        "width": 0.8,
        "x": 0.1,
        "y": 0.1
       },
       "content": {
        "cell": "4b58228a-74a8-4e06-bd75-ce2a957350b3",
        "part": "whole"
       },
       "id": "b3df0bc6-cdb9-4232-b507-89b24f2f71ee"
      }
     }
    },
    "13b7ddb1-466c-4e5b-902b-51ac7645f1a1": {
     "id": "13b7ddb1-466c-4e5b-902b-51ac7645f1a1",
     "prev": "964e4cea-ff95-4bcb-82f6-519dd47f38fb",
     "regions": {
      "2fc6b554-274c-4c08-a3b1-fe06d4b86f2f": {
       "attrs": {
        "height": 0.8,
        "width": 0.8,
        "x": 0.1,
        "y": 0.1
       },
       "content": {
        "cell": "86a64c36-9d2b-4f1d-b38d-e9e9e6eeba9b",
        "part": "whole"
       },
       "id": "2fc6b554-274c-4c08-a3b1-fe06d4b86f2f"
      }
     }
    },
    "13c857f0-b396-4e3e-b336-53531ed519d2": {
     "id": "13c857f0-b396-4e3e-b336-53531ed519d2",
     "prev": "1998b25a-32d6-4e8d-9f8a-4a1632ee20d2",
     "regions": {
      "f6a36786-9b09-4b22-aa8b-3630cef144a1": {
       "attrs": {
        "height": 0.8,
        "width": 0.8,
        "x": 0.1,
        "y": 0.1
       },
       "content": {
        "cell": "551bd0cf-a5f8-4e32-9ace-ab813f5ab3b4",
        "part": "whole"
       },
       "id": "f6a36786-9b09-4b22-aa8b-3630cef144a1"
      }
     }
    },
    "156931bc-9704-41da-aa28-b2c1a1c0edd3": {
     "id": "156931bc-9704-41da-aa28-b2c1a1c0edd3",
     "prev": "ac3c501a-c1c3-4714-8220-ef3aa146307f",
     "regions": {
      "b7514f2c-7477-4701-a079-27ffeefc2b2c": {
       "attrs": {
        "height": 0.8,
        "width": 0.8,
        "x": 0.1,
        "y": 0.1
       },
       "content": {
        "cell": "77075c7a-cfdd-491a-9649-cd18f13a186c",
        "part": "whole"
       },
       "id": "b7514f2c-7477-4701-a079-27ffeefc2b2c"
      }
     }
    },
    "1998b25a-32d6-4e8d-9f8a-4a1632ee20d2": {
     "id": "1998b25a-32d6-4e8d-9f8a-4a1632ee20d2",
     "prev": "930c2466-496e-4f7a-9a92-59efcdb507dc",
     "regions": {
      "5f7c3eaa-81f7-4a84-8b99-9128e9281f9e": {
       "attrs": {
        "height": 0.8,
        "width": 0.8,
        "x": 0.1,
        "y": 0.1
       },
       "content": {
        "cell": "19e644f1-96e7-4919-9ef9-229f370daec0",
        "part": "whole"
       },
       "id": "5f7c3eaa-81f7-4a84-8b99-9128e9281f9e"
      }
     }
    },
    "1c2e680c-2f0e-4863-aff8-71cb53fc7c83": {
     "id": "1c2e680c-2f0e-4863-aff8-71cb53fc7c83",
     "prev": "4d9f6900-e564-4044-a108-5229c67dc14d",
     "regions": {
      "9e0141b1-fc5e-427d-8bbc-82847d5f3e77": {
       "attrs": {
        "height": 0.8,
        "width": 0.8,
        "x": 0.1,
        "y": 0.1
       },
       "content": {
        "cell": "3c8e9218-a3d1-4656-9fcd-c82936a6750e",
        "part": "whole"
       },
       "id": "9e0141b1-fc5e-427d-8bbc-82847d5f3e77"
      }
     }
    },
    "1fb67b3e-1b47-4517-bb58-5517cca0d994": {
     "id": "1fb67b3e-1b47-4517-bb58-5517cca0d994",
     "prev": "29311e5c-48cc-4fc2-82b6-c4a8e47b16f6",
     "regions": {
      "50ece771-3048-488c-ab72-43e280c3370e": {
       "attrs": {
        "height": 0.8,
        "width": 0.8,
        "x": 0.1,
        "y": 0.1
       },
       "content": {
        "cell": "39dda641-5d18-49f5-b0e6-683113fc220e",
        "part": "whole"
       },
       "id": "50ece771-3048-488c-ab72-43e280c3370e"
      }
     }
    },
    "1fee9685-ff55-400e-8c0e-3d7c27bb3538": {
     "id": "1fee9685-ff55-400e-8c0e-3d7c27bb3538",
     "prev": "792d1623-aa80-42e7-9dce-b1c56b4e43aa",
     "regions": {
      "eb07d447-48bc-422f-a767-717376e75ab3": {
       "attrs": {
        "height": 0.8,
        "width": 0.8,
        "x": 0.1,
        "y": 0.1
       },
       "content": {
        "cell": "b680f83d-3b85-4184-8929-1d994cb1ec2c",
        "part": "whole"
       },
       "id": "eb07d447-48bc-422f-a767-717376e75ab3"
      }
     }
    },
    "20f7db6c-fef0-46f7-a9cf-2569fe76b892": {
     "id": "20f7db6c-fef0-46f7-a9cf-2569fe76b892",
     "prev": "fa2f8d8c-2bc7-4515-8428-36653784b5c2",
     "regions": {
      "e332d3d6-cf67-4de1-9692-1bb983104d40": {
       "attrs": {
        "height": 0.8,
        "width": 0.8,
        "x": 0.1,
        "y": 0.1
       },
       "content": {
        "cell": "9c6e6bbf-0240-4086-82f4-3aa10bc76a96",
        "part": "whole"
       },
       "id": "e332d3d6-cf67-4de1-9692-1bb983104d40"
      }
     }
    },
    "213b2158-2309-454b-8869-cd2fe1f1fb29": {
     "id": "213b2158-2309-454b-8869-cd2fe1f1fb29",
     "prev": "b53d156c-9730-4e06-9b5b-bfa550a76519",
     "regions": {
      "61779f30-d5bb-447b-aa8e-aaeecb516a9f": {
       "attrs": {
        "height": 0.8,
        "width": 0.8,
        "x": 0.1,
        "y": 0.1
       },
       "content": {
        "cell": "cda516ad-5244-428d-b2ab-e5dfc41ca28b",
        "part": "whole"
       },
       "id": "61779f30-d5bb-447b-aa8e-aaeecb516a9f"
      }
     }
    },
    "22e080e6-5ac9-4e8a-a121-b336edc94974": {
     "id": "22e080e6-5ac9-4e8a-a121-b336edc94974",
     "prev": "38ef2100-a568-4a57-af93-cd4c41417678",
     "regions": {
      "2347f02b-e36f-4819-a2ae-84e7d24df9c8": {
       "attrs": {
        "height": 0.8,
        "width": 0.8,
        "x": 0.1,
        "y": 0.1
       },
       "content": {
        "cell": "ce1245a0-356f-495a-ad7d-3e83bbf7eec7",
        "part": "whole"
       },
       "id": "2347f02b-e36f-4819-a2ae-84e7d24df9c8"
      }
     }
    },
    "22ec7bd4-1ee4-45bb-a2c9-ed4994fca9db": {
     "id": "22ec7bd4-1ee4-45bb-a2c9-ed4994fca9db",
     "prev": "6c56e0e6-d5bd-49fa-9d9f-26bdc1c63870",
     "regions": {
      "ae0323c6-f145-4216-b35b-040966cebf9d": {
       "attrs": {
        "height": 0.8,
        "width": 0.8,
        "x": 0.1,
        "y": 0.1
       },
       "content": {
        "cell": "84935cd1-0760-4db6-b475-a8badfb1ccee",
        "part": "whole"
       },
       "id": "ae0323c6-f145-4216-b35b-040966cebf9d"
      }
     }
    },
    "238102d3-292c-49a3-8a26-1e99b4dfb326": {
     "id": "238102d3-292c-49a3-8a26-1e99b4dfb326",
     "prev": "d297d8fb-fea8-4d51-930f-a94ef9e1b461",
     "regions": {
      "27d6f289-10c9-4af8-9820-9d2c15f81e5d": {
       "attrs": {
        "height": 0.8,
        "width": 0.8,
        "x": 0.1,
        "y": 0.1
       },
       "content": {
        "cell": "27f284c4-fa19-4774-b056-f362f35a8f2c",
        "part": "whole"
       },
       "id": "27d6f289-10c9-4af8-9820-9d2c15f81e5d"
      }
     }
    },
    "27df3176-6f62-42cb-bc0f-9e45599166f7": {
     "id": "27df3176-6f62-42cb-bc0f-9e45599166f7",
     "prev": "7c5a0145-7304-4021-88bf-e10323b2e075",
     "regions": {
      "2354942e-ed4b-4f4f-98c7-97f61b6775bb": {
       "attrs": {
        "height": 0.8,
        "width": 0.8,
        "x": 0.1,
        "y": 0.1
       },
       "content": {
        "cell": "4daaa55e-11fa-413b-b7fc-0c43ae8b431f",
        "part": "whole"
       },
       "id": "2354942e-ed4b-4f4f-98c7-97f61b6775bb"
      }
     }
    },
    "28e65e8a-3a61-4fe6-a6ec-3a435b03e25d": {
     "id": "28e65e8a-3a61-4fe6-a6ec-3a435b03e25d",
     "prev": "a38b6996-7d22-4bbf-a3a5-5a77181fb142",
     "regions": {
      "bf79ec69-9e70-48f1-9511-1c790ea8f5e5": {
       "attrs": {
        "height": 0.8,
        "width": 0.8,
        "x": 0.1,
        "y": 0.1
       },
       "content": {
        "cell": "6de2f3b0-d567-47fe-9555-fc5142d93d70",
        "part": "whole"
       },
       "id": "bf79ec69-9e70-48f1-9511-1c790ea8f5e5"
      }
     }
    },
    "29311e5c-48cc-4fc2-82b6-c4a8e47b16f6": {
     "id": "29311e5c-48cc-4fc2-82b6-c4a8e47b16f6",
     "prev": "65282287-1ee6-4545-b7c9-364666cc92e7",
     "regions": {
      "7aad9eaa-0f04-4eee-ba1b-507e192616ba": {
       "attrs": {
        "height": 0.8,
        "width": 0.8,
        "x": 0.1,
        "y": 0.1
       },
       "content": {
        "cell": "76f24d6a-6fbb-4d26-a6a9-3a65d50a50ee",
        "part": "whole"
       },
       "id": "7aad9eaa-0f04-4eee-ba1b-507e192616ba"
      }
     }
    },
    "2980fb94-f1f0-48aa-8808-1f65814a607d": {
     "id": "2980fb94-f1f0-48aa-8808-1f65814a607d",
     "prev": "1c2e680c-2f0e-4863-aff8-71cb53fc7c83",
     "regions": {
      "4814cda8-6148-4ab8-bff5-f887601a84a6": {
       "attrs": {
        "height": 0.8,
        "width": 0.8,
        "x": 0.1,
        "y": 0.1
       },
       "content": {
        "cell": "bd5bdbb9-d0d4-42e4-8ce6-b7644575f6f9",
        "part": "whole"
       },
       "id": "4814cda8-6148-4ab8-bff5-f887601a84a6"
      }
     }
    },
    "29dff49e-634a-45ef-812f-f6a4ef9fc265": {
     "id": "29dff49e-634a-45ef-812f-f6a4ef9fc265",
     "prev": "b3c92417-9c48-40ef-b8f5-e3c00028d22c",
     "regions": {
      "7bf4f082-2377-4424-996b-669d90b69aae": {
       "attrs": {
        "height": 0.8,
        "width": 0.8,
        "x": 0.1,
        "y": 0.1
       },
       "content": {
        "cell": "771f58f1-1eff-468a-aa97-a51f1110c9fc",
        "part": "whole"
       },
       "id": "7bf4f082-2377-4424-996b-669d90b69aae"
      }
     }
    },
    "2bae094c-90c9-43d9-94b4-68ef940f1038": {
     "id": "2bae094c-90c9-43d9-94b4-68ef940f1038",
     "prev": "49667085-0d0d-42c5-b802-5d6d2581a562",
     "regions": {
      "d775fb35-8741-4fbc-bf87-ad2ea81ef525": {
       "attrs": {
        "height": 0.8,
        "width": 0.8,
        "x": 0.1,
        "y": 0.1
       },
       "content": {
        "cell": "f11153c3-563d-4985-ad04-6639edc96134",
        "part": "whole"
       },
       "id": "d775fb35-8741-4fbc-bf87-ad2ea81ef525"
      }
     }
    },
    "2dc8eb68-5453-46e8-9b9e-e19afce7d1ac": {
     "id": "2dc8eb68-5453-46e8-9b9e-e19afce7d1ac",
     "prev": "db40f482-ed98-46fd-b500-b710dee588ff",
     "regions": {
      "6b50630a-1a6b-4c5f-8903-3162e1fbda08": {
       "attrs": {
        "height": 0.8,
        "width": 0.8,
        "x": 0.1,
        "y": 0.1
       },
       "content": {
        "cell": "336f0eba-f4ea-47ca-900a-dcd9832a5faa",
        "part": "whole"
       },
       "id": "6b50630a-1a6b-4c5f-8903-3162e1fbda08"
      }
     }
    },
    "2e9053d3-a67c-4ae4-9093-ce8d64934aa5": {
     "id": "2e9053d3-a67c-4ae4-9093-ce8d64934aa5",
     "prev": "f4068cb5-4768-49d9-a192-1c586caf4b6d",
     "regions": {
      "738e53cf-f58f-4d43-8afd-2f7447158f1e": {
       "attrs": {
        "height": 0.8,
        "width": 0.8,
        "x": 0.1,
        "y": 0.1
       },
       "content": {
        "cell": "d91711c8-6b11-4160-8820-da475ec688de",
        "part": "whole"
       },
       "id": "738e53cf-f58f-4d43-8afd-2f7447158f1e"
      }
     }
    },
    "324697fb-5f6c-427c-86ed-d7f6e9530cd3": {
     "id": "324697fb-5f6c-427c-86ed-d7f6e9530cd3",
     "prev": "04b20942-dec9-46f2-a5bb-9380a8750e3b",
     "regions": {
      "efa402a6-5c81-48e8-9ed6-c1da5c2c62f5": {
       "attrs": {
        "height": 0.8,
        "width": 0.8,
        "x": 0.1,
        "y": 0.1
       },
       "content": {
        "cell": "7d9bcc22-4072-4786-aae5-676d33934b09",
        "part": "whole"
       },
       "id": "efa402a6-5c81-48e8-9ed6-c1da5c2c62f5"
      }
     }
    },
    "32f708a3-8f3f-4b66-b996-4cd051eb90ae": {
     "id": "32f708a3-8f3f-4b66-b996-4cd051eb90ae",
     "prev": "c65cb1a5-3222-41a0-94c5-727ae505f4a1",
     "regions": {
      "84500fbd-43a5-4bae-a0b6-15087b6c0b23": {
       "attrs": {
        "height": 0.8,
        "width": 0.8,
        "x": 0.1,
        "y": 0.1
       },
       "content": {
        "cell": "1b3e2deb-f305-4acf-a861-a6c17fdf2b1a",
        "part": "whole"
       },
       "id": "84500fbd-43a5-4bae-a0b6-15087b6c0b23"
      }
     }
    },
    "3882dbe5-fb82-4a52-9834-55985ef0f963": {
     "id": "3882dbe5-fb82-4a52-9834-55985ef0f963",
     "prev": "20f7db6c-fef0-46f7-a9cf-2569fe76b892",
     "regions": {
      "bdee6251-0f4c-44d6-8957-962c81e35385": {
       "attrs": {
        "height": 0.8,
        "width": 0.8,
        "x": 0.1,
        "y": 0.1
       },
       "content": {
        "cell": "0b1b94e7-2aa7-4ce3-9b37-89849c2dbefa",
        "part": "whole"
       },
       "id": "bdee6251-0f4c-44d6-8957-962c81e35385"
      }
     }
    },
    "388d4d1a-85f6-40b8-953f-0f0430388717": {
     "id": "388d4d1a-85f6-40b8-953f-0f0430388717",
     "prev": "5a786818-ba1f-47aa-9e17-920901bc2468",
     "regions": {
      "f90f6390-3d00-42d1-b039-bb274dc0627f": {
       "attrs": {
        "height": 0.8,
        "width": 0.8,
        "x": 0.1,
        "y": 0.1
       },
       "content": {
        "cell": "da97df27-c31b-47f4-ad25-73c424356ae3",
        "part": "whole"
       },
       "id": "f90f6390-3d00-42d1-b039-bb274dc0627f"
      }
     }
    },
    "38ef2100-a568-4a57-af93-cd4c41417678": {
     "id": "38ef2100-a568-4a57-af93-cd4c41417678",
     "prev": "f553b7e9-bb2f-4245-acaa-2def5654274a",
     "regions": {
      "dcd0c206-85db-4a8f-8f03-ef9b729e3791": {
       "attrs": {
        "height": 0.8,
        "width": 0.8,
        "x": 0.1,
        "y": 0.1
       },
       "content": {
        "cell": "638988a0-1ee4-4c76-ba5a-460dcb8a71e4",
        "part": "whole"
       },
       "id": "dcd0c206-85db-4a8f-8f03-ef9b729e3791"
      }
     }
    },
    "3e5727d8-e0a1-46f5-879b-bee3ea42440a": {
     "id": "3e5727d8-e0a1-46f5-879b-bee3ea42440a",
     "prev": "d217b150-82fd-4066-b3f8-eed43c5ea625",
     "regions": {
      "93c76095-f67d-41fc-ae9b-ec263e09b70a": {
       "attrs": {
        "height": 0.8,
        "width": 0.8,
        "x": 0.1,
        "y": 0.1
       },
       "content": {
        "cell": "cca41e78-e2b2-4b76-aa93-806f53c21646",
        "part": "whole"
       },
       "id": "93c76095-f67d-41fc-ae9b-ec263e09b70a"
      }
     }
    },
    "42bd9d0b-da2d-4398-9472-e6f6e03ffc8c": {
     "id": "42bd9d0b-da2d-4398-9472-e6f6e03ffc8c",
     "prev": "a272e390-ef83-4380-aec6-036f2861c3be",
     "regions": {
      "25b02b3c-6a6b-4492-b269-d8b19f41a93a": {
       "attrs": {
        "height": 0.8,
        "width": 0.8,
        "x": 0.1,
        "y": 0.1
       },
       "content": {
        "cell": "4f57f2af-b7af-4258-a6f1-f407f5e3cfc0",
        "part": "whole"
       },
       "id": "25b02b3c-6a6b-4492-b269-d8b19f41a93a"
      }
     }
    },
    "4310f90a-1cda-43b0-82eb-4ef8c5f0273c": {
     "id": "4310f90a-1cda-43b0-82eb-4ef8c5f0273c",
     "prev": "3882dbe5-fb82-4a52-9834-55985ef0f963",
     "regions": {
      "46c9b032-994c-40c8-8cb0-34a036043c18": {
       "attrs": {
        "height": 0.8,
        "width": 0.8,
        "x": 0.1,
        "y": 0.1
       },
       "content": {
        "cell": "4b13eaf5-61f9-4964-943d-6f6620ae0b1f",
        "part": "whole"
       },
       "id": "46c9b032-994c-40c8-8cb0-34a036043c18"
      }
     }
    },
    "49667085-0d0d-42c5-b802-5d6d2581a562": {
     "id": "49667085-0d0d-42c5-b802-5d6d2581a562",
     "prev": "d3817fdb-73f8-4c01-9f8b-c7973de56273",
     "regions": {
      "fb8fbb49-7180-4544-b8c5-0bc7300f73d9": {
       "attrs": {
        "height": 0.8,
        "width": 0.8,
        "x": 0.1,
        "y": 0.1
       },
       "content": {
        "cell": "82426d1c-d767-4f20-981c-727318b1f2ed",
        "part": "whole"
       },
       "id": "fb8fbb49-7180-4544-b8c5-0bc7300f73d9"
      }
     }
    },
    "4ae36380-6241-48a2-8cd1-72a7b2a50fde": {
     "id": "4ae36380-6241-48a2-8cd1-72a7b2a50fde",
     "prev": "0a01a15f-4fbf-4f56-8113-9864c02d1cda",
     "regions": {
      "e9fd38ae-84d8-4012-995d-0ee7f196b5c0": {
       "attrs": {
        "height": 0.8,
        "width": 0.8,
        "x": 0.1,
        "y": 0.1
       },
       "content": {
        "cell": "63568ed9-94e6-4250-a643-e8ca70bf52b9",
        "part": "whole"
       },
       "id": "e9fd38ae-84d8-4012-995d-0ee7f196b5c0"
      }
     }
    },
    "4d9f6900-e564-4044-a108-5229c67dc14d": {
     "id": "4d9f6900-e564-4044-a108-5229c67dc14d",
     "prev": null,
     "regions": {
      "165f52a4-33ff-4b17-a010-902435137191": {
       "attrs": {
        "height": 0.8,
        "width": 0.8,
        "x": 0.1,
        "y": 0.1
       },
       "content": {
        "cell": "f38d5314-a572-46ba-890c-b7908cfd41a9",
        "part": "whole"
       },
       "id": "165f52a4-33ff-4b17-a010-902435137191"
      }
     }
    },
    "4ef4b5de-cc5d-403c-9e81-e06194efe471": {
     "id": "4ef4b5de-cc5d-403c-9e81-e06194efe471",
     "prev": "1fb67b3e-1b47-4517-bb58-5517cca0d994",
     "regions": {
      "975e4896-0952-4919-9f03-4d3b90bf03ad": {
       "attrs": {
        "height": 0.8,
        "width": 0.8,
        "x": 0.1,
        "y": 0.1
       },
       "content": {
        "cell": "909f9120-ec68-4e84-8729-ebe3fa373506",
        "part": "whole"
       },
       "id": "975e4896-0952-4919-9f03-4d3b90bf03ad"
      }
     }
    },
    "53954365-6307-4080-962e-9c3d706e0f81": {
     "id": "53954365-6307-4080-962e-9c3d706e0f81",
     "prev": "42bd9d0b-da2d-4398-9472-e6f6e03ffc8c",
     "regions": {
      "a7142618-3e20-4329-9a44-08037da8cdaf": {
       "attrs": {
        "height": 0.8,
        "width": 0.8,
        "x": 0.1,
        "y": 0.1
       },
       "content": {
        "cell": "6c49bd41-9ac5-442c-99e6-27d62452dede",
        "part": "whole"
       },
       "id": "a7142618-3e20-4329-9a44-08037da8cdaf"
      }
     }
    },
    "5593d7fb-ed12-4564-9ded-3139e5dc0555": {
     "id": "5593d7fb-ed12-4564-9ded-3139e5dc0555",
     "prev": "d795e57e-510c-49a6-a730-3b76ccc7dc70",
     "regions": {
      "a1086443-6d57-4854-8796-b7cb92b68aba": {
       "attrs": {
        "height": 0.8,
        "width": 0.8,
        "x": 0.1,
        "y": 0.1
       },
       "content": {
        "cell": "3d6515c5-7ab1-4004-bc8a-3ff5b61875ad",
        "part": "whole"
       },
       "id": "a1086443-6d57-4854-8796-b7cb92b68aba"
      }
     }
    },
    "5a786818-ba1f-47aa-9e17-920901bc2468": {
     "id": "5a786818-ba1f-47aa-9e17-920901bc2468",
     "prev": "8d8e3de0-d190-4bff-8646-d01c0850a7a6",
     "regions": {
      "39f368dc-8552-4ac4-83a5-1db23f81b995": {
       "attrs": {
        "height": 0.8,
        "width": 0.8,
        "x": 0.1,
        "y": 0.1
       },
       "content": {
        "cell": "e174de38-16b7-4453-89b9-5f282842ad95",
        "part": "whole"
       },
       "id": "39f368dc-8552-4ac4-83a5-1db23f81b995"
      }
     }
    },
    "5cb2366c-dd99-472d-86bb-7d88a851a75e": {
     "id": "5cb2366c-dd99-472d-86bb-7d88a851a75e",
     "prev": "6afb3337-2c9e-4ee7-ad3a-c7b1653b4e27",
     "regions": {
      "ecdb7bcd-9e92-486f-a6d5-d8ec56f33df0": {
       "attrs": {
        "height": 0.8,
        "width": 0.8,
        "x": 0.1,
        "y": 0.1
       },
       "content": {
        "cell": "8914a090-1131-4384-a129-d54d873662f9",
        "part": "whole"
       },
       "id": "ecdb7bcd-9e92-486f-a6d5-d8ec56f33df0"
      }
     }
    },
    "5f862d7c-b214-4a24-ba5f-13a3145bb632": {
     "id": "5f862d7c-b214-4a24-ba5f-13a3145bb632",
     "prev": "6d657c4e-9fa4-4b32-ad26-b0af906c508c",
     "regions": {
      "6214631a-9846-4998-b52b-e95c151c95e2": {
       "attrs": {
        "height": 0.8,
        "width": 0.8,
        "x": 0.1,
        "y": 0.1
       },
       "content": {
        "cell": "7f7fcdf9-d170-4396-bfdb-309ecb5a9e41",
        "part": "whole"
       },
       "id": "6214631a-9846-4998-b52b-e95c151c95e2"
      }
     }
    },
    "606ebdac-d2be-47d0-ac2b-c284a8a8e63e": {
     "id": "606ebdac-d2be-47d0-ac2b-c284a8a8e63e",
     "prev": "324697fb-5f6c-427c-86ed-d7f6e9530cd3",
     "regions": {
      "6565f787-8259-4312-920a-41dd59008251": {
       "attrs": {
        "height": 0.8,
        "width": 0.8,
        "x": 0.1,
        "y": 0.1
       },
       "content": {
        "cell": "94823cf5-5cfa-40e8-894f-9503d2ee3dc2",
        "part": "whole"
       },
       "id": "6565f787-8259-4312-920a-41dd59008251"
      }
     }
    },
    "65135977-0315-413b-ba57-f85f134fa8d6": {
     "id": "65135977-0315-413b-ba57-f85f134fa8d6",
     "prev": "d152c30a-51a5-4ca4-b909-9eb4d15b78aa",
     "regions": {
      "4bb16643-a122-4eb9-bcdf-d9a9b6e8fbc1": {
       "attrs": {
        "height": 0.8,
        "width": 0.8,
        "x": 0.1,
        "y": 0.1
       },
       "content": {
        "cell": "9c217cca-4e27-430c-893a-8d18dfd0f2a4",
        "part": "whole"
       },
       "id": "4bb16643-a122-4eb9-bcdf-d9a9b6e8fbc1"
      }
     }
    },
    "65282287-1ee6-4545-b7c9-364666cc92e7": {
     "id": "65282287-1ee6-4545-b7c9-364666cc92e7",
     "prev": "af514049-a182-497e-97d1-1d5e0552dfc4",
     "regions": {
      "4cdfb641-94d0-4b5c-b906-be15fa0e10a6": {
       "attrs": {
        "height": 0.8,
        "width": 0.8,
        "x": 0.1,
        "y": 0.1
       },
       "content": {
        "cell": "15d93b40-0bee-4c54-9e07-fa9b09ea3cd9",
        "part": "whole"
       },
       "id": "4cdfb641-94d0-4b5c-b906-be15fa0e10a6"
      }
     }
    },
    "66c5d57a-ee03-4971-85ae-6e8b99481da0": {
     "id": "66c5d57a-ee03-4971-85ae-6e8b99481da0",
     "prev": "5593d7fb-ed12-4564-9ded-3139e5dc0555",
     "regions": {
      "55621ed1-3953-46f5-afac-80b4edd3196a": {
       "attrs": {
        "height": 0.8,
        "width": 0.8,
        "x": 0.1,
        "y": 0.1
       },
       "content": {
        "cell": "406b088c-0389-4050-94d1-ead773336eee",
        "part": "whole"
       },
       "id": "55621ed1-3953-46f5-afac-80b4edd3196a"
      }
     }
    },
    "69ed5d5e-b42d-422a-aaa6-a28359ee0a89": {
     "id": "69ed5d5e-b42d-422a-aaa6-a28359ee0a89",
     "prev": "65135977-0315-413b-ba57-f85f134fa8d6",
     "regions": {
      "61df30c0-8f96-4baf-ac78-8e268433246b": {
       "attrs": {
        "height": 0.8,
        "width": 0.8,
        "x": 0.1,
        "y": 0.1
       },
       "content": {
        "cell": "bdd79012-7efb-4737-bffa-f680d6daf40c",
        "part": "whole"
       },
       "id": "61df30c0-8f96-4baf-ac78-8e268433246b"
      }
     }
    },
    "6afb3337-2c9e-4ee7-ad3a-c7b1653b4e27": {
     "id": "6afb3337-2c9e-4ee7-ad3a-c7b1653b4e27",
     "prev": "213b2158-2309-454b-8869-cd2fe1f1fb29",
     "regions": {
      "c1a2811e-e144-4081-bdec-55f28faf30ac": {
       "attrs": {
        "height": 0.8,
        "width": 0.8,
        "x": 0.1,
        "y": 0.1
       },
       "content": {
        "cell": "e181a78e-cf7b-4748-8255-223a22864560",
        "part": "whole"
       },
       "id": "c1a2811e-e144-4081-bdec-55f28faf30ac"
      }
     }
    },
    "6c56e0e6-d5bd-49fa-9d9f-26bdc1c63870": {
     "id": "6c56e0e6-d5bd-49fa-9d9f-26bdc1c63870",
     "prev": "22e080e6-5ac9-4e8a-a121-b336edc94974",
     "regions": {
      "269e65c5-af8d-4d95-8c66-c489bb0291a2": {
       "attrs": {
        "height": 0.8,
        "width": 0.8,
        "x": 0.1,
        "y": 0.1
       },
       "content": {
        "cell": "72b1be6b-110c-4916-8646-96cf69d1fa58",
        "part": "whole"
       },
       "id": "269e65c5-af8d-4d95-8c66-c489bb0291a2"
      }
     }
    },
    "6c963cf1-2164-48e8-bc3f-adf5e7e58f29": {
     "id": "6c963cf1-2164-48e8-bc3f-adf5e7e58f29",
     "prev": "29dff49e-634a-45ef-812f-f6a4ef9fc265",
     "regions": {
      "69027f5e-0c46-4a24-b0bf-9a5aa40ccae4": {
       "attrs": {
        "height": 0.8,
        "width": 0.8,
        "x": 0.1,
        "y": 0.1
       },
       "content": {
        "cell": "dda4e39e-19f6-4082-b98a-2e5759fc284e",
        "part": "whole"
       },
       "id": "69027f5e-0c46-4a24-b0bf-9a5aa40ccae4"
      }
     }
    },
    "6d657c4e-9fa4-4b32-ad26-b0af906c508c": {
     "id": "6d657c4e-9fa4-4b32-ad26-b0af906c508c",
     "prev": "889a8f76-6183-48dd-a9c0-e2d72555e1f4",
     "regions": {
      "83a30f49-f9d3-45f7-aa99-08cbc88a4b43": {
       "attrs": {
        "height": 0.8,
        "width": 0.8,
        "x": 0.1,
        "y": 0.1
       },
       "content": {
        "cell": "439012a6-e397-40b7-931a-b0d439aec8f8",
        "part": "whole"
       },
       "id": "83a30f49-f9d3-45f7-aa99-08cbc88a4b43"
      }
     }
    },
    "70445211-6693-4ae6-947a-740def8be2d6": {
     "id": "70445211-6693-4ae6-947a-740def8be2d6",
     "prev": "74c7f5fb-acb6-4063-8df1-44c64f10be36",
     "regions": {
      "184ee3d6-57ed-4af3-9f40-c52c1ffa1c0e": {
       "attrs": {
        "height": 0.8,
        "width": 0.8,
        "x": 0.1,
        "y": 0.1
       },
       "content": {
        "cell": "b228718d-3a62-41b6-a334-f1a8274badd6",
        "part": "whole"
       },
       "id": "184ee3d6-57ed-4af3-9f40-c52c1ffa1c0e"
      }
     }
    },
    "7212083d-181b-4970-9d3d-ec8f2e9188f8": {
     "id": "7212083d-181b-4970-9d3d-ec8f2e9188f8",
     "prev": "0e4262c9-9985-4341-b3e8-67fe5f89cd50",
     "regions": {
      "19b468fc-f8e2-4ce0-ae55-c6daeabb66cc": {
       "attrs": {
        "height": 0.8,
        "width": 0.8,
        "x": 0.1,
        "y": 0.1
       },
       "content": {
        "cell": "1f940a36-a260-4348-9484-c2f2389e86ad",
        "part": "whole"
       },
       "id": "19b468fc-f8e2-4ce0-ae55-c6daeabb66cc"
      }
     }
    },
    "74c7f5fb-acb6-4063-8df1-44c64f10be36": {
     "id": "74c7f5fb-acb6-4063-8df1-44c64f10be36",
     "prev": "b8600aea-cb17-4259-adcf-0435a2a0d5c4",
     "regions": {
      "71932434-080e-467c-b064-3aa5c21a3d0f": {
       "attrs": {
        "height": 0.8,
        "width": 0.8,
        "x": 0.1,
        "y": 0.1
       },
       "content": {
        "cell": "3046d392-621e-42b1-a138-d5de6c916ffd",
        "part": "whole"
       },
       "id": "71932434-080e-467c-b064-3aa5c21a3d0f"
      }
     }
    },
    "7719e6dc-7594-4e86-b07a-684c73b18da6": {
     "id": "7719e6dc-7594-4e86-b07a-684c73b18da6",
     "prev": "2980fb94-f1f0-48aa-8808-1f65814a607d",
     "regions": {
      "a9fb71ae-dbe3-4f14-9bc5-cf4637a564ed": {
       "attrs": {
        "height": 0.8,
        "width": 0.8,
        "x": 0.1,
        "y": 0.1
       },
       "content": {
        "cell": "985554c5-03a0-4530-a563-040135ad41bc",
        "part": "whole"
       },
       "id": "a9fb71ae-dbe3-4f14-9bc5-cf4637a564ed"
      }
     }
    },
    "77c9623b-a590-4cb7-9a99-ff059c9134bb": {
     "id": "77c9623b-a590-4cb7-9a99-ff059c9134bb",
     "prev": "bcc2be94-24b3-4bae-983d-f0f9540c3ca0",
     "regions": {
      "99bc8dcc-84aa-4364-a556-d81e9daac406": {
       "attrs": {
        "height": 0.8,
        "width": 0.8,
        "x": 0.1,
        "y": 0.1
       },
       "content": {
        "cell": "aba38dc5-e401-465d-8045-8e4fc2cdd5cb",
        "part": "whole"
       },
       "id": "99bc8dcc-84aa-4364-a556-d81e9daac406"
      }
     }
    },
    "792d1623-aa80-42e7-9dce-b1c56b4e43aa": {
     "id": "792d1623-aa80-42e7-9dce-b1c56b4e43aa",
     "prev": "4310f90a-1cda-43b0-82eb-4ef8c5f0273c",
     "regions": {
      "a7bde712-f84a-4092-9096-0cbd70cd61a2": {
       "attrs": {
        "height": 0.8,
        "width": 0.8,
        "x": 0.1,
        "y": 0.1
       },
       "content": {
        "cell": "ca2057a7-f7f1-4bb6-b793-fa0b49054db8",
        "part": "whole"
       },
       "id": "a7bde712-f84a-4092-9096-0cbd70cd61a2"
      }
     }
    },
    "7a7fbf4d-a6d1-4497-ae39-d623eb8926c3": {
     "id": "7a7fbf4d-a6d1-4497-ae39-d623eb8926c3",
     "prev": "4ef4b5de-cc5d-403c-9e81-e06194efe471",
     "regions": {
      "1a9ae8b5-46eb-47bb-8050-cbe64f7e7d00": {
       "attrs": {
        "height": 0.8,
        "width": 0.8,
        "x": 0.1,
        "y": 0.1
       },
       "content": {
        "cell": "e267f610-695e-4471-8a14-f24ca6350226",
        "part": "whole"
       },
       "id": "1a9ae8b5-46eb-47bb-8050-cbe64f7e7d00"
      }
     }
    },
    "7b9a2c37-a383-46fd-9e4e-e08b89bb029b": {
     "id": "7b9a2c37-a383-46fd-9e4e-e08b89bb029b",
     "prev": "5f862d7c-b214-4a24-ba5f-13a3145bb632",
     "regions": {
      "15fc9869-effb-4009-a3e9-8c80e4da4632": {
       "attrs": {
        "height": 0.8,
        "width": 0.8,
        "x": 0.1,
        "y": 0.1
       },
       "content": {
        "cell": "fe00bdf8-18ae-4d59-b394-69fc15956cf1",
        "part": "whole"
       },
       "id": "15fc9869-effb-4009-a3e9-8c80e4da4632"
      }
     }
    },
    "7c5a0145-7304-4021-88bf-e10323b2e075": {
     "id": "7c5a0145-7304-4021-88bf-e10323b2e075",
     "prev": "22ec7bd4-1ee4-45bb-a2c9-ed4994fca9db",
     "regions": {
      "91daea07-923a-4fc5-a72a-1c3e0a2f3531": {
       "attrs": {
        "height": 0.8,
        "width": 0.8,
        "x": 0.1,
        "y": 0.1
       },
       "content": {
        "cell": "f5402f79-fa87-4555-a40f-49866fa3535c",
        "part": "whole"
       },
       "id": "91daea07-923a-4fc5-a72a-1c3e0a2f3531"
      }
     }
    },
    "7d66e01e-e923-4ed2-8447-2232c845af93": {
     "id": "7d66e01e-e923-4ed2-8447-2232c845af93",
     "prev": "238102d3-292c-49a3-8a26-1e99b4dfb326",
     "regions": {
      "83146e1f-b8ae-4d6d-98eb-48fc2f9b3eec": {
       "attrs": {
        "height": 0.8,
        "width": 0.8,
        "x": 0.1,
        "y": 0.1
       },
       "content": {
        "cell": "e55e3405-edea-4be9-bd9c-0185487e2d69",
        "part": "whole"
       },
       "id": "83146e1f-b8ae-4d6d-98eb-48fc2f9b3eec"
      }
     }
    },
    "7decc70f-98ed-4c50-82b4-9043b750734b": {
     "id": "7decc70f-98ed-4c50-82b4-9043b750734b",
     "prev": "7b9a2c37-a383-46fd-9e4e-e08b89bb029b",
     "regions": {
      "70f01dd9-0c3b-4a92-96fe-bfdc16541d86": {
       "attrs": {
        "height": 0.8,
        "width": 0.8,
        "x": 0.1,
        "y": 0.1
       },
       "content": {
        "cell": "e8d68d3b-1d85-40d2-88dd-0f02e2481013",
        "part": "whole"
       },
       "id": "70f01dd9-0c3b-4a92-96fe-bfdc16541d86"
      }
     }
    },
    "802bd9c2-3aa3-4b7a-a75d-1f7461e09e1c": {
     "id": "802bd9c2-3aa3-4b7a-a75d-1f7461e09e1c",
     "prev": "7d66e01e-e923-4ed2-8447-2232c845af93",
     "regions": {
      "b3b87c3c-fdd2-4566-a8ca-1603e5e5d2be": {
       "attrs": {
        "height": 0.8,
        "width": 0.8,
        "x": 0.1,
        "y": 0.1
       },
       "content": {
        "cell": "c8d31b8b-3d20-4781-b044-7275e9536de9",
        "part": "whole"
       },
       "id": "b3b87c3c-fdd2-4566-a8ca-1603e5e5d2be"
      }
     }
    },
    "889a8f76-6183-48dd-a9c0-e2d72555e1f4": {
     "id": "889a8f76-6183-48dd-a9c0-e2d72555e1f4",
     "prev": "c317f5b3-bfff-4dd3-ac6d-a2b5f3121c03",
     "regions": {
      "f009a153-431a-4dab-bc99-c58aee1671bb": {
       "attrs": {
        "height": 0.8,
        "width": 0.8,
        "x": 0.1,
        "y": 0.1
       },
       "content": {
        "cell": "1cce1ebb-18fa-4749-b0a3-8c2ba9474631",
        "part": "whole"
       },
       "id": "f009a153-431a-4dab-bc99-c58aee1671bb"
      }
     }
    },
    "8a88bd9e-c44b-4f81-9bf7-8497ec4c471a": {
     "id": "8a88bd9e-c44b-4f81-9bf7-8497ec4c471a",
     "prev": "13c857f0-b396-4e3e-b336-53531ed519d2",
     "regions": {
      "62aff364-02d3-46f8-87fa-60b912becc97": {
       "attrs": {
        "height": 0.8,
        "width": 0.8,
        "x": 0.1,
        "y": 0.1
       },
       "content": {
        "cell": "6ade1b4d-c7bf-41b1-9353-baa4d0e03154",
        "part": "whole"
       },
       "id": "62aff364-02d3-46f8-87fa-60b912becc97"
      }
     }
    },
    "8bc368f3-e9bb-40fc-b380-69369f6a8912": {
     "id": "8bc368f3-e9bb-40fc-b380-69369f6a8912",
     "prev": "f7d0c7ad-754c-4894-988e-3046a95396ad",
     "regions": {
      "3a150a46-7ab7-483a-9209-6aba18df88f5": {
       "attrs": {
        "height": 0.8,
        "width": 0.8,
        "x": 0.1,
        "y": 0.1
       },
       "content": {
        "cell": "14c04b36-e897-44bc-8de4-71fcbed4e36f",
        "part": "whole"
       },
       "id": "3a150a46-7ab7-483a-9209-6aba18df88f5"
      }
     }
    },
    "8d8e3de0-d190-4bff-8646-d01c0850a7a6": {
     "id": "8d8e3de0-d190-4bff-8646-d01c0850a7a6",
     "prev": "ed7fc6a6-9e84-4117-9f8e-ae066ea0c038",
     "regions": {
      "dfbda9bc-1113-4b88-b784-948a6623b2ec": {
       "attrs": {
        "height": 0.8,
        "width": 0.8,
        "x": 0.1,
        "y": 0.1
       },
       "content": {
        "cell": "444dd3ad-5823-47e9-9cef-d9c2a154f745",
        "part": "whole"
       },
       "id": "dfbda9bc-1113-4b88-b784-948a6623b2ec"
      }
     }
    },
    "917f00f9-9b72-4a3a-b0c8-8fc1d7de03af": {
     "id": "917f00f9-9b72-4a3a-b0c8-8fc1d7de03af",
     "prev": "2e9053d3-a67c-4ae4-9093-ce8d64934aa5",
     "regions": {
      "d515e7db-8817-4260-accb-920d2c47a23d": {
       "attrs": {
        "height": 0.8,
        "width": 0.8,
        "x": 0.1,
        "y": 0.1
       },
       "content": {
        "cell": "92fcd102-9886-4acb-b77d-5498a40823f1",
        "part": "whole"
       },
       "id": "d515e7db-8817-4260-accb-920d2c47a23d"
      }
     }
    },
    "930c2466-496e-4f7a-9a92-59efcdb507dc": {
     "id": "930c2466-496e-4f7a-9a92-59efcdb507dc",
     "prev": "a4be1b12-5ae7-4077-861c-a709cf4308b4",
     "regions": {
      "5ef28b08-5dd0-44df-b050-adddd13cc499": {
       "attrs": {
        "height": 0.8,
        "width": 0.8,
        "x": 0.1,
        "y": 0.1
       },
       "content": {
        "cell": "a2aa1bd6-d18f-4766-90a9-c9364dc1b5b6",
        "part": "whole"
       },
       "id": "5ef28b08-5dd0-44df-b050-adddd13cc499"
      }
     }
    },
    "964e4cea-ff95-4bcb-82f6-519dd47f38fb": {
     "id": "964e4cea-ff95-4bcb-82f6-519dd47f38fb",
     "prev": "6c963cf1-2164-48e8-bc3f-adf5e7e58f29",
     "regions": {
      "a8d7b2b5-3515-4379-9802-7218b56ccadc": {
       "attrs": {
        "height": 0.8,
        "width": 0.8,
        "x": 0.1,
        "y": 0.1
       },
       "content": {
        "cell": "39da2ea0-9dc8-4fdb-9988-4f19a53e15ff",
        "part": "whole"
       },
       "id": "a8d7b2b5-3515-4379-9802-7218b56ccadc"
      }
     }
    },
    "9d40a686-f9da-4175-a072-1ca6aba1518f": {
     "id": "9d40a686-f9da-4175-a072-1ca6aba1518f",
     "prev": "5cb2366c-dd99-472d-86bb-7d88a851a75e",
     "regions": {
      "eb0ae256-591e-4e44-90b8-6bd2fb614558": {
       "attrs": {
        "height": 0.8,
        "width": 0.8,
        "x": 0.1,
        "y": 0.1
       },
       "content": {
        "cell": "d656d7ee-2540-418a-b7ee-37e9eb03016e",
        "part": "whole"
       },
       "id": "eb0ae256-591e-4e44-90b8-6bd2fb614558"
      }
     }
    },
    "9e8e2f32-a2c3-4b08-9284-103854a4eb28": {
     "id": "9e8e2f32-a2c3-4b08-9284-103854a4eb28",
     "prev": "d2eb73ae-f5d7-44e1-aade-1bd2ebed9f95",
     "regions": {
      "e91f7122-460d-4e95-85b0-d306cde8e373": {
       "attrs": {
        "height": 0.8,
        "width": 0.8,
        "x": 0.1,
        "y": 0.1
       },
       "content": {
        "cell": "3f9ccbb3-96c2-4390-b5f1-4a6600d64b94",
        "part": "whole"
       },
       "id": "e91f7122-460d-4e95-85b0-d306cde8e373"
      }
     }
    },
    "a272e390-ef83-4380-aec6-036f2861c3be": {
     "id": "a272e390-ef83-4380-aec6-036f2861c3be",
     "prev": "077bd60b-9f2e-439d-b87b-5906b8d647be",
     "regions": {
      "96a243ee-495d-4c92-afb5-bebee0b63891": {
       "attrs": {
        "height": 0.8,
        "width": 0.8,
        "x": 0.1,
        "y": 0.1
       },
       "content": {
        "cell": "4d43a6b8-887a-4bc5-996b-2c3f8f3c1121",
        "part": "whole"
       },
       "id": "96a243ee-495d-4c92-afb5-bebee0b63891"
      }
     }
    },
    "a2db890f-8ac9-465d-95ad-0825a6a79c0a": {
     "id": "a2db890f-8ac9-465d-95ad-0825a6a79c0a",
     "prev": "27df3176-6f62-42cb-bc0f-9e45599166f7",
     "regions": {
      "62a76d00-df1b-443b-963c-a6c030a78782": {
       "attrs": {
        "height": 0.8,
        "width": 0.8,
        "x": 0.1,
        "y": 0.1
       },
       "content": {
        "cell": "5ca4ec90-3e02-4901-9ac9-8ed0cd1705fc",
        "part": "whole"
       },
       "id": "62a76d00-df1b-443b-963c-a6c030a78782"
      }
     }
    },
    "a38b6996-7d22-4bbf-a3a5-5a77181fb142": {
     "id": "a38b6996-7d22-4bbf-a3a5-5a77181fb142",
     "prev": "bfca913a-4c29-47a9-800a-85c391e35cec",
     "regions": {
      "ec16d74a-de4a-4af0-9d59-0609673d6cf6": {
       "attrs": {
        "height": 0.8,
        "width": 0.8,
        "x": 0.1,
        "y": 0.1
       },
       "content": {
        "cell": "94944b29-bc2b-4a33-91c0-6b2acc2abb53",
        "part": "whole"
       },
       "id": "ec16d74a-de4a-4af0-9d59-0609673d6cf6"
      }
     }
    },
    "a4be1b12-5ae7-4077-861c-a709cf4308b4": {
     "id": "a4be1b12-5ae7-4077-861c-a709cf4308b4",
     "prev": "dd9364ce-d9d6-46a5-8fea-76e9f40ac7db",
     "regions": {
      "30b38928-b9cc-4149-a43d-2bc335a17cda": {
       "attrs": {
        "height": 0.8,
        "width": 0.8,
        "x": 0.1,
        "y": 0.1
       },
       "content": {
        "cell": "46448a4c-b086-4472-ab23-53f0f5d1ea15",
        "part": "whole"
       },
       "id": "30b38928-b9cc-4149-a43d-2bc335a17cda"
      }
     }
    },
    "a5eab065-e286-4451-a200-db6bbfee4187": {
     "id": "a5eab065-e286-4451-a200-db6bbfee4187",
     "prev": "fb5aae70-4472-48b1-a02a-e6c884fdc725",
     "regions": {
      "16918cbe-89fc-41b0-b86d-b874ef83e5b4": {
       "attrs": {
        "height": 0.8,
        "width": 0.8,
        "x": 0.1,
        "y": 0.1
       },
       "content": {
        "cell": "6cc8ff06-8567-43a5-81cf-a0ca7eebb635",
        "part": "whole"
       },
       "id": "16918cbe-89fc-41b0-b86d-b874ef83e5b4"
      }
     }
    },
    "ac3c501a-c1c3-4714-8220-ef3aa146307f": {
     "id": "ac3c501a-c1c3-4714-8220-ef3aa146307f",
     "prev": "13b7ddb1-466c-4e5b-902b-51ac7645f1a1",
     "regions": {
      "35016301-1eef-41b1-aafc-3d54d12ed843": {
       "attrs": {
        "height": 0.8,
        "width": 0.8,
        "x": 0.1,
        "y": 0.1
       },
       "content": {
        "cell": "88d6de89-cfe2-4512-b197-74609b096e1d",
        "part": "whole"
       },
       "id": "35016301-1eef-41b1-aafc-3d54d12ed843"
      }
     }
    },
    "acc4fe35-26e4-4035-b225-cc01d64551ad": {
     "id": "acc4fe35-26e4-4035-b225-cc01d64551ad",
     "prev": "77c9623b-a590-4cb7-9a99-ff059c9134bb",
     "regions": {
      "a20b0c96-cd8e-487d-8354-b59a10af4ef1": {
       "attrs": {
        "height": 0.8,
        "width": 0.8,
        "x": 0.1,
        "y": 0.1
       },
       "content": {
        "cell": "db6af161-6788-4cab-842c-924a70b5a017",
        "part": "whole"
       },
       "id": "a20b0c96-cd8e-487d-8354-b59a10af4ef1"
      }
     }
    },
    "ad6e62e3-7fd7-40c9-bb34-f1ba369dc00a": {
     "id": "ad6e62e3-7fd7-40c9-bb34-f1ba369dc00a",
     "prev": "917f00f9-9b72-4a3a-b0c8-8fc1d7de03af",
     "regions": {
      "7da18a27-fa50-4333-8a5f-0f3c6ef2c605": {
       "attrs": {
        "height": 0.8,
        "width": 0.8,
        "x": 0.1,
        "y": 0.1
       },
       "content": {
        "cell": "8b607c29-39d6-4514-a4cb-67a11106b510",
        "part": "whole"
       },
       "id": "7da18a27-fa50-4333-8a5f-0f3c6ef2c605"
      }
     }
    },
    "af514049-a182-497e-97d1-1d5e0552dfc4": {
     "id": "af514049-a182-497e-97d1-1d5e0552dfc4",
     "prev": "4ae36380-6241-48a2-8cd1-72a7b2a50fde",
     "regions": {
      "ec9a7eec-5232-4546-a316-feeb243323d5": {
       "attrs": {
        "height": 0.8,
        "width": 0.8,
        "x": 0.1,
        "y": 0.1
       },
       "content": {
        "cell": "d6439dee-7b7b-43a8-8ee8-8677f49d9829",
        "part": "whole"
       },
       "id": "ec9a7eec-5232-4546-a316-feeb243323d5"
      }
     }
    },
    "b12311f9-86b0-46ec-b30a-41e7ba201520": {
     "id": "b12311f9-86b0-46ec-b30a-41e7ba201520",
     "prev": "fd42ae78-de74-47de-9842-af06812c9f96",
     "regions": {
      "d4da8f92-dc51-4b78-8b3a-a1091653bd24": {
       "attrs": {
        "height": 0.8,
        "width": 0.8,
        "x": 0.1,
        "y": 0.1
       },
       "content": {
        "cell": "e3355130-208a-44d9-a668-b7cc8636df6f",
        "part": "whole"
       },
       "id": "d4da8f92-dc51-4b78-8b3a-a1091653bd24"
      }
     }
    },
    "b15c9614-7a89-47b4-a296-c069ef0e1bbf": {
     "id": "b15c9614-7a89-47b4-a296-c069ef0e1bbf",
     "prev": "e72bb693-511f-43d3-85fc-6f40179580ca",
     "regions": {
      "b57666ee-8497-4179-af6d-27ce16fac681": {
       "attrs": {
        "height": 0.8,
        "width": 0.8,
        "x": 0.1,
        "y": 0.1
       },
       "content": {
        "cell": "94ac114b-7b69-4ad5-8c46-a7ba93babe74",
        "part": "whole"
       },
       "id": "b57666ee-8497-4179-af6d-27ce16fac681"
      }
     }
    },
    "b36e1828-bc42-466b-8112-328ce9a1dc12": {
     "id": "b36e1828-bc42-466b-8112-328ce9a1dc12",
     "prev": "70445211-6693-4ae6-947a-740def8be2d6",
     "regions": {
      "30958908-fdb6-4ceb-8583-3f0958b23dc2": {
       "attrs": {
        "height": 0.8,
        "width": 0.8,
        "x": 0.1,
        "y": 0.1
       },
       "content": {
        "cell": "6bb06f5f-cae5-425b-aca0-4911640d6254",
        "part": "whole"
       },
       "id": "30958908-fdb6-4ceb-8583-3f0958b23dc2"
      }
     }
    },
    "b3c92417-9c48-40ef-b8f5-e3c00028d22c": {
     "id": "b3c92417-9c48-40ef-b8f5-e3c00028d22c",
     "prev": "8a88bd9e-c44b-4f81-9bf7-8497ec4c471a",
     "regions": {
      "629e4e13-fc97-4d35-8f81-b881b7137a87": {
       "attrs": {
        "height": 0.8,
        "width": 0.8,
        "x": 0.1,
        "y": 0.1
       },
       "content": {
        "cell": "3aad48e5-5cb1-4a40-ab0e-7e0a3071b284",
        "part": "whole"
       },
       "id": "629e4e13-fc97-4d35-8f81-b881b7137a87"
      }
     }
    },
    "b53d156c-9730-4e06-9b5b-bfa550a76519": {
     "id": "b53d156c-9730-4e06-9b5b-bfa550a76519",
     "prev": "0fd13cc5-16f3-48f3-9fbb-ab491c03d61e",
     "regions": {
      "6b994c90-2fda-4957-bdae-696e8ae463ee": {
       "attrs": {
        "height": 0.8,
        "width": 0.8,
        "x": 0.1,
        "y": 0.1
       },
       "content": {
        "cell": "270e9f27-6fbe-4719-aa71-bef8257b75e6",
        "part": "whole"
       },
       "id": "6b994c90-2fda-4957-bdae-696e8ae463ee"
      }
     }
    },
    "b8600aea-cb17-4259-adcf-0435a2a0d5c4": {
     "id": "b8600aea-cb17-4259-adcf-0435a2a0d5c4",
     "prev": "f27cb4db-4bd9-4188-ace0-a481272af5c9",
     "regions": {
      "e2b6c70b-632d-4a42-b81b-1d7b8e0841bb": {
       "attrs": {
        "height": 0.8,
        "width": 0.8,
        "x": 0.1,
        "y": 0.1
       },
       "content": {
        "cell": "1d35ab00-65ed-42e6-a95c-e0c69625af4f",
        "part": "whole"
       },
       "id": "e2b6c70b-632d-4a42-b81b-1d7b8e0841bb"
      }
     }
    },
    "bcc2be94-24b3-4bae-983d-f0f9540c3ca0": {
     "id": "bcc2be94-24b3-4bae-983d-f0f9540c3ca0",
     "prev": "9e8e2f32-a2c3-4b08-9284-103854a4eb28",
     "regions": {
      "a46a6aa8-7c11-4c4a-980c-84e2ab8b4be6": {
       "attrs": {
        "height": 0.8,
        "width": 0.8,
        "x": 0.1,
        "y": 0.1
       },
       "content": {
        "cell": "c2d8e166-7ba9-486b-8ba6-7544f4579799",
        "part": "whole"
       },
       "id": "a46a6aa8-7c11-4c4a-980c-84e2ab8b4be6"
      }
     }
    },
    "be2510a9-c7c0-447d-ae2f-469763a131dd": {
     "id": "be2510a9-c7c0-447d-ae2f-469763a131dd",
     "prev": "0607c9a0-6096-42e7-b694-7a50b20201e2",
     "regions": {
      "548b2bcf-d337-4e4d-aa5f-4e5e75d2c6ba": {
       "attrs": {
        "height": 0.8,
        "width": 0.8,
        "x": 0.1,
        "y": 0.1
       },
       "content": {
        "cell": "912c34b0-dda6-4005-a1b6-9e7a059c44f1",
        "part": "whole"
       },
       "id": "548b2bcf-d337-4e4d-aa5f-4e5e75d2c6ba"
      }
     }
    },
    "bfca913a-4c29-47a9-800a-85c391e35cec": {
     "id": "bfca913a-4c29-47a9-800a-85c391e35cec",
     "prev": "ad6e62e3-7fd7-40c9-bb34-f1ba369dc00a",
     "regions": {
      "a96af743-a59e-4305-9f9b-8ea3231357e2": {
       "attrs": {
        "height": 0.8,
        "width": 0.8,
        "x": 0.1,
        "y": 0.1
       },
       "content": {
        "cell": "09c00c7b-9b0d-4d32-aafa-fdb1ba26c265",
        "part": "whole"
       },
       "id": "a96af743-a59e-4305-9f9b-8ea3231357e2"
      }
     }
    },
    "c1b5c437-0851-4262-8655-85f179ffc32e": {
     "id": "c1b5c437-0851-4262-8655-85f179ffc32e",
     "prev": "8bc368f3-e9bb-40fc-b380-69369f6a8912",
     "regions": {
      "791e6164-b43f-4d81-838c-5822038fcda8": {
       "attrs": {
        "height": 0.8,
        "width": 0.8,
        "x": 0.1,
        "y": 0.1
       },
       "content": {
        "cell": "f218c846-64b9-4e08-a31d-54ab0d8c3a10",
        "part": "whole"
       },
       "id": "791e6164-b43f-4d81-838c-5822038fcda8"
      }
     }
    },
    "c317f5b3-bfff-4dd3-ac6d-a2b5f3121c03": {
     "id": "c317f5b3-bfff-4dd3-ac6d-a2b5f3121c03",
     "prev": "acc4fe35-26e4-4035-b225-cc01d64551ad",
     "regions": {
      "1950b9bf-cb44-40d6-a61e-02150f9b23de": {
       "attrs": {
        "height": 0.8,
        "width": 0.8,
        "x": 0.1,
        "y": 0.1
       },
       "content": {
        "cell": "e3fb5222-f68c-44f8-bc2b-6b5f770b1afa",
        "part": "whole"
       },
       "id": "1950b9bf-cb44-40d6-a61e-02150f9b23de"
      }
     }
    },
    "c65cb1a5-3222-41a0-94c5-727ae505f4a1": {
     "id": "c65cb1a5-3222-41a0-94c5-727ae505f4a1",
     "prev": "b36e1828-bc42-466b-8112-328ce9a1dc12",
     "regions": {
      "3de628d7-68df-4739-81f6-b9b1774742b9": {
       "attrs": {
        "height": 0.8,
        "width": 0.8,
        "x": 0.1,
        "y": 0.1
       },
       "content": {
        "cell": "7bb4784f-0957-4b4f-8d53-cb0f4462a990",
        "part": "whole"
       },
       "id": "3de628d7-68df-4739-81f6-b9b1774742b9"
      }
     }
    },
    "d152c30a-51a5-4ca4-b909-9eb4d15b78aa": {
     "id": "d152c30a-51a5-4ca4-b909-9eb4d15b78aa",
     "prev": "7decc70f-98ed-4c50-82b4-9043b750734b",
     "regions": {
      "de51fb4f-b0bf-4336-b7ae-f2867601b15d": {
       "attrs": {
        "height": 0.8,
        "width": 0.8,
        "x": 0.1,
        "y": 0.1
       },
       "content": {
        "cell": "fea0ccf4-9e55-48e3-9c09-2ce504ae9c0c",
        "part": "whole"
       },
       "id": "de51fb4f-b0bf-4336-b7ae-f2867601b15d"
      }
     }
    },
    "d217b150-82fd-4066-b3f8-eed43c5ea625": {
     "id": "d217b150-82fd-4066-b3f8-eed43c5ea625",
     "prev": "28e65e8a-3a61-4fe6-a6ec-3a435b03e25d",
     "regions": {
      "e879e873-057a-40a7-94b2-0ba726e6507f": {
       "attrs": {
        "height": 0.8,
        "width": 0.8,
        "x": 0.1,
        "y": 0.1
       },
       "content": {
        "cell": "0cb65476-1125-474c-94bb-a2cbe49c8cb5",
        "part": "whole"
       },
       "id": "e879e873-057a-40a7-94b2-0ba726e6507f"
      }
     }
    },
    "d297d8fb-fea8-4d51-930f-a94ef9e1b461": {
     "id": "d297d8fb-fea8-4d51-930f-a94ef9e1b461",
     "prev": "606ebdac-d2be-47d0-ac2b-c284a8a8e63e",
     "regions": {
      "940151ac-9b1c-4574-a941-34632f8e5415": {
       "attrs": {
        "height": 0.8,
        "width": 0.8,
        "x": 0.1,
        "y": 0.1
       },
       "content": {
        "cell": "c16f8261-24ea-44d2-b4cf-bc286d2aad52",
        "part": "whole"
       },
       "id": "940151ac-9b1c-4574-a941-34632f8e5415"
      }
     }
    },
    "d2eb73ae-f5d7-44e1-aade-1bd2ebed9f95": {
     "id": "d2eb73ae-f5d7-44e1-aade-1bd2ebed9f95",
     "prev": "3e5727d8-e0a1-46f5-879b-bee3ea42440a",
     "regions": {
      "9a232064-7657-4a1b-9d95-9aa83d018273": {
       "attrs": {
        "height": 0.8,
        "width": 0.8,
        "x": 0.1,
        "y": 0.1
       },
       "content": {
        "cell": "39a7fd48-9b28-4725-b92a-7a4ae58c5cd3",
        "part": "whole"
       },
       "id": "9a232064-7657-4a1b-9d95-9aa83d018273"
      }
     }
    },
    "d3817fdb-73f8-4c01-9f8b-c7973de56273": {
     "id": "d3817fdb-73f8-4c01-9f8b-c7973de56273",
     "prev": "2dc8eb68-5453-46e8-9b9e-e19afce7d1ac",
     "regions": {
      "aa9fa48b-c00d-45db-9b1a-f3288618eb8f": {
       "attrs": {
        "height": 0.8,
        "width": 0.8,
        "x": 0.1,
        "y": 0.1
       },
       "content": {
        "cell": "78b4cd89-a899-46cc-9498-4b3024512129",
        "part": "whole"
       },
       "id": "aa9fa48b-c00d-45db-9b1a-f3288618eb8f"
      }
     }
    },
    "d5c99076-12a5-40c4-a4a8-09bdac5b91c4": {
     "id": "d5c99076-12a5-40c4-a4a8-09bdac5b91c4",
     "prev": "66c5d57a-ee03-4971-85ae-6e8b99481da0",
     "regions": {
      "c1e829b6-4e70-4ad1-837a-32c39952755e": {
       "attrs": {
        "height": 0.8,
        "width": 0.8,
        "x": 0.1,
        "y": 0.1
       },
       "content": {
        "cell": "7eae52fd-a9d9-48fd-a8db-4dee85c32aa7",
        "part": "whole"
       },
       "id": "c1e829b6-4e70-4ad1-837a-32c39952755e"
      }
     }
    },
    "d795e57e-510c-49a6-a730-3b76ccc7dc70": {
     "id": "d795e57e-510c-49a6-a730-3b76ccc7dc70",
     "prev": "7212083d-181b-4970-9d3d-ec8f2e9188f8",
     "regions": {
      "15b866e9-0ff2-449d-83a4-32bc9a0f9670": {
       "attrs": {
        "height": 0.8,
        "width": 0.8,
        "x": 0.1,
        "y": 0.1
       },
       "content": {
        "cell": "f0371f3d-141c-43a5-b4dc-8d5918c6ae25",
        "part": "whole"
       },
       "id": "15b866e9-0ff2-449d-83a4-32bc9a0f9670"
      }
     }
    },
    "da3c91d1-b251-4274-a50d-3aa1e9af31fe": {
     "id": "da3c91d1-b251-4274-a50d-3aa1e9af31fe",
     "prev": "0df72952-786e-4a3d-822b-5bda7a518ce4",
     "regions": {
      "2e9cf656-1188-43d5-ac1b-441fc25bebc3": {
       "attrs": {
        "height": 0.8,
        "width": 0.8,
        "x": 0.1,
        "y": 0.1
       },
       "content": {
        "cell": "43c67a95-d3b2-4795-9857-ca10fc41fbea",
        "part": "whole"
       },
       "id": "2e9cf656-1188-43d5-ac1b-441fc25bebc3"
      }
     }
    },
    "db40f482-ed98-46fd-b500-b710dee588ff": {
     "id": "db40f482-ed98-46fd-b500-b710dee588ff",
     "prev": "c1b5c437-0851-4262-8655-85f179ffc32e",
     "regions": {
      "ee070dda-836d-4b00-9293-1a199650fb25": {
       "attrs": {
        "height": 0.8,
        "width": 0.8,
        "x": 0.1,
        "y": 0.1
       },
       "content": {
        "cell": "e3fd9cbb-42d3-4a2b-8374-9e2b089c06b5",
        "part": "whole"
       },
       "id": "ee070dda-836d-4b00-9293-1a199650fb25"
      }
     }
    },
    "dd9364ce-d9d6-46a5-8fea-76e9f40ac7db": {
     "id": "dd9364ce-d9d6-46a5-8fea-76e9f40ac7db",
     "prev": "388d4d1a-85f6-40b8-953f-0f0430388717",
     "regions": {
      "00c6bdd2-810b-4170-86bc-d5fd756e1560": {
       "attrs": {
        "height": 0.8,
        "width": 0.8,
        "x": 0.1,
        "y": 0.1
       },
       "content": {
        "cell": "556c72e8-6186-418c-b302-906fec50d88d",
        "part": "whole"
       },
       "id": "00c6bdd2-810b-4170-86bc-d5fd756e1560"
      }
     }
    },
    "df4853b0-2843-495a-8284-22f6292eafd4": {
     "id": "df4853b0-2843-495a-8284-22f6292eafd4",
     "prev": "da3c91d1-b251-4274-a50d-3aa1e9af31fe",
     "regions": {
      "993068a4-d6b2-4131-babb-ce8901fdc3f6": {
       "attrs": {
        "height": 0.8,
        "width": 0.8,
        "x": 0.1,
        "y": 0.1
       },
       "content": {
        "cell": "c731e33d-09ec-4908-94c3-a29eded1e5ef",
        "part": "whole"
       },
       "id": "993068a4-d6b2-4131-babb-ce8901fdc3f6"
      }
     }
    },
    "e72bb693-511f-43d3-85fc-6f40179580ca": {
     "id": "e72bb693-511f-43d3-85fc-6f40179580ca",
     "prev": "fb0417f9-443b-443b-afb5-748444ffade7",
     "regions": {
      "b8e0c771-dd17-432d-b0c4-44a335f02398": {
       "attrs": {
        "height": 0.8,
        "width": 0.8,
        "x": 0.1,
        "y": 0.1
       },
       "content": {
        "cell": "abfdecfa-2199-4ff2-b956-ee581136fd78",
        "part": "whole"
       },
       "id": "b8e0c771-dd17-432d-b0c4-44a335f02398"
      }
     }
    },
    "ea2002a3-7b6b-434e-9707-2cc00ca02ae4": {
     "id": "ea2002a3-7b6b-434e-9707-2cc00ca02ae4",
     "prev": "b15c9614-7a89-47b4-a296-c069ef0e1bbf",
     "regions": {
      "38c6aad7-185f-4e65-a5e8-184f9de9622a": {
       "attrs": {
        "height": 0.8,
        "width": 0.8,
        "x": 0.1,
        "y": 0.1
       },
       "content": {
        "cell": "0174da44-e81d-4633-aa00-f1e69534b1c9",
        "part": "whole"
       },
       "id": "38c6aad7-185f-4e65-a5e8-184f9de9622a"
      }
     }
    },
    "ec992875-bd44-49ba-9160-68caf154bc12": {
     "id": "ec992875-bd44-49ba-9160-68caf154bc12",
     "prev": "fd684696-d9a6-4977-b66a-f0fdf1566a98",
     "regions": {
      "078165ec-aadf-4fc7-962c-14bf9c498862": {
       "attrs": {
        "height": 0.8,
        "width": 0.8,
        "x": 0.1,
        "y": 0.1
       },
       "content": {
        "cell": "2124875a-3361-4553-8313-57bab9357ca0",
        "part": "whole"
       },
       "id": "078165ec-aadf-4fc7-962c-14bf9c498862"
      }
     }
    },
    "ed7fc6a6-9e84-4117-9f8e-ae066ea0c038": {
     "id": "ed7fc6a6-9e84-4117-9f8e-ae066ea0c038",
     "prev": "7a7fbf4d-a6d1-4497-ae39-d623eb8926c3",
     "regions": {
      "c6ddd2bb-7df5-4aec-98f2-24a48b291b85": {
       "attrs": {
        "height": 0.8,
        "width": 0.8,
        "x": 0.1,
        "y": 0.1
       },
       "content": {
        "cell": "068a7d9f-d44b-4905-bddf-efe6c3f27c13",
        "part": "whole"
       },
       "id": "c6ddd2bb-7df5-4aec-98f2-24a48b291b85"
      }
     }
    },
    "f27cb4db-4bd9-4188-ace0-a481272af5c9": {
     "id": "f27cb4db-4bd9-4188-ace0-a481272af5c9",
     "prev": "ea2002a3-7b6b-434e-9707-2cc00ca02ae4",
     "regions": {
      "8aecedc0-1e7a-4b31-b6d6-343dec0f8e27": {
       "attrs": {
        "height": 0.8,
        "width": 0.8,
        "x": 0.1,
        "y": 0.1
       },
       "content": {
        "cell": "13ac42a4-f265-45ae-9005-54c0000420bf",
        "part": "whole"
       },
       "id": "8aecedc0-1e7a-4b31-b6d6-343dec0f8e27"
      }
     }
    },
    "f4068cb5-4768-49d9-a192-1c586caf4b6d": {
     "id": "f4068cb5-4768-49d9-a192-1c586caf4b6d",
     "prev": "802bd9c2-3aa3-4b7a-a75d-1f7461e09e1c",
     "regions": {
      "556cafbc-98b0-4657-9b06-e2581ef88fe6": {
       "attrs": {
        "height": 0.8,
        "width": 0.8,
        "x": 0.1,
        "y": 0.1
       },
       "content": {
        "cell": "dc475d0e-10cc-496c-b9fd-4999074d3c44",
        "part": "whole"
       },
       "id": "556cafbc-98b0-4657-9b06-e2581ef88fe6"
      }
     }
    },
    "f553b7e9-bb2f-4245-acaa-2def5654274a": {
     "id": "f553b7e9-bb2f-4245-acaa-2def5654274a",
     "prev": "be2510a9-c7c0-447d-ae2f-469763a131dd",
     "regions": {
      "16be40e4-29e3-40bd-b8d3-6fb1dcf7566e": {
       "attrs": {
        "height": 0.8,
        "width": 0.8,
        "x": 0.1,
        "y": 0.1
       },
       "content": {
        "cell": "d1b9ea74-25b5-43c0-8890-99e2e00630b2",
        "part": "whole"
       },
       "id": "16be40e4-29e3-40bd-b8d3-6fb1dcf7566e"
      }
     }
    },
    "f7d0c7ad-754c-4894-988e-3046a95396ad": {
     "id": "f7d0c7ad-754c-4894-988e-3046a95396ad",
     "prev": "a2db890f-8ac9-465d-95ad-0825a6a79c0a",
     "regions": {
      "a5de3b3a-4a03-4b0c-bb15-d666c2f771aa": {
       "attrs": {
        "height": 0.8,
        "width": 0.8,
        "x": 0.1,
        "y": 0.1
       },
       "content": {
        "cell": "a3549336-ad28-4ec7-bb32-1fac960b77c0",
        "part": "whole"
       },
       "id": "a5de3b3a-4a03-4b0c-bb15-d666c2f771aa"
      }
     }
    },
    "fa2f8d8c-2bc7-4515-8428-36653784b5c2": {
     "id": "fa2f8d8c-2bc7-4515-8428-36653784b5c2",
     "prev": "9d40a686-f9da-4175-a072-1ca6aba1518f",
     "regions": {
      "0e9fe3bb-cb17-443f-8b9a-eb9784e1d31d": {
       "attrs": {
        "height": 0.8,
        "width": 0.8,
        "x": 0.1,
        "y": 0.1
       },
       "content": {
        "cell": "31d68395-fd2e-45a2-98d0-002e211469d7",
        "part": "whole"
       },
       "id": "0e9fe3bb-cb17-443f-8b9a-eb9784e1d31d"
      }
     }
    },
    "fb0417f9-443b-443b-afb5-748444ffade7": {
     "id": "fb0417f9-443b-443b-afb5-748444ffade7",
     "prev": "a5eab065-e286-4451-a200-db6bbfee4187",
     "regions": {
      "920d7fc3-8e53-43c6-9494-1d32868a3843": {
       "attrs": {
        "height": 0.8,
        "width": 0.8,
        "x": 0.1,
        "y": 0.1
       },
       "content": {
        "cell": "fec92d3f-a807-40ab-8b34-4bf931dae955",
        "part": "whole"
       },
       "id": "920d7fc3-8e53-43c6-9494-1d32868a3843"
      }
     }
    },
    "fb5aae70-4472-48b1-a02a-e6c884fdc725": {
     "id": "fb5aae70-4472-48b1-a02a-e6c884fdc725",
     "prev": "df4853b0-2843-495a-8284-22f6292eafd4",
     "regions": {
      "91cdb4c5-29ad-4564-ae68-4e820f511789": {
       "attrs": {
        "height": 0.8,
        "width": 0.8,
        "x": 0.1,
        "y": 0.1
       },
       "content": {
        "cell": "9859619b-e382-4a7e-b195-616e8d2bba13",
        "part": "whole"
       },
       "id": "91cdb4c5-29ad-4564-ae68-4e820f511789"
      }
     }
    },
    "fd42ae78-de74-47de-9842-af06812c9f96": {
     "id": "fd42ae78-de74-47de-9842-af06812c9f96",
     "prev": "69ed5d5e-b42d-422a-aaa6-a28359ee0a89",
     "regions": {
      "2908b68c-c03d-49fb-8f13-c853a4f20d2c": {
       "attrs": {
        "height": 0.8,
        "width": 0.8,
        "x": 0.1,
        "y": 0.1
       },
       "content": {
        "cell": "8467128b-ca35-4ebb-9ac3-9aa6c725b137",
        "part": "whole"
       },
       "id": "2908b68c-c03d-49fb-8f13-c853a4f20d2c"
      }
     }
    },
    "fd684696-d9a6-4977-b66a-f0fdf1566a98": {
     "id": "fd684696-d9a6-4977-b66a-f0fdf1566a98",
     "prev": "d5c99076-12a5-40c4-a4a8-09bdac5b91c4",
     "regions": {
      "a3ae1dce-2a52-474b-b6ab-8a34fdd85d3f": {
       "attrs": {
        "height": 0.8,
        "width": 0.8,
        "x": 0.1,
        "y": 0.1
       },
       "content": {
        "cell": "27f1fb08-7691-43d0-a683-5acb814e66b2",
        "part": "whole"
       },
       "id": "a3ae1dce-2a52-474b-b6ab-8a34fdd85d3f"
      }
     }
    }
   },
   "themes": {
    "default": "d65cd729-ab1a-44bf-8dfd-f8d4fd0e4ef8",
    "theme": {
     "d65cd729-ab1a-44bf-8dfd-f8d4fd0e4ef8": {
      "id": "d65cd729-ab1a-44bf-8dfd-f8d4fd0e4ef8",
      "palette": {
       "19cc588f-0593-49c9-9f4b-e4d7cc113b1c": {
        "id": "19cc588f-0593-49c9-9f4b-e4d7cc113b1c",
        "rgb": [
         252,
         252,
         252
        ]
       },
       "31af15d2-7e15-44c5-ab5e-e04b16a89eff": {
        "id": "31af15d2-7e15-44c5-ab5e-e04b16a89eff",
        "rgb": [
         68,
         68,
         68
        ]
       },
       "50f92c45-a630-455b-aec3-788680ec7410": {
        "id": "50f92c45-a630-455b-aec3-788680ec7410",
        "rgb": [
         155,
         177,
         192
        ]
       },
       "c5cc3653-2ee1-402a-aba2-7caae1da4f6c": {
        "id": "c5cc3653-2ee1-402a-aba2-7caae1da4f6c",
        "rgb": [
         43,
         126,
         184
        ]
       },
       "efa7f048-9acb-414c-8b04-a26811511a21": {
        "id": "efa7f048-9acb-414c-8b04-a26811511a21",
        "rgb": [
         25.118061674008803,
         73.60176211453744,
         107.4819383259912
        ]
       }
      },
      "rules": {
       "blockquote": {
        "color": "50f92c45-a630-455b-aec3-788680ec7410"
       },
       "code": {
        "font-family": "Anonymous Pro"
       },
       "h1": {
        "color": "c5cc3653-2ee1-402a-aba2-7caae1da4f6c",
        "font-family": "Lato",
        "font-size": 8
       },
       "h2": {
        "color": "c5cc3653-2ee1-402a-aba2-7caae1da4f6c",
        "font-family": "Lato",
        "font-size": 6
       },
       "h3": {
        "color": "50f92c45-a630-455b-aec3-788680ec7410",
        "font-family": "Lato",
        "font-size": 5.5
       },
       "h4": {
        "color": "c5cc3653-2ee1-402a-aba2-7caae1da4f6c",
        "font-family": "Lato",
        "font-size": 5
       },
       "h5": {
        "font-family": "Lato"
       },
       "h6": {
        "font-family": "Lato"
       },
       "h7": {
        "font-family": "Lato"
       },
       "pre": {
        "font-family": "Anonymous Pro",
        "font-size": 4
       }
      },
      "text-base": {
       "font-family": "Merriweather",
       "font-size": 4
      }
     }
    }
   }
  }
 },
 "nbformat": 4,
 "nbformat_minor": 1
}
