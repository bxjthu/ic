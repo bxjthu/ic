{
 "cells": [
  {
   "cell_type": "markdown",
   "metadata": {},
   "source": [
    "# 14. Classes and Objects"
   ]
  },
  {
   "cell_type": "markdown",
   "metadata": {},
   "source": [
    "## Object-oriented programming\n",
    "\n",
    "Python is an object-oriented programming language. That means it provides features that support object-oriented programming (OOP).\n",
    "\n",
    "Up to now, some of the programs we have been writing use a **procedural programming paradigm**. In procedural programming the focus is on writing functions or procedures which operate on data.\n",
    "\n",
    "In **object-oriented programming** the focus is on the creation of objects which contain both data and functionality together."
   ]
  },
  {
   "cell_type": "markdown",
   "metadata": {},
   "source": [
    "** Object definition**\n",
    "\n",
    "Usually, each object definition corresponds to some object or concept **in the real world**, and the functions that operate on that object correspond to the ways real-world objects interact."
   ]
  },
  {
   "cell_type": "markdown",
   "metadata": {},
   "source": [
    "## User-defined Classes"
   ]
  },
  {
   "cell_type": "code",
   "execution_count": null,
   "metadata": {
    "collapsed": true
   },
   "outputs": [],
   "source": [
    "class Point:\n",
    "    \"\"\" Point class represents and manipulates x,y coords. \"\"\"\n",
    "\n",
    "    def __init__(self):\n",
    "        \"\"\" Create a new point at the origin \"\"\"\n",
    "        self.x = 0\n",
    "        self.y = 0"
   ]
  },
  {
   "cell_type": "markdown",
   "metadata": {},
   "source": [
    "Every class should have a method with the special name `__init__`. This **initializer** method is automatically called whenever a new instance is created. \n",
    "\n",
    "It gives the programmer the opportunity to set up the attributes required within the new instance by giving them their initial state/values. \n",
    "\n",
    "The **self** parameter is automatically set to reference the newly created object that needs to be initialized."
   ]
  },
  {
   "cell_type": "code",
   "execution_count": null,
   "metadata": {
    "collapsed": false
   },
   "outputs": [],
   "source": [
    "p = Point()         # Instantiate an object of type Point\n",
    "q = Point()         # and make a second point\n",
    "\n",
    "print(p)\n",
    "print(q)\n",
    "\n",
    "print(p is q)"
   ]
  },
  {
   "cell_type": "code",
   "execution_count": null,
   "metadata": {
    "collapsed": false
   },
   "outputs": [],
   "source": [
    "print(p.x, q.y)\n",
    "\n",
    "p.x, p.y = 5, 6\n",
    "\n",
    "print(p.x, p.y)"
   ]
  },
  {
   "cell_type": "markdown",
   "metadata": {},
   "source": [
    "A function like **Point()** that creates a new object instance is called a **constructor**. \n",
    "\n",
    "Every class automatically uses the name of the class as the name of the constructor function. \n",
    "\n",
    "The definition of the constructor function is done when you write the `__init__` function."
   ]
  },
  {
   "cell_type": "markdown",
   "metadata": {},
   "source": [
    "It may be helpful to think of a class as a factory for making objects. \n",
    "\n",
    "The class itself isn’t an instance of a point, but it contains the machinery to make point instances. \n",
    "\n",
    "Every time we call the constructor, we’re asking the factory to make us a new object. As the object comes off the production line, its initialization method is executed to get the object properly set up with its factory default settings.\n",
    "\n",
    "The combined process of “make me a new object” and “get its settings initialized to the factory default settings” is called instantiation."
   ]
  },
  {
   "cell_type": "markdown",
   "metadata": {},
   "source": [
    "## Improving our initializer"
   ]
  },
  {
   "cell_type": "code",
   "execution_count": null,
   "metadata": {
    "collapsed": true
   },
   "outputs": [],
   "source": [
    "class Point:\n",
    "    \"\"\" Point class represents and manipulates x,y coords. \"\"\"\n",
    "\n",
    "    def __init__(self, x=0, y=0):\n",
    "        \"\"\" Create a new point at x, y \"\"\"\n",
    "        self.x = x\n",
    "        self.y = y"
   ]
  },
  {
   "cell_type": "code",
   "execution_count": null,
   "metadata": {
    "collapsed": false
   },
   "outputs": [],
   "source": [
    "p = Point(4, 2)\n",
    "q = Point(6, 3)\n",
    "r = Point()       # r represents the origin (0, 0)\n",
    "print(p.x, q.y, r.x)"
   ]
  },
  {
   "cell_type": "markdown",
   "metadata": {},
   "source": [
    "## Adding Other Methods\n",
    "\n",
    "A method behaves like a function but it is invoked on a specific instance, e.g. `tess.right(90)`. Like a data attribute, methods are accessed using dot notation."
   ]
  },
  {
   "cell_type": "code",
   "execution_count": null,
   "metadata": {
    "collapsed": true
   },
   "outputs": [],
   "source": [
    "class Point:\n",
    "    \"\"\" Create a new Point, at coordinates x, y \"\"\"\n",
    "\n",
    "    def __init__(self, x=0, y=0):\n",
    "        \"\"\" Create a new point at x, y \"\"\"\n",
    "        self.x = x\n",
    "        self.y = y\n",
    "\n",
    "    def distance_from_origin(self):\n",
    "        \"\"\" Compute my distance from the origin \"\"\"\n",
    "        return ((self.x ** 2) + (self.y ** 2)) ** 0.5"
   ]
  },
  {
   "cell_type": "code",
   "execution_count": null,
   "metadata": {
    "collapsed": false
   },
   "outputs": [],
   "source": [
    "p = Point(3, 4)\n",
    "print(p.x, p.y)\n",
    "\n",
    "print(p.distance_from_origin())\n",
    "\n",
    "q = Point(5, 12)\n",
    "print(q.x, q.y)\n",
    "print(q.distance_from_origin())"
   ]
  },
  {
   "cell_type": "markdown",
   "metadata": {},
   "source": [
    "## Instances as arguments and parameters"
   ]
  },
  {
   "cell_type": "code",
   "execution_count": null,
   "metadata": {
    "collapsed": false
   },
   "outputs": [],
   "source": [
    "def print_point(pt):\n",
    "    print(\"({0}, {1})\".format(pt.x, pt.y))\n",
    "    \n",
    "print_point(p)"
   ]
  },
  {
   "cell_type": "code",
   "execution_count": null,
   "metadata": {
    "collapsed": false
   },
   "outputs": [],
   "source": [
    "import math\n",
    "\n",
    "def distance(point1, point2):\n",
    "    xdiff = point2.x - point1.x\n",
    "    ydiff = point2.y - point1.y\n",
    "\n",
    "    dist = math.sqrt(xdiff**2 + ydiff**2)\n",
    "    return dist\n",
    "\n",
    "p = Point(4, 3)\n",
    "q = Point(0, 0)\n",
    "print(distance(p, q))"
   ]
  },
  {
   "cell_type": "markdown",
   "metadata": {},
   "source": [
    "## Converting an Object to a String"
   ]
  },
  {
   "cell_type": "code",
   "execution_count": null,
   "metadata": {
    "collapsed": false
   },
   "outputs": [],
   "source": [
    "print(p)\n",
    "str(p)"
   ]
  },
  {
   "cell_type": "code",
   "execution_count": null,
   "metadata": {
    "collapsed": true
   },
   "outputs": [],
   "source": [
    "class Point:\n",
    "    \"\"\" Point class represents and manipulates x,y coords. \"\"\"\n",
    "\n",
    "    def __init__(self, x=0, y=0):\n",
    "        \"\"\" Create a new point at x, y \"\"\"\n",
    "        self.x = x\n",
    "        self.y = y\n",
    "        \n",
    "    def __str__(self):\n",
    "        return \"({},{})\".format(self.x, self.y)\n"
   ]
  },
  {
   "cell_type": "code",
   "execution_count": null,
   "metadata": {
    "collapsed": false
   },
   "outputs": [],
   "source": [
    "p = Point(1,2)\n",
    "\n",
    "print(p)\n",
    "\n",
    "print(str(p))"
   ]
  },
  {
   "cell_type": "markdown",
   "metadata": {
    "collapsed": true
   },
   "source": [
    "## Instances as return values"
   ]
  },
  {
   "cell_type": "code",
   "execution_count": null,
   "metadata": {
    "collapsed": true
   },
   "outputs": [],
   "source": [
    "class Point:   \n",
    "    \n",
    "    def __init__(self, x=0, y=0):\n",
    "        self.x = x\n",
    "        self.y = y\n",
    "        \n",
    "    def __str__(self):\n",
    "        return \"({},{})\".format(self.x, self.y)\n",
    "    \n",
    "    def halfway(self, target):\n",
    "        \"\"\" Return the halfway point between myself and the target \"\"\"\n",
    "        mx = (self.x + target.x)/2\n",
    "        my = (self.y + target.y)/2\n",
    "        return Point(mx, my)"
   ]
  },
  {
   "cell_type": "code",
   "execution_count": null,
   "metadata": {
    "collapsed": false
   },
   "outputs": [],
   "source": [
    "p = Point(3, 4)\n",
    "q = Point(5, 12)\n",
    "r = p.halfway(q)\n",
    "print(r)"
   ]
  },
  {
   "cell_type": "markdown",
   "metadata": {},
   "source": [
    "## A change of perspective\n",
    "\n",
    "The original syntax for a function call, `print_time(current_time)`, suggests that the function is the active agent.\n",
    "\n",
    "\"*Hey, print_time! Here’s an object for you to print.*\"\n",
    "\n",
    "In object-oriented programming, the objects are considered the active agents.  \n",
    "\n",
    "`current_time.print_time()` says \"*Hey current_time! Please print yourself!*\""
   ]
  },
  {
   "cell_type": "markdown",
   "metadata": {},
   "source": [
    "## Fractions"
   ]
  },
  {
   "cell_type": "code",
   "execution_count": null,
   "metadata": {
    "collapsed": true
   },
   "outputs": [],
   "source": [
    "class Fraction:\n",
    "\n",
    "    def __init__(self, top, bottom):\n",
    "        self.num = top        # the numerator is on top\n",
    "        self.den = bottom     # the denominator is on the bottom\n",
    "\n",
    "    def __str__(self):\n",
    "        return str(self.num) + \"/\" + str(self.den)\n",
    "\n",
    "    def getNum(self):\n",
    "        return self.num\n",
    "\n",
    "    def getDen(self):\n",
    "        return self.den"
   ]
  },
  {
   "cell_type": "code",
   "execution_count": null,
   "metadata": {
    "collapsed": false
   },
   "outputs": [],
   "source": [
    "myfraction = Fraction(3, 4)\n",
    "print(myfraction)\n",
    "\n",
    "print(myfraction.getNum())\n",
    "print(myfraction.getDen())"
   ]
  },
  {
   "cell_type": "markdown",
   "metadata": {},
   "source": [
    "## Objects are mutable"
   ]
  },
  {
   "cell_type": "code",
   "execution_count": null,
   "metadata": {
    "collapsed": false
   },
   "outputs": [],
   "source": [
    "myfraction = Fraction(3, 4)\n",
    "\n",
    "myfraction.num +=2\n",
    "\n",
    "print(myfraction)"
   ]
  },
  {
   "cell_type": "markdown",
   "metadata": {},
   "source": [
    "** get lowest terms **\n",
    "\n",
    "`12/16 == 3/4`"
   ]
  },
  {
   "cell_type": "code",
   "execution_count": null,
   "metadata": {
    "collapsed": false
   },
   "outputs": [],
   "source": [
    "def gcd(m, n):\n",
    "    while m % n != 0:\n",
    "        oldm = m\n",
    "        oldn = n\n",
    "\n",
    "        m = oldn\n",
    "        n = oldm % oldn\n",
    "\n",
    "    return n\n",
    "\n",
    "print(gcd(12, 16))"
   ]
  },
  {
   "cell_type": "code",
   "execution_count": null,
   "metadata": {
    "collapsed": true
   },
   "outputs": [],
   "source": [
    "class Fraction:\n",
    "\n",
    "    def __init__(self, top, bottom):\n",
    "\n",
    "        self.num = top        # the numerator is on top\n",
    "        self.den = bottom     # the denominator is on the bottom\n",
    "\n",
    "    def __str__(self):\n",
    "        return str(self.num) + \"/\" + str(self.den)\n",
    "\n",
    "    def simplify(self):\n",
    "        common = gcd(self.num, self.den)\n",
    "\n",
    "        self.num = self.num // common\n",
    "        self.den = self.den // common"
   ]
  },
  {
   "cell_type": "code",
   "execution_count": null,
   "metadata": {
    "collapsed": false
   },
   "outputs": [],
   "source": [
    "myfraction = Fraction(12, 16)\n",
    "\n",
    "print(myfraction)\n",
    "myfraction.simplify()\n",
    "print(myfraction)"
   ]
  },
  {
   "cell_type": "markdown",
   "metadata": {},
   "source": [
    "## Sameness"
   ]
  },
  {
   "cell_type": "code",
   "execution_count": null,
   "metadata": {
    "collapsed": false
   },
   "outputs": [],
   "source": [
    "f1 = Fraction(12, 16)\n",
    "f2 = Fraction(12, 16)\n",
    "f3 = Fraction(3, 4)\n",
    "\n",
    "print(f1 == f2)\n",
    "print(f1 == f3)"
   ]
  },
  {
   "cell_type": "code",
   "execution_count": null,
   "metadata": {
    "collapsed": false
   },
   "outputs": [],
   "source": [
    "class Fraction:\n",
    "\n",
    "    def __init__(self, top, bottom):\n",
    "\n",
    "        self.num = top        # the numerator is on top\n",
    "        self.den = bottom     # the denominator is on the bottom\n",
    "\n",
    "    def __str__(self):\n",
    "        return str(self.num) + \"/\" + str(self.den)\n",
    "    \n",
    "    def __eq__(self, target):\n",
    "        self.simplify()\n",
    "        target.simplify()\n",
    "        \n",
    "        return self.num == target.num and self.den == target.den\n",
    "\n",
    "    def simplify(self):\n",
    "        common = gcd(self.num, self.den)\n",
    "\n",
    "        self.num = self.num // common\n",
    "        self.den = self.den // common"
   ]
  },
  {
   "cell_type": "code",
   "execution_count": null,
   "metadata": {
    "collapsed": false
   },
   "outputs": [],
   "source": [
    "f1 = Fraction(12, 16)\n",
    "f2 = Fraction(12, 16)\n",
    "f3 = Fraction(3, 4)\n",
    "\n",
    "print(f1 == f2)\n",
    "print(f1 == f3)"
   ]
  },
  {
   "cell_type": "markdown",
   "metadata": {},
   "source": [
    "## Arithmetic Methods"
   ]
  },
  {
   "cell_type": "markdown",
   "metadata": {},
   "source": [
    "```python\n",
    "def __add__(self,otherfraction):\n",
    "\n",
    "    newnum = self.num*otherfraction.den + self.den*otherfraction.num\n",
    "    newden = self.den * otherfraction.den\n",
    "\n",
    "    common = gcd(newnum,newden)\n",
    "\n",
    "    return Fraction(newnum//common,newden//common)\n",
    "```"
   ]
  },
  {
   "cell_type": "code",
   "execution_count": null,
   "metadata": {
    "collapsed": true
   },
   "outputs": [],
   "source": [
    "def gcd(m, n):\n",
    "    while m % n != 0:\n",
    "        oldm = m\n",
    "        oldn = n\n",
    "\n",
    "        m = oldn\n",
    "        n = oldm % oldn\n",
    "\n",
    "    return n\n",
    "\n",
    "class Fraction:\n",
    "\n",
    "    def __init__(self, top, bottom):\n",
    "\n",
    "        self.num = top        # the numerator is on top\n",
    "        self.den = bottom     # the denominator is on the bottom\n",
    "\n",
    "    def __str__(self):\n",
    "        return str(self.num) + \"/\" + str(self.den)\n",
    "    \n",
    "    def __eq__(self, target):\n",
    "        self.simplify()\n",
    "        target.simplify()\n",
    "        \n",
    "        return self.num == target.num and self.den == target.den\n",
    "\n",
    "\n",
    "    def simplify(self):\n",
    "        common = gcd(self.num, self.den)\n",
    "\n",
    "        self.num = self.num // common\n",
    "        self.den = self.den // common\n",
    "\n",
    "    def __add__(self,otherfraction):\n",
    "\n",
    "        newnum = self.num*otherfraction.den + self.den*otherfraction.num\n",
    "        newden = self.den * otherfraction.den\n",
    "\n",
    "        common = gcd(newnum, newden)\n",
    "\n",
    "        return Fraction(newnum // common, newden // common)"
   ]
  },
  {
   "cell_type": "code",
   "execution_count": null,
   "metadata": {
    "collapsed": false
   },
   "outputs": [],
   "source": [
    "f1 = Fraction(1, 2)\n",
    "f2 = Fraction(1, 4)\n",
    "\n",
    "f3 = f1 + f2    # calls the __add__ method of f1\n",
    "print(f3)"
   ]
  },
  {
   "cell_type": "markdown",
   "metadata": {},
   "source": [
    "## Copying\n",
    "\n"
   ]
  },
  {
   "cell_type": "code",
   "execution_count": null,
   "metadata": {
    "collapsed": false
   },
   "outputs": [],
   "source": [
    "import copy\n",
    "\n",
    "p1 = Point(3, 4)\n",
    "p2 = copy.copy(p1) # shallow copy\n",
    "\n",
    "print(p1 is p2)\n",
    "print(p1 == p2)\n"
   ]
  },
  {
   "cell_type": "markdown",
   "metadata": {},
   "source": [
    "To copy a simple object like a Point, which doesn’t contain any embedded objects, **copy** is sufficient. This is called **shallow** copying."
   ]
  },
  {
   "cell_type": "code",
   "execution_count": null,
   "metadata": {
    "collapsed": false
   },
   "outputs": [],
   "source": [
    "import copy\n",
    "\n",
    "p1 = Point(3, 4)\n",
    "p2 = copy.deepcopy(p1) # deep copy\n",
    "\n",
    "print(p1 is p2)\n",
    "print(p1 == p2)"
   ]
  },
  {
   "cell_type": "markdown",
   "metadata": {},
   "source": [
    "**deepcopy** copies not only the object but also any embedded objects."
   ]
  },
  {
   "cell_type": "markdown",
   "metadata": {},
   "source": [
    "## Advanced topics\n",
    "\n",
    "- Inheritance\n",
    "- Override\n",
    "- Descriptor"
   ]
  },
  {
   "cell_type": "code",
   "execution_count": null,
   "metadata": {
    "collapsed": true
   },
   "outputs": [],
   "source": []
  }
 ],
 "metadata": {
  "anaconda-cloud": {},
  "kernelspec": {
   "display_name": "Python [default]",
   "language": "python",
   "name": "python3"
  },
  "language_info": {
   "codemirror_mode": {
    "name": "ipython",
    "version": 3
   },
   "file_extension": ".py",
   "mimetype": "text/x-python",
   "name": "python",
   "nbconvert_exporter": "python",
   "pygments_lexer": "ipython3",
   "version": "3.5.2"
  }
 },
 "nbformat": 4,
 "nbformat_minor": 1
}
