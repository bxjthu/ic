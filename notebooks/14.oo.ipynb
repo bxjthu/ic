{
 "cells": [
  {
   "cell_type": "markdown",
   "metadata": {
    "nbpresent": {
     "id": "7c9cb999-ceff-4985-a71c-9c4321856b70"
    }
   },
   "source": [
    "# 14. Classes and Objects"
   ]
  },
  {
   "cell_type": "markdown",
   "metadata": {
    "nbpresent": {
     "id": "085e3835-16ab-4b0f-b4cb-cf44a489a899"
    }
   },
   "source": [
    "## Object-oriented programming\n",
    "\n",
    "Python is an object-oriented programming language. That means it provides features that support object-oriented programming (OOP).\n",
    "\n",
    "Up to now, some of the programs we have been writing use a **procedural programming paradigm**. In procedural programming the focus is on writing functions or procedures which operate on data.\n",
    "\n",
    "In **object-oriented programming** the focus is on the creation of objects which contain both data and functionality together."
   ]
  },
  {
   "cell_type": "markdown",
   "metadata": {
    "nbpresent": {
     "id": "02fffaab-477b-446b-aea4-281a8c6d1936"
    }
   },
   "source": [
    "** Object definition**\n",
    "\n",
    "Usually, each object definition corresponds to some object or concept **in the real world**, and the functions that operate on that object correspond to the ways real-world objects interact."
   ]
  },
  {
   "cell_type": "markdown",
   "metadata": {
    "nbpresent": {
     "id": "66c10b6b-65db-4e97-bf4a-f7eaa4234967"
    }
   },
   "source": [
    "## User-defined Classes"
   ]
  },
  {
   "cell_type": "code",
   "execution_count": null,
   "metadata": {
    "collapsed": true,
    "nbpresent": {
     "id": "4587ec2f-dd8e-4441-b1df-148d9886b225"
    }
   },
   "outputs": [],
   "source": [
    "class Point:\n",
    "    \"\"\" Point class represents and manipulates x,y coords. \"\"\"\n",
    "\n",
    "    def __init__(self):\n",
    "        \"\"\" Create a new point at the origin \"\"\"\n",
    "        self.x = 0\n",
    "        self.y = 0"
   ]
  },
  {
   "cell_type": "markdown",
   "metadata": {
    "nbpresent": {
     "id": "919c7a8c-f49e-45e5-b2cf-acdb8a117a29"
    }
   },
   "source": [
    "Every class should have a method with the special name `__init__`. This **initializer** method is automatically called whenever a new instance is created. \n",
    "\n",
    "It gives the programmer the opportunity to set up the attributes required within the new instance by giving them their initial state/values. \n",
    "\n",
    "The **self** parameter is automatically set to reference the newly created object that needs to be initialized."
   ]
  },
  {
   "cell_type": "code",
   "execution_count": null,
   "metadata": {
    "collapsed": false,
    "nbpresent": {
     "id": "adcbec54-771e-4ab8-8c9b-020f9da2c228"
    }
   },
   "outputs": [],
   "source": [
    "p = Point()         # Instantiate an object of type Point\n",
    "q = Point()         # and make a second point\n",
    "\n",
    "print(p)\n",
    "print(q)\n",
    "\n",
    "print(p is q)"
   ]
  },
  {
   "cell_type": "code",
   "execution_count": null,
   "metadata": {
    "collapsed": false,
    "nbpresent": {
     "id": "7c46cd9f-c6f1-450d-ad2a-5abd9fafed21"
    }
   },
   "outputs": [],
   "source": [
    "print(p.x, q.y)\n",
    "\n",
    "p.x, p.y = 5, 6\n",
    "\n",
    "print(p.x, p.y)"
   ]
  },
  {
   "cell_type": "markdown",
   "metadata": {
    "nbpresent": {
     "id": "4cced597-d476-4bc9-b678-53797e327885"
    }
   },
   "source": [
    "A function like **Point()** that creates a new object instance is called a **constructor**. \n",
    "\n",
    "Every class automatically uses the name of the class as the name of the constructor function. \n",
    "\n",
    "The definition of the constructor function is done when you write the `__init__` function."
   ]
  },
  {
   "cell_type": "markdown",
   "metadata": {
    "nbpresent": {
     "id": "d5e577c2-75dc-4a5f-b6a7-0df0767bebca"
    }
   },
   "source": [
    "It may be helpful to think of a class as a factory for making objects. \n",
    "\n",
    "The class itself isn’t an instance of a point, but it contains the machinery to make point instances. \n",
    "\n",
    "Every time we call the constructor, we’re asking the factory to make us a new object. As the object comes off the production line, its initialization method is executed to get the object properly set up with its factory default settings.\n",
    "\n",
    "The combined process of “make me a new object” and “get its settings initialized to the factory default settings” is called instantiation."
   ]
  },
  {
   "cell_type": "markdown",
   "metadata": {
    "nbpresent": {
     "id": "f8bcf902-361e-4871-b69c-bf0d0b49ea6a"
    }
   },
   "source": [
    "## Improving our initializer"
   ]
  },
  {
   "cell_type": "code",
   "execution_count": null,
   "metadata": {
    "collapsed": true,
    "nbpresent": {
     "id": "aafbdf58-914e-4e9a-9e94-be1ef5c347df"
    }
   },
   "outputs": [],
   "source": [
    "class Point:\n",
    "    \"\"\" Point class represents and manipulates x,y coords. \"\"\"\n",
    "\n",
    "    def __init__(self, x=0, y=0):\n",
    "        \"\"\" Create a new point at x, y \"\"\"\n",
    "        self.x = x\n",
    "        self.y = y"
   ]
  },
  {
   "cell_type": "code",
   "execution_count": null,
   "metadata": {
    "collapsed": false,
    "nbpresent": {
     "id": "fdba7e6d-df22-4b59-8399-2d2f6ad66871"
    }
   },
   "outputs": [],
   "source": [
    "p = Point(4, 2)\n",
    "q = Point(6, 3)\n",
    "r = Point()       # r represents the origin (0, 0)\n",
    "print(p.x, q.y, r.x)"
   ]
  },
  {
   "cell_type": "markdown",
   "metadata": {
    "nbpresent": {
     "id": "fc119560-9761-479f-be02-370f392125d3"
    }
   },
   "source": [
    "## Adding Other Methods\n",
    "\n",
    "A method behaves like a function but it is invoked on a specific instance, e.g. `tess.right(90)`. Like a data attribute, methods are accessed using dot notation."
   ]
  },
  {
   "cell_type": "code",
   "execution_count": null,
   "metadata": {
    "collapsed": true,
    "nbpresent": {
     "id": "0fcdc39d-3944-482a-813f-aa884fb39dd8"
    }
   },
   "outputs": [],
   "source": [
    "class Point:\n",
    "    \"\"\" Create a new Point, at coordinates x, y \"\"\"\n",
    "\n",
    "    def __init__(self, x=0, y=0):\n",
    "        \"\"\" Create a new point at x, y \"\"\"\n",
    "        self.x = x\n",
    "        self.y = y\n",
    "\n",
    "    def distance_from_origin(self):\n",
    "        \"\"\" Compute my distance from the origin \"\"\"\n",
    "        return (self.x ** 2 + self.y ** 2) ** 0.5"
   ]
  },
  {
   "cell_type": "code",
   "execution_count": null,
   "metadata": {
    "collapsed": false,
    "nbpresent": {
     "id": "647d0925-ee5b-4786-8551-802ba614924b"
    }
   },
   "outputs": [],
   "source": [
    "p = Point(3, 4)\n",
    "print(p.x, p.y)\n",
    "\n",
    "print(p.distance_from_origin())\n",
    "\n",
    "q = Point(5, 12)\n",
    "print(q.x, q.y)\n",
    "print(q.distance_from_origin())"
   ]
  },
  {
   "cell_type": "markdown",
   "metadata": {
    "nbpresent": {
     "id": "2252ac4f-07dd-4cf5-be61-42760b34902f"
    }
   },
   "source": [
    "## Instances as arguments and parameters"
   ]
  },
  {
   "cell_type": "code",
   "execution_count": null,
   "metadata": {
    "collapsed": false,
    "nbpresent": {
     "id": "e2e53749-9d63-4bbd-9bd9-3e14092ac993"
    }
   },
   "outputs": [],
   "source": [
    "def print_point(pt):\n",
    "    print(\"({0}, {1})\".format(pt.x, pt.y))\n",
    "    \n",
    "print_point(p)"
   ]
  },
  {
   "cell_type": "code",
   "execution_count": null,
   "metadata": {
    "collapsed": false,
    "nbpresent": {
     "id": "fca0f17c-ef1a-491a-b975-b850b62fec6f"
    }
   },
   "outputs": [],
   "source": [
    "import math\n",
    "\n",
    "def distance(point1, point2):\n",
    "    xdiff = point2.x - point1.x\n",
    "    ydiff = point2.y - point1.y\n",
    "\n",
    "    dist = math.sqrt(xdiff**2 + ydiff**2)\n",
    "    return dist\n",
    "\n",
    "p = Point(4, 3)\n",
    "q = Point(0, 0)\n",
    "print(distance(p, q))"
   ]
  },
  {
   "cell_type": "markdown",
   "metadata": {
    "nbpresent": {
     "id": "88038e72-a207-494d-879b-ca51d27182cb"
    }
   },
   "source": [
    "## Converting an Object to a String"
   ]
  },
  {
   "cell_type": "code",
   "execution_count": null,
   "metadata": {
    "collapsed": false,
    "nbpresent": {
     "id": "ac19ef48-4e12-4ecb-8c29-da1a9ce3b75b"
    }
   },
   "outputs": [],
   "source": [
    "print(p)\n",
    "str(p)"
   ]
  },
  {
   "cell_type": "code",
   "execution_count": null,
   "metadata": {
    "collapsed": true,
    "nbpresent": {
     "id": "74e4061c-0f96-4d2e-a3f1-004a9c8cc35d"
    }
   },
   "outputs": [],
   "source": [
    "class Point:\n",
    "    \"\"\" Point class represents and manipulates x,y coords. \"\"\"\n",
    "\n",
    "    def __init__(self, x=0, y=0):\n",
    "        \"\"\" Create a new point at x, y \"\"\"\n",
    "        self.x = x\n",
    "        self.y = y\n",
    "        \n",
    "    def __str__(self):\n",
    "        return \"({},{})\".format(self.x, self.y)\n"
   ]
  },
  {
   "cell_type": "code",
   "execution_count": null,
   "metadata": {
    "collapsed": false,
    "nbpresent": {
     "id": "8108c1ba-249c-4513-9a05-6a7ed6213cb4"
    }
   },
   "outputs": [],
   "source": [
    "p = Point(1,2)\n",
    "\n",
    "print(p)\n",
    "\n",
    "print(str(p))"
   ]
  },
  {
   "cell_type": "markdown",
   "metadata": {
    "collapsed": true,
    "nbpresent": {
     "id": "beff5e56-d753-4b5d-b181-15e989a21fcb"
    }
   },
   "source": [
    "## Instances as return values"
   ]
  },
  {
   "cell_type": "code",
   "execution_count": null,
   "metadata": {
    "collapsed": true,
    "nbpresent": {
     "id": "07890dcb-ccca-4646-a5b9-58272d06d8ab"
    }
   },
   "outputs": [],
   "source": [
    "class Point:   \n",
    "    \n",
    "    def __init__(self, x=0, y=0):\n",
    "        self.x = x\n",
    "        self.y = y\n",
    "        \n",
    "    def __str__(self):\n",
    "        return \"({},{})\".format(self.x, self.y)\n",
    "    \n",
    "    def halfway(self, target):\n",
    "        \"\"\" Return the halfway point between myself and the target \"\"\"\n",
    "        mx = (self.x + target.x)/2\n",
    "        my = (self.y + target.y)/2\n",
    "        return Point(mx, my)"
   ]
  },
  {
   "cell_type": "code",
   "execution_count": null,
   "metadata": {
    "collapsed": false,
    "nbpresent": {
     "id": "fbeebece-73cc-4714-9ce5-0a113185b2de"
    }
   },
   "outputs": [],
   "source": [
    "p = Point(3, 4)\n",
    "q = Point(5, 12)\n",
    "r = p.halfway(q)\n",
    "print(r)"
   ]
  },
  {
   "cell_type": "markdown",
   "metadata": {
    "nbpresent": {
     "id": "e6ec4ead-a8b3-4184-a41c-196ac5ef5f5a"
    }
   },
   "source": [
    "## A change of perspective\n",
    "\n",
    "The original syntax for a function call, `print_time(current_time)`, suggests that the function is the active agent.\n",
    "\n",
    "\"*Hey, print_time! Here’s an object for you to print.*\"\n",
    "\n",
    "In object-oriented programming, the objects are considered the active agents.  \n",
    "\n",
    "`current_time.print_time()` says \"*Hey current_time! Please print yourself!*\""
   ]
  },
  {
   "cell_type": "markdown",
   "metadata": {
    "nbpresent": {
     "id": "b978c0b4-1228-441a-8bbe-ef992ebce2c6"
    }
   },
   "source": [
    "## Fractions"
   ]
  },
  {
   "cell_type": "code",
   "execution_count": null,
   "metadata": {
    "collapsed": true,
    "nbpresent": {
     "id": "1bfdb6ac-e6bd-4ab7-9df2-a759df2e31e0"
    }
   },
   "outputs": [],
   "source": [
    "class Fraction:\n",
    "\n",
    "    def __init__(self, top, bottom):\n",
    "        self.num = top        # the numerator is on top\n",
    "        self.den = bottom     # the denominator is on the bottom\n",
    "\n",
    "    def __str__(self):\n",
    "        return str(self.num) + \"/\" + str(self.den)\n",
    "\n",
    "    def getNum(self):\n",
    "        return self.num\n",
    "\n",
    "    def getDen(self):\n",
    "        return self.den"
   ]
  },
  {
   "cell_type": "code",
   "execution_count": null,
   "metadata": {
    "collapsed": false,
    "nbpresent": {
     "id": "d2429283-3a76-4edb-90c8-9e2070944461"
    }
   },
   "outputs": [],
   "source": [
    "myfraction = Fraction(3, 4)\n",
    "print(myfraction)\n",
    "\n",
    "print(myfraction.getNum())\n",
    "print(myfraction.getDen())"
   ]
  },
  {
   "cell_type": "markdown",
   "metadata": {
    "nbpresent": {
     "id": "223846d0-8fff-4994-b7f7-1b60ca85798f"
    }
   },
   "source": [
    "## Objects are mutable"
   ]
  },
  {
   "cell_type": "code",
   "execution_count": null,
   "metadata": {
    "collapsed": false,
    "nbpresent": {
     "id": "eb22ef52-24d3-43b2-8b9a-c0a587f6ea9c"
    }
   },
   "outputs": [],
   "source": [
    "myfraction = Fraction(3, 4)\n",
    "\n",
    "myfraction.num +=2\n",
    "\n",
    "print(myfraction)"
   ]
  },
  {
   "cell_type": "markdown",
   "metadata": {
    "nbpresent": {
     "id": "6c028332-84f8-4661-8520-6d9e26ee7fd4"
    }
   },
   "source": [
    "** get lowest terms **\n",
    "\n",
    "`12/16 == 3/4`"
   ]
  },
  {
   "cell_type": "code",
   "execution_count": null,
   "metadata": {
    "collapsed": false,
    "nbpresent": {
     "id": "5c01e3ca-545b-42bd-8d70-3cbcc4d42adf"
    }
   },
   "outputs": [],
   "source": [
    "def gcd(m, n):\n",
    "    while m % n != 0:\n",
    "        oldm = m\n",
    "        oldn = n\n",
    "\n",
    "        m = oldn\n",
    "        n = oldm % oldn\n",
    "\n",
    "    return n\n",
    "\n",
    "print(gcd(12, 16))"
   ]
  },
  {
   "cell_type": "code",
   "execution_count": null,
   "metadata": {
    "collapsed": true,
    "nbpresent": {
     "id": "0da676e8-ec31-4510-9d53-6672e29ece35"
    }
   },
   "outputs": [],
   "source": [
    "class Fraction:\n",
    "\n",
    "    def __init__(self, top, bottom):\n",
    "\n",
    "        self.num = top        # the numerator is on top\n",
    "        self.den = bottom     # the denominator is on the bottom\n",
    "\n",
    "    def __str__(self):\n",
    "        return str(self.num) + \"/\" + str(self.den)\n",
    "\n",
    "    def simplify(self):\n",
    "        common = gcd(self.num, self.den)\n",
    "        self.num = self.num // common\n",
    "        self.den = self.den // common"
   ]
  },
  {
   "cell_type": "code",
   "execution_count": null,
   "metadata": {
    "collapsed": false,
    "nbpresent": {
     "id": "6dd6a6b9-6a89-4f5c-ba0b-de40e201a17c"
    }
   },
   "outputs": [],
   "source": [
    "myfraction = Fraction(12, 16)\n",
    "\n",
    "print(myfraction)\n",
    "myfraction.simplify()\n",
    "print(myfraction)"
   ]
  },
  {
   "cell_type": "markdown",
   "metadata": {
    "nbpresent": {
     "id": "b7b4ca8f-4e2b-471c-b906-2d076ad1af39"
    }
   },
   "source": [
    "## Sameness"
   ]
  },
  {
   "cell_type": "code",
   "execution_count": null,
   "metadata": {
    "collapsed": false,
    "nbpresent": {
     "id": "4a8e17a8-8310-45f4-ae59-7cdddebff917"
    }
   },
   "outputs": [],
   "source": [
    "f1 = Fraction(12, 16)\n",
    "f2 = Fraction(12, 16)\n",
    "f3 = Fraction(3, 4)\n",
    "\n",
    "print(f1 == f2)\n",
    "print(f1 == f3)"
   ]
  },
  {
   "cell_type": "code",
   "execution_count": null,
   "metadata": {
    "collapsed": false,
    "nbpresent": {
     "id": "4a531e06-e8ee-4774-b42e-505a6d1548cb"
    }
   },
   "outputs": [],
   "source": [
    "class Fraction:\n",
    "\n",
    "    def __init__(self, top, bottom):\n",
    "        self.num = top        # the numerator is on top\n",
    "        self.den = bottom     # the denominator is on the bottom\n",
    "\n",
    "    def __str__(self):\n",
    "        return str(self.num) + \"/\" + str(self.den)\n",
    "    \n",
    "    def __eq__(self, target):\n",
    "        self.simplify()\n",
    "        target.simplify()\n",
    "        return self.num == target.num and self.den == target.den\n",
    "\n",
    "    def simplify(self):\n",
    "        common = gcd(self.num, self.den)\n",
    "\n",
    "        self.num = self.num // common\n",
    "        self.den = self.den // common"
   ]
  },
  {
   "cell_type": "code",
   "execution_count": null,
   "metadata": {
    "collapsed": false,
    "nbpresent": {
     "id": "b11a0b97-21ff-465c-bed0-aed04639ed68"
    }
   },
   "outputs": [],
   "source": [
    "f1 = Fraction(12, 16)\n",
    "f2 = Fraction(12, 16)\n",
    "f3 = Fraction(3, 4)\n",
    "\n",
    "print(f1 == f2)\n",
    "print(f1 == f3)"
   ]
  },
  {
   "cell_type": "markdown",
   "metadata": {
    "nbpresent": {
     "id": "3f6bbf0a-b2c2-4dc3-a008-f68730f0fe8d"
    }
   },
   "source": [
    "## Arithmetic Methods"
   ]
  },
  {
   "cell_type": "markdown",
   "metadata": {
    "nbpresent": {
     "id": "c22c01ca-8259-4358-a7d7-2ccabc9197a2"
    }
   },
   "source": [
    "```python\n",
    "def __add__(self,otherfraction):\n",
    "\n",
    "    newnum = self.num*otherfraction.den + self.den*otherfraction.num\n",
    "    newden = self.den * otherfraction.den\n",
    "\n",
    "    common = gcd(newnum,newden)\n",
    "\n",
    "    return Fraction(newnum//common,newden//common)\n",
    "```"
   ]
  },
  {
   "cell_type": "code",
   "execution_count": null,
   "metadata": {
    "collapsed": true,
    "nbpresent": {
     "id": "c92acbb0-7697-4354-892b-56fe849e2147"
    }
   },
   "outputs": [],
   "source": [
    "def gcd(m, n):\n",
    "    while m % n != 0:\n",
    "        oldm = m\n",
    "        oldn = n\n",
    "        m = oldn\n",
    "        n = oldm % oldn\n",
    "\n",
    "    return n\n",
    "\n",
    "class Fraction:\n",
    "\n",
    "    def __init__(self, top, bottom):\n",
    "\n",
    "        self.num = top        # the numerator is on top\n",
    "        self.den = bottom     # the denominator is on the bottom\n",
    "\n",
    "    def __str__(self):\n",
    "        return str(self.num) + \"/\" + str(self.den)\n",
    "    \n",
    "    def __eq__(self, target):\n",
    "        self.simplify()\n",
    "        target.simplify()\n",
    "        \n",
    "        return self.num == target.num and self.den == target.den\n",
    "\n",
    "\n",
    "    def simplify(self):\n",
    "        common = gcd(self.num, self.den)\n",
    "\n",
    "        self.num = self.num // common\n",
    "        self.den = self.den // common\n",
    "\n",
    "    def __add__(self,otherfraction):\n",
    "\n",
    "        newnum = self.num*otherfraction.den + self.den*otherfraction.num\n",
    "        newden = self.den * otherfraction.den\n",
    "\n",
    "        common = gcd(newnum, newden)\n",
    "\n",
    "        return Fraction(newnum // common, newden // common)"
   ]
  },
  {
   "cell_type": "code",
   "execution_count": null,
   "metadata": {
    "collapsed": false,
    "nbpresent": {
     "id": "61cf97fe-d0c5-44ea-9f1e-b27250b4d3ac"
    }
   },
   "outputs": [],
   "source": [
    "f1 = Fraction(1, 2)\n",
    "f2 = Fraction(1, 4)\n",
    "\n",
    "f3 = f1 + f2    # calls the __add__ method of f1\n",
    "print(f3)"
   ]
  },
  {
   "cell_type": "markdown",
   "metadata": {
    "nbpresent": {
     "id": "7a0dbd7e-2cb6-45f8-ac0f-e94148ddcd22"
    }
   },
   "source": [
    "## Copying\n",
    "\n"
   ]
  },
  {
   "cell_type": "code",
   "execution_count": null,
   "metadata": {
    "collapsed": false,
    "nbpresent": {
     "id": "5fadda9b-b0b5-4fc1-8cfd-2cf61104eb27"
    }
   },
   "outputs": [],
   "source": [
    "import copy\n",
    "\n",
    "p1 = Point(3, 4)\n",
    "p2 = copy.copy(p1) # shallow copy\n",
    "\n",
    "print(p1 is p2)\n",
    "print(p1 == p2)\n"
   ]
  },
  {
   "cell_type": "markdown",
   "metadata": {
    "nbpresent": {
     "id": "93abe64c-8749-42e4-bef0-3d269ad26aa2"
    }
   },
   "source": [
    "To copy a simple object like a Point, which doesn’t contain any embedded objects, **copy** is sufficient. This is called **shallow** copying."
   ]
  },
  {
   "cell_type": "code",
   "execution_count": null,
   "metadata": {
    "collapsed": false,
    "nbpresent": {
     "id": "6fb8b672-1cbe-4cab-a84d-4a949d6d7735"
    }
   },
   "outputs": [],
   "source": [
    "import copy\n",
    "\n",
    "p1 = Point(3, 4)\n",
    "p2 = copy.deepcopy(p1) # deep copy\n",
    "\n",
    "print(p1 is p2)\n",
    "print(p1 == p2)"
   ]
  },
  {
   "cell_type": "markdown",
   "metadata": {
    "nbpresent": {
     "id": "9f21a105-7969-42ef-986a-5ce3e0262718"
    }
   },
   "source": [
    "**deepcopy** copies not only the object but also any embedded objects."
   ]
  },
  {
   "cell_type": "markdown",
   "metadata": {
    "nbpresent": {
     "id": "5fca6d06-6ceb-426c-9016-330e9e4c0e15"
    }
   },
   "source": [
    "## Advanced topics\n",
    "\n",
    "- Inheritance\n",
    "- Override\n",
    "- Descriptor"
   ]
  },
  {
   "cell_type": "code",
   "execution_count": null,
   "metadata": {
    "collapsed": true,
    "nbpresent": {
     "id": "d05318d5-397b-41be-bbc1-ca2cf175d172"
    }
   },
   "outputs": [],
   "source": []
  }
 ],
 "metadata": {
  "anaconda-cloud": {},
  "kernelspec": {
   "display_name": "Python [default]",
   "language": "python",
   "name": "python3"
  },
  "language_info": {
   "codemirror_mode": {
    "name": "ipython",
    "version": 3
   },
   "file_extension": ".py",
   "mimetype": "text/x-python",
   "name": "python",
   "nbconvert_exporter": "python",
   "pygments_lexer": "ipython3",
   "version": "3.5.2"
  },
  "nbpresent": {
   "slides": {
    "09c141ff-98e1-4da7-8edf-46deca880527": {
     "id": "09c141ff-98e1-4da7-8edf-46deca880527",
     "prev": "cbd30e15-d665-44a6-8557-841cddf962f4",
     "regions": {
      "86c5fed3-9697-4cb1-8496-9450d13f30d7": {
       "attrs": {
        "height": 0.8,
        "width": 0.8,
        "x": 0.1,
        "y": 0.1
       },
       "content": {
        "cell": "9f21a105-7969-42ef-986a-5ce3e0262718",
        "part": "whole"
       },
       "id": "86c5fed3-9697-4cb1-8496-9450d13f30d7"
      }
     }
    },
    "18175e16-951a-419a-bb18-482e7d62e85c": {
     "id": "18175e16-951a-419a-bb18-482e7d62e85c",
     "prev": "2a83ddc4-5727-458f-9eaa-80875f752e4e",
     "regions": {
      "4450ffac-d2a2-4ed1-a4f8-d05f1569025c": {
       "attrs": {
        "height": 0.8,
        "width": 0.8,
        "x": 0.1,
        "y": 0.1
       },
       "content": {
        "cell": "fca0f17c-ef1a-491a-b975-b850b62fec6f",
        "part": "whole"
       },
       "id": "4450ffac-d2a2-4ed1-a4f8-d05f1569025c"
      }
     }
    },
    "1c752f63-bc9b-42c9-9181-c061414677a1": {
     "id": "1c752f63-bc9b-42c9-9181-c061414677a1",
     "prev": "e51d7177-4771-4dbb-a045-17833cbfe313",
     "regions": {
      "c9ec76f0-4131-4302-8d77-c4d4a4d49892": {
       "attrs": {
        "height": 0.8,
        "width": 0.8,
        "x": 0.1,
        "y": 0.1
       },
       "content": {
        "cell": "beff5e56-d753-4b5d-b181-15e989a21fcb",
        "part": "whole"
       },
       "id": "c9ec76f0-4131-4302-8d77-c4d4a4d49892"
      }
     }
    },
    "1f4317e3-cf62-45f9-9c5e-68d2636bf4c1": {
     "id": "1f4317e3-cf62-45f9-9c5e-68d2636bf4c1",
     "prev": "09c141ff-98e1-4da7-8edf-46deca880527",
     "regions": {
      "bd7bbde4-582f-49a2-803e-ab27198cf2d4": {
       "attrs": {
        "height": 0.8,
        "width": 0.8,
        "x": 0.1,
        "y": 0.1
       },
       "content": {
        "cell": "5fca6d06-6ceb-426c-9016-330e9e4c0e15",
        "part": "whole"
       },
       "id": "bd7bbde4-582f-49a2-803e-ab27198cf2d4"
      }
     }
    },
    "23dbc0c2-a6de-4d12-bd00-8867bc67cef7": {
     "id": "23dbc0c2-a6de-4d12-bd00-8867bc67cef7",
     "prev": "b9dce959-9a53-4f2b-bde7-4f42265c2511",
     "regions": {
      "7decb970-d727-4710-8438-49ad455688ce": {
       "attrs": {
        "height": 0.8,
        "width": 0.8,
        "x": 0.1,
        "y": 0.1
       },
       "content": {
        "cell": "3f6bbf0a-b2c2-4dc3-a008-f68730f0fe8d",
        "part": "whole"
       },
       "id": "7decb970-d727-4710-8438-49ad455688ce"
      }
     }
    },
    "254149a3-a4ef-4c19-8cc6-bec690bfe7bf": {
     "id": "254149a3-a4ef-4c19-8cc6-bec690bfe7bf",
     "prev": "1c752f63-bc9b-42c9-9181-c061414677a1",
     "regions": {
      "0f6457a0-2656-4d42-a40b-5e95b79d1c3f": {
       "attrs": {
        "height": 0.8,
        "width": 0.8,
        "x": 0.1,
        "y": 0.1
       },
       "content": {
        "cell": "07890dcb-ccca-4646-a5b9-58272d06d8ab",
        "part": "whole"
       },
       "id": "0f6457a0-2656-4d42-a40b-5e95b79d1c3f"
      }
     }
    },
    "2a83ddc4-5727-458f-9eaa-80875f752e4e": {
     "id": "2a83ddc4-5727-458f-9eaa-80875f752e4e",
     "prev": "6f97020c-f9de-4bc5-ac9d-08159f0306b5",
     "regions": {
      "be55e60f-2caf-476d-9db0-81504f1abbc8": {
       "attrs": {
        "height": 0.8,
        "width": 0.8,
        "x": 0.1,
        "y": 0.1
       },
       "content": {
        "cell": "e2e53749-9d63-4bbd-9bd9-3e14092ac993",
        "part": "whole"
       },
       "id": "be55e60f-2caf-476d-9db0-81504f1abbc8"
      }
     }
    },
    "2bd8dbc2-db4a-4015-8e1b-cf5efa79668f": {
     "id": "2bd8dbc2-db4a-4015-8e1b-cf5efa79668f",
     "prev": "18175e16-951a-419a-bb18-482e7d62e85c",
     "regions": {
      "20a8e610-fe6e-46a0-b0ad-8848ef0c8cea": {
       "attrs": {
        "height": 0.8,
        "width": 0.8,
        "x": 0.1,
        "y": 0.1
       },
       "content": {
        "cell": "88038e72-a207-494d-879b-ca51d27182cb",
        "part": "whole"
       },
       "id": "20a8e610-fe6e-46a0-b0ad-8848ef0c8cea"
      }
     }
    },
    "31b816f2-0109-4219-965e-e96364f03570": {
     "id": "31b816f2-0109-4219-965e-e96364f03570",
     "prev": "c830852f-4d63-4197-9c15-e08531029a84",
     "regions": {
      "8795b00a-cfcb-4db4-9085-ca2315330ffc": {
       "attrs": {
        "height": 0.8,
        "width": 0.8,
        "x": 0.1,
        "y": 0.1
       },
       "content": {
        "cell": "6c028332-84f8-4661-8520-6d9e26ee7fd4",
        "part": "whole"
       },
       "id": "8795b00a-cfcb-4db4-9085-ca2315330ffc"
      }
     }
    },
    "37a903e2-5742-48ac-9dbf-fba8deeb7237": {
     "id": "37a903e2-5742-48ac-9dbf-fba8deeb7237",
     "prev": "254149a3-a4ef-4c19-8cc6-bec690bfe7bf",
     "regions": {
      "ef0469a7-9a05-4d3a-84d4-fe9c0d451557": {
       "attrs": {
        "height": 0.8,
        "width": 0.8,
        "x": 0.1,
        "y": 0.1
       },
       "content": {
        "cell": "fbeebece-73cc-4714-9ce5-0a113185b2de",
        "part": "whole"
       },
       "id": "ef0469a7-9a05-4d3a-84d4-fe9c0d451557"
      }
     }
    },
    "45c5d592-2f41-4f0e-8eb8-a972d714ab9e": {
     "id": "45c5d592-2f41-4f0e-8eb8-a972d714ab9e",
     "prev": "9d8b821c-cf7e-40d2-99ef-e5630beec3a8",
     "regions": {
      "0222c090-312f-4ffe-bf98-ac64d862500f": {
       "attrs": {
        "height": 0.8,
        "width": 0.8,
        "x": 0.1,
        "y": 0.1
       },
       "content": {
        "cell": "d5e577c2-75dc-4a5f-b6a7-0df0767bebca",
        "part": "whole"
       },
       "id": "0222c090-312f-4ffe-bf98-ac64d862500f"
      }
     }
    },
    "4a71644b-d8b4-4d9d-bdb5-4449bee80461": {
     "id": "4a71644b-d8b4-4d9d-bdb5-4449bee80461",
     "prev": "c0ee68f2-8228-4b80-8d9e-cb35c5942c13",
     "regions": {
      "614bed31-8a1b-46ea-8256-fc1870da0c22": {
       "attrs": {
        "height": 0.8,
        "width": 0.8,
        "x": 0.1,
        "y": 0.1
       },
       "content": {
        "cell": "b978c0b4-1228-441a-8bbe-ef992ebce2c6",
        "part": "whole"
       },
       "id": "614bed31-8a1b-46ea-8256-fc1870da0c22"
      }
     }
    },
    "4f41ba78-a141-43e5-9c6a-3a85578756ec": {
     "id": "4f41ba78-a141-43e5-9c6a-3a85578756ec",
     "prev": "e36247ee-5f30-4a83-8ebe-1250f604e635",
     "regions": {
      "0c93cb16-f450-4275-9b72-234f6873bfa2": {
       "attrs": {
        "height": 0.8,
        "width": 0.8,
        "x": 0.1,
        "y": 0.1
       },
       "content": {
        "cell": "c92acbb0-7697-4354-892b-56fe849e2147",
        "part": "whole"
       },
       "id": "0c93cb16-f450-4275-9b72-234f6873bfa2"
      }
     }
    },
    "51c97049-c976-4898-b40b-b3887e510a6b": {
     "id": "51c97049-c976-4898-b40b-b3887e510a6b",
     "prev": "6eadbe05-5f1a-4816-9cf5-5927e2df268f",
     "regions": {
      "e3b3eebc-a67e-484b-8fb5-71c12745fce7": {
       "attrs": {
        "height": 0.8,
        "width": 0.8,
        "x": 0.1,
        "y": 0.1
       },
       "content": {
        "cell": "0da676e8-ec31-4510-9d53-6672e29ece35",
        "part": "whole"
       },
       "id": "e3b3eebc-a67e-484b-8fb5-71c12745fce7"
      }
     }
    },
    "62107bbd-9655-49bc-b184-fe3a299897a6": {
     "id": "62107bbd-9655-49bc-b184-fe3a299897a6",
     "prev": "1f4317e3-cf62-45f9-9c5e-68d2636bf4c1",
     "regions": {
      "ad621a6b-423e-4021-b9e9-0ea2459fa30b": {
       "attrs": {
        "height": 0.8,
        "width": 0.8,
        "x": 0.1,
        "y": 0.1
       },
       "content": {
        "cell": "d05318d5-397b-41be-bbc1-ca2cf175d172",
        "part": "whole"
       },
       "id": "ad621a6b-423e-4021-b9e9-0ea2459fa30b"
      }
     }
    },
    "6eadbe05-5f1a-4816-9cf5-5927e2df268f": {
     "id": "6eadbe05-5f1a-4816-9cf5-5927e2df268f",
     "prev": "31b816f2-0109-4219-965e-e96364f03570",
     "regions": {
      "125e9a02-e726-4c90-9a36-e1f52c991923": {
       "attrs": {
        "height": 0.8,
        "width": 0.8,
        "x": 0.1,
        "y": 0.1
       },
       "content": {
        "cell": "5c01e3ca-545b-42bd-8d70-3cbcc4d42adf",
        "part": "whole"
       },
       "id": "125e9a02-e726-4c90-9a36-e1f52c991923"
      }
     }
    },
    "6f97020c-f9de-4bc5-ac9d-08159f0306b5": {
     "id": "6f97020c-f9de-4bc5-ac9d-08159f0306b5",
     "prev": "ecad28c2-cd39-49eb-b122-71f6918db603",
     "regions": {
      "5ab5460f-8ebf-4734-b49e-33bc00cae82d": {
       "attrs": {
        "height": 0.8,
        "width": 0.8,
        "x": 0.1,
        "y": 0.1
       },
       "content": {
        "cell": "2252ac4f-07dd-4cf5-be61-42760b34902f",
        "part": "whole"
       },
       "id": "5ab5460f-8ebf-4734-b49e-33bc00cae82d"
      }
     }
    },
    "7017716b-fc26-4140-97ba-6845af67a02d": {
     "id": "7017716b-fc26-4140-97ba-6845af67a02d",
     "prev": "51c97049-c976-4898-b40b-b3887e510a6b",
     "regions": {
      "2c73b63a-5f5a-4bdf-9df0-dd1693b14653": {
       "attrs": {
        "height": 0.8,
        "width": 0.8,
        "x": 0.1,
        "y": 0.1
       },
       "content": {
        "cell": "6dd6a6b9-6a89-4f5c-ba0b-de40e201a17c",
        "part": "whole"
       },
       "id": "2c73b63a-5f5a-4bdf-9df0-dd1693b14653"
      }
     }
    },
    "73fb9bde-12b0-4da5-9fe3-253770e34c00": {
     "id": "73fb9bde-12b0-4da5-9fe3-253770e34c00",
     "prev": "45c5d592-2f41-4f0e-8eb8-a972d714ab9e",
     "regions": {
      "021ec3a8-ec69-4b9c-8923-c950b17475b4": {
       "attrs": {
        "height": 0.8,
        "width": 0.8,
        "x": 0.1,
        "y": 0.1
       },
       "content": {
        "cell": "f8bcf902-361e-4871-b69c-bf0d0b49ea6a",
        "part": "whole"
       },
       "id": "021ec3a8-ec69-4b9c-8923-c950b17475b4"
      }
     }
    },
    "77e222fb-79a6-418b-b6a0-50c910db36d9": {
     "id": "77e222fb-79a6-418b-b6a0-50c910db36d9",
     "prev": "9a482c60-24d3-4b00-aa7e-4dd5b26584c5",
     "regions": {
      "86f2cc22-c890-4188-b39d-2d088cec1e81": {
       "attrs": {
        "height": 0.8,
        "width": 0.8,
        "x": 0.1,
        "y": 0.1
       },
       "content": {
        "cell": "0fcdc39d-3944-482a-813f-aa884fb39dd8",
        "part": "whole"
       },
       "id": "86f2cc22-c890-4188-b39d-2d088cec1e81"
      }
     }
    },
    "834de289-3d8d-4c41-8b57-2bbb469d0426": {
     "id": "834de289-3d8d-4c41-8b57-2bbb469d0426",
     "prev": "c8a75a49-e10a-4a6c-84e9-105731728369",
     "regions": {
      "01600fa8-98f0-4c71-aa9e-e1d9e0c0a4d1": {
       "attrs": {
        "height": 0.8,
        "width": 0.8,
        "x": 0.1,
        "y": 0.1
       },
       "content": {
        "cell": "66c10b6b-65db-4e97-bf4a-f7eaa4234967",
        "part": "whole"
       },
       "id": "01600fa8-98f0-4c71-aa9e-e1d9e0c0a4d1"
      }
     }
    },
    "84d37b61-1c03-4fa3-8386-f979f8c8bdf1": {
     "id": "84d37b61-1c03-4fa3-8386-f979f8c8bdf1",
     "prev": null,
     "regions": {
      "6985d0cf-772d-4581-ac70-61bb58091b2e": {
       "attrs": {
        "height": 0.8,
        "width": 0.8,
        "x": 0.1,
        "y": 0.1
       },
       "content": {
        "cell": "7c9cb999-ceff-4985-a71c-9c4321856b70",
        "part": "whole"
       },
       "id": "6985d0cf-772d-4581-ac70-61bb58091b2e"
      }
     }
    },
    "8946a486-caf0-4ce1-82af-580bd4940750": {
     "id": "8946a486-caf0-4ce1-82af-580bd4940750",
     "prev": "c768650c-7d86-431c-ba32-0857cc1f3f5d",
     "regions": {
      "71378a08-00ba-4a74-a61c-8c349cd0e987": {
       "attrs": {
        "height": 0.8,
        "width": 0.8,
        "x": 0.1,
        "y": 0.1
       },
       "content": {
        "cell": "4a531e06-e8ee-4774-b42e-505a6d1548cb",
        "part": "whole"
       },
       "id": "71378a08-00ba-4a74-a61c-8c349cd0e987"
      }
     }
    },
    "98a04964-020e-46c8-9463-96925b55df08": {
     "id": "98a04964-020e-46c8-9463-96925b55df08",
     "prev": "d3758489-a4a7-4bd5-877f-52a523b61ee2",
     "regions": {
      "2eacf6d6-f48d-495d-88ed-eb2dfcaf92e9": {
       "attrs": {
        "height": 0.8,
        "width": 0.8,
        "x": 0.1,
        "y": 0.1
       },
       "content": {
        "cell": "93abe64c-8749-42e4-bef0-3d269ad26aa2",
        "part": "whole"
       },
       "id": "2eacf6d6-f48d-495d-88ed-eb2dfcaf92e9"
      }
     }
    },
    "9a482c60-24d3-4b00-aa7e-4dd5b26584c5": {
     "id": "9a482c60-24d3-4b00-aa7e-4dd5b26584c5",
     "prev": "f491d5f9-c909-4e2d-840b-027b75c26dff",
     "regions": {
      "746fd71d-b546-44c5-b28c-cb3a17da6ec9": {
       "attrs": {
        "height": 0.8,
        "width": 0.8,
        "x": 0.1,
        "y": 0.1
       },
       "content": {
        "cell": "fc119560-9761-479f-be02-370f392125d3",
        "part": "whole"
       },
       "id": "746fd71d-b546-44c5-b28c-cb3a17da6ec9"
      }
     }
    },
    "9d8b821c-cf7e-40d2-99ef-e5630beec3a8": {
     "id": "9d8b821c-cf7e-40d2-99ef-e5630beec3a8",
     "prev": "fcb71963-ddc8-4e2c-a1e9-5a9ac8ac89a7",
     "regions": {
      "058278fc-7fff-47c0-a8cb-667d14e6d799": {
       "attrs": {
        "height": 0.8,
        "width": 0.8,
        "x": 0.1,
        "y": 0.1
       },
       "content": {
        "cell": "4cced597-d476-4bc9-b678-53797e327885",
        "part": "whole"
       },
       "id": "058278fc-7fff-47c0-a8cb-667d14e6d799"
      }
     }
    },
    "b0f5e144-0717-4ead-801d-db217cd6615d": {
     "id": "b0f5e144-0717-4ead-801d-db217cd6615d",
     "prev": "4f41ba78-a141-43e5-9c6a-3a85578756ec",
     "regions": {
      "54e0338e-6913-46ac-b3e6-acd6fa544d4a": {
       "attrs": {
        "height": 0.8,
        "width": 0.8,
        "x": 0.1,
        "y": 0.1
       },
       "content": {
        "cell": "61cf97fe-d0c5-44ea-9f1e-b27250b4d3ac",
        "part": "whole"
       },
       "id": "54e0338e-6913-46ac-b3e6-acd6fa544d4a"
      }
     }
    },
    "b1e5fdfb-203f-4e69-ba3e-5e694b293b56": {
     "id": "b1e5fdfb-203f-4e69-ba3e-5e694b293b56",
     "prev": "84d37b61-1c03-4fa3-8386-f979f8c8bdf1",
     "regions": {
      "3c15914a-34f8-45e8-a7c2-eedad7282a2a": {
       "attrs": {
        "height": 0.8,
        "width": 0.8,
        "x": 0.1,
        "y": 0.1
       },
       "content": {
        "cell": "085e3835-16ab-4b0f-b4cb-cf44a489a899",
        "part": "whole"
       },
       "id": "3c15914a-34f8-45e8-a7c2-eedad7282a2a"
      }
     }
    },
    "b9dce959-9a53-4f2b-bde7-4f42265c2511": {
     "id": "b9dce959-9a53-4f2b-bde7-4f42265c2511",
     "prev": "8946a486-caf0-4ce1-82af-580bd4940750",
     "regions": {
      "30ede644-2d4b-4b61-a3d8-85c23f0d3f35": {
       "attrs": {
        "height": 0.8,
        "width": 0.8,
        "x": 0.1,
        "y": 0.1
       },
       "content": {
        "cell": "b11a0b97-21ff-465c-bed0-aed04639ed68",
        "part": "whole"
       },
       "id": "30ede644-2d4b-4b61-a3d8-85c23f0d3f35"
      }
     }
    },
    "c0ee68f2-8228-4b80-8d9e-cb35c5942c13": {
     "id": "c0ee68f2-8228-4b80-8d9e-cb35c5942c13",
     "prev": "37a903e2-5742-48ac-9dbf-fba8deeb7237",
     "regions": {
      "d69e0201-7aea-4421-8df3-413826f89ead": {
       "attrs": {
        "height": 0.8,
        "width": 0.8,
        "x": 0.1,
        "y": 0.1
       },
       "content": {
        "cell": "e6ec4ead-a8b3-4184-a41c-196ac5ef5f5a",
        "part": "whole"
       },
       "id": "d69e0201-7aea-4421-8df3-413826f89ead"
      }
     }
    },
    "c768650c-7d86-431c-ba32-0857cc1f3f5d": {
     "id": "c768650c-7d86-431c-ba32-0857cc1f3f5d",
     "prev": "cd40183e-b501-4ad2-aa55-398e7cc8ccf5",
     "regions": {
      "f852b7bf-c1a1-455d-8c6b-5e9aa79f7ecb": {
       "attrs": {
        "height": 0.8,
        "width": 0.8,
        "x": 0.1,
        "y": 0.1
       },
       "content": {
        "cell": "4a8e17a8-8310-45f4-ae59-7cdddebff917",
        "part": "whole"
       },
       "id": "f852b7bf-c1a1-455d-8c6b-5e9aa79f7ecb"
      }
     }
    },
    "c830852f-4d63-4197-9c15-e08531029a84": {
     "id": "c830852f-4d63-4197-9c15-e08531029a84",
     "prev": "ecf6d3b8-145c-4146-88b5-29775323cb68",
     "regions": {
      "05a40125-2821-477f-a719-741e42f27a6d": {
       "attrs": {
        "height": 0.8,
        "width": 0.8,
        "x": 0.1,
        "y": 0.1
       },
       "content": {
        "cell": "eb22ef52-24d3-43b2-8b9a-c0a587f6ea9c",
        "part": "whole"
       },
       "id": "05a40125-2821-477f-a719-741e42f27a6d"
      }
     }
    },
    "c855d927-b8b7-4893-9a2d-49d871de6924": {
     "id": "c855d927-b8b7-4893-9a2d-49d871de6924",
     "prev": "73fb9bde-12b0-4da5-9fe3-253770e34c00",
     "regions": {
      "76a951ce-8d85-4737-b1ea-4060dcca9b57": {
       "attrs": {
        "height": 0.8,
        "width": 0.8,
        "x": 0.1,
        "y": 0.1
       },
       "content": {
        "cell": "aafbdf58-914e-4e9a-9e94-be1ef5c347df",
        "part": "whole"
       },
       "id": "76a951ce-8d85-4737-b1ea-4060dcca9b57"
      }
     }
    },
    "c8a75a49-e10a-4a6c-84e9-105731728369": {
     "id": "c8a75a49-e10a-4a6c-84e9-105731728369",
     "prev": "b1e5fdfb-203f-4e69-ba3e-5e694b293b56",
     "regions": {
      "0da1f328-a3d1-4b0c-a4b0-c9c68b3dbbb9": {
       "attrs": {
        "height": 0.8,
        "width": 0.8,
        "x": 0.1,
        "y": 0.1
       },
       "content": {
        "cell": "02fffaab-477b-446b-aea4-281a8c6d1936",
        "part": "whole"
       },
       "id": "0da1f328-a3d1-4b0c-a4b0-c9c68b3dbbb9"
      }
     }
    },
    "cbd30e15-d665-44a6-8557-841cddf962f4": {
     "id": "cbd30e15-d665-44a6-8557-841cddf962f4",
     "prev": "98a04964-020e-46c8-9463-96925b55df08",
     "regions": {
      "7ea449f0-23cf-4394-b32b-fe65b4e0d5bb": {
       "attrs": {
        "height": 0.8,
        "width": 0.8,
        "x": 0.1,
        "y": 0.1
       },
       "content": {
        "cell": "6fb8b672-1cbe-4cab-a84d-4a949d6d7735",
        "part": "whole"
       },
       "id": "7ea449f0-23cf-4394-b32b-fe65b4e0d5bb"
      }
     }
    },
    "cd40183e-b501-4ad2-aa55-398e7cc8ccf5": {
     "id": "cd40183e-b501-4ad2-aa55-398e7cc8ccf5",
     "prev": "7017716b-fc26-4140-97ba-6845af67a02d",
     "regions": {
      "2d090301-5910-4c86-b7b3-48951ec98ae2": {
       "attrs": {
        "height": 0.8,
        "width": 0.8,
        "x": 0.1,
        "y": 0.1
       },
       "content": {
        "cell": "b7b4ca8f-4e2b-471c-b906-2d076ad1af39",
        "part": "whole"
       },
       "id": "2d090301-5910-4c86-b7b3-48951ec98ae2"
      }
     }
    },
    "d3758489-a4a7-4bd5-877f-52a523b61ee2": {
     "id": "d3758489-a4a7-4bd5-877f-52a523b61ee2",
     "prev": "f7950421-a496-479b-b628-ae186be4ea02",
     "regions": {
      "1dcd2bb8-1802-4bc4-97d5-dcb78df777cc": {
       "attrs": {
        "height": 0.8,
        "width": 0.8,
        "x": 0.1,
        "y": 0.1
       },
       "content": {
        "cell": "5fadda9b-b0b5-4fc1-8cfd-2cf61104eb27",
        "part": "whole"
       },
       "id": "1dcd2bb8-1802-4bc4-97d5-dcb78df777cc"
      }
     }
    },
    "da89fd53-3485-42c9-beef-396356f9081b": {
     "id": "da89fd53-3485-42c9-beef-396356f9081b",
     "prev": "e79ae60d-ffaf-4da4-a21f-88704d5cc9d2",
     "regions": {
      "2041d071-f581-44c9-8890-30d0fe6d77a8": {
       "attrs": {
        "height": 0.8,
        "width": 0.8,
        "x": 0.1,
        "y": 0.1
       },
       "content": {
        "cell": "919c7a8c-f49e-45e5-b2cf-acdb8a117a29",
        "part": "whole"
       },
       "id": "2041d071-f581-44c9-8890-30d0fe6d77a8"
      }
     }
    },
    "e1f21ca6-2278-4e33-805a-95ff9b9db5e8": {
     "id": "e1f21ca6-2278-4e33-805a-95ff9b9db5e8",
     "prev": "f33f669d-aee1-422f-ab7d-6b502f428d30",
     "regions": {
      "cca36964-fe97-4c3b-9911-e4fb9d5ad12d": {
       "attrs": {
        "height": 0.8,
        "width": 0.8,
        "x": 0.1,
        "y": 0.1
       },
       "content": {
        "cell": "74e4061c-0f96-4d2e-a3f1-004a9c8cc35d",
        "part": "whole"
       },
       "id": "cca36964-fe97-4c3b-9911-e4fb9d5ad12d"
      }
     }
    },
    "e36247ee-5f30-4a83-8ebe-1250f604e635": {
     "id": "e36247ee-5f30-4a83-8ebe-1250f604e635",
     "prev": "23dbc0c2-a6de-4d12-bd00-8867bc67cef7",
     "regions": {
      "5bcfc05e-4151-4510-8d19-4b6691cd6362": {
       "attrs": {
        "height": 0.8,
        "width": 0.8,
        "x": 0.1,
        "y": 0.1
       },
       "content": {
        "cell": "c22c01ca-8259-4358-a7d7-2ccabc9197a2",
        "part": "whole"
       },
       "id": "5bcfc05e-4151-4510-8d19-4b6691cd6362"
      }
     }
    },
    "e51d7177-4771-4dbb-a045-17833cbfe313": {
     "id": "e51d7177-4771-4dbb-a045-17833cbfe313",
     "prev": "e1f21ca6-2278-4e33-805a-95ff9b9db5e8",
     "regions": {
      "0de48b61-177b-4a0a-986f-958da1730586": {
       "attrs": {
        "height": 0.8,
        "width": 0.8,
        "x": 0.1,
        "y": 0.1
       },
       "content": {
        "cell": "8108c1ba-249c-4513-9a05-6a7ed6213cb4",
        "part": "whole"
       },
       "id": "0de48b61-177b-4a0a-986f-958da1730586"
      }
     }
    },
    "e79ae60d-ffaf-4da4-a21f-88704d5cc9d2": {
     "id": "e79ae60d-ffaf-4da4-a21f-88704d5cc9d2",
     "prev": "834de289-3d8d-4c41-8b57-2bbb469d0426",
     "regions": {
      "ea016027-ce82-46e8-ad20-45100288169b": {
       "attrs": {
        "height": 0.8,
        "width": 0.8,
        "x": 0.1,
        "y": 0.1
       },
       "content": {
        "cell": "4587ec2f-dd8e-4441-b1df-148d9886b225",
        "part": "whole"
       },
       "id": "ea016027-ce82-46e8-ad20-45100288169b"
      }
     }
    },
    "ebd2ddf1-9fef-40dd-a8c2-2b33f60bf02d": {
     "id": "ebd2ddf1-9fef-40dd-a8c2-2b33f60bf02d",
     "prev": "ffdaccfc-c51d-4f38-9a19-2432062b7d1a",
     "regions": {
      "29e4d146-a177-4578-9b34-8e32ac0d88c9": {
       "attrs": {
        "height": 0.8,
        "width": 0.8,
        "x": 0.1,
        "y": 0.1
       },
       "content": {
        "cell": "d2429283-3a76-4edb-90c8-9e2070944461",
        "part": "whole"
       },
       "id": "29e4d146-a177-4578-9b34-8e32ac0d88c9"
      }
     }
    },
    "ecad28c2-cd39-49eb-b122-71f6918db603": {
     "id": "ecad28c2-cd39-49eb-b122-71f6918db603",
     "prev": "77e222fb-79a6-418b-b6a0-50c910db36d9",
     "regions": {
      "7cfe0b45-825e-47d6-b523-e8cdb772f380": {
       "attrs": {
        "height": 0.8,
        "width": 0.8,
        "x": 0.1,
        "y": 0.1
       },
       "content": {
        "cell": "647d0925-ee5b-4786-8551-802ba614924b",
        "part": "whole"
       },
       "id": "7cfe0b45-825e-47d6-b523-e8cdb772f380"
      }
     }
    },
    "ecf6d3b8-145c-4146-88b5-29775323cb68": {
     "id": "ecf6d3b8-145c-4146-88b5-29775323cb68",
     "prev": "ebd2ddf1-9fef-40dd-a8c2-2b33f60bf02d",
     "regions": {
      "e61be17b-d7e5-4397-8a0f-6a1f7bab9bc5": {
       "attrs": {
        "height": 0.8,
        "width": 0.8,
        "x": 0.1,
        "y": 0.1
       },
       "content": {
        "cell": "223846d0-8fff-4994-b7f7-1b60ca85798f",
        "part": "whole"
       },
       "id": "e61be17b-d7e5-4397-8a0f-6a1f7bab9bc5"
      }
     }
    },
    "f33f669d-aee1-422f-ab7d-6b502f428d30": {
     "id": "f33f669d-aee1-422f-ab7d-6b502f428d30",
     "prev": "2bd8dbc2-db4a-4015-8e1b-cf5efa79668f",
     "regions": {
      "05cd19e0-490b-41ed-ab3b-aa79783b931f": {
       "attrs": {
        "height": 0.8,
        "width": 0.8,
        "x": 0.1,
        "y": 0.1
       },
       "content": {
        "cell": "ac19ef48-4e12-4ecb-8c29-da1a9ce3b75b",
        "part": "whole"
       },
       "id": "05cd19e0-490b-41ed-ab3b-aa79783b931f"
      }
     }
    },
    "f491d5f9-c909-4e2d-840b-027b75c26dff": {
     "id": "f491d5f9-c909-4e2d-840b-027b75c26dff",
     "prev": "c855d927-b8b7-4893-9a2d-49d871de6924",
     "regions": {
      "1da597bd-9837-40ff-adcd-2403fbbb23e0": {
       "attrs": {
        "height": 0.8,
        "width": 0.8,
        "x": 0.1,
        "y": 0.1
       },
       "content": {
        "cell": "fdba7e6d-df22-4b59-8399-2d2f6ad66871",
        "part": "whole"
       },
       "id": "1da597bd-9837-40ff-adcd-2403fbbb23e0"
      }
     }
    },
    "f7950421-a496-479b-b628-ae186be4ea02": {
     "id": "f7950421-a496-479b-b628-ae186be4ea02",
     "prev": "b0f5e144-0717-4ead-801d-db217cd6615d",
     "regions": {
      "1057d468-c788-41c4-a794-3c604e53f9e9": {
       "attrs": {
        "height": 0.8,
        "width": 0.8,
        "x": 0.1,
        "y": 0.1
       },
       "content": {
        "cell": "7a0dbd7e-2cb6-45f8-ac0f-e94148ddcd22",
        "part": "whole"
       },
       "id": "1057d468-c788-41c4-a794-3c604e53f9e9"
      }
     }
    },
    "fba1afc9-69ad-4072-ac4a-f8c6f97f96a3": {
     "id": "fba1afc9-69ad-4072-ac4a-f8c6f97f96a3",
     "prev": "da89fd53-3485-42c9-beef-396356f9081b",
     "regions": {
      "57199542-a4b8-4342-a292-c3f2973b7b56": {
       "attrs": {
        "height": 0.8,
        "width": 0.8,
        "x": 0.1,
        "y": 0.1
       },
       "content": {
        "cell": "adcbec54-771e-4ab8-8c9b-020f9da2c228",
        "part": "whole"
       },
       "id": "57199542-a4b8-4342-a292-c3f2973b7b56"
      }
     }
    },
    "fcb71963-ddc8-4e2c-a1e9-5a9ac8ac89a7": {
     "id": "fcb71963-ddc8-4e2c-a1e9-5a9ac8ac89a7",
     "prev": "fba1afc9-69ad-4072-ac4a-f8c6f97f96a3",
     "regions": {
      "8576248a-5969-4e87-a709-cf935732fd5a": {
       "attrs": {
        "height": 0.8,
        "width": 0.8,
        "x": 0.1,
        "y": 0.1
       },
       "content": {
        "cell": "7c46cd9f-c6f1-450d-ad2a-5abd9fafed21",
        "part": "whole"
       },
       "id": "8576248a-5969-4e87-a709-cf935732fd5a"
      }
     }
    },
    "ffdaccfc-c51d-4f38-9a19-2432062b7d1a": {
     "id": "ffdaccfc-c51d-4f38-9a19-2432062b7d1a",
     "prev": "4a71644b-d8b4-4d9d-bdb5-4449bee80461",
     "regions": {
      "08c1a076-56bb-42df-a0a9-deca9b49eed8": {
       "attrs": {
        "height": 0.8,
        "width": 0.8,
        "x": 0.1,
        "y": 0.1
       },
       "content": {
        "cell": "1bfdb6ac-e6bd-4ab7-9df2-a759df2e31e0",
        "part": "whole"
       },
       "id": "08c1a076-56bb-42df-a0a9-deca9b49eed8"
      }
     }
    }
   },
   "themes": {
    "default": "2dd7db6c-aa77-4013-b17e-d7382ee66836",
    "theme": {
     "2dd7db6c-aa77-4013-b17e-d7382ee66836": {
      "id": "2dd7db6c-aa77-4013-b17e-d7382ee66836",
      "palette": {
       "19cc588f-0593-49c9-9f4b-e4d7cc113b1c": {
        "id": "19cc588f-0593-49c9-9f4b-e4d7cc113b1c",
        "rgb": [
         252,
         252,
         252
        ]
       },
       "31af15d2-7e15-44c5-ab5e-e04b16a89eff": {
        "id": "31af15d2-7e15-44c5-ab5e-e04b16a89eff",
        "rgb": [
         68,
         68,
         68
        ]
       },
       "50f92c45-a630-455b-aec3-788680ec7410": {
        "id": "50f92c45-a630-455b-aec3-788680ec7410",
        "rgb": [
         155,
         177,
         192
        ]
       },
       "c5cc3653-2ee1-402a-aba2-7caae1da4f6c": {
        "id": "c5cc3653-2ee1-402a-aba2-7caae1da4f6c",
        "rgb": [
         43,
         126,
         184
        ]
       },
       "efa7f048-9acb-414c-8b04-a26811511a21": {
        "id": "efa7f048-9acb-414c-8b04-a26811511a21",
        "rgb": [
         25.118061674008803,
         73.60176211453744,
         107.4819383259912
        ]
       }
      },
      "rules": {
       "blockquote": {
        "color": "50f92c45-a630-455b-aec3-788680ec7410"
       },
       "code": {
        "font-family": "Anonymous Pro"
       },
       "h1": {
        "color": "c5cc3653-2ee1-402a-aba2-7caae1da4f6c",
        "font-family": "Lato",
        "font-size": 8
       },
       "h2": {
        "color": "c5cc3653-2ee1-402a-aba2-7caae1da4f6c",
        "font-family": "Lato",
        "font-size": 6
       },
       "h3": {
        "color": "50f92c45-a630-455b-aec3-788680ec7410",
        "font-family": "Lato",
        "font-size": 5.5
       },
       "h4": {
        "color": "c5cc3653-2ee1-402a-aba2-7caae1da4f6c",
        "font-family": "Lato",
        "font-size": 5
       },
       "h5": {
        "font-family": "Lato"
       },
       "h6": {
        "font-family": "Lato"
       },
       "h7": {
        "font-family": "Lato"
       },
       "pre": {
        "font-family": "Anonymous Pro",
        "font-size": 4
       }
      },
      "text-base": {
       "font-family": "Merriweather",
       "font-size": 4
      }
     }
    }
   }
  }
 },
 "nbformat": 4,
 "nbformat_minor": 1
}
