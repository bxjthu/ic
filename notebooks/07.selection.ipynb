{
 "cells": [
  {
   "cell_type": "markdown",
   "metadata": {},
   "source": [
    "# 7. Selection"
   ]
  },
  {
   "cell_type": "markdown",
   "metadata": {},
   "source": [
    "## Boolean Values and Boolean Expressions\n",
    "\n",
    "The Python type for storing true and false values is called <font color=\"red\">bool</font>\n",
    "\n",
    "- Only two values: <font color=\"red\">True</font> and <font color=\"red\">False</font>."
   ]
  },
  {
   "cell_type": "code",
   "execution_count": 2,
   "metadata": {
    "collapsed": false
   },
   "outputs": [
    {
     "name": "stdout",
     "output_type": "stream",
     "text": [
      "True\n",
      "<class 'bool'>\n",
      "<class 'bool'>\n",
      "True\n",
      "<class 'str'>\n"
     ]
    }
   ],
   "source": [
    "print(True)\n",
    "print(type(True))\n",
    "print(type(False))\n",
    "print(\"True\")\n",
    "print(type(\"True\"))"
   ]
  },
  {
   "cell_type": "markdown",
   "metadata": {},
   "source": [
    "** boolean expression **\n",
    "\n",
    "A boolean expression is an expression that evaluates to a boolean value."
   ]
  },
  {
   "cell_type": "code",
   "execution_count": 3,
   "metadata": {
    "collapsed": false
   },
   "outputs": [
    {
     "name": "stdout",
     "output_type": "stream",
     "text": [
      "True\n",
      "False\n"
     ]
    }
   ],
   "source": [
    "print(5 == 5)\n",
    "print(5 == 6)"
   ]
  },
  {
   "cell_type": "markdown",
   "metadata": {},
   "source": [
    "** six common comparison operators**\n",
    "\n",
    "```python\n",
    "x == y      # x is equal to y\n",
    "x != y      # x is not equal to y\n",
    "x > y       # x is greater than y\n",
    "x < y       # x is less than y\n",
    "x >= y      # x is greater than or equal to y\n",
    "x <= y      # x is less than or equal to y\n",
    "```"
   ]
  },
  {
   "cell_type": "markdown",
   "metadata": {},
   "source": [
    "** Exercise **\n",
    "```\n",
    "Which of the following is a Boolean expression? Select all that apply.\n",
    "(A) True\n",
    "(B) 3 == 4\n",
    "(C) 3 + 4\n",
    "(D) 3 + 4 == 7\n",
    "(E) \"False\"\n",
    "```"
   ]
  },
  {
   "cell_type": "markdown",
   "metadata": {},
   "source": [
    "## Logical operators\n",
    "\n",
    "- and\n",
    "- or\n",
    "- not"
   ]
  },
  {
   "cell_type": "code",
   "execution_count": 4,
   "metadata": {
    "collapsed": false
   },
   "outputs": [
    {
     "name": "stdout",
     "output_type": "stream",
     "text": [
      "True\n",
      "False\n"
     ]
    }
   ],
   "source": [
    "x = 5\n",
    "print(x > 0 and x < 10)\n",
    "\n",
    "n = 25\n",
    "print(n % 2 == 0 or n % 3 == 0)"
   ]
  },
  {
   "cell_type": "markdown",
   "metadata": {},
   "source": [
    "** Exercise **\n",
    "\n",
    "```\n",
    "1. Check if the value of `num` is 5,6, or 7, which is correct?\n",
    "```\n",
    "```python\n",
    "num == 5 or 6 or 7\n",
    "\n",
    "num = 5 or num = 6 or num = 7\n",
    "\n",
    "num == 5 or num == 6 or num == 7\n",
    "\n",
    "num > 4 and num < 8\n",
    "```"
   ]
  },
  {
   "cell_type": "markdown",
   "metadata": {},
   "source": [
    "```\n",
    "2. What is the correct Python expression for checking to see if a number stored in a variable x is between 0 and 5.\n",
    "(A) x > 0 and < 5\n",
    "(B) 0 < x < 5\n",
    "(C) x > 0 or x < 5\n",
    "(D) x > 0 and x < 5\n",
    "```"
   ]
  },
  {
   "cell_type": "code",
   "execution_count": null,
   "metadata": {
    "collapsed": true
   },
   "outputs": [],
   "source": []
  }
 ],
 "metadata": {
  "kernelspec": {
   "display_name": "Python [conda root]",
   "language": "python",
   "name": "conda-root-py"
  },
  "language_info": {
   "codemirror_mode": {
    "name": "ipython",
    "version": 3
   },
   "file_extension": ".py",
   "mimetype": "text/x-python",
   "name": "python",
   "nbconvert_exporter": "python",
   "pygments_lexer": "ipython3",
   "version": "3.5.2"
  }
 },
 "nbformat": 4,
 "nbformat_minor": 1
}
