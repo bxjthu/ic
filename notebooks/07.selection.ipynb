{
 "cells": [
  {
   "cell_type": "markdown",
   "metadata": {
    "nbpresent": {
     "id": "c06eee89-a113-4302-9ca5-ee8d00e58ac7"
    }
   },
   "source": [
    "# 7. Selection"
   ]
  },
  {
   "cell_type": "markdown",
   "metadata": {
    "nbpresent": {
     "id": "b3ec9ecf-0e53-48ac-b7dd-b013387f7d86"
    }
   },
   "source": [
    "## Boolean Values and Boolean Expressions\n",
    "\n",
    "The Python type for storing true and false values is called <font color=\"red\">bool</font>\n",
    "\n",
    "- Only two values: <font color=\"red\">True</font> and <font color=\"red\">False</font>."
   ]
  },
  {
   "cell_type": "code",
   "execution_count": null,
   "metadata": {
    "collapsed": false,
    "nbpresent": {
     "id": "61ac379c-e3d7-428f-877b-b1e7127631e0"
    }
   },
   "outputs": [],
   "source": [
    "print(True)\n",
    "print(type(True))\n",
    "print(type(False))\n",
    "print(\"True\")\n",
    "print(type(\"True\"))"
   ]
  },
  {
   "cell_type": "markdown",
   "metadata": {
    "nbpresent": {
     "id": "74f4cc20-2592-4708-9c6a-c292a2745c19"
    }
   },
   "source": [
    "** boolean expression **\n",
    "\n",
    "A boolean expression is an expression that evaluates to a boolean value."
   ]
  },
  {
   "cell_type": "code",
   "execution_count": null,
   "metadata": {
    "collapsed": false,
    "nbpresent": {
     "id": "f30d80ae-4ee1-42c8-968f-403b89493998"
    }
   },
   "outputs": [],
   "source": [
    "print(5 == 5)\n",
    "print(5 == 6)"
   ]
  },
  {
   "cell_type": "markdown",
   "metadata": {
    "nbpresent": {
     "id": "4769e0b9-9b67-44b3-85f7-34724f87b3ca"
    }
   },
   "source": [
    "** six common comparison operators**\n",
    "\n",
    "```python\n",
    "x == y      # x is equal to y\n",
    "x != y      # x is not equal to y\n",
    "x > y       # x is greater than y\n",
    "x < y       # x is less than y\n",
    "x >= y      # x is greater than or equal to y\n",
    "x <= y      # x is less than or equal to y\n",
    "```"
   ]
  },
  {
   "cell_type": "markdown",
   "metadata": {
    "nbpresent": {
     "id": "9b324e17-2209-4508-a8ab-00c93e7fc68b"
    }
   },
   "source": [
    "** Exercise **\n",
    "```\n",
    "Which of the following is a Boolean expression? Select all that apply.\n",
    "(A) True\n",
    "(B) 3 == 4\n",
    "(C) 3 + 4\n",
    "(D) 3 + 4 == 7\n",
    "(E) \"False\"\n",
    "```"
   ]
  },
  {
   "cell_type": "markdown",
   "metadata": {
    "nbpresent": {
     "id": "b78c6cc8-a7a9-40df-b364-2abac401782b"
    }
   },
   "source": [
    "## Logical operators\n",
    "\n",
    "- and\n",
    "- or\n",
    "- not"
   ]
  },
  {
   "cell_type": "code",
   "execution_count": null,
   "metadata": {
    "collapsed": false,
    "nbpresent": {
     "id": "d21a88bd-065a-44bc-b900-02b184fa2d4e"
    }
   },
   "outputs": [],
   "source": [
    "x = 5\n",
    "print(x > 0 and x < 10)\n",
    "\n",
    "n = 25\n",
    "print(n % 2 == 0 or n % 3 == 0)"
   ]
  },
  {
   "cell_type": "code",
   "execution_count": null,
   "metadata": {
    "collapsed": true,
    "nbpresent": {
     "id": "9472fad2-da5d-4c3c-a7cc-dcb9055f71b2"
    }
   },
   "outputs": [],
   "source": [
    "x, y, z = 1, 2, 3\n",
    "\n",
    "x > y > z\n",
    "\n",
    "x == y == z"
   ]
  },
  {
   "cell_type": "markdown",
   "metadata": {
    "nbpresent": {
     "id": "860d4660-f2c7-480b-9240-cb01e4e063c2"
    }
   },
   "source": [
    "** Exercise **\n",
    "\n",
    "```\n",
    "1. Check if the value of `num` is 5,6, or 7, which is correct?\n",
    "```\n",
    "```python\n",
    "num == 5 or 6 or 7\n",
    "\n",
    "num = 5 or num = 6 or num = 7\n",
    "\n",
    "num == 5 or num == 6 or num == 7\n",
    "\n",
    "num > 4 and num < 8\n",
    "```"
   ]
  },
  {
   "cell_type": "markdown",
   "metadata": {
    "nbpresent": {
     "id": "c8081722-5139-4f60-a840-da8073db6f00"
    }
   },
   "source": [
    "```\n",
    "2. What is the correct Python expression for checking to see if a number stored in a variable x is between 0 and 5.\n",
    "(A) x > 0 and < 5\n",
    "(B) 0 < x < 5\n",
    "(C) x > 0 or x < 5\n",
    "(D) x > 0 and x < 5\n",
    "```"
   ]
  },
  {
   "cell_type": "markdown",
   "metadata": {
    "nbpresent": {
     "id": "b933bd07-caa1-4b5e-9e2d-285c9ef8850e"
    }
   },
   "source": [
    "## Precedence of Operators\n",
    "\n",
    "Level |\tCategory |\tOperators\n",
    "------|----------|-----------\n",
    "7(high)\t| exponent\t| `**`\n",
    "6\t| multiplication |\t`*,/,//,%`\n",
    "5\t| addition\t| `+,-`\n",
    "4\t| relational |`==,!=,<=,>=,>,<`\n",
    "3\t| logical\t| `not`\n",
    "2\t| logical\t| `and`\n",
    "1(low)\t| logical |\t`or`"
   ]
  },
  {
   "cell_type": "markdown",
   "metadata": {
    "nbpresent": {
     "id": "c519c6b5-6bd7-499b-87dd-4da77c162e55"
    }
   },
   "source": [
    "** Exercise **\n",
    "\n",
    "```\n",
    "Which of the following properly expresses the precedence of operators (using parentheses) in the following expression: 5*3 > 10 and 4+6==11\n",
    "(A) ((5*3) > 10) and ((4+6) == 11)\n",
    "(B) (5*(3 > 10)) and (4 + (6 == 11))\n",
    "(C) ((((5*3) > 10) and 4)+6) == 11\n",
    "(D) ((5*3) > (10 and (4+6))) == 11\n",
    "```"
   ]
  },
  {
   "cell_type": "markdown",
   "metadata": {
    "nbpresent": {
     "id": "f255c47f-a7c5-45f2-b59c-06371c31a8c4"
    }
   },
   "source": [
    "## Conditional Execution: Binary Selection"
   ]
  },
  {
   "cell_type": "markdown",
   "metadata": {
    "nbpresent": {
     "id": "cac32f02-9e68-4ccf-bcea-66979a445878"
    }
   },
   "source": [
    "In order to write useful programs, we almost always need the ability to check conditions and change the behavior of the program accordingly. \n",
    "\n",
    "**Selection statements**, also referred to as **conditional statements**\n",
    "give us this ability. \n",
    "\n",
    "The simplest form of selection is the **if statement**. This is sometimes referred to as **binary selection** since there are two possible paths of execution."
   ]
  },
  {
   "cell_type": "code",
   "execution_count": null,
   "metadata": {
    "collapsed": false,
    "nbpresent": {
     "id": "84b71a26-f23b-4c53-83ac-cc26ceb72d7e"
    }
   },
   "outputs": [],
   "source": [
    "x = 15\n",
    "\n",
    "if x % 2 == 0:\n",
    "    print(x, \"is even\")\n",
    "else:\n",
    "    print(x, \"is odd\")"
   ]
  },
  {
   "cell_type": "markdown",
   "metadata": {
    "nbpresent": {
     "id": "ccc66c11-5663-4a08-9f16-f31db8a32540"
    }
   },
   "source": [
    "** The syntax for an if statement **\n",
    "\n",
    "```python\n",
    "if BOOLEAN EXPRESSION:\n",
    "    STATEMENTS_1        # executed if condition evaluates to True\n",
    "else:\n",
    "    STATEMENTS_2        # executed if condition evaluates to False\n",
    "```"
   ]
  },
  {
   "cell_type": "markdown",
   "metadata": {
    "nbpresent": {
     "id": "81fe7587-707b-462e-9d02-12282a561cc9"
    }
   },
   "source": [
    "** Flowchart of a if statement with an else **\n",
    "\n",
    "<img src=\"images/if.svg\" width=500>"
   ]
  },
  {
   "cell_type": "markdown",
   "metadata": {
    "nbpresent": {
     "id": "027c3915-8659-43c4-8dbf-b0efe40d03de"
    }
   },
   "source": [
    "** Exercise **\n",
    "\n",
    "```\n",
    "1. How many statements can appear in each block (the if and the else) in a conditional statement?\n",
    "(A) Just one.\n",
    "(B) Zero or more.\n",
    "(C) One or more.\n",
    "(D) One or more, and each must contain the same number.\n",
    "```"
   ]
  },
  {
   "cell_type": "markdown",
   "metadata": {
    "nbpresent": {
     "id": "5ffa95c9-c677-4eb6-bf36-fc30b8352a3c"
    }
   },
   "source": [
    "```\n",
    "2. What does the following code print (choose from output a, b, c or nothing).\n",
    "```\n",
    "\n",
    "```python\n",
    "if 4 + 5 == 10:\n",
    "    print(\"TRUE\")\n",
    "else:\n",
    "    print(\"FALSE\")\n",
    "```\n",
    "```\n",
    "(A) TRUE\n",
    "(B) FALSE\n",
    "(C) TRUE on one line and FALSE on the next\n",
    "(D) Nothing will be printed\n",
    "```"
   ]
  },
  {
   "cell_type": "markdown",
   "metadata": {
    "nbpresent": {
     "id": "7ef574b3-ee5d-4642-aac7-3f16b3e4a27b"
    }
   },
   "source": [
    "```\n",
    "3. What does the following code print?\n",
    "```\n",
    "```python\n",
    "if 4 + 5 == 10:\n",
    "    print(\"TRUE\")\n",
    "else:\n",
    "    print(\"FALSE\")\n",
    "print(\"TRUE\")\n",
    "```"
   ]
  },
  {
   "cell_type": "markdown",
   "metadata": {
    "nbpresent": {
     "id": "5d1b5561-cb37-4321-9a0f-b79d85c77fff"
    }
   },
   "source": [
    "## Omitting the else Clause: Unary Selection\n",
    "\n",
    "\n",
    "<img src=\"images/if_unary.svg\" width=300>"
   ]
  },
  {
   "cell_type": "code",
   "execution_count": null,
   "metadata": {
    "collapsed": false,
    "nbpresent": {
     "id": "be2fb416-e456-4924-bb75-4105703ccc9a"
    }
   },
   "outputs": [],
   "source": [
    "x = 10\n",
    "if x < 0:\n",
    "    print(\"The negative number \",  x, \" is not valid here.\")\n",
    "print(\"This is always printed\")"
   ]
  },
  {
   "cell_type": "code",
   "execution_count": null,
   "metadata": {
    "collapsed": false,
    "nbpresent": {
     "id": "89f52a48-47c1-476d-ba84-688d49169f03"
    }
   },
   "outputs": [],
   "source": [
    "x = -10\n",
    "if x < 0:\n",
    "    print(\"The negative number \",  x, \" is not valid here.\")\n",
    "print(\"This is always printed\")"
   ]
  },
  {
   "cell_type": "markdown",
   "metadata": {
    "nbpresent": {
     "id": "987eb7b1-95e2-4674-9b85-23d70683e177"
    }
   },
   "source": [
    "**Exercise: Will the following code cause an error?**\n",
    "\n",
    "```python\n",
    "x = -10\n",
    "if x < 0:\n",
    "    print(\"The negative number \",  x, \" is not valid here.\")\n",
    "else:\n",
    "    print(x, \" is a positive number\")\n",
    "else:\n",
    "    print(\"This is always printed\")\n",
    "```"
   ]
  },
  {
   "cell_type": "markdown",
   "metadata": {
    "nbpresent": {
     "id": "d88ebea5-1068-4c0a-94ae-f37e56305e86"
    }
   },
   "source": [
    "## Nested conditionals\n",
    "\n",
    "<img src=\"images/if_nest.svg\" width=500>"
   ]
  },
  {
   "cell_type": "code",
   "execution_count": null,
   "metadata": {
    "collapsed": false,
    "nbpresent": {
     "id": "42f1621e-6131-499a-90be-2cd2cab720eb"
    }
   },
   "outputs": [],
   "source": [
    "x, y = 1, 10\n",
    "if x < y:\n",
    "    print(\"x is less than y\")\n",
    "else:\n",
    "    if x > y:\n",
    "        print(\"x is greater than y\")\n",
    "    else:\n",
    "        print(\"x and y must be equal\")"
   ]
  },
  {
   "cell_type": "code",
   "execution_count": 14,
   "metadata": {
    "collapsed": false,
    "nbpresent": {
     "id": "c9e049e5-4935-47dc-9d1b-d789365923cb"
    }
   },
   "outputs": [
    {
     "data": {
      "text/html": [
       "\n",
       "        <iframe\n",
       "            width=\"100%\"\n",
       "            height=\"450\"\n",
       "            src=\"http://pythontutor.com/iframe-embed.html#code=x%20%3D%201%0Ay%20%3D%2010%0A%0Aif%20x%20%3C%20y%3A%0A%20%20%20%20print(%22x%20is%20less%20than%20y%22%29%0Aelse%3A%0A%20%20%20%20if%20x%20%3E%20y%3A%0A%20%20%20%20%20%20%20%20print(%22x%20is%20greater%20than%20y%22%29%0A%20%20%20%20else%3A%0A%20%20%20%20%20%20%20%20print(%22x%20and%20y%20must%20be%20equal%22%29&codeDivHeight=400&codeDivWidth=350&cumulative=false&curInstr=0&heapPrimitives=false&origin=opt-frontend.js&py=3&rawInputLstJSON=%5B%5D&textReferences=false\"\n",
       "            frameborder=\"0\"\n",
       "            allowfullscreen\n",
       "        ></iframe>\n",
       "        "
      ],
      "text/plain": [
       "<IPython.lib.display.IFrame at 0x106a7a2b0>"
      ]
     },
     "execution_count": 14,
     "metadata": {},
     "output_type": "execute_result"
    }
   ],
   "source": [
    "from IPython.display import IFrame\n",
    "IFrame('http://pythontutor.com/iframe-embed.html#code=x%20%3D%201%0Ay%20%3D%2010%0A%0Aif%20x%20%3C%20y%3A%0A%20%20%20%20print(%22x%20is%20less%20than%20y%22%29%0Aelse%3A%0A%20%20%20%20if%20x%20%3E%20y%3A%0A%20%20%20%20%20%20%20%20print(%22x%20is%20greater%20than%20y%22%29%0A%20%20%20%20else%3A%0A%20%20%20%20%20%20%20%20print(%22x%20and%20y%20must%20be%20equal%22%29&codeDivHeight=400&codeDivWidth=350&cumulative=false&curInstr=0&heapPrimitives=false&origin=opt-frontend.js&py=3&rawInputLstJSON=%5B%5D&textReferences=false', width='100%', height=450)"
   ]
  },
  {
   "cell_type": "markdown",
   "metadata": {
    "nbpresent": {
     "id": "7e8ab11e-32ca-4ffb-8f7b-b53dfb1a459f"
    }
   },
   "source": [
    "** Exercise: Will the following code cause an error? **\n",
    "\n",
    "```python\n",
    "x = -10\n",
    "if x < 0:\n",
    "    print(\"The negative number \",  x, \" is not valid here.\")\n",
    "else:\n",
    "    if x > 0:\n",
    "        print(x, \" is a positive number\")\n",
    "    else:\n",
    "        print(x,\" is 0\")\n",
    "```"
   ]
  },
  {
   "cell_type": "markdown",
   "metadata": {
    "nbpresent": {
     "id": "836cfd3e-9e0e-44e5-a626-79461179f2e1"
    }
   },
   "source": [
    "## Chained conditionals\n",
    "\n",
    "<img src=\"images/if_chain.svg\" width=350>"
   ]
  },
  {
   "cell_type": "markdown",
   "metadata": {
    "nbpresent": {
     "id": "181299ec-c0c2-477a-a788-8767a0b5b852"
    }
   },
   "source": [
    "** an alternative way to write nested selection: elif **\n",
    "\n",
    "```python\n",
    "if x < y:\n",
    "    print(\"x is less than y\")\n",
    "elif x > y:\n",
    "    print(\"x is greater than y\")\n",
    "else:\n",
    "    print(\"x and y must be equal\")\n",
    "```"
   ]
  },
  {
   "cell_type": "code",
   "execution_count": null,
   "metadata": {
    "collapsed": false,
    "nbpresent": {
     "id": "e56e0c5f-d354-46e2-bdfa-b1b9a1901330"
    }
   },
   "outputs": [],
   "source": [
    "x = 1\n",
    "y = 10\n",
    "\n",
    "if x < y:\n",
    "    print(\"x is less than y\")\n",
    "elif x > y:\n",
    "    print(\"x is greater than y\")\n",
    "else:\n",
    "    print(\"x and y must be equal\")"
   ]
  },
  {
   "cell_type": "markdown",
   "metadata": {
    "nbpresent": {
     "id": "8f73a7b2-94d1-4a70-bd08-f3261a4e9ee4"
    }
   },
   "source": [
    "** Exercise **\n",
    "\n",
    "What is the result of following code?"
   ]
  },
  {
   "cell_type": "code",
   "execution_count": null,
   "metadata": {
    "collapsed": false,
    "nbpresent": {
     "id": "af9e9854-1a16-464e-bd9f-65a6fb81042a"
    }
   },
   "outputs": [],
   "source": [
    "# code 1\n",
    "x = -10\n",
    "if x < 0:\n",
    "    print(\"The negative number \",  x, \" is not valid here.\")\n",
    "else:\n",
    "    if x > 0:\n",
    "        print(x, \" is a positive number\")\n",
    "    else:\n",
    "        print(x, \" is 0\")"
   ]
  },
  {
   "cell_type": "code",
   "execution_count": null,
   "metadata": {
    "collapsed": false,
    "nbpresent": {
     "id": "c46fcdbf-606b-4540-9216-abde41f24e87"
    }
   },
   "outputs": [],
   "source": [
    "# code 2\n",
    "\n",
    "if x < 0:\n",
    "    print(\"The negative number \",  x, \" is not valid here.\")\n",
    "else x > 0:\n",
    "    print(x, \" is a positive number\")\n",
    "else:\n",
    "    print(x, \" is 0\")"
   ]
  },
  {
   "cell_type": "code",
   "execution_count": null,
   "metadata": {
    "collapsed": false,
    "nbpresent": {
     "id": "95d9d42c-de85-4078-a9d0-ee8119a67cf1"
    }
   },
   "outputs": [],
   "source": [
    "# code 3\n",
    "\n",
    "if x < 0:\n",
    "    print(\"The negative number \",  x, \" is not valid here.\")\n",
    "elif x > 0:\n",
    "    print(x, \" is a positive number\")\n",
    "else:\n",
    "    print(x, \" is 0\")"
   ]
  },
  {
   "cell_type": "code",
   "execution_count": null,
   "metadata": {
    "collapsed": false,
    "nbpresent": {
     "id": "7165cd7d-5523-4559-9b2a-332c8ae912c1"
    }
   },
   "outputs": [],
   "source": [
    "# code 4\n",
    "\n",
    "if x < 0:\n",
    "    print(\"The negative number \",  x, \" is not valid here.\")\n",
    "if x > 0:\n",
    "    print(x, \" is a positive number\")\n",
    "else:\n",
    "    print(x, \" is 0\")"
   ]
  },
  {
   "cell_type": "markdown",
   "metadata": {
    "nbpresent": {
     "id": "d263db8e-4ae4-459d-afb2-3b7d163137a8"
    }
   },
   "source": [
    "** Exercise **\n",
    "\n",
    "```\n",
    "What will the following code print if x = 3, y = 5, and z = 2?\n",
    "```\n",
    "```python\n",
    "if x < y and x < z:\n",
    "    print(\"a\")\n",
    "elif y < x and y < z:\n",
    "    print(\"b\")\n",
    "else:\n",
    "    print(\"c\")\n",
    "```"
   ]
  },
  {
   "cell_type": "markdown",
   "metadata": {
    "nbpresent": {
     "id": "43a6a787-7def-4574-a39a-da5ae5c48613"
    }
   },
   "source": [
    "## Boolean Functions"
   ]
  },
  {
   "cell_type": "code",
   "execution_count": null,
   "metadata": {
    "collapsed": false,
    "nbpresent": {
     "id": "26c1de3a-0a5a-4e89-9218-1ca577e30fd8"
    }
   },
   "outputs": [],
   "source": [
    "def isDivisible(x, y):\n",
    "    if x % y == 0:\n",
    "        result = True\n",
    "    else:\n",
    "        result = False\n",
    "\n",
    "    return result\n",
    "\n",
    "print(isDivisible(10, 5))"
   ]
  },
  {
   "cell_type": "code",
   "execution_count": 8,
   "metadata": {
    "collapsed": true,
    "nbpresent": {
     "id": "366c3191-a8d3-46b0-a50b-f9d97d4d537a"
    }
   },
   "outputs": [],
   "source": [
    "def isDivisible(x, y):\n",
    "    return x % y == 0"
   ]
  },
  {
   "cell_type": "markdown",
   "metadata": {
    "nbpresent": {
     "id": "649cb42a-70ca-4d20-be4b-98221d0d8fa0"
    }
   },
   "source": [
    "**Boolean functions are often used in conditional statements:**\n",
    "\n",
    "```python\n",
    "if isDivisible(x, y):\n",
    "    ... # do something ...\n",
    "else:\n",
    "    ... # do something else ...\n",
    "```"
   ]
  },
  {
   "cell_type": "code",
   "execution_count": null,
   "metadata": {
    "collapsed": false,
    "nbpresent": {
     "id": "856c24be-9e0b-4a1a-99d9-b94a9890a698"
    }
   },
   "outputs": [],
   "source": [
    "def isDivisible(x, y):\n",
    "    if x % y == 0:\n",
    "        result = True\n",
    "    else:\n",
    "        result = False\n",
    "\n",
    "    return result\n",
    "\n",
    "if isDivisible(10, 5):\n",
    "    print(\"That works\")\n",
    "else:\n",
    "    print(\"Those values are no good\")"
   ]
  },
  {
   "cell_type": "code",
   "execution_count": 10,
   "metadata": {
    "collapsed": false,
    "nbpresent": {
     "id": "dd7d4165-fb36-4a5b-a136-9ea32c06e6d2"
    }
   },
   "outputs": [
    {
     "data": {
      "text/html": [
       "\n",
       "        <iframe\n",
       "            width=\"100%\"\n",
       "            height=\"450\"\n",
       "            src=\"http://pythontutor.com/iframe-embed.html#code=def%20isDivisible(x,%20y%29%3A%0A%20%20%20%20if%20x%20%25%20y%20%3D%3D%200%3A%0A%20%20%20%20%20%20%20%20result%20%3D%20True%0A%20%20%20%20else%3A%0A%20%20%20%20%20%20%20%20result%20%3D%20False%0A%0A%20%20%20%20return%20result%0A%0Aif%20isDivisible(10,%205%29%3A%0A%20%20%20%20print(%22That%20works%22%29%0Aelse%3A%0A%20%20%20%20print(%22Those%20values%20are%20no%20good%22%29&codeDivHeight=400&codeDivWidth=350&cumulative=false&curInstr=0&heapPrimitives=false&origin=opt-frontend.js&py=3&rawInputLstJSON=%5B%5D&textReferences=false\"\n",
       "            frameborder=\"0\"\n",
       "            allowfullscreen\n",
       "        ></iframe>\n",
       "        "
      ],
      "text/plain": [
       "<IPython.lib.display.IFrame at 0x106c147f0>"
      ]
     },
     "execution_count": 10,
     "metadata": {},
     "output_type": "execute_result"
    }
   ],
   "source": [
    "from IPython.display import IFrame\n",
    "IFrame('http://pythontutor.com/iframe-embed.html#code=def%20isDivisible(x,%20y%29%3A%0A%20%20%20%20if%20x%20%25%20y%20%3D%3D%200%3A%0A%20%20%20%20%20%20%20%20result%20%3D%20True%0A%20%20%20%20else%3A%0A%20%20%20%20%20%20%20%20result%20%3D%20False%0A%0A%20%20%20%20return%20result%0A%0Aif%20isDivisible(10,%205%29%3A%0A%20%20%20%20print(%22That%20works%22%29%0Aelse%3A%0A%20%20%20%20print(%22Those%20values%20are%20no%20good%22%29&codeDivHeight=400&codeDivWidth=350&cumulative=false&curInstr=0&heapPrimitives=false&origin=opt-frontend.js&py=3&rawInputLstJSON=%5B%5D&textReferences=false', width='100%', height=450)"
   ]
  },
  {
   "cell_type": "markdown",
   "metadata": {
    "nbpresent": {
     "id": "630ef235-48f8-4001-8f68-62f437071cdf"
    }
   },
   "source": [
    "** Exercise **\n",
    "```\n",
    "1. What is a Boolean function?\n",
    "(A) A function that returns True or False\n",
    "(B) A function that takes True or False as an argument\n",
    "(C) The same as a Boolean expression\n",
    "```"
   ]
  },
  {
   "cell_type": "markdown",
   "metadata": {
    "nbpresent": {
     "id": "f6ad7b36-d5fa-4c36-be03-a0bc1b56a4ff"
    }
   },
   "source": [
    "```\n",
    "2. Is the following statement legal in Python (assuming x, y and z are defined to be numbers)?\n",
    "```\n",
    "```python\n",
    "return x + y < z\n",
    "```\n",
    "```\n",
    "(A) Yes\n",
    "(B) No\n",
    "```"
   ]
  },
  {
   "cell_type": "markdown",
   "metadata": {
    "nbpresent": {
     "id": "8262451a-eeb4-421a-8051-5b528e70bad0"
    }
   },
   "source": [
    "```\n",
    "3. What do these expressions evaluate to?\n",
    "\n",
    "3 == 3\n",
    "\n",
    "3 != 3\n",
    "\n",
    "3 >= 4\n",
    "\n",
    "not (3 < 4)\n",
    "```"
   ]
  },
  {
   "cell_type": "markdown",
   "metadata": {
    "nbpresent": {
     "id": "0bf97d75-98f2-4b77-9864-f7d84e736568"
    }
   },
   "source": [
    "```\n",
    "4. Give the logical opposites of these conditions. You are not allowed to use the not operator.\n",
    "a > b\n",
    "a >= b\n",
    "a >= 18  and  day == 3\n",
    "a >= 18  or  day != 3\n",
    "```"
   ]
  },
  {
   "cell_type": "markdown",
   "metadata": {
    "nbpresent": {
     "id": "36ae4c5b-a655-4c8b-b4e2-497079bc8f24"
    }
   },
   "source": [
    "```\n",
    "5. Write a function which is given an exam mark, and it returns a string — the grade for that mark — according to this scheme:\n",
    "```\n",
    "\n",
    "Mark    | Grade\n",
    "--------|-------\n",
    ">= 90\t| A\n",
    "[80-90)\t| B\n",
    "[70-80)\t| C\n",
    "[60-70)\t| D\n",
    "< 60\t| F\n"
   ]
  },
  {
   "cell_type": "markdown",
   "metadata": {
    "nbpresent": {
     "id": "d3070140-6b6c-4f47-a8ba-7a63637324af"
    }
   },
   "source": [
    "```\n",
    "6. Write a function is_rightangled which, given the length of three sides of a triangle, will determine whether the triangle is right-angled.\n",
    "```"
   ]
  },
  {
   "cell_type": "markdown",
   "metadata": {
    "nbpresent": {
     "id": "7fd08313-07fd-4ff2-b64c-62d7b84917f6"
    }
   },
   "source": [
    "## Glossary\n",
    "\n",
    "**block**\n",
    "\n",
    "A group of consecutive statements with the same indentation.\n",
    "\n",
    "**body**\n",
    "\n",
    "The block of statements in a compound statement that follows the header.\n",
    "\n",
    "**boolean expression**\n",
    "\n",
    "An expression that is either true or false.\n",
    "\n",
    "**boolean function**\n",
    "\n",
    "A function that returns a boolean value. The only possible values of the bool type are **False** and **True**.\n",
    "\n",
    "**boolean value**\n",
    "\n",
    "There are exactly two boolean values: True and False. Boolean values result when a boolean expression is evaluated by the Python interepreter. They have type **bool**.\n",
    "\n",
    "**branch**\n",
    "\n",
    "One of the possible paths of the flow of execution determined by conditional execution.\n",
    "\n",
    "**chained conditional**\n",
    "\n",
    "A conditional branch with more than two possible flows of execution. In Python chained conditionals are written with **if ... elif ... else** statements.\n",
    "\n",
    "**comparison operator**\n",
    "\n",
    "One of the operators that compares two values: `==, !=, >, <, >=, and <=`.\n",
    "\n",
    "**condition**\n",
    "\n",
    "The boolean expression in a conditional statement that determines which branch is executed.\n",
    "\n",
    "**conditional statement**\n",
    "\n",
    "A statement that controls the flow of execution depending on some condition. In Python the keywords **if**, **elif**, and **else** are used for conditional statements.\n",
    "\n",
    "**logical operator**\n",
    "\n",
    "One of the operators that combines boolean expressions: **and**, **or**, and **not**.\n",
    "\n",
    "**modulus operator**\n",
    "\n",
    "An operator, denoted with a percent sign ( %), that works on integers and yields the remainder when one number is divided by another.\n",
    "\n",
    "**nesting**\n",
    "\n",
    "One program structure within another, such as a conditional statement inside a branch of another conditional statement."
   ]
  },
  {
   "cell_type": "code",
   "execution_count": null,
   "metadata": {
    "collapsed": true,
    "nbpresent": {
     "id": "f049c82a-5e08-407a-a007-e85dfa6f14eb"
    }
   },
   "outputs": [],
   "source": []
  }
 ],
 "metadata": {
  "anaconda-cloud": {},
  "kernelspec": {
   "display_name": "Python [conda root]",
   "language": "python",
   "name": "conda-root-py"
  },
  "language_info": {
   "codemirror_mode": {
    "name": "ipython",
    "version": 3
   },
   "file_extension": ".py",
   "mimetype": "text/x-python",
   "name": "python",
   "nbconvert_exporter": "python",
   "pygments_lexer": "ipython3",
   "version": "3.5.2"
  },
  "nbpresent": {
   "slides": {
    "0167aeaf-8722-4bfd-b1ee-f44f51824878": {
     "id": "0167aeaf-8722-4bfd-b1ee-f44f51824878",
     "prev": "72daf0d7-3655-45bc-8aa6-c423f40ed7b5",
     "regions": {
      "970c4617-fe8a-4d00-906a-d29984e6893b": {
       "attrs": {
        "height": 0.8,
        "width": 0.8,
        "x": 0.1,
        "y": 0.1
       },
       "content": {
        "cell": "366c3191-a8d3-46b0-a50b-f9d97d4d537a",
        "part": "whole"
       },
       "id": "970c4617-fe8a-4d00-906a-d29984e6893b"
      }
     }
    },
    "031e7820-6cd4-432b-b140-e15eb581dc27": {
     "id": "031e7820-6cd4-432b-b140-e15eb581dc27",
     "prev": "81d31156-ee78-4547-b819-93d5a9479a61",
     "regions": {
      "7e6e60d6-5e9e-428f-8910-587c44759bf6": {
       "attrs": {
        "height": 0.8,
        "width": 0.8,
        "x": 0.1,
        "y": 0.1
       },
       "content": {
        "cell": "95d9d42c-de85-4078-a9d0-ee8119a67cf1",
        "part": "whole"
       },
       "id": "7e6e60d6-5e9e-428f-8910-587c44759bf6"
      }
     }
    },
    "0df1f7ec-0c36-4682-9a1e-9f69e706ac09": {
     "id": "0df1f7ec-0c36-4682-9a1e-9f69e706ac09",
     "prev": "281b5eee-0c6c-470c-9466-1335b62d8083",
     "regions": {
      "5fc523ff-3260-4dea-be25-0b373108cf4d": {
       "attrs": {
        "height": 0.8,
        "width": 0.8,
        "x": 0.1,
        "y": 0.1
       },
       "content": {
        "cell": "cac32f02-9e68-4ccf-bcea-66979a445878",
        "part": "whole"
       },
       "id": "5fc523ff-3260-4dea-be25-0b373108cf4d"
      }
     }
    },
    "0ff128c7-7f33-4528-8abc-14064cfa744a": {
     "id": "0ff128c7-7f33-4528-8abc-14064cfa744a",
     "prev": "4c170885-ad8c-44b7-8d94-5e236674ad70",
     "regions": {
      "21d0914b-cf84-4c1a-a8bc-80e0c7f8ceda": {
       "attrs": {
        "height": 0.8,
        "width": 0.8,
        "x": 0.1,
        "y": 0.1
       },
       "content": {
        "cell": "ccc66c11-5663-4a08-9f16-f31db8a32540",
        "part": "whole"
       },
       "id": "21d0914b-cf84-4c1a-a8bc-80e0c7f8ceda"
      }
     }
    },
    "1ef7519c-3d08-47ad-8c0c-d96980879d8e": {
     "id": "1ef7519c-3d08-47ad-8c0c-d96980879d8e",
     "prev": "44c62d14-6f2d-47bc-ad2c-a2459a6a3dae",
     "regions": {
      "58732a3c-1e03-4f9d-a9ee-75e60ad93443": {
       "attrs": {
        "height": 0.8,
        "width": 0.8,
        "x": 0.1,
        "y": 0.1
       },
       "content": {
        "cell": "74f4cc20-2592-4708-9c6a-c292a2745c19",
        "part": "whole"
       },
       "id": "58732a3c-1e03-4f9d-a9ee-75e60ad93443"
      }
     }
    },
    "21d20cc1-c9c8-421a-b740-3479748acbdf": {
     "id": "21d20cc1-c9c8-421a-b740-3479748acbdf",
     "prev": "b666b3f1-1f19-4030-a02a-564fd3c19be7",
     "regions": {
      "677fd65b-1180-4185-8e49-a9cedde42c14": {
       "attrs": {
        "height": 0.8,
        "width": 0.8,
        "x": 0.1,
        "y": 0.1
       },
       "content": {
        "cell": "8262451a-eeb4-421a-8051-5b528e70bad0",
        "part": "whole"
       },
       "id": "677fd65b-1180-4185-8e49-a9cedde42c14"
      }
     }
    },
    "281b5eee-0c6c-470c-9466-1335b62d8083": {
     "id": "281b5eee-0c6c-470c-9466-1335b62d8083",
     "prev": "6a2002af-2481-4d86-bdc8-7b8e0eb07d77",
     "regions": {
      "c98f95d0-cb5e-44a8-b8b8-21277ce8e67e": {
       "attrs": {
        "height": 0.8,
        "width": 0.8,
        "x": 0.1,
        "y": 0.1
       },
       "content": {
        "cell": "f255c47f-a7c5-45f2-b59c-06371c31a8c4",
        "part": "whole"
       },
       "id": "c98f95d0-cb5e-44a8-b8b8-21277ce8e67e"
      }
     }
    },
    "369652f8-3b3d-47c8-8397-0306bf3862c8": {
     "id": "369652f8-3b3d-47c8-8397-0306bf3862c8",
     "prev": "39ed9513-ddb0-4080-9cee-17af6071ed67",
     "regions": {
      "0ffebe10-c077-4ad1-92ad-ad6a1b225878": {
       "attrs": {
        "height": 0.8,
        "width": 0.8,
        "x": 0.1,
        "y": 0.1
       },
       "content": {
        "cell": "e56e0c5f-d354-46e2-bdfa-b1b9a1901330",
        "part": "whole"
       },
       "id": "0ffebe10-c077-4ad1-92ad-ad6a1b225878"
      }
     }
    },
    "379936ca-544c-4acf-892b-794b3aa636b9": {
     "id": "379936ca-544c-4acf-892b-794b3aa636b9",
     "prev": "d66cd428-d38d-4022-972b-1a4d4aa1d0cc",
     "regions": {
      "0623d941-3ac2-43b1-861e-4aa2bcaa3c6e": {
       "attrs": {
        "height": 0.8,
        "width": 0.8,
        "x": 0.1,
        "y": 0.1
       },
       "content": {
        "cell": "af9e9854-1a16-464e-bd9f-65a6fb81042a",
        "part": "whole"
       },
       "id": "0623d941-3ac2-43b1-861e-4aa2bcaa3c6e"
      }
     }
    },
    "3889bdce-6cb7-48b9-948d-64139497dff4": {
     "id": "3889bdce-6cb7-48b9-948d-64139497dff4",
     "prev": "dcab3e71-0f49-473e-a292-84581a57926b",
     "regions": {
      "7f95894c-54f5-4472-9f6f-e11a7af593db": {
       "attrs": {
        "height": 0.8,
        "width": 0.8,
        "x": 0.1,
        "y": 0.1
       },
       "content": {
        "cell": "42f1621e-6131-499a-90be-2cd2cab720eb",
        "part": "whole"
       },
       "id": "7f95894c-54f5-4472-9f6f-e11a7af593db"
      }
     }
    },
    "39ed9513-ddb0-4080-9cee-17af6071ed67": {
     "id": "39ed9513-ddb0-4080-9cee-17af6071ed67",
     "prev": "fe221287-4b10-4e81-a3a0-23df2a4c712f",
     "regions": {
      "512d7af7-33b9-4590-8892-97f93e596fe7": {
       "attrs": {
        "height": 0.8,
        "width": 0.8,
        "x": 0.1,
        "y": 0.1
       },
       "content": {
        "cell": "181299ec-c0c2-477a-a788-8767a0b5b852",
        "part": "whole"
       },
       "id": "512d7af7-33b9-4590-8892-97f93e596fe7"
      }
     }
    },
    "44c62d14-6f2d-47bc-ad2c-a2459a6a3dae": {
     "id": "44c62d14-6f2d-47bc-ad2c-a2459a6a3dae",
     "prev": "9558f0df-9111-4eaa-9361-33cffdf95c4b",
     "regions": {
      "101aaa26-5d0c-4653-8d7a-00bfae75923f": {
       "attrs": {
        "height": 0.8,
        "width": 0.8,
        "x": 0.1,
        "y": 0.1
       },
       "content": {
        "cell": "61ac379c-e3d7-428f-877b-b1e7127631e0",
        "part": "whole"
       },
       "id": "101aaa26-5d0c-4653-8d7a-00bfae75923f"
      }
     }
    },
    "4c170885-ad8c-44b7-8d94-5e236674ad70": {
     "id": "4c170885-ad8c-44b7-8d94-5e236674ad70",
     "prev": "0df1f7ec-0c36-4682-9a1e-9f69e706ac09",
     "regions": {
      "a5a3a667-3e9c-44ff-8525-47907eb78e16": {
       "attrs": {
        "height": 0.8,
        "width": 0.8,
        "x": 0.1,
        "y": 0.1
       },
       "content": {
        "cell": "84b71a26-f23b-4c53-83ac-cc26ceb72d7e",
        "part": "whole"
       },
       "id": "a5a3a667-3e9c-44ff-8525-47907eb78e16"
      }
     }
    },
    "54dab2f6-24c3-4883-91ee-e8df97b66328": {
     "id": "54dab2f6-24c3-4883-91ee-e8df97b66328",
     "prev": "6f2b7cd9-5c99-425a-bb5b-35da90ebb574",
     "regions": {
      "b9d0db4d-ea40-4c46-962e-043ec331400b": {
       "attrs": {
        "height": 0.8,
        "width": 0.8,
        "x": 0.1,
        "y": 0.1
       },
       "content": {
        "cell": "dd7d4165-fb36-4a5b-a136-9ea32c06e6d2",
        "part": "whole"
       },
       "id": "b9d0db4d-ea40-4c46-962e-043ec331400b"
      }
     }
    },
    "57210601-55a8-42d4-8154-f52948c68d0d": {
     "id": "57210601-55a8-42d4-8154-f52948c68d0d",
     "prev": "dc831169-3268-44ac-a7b0-1f21f324f279",
     "regions": {
      "0e398e15-7cd4-401a-814a-75f6db2259e6": {
       "attrs": {
        "height": 0.8,
        "width": 0.8,
        "x": 0.1,
        "y": 0.1
       },
       "content": {
        "cell": "9b324e17-2209-4508-a8ab-00c93e7fc68b",
        "part": "whole"
       },
       "id": "0e398e15-7cd4-401a-814a-75f6db2259e6"
      }
     }
    },
    "5ecd65be-dfe1-44da-b924-ece07aef7c33": {
     "id": "5ecd65be-dfe1-44da-b924-ece07aef7c33",
     "prev": "031e7820-6cd4-432b-b140-e15eb581dc27",
     "regions": {
      "bbd383e2-d260-4ea2-b54f-e1411cd1e869": {
       "attrs": {
        "height": 0.8,
        "width": 0.8,
        "x": 0.1,
        "y": 0.1
       },
       "content": {
        "cell": "7165cd7d-5523-4559-9b2a-332c8ae912c1",
        "part": "whole"
       },
       "id": "bbd383e2-d260-4ea2-b54f-e1411cd1e869"
      }
     }
    },
    "62f539a7-56c7-484e-81e4-ca53129623e6": {
     "id": "62f539a7-56c7-484e-81e4-ca53129623e6",
     "prev": "e3590f5c-6942-4773-b34d-12326168b2b8",
     "regions": {
      "9dab9a00-3cba-455a-b320-4d6f81893fc6": {
       "attrs": {
        "height": 0.8,
        "width": 0.8,
        "x": 0.1,
        "y": 0.1
       },
       "content": {
        "cell": "f049c82a-5e08-407a-a007-e85dfa6f14eb",
        "part": "whole"
       },
       "id": "9dab9a00-3cba-455a-b320-4d6f81893fc6"
      }
     }
    },
    "66644a7e-f50b-49db-87ee-e6f69a7d3b90": {
     "id": "66644a7e-f50b-49db-87ee-e6f69a7d3b90",
     "prev": "54dab2f6-24c3-4883-91ee-e8df97b66328",
     "regions": {
      "855425d4-a11d-41ed-8f27-bdb69213e74b": {
       "attrs": {
        "height": 0.8,
        "width": 0.8,
        "x": 0.1,
        "y": 0.1
       },
       "content": {
        "cell": "630ef235-48f8-4001-8f68-62f437071cdf",
        "part": "whole"
       },
       "id": "855425d4-a11d-41ed-8f27-bdb69213e74b"
      }
     }
    },
    "66a010bd-eaee-44a0-b0d1-7c546d67dc11": {
     "id": "66a010bd-eaee-44a0-b0d1-7c546d67dc11",
     "prev": "a5aebbc1-7137-45ba-a8b8-973a7a3ecb2e",
     "regions": {
      "769b51bf-83fa-44b7-9f71-d5e531d3efa6": {
       "attrs": {
        "height": 0.8,
        "width": 0.8,
        "x": 0.1,
        "y": 0.1
       },
       "content": {
        "cell": "5ffa95c9-c677-4eb6-bf36-fc30b8352a3c",
        "part": "whole"
       },
       "id": "769b51bf-83fa-44b7-9f71-d5e531d3efa6"
      }
     }
    },
    "6904cfb9-c9df-4d2e-910a-d9c7b5a97e49": {
     "id": "6904cfb9-c9df-4d2e-910a-d9c7b5a97e49",
     "prev": "7ef5a9f2-e273-4a82-b9f3-e10ba0926eb7",
     "regions": {
      "7e0146b9-085e-47ec-a3aa-58a226667d95": {
       "attrs": {
        "height": 0.8,
        "width": 0.8,
        "x": 0.1,
        "y": 0.1
       },
       "content": {
        "cell": "43a6a787-7def-4574-a39a-da5ae5c48613",
        "part": "whole"
       },
       "id": "7e0146b9-085e-47ec-a3aa-58a226667d95"
      }
     }
    },
    "6a2002af-2481-4d86-bdc8-7b8e0eb07d77": {
     "id": "6a2002af-2481-4d86-bdc8-7b8e0eb07d77",
     "prev": "cea95ac8-acca-4d06-86d9-27f51cd2952c",
     "regions": {
      "0d9d7513-2ca6-4444-a99c-e96d62560f18": {
       "attrs": {
        "height": 0.8,
        "width": 0.8,
        "x": 0.1,
        "y": 0.1
       },
       "content": {
        "cell": "c519c6b5-6bd7-499b-87dd-4da77c162e55",
        "part": "whole"
       },
       "id": "0d9d7513-2ca6-4444-a99c-e96d62560f18"
      }
     }
    },
    "6ea6061f-ace2-488d-9c66-f1659c09829d": {
     "id": "6ea6061f-ace2-488d-9c66-f1659c09829d",
     "prev": "d03ccd3a-ac01-43cd-b246-3554c675b085",
     "regions": {
      "410788dd-a9ae-47f4-b89b-36180e1c62b0": {
       "attrs": {
        "height": 0.8,
        "width": 0.8,
        "x": 0.1,
        "y": 0.1
       },
       "content": {
        "cell": "987eb7b1-95e2-4674-9b85-23d70683e177",
        "part": "whole"
       },
       "id": "410788dd-a9ae-47f4-b89b-36180e1c62b0"
      }
     }
    },
    "6ef52707-b5a6-40ea-add9-ad2a746f20a0": {
     "id": "6ef52707-b5a6-40ea-add9-ad2a746f20a0",
     "prev": "a91071fd-0518-490b-9469-e674682ac22f",
     "regions": {
      "f02dd702-444b-436f-bae6-0323ad446048": {
       "attrs": {
        "height": 0.8,
        "width": 0.8,
        "x": 0.1,
        "y": 0.1
       },
       "content": {
        "cell": "be2fb416-e456-4924-bb75-4105703ccc9a",
        "part": "whole"
       },
       "id": "f02dd702-444b-436f-bae6-0323ad446048"
      }
     }
    },
    "6f2b7cd9-5c99-425a-bb5b-35da90ebb574": {
     "id": "6f2b7cd9-5c99-425a-bb5b-35da90ebb574",
     "prev": "f806c8cf-3ce4-4542-93e5-30c2279d7703",
     "regions": {
      "d6d3848e-e0d2-4bee-a530-d09987123078": {
       "attrs": {
        "height": 0.8,
        "width": 0.8,
        "x": 0.1,
        "y": 0.1
       },
       "content": {
        "cell": "856c24be-9e0b-4a1a-99d9-b94a9890a698",
        "part": "whole"
       },
       "id": "d6d3848e-e0d2-4bee-a530-d09987123078"
      }
     }
    },
    "72daf0d7-3655-45bc-8aa6-c423f40ed7b5": {
     "id": "72daf0d7-3655-45bc-8aa6-c423f40ed7b5",
     "prev": "6904cfb9-c9df-4d2e-910a-d9c7b5a97e49",
     "regions": {
      "dff401b7-a26e-4abc-987b-1e1a702efbd3": {
       "attrs": {
        "height": 0.8,
        "width": 0.8,
        "x": 0.1,
        "y": 0.1
       },
       "content": {
        "cell": "26c1de3a-0a5a-4e89-9218-1ca577e30fd8",
        "part": "whole"
       },
       "id": "dff401b7-a26e-4abc-987b-1e1a702efbd3"
      }
     }
    },
    "7ef5a9f2-e273-4a82-b9f3-e10ba0926eb7": {
     "id": "7ef5a9f2-e273-4a82-b9f3-e10ba0926eb7",
     "prev": "5ecd65be-dfe1-44da-b924-ece07aef7c33",
     "regions": {
      "e765326e-f65a-4601-be30-cdad205466a3": {
       "attrs": {
        "height": 0.8,
        "width": 0.8,
        "x": 0.1,
        "y": 0.1
       },
       "content": {
        "cell": "d263db8e-4ae4-459d-afb2-3b7d163137a8",
        "part": "whole"
       },
       "id": "e765326e-f65a-4601-be30-cdad205466a3"
      }
     }
    },
    "81d31156-ee78-4547-b819-93d5a9479a61": {
     "id": "81d31156-ee78-4547-b819-93d5a9479a61",
     "prev": "379936ca-544c-4acf-892b-794b3aa636b9",
     "regions": {
      "ab5cae5c-66c5-4e20-bee2-3fb6e3494b6e": {
       "attrs": {
        "height": 0.8,
        "width": 0.8,
        "x": 0.1,
        "y": 0.1
       },
       "content": {
        "cell": "c46fcdbf-606b-4540-9216-abde41f24e87",
        "part": "whole"
       },
       "id": "ab5cae5c-66c5-4e20-bee2-3fb6e3494b6e"
      }
     }
    },
    "89e53439-89a7-42aa-bf3b-787636aca850": {
     "id": "89e53439-89a7-42aa-bf3b-787636aca850",
     "prev": "3889bdce-6cb7-48b9-948d-64139497dff4",
     "regions": {
      "fd61c3c3-3c98-431c-ae20-d961703df43e": {
       "attrs": {
        "height": 0.8,
        "width": 0.8,
        "x": 0.1,
        "y": 0.1
       },
       "content": {
        "cell": "c9e049e5-4935-47dc-9d1b-d789365923cb",
        "part": "whole"
       },
       "id": "fd61c3c3-3c98-431c-ae20-d961703df43e"
      }
     }
    },
    "9558f0df-9111-4eaa-9361-33cffdf95c4b": {
     "id": "9558f0df-9111-4eaa-9361-33cffdf95c4b",
     "prev": "b9d5a0cf-542a-4a30-ae87-b4c74da6b6e4",
     "regions": {
      "fcc067e3-678e-4e32-8828-782f72814315": {
       "attrs": {
        "height": 0.8,
        "width": 0.8,
        "x": 0.1,
        "y": 0.1
       },
       "content": {
        "cell": "b3ec9ecf-0e53-48ac-b7dd-b013387f7d86",
        "part": "whole"
       },
       "id": "fcc067e3-678e-4e32-8828-782f72814315"
      }
     }
    },
    "a1462a9d-1ee8-4df7-8ef3-d47f37e59bc9": {
     "id": "a1462a9d-1ee8-4df7-8ef3-d47f37e59bc9",
     "prev": "57210601-55a8-42d4-8154-f52948c68d0d",
     "regions": {
      "7f5eea46-bd68-460d-bf5c-5940f0e26d43": {
       "attrs": {
        "height": 0.8,
        "width": 0.8,
        "x": 0.1,
        "y": 0.1
       },
       "content": {
        "cell": "b78c6cc8-a7a9-40df-b364-2abac401782b",
        "part": "whole"
       },
       "id": "7f5eea46-bd68-460d-bf5c-5940f0e26d43"
      }
     }
    },
    "a5aebbc1-7137-45ba-a8b8-973a7a3ecb2e": {
     "id": "a5aebbc1-7137-45ba-a8b8-973a7a3ecb2e",
     "prev": "dc655d13-0244-4fda-a5ca-17a836598ee7",
     "regions": {
      "2c87e497-b1f6-4442-ab35-d125baf6c66b": {
       "attrs": {
        "height": 0.8,
        "width": 0.8,
        "x": 0.1,
        "y": 0.1
       },
       "content": {
        "cell": "027c3915-8659-43c4-8dbf-b0efe40d03de",
        "part": "whole"
       },
       "id": "2c87e497-b1f6-4442-ab35-d125baf6c66b"
      }
     }
    },
    "a91071fd-0518-490b-9469-e674682ac22f": {
     "id": "a91071fd-0518-490b-9469-e674682ac22f",
     "prev": "b73a78cd-bf15-4d51-aec5-072b40c111fe",
     "regions": {
      "5c480f3a-f7e3-45d0-a862-65af7aa61734": {
       "attrs": {
        "height": 0.8,
        "width": 0.8,
        "x": 0.1,
        "y": 0.1
       },
       "content": {
        "cell": "5d1b5561-cb37-4321-9a0f-b79d85c77fff",
        "part": "whole"
       },
       "id": "5c480f3a-f7e3-45d0-a862-65af7aa61734"
      }
     }
    },
    "b0f88ee7-7131-4bb2-9bbc-f1b1fbe28ba4": {
     "id": "b0f88ee7-7131-4bb2-9bbc-f1b1fbe28ba4",
     "prev": "1ef7519c-3d08-47ad-8c0c-d96980879d8e",
     "regions": {
      "0e176ff4-cd7e-4323-ac9d-635ff9119274": {
       "attrs": {
        "height": 0.8,
        "width": 0.8,
        "x": 0.1,
        "y": 0.1
       },
       "content": {
        "cell": "f30d80ae-4ee1-42c8-968f-403b89493998",
        "part": "whole"
       },
       "id": "0e176ff4-cd7e-4323-ac9d-635ff9119274"
      }
     }
    },
    "b26abe21-63b9-47e9-b761-efbfb1caca20": {
     "id": "b26abe21-63b9-47e9-b761-efbfb1caca20",
     "prev": "89e53439-89a7-42aa-bf3b-787636aca850",
     "regions": {
      "8b1fc78b-44b4-404f-b47e-f341dc3d1d62": {
       "attrs": {
        "height": 0.8,
        "width": 0.8,
        "x": 0.1,
        "y": 0.1
       },
       "content": {
        "cell": "7e8ab11e-32ca-4ffb-8f7b-b53dfb1a459f",
        "part": "whole"
       },
       "id": "8b1fc78b-44b4-404f-b47e-f341dc3d1d62"
      }
     }
    },
    "b666b3f1-1f19-4030-a02a-564fd3c19be7": {
     "id": "b666b3f1-1f19-4030-a02a-564fd3c19be7",
     "prev": "66644a7e-f50b-49db-87ee-e6f69a7d3b90",
     "regions": {
      "680b6609-31f8-4b64-b279-24cb065f609e": {
       "attrs": {
        "height": 0.8,
        "width": 0.8,
        "x": 0.1,
        "y": 0.1
       },
       "content": {
        "cell": "f6ad7b36-d5fa-4c36-be03-a0bc1b56a4ff",
        "part": "whole"
       },
       "id": "680b6609-31f8-4b64-b279-24cb065f609e"
      }
     }
    },
    "b67cccda-7e2c-4427-9f96-5e68e523f9a7": {
     "id": "b67cccda-7e2c-4427-9f96-5e68e523f9a7",
     "prev": "f1637108-83d7-4386-84bf-f28b93e4799f",
     "regions": {
      "bac4b193-053d-40e5-b943-14b0b46be117": {
       "attrs": {
        "height": 0.8,
        "width": 0.8,
        "x": 0.1,
        "y": 0.1
       },
       "content": {
        "cell": "c8081722-5139-4f60-a840-da8073db6f00",
        "part": "whole"
       },
       "id": "bac4b193-053d-40e5-b943-14b0b46be117"
      }
     }
    },
    "b73a78cd-bf15-4d51-aec5-072b40c111fe": {
     "id": "b73a78cd-bf15-4d51-aec5-072b40c111fe",
     "prev": "66a010bd-eaee-44a0-b0d1-7c546d67dc11",
     "regions": {
      "8fdee1ea-40ca-48a0-baff-801a5132c332": {
       "attrs": {
        "height": 0.8,
        "width": 0.8,
        "x": 0.1,
        "y": 0.1
       },
       "content": {
        "cell": "7ef574b3-ee5d-4642-aac7-3f16b3e4a27b",
        "part": "whole"
       },
       "id": "8fdee1ea-40ca-48a0-baff-801a5132c332"
      }
     }
    },
    "b9d5a0cf-542a-4a30-ae87-b4c74da6b6e4": {
     "id": "b9d5a0cf-542a-4a30-ae87-b4c74da6b6e4",
     "prev": null,
     "regions": {
      "85acfebf-41a6-4d86-bb59-f893fb372bd7": {
       "attrs": {
        "height": 0.8,
        "width": 0.8,
        "x": 0.1,
        "y": 0.1
       },
       "content": {
        "cell": "c06eee89-a113-4302-9ca5-ee8d00e58ac7",
        "part": "whole"
       },
       "id": "85acfebf-41a6-4d86-bb59-f893fb372bd7"
      }
     }
    },
    "c1dcc8d1-e4d7-49fa-90fc-589d339ea310": {
     "id": "c1dcc8d1-e4d7-49fa-90fc-589d339ea310",
     "prev": "21d20cc1-c9c8-421a-b740-3479748acbdf",
     "regions": {
      "00368edd-76fa-46d4-b2fb-672e777ff621": {
       "attrs": {
        "height": 0.8,
        "width": 0.8,
        "x": 0.1,
        "y": 0.1
       },
       "content": {
        "cell": "0bf97d75-98f2-4b77-9864-f7d84e736568",
        "part": "whole"
       },
       "id": "00368edd-76fa-46d4-b2fb-672e777ff621"
      }
     }
    },
    "c23fad48-97cc-4ead-8729-a2b82bffa95b": {
     "id": "c23fad48-97cc-4ead-8729-a2b82bffa95b",
     "prev": "edfe9f12-f80f-4de8-8876-7c8142e6b4cb",
     "regions": {
      "d8b5c943-7e44-4f7a-9f3b-2f60154bfa58": {
       "attrs": {
        "height": 0.8,
        "width": 0.8,
        "x": 0.1,
        "y": 0.1
       },
       "content": {
        "cell": "9472fad2-da5d-4c3c-a7cc-dcb9055f71b2",
        "part": "whole"
       },
       "id": "d8b5c943-7e44-4f7a-9f3b-2f60154bfa58"
      }
     }
    },
    "cea95ac8-acca-4d06-86d9-27f51cd2952c": {
     "id": "cea95ac8-acca-4d06-86d9-27f51cd2952c",
     "prev": "b67cccda-7e2c-4427-9f96-5e68e523f9a7",
     "regions": {
      "92812a41-2f4b-4eb6-b2d4-85679306a12b": {
       "attrs": {
        "height": 0.8,
        "width": 0.8,
        "x": 0.1,
        "y": 0.1
       },
       "content": {
        "cell": "b933bd07-caa1-4b5e-9e2d-285c9ef8850e",
        "part": "whole"
       },
       "id": "92812a41-2f4b-4eb6-b2d4-85679306a12b"
      }
     }
    },
    "d03ccd3a-ac01-43cd-b246-3554c675b085": {
     "id": "d03ccd3a-ac01-43cd-b246-3554c675b085",
     "prev": "6ef52707-b5a6-40ea-add9-ad2a746f20a0",
     "regions": {
      "b7318809-bb0f-4a90-b0ed-d25c9556bfb3": {
       "attrs": {
        "height": 0.8,
        "width": 0.8,
        "x": 0.1,
        "y": 0.1
       },
       "content": {
        "cell": "89f52a48-47c1-476d-ba84-688d49169f03",
        "part": "whole"
       },
       "id": "b7318809-bb0f-4a90-b0ed-d25c9556bfb3"
      }
     }
    },
    "d66cd428-d38d-4022-972b-1a4d4aa1d0cc": {
     "id": "d66cd428-d38d-4022-972b-1a4d4aa1d0cc",
     "prev": "369652f8-3b3d-47c8-8397-0306bf3862c8",
     "regions": {
      "d3104fa4-2c37-4bc5-b794-6aa02129899c": {
       "attrs": {
        "height": 0.8,
        "width": 0.8,
        "x": 0.1,
        "y": 0.1
       },
       "content": {
        "cell": "8f73a7b2-94d1-4a70-bd08-f3261a4e9ee4",
        "part": "whole"
       },
       "id": "d3104fa4-2c37-4bc5-b794-6aa02129899c"
      }
     }
    },
    "dc655d13-0244-4fda-a5ca-17a836598ee7": {
     "id": "dc655d13-0244-4fda-a5ca-17a836598ee7",
     "prev": "0ff128c7-7f33-4528-8abc-14064cfa744a",
     "regions": {
      "7508c45f-09b8-4e3e-9f46-867fc67f14f9": {
       "attrs": {
        "height": 0.8,
        "width": 0.8,
        "x": 0.1,
        "y": 0.1
       },
       "content": {
        "cell": "81fe7587-707b-462e-9d02-12282a561cc9",
        "part": "whole"
       },
       "id": "7508c45f-09b8-4e3e-9f46-867fc67f14f9"
      }
     }
    },
    "dc831169-3268-44ac-a7b0-1f21f324f279": {
     "id": "dc831169-3268-44ac-a7b0-1f21f324f279",
     "prev": "b0f88ee7-7131-4bb2-9bbc-f1b1fbe28ba4",
     "regions": {
      "53197c77-a1f8-41e0-98a0-d54ee1bd94e3": {
       "attrs": {
        "height": 0.8,
        "width": 0.8,
        "x": 0.1,
        "y": 0.1
       },
       "content": {
        "cell": "4769e0b9-9b67-44b3-85f7-34724f87b3ca",
        "part": "whole"
       },
       "id": "53197c77-a1f8-41e0-98a0-d54ee1bd94e3"
      }
     }
    },
    "dcab3e71-0f49-473e-a292-84581a57926b": {
     "id": "dcab3e71-0f49-473e-a292-84581a57926b",
     "prev": "6ea6061f-ace2-488d-9c66-f1659c09829d",
     "regions": {
      "e470cca2-f4de-499c-b183-121f027f6ae2": {
       "attrs": {
        "height": 0.8,
        "width": 0.8,
        "x": 0.1,
        "y": 0.1
       },
       "content": {
        "cell": "d88ebea5-1068-4c0a-94ae-f37e56305e86",
        "part": "whole"
       },
       "id": "e470cca2-f4de-499c-b183-121f027f6ae2"
      }
     }
    },
    "e3590f5c-6942-4773-b34d-12326168b2b8": {
     "id": "e3590f5c-6942-4773-b34d-12326168b2b8",
     "prev": "eeec71ec-5a8e-4417-9999-18d715e65206",
     "regions": {
      "92a8a720-ad7c-452d-a663-209152ddd6a3": {
       "attrs": {
        "height": 0.8,
        "width": 0.8,
        "x": 0.1,
        "y": 0.1
       },
       "content": {
        "cell": "d3070140-6b6c-4f47-a8ba-7a63637324af",
        "part": "whole"
       },
       "id": "92a8a720-ad7c-452d-a663-209152ddd6a3"
      }
     }
    },
    "edfe9f12-f80f-4de8-8876-7c8142e6b4cb": {
     "id": "edfe9f12-f80f-4de8-8876-7c8142e6b4cb",
     "prev": "a1462a9d-1ee8-4df7-8ef3-d47f37e59bc9",
     "regions": {
      "1b3d4046-8488-4c47-b026-15413b3e162b": {
       "attrs": {
        "height": 0.8,
        "width": 0.8,
        "x": 0.1,
        "y": 0.1
       },
       "content": {
        "cell": "d21a88bd-065a-44bc-b900-02b184fa2d4e",
        "part": "whole"
       },
       "id": "1b3d4046-8488-4c47-b026-15413b3e162b"
      }
     }
    },
    "eeec71ec-5a8e-4417-9999-18d715e65206": {
     "id": "eeec71ec-5a8e-4417-9999-18d715e65206",
     "prev": "c1dcc8d1-e4d7-49fa-90fc-589d339ea310",
     "regions": {
      "50eedb1c-fb8e-4eb1-a38b-c4fe40e8cc44": {
       "attrs": {
        "height": 0.8,
        "width": 0.8,
        "x": 0.1,
        "y": 0.1
       },
       "content": {
        "cell": "36ae4c5b-a655-4c8b-b4e2-497079bc8f24",
        "part": "whole"
       },
       "id": "50eedb1c-fb8e-4eb1-a38b-c4fe40e8cc44"
      }
     }
    },
    "f1637108-83d7-4386-84bf-f28b93e4799f": {
     "id": "f1637108-83d7-4386-84bf-f28b93e4799f",
     "prev": "c23fad48-97cc-4ead-8729-a2b82bffa95b",
     "regions": {
      "33cfb9a6-12c5-42fb-ac36-821a16131763": {
       "attrs": {
        "height": 0.8,
        "width": 0.8,
        "x": 0.1,
        "y": 0.1
       },
       "content": {
        "cell": "860d4660-f2c7-480b-9240-cb01e4e063c2",
        "part": "whole"
       },
       "id": "33cfb9a6-12c5-42fb-ac36-821a16131763"
      }
     }
    },
    "f806c8cf-3ce4-4542-93e5-30c2279d7703": {
     "id": "f806c8cf-3ce4-4542-93e5-30c2279d7703",
     "prev": "0167aeaf-8722-4bfd-b1ee-f44f51824878",
     "regions": {
      "fe22e4fa-bce0-4a08-8f5f-9f6d7dfa96a2": {
       "attrs": {
        "height": 0.8,
        "width": 0.8,
        "x": 0.1,
        "y": 0.1
       },
       "content": {
        "cell": "649cb42a-70ca-4d20-be4b-98221d0d8fa0",
        "part": "whole"
       },
       "id": "fe22e4fa-bce0-4a08-8f5f-9f6d7dfa96a2"
      }
     }
    },
    "fe221287-4b10-4e81-a3a0-23df2a4c712f": {
     "id": "fe221287-4b10-4e81-a3a0-23df2a4c712f",
     "prev": "b26abe21-63b9-47e9-b761-efbfb1caca20",
     "regions": {
      "5b995fef-78ae-4f30-9ccc-bdfcd5a0b8c6": {
       "attrs": {
        "height": 0.8,
        "width": 0.8,
        "x": 0.1,
        "y": 0.1
       },
       "content": {
        "cell": "836cfd3e-9e0e-44e5-a626-79461179f2e1",
        "part": "whole"
       },
       "id": "5b995fef-78ae-4f30-9ccc-bdfcd5a0b8c6"
      }
     }
    }
   },
   "themes": {
    "default": "6ddaf783-138e-4ab7-82ea-aa28043c2c78",
    "theme": {
     "6ddaf783-138e-4ab7-82ea-aa28043c2c78": {
      "id": "6ddaf783-138e-4ab7-82ea-aa28043c2c78",
      "palette": {
       "19cc588f-0593-49c9-9f4b-e4d7cc113b1c": {
        "id": "19cc588f-0593-49c9-9f4b-e4d7cc113b1c",
        "rgb": [
         252,
         252,
         252
        ]
       },
       "31af15d2-7e15-44c5-ab5e-e04b16a89eff": {
        "id": "31af15d2-7e15-44c5-ab5e-e04b16a89eff",
        "rgb": [
         68,
         68,
         68
        ]
       },
       "50f92c45-a630-455b-aec3-788680ec7410": {
        "id": "50f92c45-a630-455b-aec3-788680ec7410",
        "rgb": [
         155,
         177,
         192
        ]
       },
       "c5cc3653-2ee1-402a-aba2-7caae1da4f6c": {
        "id": "c5cc3653-2ee1-402a-aba2-7caae1da4f6c",
        "rgb": [
         43,
         126,
         184
        ]
       },
       "efa7f048-9acb-414c-8b04-a26811511a21": {
        "id": "efa7f048-9acb-414c-8b04-a26811511a21",
        "rgb": [
         25.118061674008803,
         73.60176211453744,
         107.4819383259912
        ]
       }
      },
      "rules": {
       "blockquote": {
        "color": "50f92c45-a630-455b-aec3-788680ec7410"
       },
       "code": {
        "font-family": "Anonymous Pro"
       },
       "h1": {
        "color": "c5cc3653-2ee1-402a-aba2-7caae1da4f6c",
        "font-family": "Lato",
        "font-size": 8
       },
       "h2": {
        "color": "c5cc3653-2ee1-402a-aba2-7caae1da4f6c",
        "font-family": "Lato",
        "font-size": 6
       },
       "h3": {
        "color": "50f92c45-a630-455b-aec3-788680ec7410",
        "font-family": "Lato",
        "font-size": 5.5
       },
       "h4": {
        "color": "c5cc3653-2ee1-402a-aba2-7caae1da4f6c",
        "font-family": "Lato",
        "font-size": 5
       },
       "h5": {
        "font-family": "Lato"
       },
       "h6": {
        "font-family": "Lato"
       },
       "h7": {
        "font-family": "Lato"
       },
       "pre": {
        "font-family": "Anonymous Pro",
        "font-size": 4
       }
      },
      "text-base": {
       "font-family": "Merriweather",
       "font-size": 4
      }
     }
    }
   }
  }
 },
 "nbformat": 4,
 "nbformat_minor": 1
}
