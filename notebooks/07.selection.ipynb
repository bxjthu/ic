{
 "cells": [
  {
   "cell_type": "markdown",
   "metadata": {},
   "source": [
    "# 7. Selection"
   ]
  },
  {
   "cell_type": "markdown",
   "metadata": {},
   "source": [
    "## Boolean Values and Boolean Expressions\n",
    "\n",
    "The Python type for storing true and false values is called <font color=\"red\">bool</font>\n",
    "\n",
    "- Only two values: <font color=\"red\">True</font> and <font color=\"red\">False</font>."
   ]
  },
  {
   "cell_type": "code",
   "execution_count": 2,
   "metadata": {
    "collapsed": false
   },
   "outputs": [
    {
     "name": "stdout",
     "output_type": "stream",
     "text": [
      "True\n",
      "<class 'bool'>\n",
      "<class 'bool'>\n",
      "True\n",
      "<class 'str'>\n"
     ]
    }
   ],
   "source": [
    "print(True)\n",
    "print(type(True))\n",
    "print(type(False))\n",
    "print(\"True\")\n",
    "print(type(\"True\"))"
   ]
  },
  {
   "cell_type": "markdown",
   "metadata": {},
   "source": [
    "** boolean expression **\n",
    "\n",
    "A boolean expression is an expression that evaluates to a boolean value."
   ]
  },
  {
   "cell_type": "code",
   "execution_count": 3,
   "metadata": {
    "collapsed": false
   },
   "outputs": [
    {
     "name": "stdout",
     "output_type": "stream",
     "text": [
      "True\n",
      "False\n"
     ]
    }
   ],
   "source": [
    "print(5 == 5)\n",
    "print(5 == 6)"
   ]
  },
  {
   "cell_type": "markdown",
   "metadata": {},
   "source": [
    "** six common comparison operators**\n",
    "\n",
    "```python\n",
    "x == y      # x is equal to y\n",
    "x != y      # x is not equal to y\n",
    "x > y       # x is greater than y\n",
    "x < y       # x is less than y\n",
    "x >= y      # x is greater than or equal to y\n",
    "x <= y      # x is less than or equal to y\n",
    "```"
   ]
  },
  {
   "cell_type": "markdown",
   "metadata": {},
   "source": [
    "** Exercise **\n",
    "```\n",
    "Which of the following is a Boolean expression? Select all that apply.\n",
    "(A) True\n",
    "(B) 3 == 4\n",
    "(C) 3 + 4\n",
    "(D) 3 + 4 == 7\n",
    "(E) \"False\"\n",
    "```"
   ]
  },
  {
   "cell_type": "markdown",
   "metadata": {},
   "source": [
    "## Logical operators\n",
    "\n",
    "- and\n",
    "- or\n",
    "- not"
   ]
  },
  {
   "cell_type": "code",
   "execution_count": 4,
   "metadata": {
    "collapsed": false
   },
   "outputs": [
    {
     "name": "stdout",
     "output_type": "stream",
     "text": [
      "True\n",
      "False\n"
     ]
    }
   ],
   "source": [
    "x = 5\n",
    "print(x > 0 and x < 10)\n",
    "\n",
    "n = 25\n",
    "print(n % 2 == 0 or n % 3 == 0)"
   ]
  },
  {
   "cell_type": "code",
   "execution_count": null,
   "metadata": {
    "collapsed": true
   },
   "outputs": [],
   "source": [
    "x, y, z = 1, 2, 3\n",
    "\n",
    "x > y > z\n",
    "\n",
    "x == y == z"
   ]
  },
  {
   "cell_type": "markdown",
   "metadata": {},
   "source": [
    "** Exercise **\n",
    "\n",
    "```\n",
    "1. Check if the value of `num` is 5,6, or 7, which is correct?\n",
    "```\n",
    "```python\n",
    "num == 5 or 6 or 7\n",
    "\n",
    "num = 5 or num = 6 or num = 7\n",
    "\n",
    "num == 5 or num == 6 or num == 7\n",
    "\n",
    "num > 4 and num < 8\n",
    "```"
   ]
  },
  {
   "cell_type": "markdown",
   "metadata": {},
   "source": [
    "```\n",
    "2. What is the correct Python expression for checking to see if a number stored in a variable x is between 0 and 5.\n",
    "(A) x > 0 and < 5\n",
    "(B) 0 < x < 5\n",
    "(C) x > 0 or x < 5\n",
    "(D) x > 0 and x < 5\n",
    "```"
   ]
  },
  {
   "cell_type": "markdown",
   "metadata": {},
   "source": [
    "## Precedence of Operators\n",
    "\n",
    "Level |\tCategory |\tOperators\n",
    "------|----------|-----------\n",
    "7(high)\t| exponent\t| `**`\n",
    "6\t| multiplication |\t`*,/,//,%`\n",
    "5\t| addition\t| `+,-`\n",
    "4\t| relational |`==,!=,<=,>=,>,<`\n",
    "3\t| logical\t| `not`\n",
    "2\t| logical\t| `and`\n",
    "1(low)\t| logical |\t`or`"
   ]
  },
  {
   "cell_type": "markdown",
   "metadata": {},
   "source": [
    "** Exercise **\n",
    "\n",
    "```\n",
    "Which of the following properly expresses the precedence of operators (using parentheses) in the following expression: 5*3 > 10 and 4+6==11\n",
    "(A) ((5*3) > 10) and ((4+6) == 11)\n",
    "(B) (5*(3 > 10)) and (4 + (6 == 11))\n",
    "(C) ((((5*3) > 10) and 4)+6) == 11\n",
    "(D) ((5*3) > (10 and (4+6))) == 11\n",
    "```"
   ]
  },
  {
   "cell_type": "markdown",
   "metadata": {},
   "source": [
    "## Conditional Execution: Binary Selection"
   ]
  },
  {
   "cell_type": "markdown",
   "metadata": {},
   "source": [
    "In order to write useful programs, we almost always need the ability to check conditions and change the behavior of the program accordingly. \n",
    "\n",
    "**Selection statements**, also referred to as **conditional statements**\n",
    "give us this ability. \n",
    "\n",
    "The simplest form of selection is the **if statement**. This is sometimes referred to as **binary selection** since there are two possible paths of execution."
   ]
  },
  {
   "cell_type": "code",
   "execution_count": 6,
   "metadata": {
    "collapsed": false
   },
   "outputs": [
    {
     "name": "stdout",
     "output_type": "stream",
     "text": [
      "15 is odd\n"
     ]
    }
   ],
   "source": [
    "x = 15\n",
    "\n",
    "if x % 2 == 0:\n",
    "    print(x, \"is even\")\n",
    "else:\n",
    "    print(x, \"is odd\")"
   ]
  },
  {
   "cell_type": "markdown",
   "metadata": {},
   "source": [
    "** The syntax for an if statement **\n",
    "\n",
    "```python\n",
    "if BOOLEAN EXPRESSION:\n",
    "    STATEMENTS_1        # executed if condition evaluates to True\n",
    "else:\n",
    "    STATEMENTS_2        # executed if condition evaluates to False\n",
    "```"
   ]
  },
  {
   "cell_type": "markdown",
   "metadata": {},
   "source": [
    "** Flowchart of a if statement with an else **\n",
    "\n",
    "<img src=\"images/if.svg\" width=500>"
   ]
  },
  {
   "cell_type": "markdown",
   "metadata": {},
   "source": [
    "** Exercise **\n",
    "\n",
    "```\n",
    "1. How many statements can appear in each block (the if and the else) in a conditional statement?\n",
    "(A) Just one.\n",
    "(B) Zero or more.\n",
    "(C) One or more.\n",
    "(D) One or more, and each must contain the same number.\n",
    "```"
   ]
  },
  {
   "cell_type": "markdown",
   "metadata": {},
   "source": [
    "```\n",
    "2. What does the following code print (choose from output a, b, c or nothing).\n",
    "```\n",
    "\n",
    "```python\n",
    "if 4 + 5 == 10:\n",
    "    print(\"TRUE\")\n",
    "else:\n",
    "    print(\"FALSE\")\n",
    "```\n",
    "```\n",
    "(A) TRUE\n",
    "(B) FALSE\n",
    "(C) TRUE on one line and FALSE on the next\n",
    "(D) Nothing will be printed\n",
    "```"
   ]
  },
  {
   "cell_type": "markdown",
   "metadata": {},
   "source": [
    "```\n",
    "3. What does the following code print?\n",
    "```\n",
    "```python\n",
    "if 4 + 5 == 10:\n",
    "    print(\"TRUE\")\n",
    "else:\n",
    "    print(\"FALSE\")\n",
    "print(\"TRUE\")\n",
    "```"
   ]
  },
  {
   "cell_type": "markdown",
   "metadata": {},
   "source": [
    "## Omitting the else Clause: Unary Selection\n",
    "\n",
    "\n",
    "<img src=\"images/if_unary.svg\" width=300>"
   ]
  },
  {
   "cell_type": "code",
   "execution_count": 7,
   "metadata": {
    "collapsed": false
   },
   "outputs": [
    {
     "name": "stdout",
     "output_type": "stream",
     "text": [
      "This is always printed\n"
     ]
    }
   ],
   "source": [
    "x = 10\n",
    "if x < 0:\n",
    "    print(\"The negative number \",  x, \" is not valid here.\")\n",
    "print(\"This is always printed\")"
   ]
  },
  {
   "cell_type": "code",
   "execution_count": 8,
   "metadata": {
    "collapsed": false
   },
   "outputs": [
    {
     "name": "stdout",
     "output_type": "stream",
     "text": [
      "The negative number  -10  is not valid here.\n",
      "This is always printed\n"
     ]
    }
   ],
   "source": [
    "x = -10\n",
    "if x < 0:\n",
    "    print(\"The negative number \",  x, \" is not valid here.\")\n",
    "print(\"This is always printed\")"
   ]
  },
  {
   "cell_type": "markdown",
   "metadata": {},
   "source": [
    "**Exercise: Will the following code cause an error?**\n",
    "\n",
    "```python\n",
    "x = -10\n",
    "if x < 0:\n",
    "    print(\"The negative number \",  x, \" is not valid here.\")\n",
    "else:\n",
    "    print(x, \" is a positive number\")\n",
    "else:\n",
    "    print(\"This is always printed\")\n",
    "```"
   ]
  },
  {
   "cell_type": "markdown",
   "metadata": {},
   "source": [
    "## Nested conditionals\n",
    "\n",
    "<img src=\"images/if_nest.svg\" width=500>"
   ]
  },
  {
   "cell_type": "code",
   "execution_count": 13,
   "metadata": {
    "collapsed": false
   },
   "outputs": [
    {
     "name": "stdout",
     "output_type": "stream",
     "text": [
      "x is greater than y\n"
     ]
    }
   ],
   "source": [
    "x, y = 1, 10\n",
    "if x < y:\n",
    "    print(\"x is less than y\")\n",
    "else:\n",
    "    if x > y:\n",
    "        print(\"x is greater than y\")\n",
    "    else:\n",
    "        print(\"x and y must be equal\")"
   ]
  },
  {
   "cell_type": "code",
   "execution_count": 14,
   "metadata": {
    "collapsed": false
   },
   "outputs": [
    {
     "data": {
      "text/html": [
       "\n",
       "        <iframe\n",
       "            width=\"100%\"\n",
       "            height=\"450\"\n",
       "            src=\"http://pythontutor.com/iframe-embed.html#code=x%20%3D%201%0Ay%20%3D%2010%0A%0Aif%20x%20%3C%20y%3A%0A%20%20%20%20print(%22x%20is%20less%20than%20y%22%29%0Aelse%3A%0A%20%20%20%20if%20x%20%3E%20y%3A%0A%20%20%20%20%20%20%20%20print(%22x%20is%20greater%20than%20y%22%29%0A%20%20%20%20else%3A%0A%20%20%20%20%20%20%20%20print(%22x%20and%20y%20must%20be%20equal%22%29&codeDivHeight=400&codeDivWidth=350&cumulative=false&curInstr=0&heapPrimitives=false&origin=opt-frontend.js&py=3&rawInputLstJSON=%5B%5D&textReferences=false\"\n",
       "            frameborder=\"0\"\n",
       "            allowfullscreen\n",
       "        ></iframe>\n",
       "        "
      ],
      "text/plain": [
       "<IPython.lib.display.IFrame at 0x106a7a2b0>"
      ]
     },
     "execution_count": 14,
     "metadata": {},
     "output_type": "execute_result"
    }
   ],
   "source": [
    "from IPython.display import IFrame\n",
    "IFrame('http://pythontutor.com/iframe-embed.html#code=x%20%3D%201%0Ay%20%3D%2010%0A%0Aif%20x%20%3C%20y%3A%0A%20%20%20%20print(%22x%20is%20less%20than%20y%22%29%0Aelse%3A%0A%20%20%20%20if%20x%20%3E%20y%3A%0A%20%20%20%20%20%20%20%20print(%22x%20is%20greater%20than%20y%22%29%0A%20%20%20%20else%3A%0A%20%20%20%20%20%20%20%20print(%22x%20and%20y%20must%20be%20equal%22%29&codeDivHeight=400&codeDivWidth=350&cumulative=false&curInstr=0&heapPrimitives=false&origin=opt-frontend.js&py=3&rawInputLstJSON=%5B%5D&textReferences=false', width='100%', height=450)"
   ]
  },
  {
   "cell_type": "markdown",
   "metadata": {},
   "source": [
    "** Exercise: Will the following code cause an error? **\n",
    "\n",
    "```python\n",
    "x = -10\n",
    "if x < 0:\n",
    "    print(\"The negative number \",  x, \" is not valid here.\")\n",
    "else:\n",
    "    if x > 0:\n",
    "        print(x, \" is a positive number\")\n",
    "    else:\n",
    "        print(x,\" is 0\")\n",
    "```"
   ]
  },
  {
   "cell_type": "markdown",
   "metadata": {},
   "source": [
    "## Chained conditionals\n",
    "\n",
    "<img src=\"images/if_chain.svg\" width=350>"
   ]
  },
  {
   "cell_type": "markdown",
   "metadata": {},
   "source": [
    "** an alternative way to write nested selection: elif **\n",
    "\n",
    "```python\n",
    "if x < y:\n",
    "    print(\"x is less than y\")\n",
    "elif x > y:\n",
    "    print(\"x is greater than y\")\n",
    "else:\n",
    "    print(\"x and y must be equal\")\n",
    "```"
   ]
  },
  {
   "cell_type": "code",
   "execution_count": 2,
   "metadata": {
    "collapsed": false
   },
   "outputs": [
    {
     "name": "stdout",
     "output_type": "stream",
     "text": [
      "x is less than y\n"
     ]
    }
   ],
   "source": [
    "x = 1\n",
    "y = 10\n",
    "\n",
    "if x < y:\n",
    "    print(\"x is less than y\")\n",
    "elif x > y:\n",
    "    print(\"x is greater than y\")\n",
    "else:\n",
    "    print(\"x and y must be equal\")"
   ]
  },
  {
   "cell_type": "markdown",
   "metadata": {},
   "source": [
    "** Exercise **\n",
    "\n",
    "What is the result of following code?"
   ]
  },
  {
   "cell_type": "code",
   "execution_count": null,
   "metadata": {
    "collapsed": false
   },
   "outputs": [],
   "source": [
    "# code 1\n",
    "x = -10\n",
    "if x < 0:\n",
    "    print(\"The negative number \",  x, \" is not valid here.\")\n",
    "else:\n",
    "    if x > 0:\n",
    "        print(x, \" is a positive number\")\n",
    "    else:\n",
    "        print(x, \" is 0\")"
   ]
  },
  {
   "cell_type": "code",
   "execution_count": null,
   "metadata": {
    "collapsed": false
   },
   "outputs": [],
   "source": [
    "# code 2\n",
    "\n",
    "if x < 0:\n",
    "    print(\"The negative number \",  x, \" is not valid here.\")\n",
    "else x > 0:\n",
    "    print(x, \" is a positive number\")\n",
    "else:\n",
    "    print(x, \" is 0\")"
   ]
  },
  {
   "cell_type": "code",
   "execution_count": null,
   "metadata": {
    "collapsed": false
   },
   "outputs": [],
   "source": [
    "# code 3\n",
    "\n",
    "if x < 0:\n",
    "    print(\"The negative number \",  x, \" is not valid here.\")\n",
    "elif x > 0:\n",
    "    print(x, \" is a positive number\")\n",
    "else:\n",
    "    print(x, \" is 0\")"
   ]
  },
  {
   "cell_type": "code",
   "execution_count": null,
   "metadata": {
    "collapsed": false
   },
   "outputs": [],
   "source": [
    "# code 4\n",
    "\n",
    "if x < 0:\n",
    "    print(\"The negative number \",  x, \" is not valid here.\")\n",
    "if x > 0:\n",
    "    print(x, \" is a positive number\")\n",
    "else:\n",
    "    print(x, \" is 0\")"
   ]
  },
  {
   "cell_type": "markdown",
   "metadata": {},
   "source": [
    "** Exercise **\n",
    "\n",
    "```\n",
    "What will the following code print if x = 3, y = 5, and z = 2?\n",
    "```\n",
    "```python\n",
    "if x < y and x < z:\n",
    "    print(\"a\")\n",
    "elif y < x and y < z:\n",
    "    print(\"b\")\n",
    "else:\n",
    "    print(\"c\")\n",
    "```"
   ]
  },
  {
   "cell_type": "markdown",
   "metadata": {},
   "source": [
    "## Boolean Functions"
   ]
  },
  {
   "cell_type": "code",
   "execution_count": 7,
   "metadata": {
    "collapsed": false
   },
   "outputs": [
    {
     "name": "stdout",
     "output_type": "stream",
     "text": [
      "True\n"
     ]
    }
   ],
   "source": [
    "def isDivisible(x, y):\n",
    "    if x % y == 0:\n",
    "        result = True\n",
    "    else:\n",
    "        result = False\n",
    "\n",
    "    return result\n",
    "\n",
    "print(isDivisible(10, 5))"
   ]
  },
  {
   "cell_type": "code",
   "execution_count": 8,
   "metadata": {
    "collapsed": true
   },
   "outputs": [],
   "source": [
    "def isDivisible(x, y):\n",
    "    return x % y == 0"
   ]
  },
  {
   "cell_type": "markdown",
   "metadata": {},
   "source": [
    "**Boolean functions are often used in conditional statements:**\n",
    "\n",
    "```python\n",
    "if isDivisible(x, y):\n",
    "    ... # do something ...\n",
    "else:\n",
    "    ... # do something else ...\n",
    "```"
   ]
  },
  {
   "cell_type": "code",
   "execution_count": 9,
   "metadata": {
    "collapsed": false
   },
   "outputs": [
    {
     "name": "stdout",
     "output_type": "stream",
     "text": [
      "That works\n"
     ]
    }
   ],
   "source": [
    "def isDivisible(x, y):\n",
    "    if x % y == 0:\n",
    "        result = True\n",
    "    else:\n",
    "        result = False\n",
    "\n",
    "    return result\n",
    "\n",
    "if isDivisible(10, 5):\n",
    "    print(\"That works\")\n",
    "else:\n",
    "    print(\"Those values are no good\")"
   ]
  },
  {
   "cell_type": "code",
   "execution_count": 10,
   "metadata": {
    "collapsed": false
   },
   "outputs": [
    {
     "data": {
      "text/html": [
       "\n",
       "        <iframe\n",
       "            width=\"100%\"\n",
       "            height=\"450\"\n",
       "            src=\"http://pythontutor.com/iframe-embed.html#code=def%20isDivisible(x,%20y%29%3A%0A%20%20%20%20if%20x%20%25%20y%20%3D%3D%200%3A%0A%20%20%20%20%20%20%20%20result%20%3D%20True%0A%20%20%20%20else%3A%0A%20%20%20%20%20%20%20%20result%20%3D%20False%0A%0A%20%20%20%20return%20result%0A%0Aif%20isDivisible(10,%205%29%3A%0A%20%20%20%20print(%22That%20works%22%29%0Aelse%3A%0A%20%20%20%20print(%22Those%20values%20are%20no%20good%22%29&codeDivHeight=400&codeDivWidth=350&cumulative=false&curInstr=0&heapPrimitives=false&origin=opt-frontend.js&py=3&rawInputLstJSON=%5B%5D&textReferences=false\"\n",
       "            frameborder=\"0\"\n",
       "            allowfullscreen\n",
       "        ></iframe>\n",
       "        "
      ],
      "text/plain": [
       "<IPython.lib.display.IFrame at 0x106c147f0>"
      ]
     },
     "execution_count": 10,
     "metadata": {},
     "output_type": "execute_result"
    }
   ],
   "source": [
    "from IPython.display import IFrame\n",
    "IFrame('http://pythontutor.com/iframe-embed.html#code=def%20isDivisible(x,%20y%29%3A%0A%20%20%20%20if%20x%20%25%20y%20%3D%3D%200%3A%0A%20%20%20%20%20%20%20%20result%20%3D%20True%0A%20%20%20%20else%3A%0A%20%20%20%20%20%20%20%20result%20%3D%20False%0A%0A%20%20%20%20return%20result%0A%0Aif%20isDivisible(10,%205%29%3A%0A%20%20%20%20print(%22That%20works%22%29%0Aelse%3A%0A%20%20%20%20print(%22Those%20values%20are%20no%20good%22%29&codeDivHeight=400&codeDivWidth=350&cumulative=false&curInstr=0&heapPrimitives=false&origin=opt-frontend.js&py=3&rawInputLstJSON=%5B%5D&textReferences=false', width='100%', height=450)"
   ]
  },
  {
   "cell_type": "markdown",
   "metadata": {},
   "source": [
    "** Exercise **\n",
    "```\n",
    "1. What is a Boolean function?\n",
    "(A) A function that returns True or False\n",
    "(B) A function that takes True or False as an argument\n",
    "(C) The same as a Boolean expression\n",
    "```"
   ]
  },
  {
   "cell_type": "markdown",
   "metadata": {},
   "source": [
    "```\n",
    "2. Is the following statement legal in Python (assuming x, y and z are defined to be numbers)?\n",
    "```\n",
    "```python\n",
    "return x + y < z\n",
    "```\n",
    "```\n",
    "(A) Yes\n",
    "(B) No\n",
    "```"
   ]
  },
  {
   "cell_type": "markdown",
   "metadata": {},
   "source": [
    "```\n",
    "3. What do these expressions evaluate to?\n",
    "\n",
    "3 == 3\n",
    "\n",
    "3 != 3\n",
    "\n",
    "3 >= 4\n",
    "\n",
    "not (3 < 4)\n",
    "```"
   ]
  },
  {
   "cell_type": "markdown",
   "metadata": {},
   "source": [
    "```\n",
    "4. Give the logical opposites of these conditions. You are not allowed to use the not operator.\n",
    "a > b\n",
    "a >= b\n",
    "a >= 18  and  day == 3\n",
    "a >= 18  or  day != 3\n",
    "```"
   ]
  },
  {
   "cell_type": "markdown",
   "metadata": {},
   "source": [
    "```\n",
    "5. Write a function which is given an exam mark, and it returns a string — the grade for that mark — according to this scheme:\n",
    "```\n",
    "\n",
    "Mark    | Grade\n",
    "--------|-------\n",
    ">= 90\t| A\n",
    "[80-90)\t| B\n",
    "[70-80)\t| C\n",
    "[60-70)\t| D\n",
    "< 60\t| F\n"
   ]
  },
  {
   "cell_type": "markdown",
   "metadata": {},
   "source": [
    "```\n",
    "6. Write a function is_rightangled which, given the length of three sides of a triangle, will determine whether the triangle is right-angled.\n",
    "```"
   ]
  },
  {
   "cell_type": "markdown",
   "metadata": {},
   "source": [
    "## Glossary\n",
    "\n",
    "**block**\n",
    "\n",
    "A group of consecutive statements with the same indentation.\n",
    "\n",
    "**body**\n",
    "\n",
    "The block of statements in a compound statement that follows the header.\n",
    "\n",
    "**boolean expression**\n",
    "\n",
    "An expression that is either true or false.\n",
    "\n",
    "**boolean function**\n",
    "\n",
    "A function that returns a boolean value. The only possible values of the bool type are **False** and **True**.\n",
    "\n",
    "**boolean value**\n",
    "\n",
    "There are exactly two boolean values: True and False. Boolean values result when a boolean expression is evaluated by the Python interepreter. They have type **bool**.\n",
    "\n",
    "**branch**\n",
    "\n",
    "One of the possible paths of the flow of execution determined by conditional execution.\n",
    "\n",
    "**chained conditional**\n",
    "\n",
    "A conditional branch with more than two possible flows of execution. In Python chained conditionals are written with **if ... elif ... else** statements.\n",
    "\n",
    "**comparison operator**\n",
    "\n",
    "One of the operators that compares two values: `==, !=, >, <, >=, and <=`.\n",
    "\n",
    "**condition**\n",
    "\n",
    "The boolean expression in a conditional statement that determines which branch is executed.\n",
    "\n",
    "**conditional statement**\n",
    "\n",
    "A statement that controls the flow of execution depending on some condition. In Python the keywords **if**, **elif**, and **else** are used for conditional statements.\n",
    "\n",
    "**logical operator**\n",
    "\n",
    "One of the operators that combines boolean expressions: **and**, **or**, and **not**.\n",
    "\n",
    "**modulus operator**\n",
    "\n",
    "An operator, denoted with a percent sign ( %), that works on integers and yields the remainder when one number is divided by another.\n",
    "\n",
    "**nesting**\n",
    "\n",
    "One program structure within another, such as a conditional statement inside a branch of another conditional statement."
   ]
  },
  {
   "cell_type": "code",
   "execution_count": null,
   "metadata": {
    "collapsed": true
   },
   "outputs": [],
   "source": []
  }
 ],
 "metadata": {
  "anaconda-cloud": {},
  "kernelspec": {
   "display_name": "Python [conda root]",
   "language": "python",
   "name": "conda-root-py"
  },
  "language_info": {
   "codemirror_mode": {
    "name": "ipython",
    "version": 3
   },
   "file_extension": ".py",
   "mimetype": "text/x-python",
   "name": "python",
   "nbconvert_exporter": "python",
   "pygments_lexer": "ipython3",
   "version": "3.5.2"
  }
 },
 "nbformat": 4,
 "nbformat_minor": 1
}
