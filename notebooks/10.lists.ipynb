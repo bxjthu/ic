{
 "cells": [
  {
   "cell_type": "markdown",
   "metadata": {},
   "source": [
    "# 10. Lists"
   ]
  },
  {
   "cell_type": "markdown",
   "metadata": {},
   "source": [
    "## Lists\n",
    "\n",
    "A list is a sequential collection of Python data values, where each value is identified by an index. \n",
    "\n",
    "The values that make up a list are called its elements. \n",
    "\n",
    "Lists are similar to strings, which are ordered collections of characters, except that the elements of a list can have **any type** and for any one list, the items can be of **different types**."
   ]
  },
  {
   "cell_type": "markdown",
   "metadata": {},
   "source": [
    "## List Values\n",
    "\n",
    "```python\n",
    "[10, 20, 30, 40]\n",
    "[\"spam\", \"bungee\", \"swallow\"]\n",
    "```"
   ]
  },
  {
   "cell_type": "markdown",
   "metadata": {},
   "source": [
    "** nested list, sub list **\n",
    "\n",
    "```python\n",
    "[\"hello\", 2.0, 5, [10, 20]]\n",
    "```\n",
    "\n",
    "** empty list **\n",
    "\n",
    "```python\n",
    "[]\n",
    "```"
   ]
  },
  {
   "cell_type": "code",
   "execution_count": null,
   "metadata": {
    "collapsed": false
   },
   "outputs": [],
   "source": [
    "vocabulary = [\"iteration\", \"selection\", \"control\"]\n",
    "numbers = [17, 123]\n",
    "empty = []\n",
    "mixedlist = [\"hello\", 2.0, 5*2, [10, 20]]\n",
    "\n",
    "print(numbers)\n",
    "print(mixedlist)\n",
    "newlist = [ numbers, vocabulary ]\n",
    "print(newlist)"
   ]
  },
  {
   "cell_type": "markdown",
   "metadata": {},
   "source": [
    "** Exercise **\n",
    "\n",
    "```\n",
    "A list can contain only integer items.\n",
    "(A) False\n",
    "(B) True\n",
    "```"
   ]
  },
  {
   "cell_type": "markdown",
   "metadata": {},
   "source": [
    "## List length\n",
    "\n",
    "function `len` returns the length of a list"
   ]
  },
  {
   "cell_type": "code",
   "execution_count": null,
   "metadata": {
    "collapsed": false
   },
   "outputs": [],
   "source": [
    "alist =  [\"hello\", 2.0, 5, [10, 20]]\n",
    "print(len(alist))\n",
    "print(len(['spam!', 1, ['Brie', 'Roquefort', 'Pol le Veq'], [1, 2, 3]]))"
   ]
  },
  {
   "cell_type": "markdown",
   "metadata": {},
   "source": [
    "** Exercise **\n",
    "```\n",
    "1. What is printed by the following statements?```\n",
    "```python\n",
    "alist = [3, 67, \"cat\", 3.14, False]\n",
    "print(len(alist))```\n",
    "```\n",
    "(A) 4\n",
    "(B) 5\n",
    "```"
   ]
  },
  {
   "cell_type": "markdown",
   "metadata": {},
   "source": [
    "```\n",
    "2. What is printed by the following statements?```\n",
    "```python\n",
    "alist = [3, 67, \"cat\", [56, 57, \"dog\"], [ ], 3.14, False]\n",
    "print(len(alist))```\n",
    "```\n",
    "(A) 7\n",
    "(B) 8\n",
    "```"
   ]
  },
  {
   "cell_type": "markdown",
   "metadata": {},
   "source": [
    "## Accessing Elements"
   ]
  },
  {
   "cell_type": "code",
   "execution_count": null,
   "metadata": {
    "collapsed": false
   },
   "outputs": [],
   "source": [
    "numbers = [17, 123, 87, 34, 66, 8398, 44]\n",
    "print(numbers[2])\n",
    "print(numbers[9 - 8])\n",
    "print(numbers[-2])\n",
    "print(numbers[len(numbers) - 1])"
   ]
  },
  {
   "cell_type": "markdown",
   "metadata": {},
   "source": [
    "** Exercise **\n",
    "\n",
    "```\n",
    "1. What is printed by the following statements?```\n",
    "```python\n",
    "alist = [3, 67, \"cat\", [56, 57, \"dog\"], [ ], 3.14, False]\n",
    "print(alist[5])```\n",
    "```\n",
    "(A) [ ]\n",
    "(B) 3.14\n",
    "(C) False\n",
    "```"
   ]
  },
  {
   "cell_type": "markdown",
   "metadata": {},
   "source": [
    "```2. What is printed by the following statements?```\n",
    "```python\n",
    "alist = [3, 67, \"cat\", [56, 57, \"dog\"], [ ], 3.14, False]\n",
    "print(alist[2].upper())```\n",
    "```\n",
    "(A) Error, you cannot use the upper method on a list.\n",
    "(B) 2\n",
    "(C) CAT\n",
    "```"
   ]
  },
  {
   "cell_type": "markdown",
   "metadata": {},
   "source": [
    "```\n",
    "3. What is printed by the following statements?```\n",
    "```python\n",
    "alist = [3, 67, \"cat\", [56, 57, \"dog\"], [ ], 3.14, False]\n",
    "print(alist[2][0])```\n",
    "```\n",
    "(A) 56\n",
    "(B) c\n",
    "(C) cat\n",
    "(D) Error, you cannot have two index values unless you are using slicing.\n",
    "```"
   ]
  },
  {
   "cell_type": "markdown",
   "metadata": {},
   "source": [
    "## List Membership\n",
    "\n",
    "**in** and **not in** are boolean operators that test membership in a sequence. "
   ]
  },
  {
   "cell_type": "code",
   "execution_count": null,
   "metadata": {
    "collapsed": false
   },
   "outputs": [],
   "source": [
    "fruit = [\"apple\", \"orange\", \"banana\", \"cherry\"]\n",
    "\n",
    "print(\"apple\" in fruit)\n",
    "print(\"pear\" in fruit)\n",
    "print(\"pear\" not in fruit)"
   ]
  },
  {
   "cell_type": "markdown",
   "metadata": {},
   "source": [
    "** Exercise **\n",
    "\n",
    "```1. What is printed by the following statements?```\n",
    "```python\n",
    "alist = [3, 67, \"cat\", [56, 57, \"dog\"], [ ], 3.14, False]\n",
    "print(3.14 in alist)```\n",
    "```\n",
    "(A) True\n",
    "(B) False\n",
    "```"
   ]
  },
  {
   "cell_type": "markdown",
   "metadata": {},
   "source": [
    "```2. What is printed by the following statements?```\n",
    "```python\n",
    "alist = [3, 67, \"cat\", [56, 57, \"dog\"], [ ], 3.14, False]\n",
    "print(57 in alist)```\n",
    "```\n",
    "(A) True\n",
    "(B) False\n",
    "```"
   ]
  },
  {
   "cell_type": "markdown",
   "metadata": {},
   "source": [
    "## Concatenation and Repetition\n",
    "\n",
    "As with strings, \n",
    "\n",
    "- `+` operator: concatenates lists. \n",
    "\n",
    "- `*` operator: repeats the items in a list a given number of times\n",
    "\n",
    "\n",
    "<div class=\"alert alert-danger\">\n",
    "these operators create new lists from the elements of the operand lists.\n",
    "</div>"
   ]
  },
  {
   "cell_type": "code",
   "execution_count": null,
   "metadata": {
    "collapsed": false
   },
   "outputs": [],
   "source": [
    "fruit = [\"apple\", \"orange\", \"banana\", \"cherry\"]\n",
    "print([1, 2] + [3, 4])\n",
    "print(fruit + [6, 7, 8, 9])\n",
    "\n",
    "print([0] * 4)\n",
    "print([1, 2, [\"hello\", \"goodbye\"]] * 2)"
   ]
  },
  {
   "cell_type": "code",
   "execution_count": null,
   "metadata": {
    "collapsed": false
   },
   "outputs": [],
   "source": [
    "from IPython.display import IFrame\n",
    "IFrame(\"http://pythontutor.com/iframe-embed.html#code=fruit%20%3D%20%5B%22apple%22,%20%22orange%22,%20%22banana%22,%20%22cherry%22%5D%0Anumlist%20%3D%20%5B6,%207%5D%0A%0Anewlist%20%3D%20fruit%20%2B%20numlist%0A%0Azeros%20%3D%20%5B0%5D%20*%204&codeDivHeight=400&codeDivWidth=350&cumulative=false&curInstr=0&heapPrimitives=false&origin=opt-frontend.js&py=3&rawInputLstJSON=%5B%5D&textReferences=false\", width='100%', height=450)"
   ]
  },
  {
   "cell_type": "markdown",
   "metadata": {},
   "source": [
    "** Exercise **\n",
    "\n",
    "```\n",
    "1. What is printed by the following statements?```\n",
    "```python\n",
    "alist = [1, 3, 5]\n",
    "blist = [2, 4, 6]\n",
    "print(alist + blist)```\n",
    "```\n",
    "(A) 6\n",
    "(B) [1, 2, 3, 4, 5, 6]\n",
    "(C) [1, 3, 5, 2, 4, 6]\n",
    "(D) [3, 7, 11]\n",
    "```"
   ]
  },
  {
   "cell_type": "markdown",
   "metadata": {},
   "source": [
    "```\n",
    "2. What is printed by the following statements?```\n",
    "```python\n",
    "alist = [1, 3, 5]\n",
    "print(alist * 3)```\n",
    "```\n",
    "(A) 9\n",
    "(B) [1, 1, 1, 3, 3, 3, 5, 5, 5]\n",
    "(C) [1, 3, 5, 1, 3, 5, 1, 3, 5]\n",
    "(D) [3, 9, 15]\n",
    "```"
   ]
  },
  {
   "cell_type": "markdown",
   "metadata": {},
   "source": [
    "## List Slices"
   ]
  },
  {
   "cell_type": "code",
   "execution_count": null,
   "metadata": {
    "collapsed": false
   },
   "outputs": [],
   "source": [
    "a_list = ['a', 'b', 'c', 'd', 'e', 'f']\n",
    "print(a_list[1:3])\n",
    "print(a_list[:4])\n",
    "print(a_list[3:])\n",
    "print(a_list[:])"
   ]
  },
  {
   "cell_type": "markdown",
   "metadata": {},
   "source": [
    "** Exercise **\n",
    "```\n",
    "What is printed by the following statements?```\n",
    "```python\n",
    "alist = [3, 67, \"cat\", [56, 57, \"dog\"], [ ], 3.14, False]\n",
    "print(alist[4:])```\n",
    "```\n",
    "(A) [ [ ], 3.14, False]\n",
    "(B) [ [ ], 3.14]\n",
    "(C) [ [56, 57, \"dog\"], [ ], 3.14, False]\n",
    "```"
   ]
  },
  {
   "cell_type": "markdown",
   "metadata": {},
   "source": [
    "## Lists are Mutable"
   ]
  },
  {
   "cell_type": "code",
   "execution_count": null,
   "metadata": {
    "collapsed": false
   },
   "outputs": [],
   "source": [
    "fruit = [\"banana\", \"apple\", \"cherry\"]\n",
    "print(fruit)\n",
    "\n",
    "fruit[0] = \"pear\"\n",
    "fruit[-1] = \"orange\"\n",
    "print(fruit)"
   ]
  },
  {
   "cell_type": "code",
   "execution_count": null,
   "metadata": {
    "collapsed": false
   },
   "outputs": [],
   "source": [
    "from IPython.display import IFrame\n",
    "IFrame(\"http://pythontutor.com/iframe-embed.html#code=fruit%20%3D%20%5B%22banana%22,%20%22apple%22,%20%22cherry%22%5D%0A%0Afruit%5B0%5D%20%3D%20%22pear%22%0Afruit%5B-1%5D%20%3D%20%22orange%22&codeDivHeight=400&codeDivWidth=350&cumulative=false&curInstr=0&heapPrimitives=false&origin=opt-frontend.js&py=3&rawInputLstJSON=%5B%5D&textReferences=false\", width='100%', height=450)"
   ]
  },
  {
   "cell_type": "code",
   "execution_count": null,
   "metadata": {
    "collapsed": false
   },
   "outputs": [],
   "source": [
    "alist = ['a', 'b', 'c', 'd', 'e', 'f']\n",
    "alist[1:3] = ['x', 'y']\n",
    "print(alist)"
   ]
  },
  {
   "cell_type": "code",
   "execution_count": null,
   "metadata": {
    "collapsed": false
   },
   "outputs": [],
   "source": [
    "alist = ['a', 'b', 'c', 'd', 'e', 'f']\n",
    "alist[1:3] = []\n",
    "print(alist)"
   ]
  },
  {
   "cell_type": "code",
   "execution_count": null,
   "metadata": {
    "collapsed": false
   },
   "outputs": [],
   "source": [
    "alist = ['a', 'd', 'f']\n",
    "alist[1:1] = ['b', 'c']\n",
    "print(alist)\n",
    "alist[4:4] = ['e']\n",
    "print(alist)"
   ]
  },
  {
   "cell_type": "markdown",
   "metadata": {},
   "source": [
    "** Exercise **\n",
    "```\n",
    "What is printed by the following statements?```\n",
    "```python\n",
    "alist = [4, 2, 8, 6, 5]\n",
    "alist[2] = True\n",
    "print(alist)```\n",
    "```\n",
    "(A) [4, 2, True, 8, 6, 5]\n",
    "(B) [4, 2, True, 6, 5]\n",
    "(C) Error, it is illegal to assign\n",
    "```"
   ]
  },
  {
   "cell_type": "markdown",
   "metadata": {},
   "source": [
    "## List Deletion\n",
    "\n",
    "The `del` statement removes an element from a list by using its position."
   ]
  },
  {
   "cell_type": "code",
   "execution_count": null,
   "metadata": {
    "collapsed": false
   },
   "outputs": [],
   "source": [
    "a = ['one', 'two', 'three']\n",
    "del a[1]\n",
    "print(a)\n",
    "\n",
    "alist = ['a', 'b', 'c', 'd', 'e', 'f']\n",
    "del alist[1:5]\n",
    "print(alist)"
   ]
  },
  {
   "cell_type": "markdown",
   "metadata": {},
   "source": [
    "## Objects and References\n",
    "\n",
    "```python\n",
    "a = \"banana\"\n",
    "b = \"banana\"\n",
    "```\n",
    "\n",
    "Q: Do `a` and `b` point to the same string?\n",
    "\n",
    "A: Use `is` operator to test"
   ]
  },
  {
   "cell_type": "code",
   "execution_count": null,
   "metadata": {
    "collapsed": false
   },
   "outputs": [],
   "source": [
    "a = \"banana\"\n",
    "b = \"banana\"\n",
    "\n",
    "print(a is b)"
   ]
  },
  {
   "cell_type": "code",
   "execution_count": null,
   "metadata": {
    "collapsed": false
   },
   "outputs": [],
   "source": [
    "a = \"banana\"\n",
    "b = \"banana\"\n",
    "\n",
    "print(a is b)\n",
    "print(a == b)"
   ]
  },
  {
   "cell_type": "markdown",
   "metadata": {},
   "source": [
    "Python optimizes resources by making different names that refer to the same value (immutable type) refer to the same object.\n",
    "\n",
    "Immutable types: str, int, float, bool"
   ]
  },
  {
   "cell_type": "code",
   "execution_count": null,
   "metadata": {
    "collapsed": false
   },
   "outputs": [],
   "source": [
    "a = 1\n",
    "b = 1\n",
    "\n",
    "print(a is b)\n",
    "print(a == b)\n",
    "print(id(a), id(b))"
   ]
  },
  {
   "cell_type": "code",
   "execution_count": null,
   "metadata": {
    "collapsed": false
   },
   "outputs": [],
   "source": [
    "a = [81, 82, 83]\n",
    "b = [81, 82, 83]\n",
    "\n",
    "print(a is b)\n",
    "\n",
    "print(a == b)\n",
    "\n",
    "print(id(a), id(b))"
   ]
  },
  {
   "cell_type": "markdown",
   "metadata": {},
   "source": [
    "<img src=\"http://sei.pku.edu.cn/~caodg/course/ic/notebooks/images/refdiag3.png\">"
   ]
  },
  {
   "cell_type": "code",
   "execution_count": null,
   "metadata": {
    "collapsed": false
   },
   "outputs": [],
   "source": [
    "from IPython.display import IFrame\n",
    "IFrame(\"http://pythontutor.com/iframe-embed.html#code=a%20%3D%20%5B81,%2082,%2083%5D%0Ab%20%3D%20%5B81,%2082,%2083%5D%0A%0Aprint(a%20is%20b%29%0A%0Aprint(a%20%3D%3D%20b%29&codeDivHeight=400&codeDivWidth=350&cumulative=false&curInstr=0&heapPrimitives=false&origin=opt-frontend.js&py=3&rawInputLstJSON=%5B%5D&textReferences=false\", width='100%', height=450)"
   ]
  },
  {
   "cell_type": "markdown",
   "metadata": {
    "collapsed": true
   },
   "source": [
    "## Aliasing\n",
    "\n",
    "Variables refer to objects. \n",
    "\n",
    "If we assign one variable to another, both variables refer to the same object"
   ]
  },
  {
   "cell_type": "code",
   "execution_count": null,
   "metadata": {
    "collapsed": false
   },
   "outputs": [],
   "source": [
    "a = [81, 82, 83]\n",
    "b = a\n",
    "print(a is b)"
   ]
  },
  {
   "cell_type": "markdown",
   "metadata": {},
   "source": [
    "<img src=\"http://sei.pku.edu.cn/~caodg/course/ic/notebooks/images/refdiag4.png\">"
   ]
  },
  {
   "cell_type": "code",
   "execution_count": null,
   "metadata": {
    "collapsed": false
   },
   "outputs": [],
   "source": [
    "from IPython.display import IFrame\n",
    "IFrame(\"http://pythontutor.com/iframe-embed.html#code=a%20%3D%20%5B81,%2082,%2083%5D%0Ab%20%3D%20%5B81,%2082,%2083%5D%0A%09%0Aprint(a%20%3D%3D%20b%29%0Aprint(a%20is%20b%29%0A%09%0Ab%20%3D%20a%0Aprint(a%20%3D%3D%20b%29%0Aprint(a%20is%20b%29%0A%0Ab%5B0%5D%20%3D%205%0Aprint(a%29&codeDivHeight=400&codeDivWidth=350&cumulative=false&curInstr=0&heapPrimitives=false&origin=opt-frontend.js&py=3&rawInputLstJSON=%5B%5D&textReferences=false\", width='100%', height=450)"
   ]
  },
  {
   "cell_type": "markdown",
   "metadata": {},
   "source": [
    "** Exercise **\n",
    "```\n",
    "What is printed by the following statements?```\n",
    "```python\n",
    "alist = [4, 2, 8, 6, 5]\n",
    "blist = alist\n",
    "blist[3] = 999\n",
    "print(alist)\n",
    "```\n",
    "```\n",
    "(A) [4, 2, 8, 6, 5]\n",
    "(B) [4, 2, 8, 999, 5]\n",
    "```"
   ]
  },
  {
   "cell_type": "markdown",
   "metadata": {},
   "source": [
    "## Cloning Lists"
   ]
  },
  {
   "cell_type": "code",
   "execution_count": null,
   "metadata": {
    "collapsed": false
   },
   "outputs": [],
   "source": [
    "from IPython.display import IFrame\n",
    "IFrame(\"http://pythontutor.com/iframe-embed.html#code=a%20%3D%20%5B81,%2082,%2083%5D%0A%0Ab%20%3D%20a%5B%3A%5D%20%20%20%20%20%20%20%23%20make%20a%20clone%20using%20slice%0Aprint(a%20%3D%3D%20b%29%0Aprint(a%20is%20b%29%0A%0Ab%5B0%5D%20%3D%205%0A%0Aprint(a%29%0Aprint(b%29&codeDivHeight=400&codeDivWidth=350&cumulative=false&curInstr=0&heapPrimitives=false&origin=opt-frontend.js&py=3&rawInputLstJSON=%5B%5D&textReferences=false\", width='100%', height=450)"
   ]
  },
  {
   "cell_type": "markdown",
   "metadata": {},
   "source": [
    "## Repetition and References\n",
    "\n",
    "If the list item is a sub-list, the repetition operator creates copies of the references."
   ]
  },
  {
   "cell_type": "code",
   "execution_count": null,
   "metadata": {
    "collapsed": false
   },
   "outputs": [],
   "source": [
    "origlist = [45, 76, 34, 55]\n",
    "print(origlist * 3)"
   ]
  },
  {
   "cell_type": "code",
   "execution_count": null,
   "metadata": {
    "collapsed": false
   },
   "outputs": [],
   "source": [
    "origlist = [45, 76, 34, 55]\n",
    "print(origlist * 3)\n",
    "\n",
    "newlist = [origlist] * 3\n",
    "\n",
    "print(newlist)"
   ]
  },
  {
   "cell_type": "markdown",
   "metadata": {
    "collapsed": false
   },
   "source": [
    "** Reference Diagram **\n",
    "\n",
    "<img src=\"http://sei.pku.edu.cn/~caodg/course/ic/notebooks/images/refrep1.png\">"
   ]
  },
  {
   "cell_type": "code",
   "execution_count": null,
   "metadata": {
    "collapsed": false
   },
   "outputs": [],
   "source": [
    "origlist = [45, 76, 34, 55]\n",
    "\n",
    "newlist = [origlist] * 3\n",
    "\n",
    "print(newlist)\n",
    "\n",
    "origlist[1] = 99\n",
    "\n",
    "print(newlist)"
   ]
  },
  {
   "cell_type": "markdown",
   "metadata": {
    "collapsed": false
   },
   "source": [
    "<img src=\"http://sei.pku.edu.cn/~caodg/course/ic/notebooks/images/refrep2.png\">"
   ]
  },
  {
   "cell_type": "code",
   "execution_count": null,
   "metadata": {
    "collapsed": false
   },
   "outputs": [],
   "source": [
    "from IPython.display import IFrame\n",
    "IFrame(\"http://pythontutor.com/iframe-embed.html#code=origlist%20%3D%20%5B45,%2076,%2034,%2055%5D%0A%0Anewlist%20%3D%20%5Boriglist%5D%20*%203%0A%0Aprint(newlist%29%0A%0Aoriglist%5B1%5D%20%3D%2099%0A%0Aprint(newlist%29&codeDivHeight=400&codeDivWidth=350&cumulative=false&curInstr=0&heapPrimitives=false&origin=opt-frontend.js&py=3&rawInputLstJSON=%5B%5D&textReferences=false\", width='100%', height=450)"
   ]
  },
  {
   "cell_type": "markdown",
   "metadata": {
    "collapsed": true
   },
   "source": [
    "** Exercise **\n",
    "```\n",
    "1. What is printed by the following statements?```\n",
    "```python\n",
    "alist = [4, 2, 8, 6, 5]\n",
    "blist = alist * 2\n",
    "blist[3] = 999\n",
    "print(alist)```\n",
    "```\n",
    "(A) [4, 2, 8, 999, 5, 4, 2, 8, 6, 5]\n",
    "(B) [4, 2, 8, 999, 5]\n",
    "(C) [4, 2, 8, 6, 5]\n",
    "```"
   ]
  },
  {
   "cell_type": "markdown",
   "metadata": {},
   "source": [
    "```\n",
    "What is printed by the following statements?```\n",
    "```python\n",
    "alist = [4, 2, 8, 6, 5]\n",
    "blist = [alist] * 2\n",
    "alist[3] = 999\n",
    "print(blist)```\n",
    "```\n",
    "(A) [4, 2, 8, 999, 5, 4, 2, 8, 999, 5]\n",
    "(B) [[4, 2, 8, 999, 5], [4, 2, 8, 999, 5]]\n",
    "(C) [4, 2, 8, 6, 5]\n",
    "(D) [[4, 2, 8, 999, 5], [4, 2, 8, 6, 5]]\n",
    "```"
   ]
  },
  {
   "cell_type": "markdown",
   "metadata": {},
   "source": [
    "## List methods"
   ]
  },
  {
   "cell_type": "code",
   "execution_count": null,
   "metadata": {
    "collapsed": false
   },
   "outputs": [],
   "source": [
    "mylist = []\n",
    "mylist.append(5)\n",
    "mylist.append(27)\n",
    "mylist.append(3)\n",
    "mylist.append(12)\n",
    "print(mylist)"
   ]
  },
  {
   "cell_type": "code",
   "execution_count": null,
   "metadata": {
    "collapsed": false
   },
   "outputs": [],
   "source": [
    "print(mylist)\n",
    "mylist.insert(1, 12)\n",
    "print(mylist)\n",
    "print(mylist.count(12))\n",
    "\n",
    "print(mylist.index(3))\n",
    "print(mylist.count(5))"
   ]
  },
  {
   "cell_type": "code",
   "execution_count": null,
   "metadata": {
    "collapsed": false
   },
   "outputs": [],
   "source": [
    "print(mylist)\n",
    "\n",
    "mylist.reverse()\n",
    "print(mylist)\n",
    "\n",
    "mylist.sort()\n",
    "print(mylist)\n",
    "\n",
    "mylist.sort(reverse=True)\n",
    "print(mylist)"
   ]
  },
  {
   "cell_type": "code",
   "execution_count": null,
   "metadata": {
    "collapsed": false
   },
   "outputs": [],
   "source": [
    "print(mylist)\n",
    "\n",
    "mylist.remove(5)\n",
    "print(mylist)\n",
    "\n",
    "lastitem = mylist.pop()\n",
    "print(lastitem)\n",
    "mylist.pop(1)\n",
    "print(mylist)"
   ]
  },
  {
   "cell_type": "markdown",
   "metadata": {},
   "source": [
    "<div class=\"alert alert-info\">\n",
    "**Note**:<br>\n",
    "\n",
    "methods like append, sort, and reverse all return None.\n",
    "</div>"
   ]
  },
  {
   "cell_type": "code",
   "execution_count": null,
   "metadata": {
    "collapsed": false
   },
   "outputs": [],
   "source": [
    "mylist = []\n",
    "mylist.append(5)\n",
    "mylist.append(27)\n",
    "mylist.append(3)\n",
    "mylist.append(12)\n",
    "print(mylist)\n",
    "\n",
    "mylist = mylist.sort()   #probably an error\n",
    "print(mylist)"
   ]
  },
  {
   "cell_type": "markdown",
   "metadata": {},
   "source": [
    "** Exercise **\n",
    "```\n",
    "1. What is printed by the following statements?```\n",
    "```python\n",
    "alist = [4, 2, 8, 6, 5]\n",
    "alist.append(True)\n",
    "alist.append(False)\n",
    "print(alist)```\n",
    "```\n",
    "(A) [4, 2, 8, 6, 5, False, True]\n",
    "(B) [4, 2, 8, 6, 5, True, False]\n",
    "(C) [True, False, 4, 2, 8, 6, 5]\n",
    "```"
   ]
  },
  {
   "cell_type": "markdown",
   "metadata": {},
   "source": [
    "```\n",
    "2. What is printed by the following statements?```\n",
    "```python\n",
    "alist = [4, 2, 8, 6, 5]\n",
    "alist.insert(2, True)\n",
    "alist.insert(0, False)\n",
    "print(alist)```\n",
    "```\n",
    "(A) [False, 4, 2, True, 8, 6, 5]\n",
    "(B) [4, False, True, 2, 8, 6, 5]\n",
    "(C) [False, 2, True, 6, 5]\n",
    "```"
   ]
  },
  {
   "cell_type": "markdown",
   "metadata": {},
   "source": [
    "```\n",
    "3. What is printed by the following statements?```\n",
    "```python\n",
    "alist = [4, 2, 8, 6, 5]\n",
    "temp = alist.pop(2)\n",
    "temp = alist.pop()\n",
    "print(alist)```\n",
    "```\n",
    "(A) [4, 8, 6]\n",
    "(B) [2, 6, 5]\n",
    "(C) [4, 2, 6]\n",
    "```"
   ]
  },
  {
   "cell_type": "markdown",
   "metadata": {},
   "source": [
    "```4. What is printed by the following statements?```\n",
    "```python\n",
    "alist = [4, 2, 8, 6, 5]\n",
    "alist = alist.pop(0)\n",
    "print(alist)```\n",
    "```\n",
    "(A) [2, 8, 6, 5]\n",
    "(B) [4, 2, 8, 6, 5]\n",
    "(C) 4\n",
    "(D) None\n",
    "```"
   ]
  },
  {
   "cell_type": "markdown",
   "metadata": {},
   "source": [
    "## Append versus Concatenate"
   ]
  },
  {
   "cell_type": "code",
   "execution_count": null,
   "metadata": {
    "collapsed": false
   },
   "outputs": [],
   "source": [
    "from IPython.display import IFrame\n",
    "IFrame(\"http://pythontutor.com/iframe-embed.html#code=origlist%20%3D%20%5B45,%2032,%2088%5D%0A%0Aoriglist.append(%22cat%22%29&codeDivHeight=400&codeDivWidth=350&cumulative=false&curInstr=0&heapPrimitives=false&origin=opt-frontend.js&py=3&rawInputLstJSON=%5B%5D&textReferences=false\", width='100%', height=450)"
   ]
  },
  {
   "cell_type": "code",
   "execution_count": null,
   "metadata": {
    "collapsed": false
   },
   "outputs": [],
   "source": [
    "origlist = [45, 32, 88]\n",
    "\n",
    "origlist = origlist + ['cat']   "
   ]
  },
  {
   "cell_type": "code",
   "execution_count": null,
   "metadata": {
    "collapsed": true
   },
   "outputs": [],
   "source": [
    "origlist = [45, 32, 88]\n",
    "\n",
    "origlist = origlist + 'cat'     "
   ]
  },
  {
   "cell_type": "code",
   "execution_count": null,
   "metadata": {
    "collapsed": true
   },
   "outputs": [],
   "source": [
    "origlist = [45, 32, 88]\n",
    "\n",
    "origlist = origlist + list('cat') "
   ]
  },
  {
   "cell_type": "markdown",
   "metadata": {},
   "source": [
    "** Exercise **\n",
    "```\n",
    "What is printed by the following statements?```\n",
    "```python\n",
    "alist = [4, 2, 8, 6, 5]\n",
    "alist = alist + 999\n",
    "print(alist)```\n",
    "```\n",
    "(A) [4, 2, 8, 6, 5, 999]\n",
    "(B) Error, you cannot concatenate a list with an integer.\n",
    "```"
   ]
  },
  {
   "cell_type": "markdown",
   "metadata": {},
   "source": [
    "## Lists and for loops"
   ]
  },
  {
   "cell_type": "code",
   "execution_count": null,
   "metadata": {
    "collapsed": false
   },
   "outputs": [],
   "source": [
    "fruits = [\"apple\", \"orange\", \"banana\", \"cherry\"]\n",
    "\n",
    "for afruit in fruits:     # by item\n",
    "    print(afruit)"
   ]
  },
  {
   "cell_type": "code",
   "execution_count": null,
   "metadata": {
    "collapsed": false
   },
   "outputs": [],
   "source": [
    "fruits = [\"apple\", \"orange\", \"banana\", \"cherry\"]\n",
    "\n",
    "for position in range(len(fruits)):     # by index\n",
    "    print(fruits[position])"
   ]
  },
  {
   "cell_type": "code",
   "execution_count": null,
   "metadata": {
    "collapsed": false
   },
   "outputs": [],
   "source": [
    "for number in range(20):\n",
    "    if number % 3 == 0:\n",
    "        print(number)"
   ]
  },
  {
   "cell_type": "code",
   "execution_count": null,
   "metadata": {
    "collapsed": false
   },
   "outputs": [],
   "source": [
    "numbers = [1, 2, 3, 4, 5]\n",
    "print(numbers)\n",
    "\n",
    "for i in range(len(numbers)):\n",
    "    numbers[i] = numbers[i] ** 2\n",
    "\n",
    "print(numbers)"
   ]
  },
  {
   "cell_type": "markdown",
   "metadata": {},
   "source": [
    "Sometimes we are interested in both the value of an item, (we want to square that value), and its index (so that we can assign the new value to that position). \n",
    "\n",
    "This pattern is common enough that Python provides a nicer way to implement it: **enumerate(list)**\n",
    "\n",
    "**enumerate** generates pairs of both (index, value) during the list traversal"
   ]
  },
  {
   "cell_type": "code",
   "execution_count": null,
   "metadata": {
    "collapsed": false
   },
   "outputs": [],
   "source": [
    "numbers = [1, 2, 3, 4, 5]\n",
    "\n",
    "for (i, val) in enumerate(numbers):\n",
    "    numbers[i] = val**2\n",
    "print(numbers)"
   ]
  },
  {
   "cell_type": "code",
   "execution_count": null,
   "metadata": {
    "collapsed": true
   },
   "outputs": [],
   "source": [
    "for (i, v) in enumerate([\"banana\", \"apple\", \"pear\", \"lemon\"]):\n",
    "     print(i, v)"
   ]
  },
  {
   "cell_type": "markdown",
   "metadata": {},
   "source": [
    "```What is printed by the following statements?```\n",
    "```python\n",
    "alist = [4, 2, 8, 6, 5]\n",
    "blist = [ ]\n",
    "for item in alist:\n",
    "    blist.append(item+5)\n",
    "print(blist)```\n",
    "```\n",
    "(A) [4, 2, 8, 6, 5]\n",
    "(B) [4, 2, 8, 6, 5, 5]\n",
    "(C) [9, 7, 13, 11, 10]\n",
    "(D) Error, you cannot concatenate inside an append.\n",
    "```"
   ]
  },
  {
   "cell_type": "markdown",
   "metadata": {},
   "source": [
    "## `list` and `range`"
   ]
  },
  {
   "cell_type": "code",
   "execution_count": null,
   "metadata": {
    "collapsed": false
   },
   "outputs": [],
   "source": [
    "xs = list(\"Crunchy Frog\")\n",
    "print(xs)\n",
    "\"\".join(xs)"
   ]
  },
  {
   "cell_type": "markdown",
   "metadata": {},
   "source": [
    "- One particular feature of `range` is that it doesn’t instantly compute all its values: it “puts off” the computation, and does it on demand, or “lazily”. \n",
    "\n",
    "- We’ll say that it gives a promise to produce the values when they are needed. \n",
    "\n",
    "- This is very convenient if your computation short-circuits a search and returns early"
   ]
  },
  {
   "cell_type": "code",
   "execution_count": null,
   "metadata": {
    "collapsed": true
   },
   "outputs": [],
   "source": [
    "def f(n):\n",
    "    \"\"\" Find the first positive integer between 101 and less\n",
    "        than n that is divisible by 21\n",
    "    \"\"\"\n",
    "    for i in range(101, n):\n",
    "       if (i % 21 == 0):\n",
    "           return i\n",
    "\n",
    "\n",
    "test(f(110) == 105)\n",
    "test(f(1000000000) == 105)"
   ]
  },
  {
   "cell_type": "code",
   "execution_count": null,
   "metadata": {
    "collapsed": false
   },
   "outputs": [],
   "source": [
    "r = range(10)           # Create a lazy promise\n",
    "print(r)\n",
    "\n",
    "r = list(range(10))\n",
    "print(r)"
   ]
  },
  {
   "cell_type": "markdown",
   "metadata": {},
   "source": [
    "## Using Lists as Parameters\n",
    "\n",
    "Functions which take lists as arguments and change them during execution are called **modifiers** and the changes they make are called **side effects**. \n",
    "\n",
    "Passing a list as an argument actually passes **a reference** to the list, not a copy of the list."
   ]
  },
  {
   "cell_type": "code",
   "execution_count": null,
   "metadata": {
    "collapsed": false
   },
   "outputs": [],
   "source": [
    "def doubleStuff(aList):\n",
    "    \"\"\" Overwrite each element in aList with double its value. \"\"\"\n",
    "    for position in range(len(aList)):\n",
    "        aList[position] = 2 * aList[position]\n",
    "\n",
    "things = [2, 5, 9]\n",
    "print(things)\n",
    "doubleStuff(things)\n",
    "print(things)"
   ]
  },
  {
   "cell_type": "markdown",
   "metadata": {},
   "source": [
    "<img src=\"http://sei.pku.edu.cn/~caodg/course/ic/notebooks/images/refrep2.png\">"
   ]
  },
  {
   "cell_type": "code",
   "execution_count": null,
   "metadata": {
    "collapsed": false
   },
   "outputs": [],
   "source": [
    "from IPython.display import IFrame\n",
    "IFrame(\"http://pythontutor.com/iframe-embed.html#code=def%20doubleStuff(aList%29%3A%0A%20%20%20%20%22%22%22%20Overwrite%20each%20element%20in%20aList%20with%20double%20its%20value.%20%22%22%22%0A%20%20%20%20for%20position%20in%20range(len(aList%29%29%3A%0A%20%20%20%20%20%20%20%20aList%5Bposition%5D%20%3D%202%20*%20aList%5Bposition%5D%0A%0Athings%20%3D%20%5B2,%205,%209%5D%0A%0AdoubleStuff(things%29&codeDivHeight=400&codeDivWidth=350&cumulative=false&curInstr=0&heapPrimitives=false&origin=opt-frontend.js&py=3&rawInputLstJSON=%5B%5D&textReferences=false\", width='100%', height=450)"
   ]
  },
  {
   "cell_type": "markdown",
   "metadata": {},
   "source": [
    "## Pure Functions\n",
    "\n",
    "A **pure function** does not produce side effects. \n",
    "\n",
    "It communicates with the calling program only through parameters (which it does not modify) and a return value."
   ]
  },
  {
   "cell_type": "code",
   "execution_count": null,
   "metadata": {
    "collapsed": false
   },
   "outputs": [],
   "source": [
    "def doubleStuff(a_list):\n",
    "    \"\"\" Return a new list in which contains doubles of the elements in a_list. \"\"\"\n",
    "    new_list = []\n",
    "    for value in a_list:\n",
    "        new_elem = 2 * value\n",
    "        new_list.append(new_elem)\n",
    "    return new_list\n",
    "\n",
    "things = [2, 5, 9]\n",
    "print(things)\n",
    "things = doubleStuff(things)\n",
    "print(things)"
   ]
  },
  {
   "cell_type": "code",
   "execution_count": null,
   "metadata": {
    "collapsed": false,
    "scrolled": true
   },
   "outputs": [],
   "source": [
    "from IPython.display import IFrame\n",
    "IFrame(\"http://pythontutor.com/iframe-embed.html#code=def%20doubleStuff(a_list%29%3A%0A%20%20%20%20%22%22%22%20Return%20a%20new%20list%20in%20which%20contains%20doubles%20of%20the%20elements%20in%20a_list.%20%22%22%22%0A%20%20%20%20new_list%20%3D%20%5B%5D%0A%20%20%20%20for%20value%20in%20a_list%3A%0A%20%20%20%20%20%20%20%20new_elem%20%3D%202%20*%20value%0A%20%20%20%20%20%20%20%20new_list.append(new_elem%29%0A%20%20%20%20return%20new_list%0A%0Athings%20%3D%20%5B2,%205,%209%5D%0Athings%20%3D%20doubleStuff(things%29&codeDivHeight=400&codeDivWidth=350&cumulative=false&curInstr=0&heapPrimitives=false&origin=opt-frontend.js&py=3&rawInputLstJSON=%5B%5D&textReferences=false\", width='100%', height=450)"
   ]
  },
  {
   "cell_type": "markdown",
   "metadata": {},
   "source": [
    "## Which is Better?\n",
    "\n",
    "- Anything that can be done with modifiers can also be done with pure functions. \n",
    "\n",
    "- There is some evidence that programs that use pure functions are faster to develop and less error-prone than programs that use modifiers. \n",
    "\n",
    "- In general, we recommend that you write pure functions whenever it is reasonable to do so. This approach might be called a **functional programming style**."
   ]
  },
  {
   "cell_type": "markdown",
   "metadata": {},
   "source": [
    "## Functions that Produce Lists"
   ]
  },
  {
   "cell_type": "markdown",
   "metadata": {},
   "source": [
    "**Pattern:**\n",
    "\n",
    "```python\n",
    "initialize a result variable to be an empty list\n",
    "loop\n",
    "   create a new element\n",
    "   append it to result\n",
    "return the result\n",
    "```"
   ]
  },
  {
   "cell_type": "code",
   "execution_count": null,
   "metadata": {
    "collapsed": true
   },
   "outputs": [],
   "source": [
    "def primes_upto(n):\n",
    "    \"\"\" Return a list of all prime numbers less than n. \"\"\"\n",
    "    result = []\n",
    "    for i in range(2, n):\n",
    "        if is_prime(i):\n",
    "            result.append(i)\n",
    "    return result"
   ]
  },
  {
   "cell_type": "markdown",
   "metadata": {},
   "source": [
    "## List Comprehensions\n",
    "\n",
    " List comprehensions are concise ways to create lists. \n",
    " \n",
    " The general syntax is:\n",
    "\n",
    "```[<expression> for <item> in <sequence> if  <condition>]```"
   ]
  },
  {
   "cell_type": "code",
   "execution_count": null,
   "metadata": {
    "collapsed": false
   },
   "outputs": [],
   "source": [
    "mylist = [1,2,3,4,5]\n",
    "\n",
    "yourlist = [item ** 2 for item in mylist]\n",
    "\n",
    "print(yourlist)"
   ]
  },
  {
   "cell_type": "code",
   "execution_count": null,
   "metadata": {
    "collapsed": true
   },
   "outputs": [],
   "source": [
    "def primes_upto(n):\n",
    "    \"\"\" Return a list of all prime numbers less than n using a list comprehension. \"\"\"\n",
    "\n",
    "    result = [num for num in range(2,n) if is_prime(num)]\n",
    "    return result"
   ]
  },
  {
   "cell_type": "markdown",
   "metadata": {},
   "source": [
    "** Exercise **\n",
    "```\n",
    "What is printed by the following statements?```\n",
    "```python\n",
    "alist = [4,2,8,6,5]\n",
    "blist = [num*2 for num in alist if num%2==1]\n",
    "print(blist)```\n",
    "```\n",
    "(A) [4,2,8,6,5]\n",
    "(B) [8,4,16,12,10]\n",
    "(C) 10\n",
    "(D) [10].\n",
    "```"
   ]
  },
  {
   "cell_type": "markdown",
   "metadata": {},
   "source": [
    "## Nested Lists"
   ]
  },
  {
   "cell_type": "code",
   "execution_count": null,
   "metadata": {
    "collapsed": false
   },
   "outputs": [],
   "source": [
    "nested = [\"hello\", 2.0, 5, [10, 20]]\n",
    "innerlist = nested[3]\n",
    "print(innerlist)\n",
    "item = innerlist[1]\n",
    "print(item)\n",
    "\n",
    "print(nested[3][1])"
   ]
  },
  {
   "cell_type": "markdown",
   "metadata": {},
   "source": [
    "** Exercise **\n",
    "```\n",
    "What is printed by the following statements?```\n",
    "```python\n",
    "alist = [ [4, [True, False], 6, 8], [888, 999] ]\n",
    "if alist[0][1][0]:\n",
    "   print(alist[1][0])\n",
    "else:\n",
    "   print(alist[1][1])```\n",
    "```\n",
    "(A) 6\n",
    "(B) 8\n",
    "(C) 888\n",
    "(D) 999\n",
    "```"
   ]
  },
  {
   "cell_type": "markdown",
   "metadata": {},
   "source": [
    "## Strings and Lists\n",
    "\n",
    "The **split** method breaks a string into a list of words. By default, any number of **whitespace** characters is considered a word boundary."
   ]
  },
  {
   "cell_type": "code",
   "execution_count": null,
   "metadata": {
    "collapsed": false
   },
   "outputs": [],
   "source": [
    "song = \"The rain in Spain...\"\n",
    "wds = song.split()\n",
    "print(wds)"
   ]
  },
  {
   "cell_type": "code",
   "execution_count": null,
   "metadata": {
    "collapsed": false
   },
   "outputs": [],
   "source": [
    "# An optional argument called a delimiter can be used \n",
    "# to specify which characters to use as word boundaries.\n",
    "song = \"The rain in Spain...\"\n",
    "wds = song.split('ai')\n",
    "print(wds)"
   ]
  },
  {
   "cell_type": "markdown",
   "metadata": {},
   "source": [
    "** join **\n",
    "\n",
    "The inverse of the **split** method is **join**. \n",
    "\n",
    "You choose a desired **separator string**, (often called the glue) and join the list with the glue between each of the elements."
   ]
  },
  {
   "cell_type": "code",
   "execution_count": null,
   "metadata": {
    "collapsed": false
   },
   "outputs": [],
   "source": [
    "wds = [\"red\", \"blue\", \"green\"]\n",
    "glue = ';'\n",
    "s = glue.join(wds)\n",
    "print(s)\n",
    "print(wds)\n",
    "\n",
    "print(\"***\".join(wds))\n",
    "print(\"\".join(wds))"
   ]
  },
  {
   "cell_type": "markdown",
   "metadata": {},
   "source": [
    "** Exercise **\n",
    "```\n",
    "What is printed by the following statements?```\n",
    "```python\n",
    "myname = \"Edgar Allan Poe\"\n",
    "namelist = myname.split()\n",
    "init = \"\"\n",
    "for aname in namelist:\n",
    "    init = init + aname[0]\n",
    "print(init)\n",
    "```"
   ]
  },
  {
   "cell_type": "markdown",
   "metadata": {},
   "source": [
    "## `list` Type Conversion Function\n",
    "\n",
    "Whereas `split` will break a string into a list of “words”, `list` will always break it into a list of characters."
   ]
  },
  {
   "cell_type": "code",
   "execution_count": null,
   "metadata": {
    "collapsed": false
   },
   "outputs": [],
   "source": [
    "xs = list(\"Crunchy Frog\")\n",
    "print(xs)"
   ]
  },
  {
   "cell_type": "markdown",
   "metadata": {},
   "source": [
    "## Tuples and Mutability\n",
    "\n",
    "A **tuple**, like a list, is a sequence of items of any type. \n",
    "\n",
    "Unlike lists, however, **tuples are immutable**. \n",
    "\n",
    "Syntactically, a tuple is a comma-separated sequence of values. \n",
    "\n",
    "It is conventional to enclose tuples in parentheses."
   ]
  },
  {
   "cell_type": "code",
   "execution_count": null,
   "metadata": {
    "collapsed": false
   },
   "outputs": [],
   "source": [
    "julia = (\"Julia\", \"Roberts\", 1967, \"Duplicity\", 2009, \"Actress\", \"Atlanta, Georgia\")\n",
    "\n",
    "print(type(julia))\n",
    "\n",
    "print(julia)"
   ]
  },
  {
   "cell_type": "markdown",
   "metadata": {},
   "source": [
    "- Tuples are useful for representing what other languages often call **records** — some related information that belongs together, like your student record. \n",
    "\n",
    "- A tuple lets us “chunk” together related information and use it as a single thing.\n",
    "\n",
    "- Tuples support the same sequence operations as strings and lists."
   ]
  },
  {
   "cell_type": "code",
   "execution_count": null,
   "metadata": {
    "collapsed": false
   },
   "outputs": [],
   "source": [
    "julia = (\"Julia\", \"Roberts\", 1967, \"Duplicity\", 2009, \"Actress\", \"Atlanta, Georgia\")\n",
    "julia[0] = 'X'"
   ]
  },
  {
   "cell_type": "code",
   "execution_count": null,
   "metadata": {
    "collapsed": false
   },
   "outputs": [],
   "source": [
    "julia = (\"Julia\", \"Roberts\", 1967, \"Duplicity\", 2009, \"Actress\", \"Atlanta, Georgia\")\n",
    "print(julia[2])\n",
    "print(julia[2:6])\n",
    "\n",
    "print(len(julia))\n",
    "\n",
    "julia = julia[:3] + (\"Eat Pray Love\", 2010) + julia[5:]\n",
    "print(julia)"
   ]
  },
  {
   "cell_type": "code",
   "execution_count": null,
   "metadata": {
    "collapsed": false
   },
   "outputs": [],
   "source": [
    "tup = (5,)\n",
    "print(type(tup))\n",
    "\n",
    "x = (5)\n",
    "print(type(x))"
   ]
  },
  {
   "cell_type": "markdown",
   "metadata": {},
   "source": [
    "** Count how many students are taking CompSci **\n",
    "\n",
    "```python\n",
    "students = [\n",
    "    (\"John\", [\"CompSci\", \"Physics\"]),\n",
    "    (\"Vusi\", [\"Maths\", \"CompSci\", \"Stats\"]),\n",
    "    (\"Jess\", [\"CompSci\", \"Accounting\", \"Economics\", \"Management\"]),\n",
    "    (\"Sarah\", [\"InfSys\", \"Accounting\", \"Economics\", \"CommLaw\"]),\n",
    "    (\"Zuki\", [\"Sociology\", \"Economics\", \"Law\", \"Stats\", \"Music\"])]\n",
    "```"
   ]
  },
  {
   "cell_type": "code",
   "execution_count": null,
   "metadata": {
    "collapsed": true
   },
   "outputs": [],
   "source": [
    "students = [\n",
    "    (\"John\", [\"CompSci\", \"Physics\"]),\n",
    "    (\"Vusi\", [\"Maths\", \"CompSci\", \"Stats\"]),\n",
    "    (\"Jess\", [\"CompSci\", \"Accounting\", \"Economics\", \"Management\"]),\n",
    "    (\"Sarah\", [\"InfSys\", \"Accounting\", \"Economics\", \"CommLaw\"]),\n",
    "    (\"Zuki\", [\"Sociology\", \"Economics\", \"Law\", \"Stats\", \"Music\"])]\n",
    "\n",
    "# Count how many students are taking CompSci\n",
    "counter = 0\n",
    "for (name, subjects) in students:\n",
    "    if \"CompSci\" in subjects:\n",
    "           counter += 1\n",
    "\n",
    "print(\"The number of students taking CompSci is\", counter)"
   ]
  },
  {
   "cell_type": "markdown",
   "metadata": {},
   "source": [
    "## Tuple Assignment\n",
    "\n",
    "```python\n",
    "(name, surname, birth_year, movie, movie_year, profession, birth_place) = julia\n",
    "```"
   ]
  },
  {
   "cell_type": "markdown",
   "metadata": {},
   "source": [
    "** swap the values of two variables **\n",
    "\n",
    "conventional:\n",
    "\n",
    "```python\n",
    "temp = a\n",
    "a = b\n",
    "b = temp\n",
    "```\n",
    "\n",
    "tuple assignment:\n",
    "\n",
    "```python\n",
    "(a, b) = (b, a)\n",
    "```"
   ]
  },
  {
   "cell_type": "code",
   "execution_count": null,
   "metadata": {
    "collapsed": false
   },
   "outputs": [],
   "source": [
    "a, b = 10, 20\n",
    "print(a, b)\n",
    "a, b = b, a\n",
    "print(a,b)"
   ]
  },
  {
   "cell_type": "code",
   "execution_count": null,
   "metadata": {
    "collapsed": false
   },
   "outputs": [],
   "source": [
    "a, b = (10, 20)\n",
    "print(a, b)\n",
    "(a, b) = (b, a)\n",
    "print(a,b)"
   ]
  },
  {
   "cell_type": "code",
   "execution_count": null,
   "metadata": {
    "collapsed": false
   },
   "outputs": [],
   "source": [
    "(a, b, c, d) = (1, 2, 3)"
   ]
  },
  {
   "cell_type": "code",
   "execution_count": null,
   "metadata": {
    "collapsed": false
   },
   "outputs": [],
   "source": [
    "print((1,2,3) == (1,2,3,))"
   ]
  },
  {
   "cell_type": "markdown",
   "metadata": {},
   "source": [
    "## Tuples as Return Values"
   ]
  },
  {
   "cell_type": "code",
   "execution_count": 53,
   "metadata": {
    "collapsed": false
   },
   "outputs": [
    {
     "name": "stdout",
     "output_type": "stream",
     "text": [
      "(62.8318, 314.159)\n"
     ]
    }
   ],
   "source": [
    "def circleInfo(r):\n",
    "    \"\"\" Return (circumference, area) of a circle of radius r \"\"\"\n",
    "    c = 2 * 3.14159 * r\n",
    "    a = 3.14159 * r * r\n",
    "    return (c, a)\n",
    "\n",
    "print(circleInfo(10))"
   ]
  },
  {
   "cell_type": "code",
   "execution_count": null,
   "metadata": {
    "collapsed": false
   },
   "outputs": [],
   "source": [
    "c, a = circleInfo(20)\n",
    "print(c, a)"
   ]
  },
  {
   "cell_type": "markdown",
   "metadata": {},
   "source": [
    "## Glossary\n",
    "\n",
    "** aliases **\n",
    "\n",
    "Multiple variables that contain references to the same object.\n",
    "\n",
    "** clone **\n",
    "\n",
    "To create a new object that has the same value as an existing object. Copying a reference to an object creates an alias but doesn’t clone the object.\n",
    "\n",
    "** delimiter **\n",
    "\n",
    "A character or string used to indicate where a string should be split.\n",
    "\n",
    "** element **\n",
    "\n",
    "One of the values in a list (or other sequence). The bracket operator selects elements of a list.\n",
    "\n",
    "** index **\n",
    "\n",
    "An integer variable or value that indicates an element of a list.\n",
    "\n",
    "** list **\n",
    "\n",
    "A collection of objects, where each object is identified by an index. Like other types str, int, float, etc. there is also a list type-converter function that tries to turn its argument into a list.\n",
    "\n",
    "** list traversal **\n",
    "\n",
    "The sequential accessing of each element in a list.\n",
    "\n",
    "** modifier **\n",
    "\n",
    "A function which changes its arguments inside the function body. Only mutable types can be changed by modifiers.\n",
    "\n",
    "\n",
    "** mutable data type **\n",
    "\n",
    "A data type in which the elements can be modified. All mutable types are compound types. Lists are mutable data types; strings are not.\n",
    "\n",
    "** nested list **\n",
    "\n",
    "A list that is an element of another list.\n",
    "\n",
    "** object **\n",
    "\n",
    "A thing to which a variable can refer.\n",
    "\n",
    "** pattern **\n",
    "\n",
    "A sequence of statements, or a style of coding something that has general applicability in a number of different situations. Part of becoming a mature Computer Scientist is to learn and establish the patterns and algorithms that form your toolkit. Patterns often correspond to your “mental chunking”.\n",
    "\n",
    "** pure function **\n",
    "\n",
    "A function which has no side effects. Pure functions only make changes to the calling program through their return values.\n",
    "\n",
    "** sequence **\n",
    "\n",
    "Any of the data types that consist of an ordered collection of elements, with each element identified by an index.\n",
    "\n",
    "** side effect **\n",
    "\n",
    "A change in the state of a program made by calling a function that is not a result of reading the return value from the function. Side effects can only be produced by modifiers.\n",
    "\n",
    "** tuple **\n",
    "\n",
    "A sequential collection of items, similar to a list. Any python object can be an element of a tuple. However, unlike a list, tuples are immutable."
   ]
  },
  {
   "cell_type": "code",
   "execution_count": null,
   "metadata": {
    "collapsed": true
   },
   "outputs": [],
   "source": []
  }
 ],
 "metadata": {
  "anaconda-cloud": {},
  "kernelspec": {
   "display_name": "Python [default]",
   "language": "python",
   "name": "python3"
  },
  "language_info": {
   "codemirror_mode": {
    "name": "ipython",
    "version": 3
   },
   "file_extension": ".py",
   "mimetype": "text/x-python",
   "name": "python",
   "nbconvert_exporter": "python",
   "pygments_lexer": "ipython3",
   "version": "3.5.2"
  }
 },
 "nbformat": 4,
 "nbformat_minor": 1
}
