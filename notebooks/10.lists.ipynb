{
 "cells": [
  {
   "cell_type": "markdown",
   "metadata": {
    "nbpresent": {
     "id": "13b102d5-9617-411b-8a6a-d799c7855bfe"
    }
   },
   "source": [
    "# 10. Lists, Tuples, Sets"
   ]
  },
  {
   "cell_type": "markdown",
   "metadata": {
    "nbpresent": {
     "id": "538ccab9-6dde-4158-995c-a61ff283073e"
    }
   },
   "source": [
    "## Lists\n",
    "\n",
    "A list is a sequential collection of Python data values, where each value is identified by an index. \n",
    "\n",
    "The values that make up a list are called its elements. \n",
    "\n",
    "Lists are similar to strings, which are ordered collections of characters, except that the elements of a list can have **any type** and for any one list, the items can be of **different types**."
   ]
  },
  {
   "cell_type": "markdown",
   "metadata": {
    "nbpresent": {
     "id": "f1f5717a-8395-4998-a755-d6d7b681ec1d"
    }
   },
   "source": [
    "## List Values\n",
    "\n",
    "```python\n",
    "[10, 20, 30, 40]\n",
    "[\"spam\", \"bungee\", \"swallow\"]\n",
    "```"
   ]
  },
  {
   "cell_type": "markdown",
   "metadata": {
    "nbpresent": {
     "id": "a4e9aa52-1530-40cd-a603-289745a902a4"
    }
   },
   "source": [
    "** nested list, sub list **\n",
    "\n",
    "```python\n",
    "[\"hello\", 2.0, 5, [10, 20]]\n",
    "```\n",
    "\n",
    "** empty list **\n",
    "\n",
    "```python\n",
    "[]\n",
    "```"
   ]
  },
  {
   "cell_type": "code",
   "execution_count": null,
   "metadata": {
    "collapsed": false,
    "nbpresent": {
     "id": "4ecab223-a5d9-4419-8be7-a1e22e2f69a0"
    }
   },
   "outputs": [],
   "source": [
    "vocabulary = [\"iteration\", \"selection\", \"control\"]\n",
    "numbers = [17, 123]\n",
    "empty = []\n",
    "mixedlist = [\"hello\", 2.0, 5*2, [10, 20]]\n",
    "\n",
    "print(numbers)\n",
    "print(mixedlist)\n",
    "newlist = [ numbers, vocabulary ]\n",
    "print(newlist)"
   ]
  },
  {
   "cell_type": "markdown",
   "metadata": {
    "nbpresent": {
     "id": "258469d6-78a6-4b80-9606-94f7694cdfd5"
    }
   },
   "source": [
    "** Exercise **\n",
    "\n",
    "```\n",
    "A list can contain only integer items.\n",
    "(A) False\n",
    "(B) True\n",
    "```"
   ]
  },
  {
   "cell_type": "markdown",
   "metadata": {
    "nbpresent": {
     "id": "43f32b47-6317-4551-bc4d-5e0f96fea8e9"
    }
   },
   "source": [
    "## List length\n",
    "\n",
    "function `len` returns the length of a list"
   ]
  },
  {
   "cell_type": "code",
   "execution_count": null,
   "metadata": {
    "collapsed": false,
    "nbpresent": {
     "id": "6e5bbd63-06f2-422d-b202-445f520f735d"
    }
   },
   "outputs": [],
   "source": [
    "alist =  [\"hello\", 2.0, 5, [10, 20]]\n",
    "print(len(alist))\n",
    "print(len(['spam!', 1, ['Brie', 'Roquefort', \n",
    "                        'Pol le Veq'], [1, 2, 3]]))"
   ]
  },
  {
   "cell_type": "markdown",
   "metadata": {
    "nbpresent": {
     "id": "204c9232-2b82-4f6c-a38c-077412ffea06"
    }
   },
   "source": [
    "** Exercise **\n",
    "```\n",
    "1. What is printed by the following statements?```\n",
    "```python\n",
    "alist = [3, 67, \"cat\", 3.14, False]\n",
    "print(len(alist))```\n",
    "```\n",
    "(A) 4\n",
    "(B) 5\n",
    "```"
   ]
  },
  {
   "cell_type": "markdown",
   "metadata": {
    "nbpresent": {
     "id": "10ab60d8-3c1a-44a5-b7c0-7c6dd79e0f10"
    }
   },
   "source": [
    "```\n",
    "2. What is printed by the following statements?```\n",
    "```python\n",
    "alist = [3, 67, \"cat\", [56, 57, \"dog\"], [ ], 3.14, False]\n",
    "print(len(alist))```\n",
    "```\n",
    "(A) 7\n",
    "(B) 8\n",
    "```"
   ]
  },
  {
   "cell_type": "markdown",
   "metadata": {
    "nbpresent": {
     "id": "01edaa82-33ea-486b-ac8c-611f245208cb"
    }
   },
   "source": [
    "## Accessing Elements"
   ]
  },
  {
   "cell_type": "code",
   "execution_count": null,
   "metadata": {
    "collapsed": false,
    "nbpresent": {
     "id": "39f03e93-7507-423b-8bfb-8f4ed94cb272"
    }
   },
   "outputs": [],
   "source": [
    "numbers = [17, 123, 87, 34, 66, 8398, 44]\n",
    "print(numbers[2])\n",
    "print(numbers[9 - 8])\n",
    "print(numbers[-2])\n",
    "print(numbers[len(numbers) - 1])"
   ]
  },
  {
   "cell_type": "markdown",
   "metadata": {
    "nbpresent": {
     "id": "0fed71c6-2a8c-4e1b-99b1-4fef58e859af"
    }
   },
   "source": [
    "** Exercise **\n",
    "\n",
    "```\n",
    "1. What is printed by the following statements?```\n",
    "```python\n",
    "alist = [3, 67, \"cat\", [56, 57, \"dog\"], [ ], 3.14, False]\n",
    "print(alist[5])```\n",
    "```\n",
    "(A) [ ]\n",
    "(B) 3.14\n",
    "(C) False\n",
    "```"
   ]
  },
  {
   "cell_type": "markdown",
   "metadata": {
    "nbpresent": {
     "id": "74aa5d46-90d8-4fcd-8e72-fa92c4d39c29"
    }
   },
   "source": [
    "```2. What is printed by the following statements?```\n",
    "```python\n",
    "alist = [3, 67, \"cat\", [56, 57, \"dog\"], [ ], 3.14, False]\n",
    "print(alist[2].upper())```\n",
    "```\n",
    "(A) Error, you cannot use the upper method on a list.\n",
    "(B) 2\n",
    "(C) CAT\n",
    "```"
   ]
  },
  {
   "cell_type": "markdown",
   "metadata": {
    "nbpresent": {
     "id": "e92bc700-9e61-4542-b794-1b3b656d8d6e"
    }
   },
   "source": [
    "```\n",
    "3. What is printed by the following statements?```\n",
    "```python\n",
    "alist = [3, 67, \"cat\", [56, 57, \"dog\"], [ ], 3.14, False]\n",
    "print(alist[2][0])```\n",
    "```\n",
    "(A) 56\n",
    "(B) c\n",
    "(C) cat\n",
    "(D) Error, you cannot have two index values unless you are using slicing.\n",
    "```"
   ]
  },
  {
   "cell_type": "markdown",
   "metadata": {
    "nbpresent": {
     "id": "6d3d141f-7027-417b-90fb-0b3a05b98350"
    }
   },
   "source": [
    "## List Membership\n",
    "\n",
    "**in** and **not in** are boolean operators that test membership in a sequence. "
   ]
  },
  {
   "cell_type": "code",
   "execution_count": null,
   "metadata": {
    "collapsed": false,
    "nbpresent": {
     "id": "8b4c0225-e901-4c7c-be78-664bb332b9e4"
    }
   },
   "outputs": [],
   "source": [
    "fruit = [\"apple\", \"orange\", \"banana\", \"cherry\"]\n",
    "\n",
    "print(\"apple\" in fruit)\n",
    "print(\"pear\" in fruit)\n",
    "print(\"pear\" not in fruit)"
   ]
  },
  {
   "cell_type": "markdown",
   "metadata": {
    "nbpresent": {
     "id": "c3c76163-8ae6-4aa3-a837-7f88c3f56c45"
    }
   },
   "source": [
    "** Exercise **\n",
    "\n",
    "```1. What is printed by the following statements?```\n",
    "```python\n",
    "alist = [3, 67, \"cat\", [56, 57, \"dog\"], [ ], 3.14, False]\n",
    "print(3.14 in alist)```\n",
    "```\n",
    "(A) True\n",
    "(B) False\n",
    "```"
   ]
  },
  {
   "cell_type": "markdown",
   "metadata": {
    "nbpresent": {
     "id": "2384139b-0855-40c6-a608-cc44758fe2e1"
    }
   },
   "source": [
    "```2. What is printed by the following statements?```\n",
    "```python\n",
    "alist = [3, 67, \"cat\", [56, 57, \"dog\"], [ ], 3.14, False]\n",
    "print(57 in alist)```\n",
    "```\n",
    "(A) True\n",
    "(B) False\n",
    "```"
   ]
  },
  {
   "cell_type": "markdown",
   "metadata": {
    "nbpresent": {
     "id": "f6d52cc2-cc7c-46ec-b660-7b5702698a1e"
    }
   },
   "source": [
    "## Concatenation and Repetition\n",
    "\n",
    "As with strings, \n",
    "\n",
    "- `+` operator: concatenates lists. \n",
    "\n",
    "- `*` operator: repeats the items in a list a given number of times\n",
    "\n",
    "\n",
    "<div class=\"alert alert-danger\">\n",
    "these operators create new lists from the elements of the operand lists.\n",
    "</div>"
   ]
  },
  {
   "cell_type": "code",
   "execution_count": null,
   "metadata": {
    "collapsed": false,
    "nbpresent": {
     "id": "e75cd689-27c1-4c82-b779-1b5f7fb96450"
    }
   },
   "outputs": [],
   "source": [
    "fruit = [\"apple\", \"orange\", \"banana\", \"cherry\"]\n",
    "print([1, 2] + [3, 4])\n",
    "print(fruit + [6, 7, 8, 9])\n",
    "\n",
    "print([0] * 4)\n",
    "print([1, 2, [\"hello\", \"goodbye\"]] * 2)"
   ]
  },
  {
   "cell_type": "code",
   "execution_count": null,
   "metadata": {
    "collapsed": true
   },
   "outputs": [],
   "source": []
  },
  {
   "cell_type": "code",
   "execution_count": null,
   "metadata": {
    "collapsed": false,
    "nbpresent": {
     "id": "f8a3aac4-a587-4efa-9ff9-7f6533a5ff25"
    }
   },
   "outputs": [],
   "source": [
    "from IPython.display import IFrame\n",
    "IFrame(\"http://pythontutor.com/iframe-embed.html#code=fruit%20%3D%20%5B%22apple%22,%20%22orange%22,%20%22banana%22,%20%22cherry%22%5D%0Anumlist%20%3D%20%5B6,%207%5D%0A%0Anewlist%20%3D%20fruit%20%2B%20numlist%0A%0Azeros%20%3D%20%5B0%5D%20*%204&codeDivHeight=400&codeDivWidth=350&cumulative=false&curInstr=0&heapPrimitives=false&origin=opt-frontend.js&py=3&rawInputLstJSON=%5B%5D&textReferences=false\", width='100%', height=450)"
   ]
  },
  {
   "cell_type": "markdown",
   "metadata": {
    "nbpresent": {
     "id": "02de5c5f-4186-4836-9174-467e862069fe"
    }
   },
   "source": [
    "** Exercise **\n",
    "\n",
    "```\n",
    "1. What is printed by the following statements?```\n",
    "```python\n",
    "alist = [1, 3, 5]\n",
    "blist = [2, 4, 6]\n",
    "print(alist + blist)```\n",
    "```\n",
    "(A) 6\n",
    "(B) [1, 2, 3, 4, 5, 6]\n",
    "(C) [1, 3, 5, 2, 4, 6]\n",
    "(D) [3, 7, 11]\n",
    "```"
   ]
  },
  {
   "cell_type": "markdown",
   "metadata": {
    "nbpresent": {
     "id": "01f14dc6-cc36-431b-a59d-9846ea410f5d"
    }
   },
   "source": [
    "```\n",
    "2. What is printed by the following statements?```\n",
    "```python\n",
    "alist = [1, 3, 5]\n",
    "print(alist * 3)```\n",
    "```\n",
    "(A) 9\n",
    "(B) [1, 1, 1, 3, 3, 3, 5, 5, 5]\n",
    "(C) [1, 3, 5, 1, 3, 5, 1, 3, 5]\n",
    "(D) [3, 9, 15]\n",
    "```"
   ]
  },
  {
   "cell_type": "markdown",
   "metadata": {
    "nbpresent": {
     "id": "3b20444f-6a18-457c-a794-cf1d459413c9"
    }
   },
   "source": [
    "## List Slices"
   ]
  },
  {
   "cell_type": "code",
   "execution_count": null,
   "metadata": {
    "collapsed": false,
    "nbpresent": {
     "id": "9ab95e39-6f51-45cb-8257-8a85b5c0e92a"
    }
   },
   "outputs": [],
   "source": [
    "a_list = ['a', 'b', 'c', 'd', 'e', 'f']\n",
    "print(a_list[1:3])\n",
    "print(a_list[:4])\n",
    "print(a_list[3:])\n",
    "print(a_list[:])"
   ]
  },
  {
   "cell_type": "markdown",
   "metadata": {
    "nbpresent": {
     "id": "27915ff8-698c-41d7-99ee-1242e98e4586"
    }
   },
   "source": [
    "** Exercise **\n",
    "```\n",
    "What is printed by the following statements?```\n",
    "```python\n",
    "alist = [3, 67, \"cat\", [56, 57, \"dog\"], [ ], 3.14, False]\n",
    "print(alist[4:])```\n",
    "```\n",
    "(A) [ [ ], 3.14, False]\n",
    "(B) [ [ ], 3.14]\n",
    "(C) [ [56, 57, \"dog\"], [ ], 3.14, False]\n",
    "```"
   ]
  },
  {
   "cell_type": "markdown",
   "metadata": {
    "nbpresent": {
     "id": "166dfd4e-e19f-43d4-91c5-1b6a5804b577"
    }
   },
   "source": [
    "## Lists are Mutable"
   ]
  },
  {
   "cell_type": "code",
   "execution_count": null,
   "metadata": {
    "collapsed": false,
    "nbpresent": {
     "id": "058151d1-18d4-4084-9c90-2b97ec1a2e42"
    }
   },
   "outputs": [],
   "source": [
    "fruit = [\"banana\", \"apple\", \"cherry\"]\n",
    "print(fruit)\n",
    "\n",
    "fruit[0] = \"pear\"\n",
    "fruit[-1] = \"orange\"\n",
    "print(fruit)"
   ]
  },
  {
   "cell_type": "code",
   "execution_count": null,
   "metadata": {
    "collapsed": false,
    "nbpresent": {
     "id": "7518c246-6065-4e28-bcb5-322ab69bf8c9"
    }
   },
   "outputs": [],
   "source": [
    "from IPython.display import IFrame\n",
    "IFrame(\"http://pythontutor.com/iframe-embed.html#code=fruit%20%3D%20%5B%22banana%22,%20%22apple%22,%20%22cherry%22%5D%0A%0Afruit%5B0%5D%20%3D%20%22pear%22%0Afruit%5B-1%5D%20%3D%20%22orange%22&codeDivHeight=400&codeDivWidth=350&cumulative=false&curInstr=0&heapPrimitives=false&origin=opt-frontend.js&py=3&rawInputLstJSON=%5B%5D&textReferences=false\", width='100%', height=450)"
   ]
  },
  {
   "cell_type": "code",
   "execution_count": null,
   "metadata": {
    "collapsed": false,
    "nbpresent": {
     "id": "2148f5b4-3c5a-4248-a2b6-136614511014"
    }
   },
   "outputs": [],
   "source": [
    "alist = ['a', 'b', 'c', 'd', 'e', 'f']\n",
    "alist[1:3] = ['x', 'y']\n",
    "print(alist)"
   ]
  },
  {
   "cell_type": "code",
   "execution_count": null,
   "metadata": {
    "collapsed": false,
    "nbpresent": {
     "id": "be93122c-1ca3-4545-8e95-a5248577a751"
    }
   },
   "outputs": [],
   "source": [
    "alist = ['a', 'b', 'c', 'd', 'e', 'f']\n",
    "alist[1:3] = []\n",
    "print(alist)"
   ]
  },
  {
   "cell_type": "code",
   "execution_count": null,
   "metadata": {
    "collapsed": false,
    "nbpresent": {
     "id": "dad14801-a41d-4bae-8d44-af8da71cb89f"
    }
   },
   "outputs": [],
   "source": [
    "alist = ['a', 'd', 'f']\n",
    "alist[1:1] = ['b', 'c']\n",
    "print(alist)\n",
    "alist[4:4] = ['e']\n",
    "print(alist)"
   ]
  },
  {
   "cell_type": "markdown",
   "metadata": {
    "nbpresent": {
     "id": "9df6f93b-b6b2-424b-9431-82b53ca7270e"
    }
   },
   "source": [
    "** Exercise **\n",
    "```\n",
    "What is printed by the following statements?```\n",
    "```python\n",
    "alist = [4, 2, 8, 6, 5]\n",
    "alist[2] = True\n",
    "print(alist)```\n",
    "```\n",
    "(A) [4, 2, True, 8, 6, 5]\n",
    "(B) [4, 2, True, 6, 5]\n",
    "(C) Error, it is illegal to assign\n",
    "```"
   ]
  },
  {
   "cell_type": "markdown",
   "metadata": {
    "nbpresent": {
     "id": "3515df4a-02fe-4065-843b-e23e027eb400"
    }
   },
   "source": [
    "## List Deletion\n",
    "\n",
    "The `del` statement removes an element from a list by using its position."
   ]
  },
  {
   "cell_type": "code",
   "execution_count": null,
   "metadata": {
    "collapsed": false,
    "nbpresent": {
     "id": "3498860b-b2e9-40ac-9ebc-218beb7262d0"
    }
   },
   "outputs": [],
   "source": [
    "a = ['one', 'two', 'three']\n",
    "del a[1]\n",
    "print(a)\n",
    "\n",
    "alist = ['a', 'b', 'c', 'd', 'e', 'f']\n",
    "del alist[1:5]\n",
    "print(alist)"
   ]
  },
  {
   "cell_type": "markdown",
   "metadata": {
    "nbpresent": {
     "id": "b354c635-0b48-4d0e-94f1-606406b21126"
    }
   },
   "source": [
    "## Objects and References\n",
    "\n",
    "```python\n",
    "a = \"banana\"\n",
    "b = \"banana\"\n",
    "```\n",
    "\n",
    "Q: Do `a` and `b` point to the same string?\n",
    "\n",
    "A: Use `is` operator to test"
   ]
  },
  {
   "cell_type": "code",
   "execution_count": null,
   "metadata": {
    "collapsed": false,
    "nbpresent": {
     "id": "9b224185-ef95-4397-abac-f312b216c791"
    }
   },
   "outputs": [],
   "source": [
    "a = \"banana\"\n",
    "b = \"banana\"\n",
    "\n",
    "print(a is b)"
   ]
  },
  {
   "cell_type": "code",
   "execution_count": null,
   "metadata": {
    "collapsed": false,
    "nbpresent": {
     "id": "cc77c131-3ea4-478f-beab-4dc08e2db897"
    }
   },
   "outputs": [],
   "source": [
    "a = \"banana\"\n",
    "b = \"banana\"\n",
    "\n",
    "print(a is b)\n",
    "print(a == b)"
   ]
  },
  {
   "cell_type": "markdown",
   "metadata": {
    "nbpresent": {
     "id": "6ae5368a-231e-4853-8158-444b8d34405f"
    }
   },
   "source": [
    "Python optimizes resources by making different names that refer to the same value (immutable type) refer to the same object.\n",
    "\n",
    "Immutable types: str, int, float, bool"
   ]
  },
  {
   "cell_type": "code",
   "execution_count": null,
   "metadata": {
    "collapsed": false,
    "nbpresent": {
     "id": "354d1fad-3451-43b2-91d7-8edd0494bcd2"
    }
   },
   "outputs": [],
   "source": [
    "a = 1\n",
    "b = 1\n",
    "\n",
    "print(a is b)\n",
    "print(a == b)\n",
    "print(id(a), id(b))"
   ]
  },
  {
   "cell_type": "code",
   "execution_count": null,
   "metadata": {
    "collapsed": false,
    "nbpresent": {
     "id": "b6ec524a-d38a-4e9d-8e88-5175dd7af848"
    }
   },
   "outputs": [],
   "source": [
    "a = [81, 82, 83]\n",
    "b = [81, 82, 83]\n",
    "\n",
    "print(a is b)\n",
    "\n",
    "print(a == b)\n",
    "\n",
    "print(id(a), id(b))"
   ]
  },
  {
   "cell_type": "markdown",
   "metadata": {
    "nbpresent": {
     "id": "53a67fbd-4102-4c30-981a-c357f6460e58"
    }
   },
   "source": [
    "<img src=\"http://sei.pku.edu.cn/~caodg/course/ic/notebooks/images/refdiag3.png\" width=600>"
   ]
  },
  {
   "cell_type": "code",
   "execution_count": null,
   "metadata": {
    "collapsed": false,
    "nbpresent": {
     "id": "c45c7498-ab86-44d4-b234-f7e629915e90"
    }
   },
   "outputs": [],
   "source": [
    "from IPython.display import IFrame\n",
    "IFrame(\"http://pythontutor.com/iframe-embed.html#code=a%20%3D%20%5B81,%2082,%2083%5D%0Ab%20%3D%20%5B81,%2082,%2083%5D%0A%0Aprint(a%20is%20b%29%0A%0Aprint(a%20%3D%3D%20b%29&codeDivHeight=400&codeDivWidth=350&cumulative=false&curInstr=0&heapPrimitives=false&origin=opt-frontend.js&py=3&rawInputLstJSON=%5B%5D&textReferences=false\", width='100%', height=450)"
   ]
  },
  {
   "cell_type": "markdown",
   "metadata": {
    "collapsed": true,
    "nbpresent": {
     "id": "4655f56b-7d18-4f17-91e7-a72ea346b7ce"
    }
   },
   "source": [
    "## Aliasing\n",
    "\n",
    "Variables refer to objects. \n",
    "\n",
    "If we assign one variable to another, both variables refer to the same object"
   ]
  },
  {
   "cell_type": "code",
   "execution_count": null,
   "metadata": {
    "collapsed": false,
    "nbpresent": {
     "id": "5b4d3d9a-2f43-47b5-886b-6956d145066f"
    }
   },
   "outputs": [],
   "source": [
    "a = [81, 82, 83]\n",
    "b = a\n",
    "print(a is b)"
   ]
  },
  {
   "cell_type": "markdown",
   "metadata": {
    "nbpresent": {
     "id": "26699518-f29e-43d7-87ed-dd094a6bda98"
    }
   },
   "source": [
    "<img src=\"http://sei.pku.edu.cn/~caodg/course/ic/notebooks/images/refdiag4.png\" width=600>"
   ]
  },
  {
   "cell_type": "code",
   "execution_count": null,
   "metadata": {
    "collapsed": false,
    "nbpresent": {
     "id": "cc6e8b0a-07ea-4061-b5c7-89e9ad4cfaca"
    }
   },
   "outputs": [],
   "source": [
    "from IPython.display import IFrame\n",
    "IFrame(\"http://pythontutor.com/iframe-embed.html#code=a%20%3D%20%5B81,%2082,%2083%5D%0Ab%20%3D%20%5B81,%2082,%2083%5D%0A%09%0Aprint(a%20%3D%3D%20b%29%0Aprint(a%20is%20b%29%0A%09%0Ab%20%3D%20a%0Aprint(a%20%3D%3D%20b%29%0Aprint(a%20is%20b%29%0A%0Ab%5B0%5D%20%3D%205%0Aprint(a%29&codeDivHeight=400&codeDivWidth=350&cumulative=false&curInstr=0&heapPrimitives=false&origin=opt-frontend.js&py=3&rawInputLstJSON=%5B%5D&textReferences=false\", width='100%', height=450)"
   ]
  },
  {
   "cell_type": "markdown",
   "metadata": {
    "nbpresent": {
     "id": "1348b2fd-fcf2-4858-a14c-15734cf97c01"
    }
   },
   "source": [
    "** Exercise **\n",
    "```\n",
    "What is printed by the following statements?```\n",
    "```python\n",
    "alist = [4, 2, 8, 6, 5]\n",
    "blist = alist\n",
    "blist[3] = 999\n",
    "print(alist)\n",
    "```\n",
    "```\n",
    "(A) [4, 2, 8, 6, 5]\n",
    "(B) [4, 2, 8, 999, 5]\n",
    "```"
   ]
  },
  {
   "cell_type": "markdown",
   "metadata": {
    "nbpresent": {
     "id": "42284fa2-1195-40a5-ad53-dfa73fec68c0"
    }
   },
   "source": [
    "## Cloning Lists\n",
    "\n",
    "```python\n",
    "newlist = fromlist[:]\n",
    "```"
   ]
  },
  {
   "cell_type": "code",
   "execution_count": null,
   "metadata": {
    "collapsed": false,
    "nbpresent": {
     "id": "38c14668-2338-43be-81d2-df30f39f64db"
    }
   },
   "outputs": [],
   "source": [
    "from IPython.display import IFrame\n",
    "IFrame(\"http://pythontutor.com/iframe-embed.html#code=a%20%3D%20%5B81,%2082,%2083%5D%0A%0Ab%20%3D%20a%5B%3A%5D%20%20%20%20%20%20%20%23%20make%20a%20clone%20using%20slice%0Aprint(a%20%3D%3D%20b%29%0Aprint(a%20is%20b%29%0A%0Ab%5B0%5D%20%3D%205%0A%0Aprint(a%29%0Aprint(b%29&codeDivHeight=400&codeDivWidth=350&cumulative=false&curInstr=0&heapPrimitives=false&origin=opt-frontend.js&py=3&rawInputLstJSON=%5B%5D&textReferences=false\", width='100%', height=450)"
   ]
  },
  {
   "cell_type": "markdown",
   "metadata": {
    "nbpresent": {
     "id": "89ac37f8-fc2b-4a5a-8873-f21dc902e61b"
    }
   },
   "source": [
    "## Repetition and References\n",
    "\n",
    "If the list item is a sub-list, the repetition operator creates copies of the references."
   ]
  },
  {
   "cell_type": "code",
   "execution_count": null,
   "metadata": {
    "collapsed": false,
    "nbpresent": {
     "id": "257acf6c-e887-4986-9cb5-7961675e40cd"
    }
   },
   "outputs": [],
   "source": [
    "origlist = [45, 76, 34, 55]\n",
    "print(origlist * 3)"
   ]
  },
  {
   "cell_type": "code",
   "execution_count": null,
   "metadata": {
    "collapsed": false,
    "nbpresent": {
     "id": "fadc7942-6667-4253-b6dc-131d7e9b7e09"
    }
   },
   "outputs": [],
   "source": [
    "origlist = [45, 76, 34, 55]\n",
    "print(origlist * 3)\n",
    "\n",
    "newlist = [origlist] * 3\n",
    "\n",
    "print(newlist)"
   ]
  },
  {
   "cell_type": "markdown",
   "metadata": {
    "collapsed": false,
    "nbpresent": {
     "id": "5eb4726a-5688-4697-a593-24da8e421132"
    }
   },
   "source": [
    "** Reference Diagram **\n",
    "\n",
    "<img src=\"http://sei.pku.edu.cn/~caodg/course/ic/notebooks/images/refrep1.png\" width=600>"
   ]
  },
  {
   "cell_type": "code",
   "execution_count": null,
   "metadata": {
    "collapsed": false,
    "nbpresent": {
     "id": "94dedf1c-e679-41c6-a442-7db489fc46a2"
    }
   },
   "outputs": [],
   "source": [
    "origlist = [45, 76, 34, 55]\n",
    "\n",
    "newlist = [origlist] * 3\n",
    "\n",
    "print(newlist)\n",
    "\n",
    "origlist[1] = 99\n",
    "\n",
    "print(newlist)"
   ]
  },
  {
   "cell_type": "markdown",
   "metadata": {
    "collapsed": false,
    "nbpresent": {
     "id": "06a5125e-34a8-46c7-84ca-43bde016c252"
    }
   },
   "source": [
    "<img src=\"http://sei.pku.edu.cn/~caodg/course/ic/notebooks/images/refrep2.png\" width=600>"
   ]
  },
  {
   "cell_type": "code",
   "execution_count": null,
   "metadata": {
    "collapsed": false,
    "nbpresent": {
     "id": "3f152f37-f9ed-4777-bdb7-fd526093ebf8"
    }
   },
   "outputs": [],
   "source": [
    "from IPython.display import IFrame\n",
    "IFrame(\"http://pythontutor.com/iframe-embed.html#code=origlist%20%3D%20%5B45,%2076,%2034,%2055%5D%0A%0Anewlist%20%3D%20%5Boriglist%5D%20*%203%0A%0Aprint(newlist%29%0A%0Aoriglist%5B1%5D%20%3D%2099%0A%0Aprint(newlist%29&codeDivHeight=400&codeDivWidth=350&cumulative=false&curInstr=0&heapPrimitives=false&origin=opt-frontend.js&py=3&rawInputLstJSON=%5B%5D&textReferences=false\", width='100%', height=450)"
   ]
  },
  {
   "cell_type": "markdown",
   "metadata": {
    "collapsed": true,
    "nbpresent": {
     "id": "8e0835d4-6074-4f6c-9f35-1bb810bba220"
    }
   },
   "source": [
    "** Exercise **\n",
    "```\n",
    "1. What is printed by the following statements?```\n",
    "```python\n",
    "alist = [4, 2, 8, 6, 5]\n",
    "blist = alist * 2\n",
    "blist[3] = 999\n",
    "print(alist)```\n",
    "```\n",
    "(A) [4, 2, 8, 999, 5, 4, 2, 8, 6, 5]\n",
    "(B) [4, 2, 8, 999, 5]\n",
    "(C) [4, 2, 8, 6, 5]\n",
    "```"
   ]
  },
  {
   "cell_type": "markdown",
   "metadata": {
    "nbpresent": {
     "id": "33a30d49-09c8-437a-b0f9-bbfe56566706"
    }
   },
   "source": [
    "```\n",
    "What is printed by the following statements?```\n",
    "```python\n",
    "alist = [4, 2, 8, 6, 5]\n",
    "blist = [alist] * 2\n",
    "alist[3] = 999\n",
    "print(blist)```\n",
    "```\n",
    "(A) [4, 2, 8, 999, 5, 4, 2, 8, 999, 5]\n",
    "(B) [[4, 2, 8, 999, 5], [4, 2, 8, 999, 5]]\n",
    "(C) [4, 2, 8, 6, 5]\n",
    "(D) [[4, 2, 8, 999, 5], [4, 2, 8, 6, 5]]\n",
    "```"
   ]
  },
  {
   "cell_type": "markdown",
   "metadata": {
    "nbpresent": {
     "id": "f9afd52c-f496-4425-8965-e84560f9a576"
    }
   },
   "source": [
    "## List methods"
   ]
  },
  {
   "cell_type": "code",
   "execution_count": null,
   "metadata": {
    "collapsed": false,
    "nbpresent": {
     "id": "0f0b66ed-d6ac-4a46-acbf-5f77c2289a5a"
    }
   },
   "outputs": [],
   "source": [
    "mylist = []\n",
    "mylist.append(5)\n",
    "mylist.append(27)\n",
    "mylist.append(3)\n",
    "mylist.append(12)\n",
    "print(mylist)"
   ]
  },
  {
   "cell_type": "code",
   "execution_count": null,
   "metadata": {
    "collapsed": false,
    "nbpresent": {
     "id": "dd17f3bb-3135-4c20-89de-c575fd95e7ad"
    }
   },
   "outputs": [],
   "source": [
    "print(mylist)\n",
    "mylist.insert(1, 12)\n",
    "print(mylist)\n",
    "print(mylist.count(12))\n",
    "\n",
    "print(mylist.index(3))\n",
    "print(mylist.count(5))"
   ]
  },
  {
   "cell_type": "code",
   "execution_count": null,
   "metadata": {
    "collapsed": false,
    "nbpresent": {
     "id": "2c124a5c-092f-4a7d-8d55-2e0876b97dd0"
    }
   },
   "outputs": [],
   "source": [
    "print(mylist)\n",
    "\n",
    "mylist.reverse()\n",
    "print(mylist)\n",
    "\n",
    "mylist.sort()\n",
    "print(mylist)\n",
    "\n",
    "mylist.sort(reverse=True)\n",
    "print(mylist)"
   ]
  },
  {
   "cell_type": "code",
   "execution_count": null,
   "metadata": {
    "collapsed": false,
    "nbpresent": {
     "id": "5d675439-6fb0-42b0-a179-a60dee181bc0"
    }
   },
   "outputs": [],
   "source": [
    "print(mylist)\n",
    "\n",
    "mylist.remove(5)\n",
    "print(mylist)\n",
    "\n",
    "lastitem = mylist.pop()\n",
    "print(lastitem)\n",
    "mylist.pop(1)\n",
    "print(mylist)"
   ]
  },
  {
   "cell_type": "markdown",
   "metadata": {
    "nbpresent": {
     "id": "5366df72-3ee3-458c-a2ff-74451ab94748"
    }
   },
   "source": [
    "<div class=\"alert alert-info\">\n",
    "**Note**:<br>\n",
    "\n",
    "methods like append, sort, and reverse all return None.\n",
    "</div>"
   ]
  },
  {
   "cell_type": "code",
   "execution_count": null,
   "metadata": {
    "collapsed": false,
    "nbpresent": {
     "id": "a8d175cc-b546-4d1f-b2e9-6bdfcdd9b7a7"
    }
   },
   "outputs": [],
   "source": [
    "mylist = []\n",
    "mylist.append(5)\n",
    "mylist.append(27)\n",
    "mylist.append(3)\n",
    "mylist.append(12)\n",
    "print(mylist)\n",
    "\n",
    "mylist = mylist.sort()   #probably an error\n",
    "print(mylist)"
   ]
  },
  {
   "cell_type": "markdown",
   "metadata": {
    "nbpresent": {
     "id": "56224c81-399b-4f41-a658-898afb75ae97"
    }
   },
   "source": [
    "** Exercise **\n",
    "```\n",
    "1. What is printed by the following statements?```\n",
    "```python\n",
    "alist = [4, 2, 8, 6, 5]\n",
    "alist.append(True)\n",
    "alist.append(False)\n",
    "print(alist)```\n",
    "```\n",
    "(A) [4, 2, 8, 6, 5, False, True]\n",
    "(B) [4, 2, 8, 6, 5, True, False]\n",
    "(C) [True, False, 4, 2, 8, 6, 5]\n",
    "```"
   ]
  },
  {
   "cell_type": "markdown",
   "metadata": {
    "nbpresent": {
     "id": "8f54bf25-72a3-4d6e-811d-28b00cb69e88"
    }
   },
   "source": [
    "```\n",
    "2. What is printed by the following statements?```\n",
    "```python\n",
    "alist = [4, 2, 8, 6, 5]\n",
    "alist.insert(2, True)\n",
    "alist.insert(0, False)\n",
    "print(alist)```\n",
    "```\n",
    "(A) [False, 4, 2, True, 8, 6, 5]\n",
    "(B) [4, False, True, 2, 8, 6, 5]\n",
    "(C) [False, 2, True, 6, 5]\n",
    "```"
   ]
  },
  {
   "cell_type": "markdown",
   "metadata": {
    "nbpresent": {
     "id": "b2e1bb30-22d0-496b-820a-a28c5314aa71"
    }
   },
   "source": [
    "```\n",
    "3. What is printed by the following statements?```\n",
    "```python\n",
    "alist = [4, 2, 8, 6, 5]\n",
    "temp = alist.pop(2)\n",
    "temp = alist.pop()\n",
    "print(alist)```\n",
    "```\n",
    "(A) [4, 8, 6]\n",
    "(B) [2, 6, 5]\n",
    "(C) [4, 2, 6]\n",
    "```"
   ]
  },
  {
   "cell_type": "markdown",
   "metadata": {
    "nbpresent": {
     "id": "c1c82540-959f-4e06-a5b4-6f3f166a9162"
    }
   },
   "source": [
    "```4. What is printed by the following statements?```\n",
    "```python\n",
    "alist = [4, 2, 8, 6, 5]\n",
    "alist = alist.pop(0)\n",
    "print(alist)```\n",
    "```\n",
    "(A) [2, 8, 6, 5]\n",
    "(B) [4, 2, 8, 6, 5]\n",
    "(C) 4\n",
    "(D) None\n",
    "```"
   ]
  },
  {
   "cell_type": "markdown",
   "metadata": {
    "nbpresent": {
     "id": "a13d0656-d8d7-4837-b270-111f1eab2489"
    }
   },
   "source": [
    "## Append versus Concatenate"
   ]
  },
  {
   "cell_type": "code",
   "execution_count": null,
   "metadata": {
    "collapsed": false,
    "nbpresent": {
     "id": "20efdf51-4bc6-4b41-916a-2a2bbee04f03"
    }
   },
   "outputs": [],
   "source": [
    "from IPython.display import IFrame\n",
    "IFrame(\"http://pythontutor.com/iframe-embed.html#code=origlist%20%3D%20%5B45,%2032,%2088%5D%0A%0Aoriglist.append(%22cat%22%29&codeDivHeight=400&codeDivWidth=350&cumulative=false&curInstr=0&heapPrimitives=false&origin=opt-frontend.js&py=3&rawInputLstJSON=%5B%5D&textReferences=false\", width='100%', height=450)"
   ]
  },
  {
   "cell_type": "code",
   "execution_count": null,
   "metadata": {
    "collapsed": false,
    "nbpresent": {
     "id": "45853e3e-99eb-48b3-9a5c-055473ff1f5b"
    }
   },
   "outputs": [],
   "source": [
    "origlist = [45, 32, 88]\n",
    "\n",
    "origlist = origlist + ['cat']  \n",
    "\n",
    "print(origlist)"
   ]
  },
  {
   "cell_type": "code",
   "execution_count": null,
   "metadata": {
    "collapsed": true,
    "nbpresent": {
     "id": "34a8dbc5-dc76-4cee-963d-3732259faee4"
    }
   },
   "outputs": [],
   "source": [
    "origlist = [45, 32, 88]\n",
    "\n",
    "origlist = origlist + 'cat' \n",
    "\n",
    "print(origlist)"
   ]
  },
  {
   "cell_type": "code",
   "execution_count": null,
   "metadata": {
    "collapsed": true,
    "nbpresent": {
     "id": "bde829e0-0749-47e8-9046-fb5ae481f53b"
    }
   },
   "outputs": [],
   "source": [
    "origlist = [45, 32, 88]\n",
    "\n",
    "origlist = origlist + list('cat') \n",
    "\n",
    "print(origlist)"
   ]
  },
  {
   "cell_type": "markdown",
   "metadata": {
    "nbpresent": {
     "id": "72899a0a-c007-4e36-b5d6-7a4855b83d3f"
    }
   },
   "source": [
    "** Exercise **\n",
    "```\n",
    "What is printed by the following statements?```\n",
    "```python\n",
    "alist = [4, 2, 8, 6, 5]\n",
    "alist = alist + 999\n",
    "print(alist)```\n",
    "```\n",
    "(A) [4, 2, 8, 6, 5, 999]\n",
    "(B) Error, you cannot concatenate a list with an integer.\n",
    "```"
   ]
  },
  {
   "cell_type": "markdown",
   "metadata": {
    "nbpresent": {
     "id": "84eb3559-76dc-4fa6-8233-8805c8a1e53e"
    }
   },
   "source": [
    "## Lists and for loops"
   ]
  },
  {
   "cell_type": "code",
   "execution_count": null,
   "metadata": {
    "collapsed": false,
    "nbpresent": {
     "id": "de35e575-e037-4531-9fa5-cff7c7258a1b"
    }
   },
   "outputs": [],
   "source": [
    "fruits = [\"apple\", \"orange\", \"banana\", \"cherry\"]\n",
    "\n",
    "for afruit in fruits:     # by item\n",
    "    print(afruit)"
   ]
  },
  {
   "cell_type": "code",
   "execution_count": null,
   "metadata": {
    "collapsed": false,
    "nbpresent": {
     "id": "279680dc-cd2e-4d13-979b-8165596f62d2"
    }
   },
   "outputs": [],
   "source": [
    "fruits = [\"apple\", \"orange\", \"banana\", \"cherry\"]\n",
    "\n",
    "for position in range(len(fruits)):     # by index\n",
    "    print(fruits[position])"
   ]
  },
  {
   "cell_type": "code",
   "execution_count": null,
   "metadata": {
    "collapsed": false,
    "nbpresent": {
     "id": "10f31ab9-8e92-40ca-ab27-04ef88d11da0"
    }
   },
   "outputs": [],
   "source": [
    "for number in range(20):\n",
    "    if number % 3 == 0:\n",
    "        print(number)"
   ]
  },
  {
   "cell_type": "code",
   "execution_count": null,
   "metadata": {
    "collapsed": false,
    "nbpresent": {
     "id": "bfdb2dc8-cb18-425d-85f5-a3caf9072b5b"
    }
   },
   "outputs": [],
   "source": [
    "numbers = [1, 2, 3, 4, 5]\n",
    "print(numbers)\n",
    "\n",
    "for i in range(len(numbers)):\n",
    "    numbers[i] = numbers[i] ** 2\n",
    "\n",
    "print(numbers)"
   ]
  },
  {
   "cell_type": "markdown",
   "metadata": {
    "nbpresent": {
     "id": "ca894aa1-40a7-478a-9f06-fc61913daf3b"
    }
   },
   "source": [
    "Sometimes we are interested in both the value of an item, (we want to square that value), and its index (so that we can assign the new value to that position). \n",
    "\n",
    "This pattern is common enough that Python provides a nicer way to implement it: **enumerate(list)**\n",
    "\n",
    "**enumerate** generates pairs of both (index, value) during the list traversal"
   ]
  },
  {
   "cell_type": "code",
   "execution_count": null,
   "metadata": {
    "collapsed": false,
    "nbpresent": {
     "id": "3e307427-566b-43e4-a33f-f9bded50e09a"
    }
   },
   "outputs": [],
   "source": [
    "numbers = [1, 2, 3, 4, 5]\n",
    "\n",
    "for (i, val) in enumerate(numbers):\n",
    "    numbers[i] = val**2\n",
    "print(numbers)"
   ]
  },
  {
   "cell_type": "code",
   "execution_count": null,
   "metadata": {
    "collapsed": false,
    "nbpresent": {
     "id": "10adb9ef-5d0f-4860-84d0-fc0d49b81784"
    }
   },
   "outputs": [],
   "source": [
    "for (i, v) in enumerate([\"banana\", \"apple\", \n",
    "                         \"pear\", \"lemon\"]):\n",
    "     print(i, v)"
   ]
  },
  {
   "cell_type": "markdown",
   "metadata": {
    "nbpresent": {
     "id": "efcdcafc-395c-4090-a964-a830202a2256"
    }
   },
   "source": [
    "** Exercise **\n",
    "\n",
    "```What is printed by the following statements?```\n",
    "```python\n",
    "alist = [4, 2, 8, 6, 5]\n",
    "blist = [ ]\n",
    "for item in alist:\n",
    "    blist.append(item+5)\n",
    "print(blist)```\n",
    "```\n",
    "(A) [4, 2, 8, 6, 5]\n",
    "(B) [4, 2, 8, 6, 5, 5]\n",
    "(C) [9, 7, 13, 11, 10]\n",
    "(D) Error, you cannot concatenate inside an append.\n",
    "```"
   ]
  },
  {
   "cell_type": "markdown",
   "metadata": {
    "nbpresent": {
     "id": "1e2e5a93-ccf8-4e48-ad78-d7d7e9e27c4a"
    }
   },
   "source": [
    "## `list` and `range`"
   ]
  },
  {
   "cell_type": "code",
   "execution_count": null,
   "metadata": {
    "collapsed": false,
    "nbpresent": {
     "id": "7f5f431d-e649-40c3-8fed-76d0229e303f"
    }
   },
   "outputs": [],
   "source": [
    "xs = list(\"Crunchy Frog\")\n",
    "print(xs)\n",
    "\"\".join(xs)"
   ]
  },
  {
   "cell_type": "markdown",
   "metadata": {
    "nbpresent": {
     "id": "56d09c59-03ff-44ff-a173-11338679dfe7"
    }
   },
   "source": [
    "- One particular feature of `range` is that it doesn’t instantly compute all its values: it “puts off” the computation, and does it on demand, or “lazily”. \n",
    "\n",
    "- We’ll say that it gives a promise to produce the values when they are needed. \n",
    "\n",
    "- This is very convenient if your computation short-circuits a search and returns early"
   ]
  },
  {
   "cell_type": "code",
   "execution_count": null,
   "metadata": {
    "collapsed": true,
    "nbpresent": {
     "id": "5ce7fc3f-d83e-4d75-854e-03b5aab07e8c"
    }
   },
   "outputs": [],
   "source": [
    "def f(n):\n",
    "    \"\"\" Find the first positive integer between \n",
    "    101 and less than n that is divisible by 21\n",
    "    \"\"\"\n",
    "    for i in range(101, n):\n",
    "       if (i % 21 == 0):\n",
    "           return i\n",
    "\n",
    "\n",
    "test(f(110) == 105)\n",
    "test(f(1000000000) == 105)"
   ]
  },
  {
   "cell_type": "code",
   "execution_count": null,
   "metadata": {
    "collapsed": false,
    "nbpresent": {
     "id": "99d67163-18fc-46f8-8bb8-04567192d984"
    }
   },
   "outputs": [],
   "source": [
    "r = range(10)           # Create a lazy promise\n",
    "print(r)\n",
    "\n",
    "r = list(range(10))\n",
    "print(r)"
   ]
  },
  {
   "cell_type": "markdown",
   "metadata": {
    "nbpresent": {
     "id": "018775c2-dce3-4540-b378-cae42b2f7fe1"
    }
   },
   "source": [
    "## Using Lists as Parameters\n",
    "\n",
    "Functions which take lists as arguments and change them during execution are called **modifiers** and the changes they make are called **side effects**. \n",
    "\n",
    "Passing a list as an argument actually passes **a reference** to the list, not a copy of the list."
   ]
  },
  {
   "cell_type": "code",
   "execution_count": null,
   "metadata": {
    "collapsed": false,
    "nbpresent": {
     "id": "6f49dbaa-b260-4c70-be88-3cd696afd398"
    }
   },
   "outputs": [],
   "source": [
    "def doubleStuff(aList):\n",
    "    \"\"\" Overwrite each element in aList with \n",
    "    double its value. \"\"\"\n",
    "    for (i, v) in enumerate(aList):\n",
    "        aList[i] = 2 * v\n",
    "\n",
    "things = [2, 5, 9]\n",
    "print(things)\n",
    "doubleStuff(things)\n",
    "print(things)"
   ]
  },
  {
   "cell_type": "markdown",
   "metadata": {
    "nbpresent": {
     "id": "bec27565-b845-4b0a-adea-af2af2811edc"
    }
   },
   "source": [
    "<img src=\"http://sei.pku.edu.cn/~caodg/course/ic/notebooks/images/refrep2.png\" width=600>"
   ]
  },
  {
   "cell_type": "code",
   "execution_count": null,
   "metadata": {
    "collapsed": false,
    "nbpresent": {
     "id": "bfd052d0-2a8a-44b3-9922-e207e6075ef7"
    }
   },
   "outputs": [],
   "source": [
    "from IPython.display import IFrame\n",
    "IFrame(\"http://pythontutor.com/iframe-embed.html#code=def%20doubleStuff(aList%29%3A%0A%20%20%20%20%22%22%22%20Overwrite%20each%20element%20in%20aList%20with%20double%20its%20value.%20%22%22%22%0A%20%20%20%20for%20position%20in%20range(len(aList%29%29%3A%0A%20%20%20%20%20%20%20%20aList%5Bposition%5D%20%3D%202%20*%20aList%5Bposition%5D%0A%0Athings%20%3D%20%5B2,%205,%209%5D%0A%0AdoubleStuff(things%29&codeDivHeight=400&codeDivWidth=350&cumulative=false&curInstr=0&heapPrimitives=false&origin=opt-frontend.js&py=3&rawInputLstJSON=%5B%5D&textReferences=false\", width='100%', height=450)"
   ]
  },
  {
   "cell_type": "markdown",
   "metadata": {
    "nbpresent": {
     "id": "610bff54-8921-4ee7-b7d8-0754a3625534"
    }
   },
   "source": [
    "## Pure Functions\n",
    "\n",
    "A **pure function** does not produce side effects. \n",
    "\n",
    "It communicates with the calling program only through parameters (which it does not modify) and a return value."
   ]
  },
  {
   "cell_type": "code",
   "execution_count": null,
   "metadata": {
    "collapsed": false,
    "nbpresent": {
     "id": "a43dc98c-d82b-46b0-b107-fe26b2afff9c"
    }
   },
   "outputs": [],
   "source": [
    "def doubleStuff(a_list):\n",
    "    \"\"\" Return a new list in which contains doubles of the elements in a_list. \"\"\"\n",
    "    new_list = []\n",
    "    for value in a_list:\n",
    "        new_elem = 2 * value\n",
    "        new_list.append(new_elem)\n",
    "    return new_list\n",
    "\n",
    "things = [2, 5, 9]\n",
    "print(things)\n",
    "things = doubleStuff(things)\n",
    "print(things)"
   ]
  },
  {
   "cell_type": "code",
   "execution_count": null,
   "metadata": {
    "collapsed": false,
    "nbpresent": {
     "id": "043caa41-ba64-4085-bac7-0b5bf4efae38"
    },
    "scrolled": true
   },
   "outputs": [],
   "source": [
    "from IPython.display import IFrame\n",
    "IFrame(\"http://pythontutor.com/iframe-embed.html#code=def%20doubleStuff(a_list%29%3A%0A%20%20%20%20%22%22%22%20Return%20a%20new%20list%20in%20which%20contains%20doubles%20of%20the%20elements%20in%20a_list.%20%22%22%22%0A%20%20%20%20new_list%20%3D%20%5B%5D%0A%20%20%20%20for%20value%20in%20a_list%3A%0A%20%20%20%20%20%20%20%20new_elem%20%3D%202%20*%20value%0A%20%20%20%20%20%20%20%20new_list.append(new_elem%29%0A%20%20%20%20return%20new_list%0A%0Athings%20%3D%20%5B2,%205,%209%5D%0Athings%20%3D%20doubleStuff(things%29&codeDivHeight=400&codeDivWidth=350&cumulative=false&curInstr=0&heapPrimitives=false&origin=opt-frontend.js&py=3&rawInputLstJSON=%5B%5D&textReferences=false\", width='100%', height=450)"
   ]
  },
  {
   "cell_type": "markdown",
   "metadata": {
    "nbpresent": {
     "id": "40c9a4a2-9a92-4b1e-b61e-a87b1495e7bd"
    }
   },
   "source": [
    "## Which is Better?\n",
    "\n",
    "- Anything that can be done with modifiers can also be done with pure functions. \n",
    "\n",
    "- There is some evidence that programs that use pure functions are faster to develop and less error-prone than programs that use modifiers. \n",
    "\n",
    "- In general, we recommend that you write pure functions whenever it is reasonable to do so. This approach might be called a **functional programming style**."
   ]
  },
  {
   "cell_type": "markdown",
   "metadata": {
    "nbpresent": {
     "id": "788553fb-6206-441f-9ee9-906671deda19"
    }
   },
   "source": [
    "## Functions that Produce Lists"
   ]
  },
  {
   "cell_type": "markdown",
   "metadata": {
    "nbpresent": {
     "id": "02e5db7e-938e-4d60-8f15-e79d6a79d8b5"
    }
   },
   "source": [
    "**Pattern:**\n",
    "\n",
    "```python\n",
    "initialize a result variable to be an empty list\n",
    "loop\n",
    "   create a new element\n",
    "   append it to result\n",
    "return the result\n",
    "```"
   ]
  },
  {
   "cell_type": "code",
   "execution_count": null,
   "metadata": {
    "collapsed": true,
    "nbpresent": {
     "id": "8e6d9acb-5534-403e-9fe9-d927a9de3e7a"
    }
   },
   "outputs": [],
   "source": [
    "def primes_upto(n):\n",
    "    \"\"\" Return a list of all prime numbers \n",
    "    less than n. \"\"\"\n",
    "    result = []\n",
    "    for i in range(2, n):\n",
    "        if is_prime(i):\n",
    "            result.append(i)\n",
    "    return result"
   ]
  },
  {
   "cell_type": "markdown",
   "metadata": {
    "nbpresent": {
     "id": "5b1eac31-d58f-419e-b2cc-a1cbf71704c5"
    }
   },
   "source": [
    "## List Comprehensions\n",
    "\n",
    " List comprehensions are concise ways to create lists. \n",
    " \n",
    " The general syntax is:\n",
    "\n",
    "```[<expression> for <item> in <sequence> if  <condition>]```"
   ]
  },
  {
   "cell_type": "code",
   "execution_count": null,
   "metadata": {
    "collapsed": false,
    "nbpresent": {
     "id": "b921051b-e9ac-4bb7-bd6c-461cafa332dd"
    }
   },
   "outputs": [],
   "source": [
    "mylist = [1,2,3,4,5]\n",
    "\n",
    "yourlist = [item ** 2 for item in mylist]\n",
    "\n",
    "print(yourlist)"
   ]
  },
  {
   "cell_type": "code",
   "execution_count": null,
   "metadata": {
    "collapsed": true,
    "nbpresent": {
     "id": "85f145a4-15e6-4a64-8fe4-38695ec1767c"
    }
   },
   "outputs": [],
   "source": [
    "def primes_upto(n):\n",
    "    \"\"\" Return a list of all prime numbers less than n using a list comprehension. \"\"\"\n",
    "\n",
    "    result = [num for num in range(2,n) \n",
    "              if is_prime(num)]\n",
    "    return result"
   ]
  },
  {
   "cell_type": "markdown",
   "metadata": {
    "nbpresent": {
     "id": "faac90e8-8c49-40c2-aae9-e278f43b5527"
    }
   },
   "source": [
    "** Exercise **\n",
    "```\n",
    "What is printed by the following statements?```\n",
    "```python\n",
    "alist = [4,2,8,6,5]\n",
    "blist = [num*2 for num in alist if num%2==1]\n",
    "print(blist)```\n",
    "```\n",
    "(A) [4,2,8,6,5]\n",
    "(B) [8,4,16,12,10]\n",
    "(C) 10\n",
    "(D) [10].\n",
    "```"
   ]
  },
  {
   "cell_type": "markdown",
   "metadata": {
    "nbpresent": {
     "id": "05bfc98e-0edb-4ac5-a3b4-1e7edb5cff77"
    }
   },
   "source": [
    "## Nested Lists"
   ]
  },
  {
   "cell_type": "code",
   "execution_count": null,
   "metadata": {
    "collapsed": false,
    "nbpresent": {
     "id": "1e7a53e0-3f4e-4dd3-8157-9a38b928792d"
    }
   },
   "outputs": [],
   "source": [
    "nested = [\"hello\", 2.0, 5, [10, 20]]\n",
    "innerlist = nested[3]\n",
    "print(innerlist)\n",
    "item = innerlist[1]\n",
    "print(item)\n",
    "\n",
    "print(nested[3][1])"
   ]
  },
  {
   "cell_type": "markdown",
   "metadata": {
    "nbpresent": {
     "id": "27d4b193-7613-4923-8893-27d514c83ae0"
    }
   },
   "source": [
    "** Exercise **\n",
    "```\n",
    "What is printed by the following statements?```\n",
    "```python\n",
    "alist = [ [4, [True, False], 6, 8], [888, 999] ]\n",
    "if alist[0][1][0]:\n",
    "   print(alist[1][0])\n",
    "else:\n",
    "   print(alist[1][1])```\n",
    "```\n",
    "(A) 6\n",
    "(B) 8\n",
    "(C) 888\n",
    "(D) 999\n",
    "```"
   ]
  },
  {
   "cell_type": "markdown",
   "metadata": {
    "nbpresent": {
     "id": "535c29f7-2c9a-4404-b9ca-81e29c6d118e"
    }
   },
   "source": [
    "## Strings and Lists\n",
    "\n",
    "The **split** method breaks a string into a list of words. By default, any number of **whitespace** characters is considered a word boundary."
   ]
  },
  {
   "cell_type": "code",
   "execution_count": null,
   "metadata": {
    "collapsed": false,
    "nbpresent": {
     "id": "77a837dd-8375-4ce1-8e27-fb12be2ff550"
    }
   },
   "outputs": [],
   "source": [
    "song = \"The rain in Spain...\"\n",
    "wds = song.split()\n",
    "print(wds)"
   ]
  },
  {
   "cell_type": "code",
   "execution_count": null,
   "metadata": {
    "collapsed": false,
    "nbpresent": {
     "id": "5a2a3236-f469-4617-bf65-c4484abe180e"
    }
   },
   "outputs": [],
   "source": [
    "# An optional argument called a delimiter can be used \n",
    "# to specify which characters to use as word boundaries.\n",
    "song = \"The rain in Spain...\"\n",
    "wds = song.split('ai')\n",
    "print(wds)"
   ]
  },
  {
   "cell_type": "markdown",
   "metadata": {
    "nbpresent": {
     "id": "d6095136-fd42-44d4-96f2-62f6a43e3e24"
    }
   },
   "source": [
    "** join **\n",
    "\n",
    "The inverse of the **split** method is **join**. \n",
    "\n",
    "You choose a desired **separator string**, (often called the glue) and join the list with the glue between each of the elements."
   ]
  },
  {
   "cell_type": "code",
   "execution_count": null,
   "metadata": {
    "collapsed": false,
    "nbpresent": {
     "id": "a0d12de6-d2eb-4821-839a-7dd7a76d8bb3"
    }
   },
   "outputs": [],
   "source": [
    "wds = [\"red\", \"blue\", \"green\"]\n",
    "glue = ';'\n",
    "s = glue.join(wds)\n",
    "print(s)\n",
    "print(wds)\n",
    "\n",
    "print(\"***\".join(wds))\n",
    "print(\"\".join(wds))"
   ]
  },
  {
   "cell_type": "markdown",
   "metadata": {
    "nbpresent": {
     "id": "af4b4983-1830-447c-8cb5-2db89964fa02"
    }
   },
   "source": [
    "** Exercise **\n",
    "```\n",
    "What is printed by the following statements?```\n",
    "```python\n",
    "myname = \"Edgar Allan Poe\"\n",
    "namelist = myname.split()\n",
    "init = \"\"\n",
    "for aname in namelist:\n",
    "    init = init + aname[0]\n",
    "print(init)\n",
    "```"
   ]
  },
  {
   "cell_type": "markdown",
   "metadata": {
    "nbpresent": {
     "id": "c6087f1b-a9c4-4ebd-bf94-74d5d88e1bf2"
    }
   },
   "source": [
    "## `list` Type Conversion Function\n",
    "\n",
    "Whereas `split` will break a string into a list of “words”, `list` will always break it into a list of characters."
   ]
  },
  {
   "cell_type": "code",
   "execution_count": null,
   "metadata": {
    "collapsed": false,
    "nbpresent": {
     "id": "db6bb90b-6eae-48a5-af45-34978edb9ec7"
    }
   },
   "outputs": [],
   "source": [
    "xs = list(\"Crunchy Frog\")\n",
    "print(xs)"
   ]
  },
  {
   "cell_type": "markdown",
   "metadata": {
    "nbpresent": {
     "id": "392d9eb1-33d6-4ba6-82cf-2fd6f37a90b9"
    }
   },
   "source": [
    "## Tuples and Mutability\n",
    "\n",
    "A **tuple**, like a list, is a sequence of items of any type. \n",
    "\n",
    "Unlike lists, however, **tuples are immutable**. \n",
    "\n",
    "Syntactically, a tuple is a comma-separated sequence of values. \n",
    "\n",
    "It is conventional to enclose tuples in parentheses."
   ]
  },
  {
   "cell_type": "code",
   "execution_count": null,
   "metadata": {
    "collapsed": false,
    "nbpresent": {
     "id": "92890c1a-17c9-46e2-9c9e-9a6d066ef37a"
    }
   },
   "outputs": [],
   "source": [
    "julia = (\"Julia\", \"Roberts\", 1967, \"Duplicity\", \n",
    "         2009, \"Actress\", \"Atlanta, Georgia\")\n",
    "\n",
    "print(type(julia))\n",
    "\n",
    "print(julia)"
   ]
  },
  {
   "cell_type": "markdown",
   "metadata": {
    "nbpresent": {
     "id": "e30789d1-daf3-47e4-9976-63a9c0fbec8c"
    }
   },
   "source": [
    "- Tuples are useful for representing what other languages often call **records** — some related information that belongs together, like your student record. \n",
    "\n",
    "- A tuple lets us “chunk” together related information and use it as a single thing.\n",
    "\n",
    "- Tuples support the same sequence operations as strings and lists."
   ]
  },
  {
   "cell_type": "code",
   "execution_count": null,
   "metadata": {
    "collapsed": false,
    "nbpresent": {
     "id": "2534741c-a093-43b8-99de-f3e3a70a9c34"
    }
   },
   "outputs": [],
   "source": [
    "julia = (\"Julia\", \"Roberts\", 1967, \"Duplicity\", \n",
    "         2009, \"Actress\", \"Atlanta, Georgia\")\n",
    "julia[0] = 'X'"
   ]
  },
  {
   "cell_type": "code",
   "execution_count": null,
   "metadata": {
    "collapsed": false,
    "nbpresent": {
     "id": "31132626-74a3-49c0-b8d8-b72a85a0c380"
    }
   },
   "outputs": [],
   "source": [
    "julia = (\"Julia\", \"Roberts\", 1967, \"Duplicity\", \n",
    "         2009, \"Actress\", \"Atlanta, Georgia\")\n",
    "print(julia[2])\n",
    "print(julia[2:6])\n",
    "print(len(julia))\n",
    "\n",
    "julia = julia[:3] + (\"Eat Pray Love\", 2010) + \\\n",
    "    julia[5:]\n",
    "print(julia)"
   ]
  },
  {
   "cell_type": "code",
   "execution_count": null,
   "metadata": {
    "collapsed": false,
    "nbpresent": {
     "id": "f478679e-7ff1-431b-b988-ae2f7617b926"
    }
   },
   "outputs": [],
   "source": [
    "tup = (5,)\n",
    "print(type(tup))\n",
    "\n",
    "x = (5)\n",
    "print(type(x))"
   ]
  },
  {
   "cell_type": "markdown",
   "metadata": {
    "nbpresent": {
     "id": "64cbfd4b-e4e6-495c-b78d-60d12d6e1c0e"
    }
   },
   "source": [
    "** Count how many students are taking CompSci **\n",
    "\n",
    "```python\n",
    "students = [\n",
    "    (\"John\", [\"CompSci\", \"Physics\"]),\n",
    "    (\"Vusi\", [\"Maths\", \"CompSci\", \"Stats\"]),\n",
    "    (\"Jess\", [\"CompSci\", \"Accounting\", \"Economics\", \"Management\"]),\n",
    "    (\"Sarah\", [\"InfSys\", \"Accounting\", \"Economics\", \"CommLaw\"]),\n",
    "    (\"Zuki\", [\"Sociology\", \"Economics\", \"Law\", \"Stats\", \"Music\"])]\n",
    "```"
   ]
  },
  {
   "cell_type": "code",
   "execution_count": null,
   "metadata": {
    "collapsed": true,
    "nbpresent": {
     "id": "52483827-f891-4260-96af-e753b5b87ef3"
    }
   },
   "outputs": [],
   "source": [
    "students = [\n",
    "    (\"John\", [\"CompSci\", \"Physics\"]),\n",
    "    (\"Vusi\", [\"Maths\", \"CompSci\", \"Stats\"]),\n",
    "    (\"Jess\", [\"CompSci\", \"Accounting\", \"Economics\", \"Management\"]),\n",
    "    (\"Sarah\", [\"InfSys\", \"Accounting\", \"Economics\", \"CommLaw\"]),\n",
    "    (\"Zuki\", [\"Sociology\", \"Economics\", \"Law\", \"Stats\", \"Music\"])]\n",
    "\n",
    "# Count how many students are taking CompSci\n",
    "counter = 0\n",
    "for (name, subjects) in students:\n",
    "    if \"CompSci\" in subjects:\n",
    "           counter += 1\n",
    "\n",
    "print(\"The number of students taking CompSci is\", \n",
    "      counter)"
   ]
  },
  {
   "cell_type": "markdown",
   "metadata": {
    "nbpresent": {
     "id": "88a6bd86-8fab-48c6-93b4-cec17df264dd"
    }
   },
   "source": [
    "## Tuple Assignment\n",
    "\n",
    "```python\n",
    "(name, surname, birth_year, movie, movie_year, profession, birth_place) = julia\n",
    "```"
   ]
  },
  {
   "cell_type": "markdown",
   "metadata": {
    "nbpresent": {
     "id": "25c10a77-fe46-4303-98e4-d7af3f9c5f8f"
    }
   },
   "source": [
    "** swap the values of two variables **\n",
    "\n",
    "conventional:\n",
    "\n",
    "```python\n",
    "temp = a\n",
    "a = b\n",
    "b = temp\n",
    "```\n",
    "\n",
    "tuple assignment:\n",
    "\n",
    "```python\n",
    "(a, b) = (b, a)\n",
    "```"
   ]
  },
  {
   "cell_type": "code",
   "execution_count": null,
   "metadata": {
    "collapsed": false,
    "nbpresent": {
     "id": "bc8246cb-2d4f-4345-a34a-d86ba7783547"
    }
   },
   "outputs": [],
   "source": [
    "a, b = 10, 20\n",
    "print(a, b)\n",
    "a, b = b, a\n",
    "print(a,b)"
   ]
  },
  {
   "cell_type": "code",
   "execution_count": null,
   "metadata": {
    "collapsed": false,
    "nbpresent": {
     "id": "28d5279f-5a4b-4d92-b871-ec148cbb0d1a"
    }
   },
   "outputs": [],
   "source": [
    "a, b = (10, 20)\n",
    "print(a, b)\n",
    "(a, b) = (b, a)\n",
    "print(a,b)"
   ]
  },
  {
   "cell_type": "code",
   "execution_count": null,
   "metadata": {
    "collapsed": false,
    "nbpresent": {
     "id": "47a56839-799a-47ff-906c-3e96addb9ca3"
    }
   },
   "outputs": [],
   "source": [
    "(a, b, c, d) = (1, 2, 3)"
   ]
  },
  {
   "cell_type": "code",
   "execution_count": null,
   "metadata": {
    "collapsed": false,
    "nbpresent": {
     "id": "c3179bda-b5a9-40b9-87e1-145251a917d3"
    }
   },
   "outputs": [],
   "source": [
    "print((1,2,3) == (1,2,3,))"
   ]
  },
  {
   "cell_type": "markdown",
   "metadata": {
    "nbpresent": {
     "id": "fabb70db-964b-4b24-939b-2073bb4c7342"
    }
   },
   "source": [
    "## Tuples as Return Values"
   ]
  },
  {
   "cell_type": "code",
   "execution_count": null,
   "metadata": {
    "collapsed": false,
    "nbpresent": {
     "id": "0af6c2e0-1a3a-41b3-a979-28fa38909135"
    }
   },
   "outputs": [],
   "source": [
    "def circleInfo(r):\n",
    "    \"\"\" Return (circumference, area) of a \n",
    "    circle of radius r \"\"\"\n",
    "    c = 2 * 3.14159 * r\n",
    "    a = 3.14159 * r * r\n",
    "    return (c, a)\n",
    "\n",
    "print(circleInfo(10))"
   ]
  },
  {
   "cell_type": "code",
   "execution_count": null,
   "metadata": {
    "collapsed": false,
    "nbpresent": {
     "id": "10962f6c-6adc-44c4-a1ec-b4a3d5ebab9a"
    }
   },
   "outputs": [],
   "source": [
    "c, a = circleInfo(20)\n",
    "print(c, a)"
   ]
  },
  {
   "cell_type": "markdown",
   "metadata": {
    "nbpresent": {
     "id": "d229b720-34db-4768-afbe-794fba82bf84"
    }
   },
   "source": [
    "## Set\n",
    "\n",
    "A **set** contains an unordered collection of **unique** and immutable objects. \n",
    "\n",
    "The **set** data type is a Python implementation of the sets as they are known from mathematics.\n",
    "\n",
    "Set elements must be hashable objects (All of Python’s immutable built-in objects are hashable)."
   ]
  },
  {
   "cell_type": "markdown",
   "metadata": {
    "nbpresent": {
     "id": "cbe6f817-b7f5-4cd8-840a-a8d92258cf77"
    }
   },
   "source": [
    "## Creating sets\n",
    "\n"
   ]
  },
  {
   "cell_type": "code",
   "execution_count": null,
   "metadata": {
    "collapsed": false,
    "nbpresent": {
     "id": "f0f280b7-0f36-4626-a01d-e1ad2aeeb53f"
    }
   },
   "outputs": [],
   "source": [
    "x = set(\"A Python Tutorial\")\n",
    "print(x)\n",
    "print(type(x))"
   ]
  },
  {
   "cell_type": "code",
   "execution_count": null,
   "metadata": {
    "collapsed": false,
    "nbpresent": {
     "id": "40a35d69-ba26-4614-a95b-aed8d32b11ba"
    }
   },
   "outputs": [],
   "source": [
    "x = set([\"Perl\", \"Python\", \"Java\"])\n",
    "print(x)\n",
    "\n",
    "y = set((\"Perl\", \"Python\", \"Java\"))\n",
    "print(x)\n",
    "\n",
    "z = {\"Perl\", \"Python\", \"Java\"}\n",
    "print(x)"
   ]
  },
  {
   "cell_type": "code",
   "execution_count": null,
   "metadata": {
    "collapsed": false,
    "nbpresent": {
     "id": "358105f1-8859-4d9f-ae69-74b17e0fa001"
    }
   },
   "outputs": [],
   "source": [
    "x = {1,2,3}\n",
    "\n",
    "y = {3,2,1}\n",
    "\n",
    "x == y"
   ]
  },
  {
   "cell_type": "code",
   "execution_count": null,
   "metadata": {
    "collapsed": false,
    "nbpresent": {
     "id": "dd2bb155-412d-45d7-891b-2c3b865f30da"
    }
   },
   "outputs": [],
   "source": [
    "x = {1,2,3,2,3}\n",
    "\n",
    "x == {1,2,3}"
   ]
  },
  {
   "cell_type": "markdown",
   "metadata": {
    "nbpresent": {
     "id": "f3593446-5751-48b2-a764-ac8cfa0630d6"
    }
   },
   "source": [
    "## Set operations\n",
    "\n",
    "```python\n",
    "len(s), x in s, x not in s\n",
    "\n",
    "add remove discard\n",
    "\n",
    "union difference intersection symmetric_difference\n",
    "\n",
    "isdisjoint issubset issuperset\n",
    "```"
   ]
  },
  {
   "cell_type": "markdown",
   "metadata": {
    "nbpresent": {
     "id": "2f888fa9-c948-4805-a5cc-a5ce4c4292c0"
    }
   },
   "source": [
    "** add(element) **"
   ]
  },
  {
   "cell_type": "code",
   "execution_count": null,
   "metadata": {
    "collapsed": false,
    "nbpresent": {
     "id": "599fd134-e67c-4276-aaa1-353242aef615"
    }
   },
   "outputs": [],
   "source": [
    "colours = {\"red\",\"green\"}\n",
    "colours.add(\"yellow\")\n",
    "colours.add(\"yellow\")\n",
    "print(colours)"
   ]
  },
  {
   "cell_type": "code",
   "execution_count": null,
   "metadata": {
    "collapsed": false,
    "nbpresent": {
     "id": "6c613616-0f6d-4412-9cb8-0025ca8577b5"
    }
   },
   "outputs": [],
   "source": [
    "colours.add([\"black\",\"white\"])"
   ]
  },
  {
   "cell_type": "markdown",
   "metadata": {
    "nbpresent": {
     "id": "098d5a3e-2f5e-424c-82cc-c3321bbfdbc0"
    }
   },
   "source": [
    "** union **"
   ]
  },
  {
   "cell_type": "code",
   "execution_count": null,
   "metadata": {
    "collapsed": false,
    "nbpresent": {
     "id": "34b037eb-d751-40db-a9a4-4eb4fe04010a"
    }
   },
   "outputs": [],
   "source": [
    "a = {1,2,3}\n",
    "b = {3,4,5}\n",
    "a.union(b)"
   ]
  },
  {
   "cell_type": "code",
   "execution_count": null,
   "metadata": {
    "collapsed": false,
    "nbpresent": {
     "id": "af0b9afd-5c30-42b4-b2e8-1b5ad2ba2c04"
    }
   },
   "outputs": [],
   "source": [
    "a = {1,2,3}\n",
    "b = {3,4,5}\n",
    "a | b"
   ]
  },
  {
   "cell_type": "markdown",
   "metadata": {
    "nbpresent": {
     "id": "86abe07e-4d8e-46d3-9e13-e75c03ba994a"
    }
   },
   "source": [
    "** difference **"
   ]
  },
  {
   "cell_type": "code",
   "execution_count": null,
   "metadata": {
    "collapsed": false,
    "nbpresent": {
     "id": "a291a9aa-9ce2-46ea-b471-54f435036e8f"
    }
   },
   "outputs": [],
   "source": [
    "a = {1,2,3}\n",
    "b = {3,4,5}\n",
    "a.difference(b)"
   ]
  },
  {
   "cell_type": "code",
   "execution_count": null,
   "metadata": {
    "collapsed": false,
    "nbpresent": {
     "id": "d1b9e554-2e64-46af-be3c-f7474bfde997"
    }
   },
   "outputs": [],
   "source": [
    "a = {1,2,3}\n",
    "b = {3,4,5}\n",
    "a - b"
   ]
  },
  {
   "cell_type": "markdown",
   "metadata": {
    "nbpresent": {
     "id": "48f87a43-f19c-4029-9642-1ba5bed7ed5d"
    }
   },
   "source": [
    "** intersection **"
   ]
  },
  {
   "cell_type": "code",
   "execution_count": null,
   "metadata": {
    "collapsed": false,
    "nbpresent": {
     "id": "d57b72dc-370a-4264-aaae-b7b08840b4dd"
    }
   },
   "outputs": [],
   "source": [
    "a = {1,2,3}\n",
    "b = {3,4,5}\n",
    "a.intersection(b)"
   ]
  },
  {
   "cell_type": "code",
   "execution_count": null,
   "metadata": {
    "collapsed": false,
    "nbpresent": {
     "id": "102ca12f-efc1-4252-ae9a-1f25c9a19bec"
    }
   },
   "outputs": [],
   "source": [
    "a = {1,2,3}\n",
    "b = {3,4,5}\n",
    "a & b"
   ]
  },
  {
   "cell_type": "markdown",
   "metadata": {
    "nbpresent": {
     "id": "1b6221a3-0610-45d3-b16d-ee3748b40800"
    }
   },
   "source": [
    "** symmetric_difference **"
   ]
  },
  {
   "cell_type": "code",
   "execution_count": null,
   "metadata": {
    "collapsed": false,
    "nbpresent": {
     "id": "de1f25d9-0fa0-435f-ad06-701fe564da18"
    }
   },
   "outputs": [],
   "source": [
    "a = {1,2,3}\n",
    "b = {3,4,5}\n",
    "a.symmetric_difference(b)"
   ]
  },
  {
   "cell_type": "code",
   "execution_count": null,
   "metadata": {
    "collapsed": false,
    "nbpresent": {
     "id": "720b00f3-6fd5-42a4-b2dd-b5eaf32639bd"
    }
   },
   "outputs": [],
   "source": [
    "a = {1,2,3}\n",
    "b = {3,4,5}\n",
    "a ^ b"
   ]
  },
  {
   "cell_type": "markdown",
   "metadata": {
    "nbpresent": {
     "id": "8170f4cb-988f-4b56-9309-9ffcdf558bb2"
    }
   },
   "source": [
    "** isdisjoint **"
   ]
  },
  {
   "cell_type": "code",
   "execution_count": null,
   "metadata": {
    "collapsed": false,
    "nbpresent": {
     "id": "af2792f1-1e9f-4030-b6a3-7f4c2e6ca9cc"
    }
   },
   "outputs": [],
   "source": [
    "a = {1,2,3}\n",
    "b = {3,4,5}\n",
    "c = {4,5,6}\n",
    "\n",
    "print(a.isdisjoint(b))\n",
    "print(a.isdisjoint(c))"
   ]
  },
  {
   "cell_type": "markdown",
   "metadata": {
    "nbpresent": {
     "id": "622e13d2-b204-41f8-b33b-a768eb0cdf22"
    }
   },
   "source": [
    "** issubset **"
   ]
  },
  {
   "cell_type": "code",
   "execution_count": null,
   "metadata": {
    "collapsed": false,
    "nbpresent": {
     "id": "4ae8e1d5-41ba-4b65-ad85-d2ebcb3927a1"
    }
   },
   "outputs": [],
   "source": [
    "a,b,c = {1,2,3},{2,3,4},{1,2}\n",
    "print(c.issubset(a))\n",
    "print(c.issubset(b))"
   ]
  },
  {
   "cell_type": "code",
   "execution_count": null,
   "metadata": {
    "collapsed": false,
    "nbpresent": {
     "id": "bb7b21c0-0fc7-46ea-a085-7d3190f03ffa"
    }
   },
   "outputs": [],
   "source": [
    "a,b,c = {1,2,3},{2,3,4},{1,2}\n",
    "print(c <= a)\n",
    "print(c <= b)"
   ]
  },
  {
   "cell_type": "markdown",
   "metadata": {
    "nbpresent": {
     "id": "ab04197a-d775-4bcb-bb0d-95772c8ac06e"
    }
   },
   "source": [
    "** issuperset **"
   ]
  },
  {
   "cell_type": "code",
   "execution_count": null,
   "metadata": {
    "collapsed": false,
    "nbpresent": {
     "id": "4e2a5c26-72f7-4990-8fa1-4d2520573d70"
    }
   },
   "outputs": [],
   "source": [
    "a,b,c = {1,2,3},{2,3,4},{1,2}\n",
    "print(a.issuperset(c))\n",
    "print(b.issuperset(c))"
   ]
  },
  {
   "cell_type": "code",
   "execution_count": null,
   "metadata": {
    "collapsed": false,
    "nbpresent": {
     "id": "9d399c65-bde9-4e48-a84d-2c7120e64a9e"
    }
   },
   "outputs": [],
   "source": [
    "a,b,c = {1,2,3},{2,3,4},{1,2}\n",
    "print(a >= c)\n",
    "print(b >= c)"
   ]
  },
  {
   "cell_type": "markdown",
   "metadata": {
    "nbpresent": {
     "id": "574ff700-cefb-44de-b964-c24705a62b7e"
    }
   },
   "source": [
    "## Remove duplicate elements in some list\n",
    "```python\n",
    "a = [1,2,3,2,3,4,5,6,7,8,2]\n",
    "```"
   ]
  },
  {
   "cell_type": "code",
   "execution_count": null,
   "metadata": {
    "collapsed": false,
    "nbpresent": {
     "id": "a5d7d2e8-5079-4d38-ab07-abfbc169f67a"
    }
   },
   "outputs": [],
   "source": [
    "a = [1,2,3,2,3,4,5,6,7,8,2]\n",
    "a = list(set(a))\n",
    "\n",
    "print(a)"
   ]
  },
  {
   "cell_type": "markdown",
   "metadata": {
    "nbpresent": {
     "id": "189fffc5-f1a6-4785-a4a8-06c043ab8dc1"
    }
   },
   "source": [
    "## Glossary\n",
    "\n",
    "** aliases **\n",
    "\n",
    "Multiple variables that contain references to the same object.\n",
    "\n",
    "** clone **\n",
    "\n",
    "To create a new object that has the same value as an existing object. Copying a reference to an object creates an alias but doesn’t clone the object.\n",
    "\n",
    "** delimiter **\n",
    "\n",
    "A character or string used to indicate where a string should be split.\n",
    "\n",
    "** element **\n",
    "\n",
    "One of the values in a list (or other sequence). The bracket operator selects elements of a list.\n",
    "\n",
    "** index **\n",
    "\n",
    "An integer variable or value that indicates an element of a list.\n",
    "\n",
    "** list **\n",
    "\n",
    "A collection of objects, where each object is identified by an index. Like other types str, int, float, etc. there is also a list type-converter function that tries to turn its argument into a list.\n",
    "\n",
    "** list traversal **\n",
    "\n",
    "The sequential accessing of each element in a list.\n",
    "\n",
    "** modifier **\n",
    "\n",
    "A function which changes its arguments inside the function body. Only mutable types can be changed by modifiers.\n",
    "\n",
    "\n",
    "** mutable data type **\n",
    "\n",
    "A data type in which the elements can be modified. All mutable types are compound types. Lists are mutable data types; strings are not.\n",
    "\n",
    "** nested list **\n",
    "\n",
    "A list that is an element of another list.\n",
    "\n",
    "** object **\n",
    "\n",
    "A thing to which a variable can refer.\n",
    "\n",
    "** pattern **\n",
    "\n",
    "A sequence of statements, or a style of coding something that has general applicability in a number of different situations. Part of becoming a mature Computer Scientist is to learn and establish the patterns and algorithms that form your toolkit. Patterns often correspond to your “mental chunking”.\n",
    "\n",
    "** pure function **\n",
    "\n",
    "A function which has no side effects. Pure functions only make changes to the calling program through their return values.\n",
    "\n",
    "** sequence **\n",
    "\n",
    "Any of the data types that consist of an ordered collection of elements, with each element identified by an index.\n",
    "\n",
    "** side effect **\n",
    "\n",
    "A change in the state of a program made by calling a function that is not a result of reading the return value from the function. Side effects can only be produced by modifiers.\n",
    "\n",
    "** tuple **\n",
    "\n",
    "A sequential collection of items, similar to a list. Any python object can be an element of a tuple. However, unlike a list, tuples are immutable."
   ]
  },
  {
   "cell_type": "code",
   "execution_count": null,
   "metadata": {
    "collapsed": true,
    "nbpresent": {
     "id": "ce713ed9-27fa-4043-950f-d325e6ae10d7"
    }
   },
   "outputs": [],
   "source": []
  }
 ],
 "metadata": {
  "anaconda-cloud": {},
  "kernelspec": {
   "display_name": "Python [default]",
   "language": "python",
   "name": "python3"
  },
  "language_info": {
   "codemirror_mode": {
    "name": "ipython",
    "version": 3
   },
   "file_extension": ".py",
   "mimetype": "text/x-python",
   "name": "python",
   "nbconvert_exporter": "python",
   "pygments_lexer": "ipython3",
   "version": "3.5.2"
  },
  "nbpresent": {
   "slides": {
    "00b01c36-c59e-4835-8700-253338027358": {
     "id": "00b01c36-c59e-4835-8700-253338027358",
     "prev": "74a65a38-6a09-4603-ab7b-cbcd08928c49",
     "regions": {
      "46fb6e8e-e02d-4825-864f-21fdb5577ab3": {
       "attrs": {
        "height": 0.8,
        "width": 0.8,
        "x": 0.1,
        "y": 0.1
       },
       "content": {
        "cell": "bc8246cb-2d4f-4345-a34a-d86ba7783547",
        "part": "whole"
       },
       "id": "46fb6e8e-e02d-4825-864f-21fdb5577ab3"
      }
     }
    },
    "0141bd91-8ae4-49ef-ab4b-f584d5a3e3b9": {
     "id": "0141bd91-8ae4-49ef-ab4b-f584d5a3e3b9",
     "prev": "5331d4ee-116c-40f2-8853-24c81f4a3283",
     "regions": {
      "e1853ee7-986c-4939-8f0a-9fe2b021b8e5": {
       "attrs": {
        "height": 0.8,
        "width": 0.8,
        "x": 0.1,
        "y": 0.1
       },
       "content": {
        "cell": "d6095136-fd42-44d4-96f2-62f6a43e3e24",
        "part": "whole"
       },
       "id": "e1853ee7-986c-4939-8f0a-9fe2b021b8e5"
      }
     }
    },
    "03b6464e-40a8-4e24-a3c4-82752e81e34f": {
     "id": "03b6464e-40a8-4e24-a3c4-82752e81e34f",
     "prev": "ad4551c2-caaf-443f-abb0-a93dc1e0bcf8",
     "regions": {
      "5e00b54c-984d-4dcd-92f2-aab50e8a52c3": {
       "attrs": {
        "height": 0.8,
        "width": 0.8,
        "x": 0.1,
        "y": 0.1
       },
       "content": {
        "cell": "02de5c5f-4186-4836-9174-467e862069fe",
        "part": "whole"
       },
       "id": "5e00b54c-984d-4dcd-92f2-aab50e8a52c3"
      }
     }
    },
    "04dc0b9e-faa2-4d1b-a9ba-a9153971d5c1": {
     "id": "04dc0b9e-faa2-4d1b-a9ba-a9153971d5c1",
     "prev": "90c26fc6-12d0-4b9a-b202-2df6f49187b5",
     "regions": {
      "35c3d45f-5d15-4b8c-8088-ebc4ed115659": {
       "attrs": {
        "height": 0.5489974050483605,
        "width": 0.8,
        "x": 0.1,
        "y": 0.35100259495163955
       },
       "content": {
        "cell": "f0f280b7-0f36-4626-a01d-e1ad2aeeb53f",
        "part": "whole"
       },
       "id": "35c3d45f-5d15-4b8c-8088-ebc4ed115659"
      },
      "91b0dc0d-1956-461a-9325-2e7cb2bf2243": {
       "attrs": {
        "height": 0.22627978296768111,
        "width": 0.8,
        "x": 0.1,
        "y": 0.1
       },
       "content": {
        "cell": "cbe6f817-b7f5-4cd8-840a-a8d92258cf77",
        "part": "whole"
       },
       "id": "91b0dc0d-1956-461a-9325-2e7cb2bf2243"
      }
     }
    },
    "07239013-93ce-48ce-940c-95a632a7d62d": {
     "id": "07239013-93ce-48ce-940c-95a632a7d62d",
     "prev": "8b51563c-50ab-4635-8d62-81f81f366ff8",
     "regions": {
      "95076036-60b9-4f48-b02a-207820fc4fd2": {
       "attrs": {
        "height": 0.8,
        "width": 0.8,
        "x": 0.1,
        "y": 0.1
       },
       "content": {
        "cell": "b6ec524a-d38a-4e9d-8e88-5175dd7af848",
        "part": "whole"
       },
       "id": "95076036-60b9-4f48-b02a-207820fc4fd2"
      }
     }
    },
    "0889d517-99ed-435c-850b-b5c93a095dd4": {
     "id": "0889d517-99ed-435c-850b-b5c93a095dd4",
     "prev": "e8a2ec21-ad01-41f8-99ba-65a55e7e31d0",
     "regions": {
      "ebfeaddf-29e5-4a9d-9448-34789bd31e3f": {
       "attrs": {
        "height": 0.8,
        "width": 0.8,
        "x": 0.1,
        "y": 0.1
       },
       "content": {
        "cell": "a13d0656-d8d7-4837-b270-111f1eab2489",
        "part": "whole"
       },
       "id": "ebfeaddf-29e5-4a9d-9448-34789bd31e3f"
      }
     }
    },
    "094c1abd-98b8-4697-9dfc-ba4d8390f42f": {
     "id": "094c1abd-98b8-4697-9dfc-ba4d8390f42f",
     "prev": "d387abd8-0d51-441e-9a06-80806697ae5a",
     "regions": {
      "f8f51df0-7289-468f-9a87-1a7e4f0b5331": {
       "attrs": {
        "height": 0.8,
        "width": 0.8,
        "x": 0.1,
        "y": 0.1
       },
       "content": {
        "cell": "27d4b193-7613-4923-8893-27d514c83ae0",
        "part": "whole"
       },
       "id": "f8f51df0-7289-468f-9a87-1a7e4f0b5331"
      }
     }
    },
    "095dd4cd-dc0b-4b2c-8e26-51a3337a88e7": {
     "id": "095dd4cd-dc0b-4b2c-8e26-51a3337a88e7",
     "prev": "b7b212f2-8ccd-4f69-901d-529e32de3032",
     "regions": {
      "7dc9dc10-35d6-4d07-bafa-655df9bc513b": {
       "attrs": {
        "height": 0.8,
        "width": 0.8,
        "x": 0.1,
        "y": 0.1
       },
       "content": {
        "cell": "c3179bda-b5a9-40b9-87e1-145251a917d3",
        "part": "whole"
       },
       "id": "7dc9dc10-35d6-4d07-bafa-655df9bc513b"
      }
     }
    },
    "0a584089-a89c-40b8-a02c-782116eb045f": {
     "id": "0a584089-a89c-40b8-a02c-782116eb045f",
     "prev": "8b23e409-4a13-41ca-92ee-f4adde6f3e2f",
     "regions": {
      "7ea73042-8c19-424a-b270-00a90c9ade24": {
       "attrs": {
        "height": 0.8,
        "width": 0.8,
        "x": 0.1,
        "y": 0.1
       },
       "content": {
        "cell": "c6087f1b-a9c4-4ebd-bf94-74d5d88e1bf2",
        "part": "whole"
       },
       "id": "7ea73042-8c19-424a-b270-00a90c9ade24"
      }
     }
    },
    "0bf9b543-e7e6-4fad-8aee-29589059d2b9": {
     "id": "0bf9b543-e7e6-4fad-8aee-29589059d2b9",
     "prev": "53f7415f-7c7e-4f7f-b346-8d56b5ffd89b",
     "regions": {
      "f6d4e2a5-81be-42ae-8cc8-e1331d89e34d": {
       "attrs": {
        "height": 0.8,
        "width": 0.8,
        "x": 0.1,
        "y": 0.1
       },
       "content": {
        "cell": "72899a0a-c007-4e36-b5d6-7a4855b83d3f",
        "part": "whole"
       },
       "id": "f6d4e2a5-81be-42ae-8cc8-e1331d89e34d"
      }
     }
    },
    "108296d7-f3cb-4b2a-9957-223c5efb0a19": {
     "id": "108296d7-f3cb-4b2a-9957-223c5efb0a19",
     "prev": "f3666ece-ef27-4623-8fd2-0ba57c7a8a18",
     "regions": {
      "e332a67b-9d12-49b9-9275-ab7feeb7eb7f": {
       "attrs": {
        "height": 0.8,
        "width": 0.8,
        "x": 0.1,
        "y": 0.1
       },
       "content": {
        "cell": "bec27565-b845-4b0a-adea-af2af2811edc",
        "part": "whole"
       },
       "id": "e332a67b-9d12-49b9-9275-ab7feeb7eb7f"
      }
     }
    },
    "1238edef-6114-4663-aec9-3660bdc14016": {
     "id": "1238edef-6114-4663-aec9-3660bdc14016",
     "prev": "f38fcf2f-c1c6-42a8-8e0a-304b3ce4dbae",
     "regions": {
      "4110d39a-9e75-4d7f-a704-1acabe41d61c": {
       "attrs": {
        "height": 0.8,
        "width": 0.8,
        "x": 0.1,
        "y": 0.1
       },
       "content": {
        "cell": "ce713ed9-27fa-4043-950f-d325e6ae10d7",
        "part": "whole"
       },
       "id": "4110d39a-9e75-4d7f-a704-1acabe41d61c"
      }
     }
    },
    "15940c9f-a555-4dc0-8abe-b2da6a7f9855": {
     "id": "15940c9f-a555-4dc0-8abe-b2da6a7f9855",
     "prev": "4271c694-13c7-4f07-85a1-84748e5e55e9",
     "regions": {
      "74a0008b-6e21-4d00-85de-b102cdc8f93f": {
       "attrs": {
        "height": 0.8,
        "width": 0.8,
        "x": 0.1,
        "y": 0.1
       },
       "content": {
        "cell": "0af6c2e0-1a3a-41b3-a979-28fa38909135",
        "part": "whole"
       },
       "id": "74a0008b-6e21-4d00-85de-b102cdc8f93f"
      }
     }
    },
    "18dd9e50-257b-4fb8-9a9b-947621e2022e": {
     "id": "18dd9e50-257b-4fb8-9a9b-947621e2022e",
     "prev": "21bf9c15-b347-460d-b43d-9cd8b78d8d05",
     "regions": {
      "25b887ce-9ec1-4394-a190-67d253fd19cc": {
       "attrs": {
        "height": 0.8,
        "width": 0.8,
        "x": 0.1,
        "y": 0.1
       },
       "content": {
        "cell": "3b20444f-6a18-457c-a794-cf1d459413c9",
        "part": "whole"
       },
       "id": "25b887ce-9ec1-4394-a190-67d253fd19cc"
      }
     }
    },
    "18f79df1-8653-4c0d-9ab6-33fe77fef085": {
     "id": "18f79df1-8653-4c0d-9ab6-33fe77fef085",
     "prev": "b5374ed9-b106-4ace-9a98-102ea66ae8a8",
     "regions": {
      "526a4879-13e9-449b-adbd-860e86adf269": {
       "attrs": {
        "height": 0.8,
        "width": 0.8,
        "x": 0.1,
        "y": 0.1
       },
       "content": {
        "cell": "94dedf1c-e679-41c6-a442-7db489fc46a2",
        "part": "whole"
       },
       "id": "526a4879-13e9-449b-adbd-860e86adf269"
      }
     }
    },
    "1cca003b-2fde-4b9f-8d35-2f24fb94e220": {
     "id": "1cca003b-2fde-4b9f-8d35-2f24fb94e220",
     "prev": "07239013-93ce-48ce-940c-95a632a7d62d",
     "regions": {
      "8e5e127c-9945-40fc-8c79-af81a39a732e": {
       "attrs": {
        "height": 0.8,
        "width": 0.8,
        "x": 0.1,
        "y": 0.1
       },
       "content": {
        "cell": "53a67fbd-4102-4c30-981a-c357f6460e58",
        "part": "whole"
       },
       "id": "8e5e127c-9945-40fc-8c79-af81a39a732e"
      }
     }
    },
    "1e498433-389a-4a09-a7b1-e1c7981b300f": {
     "id": "1e498433-389a-4a09-a7b1-e1c7981b300f",
     "prev": "d90d2497-6b20-410e-bc4d-26c5e999e3b2",
     "regions": {
      "53facb4e-56d9-4671-a2f1-134e4c519631": {
       "attrs": {
        "height": 0.8,
        "width": 0.8,
        "x": 0.1,
        "y": 0.1
       },
       "content": {
        "cell": "b354c635-0b48-4d0e-94f1-606406b21126",
        "part": "whole"
       },
       "id": "53facb4e-56d9-4671-a2f1-134e4c519631"
      }
     }
    },
    "1e94eef1-5a58-41d7-8309-75a52bc7af1e": {
     "id": "1e94eef1-5a58-41d7-8309-75a52bc7af1e",
     "prev": "5bf148c1-fdba-4ea6-bf59-e432f3776cad",
     "regions": {
      "1299d72d-c0cd-499e-bfc0-d3906a5b6ebe": {
       "attrs": {
        "height": 0.8,
        "width": 0.8,
        "x": 0.1,
        "y": 0.1
       },
       "content": {
        "cell": "99d67163-18fc-46f8-8bb8-04567192d984",
        "part": "whole"
       },
       "id": "1299d72d-c0cd-499e-bfc0-d3906a5b6ebe"
      }
     }
    },
    "1f290c14-09fa-4837-afbe-3642b0b36510": {
     "id": "1f290c14-09fa-4837-afbe-3642b0b36510",
     "prev": "eb5f2979-c3f7-4bb5-ae8c-bda3afff0c23",
     "regions": {
      "bfa7a181-fcfa-4e4e-8bfe-f5149f75cb1d": {
       "attrs": {
        "height": 0.8,
        "width": 0.8,
        "x": 0.1,
        "y": 0.1
       },
       "content": {
        "cell": "6ae5368a-231e-4853-8158-444b8d34405f",
        "part": "whole"
       },
       "id": "bfa7a181-fcfa-4e4e-8bfe-f5149f75cb1d"
      }
     }
    },
    "1fff1326-b134-41ba-9d20-d617cdec8596": {
     "id": "1fff1326-b134-41ba-9d20-d617cdec8596",
     "prev": "1cca003b-2fde-4b9f-8d35-2f24fb94e220",
     "regions": {
      "67c40bec-9e55-4c5f-b0e5-d672ec375c6a": {
       "attrs": {
        "height": 0.8,
        "width": 0.8,
        "x": 0.1,
        "y": 0.1
       },
       "content": {
        "cell": "c45c7498-ab86-44d4-b234-f7e629915e90",
        "part": "whole"
       },
       "id": "67c40bec-9e55-4c5f-b0e5-d672ec375c6a"
      }
     }
    },
    "2163e0de-e93d-41c8-89ca-bdff09bb7d9f": {
     "id": "2163e0de-e93d-41c8-89ca-bdff09bb7d9f",
     "prev": "96e9e3bd-e3f5-49de-9cb7-22cfd0e11335",
     "regions": {
      "6e979d5c-f81e-4c87-831c-ffbb998c3c0f": {
       "attrs": {
        "height": 0.8,
        "width": 0.8,
        "x": 0.1,
        "y": 0.1
       },
       "content": {
        "cell": "45853e3e-99eb-48b3-9a5c-055473ff1f5b",
        "part": "whole"
       },
       "id": "6e979d5c-f81e-4c87-831c-ffbb998c3c0f"
      }
     }
    },
    "21bf9c15-b347-460d-b43d-9cd8b78d8d05": {
     "id": "21bf9c15-b347-460d-b43d-9cd8b78d8d05",
     "prev": "03b6464e-40a8-4e24-a3c4-82752e81e34f",
     "regions": {
      "9f286b7d-c2e9-4d17-a3fc-480ba3be7780": {
       "attrs": {
        "height": 0.8,
        "width": 0.8,
        "x": 0.1,
        "y": 0.1
       },
       "content": {
        "cell": "01f14dc6-cc36-431b-a59d-9846ea410f5d",
        "part": "whole"
       },
       "id": "9f286b7d-c2e9-4d17-a3fc-480ba3be7780"
      }
     }
    },
    "2b570725-c174-412b-be16-e0838ff2e7f1": {
     "id": "2b570725-c174-412b-be16-e0838ff2e7f1",
     "prev": "d7d8d42d-16f2-48dd-aa08-d11236d8cc4c",
     "regions": {
      "050cadfa-63e7-4435-bfaa-32fe10d9106d": {
       "attrs": {
        "height": 0.8,
        "width": 0.8,
        "x": 0.1,
        "y": 0.1
       },
       "content": {
        "cell": "56d09c59-03ff-44ff-a173-11338679dfe7",
        "part": "whole"
       },
       "id": "050cadfa-63e7-4435-bfaa-32fe10d9106d"
      }
     }
    },
    "2fbebda5-e201-44a6-aa02-11b0d8bd381d": {
     "id": "2fbebda5-e201-44a6-aa02-11b0d8bd381d",
     "prev": "de7fd7d8-eedc-4f1e-bf91-54e3e7deb573",
     "regions": {
      "c2e8f629-f978-4c87-a21f-3969ab9059ed": {
       "attrs": {
        "height": 0.8,
        "width": 0.8,
        "x": 0.1,
        "y": 0.1
       },
       "content": {
        "cell": "a43dc98c-d82b-46b0-b107-fe26b2afff9c",
        "part": "whole"
       },
       "id": "c2e8f629-f978-4c87-a21f-3969ab9059ed"
      }
     }
    },
    "2fc63bc0-0b86-45be-9a75-dbc493312d22": {
     "id": "2fc63bc0-0b86-45be-9a75-dbc493312d22",
     "prev": "f452eb80-55c2-466f-8ad7-03b2e76c9180",
     "regions": {
      "782c179c-1329-449b-9651-2d883680bf38": {
       "attrs": {
        "height": 0.8,
        "width": 0.8,
        "x": 0.1,
        "y": 0.1
       },
       "content": {
        "cell": "058151d1-18d4-4084-9c90-2b97ec1a2e42",
        "part": "whole"
       },
       "id": "782c179c-1329-449b-9651-2d883680bf38"
      }
     }
    },
    "336c0754-751e-4685-8639-693d7eac5fc9": {
     "id": "336c0754-751e-4685-8639-693d7eac5fc9",
     "prev": "46c388a8-eafe-4ac2-9e28-b59453095523",
     "regions": {
      "6e2c0565-ba5d-41bd-b0c1-ee77beeac362": {
       "attrs": {
        "height": 0.8,
        "width": 0.8,
        "x": 0.1,
        "y": 0.1
       },
       "content": {
        "cell": "bfdb2dc8-cb18-425d-85f5-a3caf9072b5b",
        "part": "whole"
       },
       "id": "6e2c0565-ba5d-41bd-b0c1-ee77beeac362"
      }
     }
    },
    "34a9cc08-a85a-49da-ba94-fbfdc27ab8ff": {
     "id": "34a9cc08-a85a-49da-ba94-fbfdc27ab8ff",
     "prev": "61cc3411-c166-4b08-ab00-2a23473d721a",
     "regions": {
      "63af2cd7-be62-4cdb-97b4-3a30e2a5a023": {
       "attrs": {
        "height": 0.8,
        "width": 0.8,
        "x": 0.1,
        "y": 0.1
       },
       "content": {
        "cell": "74aa5d46-90d8-4fcd-8e72-fa92c4d39c29",
        "part": "whole"
       },
       "id": "63af2cd7-be62-4cdb-97b4-3a30e2a5a023"
      }
     }
    },
    "351d7a9a-4737-4b1e-8239-4e79fa86160e": {
     "id": "351d7a9a-4737-4b1e-8239-4e79fa86160e",
     "prev": "77792cff-0585-4de8-8967-dee61d6c3557",
     "regions": {
      "0c16b66f-a564-4d06-a61a-8f6e2d0eb051": {
       "attrs": {
        "height": 0.3130927105449399,
        "width": 0.8,
        "x": 0.1,
        "y": 0.23965557914602503
       },
       "content": {
        "cell": "af2792f1-1e9f-4030-b6a3-7f4c2e6ca9cc",
        "part": "whole"
       },
       "id": "0c16b66f-a564-4d06-a61a-8f6e2d0eb051"
      },
      "27bd3e4d-9712-4d39-bc01-17c973d0e39e": {
       "attrs": {
        "height": 0.3678225996697335,
        "width": 0.8,
        "x": 0.1,
        "y": 0.5718093890068413
       },
       "content": null,
       "id": "27bd3e4d-9712-4d39-bc01-17c973d0e39e"
      },
      "6a5a0354-68ce-4048-970b-dc021d25cfb8": {
       "attrs": {
        "height": 0.12814343005425816,
        "width": 0.8,
        "x": 0.1,
        "y": 0.09245104977589057
       },
       "content": {
        "cell": "8170f4cb-988f-4b56-9309-9ffcdf558bb2",
        "part": "whole"
       },
       "id": "6a5a0354-68ce-4048-970b-dc021d25cfb8"
      }
     }
    },
    "3547e68d-2f85-4278-90ec-bf17a81555ff": {
     "id": "3547e68d-2f85-4278-90ec-bf17a81555ff",
     "prev": "5cf063db-34f8-462c-b6d4-98712d0bc3db",
     "regions": {
      "e12d5b75-75ef-4dcf-8107-d41c90f5041b": {
       "attrs": {
        "height": 0.8,
        "width": 0.8,
        "x": 0.1,
        "y": 0.1
       },
       "content": {
        "cell": "538ccab9-6dde-4158-995c-a61ff283073e",
        "part": "whole"
       },
       "id": "e12d5b75-75ef-4dcf-8107-d41c90f5041b"
      }
     }
    },
    "3626c8ab-80d9-4b7c-8fb2-57d9ed2725ef": {
     "id": "3626c8ab-80d9-4b7c-8fb2-57d9ed2725ef",
     "prev": "d138b651-8e9e-453e-9fb8-132f96438bfa",
     "regions": {
      "2f3bcc49-f2c9-4b25-be46-ae4596e99bc2": {
       "attrs": {
        "height": 0.8,
        "width": 0.8,
        "x": 0.1,
        "y": 0.1
       },
       "content": {
        "cell": "1348b2fd-fcf2-4858-a14c-15734cf97c01",
        "part": "whole"
       },
       "id": "2f3bcc49-f2c9-4b25-be46-ae4596e99bc2"
      }
     }
    },
    "38798678-a553-4c62-9399-1fd1733aebc0": {
     "id": "38798678-a553-4c62-9399-1fd1733aebc0",
     "prev": "971368e3-f20f-4442-b6f8-a19407abf08e",
     "regions": {
      "5a0aadb4-902e-4c94-bd1c-3854d529e320": {
       "attrs": {
        "height": 0.8,
        "width": 0.8,
        "x": 0.1,
        "y": 0.1
       },
       "content": {
        "cell": "6e5bbd63-06f2-422d-b202-445f520f735d",
        "part": "whole"
       },
       "id": "5a0aadb4-902e-4c94-bd1c-3854d529e320"
      }
     }
    },
    "398c5669-c1d3-4ce1-b86f-3191bed68366": {
     "id": "398c5669-c1d3-4ce1-b86f-3191bed68366",
     "prev": "652cf917-fa79-4ee3-b785-de473c205806",
     "regions": {
      "6875faa6-c704-4eab-a1f6-1e9d3e75569f": {
       "attrs": {
        "height": 0.8,
        "width": 0.8,
        "x": 0.1,
        "y": 0.1
       },
       "content": {
        "cell": "257acf6c-e887-4986-9cb5-7961675e40cd",
        "part": "whole"
       },
       "id": "6875faa6-c704-4eab-a1f6-1e9d3e75569f"
      }
     }
    },
    "399be114-ba5e-42c2-8d08-1fd9a1071af4": {
     "id": "399be114-ba5e-42c2-8d08-1fd9a1071af4",
     "prev": "9379dadb-a85a-4b81-866d-5ef79297875f",
     "regions": {
      "c66fd3a9-ec99-461c-a071-8cce1aa2605b": {
       "attrs": {
        "height": 0.8,
        "width": 0.8,
        "x": 0.1,
        "y": 0.1
       },
       "content": {
        "cell": "3e307427-566b-43e4-a33f-f9bded50e09a",
        "part": "whole"
       },
       "id": "c66fd3a9-ec99-461c-a071-8cce1aa2605b"
      }
     }
    },
    "4271c694-13c7-4f07-85a1-84748e5e55e9": {
     "id": "4271c694-13c7-4f07-85a1-84748e5e55e9",
     "prev": "095dd4cd-dc0b-4b2c-8e26-51a3337a88e7",
     "regions": {
      "8ee1dd94-7633-4521-b922-b865d1b90cae": {
       "attrs": {
        "height": 0.8,
        "width": 0.8,
        "x": 0.1,
        "y": 0.1
       },
       "content": {
        "cell": "fabb70db-964b-4b24-939b-2073bb4c7342",
        "part": "whole"
       },
       "id": "8ee1dd94-7633-4521-b922-b865d1b90cae"
      }
     }
    },
    "46c388a8-eafe-4ac2-9e28-b59453095523": {
     "id": "46c388a8-eafe-4ac2-9e28-b59453095523",
     "prev": "4cb1c453-b40b-4e93-8936-f812eb8d9743",
     "regions": {
      "81850195-2fdc-4875-bdfe-5a2ccae43bd4": {
       "attrs": {
        "height": 0.8,
        "width": 0.8,
        "x": 0.1,
        "y": 0.1
       },
       "content": {
        "cell": "10f31ab9-8e92-40ca-ab27-04ef88d11da0",
        "part": "whole"
       },
       "id": "81850195-2fdc-4875-bdfe-5a2ccae43bd4"
      }
     }
    },
    "46e8a4fc-7982-44c7-a9b8-12fec4272bbb": {
     "id": "46e8a4fc-7982-44c7-a9b8-12fec4272bbb",
     "prev": "dc70e6b2-7c02-47c0-a78a-a1a8c6c6ef63",
     "regions": {
      "0056112c-e902-4f43-b31d-236ea23e378b": {
       "attrs": {
        "height": 0.8,
        "width": 0.8,
        "x": 0.1,
        "y": 0.1
       },
       "content": {
        "cell": "8e6d9acb-5534-403e-9fe9-d927a9de3e7a",
        "part": "whole"
       },
       "id": "0056112c-e902-4f43-b31d-236ea23e378b"
      }
     }
    },
    "4897b626-92d5-4390-9f6e-ebf651f5dc21": {
     "id": "4897b626-92d5-4390-9f6e-ebf651f5dc21",
     "prev": "74560b6c-14e9-4190-a9ad-178355dac3db",
     "regions": {
      "2a75a0e0-2a11-4e39-b126-18625032ca06": {
       "attrs": {
        "height": 0.8,
        "width": 0.8,
        "x": 0.1,
        "y": 0.1
       },
       "content": {
        "cell": "2534741c-a093-43b8-99de-f3e3a70a9c34",
        "part": "whole"
       },
       "id": "2a75a0e0-2a11-4e39-b126-18625032ca06"
      }
     }
    },
    "4cb1c453-b40b-4e93-8936-f812eb8d9743": {
     "id": "4cb1c453-b40b-4e93-8936-f812eb8d9743",
     "prev": "ef7cc599-fbad-4a0b-a023-1de584264cf8",
     "regions": {
      "4d7fa4dd-b647-4f6a-9c02-e35fa5f7b62d": {
       "attrs": {
        "height": 0.8,
        "width": 0.8,
        "x": 0.1,
        "y": 0.1
       },
       "content": {
        "cell": "279680dc-cd2e-4d13-979b-8165596f62d2",
        "part": "whole"
       },
       "id": "4d7fa4dd-b647-4f6a-9c02-e35fa5f7b62d"
      }
     }
    },
    "51183294-7526-4976-abe6-34ab91243627": {
     "id": "51183294-7526-4976-abe6-34ab91243627",
     "prev": "f8777153-4bea-4b40-a6a9-a88c5cc31f8f",
     "regions": {
      "a66938b9-6eaa-4718-b86a-9e2f4fa43f29": {
       "attrs": {
        "height": 0.8075489502241096,
        "width": 0.8,
        "x": 0.1,
        "y": 0.09245104977589057
       },
       "content": {
        "cell": "f3593446-5751-48b2-a764-ac8cfa0630d6",
        "part": "whole"
       },
       "id": "a66938b9-6eaa-4718-b86a-9e2f4fa43f29"
      }
     }
    },
    "5331d4ee-116c-40f2-8853-24c81f4a3283": {
     "id": "5331d4ee-116c-40f2-8853-24c81f4a3283",
     "prev": "e75f506a-f43c-4d62-aefc-7248e6943815",
     "regions": {
      "52cf1d95-ca8b-4111-84c2-a4849284a1f0": {
       "attrs": {
        "height": 0.8,
        "width": 0.8,
        "x": 0.1,
        "y": 0.1
       },
       "content": {
        "cell": "5a2a3236-f469-4617-bf65-c4484abe180e",
        "part": "whole"
       },
       "id": "52cf1d95-ca8b-4111-84c2-a4849284a1f0"
      }
     }
    },
    "53f7415f-7c7e-4f7f-b346-8d56b5ffd89b": {
     "id": "53f7415f-7c7e-4f7f-b346-8d56b5ffd89b",
     "prev": "a01f78d8-66f3-4517-98ab-c9b3cbfd23b3",
     "regions": {
      "a2862830-dc27-4002-a174-596fbda2c84b": {
       "attrs": {
        "height": 0.8,
        "width": 0.8,
        "x": 0.1,
        "y": 0.1
       },
       "content": {
        "cell": "bde829e0-0749-47e8-9046-fb5ae481f53b",
        "part": "whole"
       },
       "id": "a2862830-dc27-4002-a174-596fbda2c84b"
      }
     }
    },
    "541fa97c-9f1c-4e44-9981-8696560362fb": {
     "id": "541fa97c-9f1c-4e44-9981-8696560362fb",
     "prev": "95fd51be-2f45-4e98-9695-c385e3837a61",
     "regions": {
      "fa094d6a-d290-4a4f-95a6-9f2278d7efb7": {
       "attrs": {
        "height": 0.8,
        "width": 0.8,
        "x": 0.1,
        "y": 0.1
       },
       "content": {
        "cell": "a4e9aa52-1530-40cd-a603-289745a902a4",
        "part": "whole"
       },
       "id": "fa094d6a-d290-4a4f-95a6-9f2278d7efb7"
      }
     }
    },
    "544da059-79bf-4255-a2da-3fbbc9195d17": {
     "id": "544da059-79bf-4255-a2da-3fbbc9195d17",
     "prev": "6d953345-a24b-418b-a114-21b575d084e0",
     "regions": {
      "e3201fa3-6ccf-4d23-87c8-6ab7377d55ba": {
       "attrs": {
        "height": 0.8,
        "width": 0.8,
        "x": 0.1,
        "y": 0.1
       },
       "content": {
        "cell": "56224c81-399b-4f41-a658-898afb75ae97",
        "part": "whole"
       },
       "id": "e3201fa3-6ccf-4d23-87c8-6ab7377d55ba"
      }
     }
    },
    "567270e1-8dce-4d17-9871-54dda681bbf4": {
     "id": "567270e1-8dce-4d17-9871-54dda681bbf4",
     "prev": "6f820a13-673e-4846-a21c-8063ee3b2121",
     "regions": {
      "de7b3c69-add8-47bd-8080-834db287c55e": {
       "attrs": {
        "height": 0.8,
        "width": 0.8,
        "x": 0.1,
        "y": 0.1
       },
       "content": {
        "cell": "01edaa82-33ea-486b-ac8c-611f245208cb",
        "part": "whole"
       },
       "id": "de7b3c69-add8-47bd-8080-834db287c55e"
      }
     }
    },
    "5b9a7959-43a8-4e4c-8114-e5a618087449": {
     "id": "5b9a7959-43a8-4e4c-8114-e5a618087449",
     "prev": "15940c9f-a555-4dc0-8abe-b2da6a7f9855",
     "regions": {
      "2708f345-00d0-421f-b8f4-ce9c94286faf": {
       "attrs": {
        "height": 0.8,
        "width": 0.8,
        "x": 0.1,
        "y": 0.1
       },
       "content": {
        "cell": "10962f6c-6adc-44c4-a1ec-b4a3d5ebab9a",
        "part": "whole"
       },
       "id": "2708f345-00d0-421f-b8f4-ce9c94286faf"
      }
     }
    },
    "5bf148c1-fdba-4ea6-bf59-e432f3776cad": {
     "id": "5bf148c1-fdba-4ea6-bf59-e432f3776cad",
     "prev": "2b570725-c174-412b-be16-e0838ff2e7f1",
     "regions": {
      "cd826363-4aab-42de-ab62-d91162f76b16": {
       "attrs": {
        "height": 0.8,
        "width": 0.8,
        "x": 0.1,
        "y": 0.1
       },
       "content": {
        "cell": "5ce7fc3f-d83e-4d75-854e-03b5aab07e8c",
        "part": "whole"
       },
       "id": "cd826363-4aab-42de-ab62-d91162f76b16"
      }
     }
    },
    "5cf063db-34f8-462c-b6d4-98712d0bc3db": {
     "id": "5cf063db-34f8-462c-b6d4-98712d0bc3db",
     "prev": null,
     "regions": {
      "0d772864-d497-47e8-918d-ce3a369158b4": {
       "attrs": {
        "height": 0.8,
        "width": 0.8,
        "x": 0.1,
        "y": 0.1
       },
       "content": {
        "cell": "13b102d5-9617-411b-8a6a-d799c7855bfe",
        "part": "whole"
       },
       "id": "0d772864-d497-47e8-918d-ce3a369158b4"
      }
     }
    },
    "5d68c383-e115-4a0e-a406-ec10140c8a38": {
     "id": "5d68c383-e115-4a0e-a406-ec10140c8a38",
     "prev": "c004e27b-ee3c-4ca5-b15d-68bf18619e53",
     "regions": {
      "ae4c5f0c-a60f-4ebd-b078-8622faab7c6d": {
       "attrs": {
        "height": 0.8,
        "width": 0.8,
        "x": 0.1,
        "y": 0.1
       },
       "content": {
        "cell": "88a6bd86-8fab-48c6-93b4-cec17df264dd",
        "part": "whole"
       },
       "id": "ae4c5f0c-a60f-4ebd-b078-8622faab7c6d"
      }
     }
    },
    "61cc3411-c166-4b08-ab00-2a23473d721a": {
     "id": "61cc3411-c166-4b08-ab00-2a23473d721a",
     "prev": "ae021c5f-83a7-40c1-a4c9-61e3f918f89b",
     "regions": {
      "717b0d50-e121-4181-beab-50ccef2f2505": {
       "attrs": {
        "height": 0.8,
        "width": 0.8,
        "x": 0.1,
        "y": 0.1
       },
       "content": {
        "cell": "0fed71c6-2a8c-4e1b-99b1-4fef58e859af",
        "part": "whole"
       },
       "id": "717b0d50-e121-4181-beab-50ccef2f2505"
      }
     }
    },
    "61d0cfa4-981c-46d1-8f28-bdc9e82e9aa0": {
     "id": "61d0cfa4-981c-46d1-8f28-bdc9e82e9aa0",
     "prev": "1fff1326-b134-41ba-9d20-d617cdec8596",
     "regions": {
      "858a4233-4205-48e7-924c-cd9d85895b4f": {
       "attrs": {
        "height": 0.8,
        "width": 0.8,
        "x": 0.1,
        "y": 0.1
       },
       "content": {
        "cell": "4655f56b-7d18-4f17-91e7-a72ea346b7ce",
        "part": "whole"
       },
       "id": "858a4233-4205-48e7-924c-cd9d85895b4f"
      }
     }
    },
    "63baf0ae-f8a1-4dfa-b155-b144ff4d7583": {
     "id": "63baf0ae-f8a1-4dfa-b155-b144ff4d7583",
     "prev": "34a9cc08-a85a-49da-ba94-fbfdc27ab8ff",
     "regions": {
      "9e1adc76-59bc-4032-87e2-9ec89df9e295": {
       "attrs": {
        "height": 0.8,
        "width": 0.8,
        "x": 0.1,
        "y": 0.1
       },
       "content": {
        "cell": "e92bc700-9e61-4542-b794-1b3b656d8d6e",
        "part": "whole"
       },
       "id": "9e1adc76-59bc-4032-87e2-9ec89df9e295"
      }
     }
    },
    "640bb46f-bc94-4380-a383-6442aa8f23cd": {
     "id": "640bb46f-bc94-4380-a383-6442aa8f23cd",
     "prev": "d0e21776-15d1-4b8e-9fa0-56680aa52838",
     "regions": {
      "38b3715d-9d88-4106-8c02-571b604fc5dc": {
       "attrs": {
        "height": 0.8,
        "width": 0.8,
        "x": 0.1,
        "y": 0.1
       },
       "content": {
        "cell": "f9afd52c-f496-4425-8965-e84560f9a576",
        "part": "whole"
       },
       "id": "38b3715d-9d88-4106-8c02-571b604fc5dc"
      }
     }
    },
    "652cf917-fa79-4ee3-b785-de473c205806": {
     "id": "652cf917-fa79-4ee3-b785-de473c205806",
     "prev": "896b5f05-1f48-44fe-9048-e82e82d090ef",
     "regions": {
      "340cfc43-ef72-4a7e-8915-e9be2081ef1b": {
       "attrs": {
        "height": 0.8,
        "width": 0.8,
        "x": 0.1,
        "y": 0.1
       },
       "content": {
        "cell": "89ac37f8-fc2b-4a5a-8873-f21dc902e61b",
        "part": "whole"
       },
       "id": "340cfc43-ef72-4a7e-8915-e9be2081ef1b"
      }
     }
    },
    "6592f9f7-8d45-4012-b3ab-86c9a4620c44": {
     "id": "6592f9f7-8d45-4012-b3ab-86c9a4620c44",
     "prev": "685b74f9-08b8-408d-bcde-78435697f1ff",
     "regions": {
      "9dc0b123-aa46-4530-94a3-fcb086d5f6b9": {
       "attrs": {
        "height": 0.8,
        "width": 0.8,
        "x": 0.1,
        "y": 0.1
       },
       "content": {
        "cell": "e75cd689-27c1-4c82-b779-1b5f7fb96450",
        "part": "whole"
       },
       "id": "9dc0b123-aa46-4530-94a3-fcb086d5f6b9"
      }
     }
    },
    "685b74f9-08b8-408d-bcde-78435697f1ff": {
     "id": "685b74f9-08b8-408d-bcde-78435697f1ff",
     "prev": "b59953ce-4de8-4e68-924b-2ed831897496",
     "regions": {
      "43216ae0-751a-4f92-8845-e88c3ab1927d": {
       "attrs": {
        "height": 0.8,
        "width": 0.8,
        "x": 0.1,
        "y": 0.1
       },
       "content": {
        "cell": "f6d52cc2-cc7c-46ec-b660-7b5702698a1e",
        "part": "whole"
       },
       "id": "43216ae0-751a-4f92-8845-e88c3ab1927d"
      }
     }
    },
    "6aae9cc0-cbe0-4787-81c3-7fd2034b3463": {
     "id": "6aae9cc0-cbe0-4787-81c3-7fd2034b3463",
     "prev": "1e498433-389a-4a09-a7b1-e1c7981b300f",
     "regions": {
      "4645677b-78aa-4033-a698-13a143a9c4cd": {
       "attrs": {
        "height": 0.8,
        "width": 0.8,
        "x": 0.1,
        "y": 0.1
       },
       "content": {
        "cell": "9b224185-ef95-4397-abac-f312b216c791",
        "part": "whole"
       },
       "id": "4645677b-78aa-4033-a698-13a143a9c4cd"
      }
     }
    },
    "6d953345-a24b-418b-a114-21b575d084e0": {
     "id": "6d953345-a24b-418b-a114-21b575d084e0",
     "prev": "e26a605d-ea4b-4b22-ba94-3377e5bf9284",
     "regions": {
      "a7b1ca3d-05d0-4d7a-8b46-7de7c1f4585a": {
       "attrs": {
        "height": 0.8,
        "width": 0.8,
        "x": 0.1,
        "y": 0.1
       },
       "content": {
        "cell": "a8d175cc-b546-4d1f-b2e9-6bdfcdd9b7a7",
        "part": "whole"
       },
       "id": "a7b1ca3d-05d0-4d7a-8b46-7de7c1f4585a"
      }
     }
    },
    "6f74c2c5-088b-44b1-bb22-4d41f58d5021": {
     "id": "6f74c2c5-088b-44b1-bb22-4d41f58d5021",
     "prev": "46e8a4fc-7982-44c7-a9b8-12fec4272bbb",
     "regions": {
      "f4b8895a-27bf-4283-814e-fc02b0f57f11": {
       "attrs": {
        "height": 0.8,
        "width": 0.8,
        "x": 0.1,
        "y": 0.1
       },
       "content": {
        "cell": "5b1eac31-d58f-419e-b2cc-a1cbf71704c5",
        "part": "whole"
       },
       "id": "f4b8895a-27bf-4283-814e-fc02b0f57f11"
      }
     }
    },
    "6f820a13-673e-4846-a21c-8063ee3b2121": {
     "id": "6f820a13-673e-4846-a21c-8063ee3b2121",
     "prev": "d9827b86-3470-4f6e-b9b7-c47c6bfbfc6d",
     "regions": {
      "10007d71-2c33-4e09-b6dc-c044a065576e": {
       "attrs": {
        "height": 0.8,
        "width": 0.8,
        "x": 0.1,
        "y": 0.1
       },
       "content": {
        "cell": "10ab60d8-3c1a-44a5-b7c0-7c6dd79e0f10",
        "part": "whole"
       },
       "id": "10007d71-2c33-4e09-b6dc-c044a065576e"
      }
     }
    },
    "74560b6c-14e9-4190-a9ad-178355dac3db": {
     "id": "74560b6c-14e9-4190-a9ad-178355dac3db",
     "prev": "dfc3addb-674a-40df-998a-72a56aa88596",
     "regions": {
      "178680ad-dc60-4dad-9037-e48131832e7b": {
       "attrs": {
        "height": 0.8,
        "width": 0.8,
        "x": 0.1,
        "y": 0.1
       },
       "content": {
        "cell": "e30789d1-daf3-47e4-9976-63a9c0fbec8c",
        "part": "whole"
       },
       "id": "178680ad-dc60-4dad-9037-e48131832e7b"
      }
     }
    },
    "74a65a38-6a09-4603-ab7b-cbcd08928c49": {
     "id": "74a65a38-6a09-4603-ab7b-cbcd08928c49",
     "prev": "5d68c383-e115-4a0e-a406-ec10140c8a38",
     "regions": {
      "0c3a6c77-8709-43fd-b962-4a313f9680b2": {
       "attrs": {
        "height": 0.8,
        "width": 0.8,
        "x": 0.1,
        "y": 0.1
       },
       "content": {
        "cell": "25c10a77-fe46-4303-98e4-d7af3f9c5f8f",
        "part": "whole"
       },
       "id": "0c3a6c77-8709-43fd-b962-4a313f9680b2"
      }
     }
    },
    "74da3614-7d6f-4e02-86dd-306dfd8b906a": {
     "id": "74da3614-7d6f-4e02-86dd-306dfd8b906a",
     "prev": "7e5405d4-37b6-45da-857f-ddbc743d970b",
     "regions": {
      "db98d19a-97e1-4239-8f1e-aa648edfb1d2": {
       "attrs": {
        "height": 0.8,
        "width": 0.8,
        "x": 0.1,
        "y": 0.1
       },
       "content": {
        "cell": "8b4c0225-e901-4c7c-be78-664bb332b9e4",
        "part": "whole"
       },
       "id": "db98d19a-97e1-4239-8f1e-aa648edfb1d2"
      }
     }
    },
    "772d26f2-8ceb-431e-a3ec-a3aceca10dfb": {
     "id": "772d26f2-8ceb-431e-a3ec-a3aceca10dfb",
     "prev": "d0a48784-4fe9-43d2-ae53-b26e78ed9459",
     "regions": {
      "29031b4c-2b44-4acb-9401-f4ecd8d51478": {
       "attrs": {
        "height": 0.8,
        "width": 0.8,
        "x": 0.1,
        "y": 0.1
       },
       "content": {
        "cell": "dad14801-a41d-4bae-8d44-af8da71cb89f",
        "part": "whole"
       },
       "id": "29031b4c-2b44-4acb-9401-f4ecd8d51478"
      }
     }
    },
    "77792cff-0585-4de8-8967-dee61d6c3557": {
     "id": "77792cff-0585-4de8-8967-dee61d6c3557",
     "prev": "9881d397-56f8-4b95-baee-f352c10443b8",
     "regions": {
      "1c698cb7-c890-46d9-bc02-fc5567ea6677": {
       "attrs": {
        "height": 0.3678225996697335,
        "width": 0.8,
        "x": 0.1,
        "y": 0.5718093890068413
       },
       "content": {
        "cell": "720b00f3-6fd5-42a4-b2dd-b5eaf32639bd",
        "part": "whole"
       },
       "id": "1c698cb7-c890-46d9-bc02-fc5567ea6677"
      },
      "4a50a250-6c5a-4823-86b5-417086c63674": {
       "attrs": {
        "height": 0.12814343005425816,
        "width": 0.8,
        "x": 0.1,
        "y": 0.09245104977589057
       },
       "content": {
        "cell": "1b6221a3-0610-45d3-b16d-ee3748b40800",
        "part": "whole"
       },
       "id": "4a50a250-6c5a-4823-86b5-417086c63674"
      },
      "af78fad6-25fc-4f37-a0b5-c9fcfcb192f5": {
       "attrs": {
        "height": 0.3130927105449399,
        "width": 0.8,
        "x": 0.1,
        "y": 0.23965557914602503
       },
       "content": {
        "cell": "de1f25d9-0fa0-435f-ad06-701fe564da18",
        "part": "whole"
       },
       "id": "af78fad6-25fc-4f37-a0b5-c9fcfcb192f5"
      }
     }
    },
    "7e5405d4-37b6-45da-857f-ddbc743d970b": {
     "id": "7e5405d4-37b6-45da-857f-ddbc743d970b",
     "prev": "63baf0ae-f8a1-4dfa-b155-b144ff4d7583",
     "regions": {
      "b24d5cb6-9d77-4a18-97f3-3408639f695d": {
       "attrs": {
        "height": 0.8,
        "width": 0.8,
        "x": 0.1,
        "y": 0.1
       },
       "content": {
        "cell": "6d3d141f-7027-417b-90fb-0b3a05b98350",
        "part": "whole"
       },
       "id": "b24d5cb6-9d77-4a18-97f3-3408639f695d"
      }
     }
    },
    "8064b7d5-7f86-416f-9600-a6756362c88e": {
     "id": "8064b7d5-7f86-416f-9600-a6756362c88e",
     "prev": "af467400-2212-4118-90be-95f207db98e8",
     "regions": {
      "96bfe1e3-fe4b-4824-90a9-9c0167961f89": {
       "attrs": {
        "height": 0.8,
        "width": 0.8,
        "x": 0.1,
        "y": 0.1
       },
       "content": {
        "cell": "64cbfd4b-e4e6-495c-b78d-60d12d6e1c0e",
        "part": "whole"
       },
       "id": "96bfe1e3-fe4b-4824-90a9-9c0167961f89"
      }
     }
    },
    "80911556-b936-424d-b9a3-d3b94e1d5dd6": {
     "id": "80911556-b936-424d-b9a3-d3b94e1d5dd6",
     "prev": "f77cb06b-ae3b-4208-9019-18152c9cfec2",
     "regions": {
      "f18947aa-1605-4373-9742-f761741032b7": {
       "attrs": {
        "height": 0.8,
        "width": 0.8,
        "x": 0.1,
        "y": 0.1
       },
       "content": {
        "cell": "dd17f3bb-3135-4c20-89de-c575fd95e7ad",
        "part": "whole"
       },
       "id": "f18947aa-1605-4373-9742-f761741032b7"
      }
     }
    },
    "8155b1d0-6139-4ffc-9680-dff605f282d0": {
     "id": "8155b1d0-6139-4ffc-9680-dff605f282d0",
     "prev": "f98a7b00-5ec7-415e-9fec-d51648a33aed",
     "regions": {
      "252da8cb-c322-4ce6-943a-33c4f6375415": {
       "attrs": {
        "height": 0.3678225996697335,
        "width": 0.8,
        "x": 0.1,
        "y": 0.5718093890068413
       },
       "content": {
        "cell": "af0b9afd-5c30-42b4-b2e8-1b5ad2ba2c04",
        "part": "whole"
       },
       "id": "252da8cb-c322-4ce6-943a-33c4f6375415"
      },
      "50076e7c-c7f8-4582-82a2-63e1f34a380a": {
       "attrs": {
        "height": 0.3130927105449399,
        "width": 0.8,
        "x": 0.1,
        "y": 0.23965557914602503
       },
       "content": {
        "cell": "34b037eb-d751-40db-a9a4-4eb4fe04010a",
        "part": "whole"
       },
       "id": "50076e7c-c7f8-4582-82a2-63e1f34a380a"
      },
      "e8b118ab-5cc9-48d6-a879-d2d6da7dd284": {
       "attrs": {
        "height": 0.12814343005425816,
        "width": 0.8,
        "x": 0.1,
        "y": 0.09245104977589057
       },
       "content": {
        "cell": "098d5a3e-2f5e-424c-82cc-c3321bbfdbc0",
        "part": "whole"
       },
       "id": "e8b118ab-5cc9-48d6-a879-d2d6da7dd284"
      }
     }
    },
    "82d77cdc-1db2-4531-92fa-ecf849175b5b": {
     "id": "82d77cdc-1db2-4531-92fa-ecf849175b5b",
     "prev": "80911556-b936-424d-b9a3-d3b94e1d5dd6",
     "regions": {
      "ddf1854b-03be-4b5b-9b62-22ad10956a4d": {
       "attrs": {
        "height": 0.8,
        "width": 0.8,
        "x": 0.1,
        "y": 0.1
       },
       "content": {
        "cell": "2c124a5c-092f-4a7d-8d55-2e0876b97dd0",
        "part": "whole"
       },
       "id": "ddf1854b-03be-4b5b-9b62-22ad10956a4d"
      }
     }
    },
    "86d19fd6-3675-4f0b-9df0-de96e9b185e3": {
     "id": "86d19fd6-3675-4f0b-9df0-de96e9b185e3",
     "prev": "18dd9e50-257b-4fb8-9a9b-947621e2022e",
     "regions": {
      "951026e3-45e0-44a3-bfc7-11c53571246d": {
       "attrs": {
        "height": 0.8,
        "width": 0.8,
        "x": 0.1,
        "y": 0.1
       },
       "content": {
        "cell": "9ab95e39-6f51-45cb-8257-8a85b5c0e92a",
        "part": "whole"
       },
       "id": "951026e3-45e0-44a3-bfc7-11c53571246d"
      }
     }
    },
    "8711ae47-6ad5-4fa7-8d81-c27021fee27e": {
     "id": "8711ae47-6ad5-4fa7-8d81-c27021fee27e",
     "prev": "8e23c7b4-a25e-4ee2-81db-8733772f2644",
     "regions": {
      "9dd8ba8c-261c-4794-9eac-29ea842ada62": {
       "attrs": {
        "height": 0.8,
        "width": 0.8,
        "x": 0.1,
        "y": 0.1
       },
       "content": {
        "cell": "40c9a4a2-9a92-4b1e-b61e-a87b1495e7bd",
        "part": "whole"
       },
       "id": "9dd8ba8c-261c-4794-9eac-29ea842ada62"
      }
     }
    },
    "896b5f05-1f48-44fe-9048-e82e82d090ef": {
     "id": "896b5f05-1f48-44fe-9048-e82e82d090ef",
     "prev": "fe666f5c-5044-4145-ad25-e687c72203e5",
     "regions": {
      "ed6b4937-6928-4364-8960-02beca5c6ae3": {
       "attrs": {
        "height": 0.8,
        "width": 0.8,
        "x": 0.1,
        "y": 0.1
       },
       "content": {
        "cell": "38c14668-2338-43be-81d2-df30f39f64db",
        "part": "whole"
       },
       "id": "ed6b4937-6928-4364-8960-02beca5c6ae3"
      }
     }
    },
    "8ad1ddf8-3975-42fc-abf8-3fbdde18c4d7": {
     "id": "8ad1ddf8-3975-42fc-abf8-3fbdde18c4d7",
     "prev": "0bf9b543-e7e6-4fad-8aee-29589059d2b9",
     "regions": {
      "c296d537-bf39-4ec6-9eba-9aa507fb2a37": {
       "attrs": {
        "height": 0.8,
        "width": 0.8,
        "x": 0.1,
        "y": 0.1
       },
       "content": {
        "cell": "84eb3559-76dc-4fa6-8233-8805c8a1e53e",
        "part": "whole"
       },
       "id": "c296d537-bf39-4ec6-9eba-9aa507fb2a37"
      }
     }
    },
    "8b23e409-4a13-41ca-92ee-f4adde6f3e2f": {
     "id": "8b23e409-4a13-41ca-92ee-f4adde6f3e2f",
     "prev": "dc5993a2-f79a-47df-8b50-97915312878a",
     "regions": {
      "ca17251c-2609-46f3-b7c2-226b9c45333d": {
       "attrs": {
        "height": 0.8,
        "width": 0.8,
        "x": 0.1,
        "y": 0.1
       },
       "content": {
        "cell": "af4b4983-1830-447c-8cb5-2db89964fa02",
        "part": "whole"
       },
       "id": "ca17251c-2609-46f3-b7c2-226b9c45333d"
      }
     }
    },
    "8b51563c-50ab-4635-8d62-81f81f366ff8": {
     "id": "8b51563c-50ab-4635-8d62-81f81f366ff8",
     "prev": "1f290c14-09fa-4837-afbe-3642b0b36510",
     "regions": {
      "9f2458a1-1722-4c9c-a451-2b37880f2ec3": {
       "attrs": {
        "height": 0.8,
        "width": 0.8,
        "x": 0.1,
        "y": 0.1
       },
       "content": {
        "cell": "354d1fad-3451-43b2-91d7-8edd0494bcd2",
        "part": "whole"
       },
       "id": "9f2458a1-1722-4c9c-a451-2b37880f2ec3"
      }
     }
    },
    "8e23c7b4-a25e-4ee2-81db-8733772f2644": {
     "id": "8e23c7b4-a25e-4ee2-81db-8733772f2644",
     "prev": "2fbebda5-e201-44a6-aa02-11b0d8bd381d",
     "regions": {
      "b189b604-6077-406c-826e-d9e9db3f757d": {
       "attrs": {
        "height": 0.8,
        "width": 0.8,
        "x": 0.1,
        "y": 0.1
       },
       "content": {
        "cell": "043caa41-ba64-4085-bac7-0b5bf4efae38",
        "part": "whole"
       },
       "id": "b189b604-6077-406c-826e-d9e9db3f757d"
      }
     }
    },
    "90c26fc6-12d0-4b9a-b202-2df6f49187b5": {
     "id": "90c26fc6-12d0-4b9a-b202-2df6f49187b5",
     "prev": "5b9a7959-43a8-4e4c-8114-e5a618087449",
     "regions": {
      "8164fc31-6f3a-4108-b0aa-b7af04a1f01a": {
       "attrs": {
        "height": 0.8,
        "width": 0.8,
        "x": 0.1,
        "y": 0.1
       },
       "content": {
        "cell": "d229b720-34db-4768-afbe-794fba82bf84",
        "part": "whole"
       },
       "id": "8164fc31-6f3a-4108-b0aa-b7af04a1f01a"
      }
     }
    },
    "9379dadb-a85a-4b81-866d-5ef79297875f": {
     "id": "9379dadb-a85a-4b81-866d-5ef79297875f",
     "prev": "336c0754-751e-4685-8639-693d7eac5fc9",
     "regions": {
      "0724ce4d-631f-4069-a7b5-d21373c2bc93": {
       "attrs": {
        "height": 0.8,
        "width": 0.8,
        "x": 0.1,
        "y": 0.1
       },
       "content": {
        "cell": "ca894aa1-40a7-478a-9f06-fc61913daf3b",
        "part": "whole"
       },
       "id": "0724ce4d-631f-4069-a7b5-d21373c2bc93"
      }
     }
    },
    "9529bdbd-302c-44ca-9223-56aa51db21dc": {
     "id": "9529bdbd-302c-44ca-9223-56aa51db21dc",
     "prev": "18f79df1-8653-4c0d-9ab6-33fe77fef085",
     "regions": {
      "71d0e1fd-a4f9-4e5f-9bd8-a743c8ce23e3": {
       "attrs": {
        "height": 0.8,
        "width": 0.8,
        "x": 0.1,
        "y": 0.1
       },
       "content": {
        "cell": "06a5125e-34a8-46c7-84ca-43bde016c252",
        "part": "whole"
       },
       "id": "71d0e1fd-a4f9-4e5f-9bd8-a743c8ce23e3"
      }
     }
    },
    "95fd51be-2f45-4e98-9695-c385e3837a61": {
     "id": "95fd51be-2f45-4e98-9695-c385e3837a61",
     "prev": "3547e68d-2f85-4278-90ec-bf17a81555ff",
     "regions": {
      "ad9546c4-742e-4a51-857f-9aabdc7d5177": {
       "attrs": {
        "height": 0.8,
        "width": 0.8,
        "x": 0.1,
        "y": 0.1
       },
       "content": {
        "cell": "f1f5717a-8395-4998-a755-d6d7b681ec1d",
        "part": "whole"
       },
       "id": "ad9546c4-742e-4a51-857f-9aabdc7d5177"
      }
     }
    },
    "96e9e3bd-e3f5-49de-9cb7-22cfd0e11335": {
     "id": "96e9e3bd-e3f5-49de-9cb7-22cfd0e11335",
     "prev": "0889d517-99ed-435c-850b-b5c93a095dd4",
     "regions": {
      "dfa8ab88-5774-4e3f-bdef-b39a9e050f4b": {
       "attrs": {
        "height": 0.8,
        "width": 0.8,
        "x": 0.1,
        "y": 0.1
       },
       "content": {
        "cell": "20efdf51-4bc6-4b41-916a-2a2bbee04f03",
        "part": "whole"
       },
       "id": "dfa8ab88-5774-4e3f-bdef-b39a9e050f4b"
      }
     }
    },
    "971368e3-f20f-4442-b6f8-a19407abf08e": {
     "id": "971368e3-f20f-4442-b6f8-a19407abf08e",
     "prev": "bb37e943-5b61-4fc0-847b-583589a11a09",
     "regions": {
      "1e87f852-ba1a-421b-bb97-0f30fad5b269": {
       "attrs": {
        "height": 0.8,
        "width": 0.8,
        "x": 0.1,
        "y": 0.1
       },
       "content": {
        "cell": "43f32b47-6317-4551-bc4d-5e0f96fea8e9",
        "part": "whole"
       },
       "id": "1e87f852-ba1a-421b-bb97-0f30fad5b269"
      }
     }
    },
    "973b030c-85db-4274-ae1b-924fd024dcf3": {
     "id": "973b030c-85db-4274-ae1b-924fd024dcf3",
     "prev": "61d0cfa4-981c-46d1-8f28-bdc9e82e9aa0",
     "regions": {
      "55a691cd-856d-4d5d-80be-a9b08b53db98": {
       "attrs": {
        "height": 0.8,
        "width": 0.8,
        "x": 0.1,
        "y": 0.1
       },
       "content": {
        "cell": "5b4d3d9a-2f43-47b5-886b-6956d145066f",
        "part": "whole"
       },
       "id": "55a691cd-856d-4d5d-80be-a9b08b53db98"
      }
     }
    },
    "9881d397-56f8-4b95-baee-f352c10443b8": {
     "id": "9881d397-56f8-4b95-baee-f352c10443b8",
     "prev": "a709c064-3b56-4694-a660-882f630eeb45",
     "regions": {
      "1da7a943-38d6-4f1a-b672-8a7ec932498b": {
       "attrs": {
        "height": 0.3678225996697335,
        "width": 0.8,
        "x": 0.1,
        "y": 0.5718093890068413
       },
       "content": {
        "cell": "102ca12f-efc1-4252-ae9a-1f25c9a19bec",
        "part": "whole"
       },
       "id": "1da7a943-38d6-4f1a-b672-8a7ec932498b"
      },
      "c9afe253-873c-4785-95ba-e61b7e5a8088": {
       "attrs": {
        "height": 0.12814343005425816,
        "width": 0.8,
        "x": 0.1,
        "y": 0.09245104977589057
       },
       "content": {
        "cell": "48f87a43-f19c-4029-9642-1ba5bed7ed5d",
        "part": "whole"
       },
       "id": "c9afe253-873c-4785-95ba-e61b7e5a8088"
      },
      "f05da1c4-b5e5-4878-80a2-26c2d3ddf309": {
       "attrs": {
        "height": 0.3130927105449399,
        "width": 0.8,
        "x": 0.1,
        "y": 0.23965557914602503
       },
       "content": {
        "cell": "d57b72dc-370a-4264-aaae-b7b08840b4dd",
        "part": "whole"
       },
       "id": "f05da1c4-b5e5-4878-80a2-26c2d3ddf309"
      }
     }
    },
    "9c88a5d8-28d1-41fa-ac13-3dcce055dd6e": {
     "id": "9c88a5d8-28d1-41fa-ac13-3dcce055dd6e",
     "prev": "108296d7-f3cb-4b2a-9957-223c5efb0a19",
     "regions": {
      "1a791dfb-08c3-44a1-8aba-2873de0d9a2e": {
       "attrs": {
        "height": 0.8,
        "width": 0.8,
        "x": 0.1,
        "y": 0.1
       },
       "content": {
        "cell": "bfd052d0-2a8a-44b3-9922-e207e6075ef7",
        "part": "whole"
       },
       "id": "1a791dfb-08c3-44a1-8aba-2873de0d9a2e"
      }
     }
    },
    "9d0d97f1-6c40-48ed-ada8-ed2ee062326d": {
     "id": "9d0d97f1-6c40-48ed-ada8-ed2ee062326d",
     "prev": "8711ae47-6ad5-4fa7-8d81-c27021fee27e",
     "regions": {
      "b96da916-20cd-42c4-b3c7-bb856a2572fe": {
       "attrs": {
        "height": 0.8,
        "width": 0.8,
        "x": 0.1,
        "y": 0.1
       },
       "content": {
        "cell": "788553fb-6206-441f-9ee9-906671deda19",
        "part": "whole"
       },
       "id": "b96da916-20cd-42c4-b3c7-bb856a2572fe"
      }
     }
    },
    "9f7858de-f125-4b7f-86a1-a4b55aae5e1d": {
     "id": "9f7858de-f125-4b7f-86a1-a4b55aae5e1d",
     "prev": "398c5669-c1d3-4ce1-b86f-3191bed68366",
     "regions": {
      "26c19862-14e7-4a7d-8b59-f528cba3fe74": {
       "attrs": {
        "height": 0.8,
        "width": 0.8,
        "x": 0.1,
        "y": 0.1
       },
       "content": {
        "cell": "fadc7942-6667-4253-b6dc-131d7e9b7e09",
        "part": "whole"
       },
       "id": "26c19862-14e7-4a7d-8b59-f528cba3fe74"
      }
     }
    },
    "a01ad5fa-dd21-44bc-9b00-9911ae8b2ac3": {
     "id": "a01ad5fa-dd21-44bc-9b00-9911ae8b2ac3",
     "prev": "a912f1e6-b037-41e8-9d6b-0f42113f5f10",
     "regions": {
      "6b70b43d-1099-4f0f-b08e-9f417dd64581": {
       "attrs": {
        "height": 0.8,
        "width": 0.8,
        "x": 0.1,
        "y": 0.1
       },
       "content": {
        "cell": "2148f5b4-3c5a-4248-a2b6-136614511014",
        "part": "whole"
       },
       "id": "6b70b43d-1099-4f0f-b08e-9f417dd64581"
      }
     }
    },
    "a01f78d8-66f3-4517-98ab-c9b3cbfd23b3": {
     "id": "a01f78d8-66f3-4517-98ab-c9b3cbfd23b3",
     "prev": "2163e0de-e93d-41c8-89ca-bdff09bb7d9f",
     "regions": {
      "1423d922-e761-4ecd-9a54-4dd6ce7b51b8": {
       "attrs": {
        "height": 0.8,
        "width": 0.8,
        "x": 0.1,
        "y": 0.1
       },
       "content": {
        "cell": "34a8dbc5-dc76-4cee-963d-3732259faee4",
        "part": "whole"
       },
       "id": "1423d922-e761-4ecd-9a54-4dd6ce7b51b8"
      }
     }
    },
    "a3fe3435-d181-4a3b-8f40-9d4257da7555": {
     "id": "a3fe3435-d181-4a3b-8f40-9d4257da7555",
     "prev": "094c1abd-98b8-4697-9dfc-ba4d8390f42f",
     "regions": {
      "5a82588d-0324-4fe7-98ff-4d8f3ce201df": {
       "attrs": {
        "height": 0.8,
        "width": 0.8,
        "x": 0.1,
        "y": 0.1
       },
       "content": {
        "cell": "535c29f7-2c9a-4404-b9ca-81e29c6d118e",
        "part": "whole"
       },
       "id": "5a82588d-0324-4fe7-98ff-4d8f3ce201df"
      }
     }
    },
    "a709c064-3b56-4694-a660-882f630eeb45": {
     "id": "a709c064-3b56-4694-a660-882f630eeb45",
     "prev": "8155b1d0-6139-4ffc-9680-dff605f282d0",
     "regions": {
      "8ccf34a8-5fd0-4c6d-a6ab-9072f5af18cb": {
       "attrs": {
        "height": 0.12814343005425816,
        "width": 0.8,
        "x": 0.1,
        "y": 0.09245104977589057
       },
       "content": {
        "cell": "86abe07e-4d8e-46d3-9e13-e75c03ba994a",
        "part": "whole"
       },
       "id": "8ccf34a8-5fd0-4c6d-a6ab-9072f5af18cb"
      },
      "b9403c2a-8264-4a3a-9afa-d8ff5ca83f0a": {
       "attrs": {
        "height": 0.3130927105449399,
        "width": 0.8,
        "x": 0.1,
        "y": 0.23965557914602503
       },
       "content": {
        "cell": "a291a9aa-9ce2-46ea-b471-54f435036e8f",
        "part": "whole"
       },
       "id": "b9403c2a-8264-4a3a-9afa-d8ff5ca83f0a"
      },
      "d6376971-fc03-4d26-a0a0-0f7af20c0e34": {
       "attrs": {
        "height": 0.3678225996697335,
        "width": 0.8,
        "x": 0.1,
        "y": 0.5718093890068413
       },
       "content": {
        "cell": "d1b9e554-2e64-46af-be3c-f7474bfde997",
        "part": "whole"
       },
       "id": "d6376971-fc03-4d26-a0a0-0f7af20c0e34"
      }
     }
    },
    "a8679503-92a7-488f-ab3d-c3b20100469c": {
     "id": "a8679503-92a7-488f-ab3d-c3b20100469c",
     "prev": "541fa97c-9f1c-4e44-9981-8696560362fb",
     "regions": {
      "068cc5c5-56ac-43f3-8538-a22aeed41728": {
       "attrs": {
        "height": 0.8,
        "width": 0.8,
        "x": 0.1,
        "y": 0.1
       },
       "content": {
        "cell": "4ecab223-a5d9-4419-8be7-a1e22e2f69a0",
        "part": "whole"
       },
       "id": "068cc5c5-56ac-43f3-8538-a22aeed41728"
      }
     }
    },
    "a912f1e6-b037-41e8-9d6b-0f42113f5f10": {
     "id": "a912f1e6-b037-41e8-9d6b-0f42113f5f10",
     "prev": "2fc63bc0-0b86-45be-9a75-dbc493312d22",
     "regions": {
      "98bbe2e4-6674-462e-859a-bdd481d55a7e": {
       "attrs": {
        "height": 0.8,
        "width": 0.8,
        "x": 0.1,
        "y": 0.1
       },
       "content": {
        "cell": "7518c246-6065-4e28-bcb5-322ab69bf8c9",
        "part": "whole"
       },
       "id": "98bbe2e4-6674-462e-859a-bdd481d55a7e"
      }
     }
    },
    "a99937ab-3fd7-497a-adc2-53fda9f3f5b8": {
     "id": "a99937ab-3fd7-497a-adc2-53fda9f3f5b8",
     "prev": "399be114-ba5e-42c2-8d08-1fd9a1071af4",
     "regions": {
      "c67de5e9-5c83-4f70-8b21-c77714d63c77": {
       "attrs": {
        "height": 0.8,
        "width": 0.8,
        "x": 0.1,
        "y": 0.1
       },
       "content": {
        "cell": "10adb9ef-5d0f-4860-84d0-fc0d49b81784",
        "part": "whole"
       },
       "id": "c67de5e9-5c83-4f70-8b21-c77714d63c77"
      }
     }
    },
    "aaa7e2dd-a3f7-450a-8029-48290e784c28": {
     "id": "aaa7e2dd-a3f7-450a-8029-48290e784c28",
     "prev": "04dc0b9e-faa2-4d1b-a9ba-a9153971d5c1",
     "regions": {
      "f995be18-8265-43d6-bb97-8c54cda29506": {
       "attrs": {
        "height": 0.8075489502241096,
        "width": 0.8,
        "x": 0.1,
        "y": 0.09245104977589057
       },
       "content": {
        "cell": "40a35d69-ba26-4614-a95b-aed8d32b11ba",
        "part": "whole"
       },
       "id": "f995be18-8265-43d6-bb97-8c54cda29506"
      }
     }
    },
    "ab2e185c-aa69-444b-9833-2caeb1fb1728": {
     "id": "ab2e185c-aa69-444b-9833-2caeb1fb1728",
     "prev": "86d19fd6-3675-4f0b-9df0-de96e9b185e3",
     "regions": {
      "22001bb9-643e-45f4-acda-0b82db5561ad": {
       "attrs": {
        "height": 0.8,
        "width": 0.8,
        "x": 0.1,
        "y": 0.1
       },
       "content": {
        "cell": "27915ff8-698c-41d7-99ee-1242e98e4586",
        "part": "whole"
       },
       "id": "22001bb9-643e-45f4-acda-0b82db5561ad"
      }
     }
    },
    "ad4551c2-caaf-443f-abb0-a93dc1e0bcf8": {
     "id": "ad4551c2-caaf-443f-abb0-a93dc1e0bcf8",
     "prev": "6592f9f7-8d45-4012-b3ab-86c9a4620c44",
     "regions": {
      "a940c330-808e-4d91-b522-cf6619680091": {
       "attrs": {
        "height": 0.8,
        "width": 0.8,
        "x": 0.1,
        "y": 0.1
       },
       "content": {
        "cell": "f8a3aac4-a587-4efa-9ff9-7f6533a5ff25",
        "part": "whole"
       },
       "id": "a940c330-808e-4d91-b522-cf6619680091"
      }
     }
    },
    "ae021c5f-83a7-40c1-a4c9-61e3f918f89b": {
     "id": "ae021c5f-83a7-40c1-a4c9-61e3f918f89b",
     "prev": "567270e1-8dce-4d17-9871-54dda681bbf4",
     "regions": {
      "9074845d-0d00-4662-af65-8d22eadaf0cc": {
       "attrs": {
        "height": 0.8,
        "width": 0.8,
        "x": 0.1,
        "y": 0.1
       },
       "content": {
        "cell": "39f03e93-7507-423b-8bfb-8f4ed94cb272",
        "part": "whole"
       },
       "id": "9074845d-0d00-4662-af65-8d22eadaf0cc"
      }
     }
    },
    "ae94f903-c8c3-4179-94a5-055f61f2a212": {
     "id": "ae94f903-c8c3-4179-94a5-055f61f2a212",
     "prev": "f3c42431-bdc0-4000-85ed-7c3999d75aaa",
     "regions": {
      "47f8baf9-b9cd-4a31-8789-179e2588a8af": {
       "attrs": {
        "height": 0.8,
        "width": 0.8,
        "x": 0.1,
        "y": 0.1
       },
       "content": {
        "cell": "05bfc98e-0edb-4ac5-a3b4-1e7edb5cff77",
        "part": "whole"
       },
       "id": "47f8baf9-b9cd-4a31-8789-179e2588a8af"
      }
     }
    },
    "af467400-2212-4118-90be-95f207db98e8": {
     "id": "af467400-2212-4118-90be-95f207db98e8",
     "prev": "e072f240-e6b8-42bf-b529-5b59839ca78c",
     "regions": {
      "9ca82b6a-e70d-495e-9d3a-a2e5d3cfe440": {
       "attrs": {
        "height": 0.8,
        "width": 0.8,
        "x": 0.1,
        "y": 0.1
       },
       "content": {
        "cell": "f478679e-7ff1-431b-b988-ae2f7617b926",
        "part": "whole"
       },
       "id": "9ca82b6a-e70d-495e-9d3a-a2e5d3cfe440"
      }
     }
    },
    "b0f096db-6e90-470a-ba14-c768cd575584": {
     "id": "b0f096db-6e90-470a-ba14-c768cd575584",
     "prev": "82d77cdc-1db2-4531-92fa-ecf849175b5b",
     "regions": {
      "9876f472-c1c6-43bf-af21-02784390a1be": {
       "attrs": {
        "height": 0.8,
        "width": 0.8,
        "x": 0.1,
        "y": 0.1
       },
       "content": {
        "cell": "5d675439-6fb0-42b0-a179-a60dee181bc0",
        "part": "whole"
       },
       "id": "9876f472-c1c6-43bf-af21-02784390a1be"
      }
     }
    },
    "b5374ed9-b106-4ace-9a98-102ea66ae8a8": {
     "id": "b5374ed9-b106-4ace-9a98-102ea66ae8a8",
     "prev": "9f7858de-f125-4b7f-86a1-a4b55aae5e1d",
     "regions": {
      "36f72a38-54fd-4ef4-8327-2fda4a6ed51f": {
       "attrs": {
        "height": 0.8,
        "width": 0.8,
        "x": 0.1,
        "y": 0.1
       },
       "content": {
        "cell": "5eb4726a-5688-4697-a593-24da8e421132",
        "part": "whole"
       },
       "id": "36f72a38-54fd-4ef4-8327-2fda4a6ed51f"
      }
     }
    },
    "b59953ce-4de8-4e68-924b-2ed831897496": {
     "id": "b59953ce-4de8-4e68-924b-2ed831897496",
     "prev": "c9656a4f-21d1-454b-80d0-d44618f3a58f",
     "regions": {
      "9ccc5716-b851-44d1-aff9-345f2259a6a5": {
       "attrs": {
        "height": 0.8,
        "width": 0.8,
        "x": 0.1,
        "y": 0.1
       },
       "content": {
        "cell": "2384139b-0855-40c6-a608-cc44758fe2e1",
        "part": "whole"
       },
       "id": "9ccc5716-b851-44d1-aff9-345f2259a6a5"
      }
     }
    },
    "b7b212f2-8ccd-4f69-901d-529e32de3032": {
     "id": "b7b212f2-8ccd-4f69-901d-529e32de3032",
     "prev": "c42b7444-be7b-4a09-ab21-86d20ef52406",
     "regions": {
      "77fb4463-b4b0-4d93-9b7a-d06a83c25c68": {
       "attrs": {
        "height": 0.8,
        "width": 0.8,
        "x": 0.1,
        "y": 0.1
       },
       "content": {
        "cell": "47a56839-799a-47ff-906c-3e96addb9ca3",
        "part": "whole"
       },
       "id": "77fb4463-b4b0-4d93-9b7a-d06a83c25c68"
      }
     }
    },
    "bb37e943-5b61-4fc0-847b-583589a11a09": {
     "id": "bb37e943-5b61-4fc0-847b-583589a11a09",
     "prev": "a8679503-92a7-488f-ab3d-c3b20100469c",
     "regions": {
      "889d7697-ff13-49ad-9770-ff765b030a2d": {
       "attrs": {
        "height": 0.8,
        "width": 0.8,
        "x": 0.1,
        "y": 0.1
       },
       "content": {
        "cell": "258469d6-78a6-4b80-9606-94f7694cdfd5",
        "part": "whole"
       },
       "id": "889d7697-ff13-49ad-9770-ff765b030a2d"
      }
     }
    },
    "bdb8d86a-85c9-455c-8261-8a6d4514eaa9": {
     "id": "bdb8d86a-85c9-455c-8261-8a6d4514eaa9",
     "prev": "544da059-79bf-4255-a2da-3fbbc9195d17",
     "regions": {
      "878d2fe6-4740-40b7-b315-fb191ca2afa7": {
       "attrs": {
        "height": 0.8,
        "width": 0.8,
        "x": 0.1,
        "y": 0.1
       },
       "content": {
        "cell": "8f54bf25-72a3-4d6e-811d-28b00cb69e88",
        "part": "whole"
       },
       "id": "878d2fe6-4740-40b7-b315-fb191ca2afa7"
      }
     }
    },
    "c004e27b-ee3c-4ca5-b15d-68bf18619e53": {
     "id": "c004e27b-ee3c-4ca5-b15d-68bf18619e53",
     "prev": "8064b7d5-7f86-416f-9600-a6756362c88e",
     "regions": {
      "4eacbc03-997f-413b-9377-6466fc2c04f4": {
       "attrs": {
        "height": 0.8,
        "width": 0.8,
        "x": 0.1,
        "y": 0.1
       },
       "content": {
        "cell": "52483827-f891-4260-96af-e753b5b87ef3",
        "part": "whole"
       },
       "id": "4eacbc03-997f-413b-9377-6466fc2c04f4"
      }
     }
    },
    "c3b1aba6-64ce-4f8a-8168-66b41c184624": {
     "id": "c3b1aba6-64ce-4f8a-8168-66b41c184624",
     "prev": "ef29d9c4-82ab-4a36-99af-983ea69fd4f0",
     "regions": {
      "84f2d318-fb1d-466c-991a-e97cea1231b1": {
       "attrs": {
        "height": 0.8,
        "width": 0.8,
        "x": 0.1,
        "y": 0.1
       },
       "content": {
        "cell": "8e0835d4-6074-4f6c-9f35-1bb810bba220",
        "part": "whole"
       },
       "id": "84f2d318-fb1d-466c-991a-e97cea1231b1"
      }
     }
    },
    "c42b7444-be7b-4a09-ab21-86d20ef52406": {
     "id": "c42b7444-be7b-4a09-ab21-86d20ef52406",
     "prev": "00b01c36-c59e-4835-8700-253338027358",
     "regions": {
      "1293a71c-4612-444f-b9c5-a528c67a68ec": {
       "attrs": {
        "height": 0.8,
        "width": 0.8,
        "x": 0.1,
        "y": 0.1
       },
       "content": {
        "cell": "28d5279f-5a4b-4d92-b871-ec148cbb0d1a",
        "part": "whole"
       },
       "id": "1293a71c-4612-444f-b9c5-a528c67a68ec"
      }
     }
    },
    "c61d2cef-d228-4c64-8fa3-2539cb03998d": {
     "id": "c61d2cef-d228-4c64-8fa3-2539cb03998d",
     "prev": "fa582543-8eec-4590-9002-df57e82aa0be",
     "regions": {
      "232982fa-cc4d-4397-931f-aaddefcc3987": {
       "attrs": {
        "height": 0.12814343005425816,
        "width": 0.8,
        "x": 0.09900199600798397,
        "y": 0.04454685815912412
       },
       "content": {
        "cell": "ab04197a-d775-4bcb-bb0d-95772c8ac06e",
        "part": "whole"
       },
       "id": "232982fa-cc4d-4397-931f-aaddefcc3987"
      },
      "811cd56f-ed2a-416a-9cd5-2cf66b216f51": {
       "attrs": {
        "height": 0.3678225996697335,
        "width": 0.8,
        "x": 0.1,
        "y": 0.5718093890068413
       },
       "content": {
        "cell": "9d399c65-bde9-4e48-a84d-2c7120e64a9e",
        "part": "whole"
       },
       "id": "811cd56f-ed2a-416a-9cd5-2cf66b216f51"
      },
      "f6bcf472-2865-4542-8dad-e632f3d171f9": {
       "attrs": {
        "height": 0.3130927105449399,
        "width": 0.8,
        "x": 0.10299401197604784,
        "y": 0.19707407548667713
       },
       "content": {
        "cell": "4e2a5c26-72f7-4990-8fa1-4d2520573d70",
        "part": "whole"
       },
       "id": "f6bcf472-2865-4542-8dad-e632f3d171f9"
      }
     }
    },
    "c6ed7f24-0751-4f35-b89d-a5cba38dedb8": {
     "id": "c6ed7f24-0751-4f35-b89d-a5cba38dedb8",
     "prev": "d7750c80-14a3-4d19-97cd-e37bb1b754fe",
     "regions": {
      "2e92dfbb-ce37-4000-9234-01a4eca30dff": {
       "attrs": {
        "height": 0.8,
        "width": 0.8,
        "x": 0.1,
        "y": 0.1
       },
       "content": {
        "cell": "392d9eb1-33d6-4ba6-82cf-2fd6f37a90b9",
        "part": "whole"
       },
       "id": "2e92dfbb-ce37-4000-9234-01a4eca30dff"
      }
     }
    },
    "c9656a4f-21d1-454b-80d0-d44618f3a58f": {
     "id": "c9656a4f-21d1-454b-80d0-d44618f3a58f",
     "prev": "74da3614-7d6f-4e02-86dd-306dfd8b906a",
     "regions": {
      "fab64bf4-c5dc-44b0-bcc2-565a63b960a0": {
       "attrs": {
        "height": 0.8,
        "width": 0.8,
        "x": 0.1,
        "y": 0.1
       },
       "content": {
        "cell": "c3c76163-8ae6-4aa3-a837-7f88c3f56c45",
        "part": "whole"
       },
       "id": "fab64bf4-c5dc-44b0-bcc2-565a63b960a0"
      }
     }
    },
    "cfba6228-de12-412c-b2e9-9f7254eb8984": {
     "id": "cfba6228-de12-412c-b2e9-9f7254eb8984",
     "prev": "772d26f2-8ceb-431e-a3ec-a3aceca10dfb",
     "regions": {
      "0dc26ef5-0d9c-457c-8cf0-1a0d34e9abbc": {
       "attrs": {
        "height": 0.8,
        "width": 0.8,
        "x": 0.1,
        "y": 0.1
       },
       "content": {
        "cell": "9df6f93b-b6b2-424b-9431-82b53ca7270e",
        "part": "whole"
       },
       "id": "0dc26ef5-0d9c-457c-8cf0-1a0d34e9abbc"
      }
     }
    },
    "d0a48784-4fe9-43d2-ae53-b26e78ed9459": {
     "id": "d0a48784-4fe9-43d2-ae53-b26e78ed9459",
     "prev": "a01ad5fa-dd21-44bc-9b00-9911ae8b2ac3",
     "regions": {
      "5bffb318-76af-419f-acad-6ae5f53ea1d9": {
       "attrs": {
        "height": 0.8,
        "width": 0.8,
        "x": 0.1,
        "y": 0.1
       },
       "content": {
        "cell": "be93122c-1ca3-4545-8e95-a5248577a751",
        "part": "whole"
       },
       "id": "5bffb318-76af-419f-acad-6ae5f53ea1d9"
      }
     }
    },
    "d0e21776-15d1-4b8e-9fa0-56680aa52838": {
     "id": "d0e21776-15d1-4b8e-9fa0-56680aa52838",
     "prev": "c3b1aba6-64ce-4f8a-8168-66b41c184624",
     "regions": {
      "0757c67c-c6c8-48ca-96ee-a5f25961cd03": {
       "attrs": {
        "height": 0.8,
        "width": 0.8,
        "x": 0.1,
        "y": 0.1
       },
       "content": {
        "cell": "33a30d49-09c8-437a-b0f9-bbfe56566706",
        "part": "whole"
       },
       "id": "0757c67c-c6c8-48ca-96ee-a5f25961cd03"
      }
     }
    },
    "d138b651-8e9e-453e-9fb8-132f96438bfa": {
     "id": "d138b651-8e9e-453e-9fb8-132f96438bfa",
     "prev": "e625eb36-255a-4927-b400-f8cbb5692f89",
     "regions": {
      "f3461814-17f4-4bf8-90f3-a836c3a15e88": {
       "attrs": {
        "height": 0.8,
        "width": 0.8,
        "x": 0.1,
        "y": 0.1
       },
       "content": {
        "cell": "cc6e8b0a-07ea-4061-b5c7-89e9ad4cfaca",
        "part": "whole"
       },
       "id": "f3461814-17f4-4bf8-90f3-a836c3a15e88"
      }
     }
    },
    "d387abd8-0d51-441e-9a06-80806697ae5a": {
     "id": "d387abd8-0d51-441e-9a06-80806697ae5a",
     "prev": "ae94f903-c8c3-4179-94a5-055f61f2a212",
     "regions": {
      "77d40825-a023-4b86-93c1-4077720954e5": {
       "attrs": {
        "height": 0.8,
        "width": 0.8,
        "x": 0.1,
        "y": 0.1
       },
       "content": {
        "cell": "1e7a53e0-3f4e-4dd3-8157-9a38b928792d",
        "part": "whole"
       },
       "id": "77d40825-a023-4b86-93c1-4077720954e5"
      }
     }
    },
    "d481c197-d4fa-4fc6-b526-9b41809c3460": {
     "id": "d481c197-d4fa-4fc6-b526-9b41809c3460",
     "prev": "cfba6228-de12-412c-b2e9-9f7254eb8984",
     "regions": {
      "cb3ddbcf-f115-4634-9a32-04ac5ba4626f": {
       "attrs": {
        "height": 0.8,
        "width": 0.8,
        "x": 0.1,
        "y": 0.1
       },
       "content": {
        "cell": "3515df4a-02fe-4065-843b-e23e027eb400",
        "part": "whole"
       },
       "id": "cb3ddbcf-f115-4634-9a32-04ac5ba4626f"
      }
     }
    },
    "d7750c80-14a3-4d19-97cd-e37bb1b754fe": {
     "id": "d7750c80-14a3-4d19-97cd-e37bb1b754fe",
     "prev": "0a584089-a89c-40b8-a02c-782116eb045f",
     "regions": {
      "6d214120-cbaa-4a9d-85f0-2c2f5274e072": {
       "attrs": {
        "height": 0.8,
        "width": 0.8,
        "x": 0.1,
        "y": 0.1
       },
       "content": {
        "cell": "db6bb90b-6eae-48a5-af45-34978edb9ec7",
        "part": "whole"
       },
       "id": "6d214120-cbaa-4a9d-85f0-2c2f5274e072"
      }
     }
    },
    "d7d8d42d-16f2-48dd-aa08-d11236d8cc4c": {
     "id": "d7d8d42d-16f2-48dd-aa08-d11236d8cc4c",
     "prev": "f6ba516f-8757-4552-bdf8-2b86bd84f001",
     "regions": {
      "61d4ffd5-d8c9-492b-b859-2dae5213ad89": {
       "attrs": {
        "height": 0.8,
        "width": 0.8,
        "x": 0.1,
        "y": 0.1
       },
       "content": {
        "cell": "7f5f431d-e649-40c3-8fed-76d0229e303f",
        "part": "whole"
       },
       "id": "61d4ffd5-d8c9-492b-b859-2dae5213ad89"
      }
     }
    },
    "d90d2497-6b20-410e-bc4d-26c5e999e3b2": {
     "id": "d90d2497-6b20-410e-bc4d-26c5e999e3b2",
     "prev": "d481c197-d4fa-4fc6-b526-9b41809c3460",
     "regions": {
      "04913f82-f660-4ff2-b289-d22523995e10": {
       "attrs": {
        "height": 0.8,
        "width": 0.8,
        "x": 0.1,
        "y": 0.1
       },
       "content": {
        "cell": "3498860b-b2e9-40ac-9ebc-218beb7262d0",
        "part": "whole"
       },
       "id": "04913f82-f660-4ff2-b289-d22523995e10"
      }
     }
    },
    "d94dbd09-2d3e-4060-904a-31f37d4359e8": {
     "id": "d94dbd09-2d3e-4060-904a-31f37d4359e8",
     "prev": "a99937ab-3fd7-497a-adc2-53fda9f3f5b8",
     "regions": {
      "53c0ff3b-52aa-424b-aec1-ba5c1dfa54cb": {
       "attrs": {
        "height": 0.8,
        "width": 0.8,
        "x": 0.1,
        "y": 0.1
       },
       "content": {
        "cell": "efcdcafc-395c-4090-a964-a830202a2256",
        "part": "whole"
       },
       "id": "53c0ff3b-52aa-424b-aec1-ba5c1dfa54cb"
      }
     }
    },
    "d9827b86-3470-4f6e-b9b7-c47c6bfbfc6d": {
     "id": "d9827b86-3470-4f6e-b9b7-c47c6bfbfc6d",
     "prev": "38798678-a553-4c62-9399-1fd1733aebc0",
     "regions": {
      "25537cf8-84d2-4360-bb9d-704d6f093b5d": {
       "attrs": {
        "height": 0.8,
        "width": 0.8,
        "x": 0.1,
        "y": 0.1
       },
       "content": {
        "cell": "204c9232-2b82-4f6c-a38c-077412ffea06",
        "part": "whole"
       },
       "id": "25537cf8-84d2-4360-bb9d-704d6f093b5d"
      }
     }
    },
    "dc5993a2-f79a-47df-8b50-97915312878a": {
     "id": "dc5993a2-f79a-47df-8b50-97915312878a",
     "prev": "0141bd91-8ae4-49ef-ab4b-f584d5a3e3b9",
     "regions": {
      "80edb4e2-a8d1-4961-8308-3e60f1d51de6": {
       "attrs": {
        "height": 0.8,
        "width": 0.8,
        "x": 0.1,
        "y": 0.1
       },
       "content": {
        "cell": "a0d12de6-d2eb-4821-839a-7dd7a76d8bb3",
        "part": "whole"
       },
       "id": "80edb4e2-a8d1-4961-8308-3e60f1d51de6"
      }
     }
    },
    "dc70e6b2-7c02-47c0-a78a-a1a8c6c6ef63": {
     "id": "dc70e6b2-7c02-47c0-a78a-a1a8c6c6ef63",
     "prev": "9d0d97f1-6c40-48ed-ada8-ed2ee062326d",
     "regions": {
      "82059dc9-eee6-4ceb-bb96-1dbfe3b7578c": {
       "attrs": {
        "height": 0.8,
        "width": 0.8,
        "x": 0.1,
        "y": 0.1
       },
       "content": {
        "cell": "02e5db7e-938e-4d60-8f15-e79d6a79d8b5",
        "part": "whole"
       },
       "id": "82059dc9-eee6-4ceb-bb96-1dbfe3b7578c"
      }
     }
    },
    "de7fd7d8-eedc-4f1e-bf91-54e3e7deb573": {
     "id": "de7fd7d8-eedc-4f1e-bf91-54e3e7deb573",
     "prev": "9c88a5d8-28d1-41fa-ac13-3dcce055dd6e",
     "regions": {
      "b1c6ec88-d226-4443-83bf-a4f06f1b2249": {
       "attrs": {
        "height": 0.8,
        "width": 0.8,
        "x": 0.1,
        "y": 0.1
       },
       "content": {
        "cell": "610bff54-8921-4ee7-b7d8-0754a3625534",
        "part": "whole"
       },
       "id": "b1c6ec88-d226-4443-83bf-a4f06f1b2249"
      }
     }
    },
    "dfc3addb-674a-40df-998a-72a56aa88596": {
     "id": "dfc3addb-674a-40df-998a-72a56aa88596",
     "prev": "c6ed7f24-0751-4f35-b89d-a5cba38dedb8",
     "regions": {
      "7bf9231e-6d98-4b5a-8876-ef2ea127fbda": {
       "attrs": {
        "height": 0.8,
        "width": 0.8,
        "x": 0.1,
        "y": 0.1
       },
       "content": {
        "cell": "92890c1a-17c9-46e2-9c9e-9a6d066ef37a",
        "part": "whole"
       },
       "id": "7bf9231e-6d98-4b5a-8876-ef2ea127fbda"
      }
     }
    },
    "e072f240-e6b8-42bf-b529-5b59839ca78c": {
     "id": "e072f240-e6b8-42bf-b529-5b59839ca78c",
     "prev": "4897b626-92d5-4390-9f6e-ebf651f5dc21",
     "regions": {
      "3a3df634-bf24-4eda-bbc1-fd5b8146c332": {
       "attrs": {
        "height": 0.8,
        "width": 0.8,
        "x": 0.1,
        "y": 0.1
       },
       "content": {
        "cell": "31132626-74a3-49c0-b8d8-b72a85a0c380",
        "part": "whole"
       },
       "id": "3a3df634-bf24-4eda-bbc1-fd5b8146c332"
      }
     }
    },
    "e0988914-0c01-49ba-bb66-a82ac57dde0c": {
     "id": "e0988914-0c01-49ba-bb66-a82ac57dde0c",
     "prev": "bdb8d86a-85c9-455c-8261-8a6d4514eaa9",
     "regions": {
      "861d1e8f-9a9e-4984-b538-3786526f8c7a": {
       "attrs": {
        "height": 0.8,
        "width": 0.8,
        "x": 0.1,
        "y": 0.1
       },
       "content": {
        "cell": "b2e1bb30-22d0-496b-820a-a28c5314aa71",
        "part": "whole"
       },
       "id": "861d1e8f-9a9e-4984-b538-3786526f8c7a"
      }
     }
    },
    "e1227ac1-b4b5-48e3-a49c-bc2d5b695ad6": {
     "id": "e1227ac1-b4b5-48e3-a49c-bc2d5b695ad6",
     "prev": "e1f85b9b-96b8-49bf-b90b-7392db045763",
     "regions": {
      "935a0696-9a5a-46ad-aef3-9650d37f89fe": {
       "attrs": {
        "height": 0.8,
        "width": 0.8,
        "x": 0.1,
        "y": 0.1
       },
       "content": {
        "cell": "85f145a4-15e6-4a64-8fe4-38695ec1767c",
        "part": "whole"
       },
       "id": "935a0696-9a5a-46ad-aef3-9650d37f89fe"
      }
     }
    },
    "e1f85b9b-96b8-49bf-b90b-7392db045763": {
     "id": "e1f85b9b-96b8-49bf-b90b-7392db045763",
     "prev": "6f74c2c5-088b-44b1-bb22-4d41f58d5021",
     "regions": {
      "66d314af-0169-454c-82d7-9f013582beb0": {
       "attrs": {
        "height": 0.8,
        "width": 0.8,
        "x": 0.1,
        "y": 0.1
       },
       "content": {
        "cell": "b921051b-e9ac-4bb7-bd6c-461cafa332dd",
        "part": "whole"
       },
       "id": "66d314af-0169-454c-82d7-9f013582beb0"
      }
     }
    },
    "e26a605d-ea4b-4b22-ba94-3377e5bf9284": {
     "id": "e26a605d-ea4b-4b22-ba94-3377e5bf9284",
     "prev": "b0f096db-6e90-470a-ba14-c768cd575584",
     "regions": {
      "5dcaab69-9162-4eb1-ad63-aff66dc8abcc": {
       "attrs": {
        "height": 0.8,
        "width": 0.8,
        "x": 0.1,
        "y": 0.1
       },
       "content": {
        "cell": "5366df72-3ee3-458c-a2ff-74451ab94748",
        "part": "whole"
       },
       "id": "5dcaab69-9162-4eb1-ad63-aff66dc8abcc"
      }
     }
    },
    "e625eb36-255a-4927-b400-f8cbb5692f89": {
     "id": "e625eb36-255a-4927-b400-f8cbb5692f89",
     "prev": "973b030c-85db-4274-ae1b-924fd024dcf3",
     "regions": {
      "ebf8b897-8f9d-47fd-8faa-d5dc29b66dfd": {
       "attrs": {
        "height": 0.8,
        "width": 0.8,
        "x": 0.1,
        "y": 0.1
       },
       "content": {
        "cell": "26699518-f29e-43d7-87ed-dd094a6bda98",
        "part": "whole"
       },
       "id": "ebf8b897-8f9d-47fd-8faa-d5dc29b66dfd"
      }
     }
    },
    "e75f506a-f43c-4d62-aefc-7248e6943815": {
     "id": "e75f506a-f43c-4d62-aefc-7248e6943815",
     "prev": "a3fe3435-d181-4a3b-8f40-9d4257da7555",
     "regions": {
      "f7e573ce-cfac-4338-b903-3df8e94815c6": {
       "attrs": {
        "height": 0.8,
        "width": 0.8,
        "x": 0.1,
        "y": 0.1
       },
       "content": {
        "cell": "77a837dd-8375-4ce1-8e27-fb12be2ff550",
        "part": "whole"
       },
       "id": "f7e573ce-cfac-4338-b903-3df8e94815c6"
      }
     }
    },
    "e8a2ec21-ad01-41f8-99ba-65a55e7e31d0": {
     "id": "e8a2ec21-ad01-41f8-99ba-65a55e7e31d0",
     "prev": "e0988914-0c01-49ba-bb66-a82ac57dde0c",
     "regions": {
      "7fb069fd-3eec-405e-9ba3-1775429a0db7": {
       "attrs": {
        "height": 0.8,
        "width": 0.8,
        "x": 0.1,
        "y": 0.1
       },
       "content": {
        "cell": "c1c82540-959f-4e06-a5b4-6f3f166a9162",
        "part": "whole"
       },
       "id": "7fb069fd-3eec-405e-9ba3-1775429a0db7"
      }
     }
    },
    "e9b59249-3745-4599-bfef-ae5457919a7c": {
     "id": "e9b59249-3745-4599-bfef-ae5457919a7c",
     "prev": "1e94eef1-5a58-41d7-8309-75a52bc7af1e",
     "regions": {
      "a47e44fc-0d91-4526-9297-594295350400": {
       "attrs": {
        "height": 0.8,
        "width": 0.8,
        "x": 0.1,
        "y": 0.1
       },
       "content": {
        "cell": "018775c2-dce3-4540-b378-cae42b2f7fe1",
        "part": "whole"
       },
       "id": "a47e44fc-0d91-4526-9297-594295350400"
      }
     }
    },
    "eb5f2979-c3f7-4bb5-ae8c-bda3afff0c23": {
     "id": "eb5f2979-c3f7-4bb5-ae8c-bda3afff0c23",
     "prev": "6aae9cc0-cbe0-4787-81c3-7fd2034b3463",
     "regions": {
      "23e25cc0-2740-4036-a98d-e0c72b3f1b2f": {
       "attrs": {
        "height": 0.8,
        "width": 0.8,
        "x": 0.1,
        "y": 0.1
       },
       "content": {
        "cell": "cc77c131-3ea4-478f-beab-4dc08e2db897",
        "part": "whole"
       },
       "id": "23e25cc0-2740-4036-a98d-e0c72b3f1b2f"
      }
     }
    },
    "ef29d9c4-82ab-4a36-99af-983ea69fd4f0": {
     "id": "ef29d9c4-82ab-4a36-99af-983ea69fd4f0",
     "prev": "9529bdbd-302c-44ca-9223-56aa51db21dc",
     "regions": {
      "67036c6a-ca7d-481c-af04-e5a710d3a9ff": {
       "attrs": {
        "height": 0.8,
        "width": 0.8,
        "x": 0.1,
        "y": 0.1
       },
       "content": {
        "cell": "3f152f37-f9ed-4777-bdb7-fd526093ebf8",
        "part": "whole"
       },
       "id": "67036c6a-ca7d-481c-af04-e5a710d3a9ff"
      }
     }
    },
    "ef7cc599-fbad-4a0b-a023-1de584264cf8": {
     "id": "ef7cc599-fbad-4a0b-a023-1de584264cf8",
     "prev": "8ad1ddf8-3975-42fc-abf8-3fbdde18c4d7",
     "regions": {
      "e571fa09-891b-486a-8c8d-97acfae0f7a8": {
       "attrs": {
        "height": 0.8,
        "width": 0.8,
        "x": 0.1,
        "y": 0.1
       },
       "content": {
        "cell": "de35e575-e037-4531-9fa5-cff7c7258a1b",
        "part": "whole"
       },
       "id": "e571fa09-891b-486a-8c8d-97acfae0f7a8"
      }
     }
    },
    "f3666ece-ef27-4623-8fd2-0ba57c7a8a18": {
     "id": "f3666ece-ef27-4623-8fd2-0ba57c7a8a18",
     "prev": "e9b59249-3745-4599-bfef-ae5457919a7c",
     "regions": {
      "0f5e5aea-c50d-4e1e-a952-5434d4c98d04": {
       "attrs": {
        "height": 0.8,
        "width": 0.8,
        "x": 0.1,
        "y": 0.1
       },
       "content": {
        "cell": "6f49dbaa-b260-4c70-be88-3cd696afd398",
        "part": "whole"
       },
       "id": "0f5e5aea-c50d-4e1e-a952-5434d4c98d04"
      }
     }
    },
    "f38fcf2f-c1c6-42a8-8e0a-304b3ce4dbae": {
     "id": "f38fcf2f-c1c6-42a8-8e0a-304b3ce4dbae",
     "prev": "c61d2cef-d228-4c64-8fa3-2539cb03998d",
     "regions": {
      "7ac00c60-ad50-4cbe-8f7b-4c613ef00d12": {
       "attrs": {
        "height": 0.3130927105449399,
        "width": 0.8,
        "x": 0.09999999999999992,
        "y": 0.08208303845246516
       },
       "content": {
        "cell": "574ff700-cefb-44de-b964-c24705a62b7e",
        "part": "whole"
       },
       "id": "7ac00c60-ad50-4cbe-8f7b-4c613ef00d12"
      },
      "e9d2309b-2d98-4440-a4a8-7c87d04a1d45": {
       "attrs": {
        "height": 0.5112526539278133,
        "width": 0.8,
        "x": 0.1,
        "y": 0.4283793347487615
       },
       "content": {
        "cell": "a5d7d2e8-5079-4d38-ab07-abfbc169f67a",
        "part": "whole"
       },
       "id": "e9d2309b-2d98-4440-a4a8-7c87d04a1d45"
      }
     }
    },
    "f3c42431-bdc0-4000-85ed-7c3999d75aaa": {
     "id": "f3c42431-bdc0-4000-85ed-7c3999d75aaa",
     "prev": "e1227ac1-b4b5-48e3-a49c-bc2d5b695ad6",
     "regions": {
      "9c9914c9-cb4c-4754-835d-5dc05023c067": {
       "attrs": {
        "height": 0.8,
        "width": 0.8,
        "x": 0.1,
        "y": 0.1
       },
       "content": {
        "cell": "faac90e8-8c49-40c2-aae9-e278f43b5527",
        "part": "whole"
       },
       "id": "9c9914c9-cb4c-4754-835d-5dc05023c067"
      }
     }
    },
    "f452eb80-55c2-466f-8ad7-03b2e76c9180": {
     "id": "f452eb80-55c2-466f-8ad7-03b2e76c9180",
     "prev": "ab2e185c-aa69-444b-9833-2caeb1fb1728",
     "regions": {
      "cbb63e3e-b9bf-458d-abba-34910a7571fd": {
       "attrs": {
        "height": 0.8,
        "width": 0.8,
        "x": 0.1,
        "y": 0.1
       },
       "content": {
        "cell": "166dfd4e-e19f-43d4-91c5-1b6a5804b577",
        "part": "whole"
       },
       "id": "cbb63e3e-b9bf-458d-abba-34910a7571fd"
      }
     }
    },
    "f6ba516f-8757-4552-bdf8-2b86bd84f001": {
     "id": "f6ba516f-8757-4552-bdf8-2b86bd84f001",
     "prev": "d94dbd09-2d3e-4060-904a-31f37d4359e8",
     "regions": {
      "74cfbefc-7994-4b90-b399-9a3a45edf6e1": {
       "attrs": {
        "height": 0.8,
        "width": 0.8,
        "x": 0.1,
        "y": 0.1
       },
       "content": {
        "cell": "1e2e5a93-ccf8-4e48-ad78-d7d7e9e27c4a",
        "part": "whole"
       },
       "id": "74cfbefc-7994-4b90-b399-9a3a45edf6e1"
      }
     }
    },
    "f77cb06b-ae3b-4208-9019-18152c9cfec2": {
     "id": "f77cb06b-ae3b-4208-9019-18152c9cfec2",
     "prev": "640bb46f-bc94-4380-a383-6442aa8f23cd",
     "regions": {
      "010f3b5e-5c71-4fed-b4ed-c4709163fabc": {
       "attrs": {
        "height": 0.8,
        "width": 0.8,
        "x": 0.1,
        "y": 0.1
       },
       "content": {
        "cell": "0f0b66ed-d6ac-4a46-acbf-5f77c2289a5a",
        "part": "whole"
       },
       "id": "010f3b5e-5c71-4fed-b4ed-c4709163fabc"
      }
     }
    },
    "f8777153-4bea-4b40-a6a9-a88c5cc31f8f": {
     "id": "f8777153-4bea-4b40-a6a9-a88c5cc31f8f",
     "prev": "fba5901e-c776-4e17-bc4e-2ad1b3be2b37",
     "regions": {
      "3d7f0ef4-702f-49ba-b1b2-f7c593e1a63d": {
       "attrs": {
        "height": 0.8075489502241096,
        "width": 0.8,
        "x": 0.1,
        "y": 0.09245104977589057
       },
       "content": {
        "cell": "dd2bb155-412d-45d7-891b-2c3b865f30da",
        "part": "whole"
       },
       "id": "3d7f0ef4-702f-49ba-b1b2-f7c593e1a63d"
      }
     }
    },
    "f98a7b00-5ec7-415e-9fec-d51648a33aed": {
     "id": "f98a7b00-5ec7-415e-9fec-d51648a33aed",
     "prev": "51183294-7526-4976-abe6-34ab91243627",
     "regions": {
      "143411e7-e0d5-4778-8973-6c339e36fe44": {
       "attrs": {
        "height": 0.3678225996697335,
        "width": 0.8,
        "x": 0.1,
        "y": 0.5718093890068413
       },
       "content": {
        "cell": "6c613616-0f6d-4412-9cb8-0025ca8577b5",
        "part": "whole"
       },
       "id": "143411e7-e0d5-4778-8973-6c339e36fe44"
      },
      "258bc142-e3c1-4163-ac5a-c7e4c88c7277": {
       "attrs": {
        "height": 0.3130927105449399,
        "width": 0.8,
        "x": 0.1,
        "y": 0.23965557914602503
       },
       "content": {
        "cell": "599fd134-e67c-4276-aaa1-353242aef615",
        "part": "whole"
       },
       "id": "258bc142-e3c1-4163-ac5a-c7e4c88c7277"
      },
      "9461eabd-875b-4359-a61d-be61adf4b909": {
       "attrs": {
        "height": 0.12814343005425816,
        "width": 0.8,
        "x": 0.1,
        "y": 0.09245104977589057
       },
       "content": {
        "cell": "2f888fa9-c948-4805-a5cc-a5ce4c4292c0",
        "part": "whole"
       },
       "id": "9461eabd-875b-4359-a61d-be61adf4b909"
      }
     }
    },
    "fa582543-8eec-4590-9002-df57e82aa0be": {
     "id": "fa582543-8eec-4590-9002-df57e82aa0be",
     "prev": "351d7a9a-4737-4b1e-8239-4e79fa86160e",
     "regions": {
      "2bf2b9d6-1b50-4939-bf7a-e898f392f2d7": {
       "attrs": {
        "height": 0.12814343005425816,
        "width": 0.8,
        "x": 0.1,
        "y": 0.09245104977589057
       },
       "content": {
        "cell": "622e13d2-b204-41f8-b33b-a768eb0cdf22",
        "part": "whole"
       },
       "id": "2bf2b9d6-1b50-4939-bf7a-e898f392f2d7"
      },
      "63635821-bb75-4b49-b304-9abff9136de3": {
       "attrs": {
        "height": 0.3130927105449399,
        "width": 0.8,
        "x": 0.1,
        "y": 0.23965557914602503
       },
       "content": {
        "cell": "4ae8e1d5-41ba-4b65-ad85-d2ebcb3927a1",
        "part": "whole"
       },
       "id": "63635821-bb75-4b49-b304-9abff9136de3"
      },
      "e324cc98-be09-4ab9-ae14-9601f309c3cf": {
       "attrs": {
        "height": 0.3678225996697335,
        "width": 0.8,
        "x": 0.1,
        "y": 0.5718093890068413
       },
       "content": {
        "cell": "bb7b21c0-0fc7-46ea-a085-7d3190f03ffa",
        "part": "whole"
       },
       "id": "e324cc98-be09-4ab9-ae14-9601f309c3cf"
      }
     }
    },
    "fba5901e-c776-4e17-bc4e-2ad1b3be2b37": {
     "id": "fba5901e-c776-4e17-bc4e-2ad1b3be2b37",
     "prev": "aaa7e2dd-a3f7-450a-8029-48290e784c28",
     "regions": {
      "b8e1936c-1980-4a62-acbb-5fda8d74c421": {
       "attrs": {
        "height": 0.8075489502241096,
        "width": 0.8,
        "x": 0.1,
        "y": 0.09245104977589057
       },
       "content": {
        "cell": "358105f1-8859-4d9f-ae69-74b17e0fa001",
        "part": "whole"
       },
       "id": "b8e1936c-1980-4a62-acbb-5fda8d74c421"
      }
     }
    },
    "fe666f5c-5044-4145-ad25-e687c72203e5": {
     "id": "fe666f5c-5044-4145-ad25-e687c72203e5",
     "prev": "3626c8ab-80d9-4b7c-8fb2-57d9ed2725ef",
     "regions": {
      "c131aefb-4816-49ff-9492-841fed3180bf": {
       "attrs": {
        "height": 0.8,
        "width": 0.8,
        "x": 0.1,
        "y": 0.1
       },
       "content": {
        "cell": "42284fa2-1195-40a5-ad53-dfa73fec68c0",
        "part": "whole"
       },
       "id": "c131aefb-4816-49ff-9492-841fed3180bf"
      }
     }
    }
   },
   "themes": {
    "default": "8fe81f43-1e2f-47a2-be73-31d627d10efa",
    "theme": {
     "8fe81f43-1e2f-47a2-be73-31d627d10efa": {
      "id": "8fe81f43-1e2f-47a2-be73-31d627d10efa",
      "palette": {
       "19cc588f-0593-49c9-9f4b-e4d7cc113b1c": {
        "id": "19cc588f-0593-49c9-9f4b-e4d7cc113b1c",
        "rgb": [
         252,
         252,
         252
        ]
       },
       "31af15d2-7e15-44c5-ab5e-e04b16a89eff": {
        "id": "31af15d2-7e15-44c5-ab5e-e04b16a89eff",
        "rgb": [
         68,
         68,
         68
        ]
       },
       "50f92c45-a630-455b-aec3-788680ec7410": {
        "id": "50f92c45-a630-455b-aec3-788680ec7410",
        "rgb": [
         155,
         177,
         192
        ]
       },
       "c5cc3653-2ee1-402a-aba2-7caae1da4f6c": {
        "id": "c5cc3653-2ee1-402a-aba2-7caae1da4f6c",
        "rgb": [
         43,
         126,
         184
        ]
       },
       "efa7f048-9acb-414c-8b04-a26811511a21": {
        "id": "efa7f048-9acb-414c-8b04-a26811511a21",
        "rgb": [
         25.118061674008803,
         73.60176211453744,
         107.4819383259912
        ]
       }
      },
      "rules": {
       "blockquote": {
        "color": "50f92c45-a630-455b-aec3-788680ec7410"
       },
       "code": {
        "font-family": "Anonymous Pro"
       },
       "h1": {
        "color": "c5cc3653-2ee1-402a-aba2-7caae1da4f6c",
        "font-family": "Lato",
        "font-size": 8
       },
       "h2": {
        "color": "c5cc3653-2ee1-402a-aba2-7caae1da4f6c",
        "font-family": "Lato",
        "font-size": 6
       },
       "h3": {
        "color": "50f92c45-a630-455b-aec3-788680ec7410",
        "font-family": "Lato",
        "font-size": 5.5
       },
       "h4": {
        "color": "c5cc3653-2ee1-402a-aba2-7caae1da4f6c",
        "font-family": "Lato",
        "font-size": 5
       },
       "h5": {
        "font-family": "Lato"
       },
       "h6": {
        "font-family": "Lato"
       },
       "h7": {
        "font-family": "Lato"
       },
       "pre": {
        "font-family": "Anonymous Pro",
        "font-size": 4
       }
      },
      "text-base": {
       "font-family": "Merriweather",
       "font-size": 4
      }
     }
    }
   }
  }
 },
 "nbformat": 4,
 "nbformat_minor": 1
}
