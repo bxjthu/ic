{
 "cells": [
  {
   "cell_type": "markdown",
   "metadata": {},
   "source": [
    "接下来给大家介绍一个非常好用的Python库sympy，可以解决大家在数学上面的各种问题\n",
    "\n",
    "首先给大家展示两个不定积分运算\n",
    "$$\\int x*sin(x)dx$$\n",
    "\n",
    "$$\\int x^2*sin(x)dx$$\n"
   ]
  },
  {
   "cell_type": "code",
   "execution_count": 2,
   "metadata": {
    "collapsed": false
   },
   "outputs": [
    {
     "name": "stdout",
     "output_type": "stream",
     "text": [
      "-x*cos(x) + sin(x)\n"
     ]
    }
   ],
   "source": [
    "from sympy import *\n",
    "x = Symbol('x')\n",
    "print(integrate(x*sin(x), x))"
   ]
  },
  {
   "cell_type": "code",
   "execution_count": 3,
   "metadata": {
    "collapsed": false
   },
   "outputs": [
    {
     "name": "stdout",
     "output_type": "stream",
     "text": [
      "-x**2*cos(x) + 2*x*sin(x) + 2*cos(x)\n"
     ]
    }
   ],
   "source": [
    "print(integrate(x*x*sin(x), x))"
   ]
  },
  {
   "cell_type": "markdown",
   "metadata": {},
   "source": [
    "也可以用来做定积分运算，下面的程序计算\n",
    "\n",
    "$$\\int_0^{\\frac{\\pi}{4}} x^2*sin(x)$$"
   ]
  },
  {
   "cell_type": "code",
   "execution_count": 6,
   "metadata": {
    "collapsed": false
   },
   "outputs": [
    {
     "name": "stdout",
     "output_type": "stream",
     "text": [
      "-2 - sqrt(2)*pi**2/32 + sqrt(2)*pi/4 + sqrt(2)\n"
     ]
    }
   ],
   "source": [
    "print(integrate(x*x*sin(x), (x, 0, pi / 4)))"
   ]
  },
  {
   "cell_type": "markdown",
   "metadata": {},
   "source": [
    "下面的程序计算一个圆形的面积，注意定义r的时候要声明是正数，否则会导致积分无法求解"
   ]
  },
  {
   "cell_type": "code",
   "execution_count": 4,
   "metadata": {
    "collapsed": false
   },
   "outputs": [
    {
     "name": "stdout",
     "output_type": "stream",
     "text": [
      "pi*r**2\n"
     ]
    }
   ],
   "source": [
    "x, y, r = symbols('x,y,r')\n",
    "r = symbols('r', positive = True)\n",
    "circle_area = 2 * integrate(sqrt(r**2-x**2), (x, -r, r))\n",
    "print(circle_area)"
   ]
  },
  {
   "cell_type": "code",
   "execution_count": null,
   "metadata": {
    "collapsed": true
   },
   "outputs": [],
   "source": []
  }
 ],
 "metadata": {
  "kernelspec": {
   "display_name": "Python 3",
   "language": "python",
   "name": "python3"
  },
  "language_info": {
   "codemirror_mode": {
    "name": "ipython",
    "version": 3
   },
   "file_extension": ".py",
   "mimetype": "text/x-python",
   "name": "python",
   "nbconvert_exporter": "python",
   "pygments_lexer": "ipython3",
   "version": "3.5.1+"
  }
 },
 "nbformat": 4,
 "nbformat_minor": 0
}
