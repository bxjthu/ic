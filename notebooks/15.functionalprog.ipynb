{
 "cells": [
  {
   "cell_type": "markdown",
   "metadata": {
    "nbpresent": {
     "id": "596bf461-8d34-4b50-a3b7-ca45c99fda03"
    }
   },
   "source": [
    "# 15. Functional Programming in Python"
   ]
  },
  {
   "cell_type": "markdown",
   "metadata": {
    "nbpresent": {
     "id": "3eb59e20-b1e8-46f9-a7f3-0f22cdb7cc92"
    }
   },
   "source": [
    "## Programming styles\n",
    "\n",
    "Programming languages support decomposing problems in several different ways:\n",
    "\n",
    "- Most programming languages are procedural: programs are lists of instructions that tell the computer what to do with the program’s input. \n",
    "\n",
    "    - C, Pascal, and even Unix shells are procedural languages."
   ]
  },
  {
   "cell_type": "markdown",
   "metadata": {
    "nbpresent": {
     "id": "0aafc556-71f1-41e0-96aa-8123b9d9ec82"
    }
   },
   "source": [
    "- In declarative languages, you write a specification that describes the problem to be solved, and the language implementation figures out how to perform the computation efficiently. \n",
    "\n",
    "    - SQL is the declarative language you’re most likely to be familiar with; a SQL query describes the data set you want to retrieve, and the SQL engine decides whether to scan tables or use indexes, which subclauses should be performed first, etc."
   ]
  },
  {
   "cell_type": "markdown",
   "metadata": {
    "nbpresent": {
     "id": "3f4c77c2-63c3-4681-8d45-b1d5e872c5d5"
    }
   },
   "source": [
    "- Object-oriented programs manipulate collections of objects. Objects have internal state and support methods that query or modify this internal state in some way. \n",
    "\n",
    "    - Smalltalk and Java are object-oriented languages. C++ and Python are languages that support object-oriented programming, but don’t force the use of object-oriented features."
   ]
  },
  {
   "cell_type": "markdown",
   "metadata": {
    "nbpresent": {
     "id": "8e3bb7a8-de3e-49f5-a9fe-40678153cacf"
    }
   },
   "source": [
    "- Functional programming decomposes a problem into a set of functions. Ideally, functions only take inputs and produce outputs, and don’t have any internal state that affects the output produced for a given input. \n",
    "\n",
    "    - Well-known functional languages include the ML family (Standard ML, OCaml, and other variants) and Haskell."
   ]
  },
  {
   "cell_type": "markdown",
   "metadata": {
    "nbpresent": {
     "id": "94b502f1-e9d8-4835-8141-6fe01a09122a"
    }
   },
   "source": [
    "## What is Functional Programming\n",
    "\n",
    "- In a functional program, input flows through a set of functions. Each function operates on its input and produces some output. \n",
    "\n",
    "- Functional style discourages functions with side effects that modify internal state or make other changes that aren’t visible in its return value. Functions that have no side effects at all are called **purely functional**. \n",
    "\n",
    "- Avoiding side effects means not using data structures that get updated as a program runs; every function’s output must only depend on its input."
   ]
  },
  {
   "cell_type": "markdown",
   "metadata": {
    "nbpresent": {
     "id": "bfe154a2-ae8f-4678-a47b-b8bf34a5c715"
    }
   },
   "source": [
    "## More about functional programming\n",
    "\n",
    "- Recursion is used as a primary control structure.\n",
    "\n",
    "- There is a focus on list processing. Lists are often used with recursion on sublists as a substitute for loops.\n",
    "\n",
    "- Functional programming worries about what is to be computed rather than how it is to be computed.\n",
    "\n",
    "- Much functional programming utilizes “higher order” functions (in other words, functions that operate on functions that oper‐ ate on functions)."
   ]
  },
  {
   "cell_type": "markdown",
   "metadata": {
    "nbpresent": {
     "id": "a3b00296-3c6c-4dd3-a2b2-28f4b9366344"
    }
   },
   "source": [
    "## Python Functional Programming"
   ]
  },
  {
   "cell_type": "markdown",
   "metadata": {
    "nbpresent": {
     "id": "288e2316-d8bd-4764-8831-751e04e054d1"
    }
   },
   "source": [
    "** iterator **\n",
    "\n",
    "An iterator is an object representing a stream of data; this object returns the data one element at a time. \n",
    "\n",
    "A Python iterator must support a method called `__next__()` that takes no arguments and always returns the next element of the stream. \n",
    "\n",
    "If there are no more elements in the stream, `__next__()` must raise the `StopIteration` exception."
   ]
  },
  {
   "cell_type": "code",
   "execution_count": null,
   "metadata": {
    "collapsed": false,
    "nbpresent": {
     "id": "fbd78f95-1ddd-4243-9fc3-5e09e4038795"
    }
   },
   "outputs": [],
   "source": [
    "L = [1,2,3]\n",
    "it = iter(L)\n",
    "print(it, type(it))  \n",
    "print(it.__next__())  # same as next(it)\n",
    "print(next(it))\n",
    "print(next(it))\n",
    "print(next(it))"
   ]
  },
  {
   "cell_type": "markdown",
   "metadata": {
    "nbpresent": {
     "id": "d4801f0c-ba12-4f69-8fc3-089d335b1174"
    }
   },
   "source": [
    "Python expects iterable objects in several different contexts, the most important being the `for` statement. \n",
    "\n",
    "In the statement `for X in Y`, Y must be an iterator or some object for which `iter()` can create an iterator. "
   ]
  },
  {
   "cell_type": "markdown",
   "metadata": {
    "nbpresent": {
     "id": "403f8e51-5ad3-4196-a7d1-9832588b14e9"
    }
   },
   "source": [
    "These two statements are equivalent:\n",
    "\n",
    "```python\n",
    "for i in iter(obj):\n",
    "    print(i)\n",
    "\n",
    "for i in obj:\n",
    "    print(i)\n",
    "```"
   ]
  },
  {
   "cell_type": "markdown",
   "metadata": {
    "nbpresent": {
     "id": "fcbf437c-dc85-4940-b0bc-3556ac4fdb3a"
    }
   },
   "source": [
    "**Iterators can be materialized as lists or tuples:**"
   ]
  },
  {
   "cell_type": "code",
   "execution_count": null,
   "metadata": {
    "collapsed": false,
    "nbpresent": {
     "id": "28fe926c-dd24-48af-9035-12004f8a28f8"
    }
   },
   "outputs": [],
   "source": [
    "L = [1,2,3]\n",
    "\n",
    "iterator = iter(L)\n",
    "\n",
    "t = tuple(iterator)\n",
    "\n",
    "print(t)"
   ]
  },
  {
   "cell_type": "markdown",
   "metadata": {
    "nbpresent": {
     "id": "fd461a24-cb61-44df-810f-28ac3f78d357"
    }
   },
   "source": [
    "**Sequence unpacking also supports iterators:**"
   ]
  },
  {
   "cell_type": "code",
   "execution_count": null,
   "metadata": {
    "collapsed": false,
    "nbpresent": {
     "id": "cb7bf198-dc1e-4ad6-bb44-e7f0aacbc787"
    }
   },
   "outputs": [],
   "source": [
    "L = [1,2,3]\n",
    "iterator = iter(L)\n",
    "a,b,c = iterator\n",
    "a,b,c"
   ]
  },
  {
   "cell_type": "markdown",
   "metadata": {
    "nbpresent": {
     "id": "70bd050d-d594-4001-ae5c-2ae939d7b15e"
    }
   },
   "source": [
    "## Data Types That Support Iterators\n",
    "\n",
    "Any Python sequence type, such as strings, will automatically support creation of an iterator."
   ]
  },
  {
   "cell_type": "code",
   "execution_count": null,
   "metadata": {
    "collapsed": false,
    "nbpresent": {
     "id": "c861150d-63b7-4445-8ede-80d034723cfe"
    }
   },
   "outputs": [],
   "source": [
    "m = {'Jan': 1, 'Feb': 2, 'Mar': 3, 'Apr': 4, \n",
    "     'May': 5, 'Jun': 6, 'Jul': 7, 'Aug': 8, \n",
    "     'Sep': 9, 'Oct': 10, 'Nov': 11, 'Dec': 12}\n",
    "\n",
    "for key in m:  \n",
    "    print(key, m[key])"
   ]
  },
  {
   "cell_type": "code",
   "execution_count": null,
   "metadata": {
    "collapsed": false,
    "nbpresent": {
     "id": "3956becf-a148-496f-9bd9-6958b5095142"
    }
   },
   "outputs": [],
   "source": [
    "L = [('Italy', 'Rome'), ('France', 'Paris'), \n",
    "     ('US', 'Washington DC')]\n",
    "\n",
    "print(dict(iter(L)) == dict(L)) "
   ]
  },
  {
   "cell_type": "code",
   "execution_count": null,
   "metadata": {
    "collapsed": false,
    "nbpresent": {
     "id": "3559ecf9-8d92-4e52-886f-4b767411f98e"
    }
   },
   "outputs": [],
   "source": [
    "S = {2, 3, 5, 7, 11, 13}\n",
    "for i in S:\n",
    "    print(i)"
   ]
  },
  {
   "cell_type": "markdown",
   "metadata": {
    "nbpresent": {
     "id": "88b3a4a6-3a66-4506-ac2e-61657dde2b27"
    }
   },
   "source": [
    "## List comprehensions\n",
    "\n",
    "Two common operations on an iterator’s output are \n",
    "\n",
    "1) performing some operation for every element, \n",
    "\n",
    "2) selecting a subset of elements that meet some condition. \n",
    "\n",
    "For example, given a list of strings, you might want to strip off trailing whitespace from each line:"
   ]
  },
  {
   "cell_type": "code",
   "execution_count": null,
   "metadata": {
    "collapsed": false,
    "nbpresent": {
     "id": "360419b7-358d-4343-a3b5-e9b083a8b107"
    }
   },
   "outputs": [],
   "source": [
    "line_list = ['  line 1\\n', 'line 2  \\n', '']\n",
    "\n",
    "# List comprehension -- returns list\n",
    "stripped_list = [line.strip() for line in line_list]\n",
    "\n",
    "print(stripped_list)"
   ]
  },
  {
   "cell_type": "code",
   "execution_count": null,
   "metadata": {
    "collapsed": false,
    "nbpresent": {
     "id": "f12b7d57-ebc3-4279-b863-dcd169dbff59"
    }
   },
   "outputs": [],
   "source": [
    "stripped_list = [line.strip() for line in line_list\n",
    "                 if line != \"\"]\n",
    "\n",
    "print(stripped_list)"
   ]
  },
  {
   "cell_type": "code",
   "execution_count": null,
   "metadata": {
    "collapsed": false,
    "nbpresent": {
     "id": "9c5f0199-0e19-4de2-905c-bb65f2451b13"
    }
   },
   "outputs": [],
   "source": [
    "seq1 = 'abc'\n",
    "seq2 = (1,2,3)\n",
    "\n",
    "[(x, y) for x in seq1 for y in seq2]"
   ]
  },
  {
   "cell_type": "markdown",
   "metadata": {
    "nbpresent": {
     "id": "d5bd47c9-bda3-44e0-9aa0-87f8b3d6026f"
    }
   },
   "source": [
    "## Built-in functions: map\n",
    "\n",
    "\n",
    "map(f, iterA, iterB, ...) returns an iterator over the sequence\n",
    "\n",
    "f(iterA[0], iterB[0]), f(iterA[1], iterB[1]), f(iterA[2], iterB[2]), ....\n"
   ]
  },
  {
   "cell_type": "code",
   "execution_count": null,
   "metadata": {
    "collapsed": false,
    "nbpresent": {
     "id": "f2baefee-22f0-4503-9c38-c2db18ed1ced"
    }
   },
   "outputs": [],
   "source": [
    "def upper(s):\n",
    "    return s.upper()\n",
    "\n",
    "list(map(upper, ['sentence', 'fragment']))"
   ]
  },
  {
   "cell_type": "markdown",
   "metadata": {
    "nbpresent": {
     "id": "1233edf0-1ea8-4c51-b68d-cac959029478"
    }
   },
   "source": [
    "You can of course achieve the same effect with a list comprehension."
   ]
  },
  {
   "cell_type": "code",
   "execution_count": null,
   "metadata": {
    "collapsed": false,
    "nbpresent": {
     "id": "1432409c-4ebe-4d39-ae66-8b504c1777e5"
    }
   },
   "outputs": [],
   "source": [
    "[upper(s) for s in ['sentence', 'fragment']]"
   ]
  },
  {
   "cell_type": "markdown",
   "metadata": {
    "nbpresent": {
     "id": "64816836-dde7-4b8b-aef4-d06dbf00a031"
    }
   },
   "source": [
    "## Built-in functions: filter\n",
    "\n",
    "`filter(predicate, iter)` returns an iterator over all the sequence elements that meet a certain condition, and is similarly duplicated by list comprehensions. \n",
    "\n",
    "A **predicate** is a function that returns the truth value of some condition; for use with `filter()`, the predicate must take a single value."
   ]
  },
  {
   "cell_type": "code",
   "execution_count": null,
   "metadata": {
    "collapsed": false,
    "nbpresent": {
     "id": "41b8cb5c-eb6f-4099-9e57-acc580528305"
    }
   },
   "outputs": [],
   "source": [
    "def is_even(x):\n",
    "    return (x % 2) == 0\n",
    "\n",
    "list(filter(is_even, range(10)))"
   ]
  },
  {
   "cell_type": "markdown",
   "metadata": {
    "nbpresent": {
     "id": "da3bd50e-e197-43ba-bde2-7a25b3ebdda2"
    }
   },
   "source": [
    "This can also be written as a list comprehension:"
   ]
  },
  {
   "cell_type": "code",
   "execution_count": null,
   "metadata": {
    "collapsed": false,
    "nbpresent": {
     "id": "a4dc76e8-0661-4322-bdca-7183df11404e"
    }
   },
   "outputs": [],
   "source": [
    "[x for x in range(10) if is_even(x)]"
   ]
  },
  {
   "cell_type": "code",
   "execution_count": null,
   "metadata": {
    "collapsed": false,
    "nbpresent": {
     "id": "e6f29310-a1c3-4243-94d7-9ee5107df5f6"
    }
   },
   "outputs": [],
   "source": [
    "for x in filter(is_even, range(10)):\n",
    "    print(x)"
   ]
  },
  {
   "cell_type": "markdown",
   "metadata": {
    "nbpresent": {
     "id": "d990af0a-54d4-477f-8d5b-6e3c578c3a94"
    }
   },
   "source": [
    "## Built-in functions: sorted\n",
    "\n",
    "`sorted(iterable, key=None, reverse=False)` collects all the elements of the iterable into a list, sorts the list, and returns the sorted result. \n",
    "\n",
    "The **key** and **reverse** arguments are passed through to the constructed list’s `sort()` method."
   ]
  },
  {
   "cell_type": "code",
   "execution_count": null,
   "metadata": {
    "collapsed": false,
    "nbpresent": {
     "id": "a929d970-a656-4bfb-be8f-d1089cf875d2"
    }
   },
   "outputs": [],
   "source": [
    "import random\n",
    "# Generate 8 random numbers between [0, 10000)\n",
    "rand_list = random.sample(range(10000), 8)\n",
    "print(rand_list) \n",
    "print(sorted(rand_list)) \n",
    "print(sorted(rand_list, reverse=True))"
   ]
  },
  {
   "cell_type": "markdown",
   "metadata": {
    "nbpresent": {
     "id": "a0aa8e3e-d914-45e9-9a7b-acfa44bb3d6e"
    }
   },
   "source": [
    "## Built-in functions: zip\n",
    "\n",
    "`zip(iterA, iterB, ...)` takes one element from each iterable and returns them in a tuple:"
   ]
  },
  {
   "cell_type": "code",
   "execution_count": null,
   "metadata": {
    "collapsed": false,
    "nbpresent": {
     "id": "0eb9a6e9-8501-4ab9-a99d-497a81aaae7e"
    }
   },
   "outputs": [],
   "source": [
    "list(zip(['a', 'b', 'c'], [1, 2, 3]))"
   ]
  },
  {
   "cell_type": "markdown",
   "metadata": {
    "nbpresent": {
     "id": "3f43a5ce-0bfa-47ed-801b-2a0eeacf0a59"
    }
   },
   "source": [
    "## Built-in functions: `all` and `zip`\n",
    "\n",
    "The `any(iter)` and `all(iter)` built-ins look at the truth values of an iterable’s contents. \n",
    "\n",
    "`any()` returns True if any element in the iterable is a true value, and `all()` returns True if all of the elements are true values:\n"
   ]
  },
  {
   "cell_type": "code",
   "execution_count": null,
   "metadata": {
    "collapsed": false,
    "nbpresent": {
     "id": "161bc0d0-8c9b-4e8a-9c39-a6f963a32419"
    }
   },
   "outputs": [],
   "source": [
    "print(any([0,1,0]))\n",
    "print(any([0,0,0]))\n",
    "print(any([1,1,1]))\n",
    "print(all([0,1,0]))\n",
    "print(all([0,0,0]))\n",
    "print(all([1,1,1]))"
   ]
  },
  {
   "cell_type": "markdown",
   "metadata": {
    "nbpresent": {
     "id": "786bb0e9-8722-4e1d-9b3b-1fb635e3c5ed"
    }
   },
   "source": [
    "## The itertools module\n",
    "\n",
    "The **itertools** module contains a number of commonly-used iterators as well as functions for combining several iterators. "
   ]
  },
  {
   "cell_type": "markdown",
   "metadata": {
    "nbpresent": {
     "id": "317da171-b524-4896-8a82-23ec0f8f8a28"
    }
   },
   "source": [
    "## Creating new iterators"
   ]
  },
  {
   "cell_type": "markdown",
   "metadata": {
    "nbpresent": {
     "id": "d381eea6-4e93-4d47-b77b-5fa6b135535c"
    }
   },
   "source": [
    "** count, repeat, cycle, chain **\n",
    "\n",
    "`itertools.count(n)` returns an infinite stream of integers, increasing by 1 each time."
   ]
  },
  {
   "cell_type": "code",
   "execution_count": null,
   "metadata": {
    "collapsed": false,
    "nbpresent": {
     "id": "0e935209-e98b-4500-a18e-d8c4936b3b6b"
    }
   },
   "outputs": [],
   "source": [
    "import itertools\n",
    "import random\n",
    "\n",
    "rand = random.randint(0,10000)\n",
    "cnt = 0\n",
    "for f in itertools.count() :\n",
    "    cnt +=1\n",
    "    if f == rand:\n",
    "        break\n",
    "\n",
    "print('guess {} times'.format(cnt))"
   ]
  },
  {
   "cell_type": "markdown",
   "metadata": {
    "nbpresent": {
     "id": "ca61b03f-8426-429c-8d15-1d9cc195132a"
    }
   },
   "source": [
    "**combinations**\n",
    "\n",
    "The `itertools.combinations(iterable, r)` returns an iterator giving all possible r-tuple combinations of the elements contained in iterable.\n",
    "\n",
    "`itertools.permutations(iterable, r=None)` returning all possible arrangements of length r:"
   ]
  },
  {
   "cell_type": "code",
   "execution_count": null,
   "metadata": {
    "collapsed": false,
    "nbpresent": {
     "id": "58f550b2-781c-447b-b082-84a3b9245648"
    }
   },
   "outputs": [],
   "source": [
    "list(itertools.combinations([1, 2, 3, 4, 5], 2))"
   ]
  },
  {
   "cell_type": "code",
   "execution_count": null,
   "metadata": {
    "collapsed": false,
    "nbpresent": {
     "id": "c4288476-bab1-4288-9e10-2ec70d9c58e3"
    }
   },
   "outputs": [],
   "source": [
    "list(itertools.permutations([1, 2, 3, 4, 5], 2))"
   ]
  },
  {
   "cell_type": "markdown",
   "metadata": {
    "nbpresent": {
     "id": "29db5a08-598d-490d-b6d6-0a20139ed819"
    }
   },
   "source": [
    "## The functools module\n",
    "\n",
    "The `functools` module contains some **higher-order** functions. \n",
    "\n",
    "A higher-order function takes one or more functions as input and returns a new function. "
   ]
  },
  {
   "cell_type": "markdown",
   "metadata": {
    "nbpresent": {
     "id": "d50aa67e-ed9c-4e23-9c56-08c174179c40"
    }
   },
   "source": [
    "** functools.partial **\n",
    "\n",
    "For programs written in a functional style, you’ll sometimes want to construct variants of existing functions that have some of the parameters filled in. \n",
    "\n",
    "Consider a Python function `f(a, b, c)`; you may wish to create a new function `g(b, c)` that’s equivalent to `f(1, b, c)`; you’re filling in a value for one of f()‘s parameters. This is called “partial function application”."
   ]
  },
  {
   "cell_type": "code",
   "execution_count": null,
   "metadata": {
    "collapsed": false,
    "nbpresent": {
     "id": "7feb008a-2fb7-4718-9339-917911b96d82"
    }
   },
   "outputs": [],
   "source": [
    "import functools\n",
    "\n",
    "def log(message, subsystem):\n",
    "    \"\"\"Write the contents of 'message' to the specified subsystem.\"\"\"\n",
    "    print('%s: %s' % (subsystem, message))\n",
    "    pass\n",
    "\n",
    "server_log = functools.partial(log, subsystem='server')\n",
    "server_log('Unable to open socket')"
   ]
  },
  {
   "cell_type": "markdown",
   "metadata": {
    "nbpresent": {
     "id": "236cdbb5-02d8-4245-ae8b-0f5a3bf0e8f9"
    }
   },
   "source": [
    "** functools.reduce **\n",
    "\n",
    "`functools.reduce(func, iter, [initial_value])` cumulatively performs an operation on all the iterable’s elements and, therefore, can’t be applied to infinite iterables. \n",
    "\n",
    "`func` must be a function that takes **two elements** and returns a single value. "
   ]
  },
  {
   "cell_type": "markdown",
   "metadata": {
    "nbpresent": {
     "id": "5fe3621c-8061-4b35-99f0-b3ddac632c34"
    }
   },
   "source": [
    "`functools.reduce()` takes the first two elements A and B returned by the iterator and calculates func(A, B). It then requests the third element, C, calculates func(func(A, B), C), combines this result with the fourth element returned, and continues until the iterable is exhausted. \n",
    "\n",
    "If the iterable returns no values at all, a `TypeError` exception is raised. If the initial value is supplied, it’s used as a starting point and `func(initial_value, A)` is the first calculation."
   ]
  },
  {
   "cell_type": "code",
   "execution_count": null,
   "metadata": {
    "collapsed": false,
    "nbpresent": {
     "id": "73cdf77e-35a7-4fff-bcd3-11a2afb6d28c"
    }
   },
   "outputs": [],
   "source": [
    "import operator, functools\n",
    "\n",
    "functools.reduce(operator.concat, ['A', 'BB', 'C'])"
   ]
  },
  {
   "cell_type": "code",
   "execution_count": null,
   "metadata": {
    "collapsed": false,
    "nbpresent": {
     "id": "c7bc9aa7-e8a2-4d1a-abc7-88d133c40254"
    }
   },
   "outputs": [],
   "source": [
    "import operator, functools\n",
    "\n",
    "functools.reduce(operator.mul, [1,2,3],1)"
   ]
  },
  {
   "cell_type": "code",
   "execution_count": null,
   "metadata": {
    "collapsed": false,
    "nbpresent": {
     "id": "ecf16214-2df5-409d-b31f-9e7ca8c6790a"
    }
   },
   "outputs": [],
   "source": [
    "import operator, functools\n",
    "\n",
    "functools.reduce(operator.add, [1,2,3,4],0)"
   ]
  },
  {
   "cell_type": "markdown",
   "metadata": {
    "nbpresent": {
     "id": "e584313d-fd47-4110-a57f-a894fe035f5b"
    }
   },
   "source": [
    "## The lambda expression\n",
    "\n",
    "When writing functional-style programs, you’ll often need little functions that act as predicates or that combine elements in some way. \n",
    "\n",
    "If there’s a Python built-in or a module function that’s suitable, you don’t need to define a new function.\n",
    "\n",
    "If the function you need doesn’t exist, you need to write it. "
   ]
  },
  {
   "cell_type": "markdown",
   "metadata": {
    "nbpresent": {
     "id": "1364d56b-3116-4059-b8c9-58cedcc23c8b"
    }
   },
   "source": [
    "One way to write small functions is to use the **lambda** statement.\n",
    "\n",
    "**lambda** takes a number of parameters and an expression combining these parameters, and creates an anonymous function that returns the value of the expression"
   ]
  },
  {
   "cell_type": "code",
   "execution_count": null,
   "metadata": {
    "collapsed": false,
    "nbpresent": {
     "id": "b5e0cb4c-46ed-4542-a40f-6f3579c6b078"
    }
   },
   "outputs": [],
   "source": [
    "adder = lambda x, y: x+y\n",
    "\n",
    "adder(1,2)"
   ]
  },
  {
   "cell_type": "code",
   "execution_count": null,
   "metadata": {
    "collapsed": true
   },
   "outputs": [],
   "source": []
  },
  {
   "cell_type": "code",
   "execution_count": null,
   "metadata": {
    "collapsed": false,
    "nbpresent": {
     "id": "b454c52d-2459-43a6-854f-b8eab3d81913"
    }
   },
   "outputs": [],
   "source": [
    "import functools\n",
    "\n",
    "functools.reduce(lambda x,y:x*y, [1,2,3], 1)"
   ]
  },
  {
   "cell_type": "code",
   "execution_count": null,
   "metadata": {
    "collapsed": true
   },
   "outputs": [],
   "source": []
  },
  {
   "cell_type": "code",
   "execution_count": null,
   "metadata": {
    "collapsed": false,
    "nbpresent": {
     "id": "a8ab0750-625d-4b96-8ef7-1ffd1e0f172d"
    }
   },
   "outputs": [],
   "source": [
    "import functools\n",
    "\n",
    "functools.reduce(lambda x,y:x+y, [1,2,3,4], 0)\n",
    "\n",
    "help(functools.reduce)"
   ]
  },
  {
   "cell_type": "code",
   "execution_count": null,
   "metadata": {
    "collapsed": false,
    "nbpresent": {
     "id": "0d4e5ef9-69f7-4096-b8d0-f4fb7395bd8f"
    }
   },
   "outputs": [],
   "source": [
    "list(map(lambda x: x.upper(), \n",
    "         ['sentence', 'fragment']))"
   ]
  },
  {
   "cell_type": "code",
   "execution_count": null,
   "metadata": {
    "collapsed": false,
    "nbpresent": {
     "id": "612dd207-2b8f-4035-ac79-aa2489940548"
    }
   },
   "outputs": [],
   "source": [
    "list(filter(lambda x: x%2 == 0, range(10)))"
   ]
  },
  {
   "cell_type": "code",
   "execution_count": null,
   "metadata": {
    "collapsed": false,
    "nbpresent": {
     "id": "3850528c-a089-4f3b-b97a-c95688feea28"
    }
   },
   "outputs": [],
   "source": [
    "from functools import reduce \n",
    "\n",
    "def factorial(n):\n",
    "    return reduce(lambda x,y: x*y, range(1, n+1),1)\n",
    "\n",
    "factorial(100)"
   ]
  },
  {
   "cell_type": "code",
   "execution_count": null,
   "metadata": {
    "collapsed": false,
    "nbpresent": {
     "id": "2d647227-1466-4d65-aba9-1d307792a69b"
    }
   },
   "outputs": [],
   "source": [
    "score = {'A':20,'B':15, 'C':60, 'D':40}\n",
    "sorted(score.items(), key=lambda kv:kv[1])"
   ]
  },
  {
   "cell_type": "markdown",
   "metadata": {
    "nbpresent": {
     "id": "947ffa6b-e112-4dc3-8284-f2c45a3c98b9"
    }
   },
   "source": [
    "## Reference\n",
    "\n",
    "https://docs.python.org/3.5/howto/functional.html"
   ]
  },
  {
   "cell_type": "code",
   "execution_count": null,
   "metadata": {
    "collapsed": true,
    "nbpresent": {
     "id": "ae78c7a5-e5d2-4b0e-b379-229db36069f4"
    }
   },
   "outputs": [],
   "source": []
  }
 ],
 "metadata": {
  "anaconda-cloud": {},
  "kernelspec": {
   "display_name": "Python [default]",
   "language": "python",
   "name": "python3"
  },
  "language_info": {
   "codemirror_mode": {
    "name": "ipython",
    "version": 3
   },
   "file_extension": ".py",
   "mimetype": "text/x-python",
   "name": "python",
   "nbconvert_exporter": "python",
   "pygments_lexer": "ipython3",
   "version": "3.5.2"
  },
  "nbpresent": {
   "slides": {
    "00644ef6-096f-4d0f-9eb0-7721040c7084": {
     "id": "00644ef6-096f-4d0f-9eb0-7721040c7084",
     "prev": "a227eb90-aff3-4955-95ed-fe79d0470928",
     "regions": {
      "e7df51ff-ab7a-4061-ad13-4d265e55e4bc": {
       "attrs": {
        "height": 0.8,
        "width": 0.8,
        "x": 0.1,
        "y": 0.1
       },
       "content": {
        "cell": "73cdf77e-35a7-4fff-bcd3-11a2afb6d28c",
        "part": "whole"
       },
       "id": "e7df51ff-ab7a-4061-ad13-4d265e55e4bc"
      }
     }
    },
    "08434ef5-3b16-4078-91ab-1f9cfcddc163": {
     "id": "08434ef5-3b16-4078-91ab-1f9cfcddc163",
     "prev": "b4d2bfd0-7175-4716-84b9-03fa4e695c96",
     "regions": {
      "43985543-8024-44ea-a6e1-fa39ebdaaf1e": {
       "attrs": {
        "height": 0.16305167442892,
        "width": 0.8,
        "x": 0.1,
        "y": 0.1
       },
       "content": {
        "cell": "fcbf437c-dc85-4940-b0bc-3556ac4fdb3a",
        "part": "whole"
       },
       "id": "43985543-8024-44ea-a6e1-fa39ebdaaf1e"
      },
      "61869fe1-3f84-48d8-9cfa-e8da9f9fabe3": {
       "attrs": {
        "height": 0.5906409403415392,
        "width": 0.8,
        "x": 0.1,
        "y": 0.3093590596584609
       },
       "content": {
        "cell": "28fe926c-dd24-48af-9035-12004f8a28f8",
        "part": "whole"
       },
       "id": "61869fe1-3f84-48d8-9cfa-e8da9f9fabe3"
      }
     }
    },
    "0a729302-5008-4182-ab0d-b9232d53b048": {
     "id": "0a729302-5008-4182-ab0d-b9232d53b048",
     "prev": "ac200bd8-fe41-4bbe-899c-04dd35251147",
     "regions": {
      "381ee049-afed-4f39-bba8-36a11c42ca65": {
       "attrs": {
        "height": 0.8,
        "width": 0.8,
        "x": 0.1,
        "y": 0.1
       },
       "content": {
        "cell": "c4288476-bab1-4288-9e10-2ec70d9c58e3",
        "part": "whole"
       },
       "id": "381ee049-afed-4f39-bba8-36a11c42ca65"
      }
     }
    },
    "16540475-14d6-40a6-a6a8-e5facd4fd492": {
     "id": "16540475-14d6-40a6-a6a8-e5facd4fd492",
     "prev": "b65c347f-7fc1-40a6-acd9-78793a70d0aa",
     "regions": {
      "8bd9dbf7-4599-4dc8-b571-95688506b98a": {
       "attrs": {
        "height": 0.8,
        "width": 0.8,
        "x": 0.1,
        "y": 0.1
       },
       "content": {
        "cell": "fbd78f95-1ddd-4243-9fc3-5e09e4038795",
        "part": "whole"
       },
       "id": "8bd9dbf7-4599-4dc8-b571-95688506b98a"
      }
     }
    },
    "18919bea-54af-4956-a69c-c40858e1d7fc": {
     "id": "18919bea-54af-4956-a69c-c40858e1d7fc",
     "prev": "1bb32f9e-cb8c-412d-8fa9-f46b97470773",
     "regions": {
      "2294f20b-a007-43a6-adab-d48a7ebfc5ac": {
       "attrs": {
        "height": 0.8,
        "width": 0.8,
        "x": 0.1,
        "y": 0.1
       },
       "content": {
        "cell": "3956becf-a148-496f-9bd9-6958b5095142",
        "part": "whole"
       },
       "id": "2294f20b-a007-43a6-adab-d48a7ebfc5ac"
      }
     }
    },
    "1bb32f9e-cb8c-412d-8fa9-f46b97470773": {
     "id": "1bb32f9e-cb8c-412d-8fa9-f46b97470773",
     "prev": "6743c17a-609a-4f43-afbd-a3ca642a3f1d",
     "regions": {
      "ab69e5d8-d1e6-4e2c-b00a-6379366e919e": {
       "attrs": {
        "height": 0.8,
        "width": 0.8,
        "x": 0.1,
        "y": 0.1
       },
       "content": {
        "cell": "c861150d-63b7-4445-8ede-80d034723cfe",
        "part": "whole"
       },
       "id": "ab69e5d8-d1e6-4e2c-b00a-6379366e919e"
      }
     }
    },
    "1c76106b-281e-4f3d-acb7-f7a30238e464": {
     "id": "1c76106b-281e-4f3d-acb7-f7a30238e464",
     "prev": "ebc0622c-2214-41dc-93f4-a3e052516b6a",
     "regions": {
      "3af9f34b-7aea-46b9-a2a2-afa102407c35": {
       "attrs": {
        "height": 0.8,
        "width": 0.8,
        "x": 0.1,
        "y": 0.1
       },
       "content": {
        "cell": "41b8cb5c-eb6f-4099-9e57-acc580528305",
        "part": "whole"
       },
       "id": "3af9f34b-7aea-46b9-a2a2-afa102407c35"
      }
     }
    },
    "258e76b0-603d-4db1-93ba-b93414bacada": {
     "id": "258e76b0-603d-4db1-93ba-b93414bacada",
     "prev": "e7112eda-5ec3-4e47-ac20-d96d157af645",
     "regions": {
      "4971b6ea-5bca-42f2-8ef7-28ac4ee754d3": {
       "attrs": {
        "height": 0.8,
        "width": 0.8,
        "x": 0.1,
        "y": 0.1
       },
       "content": {
        "cell": "a929d970-a656-4bfb-be8f-d1089cf875d2",
        "part": "whole"
       },
       "id": "4971b6ea-5bca-42f2-8ef7-28ac4ee754d3"
      }
     }
    },
    "27096ed2-7574-4bf9-9f9d-8894222535a4": {
     "id": "27096ed2-7574-4bf9-9f9d-8894222535a4",
     "prev": "8d2bbc0e-9a2c-4dfd-bb7a-2ec0191cc63d",
     "regions": {
      "bfa44456-0962-4087-8b9d-53ac16799d87": {
       "attrs": {
        "height": 0.8,
        "width": 0.8,
        "x": 0.1,
        "y": 0.1
       },
       "content": {
        "cell": "0eb9a6e9-8501-4ab9-a99d-497a81aaae7e",
        "part": "whole"
       },
       "id": "bfa44456-0962-4087-8b9d-53ac16799d87"
      }
     }
    },
    "29c62000-2d93-4a15-ae5a-7c4808d160db": {
     "id": "29c62000-2d93-4a15-ae5a-7c4808d160db",
     "prev": "a7e7f7c3-1378-44c7-8450-cf55bb471c63",
     "regions": {
      "32d217a2-b5cb-4745-b657-ebda183ecc95": {
       "attrs": {
        "height": 0.8,
        "width": 0.8,
        "x": 0.1,
        "y": 0.1
       },
       "content": {
        "cell": "b5e0cb4c-46ed-4542-a40f-6f3579c6b078",
        "part": "whole"
       },
       "id": "32d217a2-b5cb-4745-b657-ebda183ecc95"
      }
     }
    },
    "2e46d80b-9d9f-40b1-8bf8-1368f47a480e": {
     "id": "2e46d80b-9d9f-40b1-8bf8-1368f47a480e",
     "prev": "817359b6-868d-472b-9fb8-a3ae73d7ea21",
     "regions": {
      "5501fa81-a156-4894-b7a7-13916a69ea27": {
       "attrs": {
        "height": 0.8,
        "width": 0.8,
        "x": 0.1,
        "y": 0.1
       },
       "content": {
        "cell": "ecf16214-2df5-409d-b31f-9e7ca8c6790a",
        "part": "whole"
       },
       "id": "5501fa81-a156-4894-b7a7-13916a69ea27"
      }
     }
    },
    "33503def-16ca-4717-bfe2-f9ac0faaa2f2": {
     "id": "33503def-16ca-4717-bfe2-f9ac0faaa2f2",
     "prev": "735f730b-60a1-4978-9b5b-11ccc559e4b8",
     "regions": {
      "896d934e-11d0-4dbe-93c8-73422f37220e": {
       "attrs": {
        "height": 0.8,
        "width": 0.8,
        "x": 0.1,
        "y": 0.1
       },
       "content": {
        "cell": "786bb0e9-8722-4e1d-9b3b-1fb635e3c5ed",
        "part": "whole"
       },
       "id": "896d934e-11d0-4dbe-93c8-73422f37220e"
      }
     }
    },
    "48a666d5-8f91-479c-a5ae-4ef2b9aa2b67": {
     "id": "48a666d5-8f91-479c-a5ae-4ef2b9aa2b67",
     "prev": "27096ed2-7574-4bf9-9f9d-8894222535a4",
     "regions": {
      "ced875e0-385b-4834-be4a-b27ad7463fb2": {
       "attrs": {
        "height": 0.8,
        "width": 0.8,
        "x": 0.1,
        "y": 0.1
       },
       "content": {
        "cell": "3f43a5ce-0bfa-47ed-801b-2a0eeacf0a59",
        "part": "whole"
       },
       "id": "ced875e0-385b-4834-be4a-b27ad7463fb2"
      }
     }
    },
    "4b51dce1-8519-4ce3-ac89-0d7b12826a7d": {
     "id": "4b51dce1-8519-4ce3-ac89-0d7b12826a7d",
     "prev": "8797675f-d15f-4a69-88c0-7a2755bf4cbd",
     "regions": {
      "d601793e-f890-4186-89c6-2ee1ece1720c": {
       "attrs": {
        "height": 0.8,
        "width": 0.8,
        "x": 0.1,
        "y": 0.1
       },
       "content": {
        "cell": "d50aa67e-ed9c-4e23-9c56-08c174179c40",
        "part": "whole"
       },
       "id": "d601793e-f890-4186-89c6-2ee1ece1720c"
      }
     }
    },
    "4b5e0486-1720-4c72-bed5-22be218c7d35": {
     "id": "4b5e0486-1720-4c72-bed5-22be218c7d35",
     "prev": "a5bdf7ea-d6ec-4cba-adfc-741a5d656caf",
     "regions": {
      "db689123-6965-4fef-9671-84927e3f7b5d": {
       "attrs": {
        "height": 0.8,
        "width": 0.8,
        "x": 0.1,
        "y": 0.1
       },
       "content": {
        "cell": "8e3bb7a8-de3e-49f5-a9fe-40678153cacf",
        "part": "whole"
       },
       "id": "db689123-6965-4fef-9671-84927e3f7b5d"
      }
     }
    },
    "56f8abf1-688e-45a6-8d57-cd85f7f50e7e": {
     "id": "56f8abf1-688e-45a6-8d57-cd85f7f50e7e",
     "prev": "6bab225e-73fd-4056-a4e0-b2141e30f963",
     "regions": {
      "ba776a88-8bfe-4fcb-ac46-44f8a58cc7f2": {
       "attrs": {
        "height": 0.8,
        "width": 0.8,
        "x": 0.1,
        "y": 0.1
       },
       "content": {
        "cell": "0e935209-e98b-4500-a18e-d8c4936b3b6b",
        "part": "whole"
       },
       "id": "ba776a88-8bfe-4fcb-ac46-44f8a58cc7f2"
      }
     }
    },
    "57b9b10d-3460-433d-b046-ebacdb36f1c0": {
     "id": "57b9b10d-3460-433d-b046-ebacdb36f1c0",
     "prev": "c72ff6a9-7b48-478b-a363-7e160ca6346c",
     "regions": {
      "9ec693bd-4008-41a1-adc7-515efbaac75b": {
       "attrs": {
        "height": 0.8,
        "width": 0.8,
        "x": 0.1,
        "y": 0.1
       },
       "content": {
        "cell": "a8ab0750-625d-4b96-8ef7-1ffd1e0f172d",
        "part": "whole"
       },
       "id": "9ec693bd-4008-41a1-adc7-515efbaac75b"
      }
     }
    },
    "64442d74-89f8-4f51-b60f-0bcc3e234535": {
     "id": "64442d74-89f8-4f51-b60f-0bcc3e234535",
     "prev": "719506cc-f4cb-4d79-be2a-344b05393ac9",
     "regions": {
      "9176add8-432c-4063-b06e-90ccf36945de": {
       "attrs": {
        "height": 0.8,
        "width": 0.8,
        "x": 0.1,
        "y": 0.1
       },
       "content": {
        "cell": "bfe154a2-ae8f-4678-a47b-b8bf34a5c715",
        "part": "whole"
       },
       "id": "9176add8-432c-4063-b06e-90ccf36945de"
      }
     }
    },
    "64f9f9cf-40b6-4d33-8a1e-b3ab89019409": {
     "id": "64f9f9cf-40b6-4d33-8a1e-b3ab89019409",
     "prev": "18919bea-54af-4956-a69c-c40858e1d7fc",
     "regions": {
      "062589e5-015a-4e91-a97b-1034cdc40dd6": {
       "attrs": {
        "height": 0.8,
        "width": 0.8,
        "x": 0.1,
        "y": 0.1
       },
       "content": {
        "cell": "3559ecf9-8d92-4e52-886f-4b767411f98e",
        "part": "whole"
       },
       "id": "062589e5-015a-4e91-a97b-1034cdc40dd6"
      }
     }
    },
    "6743c17a-609a-4f43-afbd-a3ca642a3f1d": {
     "id": "6743c17a-609a-4f43-afbd-a3ca642a3f1d",
     "prev": "c1909ec3-bc05-405d-a520-5dc1e1453fda",
     "regions": {
      "f0b217c4-7cb9-4c38-8518-d594864a5772": {
       "attrs": {
        "height": 0.8,
        "width": 0.8,
        "x": 0.1,
        "y": 0.1
       },
       "content": {
        "cell": "70bd050d-d594-4001-ae5c-2ae939d7b15e",
        "part": "whole"
       },
       "id": "f0b217c4-7cb9-4c38-8518-d594864a5772"
      }
     }
    },
    "69e6db94-a4ba-43c7-8a5c-07f8206c18cb": {
     "id": "69e6db94-a4ba-43c7-8a5c-07f8206c18cb",
     "prev": "90615b9d-8322-4e75-9b31-197f903576ee",
     "regions": {
      "ff3ca6e8-85b8-4a36-b761-9f9e5f6a7c89": {
       "attrs": {
        "height": 0.8,
        "width": 0.8,
        "x": 0.1,
        "y": 0.1
       },
       "content": {
        "cell": "3850528c-a089-4f3b-b97a-c95688feea28",
        "part": "whole"
       },
       "id": "ff3ca6e8-85b8-4a36-b761-9f9e5f6a7c89"
      }
     }
    },
    "6b7a3514-770f-4ba7-b6a2-f96dcaa6fc3d": {
     "id": "6b7a3514-770f-4ba7-b6a2-f96dcaa6fc3d",
     "prev": "dee29b74-3ca9-4f81-a6a1-b79311ae65dc",
     "regions": {
      "210b92fe-cf00-4375-9f59-d9ef27cb3846": {
       "attrs": {
        "height": 0.8,
        "width": 0.8,
        "x": 0.1,
        "y": 0.1
       },
       "content": {
        "cell": "9c5f0199-0e19-4de2-905c-bb65f2451b13",
        "part": "whole"
       },
       "id": "210b92fe-cf00-4375-9f59-d9ef27cb3846"
      }
     }
    },
    "6bab225e-73fd-4056-a4e0-b2141e30f963": {
     "id": "6bab225e-73fd-4056-a4e0-b2141e30f963",
     "prev": "b5c18df6-22da-4127-a4ef-942f9b39d44b",
     "regions": {
      "bd9a975c-a0fd-4e48-b242-560bb7dc4f54": {
       "attrs": {
        "height": 0.8,
        "width": 0.8,
        "x": 0.1,
        "y": 0.1
       },
       "content": {
        "cell": "d381eea6-4e93-4d47-b77b-5fa6b135535c",
        "part": "whole"
       },
       "id": "bd9a975c-a0fd-4e48-b242-560bb7dc4f54"
      }
     }
    },
    "6ce6fb3c-26ef-4840-b4ea-bf6d1c1807fb": {
     "id": "6ce6fb3c-26ef-4840-b4ea-bf6d1c1807fb",
     "prev": "db85a40c-72fa-42bd-bf0d-0e500aba194a",
     "regions": {
      "984de3dd-1398-426d-bffc-99ab948230bd": {
       "attrs": {
        "height": 0.8,
        "width": 0.8,
        "x": 0.1,
        "y": 0.1
       },
       "content": {
        "cell": "236cdbb5-02d8-4245-ae8b-0f5a3bf0e8f9",
        "part": "whole"
       },
       "id": "984de3dd-1398-426d-bffc-99ab948230bd"
      }
     }
    },
    "719506cc-f4cb-4d79-be2a-344b05393ac9": {
     "id": "719506cc-f4cb-4d79-be2a-344b05393ac9",
     "prev": "4b5e0486-1720-4c72-bed5-22be218c7d35",
     "regions": {
      "1f6247c4-9e14-492f-83c6-35abb84c1999": {
       "attrs": {
        "height": 0.8,
        "width": 0.8,
        "x": 0.1,
        "y": 0.1
       },
       "content": {
        "cell": "94b502f1-e9d8-4835-8141-6fe01a09122a",
        "part": "whole"
       },
       "id": "1f6247c4-9e14-492f-83c6-35abb84c1999"
      }
     }
    },
    "735f730b-60a1-4978-9b5b-11ccc559e4b8": {
     "id": "735f730b-60a1-4978-9b5b-11ccc559e4b8",
     "prev": "48a666d5-8f91-479c-a5ae-4ef2b9aa2b67",
     "regions": {
      "5d627d56-104d-4a6d-8b9d-7c8fd4172ac0": {
       "attrs": {
        "height": 0.8,
        "width": 0.8,
        "x": 0.1,
        "y": 0.1
       },
       "content": {
        "cell": "161bc0d0-8c9b-4e8a-9c39-a6f963a32419",
        "part": "whole"
       },
       "id": "5d627d56-104d-4a6d-8b9d-7c8fd4172ac0"
      }
     }
    },
    "78e419a8-649f-4890-b452-140289b71fbf": {
     "id": "78e419a8-649f-4890-b452-140289b71fbf",
     "prev": "e69a09ca-f50b-43d4-922b-ef3d2020589e",
     "regions": {
      "40225740-c369-4632-8730-fd349b7ea840": {
       "attrs": {
        "height": 0.8,
        "width": 0.8,
        "x": 0.1,
        "y": 0.1
       },
       "content": {
        "cell": "3eb59e20-b1e8-46f9-a7f3-0f22cdb7cc92",
        "part": "whole"
       },
       "id": "40225740-c369-4632-8730-fd349b7ea840"
      }
     }
    },
    "81175f2e-7645-4956-8329-02f9ebccfb3a": {
     "id": "81175f2e-7645-4956-8329-02f9ebccfb3a",
     "prev": "69e6db94-a4ba-43c7-8a5c-07f8206c18cb",
     "regions": {
      "ba28883f-1f99-4273-b2e0-0bc4f1503500": {
       "attrs": {
        "height": 0.8,
        "width": 0.8,
        "x": 0.1,
        "y": 0.1
       },
       "content": {
        "cell": "2d647227-1466-4d65-aba9-1d307792a69b",
        "part": "whole"
       },
       "id": "ba28883f-1f99-4273-b2e0-0bc4f1503500"
      }
     }
    },
    "817359b6-868d-472b-9fb8-a3ae73d7ea21": {
     "id": "817359b6-868d-472b-9fb8-a3ae73d7ea21",
     "prev": "00644ef6-096f-4d0f-9eb0-7721040c7084",
     "regions": {
      "6085041d-2f6a-420d-977b-9974dac64bba": {
       "attrs": {
        "height": 0.8,
        "width": 0.8,
        "x": 0.1,
        "y": 0.1
       },
       "content": {
        "cell": "c7bc9aa7-e8a2-4d1a-abc7-88d133c40254",
        "part": "whole"
       },
       "id": "6085041d-2f6a-420d-977b-9974dac64bba"
      }
     }
    },
    "85439d8a-903d-48d1-aca9-2d579acf797e": {
     "id": "85439d8a-903d-48d1-aca9-2d579acf797e",
     "prev": "aa644cbd-feaf-4b8c-90d8-64c2adee82dc",
     "regions": {
      "23c75bd3-1572-44fb-a665-079a013dfb33": {
       "attrs": {
        "height": 0.8,
        "width": 0.8,
        "x": 0.1,
        "y": 0.1
       },
       "content": {
        "cell": "ae78c7a5-e5d2-4b0e-b379-229db36069f4",
        "part": "whole"
       },
       "id": "23c75bd3-1572-44fb-a665-079a013dfb33"
      }
     }
    },
    "8797675f-d15f-4a69-88c0-7a2755bf4cbd": {
     "id": "8797675f-d15f-4a69-88c0-7a2755bf4cbd",
     "prev": "0a729302-5008-4182-ab0d-b9232d53b048",
     "regions": {
      "582e9706-551a-4be4-a269-72f6239bbde6": {
       "attrs": {
        "height": 0.8,
        "width": 0.8,
        "x": 0.1,
        "y": 0.1
       },
       "content": {
        "cell": "29db5a08-598d-490d-b6d6-0a20139ed819",
        "part": "whole"
       },
       "id": "582e9706-551a-4be4-a269-72f6239bbde6"
      }
     }
    },
    "8acb4382-a0fd-49cd-bc70-6da292f24ec0": {
     "id": "8acb4382-a0fd-49cd-bc70-6da292f24ec0",
     "prev": "6b7a3514-770f-4ba7-b6a2-f96dcaa6fc3d",
     "regions": {
      "ff2b5689-f894-4287-a85a-10a3696b6a30": {
       "attrs": {
        "height": 0.8,
        "width": 0.8,
        "x": 0.1,
        "y": 0.1
       },
       "content": {
        "cell": "d5bd47c9-bda3-44e0-9aa0-87f8b3d6026f",
        "part": "whole"
       },
       "id": "ff2b5689-f894-4287-a85a-10a3696b6a30"
      }
     }
    },
    "8d2bbc0e-9a2c-4dfd-bb7a-2ec0191cc63d": {
     "id": "8d2bbc0e-9a2c-4dfd-bb7a-2ec0191cc63d",
     "prev": "258e76b0-603d-4db1-93ba-b93414bacada",
     "regions": {
      "88b0cab2-7201-4915-9514-951957e4e95e": {
       "attrs": {
        "height": 0.8,
        "width": 0.8,
        "x": 0.1,
        "y": 0.1
       },
       "content": {
        "cell": "a0aa8e3e-d914-45e9-9a7b-acfa44bb3d6e",
        "part": "whole"
       },
       "id": "88b0cab2-7201-4915-9514-951957e4e95e"
      }
     }
    },
    "90615b9d-8322-4e75-9b31-197f903576ee": {
     "id": "90615b9d-8322-4e75-9b31-197f903576ee",
     "prev": "b069e325-d12b-4a28-a0d8-bad2e359aab5",
     "regions": {
      "6203f86e-e73f-4d0f-95f1-ff56cfce96b3": {
       "attrs": {
        "height": 0.8,
        "width": 0.8,
        "x": 0.1,
        "y": 0.1
       },
       "content": {
        "cell": "612dd207-2b8f-4035-ac79-aa2489940548",
        "part": "whole"
       },
       "id": "6203f86e-e73f-4d0f-95f1-ff56cfce96b3"
      }
     }
    },
    "911e783a-15ed-44fb-a8b9-6821338dc7ad": {
     "id": "911e783a-15ed-44fb-a8b9-6821338dc7ad",
     "prev": "1c76106b-281e-4f3d-acb7-f7a30238e464",
     "regions": {
      "bdb468ac-8487-4e13-aa6e-83df6abd4e68": {
       "attrs": {
        "height": 0.5640953054965795,
        "width": 0.8,
        "x": 0.1,
        "y": 0.33590469450342064
       },
       "content": {
        "cell": "a4dc76e8-0661-4322-bdca-7183df11404e",
        "part": "whole"
       },
       "id": "bdb468ac-8487-4e13-aa6e-83df6abd4e68"
      },
      "d61619e7-6b6d-4a7e-82a8-45a9de3f40d0": {
       "attrs": {
        "height": 0.199858457183298,
        "width": 0.8,
        "x": 0.1,
        "y": 0.1
       },
       "content": {
        "cell": "da3bd50e-e197-43ba-bde2-7a25b3ebdda2",
        "part": "whole"
       },
       "id": "d61619e7-6b6d-4a7e-82a8-45a9de3f40d0"
      }
     }
    },
    "9a1ca861-78ee-4117-87f6-e4e8c2ee264a": {
     "id": "9a1ca861-78ee-4117-87f6-e4e8c2ee264a",
     "prev": "8acb4382-a0fd-49cd-bc70-6da292f24ec0",
     "regions": {
      "4be33cc6-b681-4e55-ab03-fd022dda379a": {
       "attrs": {
        "height": 0.8,
        "width": 0.8,
        "x": 0.1,
        "y": 0.1
       },
       "content": {
        "cell": "f2baefee-22f0-4503-9c38-c2db18ed1ced",
        "part": "whole"
       },
       "id": "4be33cc6-b681-4e55-ab03-fd022dda379a"
      }
     }
    },
    "a0c9c066-c6af-44a1-890a-d39da53adc40": {
     "id": "a0c9c066-c6af-44a1-890a-d39da53adc40",
     "prev": "78e419a8-649f-4890-b452-140289b71fbf",
     "regions": {
      "b677502a-1c4a-4969-bb92-a97d2a7a028e": {
       "attrs": {
        "height": 0.8,
        "width": 0.8,
        "x": 0.1,
        "y": 0.1
       },
       "content": {
        "cell": "0aafc556-71f1-41e0-96aa-8123b9d9ec82",
        "part": "whole"
       },
       "id": "b677502a-1c4a-4969-bb92-a97d2a7a028e"
      }
     }
    },
    "a1cca76a-f283-40e1-89e2-20bb50b7790d": {
     "id": "a1cca76a-f283-40e1-89e2-20bb50b7790d",
     "prev": "64f9f9cf-40b6-4d33-8a1e-b3ab89019409",
     "regions": {
      "d94f8711-1248-4cc5-8460-c0ea22105eac": {
       "attrs": {
        "height": 0.8,
        "width": 0.8,
        "x": 0.1,
        "y": 0.1
       },
       "content": {
        "cell": "88b3a4a6-3a66-4506-ac2e-61657dde2b27",
        "part": "whole"
       },
       "id": "d94f8711-1248-4cc5-8460-c0ea22105eac"
      }
     }
    },
    "a227eb90-aff3-4955-95ed-fe79d0470928": {
     "id": "a227eb90-aff3-4955-95ed-fe79d0470928",
     "prev": "6ce6fb3c-26ef-4840-b4ea-bf6d1c1807fb",
     "regions": {
      "9e7a8355-fd80-4399-a439-b8b81625b748": {
       "attrs": {
        "height": 0.8,
        "width": 0.8,
        "x": 0.1,
        "y": 0.1
       },
       "content": {
        "cell": "5fe3621c-8061-4b35-99f0-b3ddac632c34",
        "part": "whole"
       },
       "id": "9e7a8355-fd80-4399-a439-b8b81625b748"
      }
     }
    },
    "a5bdf7ea-d6ec-4cba-adfc-741a5d656caf": {
     "id": "a5bdf7ea-d6ec-4cba-adfc-741a5d656caf",
     "prev": "a0c9c066-c6af-44a1-890a-d39da53adc40",
     "regions": {
      "8d1a8e5a-064b-432a-a5c7-9c48563fbb0b": {
       "attrs": {
        "height": 0.8,
        "width": 0.8,
        "x": 0.1,
        "y": 0.1
       },
       "content": {
        "cell": "3f4c77c2-63c3-4681-8d45-b1d5e872c5d5",
        "part": "whole"
       },
       "id": "8d1a8e5a-064b-432a-a5c7-9c48563fbb0b"
      }
     }
    },
    "a7e7f7c3-1378-44c7-8450-cf55bb471c63": {
     "id": "a7e7f7c3-1378-44c7-8450-cf55bb471c63",
     "prev": "f7436d48-c0bf-473a-91a3-6f9ac1d3c309",
     "regions": {
      "fd728330-2750-40f4-8a40-5ef8a5c481c8": {
       "attrs": {
        "height": 0.8,
        "width": 0.8,
        "x": 0.1,
        "y": 0.1
       },
       "content": {
        "cell": "1364d56b-3116-4059-b8c9-58cedcc23c8b",
        "part": "whole"
       },
       "id": "fd728330-2750-40f4-8a40-5ef8a5c481c8"
      }
     }
    },
    "aa644cbd-feaf-4b8c-90d8-64c2adee82dc": {
     "id": "aa644cbd-feaf-4b8c-90d8-64c2adee82dc",
     "prev": "81175f2e-7645-4956-8329-02f9ebccfb3a",
     "regions": {
      "53717a8f-715e-4742-a9af-404969bfcf7f": {
       "attrs": {
        "height": 0.8,
        "width": 0.8,
        "x": 0.1,
        "y": 0.1
       },
       "content": {
        "cell": "947ffa6b-e112-4dc3-8284-f2c45a3c98b9",
        "part": "whole"
       },
       "id": "53717a8f-715e-4742-a9af-404969bfcf7f"
      }
     }
    },
    "ac200bd8-fe41-4bbe-899c-04dd35251147": {
     "id": "ac200bd8-fe41-4bbe-899c-04dd35251147",
     "prev": "e049a57d-1444-4a73-9da9-e287c62debec",
     "regions": {
      "c4b46efc-3424-4ed4-828d-21b148d62d94": {
       "attrs": {
        "height": 0.8,
        "width": 0.8,
        "x": 0.1,
        "y": 0.1
       },
       "content": {
        "cell": "58f550b2-781c-447b-b082-84a3b9245648",
        "part": "whole"
       },
       "id": "c4b46efc-3424-4ed4-828d-21b148d62d94"
      }
     }
    },
    "b069e325-d12b-4a28-a0d8-bad2e359aab5": {
     "id": "b069e325-d12b-4a28-a0d8-bad2e359aab5",
     "prev": "57b9b10d-3460-433d-b046-ebacdb36f1c0",
     "regions": {
      "c5eeb349-f440-4e16-aec8-8ceba629b539": {
       "attrs": {
        "height": 0.8,
        "width": 0.8,
        "x": 0.1,
        "y": 0.1
       },
       "content": {
        "cell": "0d4e5ef9-69f7-4096-b8d0-f4fb7395bd8f",
        "part": "whole"
       },
       "id": "c5eeb349-f440-4e16-aec8-8ceba629b539"
      }
     }
    },
    "b4d2bfd0-7175-4716-84b9-03fa4e695c96": {
     "id": "b4d2bfd0-7175-4716-84b9-03fa4e695c96",
     "prev": "f03974ce-568b-4c17-8363-e669d32a6d3f",
     "regions": {
      "cc8d5ee9-7970-4f38-80a0-55f29ad3a82b": {
       "attrs": {
        "height": 0.8,
        "width": 0.8,
        "x": 0.1,
        "y": 0.1
       },
       "content": {
        "cell": "403f8e51-5ad3-4196-a7d1-9832588b14e9",
        "part": "whole"
       },
       "id": "cc8d5ee9-7970-4f38-80a0-55f29ad3a82b"
      }
     }
    },
    "b5c18df6-22da-4127-a4ef-942f9b39d44b": {
     "id": "b5c18df6-22da-4127-a4ef-942f9b39d44b",
     "prev": "33503def-16ca-4717-bfe2-f9ac0faaa2f2",
     "regions": {
      "5c7334b4-0b3b-4aac-abd9-f3c561e256f0": {
       "attrs": {
        "height": 0.8,
        "width": 0.8,
        "x": 0.1,
        "y": 0.1
       },
       "content": {
        "cell": "317da171-b524-4896-8a82-23ec0f8f8a28",
        "part": "whole"
       },
       "id": "5c7334b4-0b3b-4aac-abd9-f3c561e256f0"
      }
     }
    },
    "b65c347f-7fc1-40a6-acd9-78793a70d0aa": {
     "id": "b65c347f-7fc1-40a6-acd9-78793a70d0aa",
     "prev": "c5fa7a44-51a2-4119-84a3-15da1374f8c6",
     "regions": {
      "7fba6e65-199f-430f-94ae-f6bfda19f041": {
       "attrs": {
        "height": 0.8,
        "width": 0.8,
        "x": 0.1,
        "y": 0.1
       },
       "content": {
        "cell": "288e2316-d8bd-4764-8831-751e04e054d1",
        "part": "whole"
       },
       "id": "7fba6e65-199f-430f-94ae-f6bfda19f041"
      }
     }
    },
    "c1909ec3-bc05-405d-a520-5dc1e1453fda": {
     "id": "c1909ec3-bc05-405d-a520-5dc1e1453fda",
     "prev": "08434ef5-3b16-4078-91ab-1f9cfcddc163",
     "regions": {
      "7148a310-71fb-4a5a-bb5c-e686bd0e8d00": {
       "attrs": {
        "height": 0.6438678199157242,
        "width": 0.8,
        "x": 0.1,
        "y": 0.2561321800842759
       },
       "content": {
        "cell": "cb7bf198-dc1e-4ad6-bb44-e7f0aacbc787",
        "part": "whole"
       },
       "id": "7148a310-71fb-4a5a-bb5c-e686bd0e8d00"
      },
      "773c5dc5-29a4-46eb-8fd6-230431ab54b0": {
       "attrs": {
        "height": 0.13643823464182753,
        "width": 0.8,
        "x": 0.1,
        "y": 0.1
       },
       "content": {
        "cell": "fd461a24-cb61-44df-810f-28ac3f78d357",
        "part": "whole"
       },
       "id": "773c5dc5-29a4-46eb-8fd6-230431ab54b0"
      }
     }
    },
    "c5fa7a44-51a2-4119-84a3-15da1374f8c6": {
     "id": "c5fa7a44-51a2-4119-84a3-15da1374f8c6",
     "prev": "64442d74-89f8-4f51-b60f-0bcc3e234535",
     "regions": {
      "713d9550-0b8b-4472-9780-1c4111868120": {
       "attrs": {
        "height": 0.8,
        "width": 0.8,
        "x": 0.1,
        "y": 0.1
       },
       "content": {
        "cell": "a3b00296-3c6c-4dd3-a2b2-28f4b9366344",
        "part": "whole"
       },
       "id": "713d9550-0b8b-4472-9780-1c4111868120"
      }
     }
    },
    "c72ff6a9-7b48-478b-a363-7e160ca6346c": {
     "id": "c72ff6a9-7b48-478b-a363-7e160ca6346c",
     "prev": "29c62000-2d93-4a15-ae5a-7c4808d160db",
     "regions": {
      "696b5511-690a-4272-8b1b-675728518698": {
       "attrs": {
        "height": 0.8,
        "width": 0.8,
        "x": 0.1,
        "y": 0.1
       },
       "content": {
        "cell": "b454c52d-2459-43a6-854f-b8eab3d81913",
        "part": "whole"
       },
       "id": "696b5511-690a-4272-8b1b-675728518698"
      }
     }
    },
    "d62345c7-d3b8-43cc-af81-558aea973ce6": {
     "id": "d62345c7-d3b8-43cc-af81-558aea973ce6",
     "prev": "911e783a-15ed-44fb-a8b9-6821338dc7ad",
     "regions": {
      "2896a3df-bea0-43c5-a6cc-a0bdb4c20635": {
       "attrs": {
        "height": 0.8,
        "width": 0.8,
        "x": 0.1,
        "y": 0.1
       },
       "content": {
        "cell": "e6f29310-a1c3-4243-94d7-9ee5107df5f6",
        "part": "whole"
       },
       "id": "2896a3df-bea0-43c5-a6cc-a0bdb4c20635"
      }
     }
    },
    "d938337a-e280-4678-ac38-1bf0e05d5b0b": {
     "id": "d938337a-e280-4678-ac38-1bf0e05d5b0b",
     "prev": "9a1ca861-78ee-4117-87f6-e4e8c2ee264a",
     "regions": {
      "75a0e954-275c-46f7-8b4c-1bc14559cf35": {
       "attrs": {
        "height": 0.5551563539587492,
        "width": 0.8,
        "x": 0.1,
        "y": 0.34484364604125084
       },
       "content": {
        "cell": "1432409c-4ebe-4d39-ae66-8b504c1777e5",
        "part": "whole"
       },
       "id": "75a0e954-275c-46f7-8b4c-1bc14559cf35"
      },
      "c3695c2d-5f02-49c8-b325-c5d40f41ccb1": {
       "attrs": {
        "height": 0.21982701264138396,
        "width": 0.8,
        "x": 0.1,
        "y": 0.1
       },
       "content": {
        "cell": "1233edf0-1ea8-4c51-b68d-cac959029478",
        "part": "whole"
       },
       "id": "c3695c2d-5f02-49c8-b325-c5d40f41ccb1"
      }
     }
    },
    "db85a40c-72fa-42bd-bf0d-0e500aba194a": {
     "id": "db85a40c-72fa-42bd-bf0d-0e500aba194a",
     "prev": "4b51dce1-8519-4ce3-ac89-0d7b12826a7d",
     "regions": {
      "da92248b-c0e1-407b-b769-2b38c298b580": {
       "attrs": {
        "height": 0.8,
        "width": 0.8,
        "x": 0.1,
        "y": 0.1
       },
       "content": {
        "cell": "7feb008a-2fb7-4718-9339-917911b96d82",
        "part": "whole"
       },
       "id": "da92248b-c0e1-407b-b769-2b38c298b580"
      }
     }
    },
    "dee29b74-3ca9-4f81-a6a1-b79311ae65dc": {
     "id": "dee29b74-3ca9-4f81-a6a1-b79311ae65dc",
     "prev": "e700cb70-1342-422f-afb3-3ff26c5904bd",
     "regions": {
      "d2218d53-c796-4d5c-8451-12f682287977": {
       "attrs": {
        "height": 0.8,
        "width": 0.8,
        "x": 0.1,
        "y": 0.1
       },
       "content": {
        "cell": "f12b7d57-ebc3-4279-b863-dcd169dbff59",
        "part": "whole"
       },
       "id": "d2218d53-c796-4d5c-8451-12f682287977"
      }
     }
    },
    "e049a57d-1444-4a73-9da9-e287c62debec": {
     "id": "e049a57d-1444-4a73-9da9-e287c62debec",
     "prev": "56f8abf1-688e-45a6-8d57-cd85f7f50e7e",
     "regions": {
      "8d7b9a1c-d4a0-4d0a-ba51-24534af02206": {
       "attrs": {
        "height": 0.8,
        "width": 0.8,
        "x": 0.1,
        "y": 0.1
       },
       "content": {
        "cell": "ca61b03f-8426-429c-8d15-1d9cc195132a",
        "part": "whole"
       },
       "id": "8d7b9a1c-d4a0-4d0a-ba51-24534af02206"
      }
     }
    },
    "e69a09ca-f50b-43d4-922b-ef3d2020589e": {
     "id": "e69a09ca-f50b-43d4-922b-ef3d2020589e",
     "prev": null,
     "regions": {
      "01470e35-9c81-427f-9a8b-dd64c7211477": {
       "attrs": {
        "height": 0.8,
        "width": 0.8,
        "x": 0.1,
        "y": 0.1
       },
       "content": {
        "cell": "596bf461-8d34-4b50-a3b7-ca45c99fda03",
        "part": "whole"
       },
       "id": "01470e35-9c81-427f-9a8b-dd64c7211477"
      }
     }
    },
    "e700cb70-1342-422f-afb3-3ff26c5904bd": {
     "id": "e700cb70-1342-422f-afb3-3ff26c5904bd",
     "prev": "a1cca76a-f283-40e1-89e2-20bb50b7790d",
     "regions": {
      "23adfce4-d426-4a94-aaf9-50a0019e051f": {
       "attrs": {
        "height": 0.8,
        "width": 0.8,
        "x": 0.1,
        "y": 0.1
       },
       "content": {
        "cell": "360419b7-358d-4343-a3b5-e9b083a8b107",
        "part": "whole"
       },
       "id": "23adfce4-d426-4a94-aaf9-50a0019e051f"
      }
     }
    },
    "e7112eda-5ec3-4e47-ac20-d96d157af645": {
     "id": "e7112eda-5ec3-4e47-ac20-d96d157af645",
     "prev": "d62345c7-d3b8-43cc-af81-558aea973ce6",
     "regions": {
      "a6c41e2f-5680-49e5-b910-fadd878f4af0": {
       "attrs": {
        "height": 0.8,
        "width": 0.8,
        "x": 0.1,
        "y": 0.1
       },
       "content": {
        "cell": "d990af0a-54d4-477f-8d5b-6e3c578c3a94",
        "part": "whole"
       },
       "id": "a6c41e2f-5680-49e5-b910-fadd878f4af0"
      }
     }
    },
    "ebc0622c-2214-41dc-93f4-a3e052516b6a": {
     "id": "ebc0622c-2214-41dc-93f4-a3e052516b6a",
     "prev": "d938337a-e280-4678-ac38-1bf0e05d5b0b",
     "regions": {
      "a2b34e84-3b88-468a-9bf5-44dbf74eff6f": {
       "attrs": {
        "height": 0.8,
        "width": 0.8,
        "x": 0.1,
        "y": 0.1
       },
       "content": {
        "cell": "64816836-dde7-4b8b-aef4-d06dbf00a031",
        "part": "whole"
       },
       "id": "a2b34e84-3b88-468a-9bf5-44dbf74eff6f"
      }
     }
    },
    "f03974ce-568b-4c17-8363-e669d32a6d3f": {
     "id": "f03974ce-568b-4c17-8363-e669d32a6d3f",
     "prev": "16540475-14d6-40a6-a6a8-e5facd4fd492",
     "regions": {
      "2ecdddde-07fb-40f9-a684-bce335af05ba": {
       "attrs": {
        "height": 0.8,
        "width": 0.8,
        "x": 0.1,
        "y": 0.1
       },
       "content": {
        "cell": "d4801f0c-ba12-4f69-8fc3-089d335b1174",
        "part": "whole"
       },
       "id": "2ecdddde-07fb-40f9-a684-bce335af05ba"
      }
     }
    },
    "f7436d48-c0bf-473a-91a3-6f9ac1d3c309": {
     "id": "f7436d48-c0bf-473a-91a3-6f9ac1d3c309",
     "prev": "2e46d80b-9d9f-40b1-8bf8-1368f47a480e",
     "regions": {
      "660c43c5-ebba-4557-82d4-f36cf4849503": {
       "attrs": {
        "height": 0.8,
        "width": 0.8,
        "x": 0.1,
        "y": 0.1
       },
       "content": {
        "cell": "e584313d-fd47-4110-a57f-a894fe035f5b",
        "part": "whole"
       },
       "id": "660c43c5-ebba-4557-82d4-f36cf4849503"
      }
     }
    }
   },
   "themes": {
    "default": "b537d7cb-41b8-43dc-a7a4-6a9c08c066b5",
    "theme": {
     "b537d7cb-41b8-43dc-a7a4-6a9c08c066b5": {
      "id": "b537d7cb-41b8-43dc-a7a4-6a9c08c066b5",
      "palette": {
       "19cc588f-0593-49c9-9f4b-e4d7cc113b1c": {
        "id": "19cc588f-0593-49c9-9f4b-e4d7cc113b1c",
        "rgb": [
         252,
         252,
         252
        ]
       },
       "31af15d2-7e15-44c5-ab5e-e04b16a89eff": {
        "id": "31af15d2-7e15-44c5-ab5e-e04b16a89eff",
        "rgb": [
         68,
         68,
         68
        ]
       },
       "50f92c45-a630-455b-aec3-788680ec7410": {
        "id": "50f92c45-a630-455b-aec3-788680ec7410",
        "rgb": [
         155,
         177,
         192
        ]
       },
       "c5cc3653-2ee1-402a-aba2-7caae1da4f6c": {
        "id": "c5cc3653-2ee1-402a-aba2-7caae1da4f6c",
        "rgb": [
         43,
         126,
         184
        ]
       },
       "efa7f048-9acb-414c-8b04-a26811511a21": {
        "id": "efa7f048-9acb-414c-8b04-a26811511a21",
        "rgb": [
         25.118061674008803,
         73.60176211453744,
         107.4819383259912
        ]
       }
      },
      "rules": {
       "blockquote": {
        "color": "50f92c45-a630-455b-aec3-788680ec7410"
       },
       "code": {
        "font-family": "Anonymous Pro"
       },
       "h1": {
        "color": "c5cc3653-2ee1-402a-aba2-7caae1da4f6c",
        "font-family": "Lato",
        "font-size": 8
       },
       "h2": {
        "color": "c5cc3653-2ee1-402a-aba2-7caae1da4f6c",
        "font-family": "Lato",
        "font-size": 6
       },
       "h3": {
        "color": "50f92c45-a630-455b-aec3-788680ec7410",
        "font-family": "Lato",
        "font-size": 5.5
       },
       "h4": {
        "color": "c5cc3653-2ee1-402a-aba2-7caae1da4f6c",
        "font-family": "Lato",
        "font-size": 5
       },
       "h5": {
        "font-family": "Lato"
       },
       "h6": {
        "font-family": "Lato"
       },
       "h7": {
        "font-family": "Lato"
       },
       "pre": {
        "font-family": "Anonymous Pro",
        "font-size": 4
       }
      },
      "text-base": {
       "font-family": "Merriweather",
       "font-size": 4
      }
     }
    }
   }
  }
 },
 "nbformat": 4,
 "nbformat_minor": 1
}
