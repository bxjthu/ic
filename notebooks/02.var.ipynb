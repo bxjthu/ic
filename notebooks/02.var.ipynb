{
 "cells": [
  {
   "cell_type": "markdown",
   "metadata": {
    "nbpresent": {
     "id": "ecf9d20f-2800-4f87-b561-29432d0f65c1"
    }
   },
   "source": [
    "# 2. Variables, Expressions and Statements"
   ]
  },
  {
   "cell_type": "markdown",
   "metadata": {
    "collapsed": true,
    "nbpresent": {
     "id": "36b6f0ce-b227-436a-8626-34c897eac3a5"
    }
   },
   "source": [
    "## Values and Data Types\n",
    "\n",
    "A value (object) is one of the fundamental things — like a word or a number — that a program manipulates. \n",
    "\n",
    "Objects are classified into different classes, or data types."
   ]
  },
  {
   "cell_type": "code",
   "execution_count": null,
   "metadata": {
    "collapsed": false,
    "nbpresent": {
     "id": "ebe21312-02dc-4260-a861-4d0f4e33a106"
    }
   },
   "outputs": [],
   "source": [
    "print(type(\"Hello, World!\"))\n",
    "print(type(17))\n",
    "print(\"Hello, World!\")"
   ]
  },
  {
   "cell_type": "code",
   "execution_count": null,
   "metadata": {
    "collapsed": false,
    "nbpresent": {
     "id": "bab749cb-5930-44f8-9777-252d05cdbc60"
    }
   },
   "outputs": [],
   "source": [
    "print(type(3.2))"
   ]
  },
  {
   "cell_type": "code",
   "execution_count": null,
   "metadata": {
    "collapsed": false,
    "nbpresent": {
     "id": "e5018cf6-6307-4d90-a864-7a8ddb22672e"
    }
   },
   "outputs": [],
   "source": [
    "print(type(\"17\"))\n",
    "print(type(\"3.2\"))"
   ]
  },
  {
   "cell_type": "code",
   "execution_count": null,
   "metadata": {
    "collapsed": false,
    "nbpresent": {
     "id": "da89e960-adac-49a6-8ccc-f25419196b76"
    }
   },
   "outputs": [],
   "source": [
    "print(type('This is a string.') )\n",
    "print(type(\"And so is this.\") )\n",
    "print(type(\"\"\"and this.\"\"\") )\n",
    "print(type('''and even this...''') )"
   ]
  },
  {
   "cell_type": "markdown",
   "metadata": {
    "nbpresent": {
     "id": "cec53e37-6108-468f-8d0b-13426ba318fb"
    }
   },
   "source": [
    "* Double quoted strings can contain single quotes inside them.\n",
    "* Single quoted strings can have double quotes inside them. "
   ]
  },
  {
   "cell_type": "code",
   "execution_count": null,
   "metadata": {
    "collapsed": false,
    "nbpresent": {
     "id": "4a2d8fb6-2731-44e0-b609-00c7765e9898"
    }
   },
   "outputs": [],
   "source": [
    "print(\"Bruce's beard\")\n",
    "print('The knights who say \"Ni!\"')"
   ]
  },
  {
   "cell_type": "markdown",
   "metadata": {
    "nbpresent": {
     "id": "d8689721-9cb4-49a0-bf5f-752f63a7b68d"
    }
   },
   "source": [
    "Strings enclosed with three occurrences of either quote symbol are called triple quoted strings. \n",
    "\n",
    "They can contain either single or double quotes."
   ]
  },
  {
   "cell_type": "code",
   "execution_count": null,
   "metadata": {
    "collapsed": false,
    "nbpresent": {
     "id": "6faa0fd0-5f90-4379-ab9b-5c50966d359a"
    }
   },
   "outputs": [],
   "source": [
    "print('''\"Oh no, Ben's bike is broken!\"''')"
   ]
  },
  {
   "cell_type": "markdown",
   "metadata": {
    "nbpresent": {
     "id": "388ce351-94a2-4e43-ae11-c559c2b71ce9"
    }
   },
   "source": [
    "Triple quoted strings can even span multiple lines."
   ]
  },
  {
   "cell_type": "code",
   "execution_count": null,
   "metadata": {
    "collapsed": false,
    "nbpresent": {
     "id": "025d8ec3-0a7f-4be5-b3b9-adacd2364c88"
    }
   },
   "outputs": [],
   "source": [
    "print(\"\"\"This message will span\n",
    "several lines\n",
    "of the text.\"\"\")"
   ]
  },
  {
   "cell_type": "markdown",
   "metadata": {
    "nbpresent": {
     "id": "3fab2a9a-0a44-43c2-9bef-96987cc7207d"
    }
   },
   "source": [
    "For string, the surrounding quotes are not part of the value.\n"
   ]
  },
  {
   "cell_type": "code",
   "execution_count": null,
   "metadata": {
    "collapsed": false,
    "nbpresent": {
     "id": "ad143089-aabb-4d54-a09a-0c61c1b07b4e"
    }
   },
   "outputs": [],
   "source": [
    "print('Hi')\n",
    "print(\"Hi\")\n",
    "print('Hi' == \"Hi\")"
   ]
  },
  {
   "cell_type": "code",
   "execution_count": null,
   "metadata": {
    "collapsed": false,
    "nbpresent": {
     "id": "537b441f-ba65-404c-a220-78461ea27533"
    }
   },
   "outputs": [],
   "source": [
    "print(42000)\n",
    "print(42,000)"
   ]
  },
  {
   "cell_type": "code",
   "execution_count": null,
   "metadata": {
    "collapsed": false,
    "nbpresent": {
     "id": "6846b91e-a0a3-46fd-8da5-4a7c307a09e4"
    }
   },
   "outputs": [],
   "source": [
    "print(42, 17, 56, 34, 11, 4.35, 32)\n",
    "print(3.4, \"hello\", 45)"
   ]
  },
  {
   "cell_type": "markdown",
   "metadata": {
    "nbpresent": {
     "id": "30ba4fb4-9944-4d58-8b3d-3a3ae158371d"
    }
   },
   "source": [
    "** Exercise **\n",
    "\n",
    "```\n",
    "1. How can you determine the type of a variable?\n",
    "(A) Print out the value and determine the data type based on the value printed.\n",
    "(B) Use the type function.\n",
    "(C) Use it in a known equation and print the result.\n",
    "(D) Look at the declaration of the variable.\n",
    "```"
   ]
  },
  {
   "cell_type": "markdown",
   "metadata": {
    "nbpresent": {
     "id": "6d66d1e3-0b27-4c2b-82c0-ed08fb312b54"
    }
   },
   "source": [
    "```\n",
    "2. What is the data type of ‘this is what kind of data’?\n",
    "(A) Character\n",
    "(B) Integer\n",
    "(C) Float\n",
    "(D) String\n",
    "```"
   ]
  },
  {
   "cell_type": "markdown",
   "metadata": {
    "nbpresent": {
     "id": "db01c303-15e4-46e7-a57b-85a12a0b8508"
    }
   },
   "source": [
    "## Type conversion functions\n",
    "\n",
    "Python **type conversion** function: \n",
    "\n",
    "- int\n",
    "\n",
    "- float\n",
    "\n",
    "- str\n",
    "\n",
    "- bool"
   ]
  },
  {
   "cell_type": "code",
   "execution_count": null,
   "metadata": {
    "collapsed": false,
    "nbpresent": {
     "id": "0357e74e-0d51-41a0-bfc1-4d0fd16a5d53"
    }
   },
   "outputs": [],
   "source": [
    "print(3.14, int(3.14))\n",
    "print(3.9999, int(3.9999))  \n",
    "print(3.0, int(3.0))\n",
    "print(-3.999, int(-3.999))  \n",
    "print(\"2345\", int(\"2345\"))  \n",
    "print(17, int(17)) "
   ]
  },
  {
   "cell_type": "code",
   "execution_count": null,
   "metadata": {
    "collapsed": false,
    "nbpresent": {
     "id": "a6ddaaaa-c29c-4d9c-9dc9-e98e98792359"
    }
   },
   "outputs": [],
   "source": [
    "print(int(\"23bottles\"))"
   ]
  },
  {
   "cell_type": "code",
   "execution_count": null,
   "metadata": {
    "collapsed": false,
    "nbpresent": {
     "id": "a5207d7b-9c0e-463b-be86-a5efe909ece8"
    }
   },
   "outputs": [],
   "source": [
    "print(float(\"123.45\"))\n",
    "print(type(float(\"123.45\")))"
   ]
  },
  {
   "cell_type": "code",
   "execution_count": null,
   "metadata": {
    "collapsed": false,
    "nbpresent": {
     "id": "c0009b45-64c3-412a-85fa-f202f0be414c"
    }
   },
   "outputs": [],
   "source": [
    "print(str(17))\n",
    "print(str(123.45))\n",
    "print(type(str(123.45)))"
   ]
  },
  {
   "cell_type": "markdown",
   "metadata": {
    "nbpresent": {
     "id": "da11c235-52a3-473a-ac8e-c685ca4cb06d"
    }
   },
   "source": [
    "** Implicit conversion **\n",
    "\n",
    "Narrow to wide: \n",
    "\n",
    "bool ⇒ int ⇒ float\n",
    "\n",
    "`1.0/2`"
   ]
  },
  {
   "cell_type": "markdown",
   "metadata": {
    "nbpresent": {
     "id": "d332f46e-ec6c-483f-8b8e-7be034b02f74"
    }
   },
   "source": [
    "** Exercise **\n",
    "\n",
    "```\n",
    "What value is printed when the following statement executes?\n",
    "print( int(53.785) )\n",
    "(A) Nothing is printed. It generates a runtime error.\n",
    "(B) 53\n",
    "(C) 54\n",
    "(D) 53.785\n",
    "```"
   ]
  },
  {
   "cell_type": "markdown",
   "metadata": {
    "nbpresent": {
     "id": "b0da4076-6c75-4e19-83e9-239ef29f2294"
    }
   },
   "source": [
    "## Variables\n",
    "\n",
    "A variable is a **name** that refers to a **value**.\n",
    "\n",
    "Assignment statements **create new variables** and also give them values to refer to."
   ]
  },
  {
   "cell_type": "code",
   "execution_count": null,
   "metadata": {
    "collapsed": true,
    "nbpresent": {
     "id": "182eb7b2-5c85-45a2-bb8d-28a9eb676474"
    }
   },
   "outputs": [],
   "source": [
    "message = \"What's up, Doc?\"\n",
    "n = 17\n",
    "pi = 3.14159"
   ]
  },
  {
   "cell_type": "markdown",
   "metadata": {
    "nbpresent": {
     "id": "082a2d96-6c78-4a44-b04a-e29a36bef350"
    }
   },
   "source": [
    "The assignment statement links a **name, on the left hand side** of the operator(=), with a **value, on the right hand side**. "
   ]
  },
  {
   "cell_type": "code",
   "execution_count": null,
   "metadata": {
    "collapsed": false,
    "nbpresent": {
     "id": "f97b225c-30c2-4289-8075-2b493eff5076"
    }
   },
   "outputs": [],
   "source": [
    "message = \"What's up, Doc?\"\n",
    "n = 17\n",
    "pi = 3.14159\n",
    "\n",
    "print(message)\n",
    "print(n)\n",
    "print(pi)"
   ]
  },
  {
   "cell_type": "code",
   "execution_count": null,
   "metadata": {
    "collapsed": false,
    "nbpresent": {
     "id": "c0a3f628-4d8d-46d1-9040-c996db8ff3c1"
    }
   },
   "outputs": [],
   "source": [
    "message = \"What's up, Doc?\"\n",
    "n = 17\n",
    "pi = 3.14159\n",
    "\n",
    "print(type(message))\n",
    "print(type(n))\n",
    "print(type(pi))"
   ]
  },
  {
   "cell_type": "markdown",
   "metadata": {
    "nbpresent": {
     "id": "b44130be-7c91-40eb-80b7-a7df77f36e62"
    }
   },
   "source": [
    "Variables are variable. \n",
    "\n",
    "They can change over time\n",
    "\n",
    "You can assign a value to a variable, and later assign a different value to the same variable."
   ]
  },
  {
   "cell_type": "code",
   "execution_count": null,
   "metadata": {
    "collapsed": false,
    "nbpresent": {
     "id": "4327f148-01f3-4e7b-b36c-d47cfaa915ae"
    }
   },
   "outputs": [],
   "source": [
    "day = \"Thursday\"\n",
    "print(day)\n",
    "day = \"Friday\"\n",
    "print(day)\n",
    "day = 21\n",
    "print(day)"
   ]
  },
  {
   "cell_type": "markdown",
   "metadata": {
    "nbpresent": {
     "id": "06208085-ff9c-4c58-8eb6-9712df361486"
    }
   },
   "source": [
    "## Variable Names and Keywords\n",
    "\n",
    "Variable names can be arbitrarily long. \n",
    "\n",
    "They can contain both letters and digits, but they have to begin with a letter or an underscore. "
   ]
  },
  {
   "cell_type": "markdown",
   "metadata": {
    "nbpresent": {
     "id": "5b514f74-17bc-429c-8e2e-7b330ae06128"
    }
   },
   "source": [
    "** Exercise: which variable names is illegal?**\n",
    "\n",
    "```\n",
    "76trombones = \"big parade\"\n",
    "more$ = 1000000\n",
    "class = \"Computer Science 101\"\n",
    "```"
   ]
  },
  {
   "cell_type": "code",
   "execution_count": null,
   "metadata": {
    "collapsed": false,
    "nbpresent": {
     "id": "a57386e2-25bb-45e1-9c78-eb554240897b"
    }
   },
   "outputs": [],
   "source": [
    "76trombones = \"big parade\"\n",
    "more$ = 1000000\n",
    "class = \"Computer Science 101\""
   ]
  },
  {
   "cell_type": "markdown",
   "metadata": {
    "nbpresent": {
     "id": "13b14b10-4668-43fc-8697-013eb03a2c35"
    }
   },
   "source": [
    "## Python keywords\n",
    "\n",
    "**and as assert break class continue def del**\n",
    "\n",
    "**elif else\texcept exec finally for from**\n",
    "\n",
    "**global if\timport in is lambda\tnonlocal**\n",
    "\n",
    "**not or pass raise\treturn\ttry**\n",
    "\n",
    "**while\twith yield\tTrue False None**\t"
   ]
  },
  {
   "cell_type": "markdown",
   "metadata": {
    "nbpresent": {
     "id": "53525493-f32a-4830-8c71-4ecbf3788d6c"
    }
   },
   "source": [
    "Programmers generally choose names for their variables that are meaningful to the human readers of the program — they help the programmer document, or remember, what the variable is used for."
   ]
  },
  {
   "cell_type": "markdown",
   "metadata": {
    "nbpresent": {
     "id": "2d61fa0f-d276-4b97-9d78-ab024f1ae585"
    }
   },
   "source": [
    "**Exercise**\n",
    "```\n",
    "Is the following a legal variable name in Python? \n",
    "A_good_grade_is_A+\n",
    "(A) True\n",
    "(B) False\n",
    "```"
   ]
  },
  {
   "cell_type": "markdown",
   "metadata": {
    "nbpresent": {
     "id": "904e1437-0bba-4cdb-97f9-36721b03afdc"
    }
   },
   "source": [
    "## Statements and Expressions\n",
    "\n",
    "A statement is an instruction that the Python interpreter can execute. \n",
    "\n",
    "An expression is a combination of values, variables, operators, and calls to functions. \n",
    "\n",
    "Expressions need to be evaluated. "
   ]
  },
  {
   "cell_type": "code",
   "execution_count": null,
   "metadata": {
    "collapsed": false,
    "nbpresent": {
     "id": "802beabf-a4a3-4fd4-9db9-f9c80cbda859"
    }
   },
   "outputs": [],
   "source": [
    "print(1 + 1)\n",
    "print(len(\"hello\"))"
   ]
  },
  {
   "cell_type": "markdown",
   "metadata": {
    "nbpresent": {
     "id": "a662f42d-111e-4dc0-a714-2e0b0636e62c"
    }
   },
   "source": [
    "The evaluation of an expression produces a value"
   ]
  },
  {
   "cell_type": "code",
   "execution_count": null,
   "metadata": {
    "collapsed": false,
    "nbpresent": {
     "id": "aaffc065-5e0d-4a96-a323-cda69072a491"
    }
   },
   "outputs": [],
   "source": [
    "y = 3.14\n",
    "x = len(\"hello\")\n",
    "print(x)\n",
    "print(y)"
   ]
  },
  {
   "cell_type": "markdown",
   "metadata": {
    "nbpresent": {
     "id": "1ed4d04f-e2b2-416b-ac99-c3d8470d3f51"
    }
   },
   "source": [
    "Evaluate variable **y** in Python shell or **Notebook**"
   ]
  },
  {
   "cell_type": "code",
   "execution_count": null,
   "metadata": {
    "collapsed": false,
    "nbpresent": {
     "id": "28a1a3e6-6ccc-4162-b6d7-794b1d4bb5dd"
    }
   },
   "outputs": [],
   "source": [
    ">>> y = 3.14\n",
    ">>> x = len(\"hello\")\n",
    ">>> print(x)\n",
    "5\n",
    ">>> print(y)\n",
    "3.14\n",
    ">>> y\n",
    "3.14"
   ]
  },
  {
   "cell_type": "code",
   "execution_count": null,
   "metadata": {
    "collapsed": false,
    "nbpresent": {
     "id": "af782d18-504a-4853-81ca-8b54ed8b49e9"
    }
   },
   "outputs": [],
   "source": [
    "y"
   ]
  },
  {
   "cell_type": "markdown",
   "metadata": {
    "nbpresent": {
     "id": "ab4c71c2-0a02-4ae3-84e7-d9e9bfdced7c"
    }
   },
   "source": [
    "## Operators and Operands\n",
    "\n",
    "**Operators** are special tokens that represent computations like addition, multiplication and division. \n",
    "\n",
    "The values the operator works on are called **operands**."
   ]
  },
  {
   "cell_type": "markdown",
   "metadata": {
    "nbpresent": {
     "id": "bc8153e5-079b-496b-9110-8136024fc536"
    }
   },
   "source": [
    "** Type int**\n",
    "\n",
    "- Values: integers\n",
    "\n",
    "- Ops: `+, –, *, /, %, **`"
   ]
  },
  {
   "cell_type": "markdown",
   "metadata": {
    "nbpresent": {
     "id": "64f81528-becf-495e-9103-6df2990cc6f1"
    }
   },
   "source": [
    "** Type float**\n",
    "\n",
    "- Values: real numbers \n",
    "\n",
    "- Ops: `+, –, *, /, **`"
   ]
  },
  {
   "cell_type": "markdown",
   "metadata": {
    "nbpresent": {
     "id": "a8ae295a-2cbc-4d67-94aa-9135ec48b246"
    }
   },
   "source": [
    "** Type bool **\n",
    "\n",
    "- Values: **True** and **False**\n",
    "\n",
    "- Ops: `not, and, or`"
   ]
  },
  {
   "cell_type": "markdown",
   "metadata": {
    "nbpresent": {
     "id": "e6675f09-9a99-4d52-b0b5-990b452362c7"
    }
   },
   "source": [
    "** Type str**\n",
    "\n",
    "- Values: string literals \n",
    "    - Double quotes: \"abc\" \n",
    "    - Single quotes: 'abc'\n",
    "- Ops: `+ (concatenation)`"
   ]
  },
  {
   "cell_type": "markdown",
   "metadata": {
    "nbpresent": {
     "id": "0ea1b485-33fc-40de-ac01-a58e5262781a"
    }
   },
   "source": [
    "```python\n",
    "20 + 32\n",
    "hour - 1\n",
    "hour * 60 + minute\n",
    "minute / 60\n",
    "5 ** 2\n",
    "(5 + 9) * (15 - 7)\n",
    "```"
   ]
  },
  {
   "cell_type": "code",
   "execution_count": null,
   "metadata": {
    "collapsed": false,
    "nbpresent": {
     "id": "c64d0fac-cc87-4581-a958-8018d0257d8a"
    }
   },
   "outputs": [],
   "source": [
    "print(2 + 3)\n",
    "print(2 - 3)\n",
    "print(2 * 3)\n",
    "print(2 ** 3)\n",
    "print(3 ** 2)"
   ]
  },
  {
   "cell_type": "code",
   "execution_count": null,
   "metadata": {
    "collapsed": false,
    "nbpresent": {
     "id": "863b8ab1-20b8-462f-a2a8-fdb9d7dfd0ce"
    }
   },
   "outputs": [],
   "source": [
    "minutes = 645\n",
    "hours = minutes / 60\n",
    "print(hours)"
   ]
  },
  {
   "cell_type": "code",
   "execution_count": null,
   "metadata": {
    "collapsed": false,
    "nbpresent": {
     "id": "1010c270-e525-4f64-980b-6b68a1b63380"
    }
   },
   "outputs": [],
   "source": [
    "print(7 / 4)\n",
    "print(7 // 4)\n",
    "minutes = 645\n",
    "hours = minutes // 60\n",
    "print(hours)"
   ]
  },
  {
   "cell_type": "code",
   "execution_count": null,
   "metadata": {
    "collapsed": false,
    "nbpresent": {
     "id": "6f3b2788-8f8e-4938-8566-01eeff54cb79"
    }
   },
   "outputs": [],
   "source": [
    "quotient = 7 // 3     \n",
    "print(quotient)\n",
    "remainder = 7 % 3\n",
    "print(remainder)"
   ]
  },
  {
   "cell_type": "code",
   "execution_count": null,
   "metadata": {
    "collapsed": false,
    "nbpresent": {
     "id": "dcf794c0-d6c2-4bae-847a-d4aabc24ae2c"
    }
   },
   "outputs": [],
   "source": [
    "total_secs = 7684\n",
    "hours = total_secs // 3600\n",
    "secs_still_remaining = total_secs % 3600\n",
    "minutes =  secs_still_remaining // 60\n",
    "secs_finally_remaining = secs_still_remaining % 60\n",
    "print(\"Hrs=\", hours, \"mins=\", minutes, \"secs=\", secs_finally_remaining)"
   ]
  },
  {
   "cell_type": "markdown",
   "metadata": {
    "nbpresent": {
     "id": "bca88e6c-97ff-4fac-a160-c03a0beab51b"
    }
   },
   "source": [
    "** Exercise **\n",
    "\n",
    "`1. Evaluate the following expressions.`\n",
    "\n",
    "```python\n",
    "18 / 4\n",
    "18 // 4\n",
    "5 ** 2\n",
    "9 * 5\n",
    "5 % 2\n",
    "9 % 5\n",
    "6 % 6\n",
    "0 % 7\n",
    "```"
   ]
  },
  {
   "cell_type": "markdown",
   "metadata": {
    "nbpresent": {
     "id": "fd6de9c9-2f74-4f05-a2ca-7f223d257d28"
    }
   },
   "source": [
    "## Order of Operations\n",
    "\n",
    "Operations are performed in a set order\n",
    "\n",
    "- Parentheses make the order explicit\n",
    "\n",
    "- Python processes operators in fixed order in absence of parentheses"
   ]
  },
  {
   "cell_type": "code",
   "execution_count": null,
   "metadata": {
    "collapsed": false,
    "nbpresent": {
     "id": "20043f91-45e1-4e71-a645-c36f03269b82"
    }
   },
   "outputs": [],
   "source": [
    "2*1 + 3\n",
    "2*(1 + 3)"
   ]
  },
  {
   "cell_type": "markdown",
   "metadata": {
    "nbpresent": {
     "id": "04fbc45b-7c8f-4328-9459-f419f929e671"
    }
   },
   "source": [
    "** Precedence of Python Operators **\n",
    "\n",
    "- Exponentiation: `**`\n",
    "- Unary operators: `+ –`\n",
    "- Binary arithmetic: `* / // %`\n",
    "- Binary arithmetic: `+ –`\n",
    "- Comparisons: `< > <= >=`\n",
    "- Equality relations: `== !=`\n",
    "- Logical `not`\n",
    "- Logical `and`\n",
    "- Logical `or`"
   ]
  },
  {
   "cell_type": "code",
   "execution_count": null,
   "metadata": {
    "collapsed": true,
    "nbpresent": {
     "id": "be4eebd7-ac92-4b03-aac1-499213414731"
    }
   },
   "outputs": [],
   "source": [
    "print(2**1+1)\n",
    "print(3*1**3)\n",
    "print(2*3-1)\n",
    "print(6-3+2)\n",
    "print(6-(3+2))"
   ]
  },
  {
   "cell_type": "markdown",
   "metadata": {
    "nbpresent": {
     "id": "ef151945-8089-4c54-8f92-95e891763b64"
    }
   },
   "source": [
    "**Exercise**\n",
    "\n",
    "`1. Calculate` ${2^3}^2$"
   ]
  },
  {
   "cell_type": "code",
   "execution_count": null,
   "metadata": {
    "collapsed": true,
    "nbpresent": {
     "id": "ddb506a1-0d9b-4c49-9fc3-ce37cc09218b"
    }
   },
   "outputs": [],
   "source": [
    "print(2 ** 3 ** 2)\n",
    "print((2 ** 3) ** 2) "
   ]
  },
  {
   "cell_type": "markdown",
   "metadata": {
    "nbpresent": {
     "id": "0afe9abd-5c7d-4f3e-8683-a0cfbae55869"
    }
   },
   "source": [
    "`2. Evaluate the following expressions.`\n",
    "\n",
    "```python\n",
    "2*3\n",
    "2 ** 3\n",
    "5+2*5\n",
    "(5 + 2) * 5\n",
    "-4 - -4 - -4\n",
    "2 ** 2 ** 0\n",
    "(2 ** 2) ** 0\n",
    "```"
   ]
  },
  {
   "cell_type": "markdown",
   "metadata": {
    "nbpresent": {
     "id": "66d189c2-13b7-4bd3-8f25-1594091d2bee"
    }
   },
   "source": [
    "```python\n",
    "6/2\n",
    "6/4\n",
    "6.0 / 4\n",
    "6 / 4.0\n",
    "9.0 * 0.5\n",
    "9.0 ** 0.5\n",
    "6%2\n",
    "7%2\n",
    "6.2 % 4\n",
    "```"
   ]
  },
  {
   "cell_type": "markdown",
   "metadata": {
    "nbpresent": {
     "id": "c23adc8f-e5eb-470a-890b-b5ba2bdff992"
    }
   },
   "source": [
    "`3. Evaluate bool expressions.`\n",
    "\n",
    "```python\n",
    "3<5\n",
    "3 < 5 and 5 < 3\n",
    "True\n",
    "true\n",
    "True and False\n",
    "True or False\n",
    "not True\n",
    "```"
   ]
  },
  {
   "cell_type": "markdown",
   "metadata": {
    "nbpresent": {
     "id": "b521a453-a289-4dc9-96dd-df3f912cdb70"
    }
   },
   "source": [
    "```python\n",
    "not not False\n",
    "not False and True\n",
    "not (False or True)\n",
    "True and False and True\n",
    "True or (False and True)\n",
    "(5/0==1) and False\n",
    "False and (5/0==1)\n",
    "```"
   ]
  },
  {
   "cell_type": "markdown",
   "metadata": {
    "nbpresent": {
     "id": "8a31538c-f678-4515-942f-03624c2cc598"
    }
   },
   "source": [
    "## Reassignment\n",
    "\n",
    "It is legal to make more than one assignment to the same variable. \n",
    "\n",
    "A new assignment makes an existing variable refer to a new value (and stop referring to the old value)."
   ]
  },
  {
   "cell_type": "code",
   "execution_count": null,
   "metadata": {
    "collapsed": true,
    "nbpresent": {
     "id": "a5efb340-dafc-458b-bb1f-8eb734dea5da"
    }
   },
   "outputs": [],
   "source": [
    "a = 5\n",
    "b = a\n",
    "print(a, b)\n",
    "a = 3\n",
    "print(a, b)"
   ]
  },
  {
   "cell_type": "markdown",
   "metadata": {
    "nbpresent": {
     "id": "cb06fb86-c37f-4aee-b9dc-be690c349a43"
    }
   },
   "source": [
    "** Exercise **\n",
    "\n",
    "```\n",
    "After the following statements, x is ___ and y is ___?\n",
    "x = 15\n",
    "y = x\n",
    "x = 22\n",
    "```"
   ]
  },
  {
   "cell_type": "markdown",
   "metadata": {
    "nbpresent": {
     "id": "a882113a-fbfa-4267-a8dd-5aeb1f03c038"
    }
   },
   "source": [
    "## Updating Variables\n",
    "\n",
    "**update**: the new value of the variable depends on the old\n",
    "\n",
    "`x = x + 1`"
   ]
  },
  {
   "cell_type": "code",
   "execution_count": null,
   "metadata": {
    "collapsed": true,
    "nbpresent": {
     "id": "a563a1d0-1c0a-48c7-839c-0fae28307be3"
    }
   },
   "outputs": [],
   "source": [
    "x = 6        # initialize x\n",
    "print(x)\n",
    "x = x + 1    # update x\n",
    "print(x)"
   ]
  },
  {
   "cell_type": "markdown",
   "metadata": {
    "nbpresent": {
     "id": "3859b6fe-0fc9-4b10-9871-2345b932c6f9"
    }
   },
   "source": [
    "## Input\n",
    "\n",
    "Python uses a built-in function to accomplish data input: **input**"
   ]
  },
  {
   "cell_type": "code",
   "execution_count": null,
   "metadata": {
    "collapsed": false,
    "nbpresent": {
     "id": "ad2f0be2-9d84-4add-a8be-e6c53a426ae9"
    }
   },
   "outputs": [],
   "source": [
    "n = input(\"Please enter your name: \")\n",
    "print(\"Hello\", n)"
   ]
  },
  {
   "cell_type": "markdown",
   "metadata": {
    "nbpresent": {
     "id": "a7f58b36-1c4e-4583-8dee-8613eb747566"
    }
   },
   "source": [
    "<div class=\"panel panel-info\">\n",
    "    <div class=\"panel-heading\">Note </div>\n",
    "    <div class=\"panel-body\">It is very important to note that the input function returns a **string value**.</div>\n",
    "</div>"
   ]
  },
  {
   "cell_type": "code",
   "execution_count": null,
   "metadata": {
    "collapsed": false,
    "nbpresent": {
     "id": "5036fcab-01b1-4e50-b612-1b1239b6566b"
    }
   },
   "outputs": [],
   "source": [
    "str_seconds = input(\"Please enter the number of seconds you wish to convert\")\n",
    "total_secs = int(str_seconds)\n",
    "\n",
    "hours = total_secs // 3600\n",
    "secs_still_remaining = total_secs % 3600\n",
    "minutes =  secs_still_remaining // 60\n",
    "secs_finally_remaining = secs_still_remaining  % 60\n",
    "\n",
    "print(\"Hrs=\", hours, \"mins=\", minutes, \"secs=\", secs_finally_remaining)"
   ]
  },
  {
   "cell_type": "markdown",
   "metadata": {
    "nbpresent": {
     "id": "2d6a2b20-4165-48d4-891e-08cde8d4b84f"
    }
   },
   "source": [
    "** Exercise **\n",
    "```\n",
    "What is printed when the following statements execute?\n",
    "n = input(\"Please enter your age: \")\n",
    "# user types in 18\n",
    "print ( type(n) )\n",
    "(A) <class 'str'>\n",
    "(B) <class 'int'>\n",
    "(C) <class 18>\n",
    "(D) 18\n",
    "```"
   ]
  },
  {
   "cell_type": "markdown",
   "metadata": {
    "nbpresent": {
     "id": "3a77bfdd-f3c2-43f1-bd76-513393a4e8da"
    }
   },
   "source": [
    "## Operations on strings\n",
    "\n",
    "\n",
    "```\n",
    "+ : concatenation\n",
    "* : repetition\n",
    "```"
   ]
  },
  {
   "cell_type": "code",
   "execution_count": null,
   "metadata": {
    "collapsed": false,
    "nbpresent": {
     "id": "d6d9fe40-0c89-4bbd-a1a0-a4ea4ab78498"
    }
   },
   "outputs": [],
   "source": [
    "print(\"Hello\" + \"World\")\n",
    "print(\"Hello\"*3)"
   ]
  },
  {
   "cell_type": "markdown",
   "metadata": {
    "nbpresent": {
     "id": "fca29ff4-5ae3-45d3-9702-9f11c79e2000"
    }
   },
   "source": [
    "## Exercise"
   ]
  },
  {
   "cell_type": "markdown",
   "metadata": {
    "nbpresent": {
     "id": "70b5afe9-96e1-4807-8c28-958c9733cc19"
    }
   },
   "source": [
    "**1** Alarm clock problem\n",
    "\n",
    "You look at the clock and it is exactly 2pm. You set an alarm to go off in 51 hours. At what time does the alarm go off? "
   ]
  },
  {
   "cell_type": "markdown",
   "metadata": {
    "nbpresent": {
     "id": "46a4e4e4-2f27-433c-ae23-77f69157d41f"
    }
   },
   "source": [
    "**2** Alarm clock problem in general\n",
    "\n",
    "Write a Python program to solve the general version of the above problem. Ask the user for the time now (in hours), and ask for the number of hours to wait. Your program should output what the time will be on the clock when the alarm goes off.\n"
   ]
  },
  {
   "cell_type": "markdown",
   "metadata": {
    "nbpresent": {
     "id": "e1d8ecdc-1e6f-4121-b5ad-4f8de8c08491"
    }
   },
   "source": [
    "**3** Compound interest problem\n",
    "\n",
    "$ A = P\\left( 1 + \\frac{r}{n} \\right)^{nt} $\n",
    "\n",
    "where:\n",
    "```\n",
    "P is the original principal sum\n",
    "r is the nominal annual interest rate\n",
    "n is the compounding frequency\n",
    "t is the overall length of time in years.\n",
    "```"
   ]
  },
  {
   "cell_type": "code",
   "execution_count": null,
   "metadata": {
    "collapsed": true
   },
   "outputs": [],
   "source": []
  }
 ],
 "metadata": {
  "anaconda-cloud": {},
  "kernelspec": {
   "display_name": "Python [default]",
   "language": "python",
   "name": "python3"
  },
  "language_info": {
   "codemirror_mode": {
    "name": "ipython",
    "version": 3
   },
   "file_extension": ".py",
   "mimetype": "text/x-python",
   "name": "python",
   "nbconvert_exporter": "python",
   "pygments_lexer": "ipython3",
   "version": "3.5.2"
  },
  "nbpresent": {
   "slides": {
    "0156bf41-9d40-40a5-899f-cd67fb6fc070": {
     "id": "0156bf41-9d40-40a5-899f-cd67fb6fc070",
     "prev": null,
     "regions": {
      "d2c4ddae-030e-47c7-b984-5f59e254bc9a": {
       "attrs": {
        "height": 0.6302554169985678,
        "width": 0.8,
        "x": 0.1,
        "y": 0.26974458300143217
       },
       "content": {
        "cell": "ecf9d20f-2800-4f87-b561-29432d0f65c1",
        "part": "whole"
       },
       "id": "d2c4ddae-030e-47c7-b984-5f59e254bc9a"
      }
     }
    },
    "015d0f80-d750-4fe3-8a23-bb6bad198db2": {
     "id": "015d0f80-d750-4fe3-8a23-bb6bad198db2",
     "prev": "b487ed63-f62c-4b88-a423-2987f18b4909",
     "regions": {
      "04c466d7-7d93-46b3-b35c-8bba15481862": {
       "attrs": {
        "height": 0.8,
        "width": 0.8,
        "x": 0.1,
        "y": 0.1
       },
       "content": {
        "cell": "a5efb340-dafc-458b-bb1f-8eb734dea5da",
        "part": "whole"
       },
       "id": "04c466d7-7d93-46b3-b35c-8bba15481862"
      }
     }
    },
    "042be219-473a-46df-927a-39968ffd89b0": {
     "id": "042be219-473a-46df-927a-39968ffd89b0",
     "prev": "9f3706c1-cbe4-4322-b4f2-896553a08ef0",
     "regions": {
      "3e6f5595-9d6d-4898-989b-88d36eee1e31": {
       "attrs": {
        "height": 0.8,
        "width": 0.8,
        "x": 0.1,
        "y": 0.1
       },
       "content": {
        "cell": "a8ae295a-2cbc-4d67-94aa-9135ec48b246",
        "part": "whole"
       },
       "id": "3e6f5595-9d6d-4898-989b-88d36eee1e31"
      }
     }
    },
    "0c525a37-3133-4e47-bfd7-329460e11f4f": {
     "id": "0c525a37-3133-4e47-bfd7-329460e11f4f",
     "prev": "721dd8e0-faa5-4004-bb27-1b43a8133f55",
     "regions": {
      "202bed56-7b25-405a-a0bf-ed5f73fe5bf7": {
       "attrs": {
        "height": 0.8,
        "width": 0.8,
        "x": 0.1,
        "y": 0.1
       },
       "content": {
        "cell": "863b8ab1-20b8-462f-a2a8-fdb9d7dfd0ce",
        "part": "whole"
       },
       "id": "202bed56-7b25-405a-a0bf-ed5f73fe5bf7"
      }
     }
    },
    "0ea26bb7-2d65-485f-8346-b4911523d8df": {
     "id": "0ea26bb7-2d65-485f-8346-b4911523d8df",
     "prev": "1aa167d4-56f7-4b2a-9558-ba3d270d6d0f",
     "regions": {
      "f65803d4-3ebd-41ed-9dc0-13103e037db1": {
       "attrs": {
        "height": 0.8,
        "width": 0.8,
        "x": 0.1,
        "y": 0.1
       },
       "content": {
        "cell": "0ea1b485-33fc-40de-ac01-a58e5262781a",
        "part": "whole"
       },
       "id": "f65803d4-3ebd-41ed-9dc0-13103e037db1"
      }
     }
    },
    "106f5389-ed5d-40d1-b0d4-be1344e0fa0a": {
     "id": "106f5389-ed5d-40d1-b0d4-be1344e0fa0a",
     "prev": "f105841f-bdf9-4ee9-959a-9cea8775a3a0",
     "regions": {
      "c93c18a2-6a34-4c67-b25e-9a3325bec5c4": {
       "attrs": {
        "height": 0.8,
        "width": 0.8,
        "x": 0.1,
        "y": 0.1
       },
       "content": {
        "cell": "28a1a3e6-6ccc-4162-b6d7-794b1d4bb5dd",
        "part": "whole"
       },
       "id": "c93c18a2-6a34-4c67-b25e-9a3325bec5c4"
      }
     }
    },
    "14220704-a8a7-49e2-b4b7-85c8a8147cad": {
     "id": "14220704-a8a7-49e2-b4b7-85c8a8147cad",
     "prev": "fdb183a1-7498-4bf8-a5c6-05efac0114a5",
     "regions": {
      "77dfe903-abbd-465e-bd7a-4e3976fc14c4": {
       "attrs": {
        "height": 0.8,
        "width": 0.8,
        "x": 0.1,
        "y": 0.1
       },
       "content": {
        "cell": "c0009b45-64c3-412a-85fa-f202f0be414c",
        "part": "whole"
       },
       "id": "77dfe903-abbd-465e-bd7a-4e3976fc14c4"
      }
     }
    },
    "15b131a0-8a2f-4a30-866e-a9b0e6d92889": {
     "id": "15b131a0-8a2f-4a30-866e-a9b0e6d92889",
     "prev": "a131c1cd-bb44-4686-9b32-3bfb15b1c332",
     "regions": {
      "6bd486d2-a5cb-4472-aa0d-19c5746b39f7": {
       "attrs": {
        "height": 0.8,
        "width": 0.8,
        "x": 0.1,
        "y": 0.1
       },
       "content": {
        "cell": "a7f58b36-1c4e-4583-8dee-8613eb747566",
        "part": "whole"
       },
       "id": "6bd486d2-a5cb-4472-aa0d-19c5746b39f7"
      }
     }
    },
    "18ddd815-b836-4906-8bc2-f1055e9e9aa3": {
     "id": "18ddd815-b836-4906-8bc2-f1055e9e9aa3",
     "prev": "6d972b68-3c50-4c2e-8ae6-9c7352254a6e",
     "regions": {
      "337f7a51-5ef6-4266-94eb-e1402fdf1c1f": {
       "attrs": {
        "height": 0.8,
        "width": 0.8,
        "x": 0.1,
        "y": 0.1
       },
       "content": {
        "cell": "d6d9fe40-0c89-4bbd-a1a0-a4ea4ab78498",
        "part": "whole"
       },
       "id": "337f7a51-5ef6-4266-94eb-e1402fdf1c1f"
      }
     }
    },
    "1aa167d4-56f7-4b2a-9558-ba3d270d6d0f": {
     "id": "1aa167d4-56f7-4b2a-9558-ba3d270d6d0f",
     "prev": "042be219-473a-46df-927a-39968ffd89b0",
     "regions": {
      "c97b9be5-a465-4225-bbc0-8e25c8ed9d5f": {
       "attrs": {
        "height": 0.8,
        "width": 0.8,
        "x": 0.1,
        "y": 0.1
       },
       "content": {
        "cell": "e6675f09-9a99-4d52-b0b5-990b452362c7",
        "part": "whole"
       },
       "id": "c97b9be5-a465-4225-bbc0-8e25c8ed9d5f"
      }
     }
    },
    "1c657f77-fd99-4db9-aa71-f4a7685267be": {
     "id": "1c657f77-fd99-4db9-aa71-f4a7685267be",
     "prev": "a4193159-1352-4d80-b05d-2858560854fa",
     "regions": {
      "8e2c2b2c-55cc-4724-8a10-887be38e5e2c": {
       "attrs": {
        "height": 0.8,
        "width": 0.8,
        "x": 0.1,
        "y": 0.1
       },
       "content": {
        "cell": "fd6de9c9-2f74-4f05-a2ca-7f223d257d28",
        "part": "whole"
       },
       "id": "8e2c2b2c-55cc-4724-8a10-887be38e5e2c"
      }
     }
    },
    "1ff34e36-3791-47af-a0e8-3686212922da": {
     "id": "1ff34e36-3791-47af-a0e8-3686212922da",
     "prev": "2f307471-14cd-4828-9749-826b6eceb5d5",
     "regions": {
      "d3972099-aa5d-497e-b090-788d2cee79d0": {
       "attrs": {
        "height": 0.8,
        "width": 0.8,
        "x": 0.1,
        "y": 0.1
       },
       "content": {
        "cell": "c0a3f628-4d8d-46d1-9040-c996db8ff3c1",
        "part": "whole"
       },
       "id": "d3972099-aa5d-497e-b090-788d2cee79d0"
      }
     }
    },
    "21820eea-e205-43a0-9d77-bbfa687b712c": {
     "id": "21820eea-e205-43a0-9d77-bbfa687b712c",
     "prev": "bdb83040-fc03-4a15-b46b-40340db93727",
     "regions": {
      "c949a54d-55de-4ba8-ba18-293a592995fb": {
       "attrs": {
        "height": 0.8,
        "width": 0.8,
        "x": 0.1,
        "y": 0.1
       },
       "content": {
        "cell": "2d6a2b20-4165-48d4-891e-08cde8d4b84f",
        "part": "whole"
       },
       "id": "c949a54d-55de-4ba8-ba18-293a592995fb"
      }
     }
    },
    "230c8651-54ea-4920-aad5-88e5e350e8fa": {
     "id": "230c8651-54ea-4920-aad5-88e5e350e8fa",
     "prev": "d0e26eeb-b7df-485e-b7d8-2a67ba654d69",
     "regions": {
      "417a1bbe-5f28-467a-a836-397fea9269f7": {
       "attrs": {
        "height": 0.8,
        "width": 0.8,
        "x": 0.1,
        "y": 0.1
       },
       "content": {
        "cell": "ddb506a1-0d9b-4c49-9fc3-ce37cc09218b",
        "part": "whole"
       },
       "id": "417a1bbe-5f28-467a-a836-397fea9269f7"
      }
     }
    },
    "24e07aef-ad35-42a3-a99f-1ad4a0e68f33": {
     "id": "24e07aef-ad35-42a3-a99f-1ad4a0e68f33",
     "prev": "0156bf41-9d40-40a5-899f-cd67fb6fc070",
     "regions": {
      "d2c5d53e-a55f-474b-8f27-c711bd062e81": {
       "attrs": {
        "height": 0.8,
        "width": 0.8,
        "x": 0.1,
        "y": 0.1
       },
       "content": {
        "cell": "36b6f0ce-b227-436a-8626-34c897eac3a5",
        "part": "whole"
       },
       "id": "d2c5d53e-a55f-474b-8f27-c711bd062e81"
      }
     }
    },
    "284bc7fd-5e46-449d-9453-785f60f97ad1": {
     "id": "284bc7fd-5e46-449d-9453-785f60f97ad1",
     "prev": "14220704-a8a7-49e2-b4b7-85c8a8147cad",
     "regions": {
      "4120cdec-2a65-4c26-8c84-eca457df5338": {
       "attrs": {
        "height": 0.8,
        "width": 0.8,
        "x": 0.1,
        "y": 0.1
       },
       "content": {
        "cell": "da11c235-52a3-473a-ac8e-c685ca4cb06d",
        "part": "whole"
       },
       "id": "4120cdec-2a65-4c26-8c84-eca457df5338"
      }
     }
    },
    "2f307471-14cd-4828-9749-826b6eceb5d5": {
     "id": "2f307471-14cd-4828-9749-826b6eceb5d5",
     "prev": "59a26f08-2ab4-4f08-9e76-7960c72867d2",
     "regions": {
      "50d7471e-b4ca-4931-99fb-3f2fa5a67b06": {
       "attrs": {
        "height": 0.8,
        "width": 0.8,
        "x": 0.1,
        "y": 0.1
       },
       "content": {
        "cell": "f97b225c-30c2-4289-8075-2b493eff5076",
        "part": "whole"
       },
       "id": "50d7471e-b4ca-4931-99fb-3f2fa5a67b06"
      }
     }
    },
    "33a409af-afca-4076-9f71-c7165b07a799": {
     "id": "33a409af-afca-4076-9f71-c7165b07a799",
     "prev": "230c8651-54ea-4920-aad5-88e5e350e8fa",
     "regions": {
      "1a5be7f1-d744-424e-9d13-987fbe73e4b2": {
       "attrs": {
        "height": 0.8,
        "width": 0.8,
        "x": 0.1,
        "y": 0.1
       },
       "content": {
        "cell": "0afe9abd-5c7d-4f3e-8683-a0cfbae55869",
        "part": "whole"
       },
       "id": "1a5be7f1-d744-424e-9d13-987fbe73e4b2"
      }
     }
    },
    "3ac0ef61-7039-40af-872b-68660b046c8b": {
     "id": "3ac0ef61-7039-40af-872b-68660b046c8b",
     "prev": "1ff34e36-3791-47af-a0e8-3686212922da",
     "regions": {
      "c44633d8-5006-49b6-b140-0caf86fb3d2b": {
       "attrs": {
        "height": 0.8,
        "width": 0.8,
        "x": 0.1,
        "y": 0.1
       },
       "content": {
        "cell": "b44130be-7c91-40eb-80b7-a7df77f36e62",
        "part": "whole"
       },
       "id": "c44633d8-5006-49b6-b140-0caf86fb3d2b"
      }
     }
    },
    "40cab9cc-a9be-4de7-9a42-cc50bd54d5b0": {
     "id": "40cab9cc-a9be-4de7-9a42-cc50bd54d5b0",
     "prev": "8b433791-3b6f-48b5-ae4a-18c63739e979",
     "regions": {
      "8a6484a0-5f8a-41a6-bce0-840d6ae3e5c1": {
       "attrs": {
        "height": 0.8,
        "width": 0.8,
        "x": 0.1,
        "y": 0.1
       },
       "content": {
        "cell": "182eb7b2-5c85-45a2-bb8d-28a9eb676474",
        "part": "whole"
       },
       "id": "8a6484a0-5f8a-41a6-bce0-840d6ae3e5c1"
      }
     }
    },
    "426007bb-f4df-4b7f-afe2-9c3f71480398": {
     "id": "426007bb-f4df-4b7f-afe2-9c3f71480398",
     "prev": "9af3713f-1d3a-4078-9a62-667d230fc1dc",
     "regions": {
      "c2fb71c2-af49-4889-9680-79ce2ce162a2": {
       "attrs": {
        "height": 0.5648330256334325,
        "width": 0.8,
        "x": 0.1,
        "y": 0.3351669743665675
       },
       "content": {
        "cell": "ad143089-aabb-4d54-a09a-0c61c1b07b4e",
        "part": "whole"
       },
       "id": "c2fb71c2-af49-4889-9680-79ce2ce162a2"
      },
      "fb62842e-b6eb-493f-bf43-ec1ccf07b60c": {
       "attrs": {
        "height": 0.19528492305739775,
        "width": 0.8,
        "x": 0.1,
        "y": 0.1
       },
       "content": {
        "cell": "3fab2a9a-0a44-43c2-9bef-96987cc7207d",
        "part": "whole"
       },
       "id": "fb62842e-b6eb-493f-bf43-ec1ccf07b60c"
      }
     }
    },
    "486a6114-70e8-4b01-8b52-6bc1ab932685": {
     "id": "486a6114-70e8-4b01-8b52-6bc1ab932685",
     "prev": "857e7bcd-8cd1-4d48-a178-3334693b9e4f",
     "regions": {
      "0567aae5-6264-4485-9043-eaa9be6ea50e": {
       "attrs": {
        "height": 0.8,
        "width": 0.8,
        "x": 0.1,
        "y": 0.1
       },
       "content": {
        "cell": "70b5afe9-96e1-4807-8c28-958c9733cc19",
        "part": "whole"
       },
       "id": "0567aae5-6264-4485-9043-eaa9be6ea50e"
      }
     }
    },
    "4d0fb00e-8a01-4527-8773-c553b7907290": {
     "id": "4d0fb00e-8a01-4527-8773-c553b7907290",
     "prev": "6c4c1e64-e1ac-4039-b81a-8efe446ff602",
     "regions": {
      "b5affd3d-958e-4aff-870c-0f52af0afcca": {
       "attrs": {
        "height": 0.8,
        "width": 0.8,
        "x": 0.1,
        "y": 0.1
       },
       "content": {
        "cell": "2d61fa0f-d276-4b97-9d78-ab024f1ae585",
        "part": "whole"
       },
       "id": "b5affd3d-958e-4aff-870c-0f52af0afcca"
      }
     }
    },
    "53cfddf1-6bfb-46df-88c9-d2fce7674de5": {
     "id": "53cfddf1-6bfb-46df-88c9-d2fce7674de5",
     "prev": "54b8ca3c-a746-4314-bb43-53179fe96092",
     "regions": {
      "90ddd6c9-f7ca-49a1-8e85-8470a220ee1d": {
       "attrs": {
        "height": 0.8,
        "width": 0.8,
        "x": 0.1,
        "y": 0.1
       },
       "content": {
        "cell": "a57386e2-25bb-45e1-9c78-eb554240897b",
        "part": "whole"
       },
       "id": "90ddd6c9-f7ca-49a1-8e85-8470a220ee1d"
      }
     }
    },
    "54b8ca3c-a746-4314-bb43-53179fe96092": {
     "id": "54b8ca3c-a746-4314-bb43-53179fe96092",
     "prev": "bd19c079-ee8d-4991-81ec-8fe1a63bf395",
     "regions": {
      "02da32fd-2d54-4edb-8f13-22186148007d": {
       "attrs": {
        "height": 0.8,
        "width": 0.8,
        "x": 0.1,
        "y": 0.1
       },
       "content": {
        "cell": "5b514f74-17bc-429c-8e2e-7b330ae06128",
        "part": "whole"
       },
       "id": "02da32fd-2d54-4edb-8f13-22186148007d"
      }
     }
    },
    "5704682e-0500-4712-bc1d-72fe3606c797": {
     "id": "5704682e-0500-4712-bc1d-72fe3606c797",
     "prev": "746491e6-c13c-4bc7-a446-5caca0690758",
     "regions": {
      "282be9c9-f06b-4ed0-955c-3e2d6fb8cff1": {
       "attrs": {
        "height": 0.8,
        "width": 0.8,
        "x": 0.1,
        "y": 0.1
       },
       "content": {
        "cell": "bc8153e5-079b-496b-9110-8136024fc536",
        "part": "whole"
       },
       "id": "282be9c9-f06b-4ed0-955c-3e2d6fb8cff1"
      }
     }
    },
    "59a26f08-2ab4-4f08-9e76-7960c72867d2": {
     "id": "59a26f08-2ab4-4f08-9e76-7960c72867d2",
     "prev": "40cab9cc-a9be-4de7-9a42-cc50bd54d5b0",
     "regions": {
      "deef2c0f-f694-4e2a-b7ae-3b8520ca313f": {
       "attrs": {
        "height": 0.8,
        "width": 0.8,
        "x": 0.1,
        "y": 0.1
       },
       "content": {
        "cell": "082a2d96-6c78-4a44-b04a-e29a36bef350",
        "part": "whole"
       },
       "id": "deef2c0f-f694-4e2a-b7ae-3b8520ca313f"
      }
     }
    },
    "59c0f3a2-a8c1-41ba-892e-da60418630ec": {
     "id": "59c0f3a2-a8c1-41ba-892e-da60418630ec",
     "prev": "3ac0ef61-7039-40af-872b-68660b046c8b",
     "regions": {
      "9f252321-a98d-413d-a434-0f0b5b91973f": {
       "attrs": {
        "height": 0.8,
        "width": 0.8,
        "x": 0.1,
        "y": 0.1
       },
       "content": {
        "cell": "4327f148-01f3-4e7b-b36c-d47cfaa915ae",
        "part": "whole"
       },
       "id": "9f252321-a98d-413d-a434-0f0b5b91973f"
      }
     }
    },
    "5f20e40a-7b68-4cb9-956e-661214fa4d63": {
     "id": "5f20e40a-7b68-4cb9-956e-661214fa4d63",
     "prev": "1c657f77-fd99-4db9-aa71-f4a7685267be",
     "regions": {
      "d97a2ce5-16e4-479c-9837-f470a39335a9": {
       "attrs": {
        "height": 0.8,
        "width": 0.8,
        "x": 0.1,
        "y": 0.1
       },
       "content": {
        "cell": "20043f91-45e1-4e71-a645-c36f03269b82",
        "part": "whole"
       },
       "id": "d97a2ce5-16e4-479c-9837-f470a39335a9"
      }
     }
    },
    "6659f962-7db4-402d-9abd-e466c1aee047": {
     "id": "6659f962-7db4-402d-9abd-e466c1aee047",
     "prev": "53cfddf1-6bfb-46df-88c9-d2fce7674de5",
     "regions": {
      "f8b809ea-d36f-4592-abed-721db91c1274": {
       "attrs": {
        "height": 0.8,
        "width": 0.8,
        "x": 0.1,
        "y": 0.1
       },
       "content": {
        "cell": "13b14b10-4668-43fc-8697-013eb03a2c35",
        "part": "whole"
       },
       "id": "f8b809ea-d36f-4592-abed-721db91c1274"
      }
     }
    },
    "6bc8de98-71d3-4efa-b2bb-2fca63b16989": {
     "id": "6bc8de98-71d3-4efa-b2bb-2fca63b16989",
     "prev": "426007bb-f4df-4b7f-afe2-9c3f71480398",
     "regions": {
      "362a726e-bc59-480c-95a8-792507578489": {
       "attrs": {
        "height": 0.8,
        "width": 0.8,
        "x": 0.1,
        "y": 0.1
       },
       "content": {
        "cell": "537b441f-ba65-404c-a220-78461ea27533",
        "part": "whole"
       },
       "id": "362a726e-bc59-480c-95a8-792507578489"
      }
     }
    },
    "6c4c1e64-e1ac-4039-b81a-8efe446ff602": {
     "id": "6c4c1e64-e1ac-4039-b81a-8efe446ff602",
     "prev": "6659f962-7db4-402d-9abd-e466c1aee047",
     "regions": {
      "b4f9a41b-dd96-4634-aa13-7b4671c7856f": {
       "attrs": {
        "height": 0.8,
        "width": 0.8,
        "x": 0.1,
        "y": 0.1
       },
       "content": {
        "cell": "53525493-f32a-4830-8c71-4ecbf3788d6c",
        "part": "whole"
       },
       "id": "b4f9a41b-dd96-4634-aa13-7b4671c7856f"
      }
     }
    },
    "6cd25acf-43f6-4341-9d05-36999c174320": {
     "id": "6cd25acf-43f6-4341-9d05-36999c174320",
     "prev": "8e11bc45-705f-454a-a05f-085ab33ce554",
     "regions": {
      "7d2146de-13a8-4386-b037-30275a782cf8": {
       "attrs": {
        "height": 0.8,
        "width": 0.8,
        "x": 0.1,
        "y": 0.1
       },
       "content": {
        "cell": "aaffc065-5e0d-4a96-a323-cda69072a491",
        "part": "whole"
       },
       "id": "7d2146de-13a8-4386-b037-30275a782cf8"
      }
     }
    },
    "6d972b68-3c50-4c2e-8ae6-9c7352254a6e": {
     "id": "6d972b68-3c50-4c2e-8ae6-9c7352254a6e",
     "prev": "21820eea-e205-43a0-9d77-bbfa687b712c",
     "regions": {
      "1de8b872-9616-48ca-9963-c5ab4cda5970": {
       "attrs": {
        "height": 0.8,
        "width": 0.8,
        "x": 0.1,
        "y": 0.1
       },
       "content": {
        "cell": "3a77bfdd-f3c2-43f1-bd76-513393a4e8da",
        "part": "whole"
       },
       "id": "1de8b872-9616-48ca-9963-c5ab4cda5970"
      }
     }
    },
    "721dd8e0-faa5-4004-bb27-1b43a8133f55": {
     "id": "721dd8e0-faa5-4004-bb27-1b43a8133f55",
     "prev": "0ea26bb7-2d65-485f-8346-b4911523d8df",
     "regions": {
      "d3a9be24-a536-4587-83f0-8adb965b3e64": {
       "attrs": {
        "height": 0.8,
        "width": 0.8,
        "x": 0.1,
        "y": 0.1
       },
       "content": {
        "cell": "c64d0fac-cc87-4581-a958-8018d0257d8a",
        "part": "whole"
       },
       "id": "d3a9be24-a536-4587-83f0-8adb965b3e64"
      }
     }
    },
    "726cd28f-6d65-4e9e-99bc-b23cc5165af9": {
     "id": "726cd28f-6d65-4e9e-99bc-b23cc5165af9",
     "prev": "b0e92416-1a4c-43b3-bf25-6b7abe9dce50",
     "regions": {
      "829948ba-67c4-4a4d-9366-f51beca91c00": {
       "attrs": {
        "height": 0.3425566353127842,
        "width": 0.8,
        "x": 0.10258172467528308,
        "y": 0.08623074337035298
       },
       "content": {
        "cell": "bab749cb-5930-44f8-9777-252d05cdbc60",
        "part": "whole"
       },
       "id": "829948ba-67c4-4a4d-9366-f51beca91c00"
      },
      "e1a265ae-7584-46a8-866f-67c9d152ae29": {
       "attrs": {
        "height": 0.44200085669969025,
        "width": 0.8,
        "x": 0.1,
        "y": 0.4579991433003099
       },
       "content": {
        "cell": "e5018cf6-6307-4d90-a864-7a8ddb22672e",
        "part": "whole"
       },
       "id": "e1a265ae-7584-46a8-866f-67c9d152ae29"
      }
     }
    },
    "746491e6-c13c-4bc7-a446-5caca0690758": {
     "id": "746491e6-c13c-4bc7-a446-5caca0690758",
     "prev": "faa6ebd4-7278-4685-8be2-25256367bf72",
     "regions": {
      "ea60b11e-1559-43b9-8600-cea5605a8bda": {
       "attrs": {
        "height": 0.8,
        "width": 0.8,
        "x": 0.1,
        "y": 0.1
       },
       "content": {
        "cell": "ab4c71c2-0a02-4ae3-84e7-d9e9bfdced7c",
        "part": "whole"
       },
       "id": "ea60b11e-1559-43b9-8600-cea5605a8bda"
      }
     }
    },
    "76c57bd8-1152-41a3-9365-c3cedfe1e415": {
     "id": "76c57bd8-1152-41a3-9365-c3cedfe1e415",
     "prev": "33a409af-afca-4076-9f71-c7165b07a799",
     "regions": {
      "4e27aeb0-35b8-41dc-ad5d-3f5c1015209e": {
       "attrs": {
        "height": 0.8,
        "width": 0.8,
        "x": 0.1,
        "y": 0.1
       },
       "content": {
        "cell": "66d189c2-13b7-4bd3-8f25-1594091d2bee",
        "part": "whole"
       },
       "id": "4e27aeb0-35b8-41dc-ad5d-3f5c1015209e"
      }
     }
    },
    "776bfe9e-6088-4db5-9d0e-7385e5d10bbc": {
     "id": "776bfe9e-6088-4db5-9d0e-7385e5d10bbc",
     "prev": "88a83d88-ef76-4c84-a6e7-e5300a12081b",
     "regions": {
      "a2d53066-b3c1-44e8-a1ca-2283a6efe623": {
       "attrs": {
        "height": 0.8,
        "width": 0.8,
        "x": 0.1,
        "y": 0.1
       },
       "content": {
        "cell": "30ba4fb4-9944-4d58-8b3d-3a3ae158371d",
        "part": "whole"
       },
       "id": "a2d53066-b3c1-44e8-a1ca-2283a6efe623"
      }
     }
    },
    "798616f0-e997-47b0-94d8-2e329201f8a5": {
     "id": "798616f0-e997-47b0-94d8-2e329201f8a5",
     "prev": "87977f9f-954a-4568-bf38-95bbea9c7df2",
     "regions": {
      "a3ddb05f-df4b-4d32-95cd-d0c0c64b401e": {
       "attrs": {
        "height": 0.43917768611067287,
        "width": 0.8,
        "x": 0.1,
        "y": 0.4608223138893271
       },
       "content": {
        "cell": "4a2d8fb6-2731-44e0-b609-00c7765e9898",
        "part": "whole"
       },
       "id": "a3ddb05f-df4b-4d32-95cd-d0c0c64b401e"
      },
      "f28745c0-784e-4ad7-af1f-539df82b322e": {
       "attrs": {
        "height": 0.3280311232771741,
        "width": 0.8,
        "x": 0.1,
        "y": 0.1
       },
       "content": {
        "cell": "cec53e37-6108-468f-8d0b-13426ba318fb",
        "part": "whole"
       },
       "id": "f28745c0-784e-4ad7-af1f-539df82b322e"
      }
     }
    },
    "80a0325b-2196-460d-9835-480e828358e6": {
     "id": "80a0325b-2196-460d-9835-480e828358e6",
     "prev": "db0de6c6-b010-42b3-83fe-1410f4dc07ed",
     "regions": {
      "db0c73b7-055c-430d-acae-4ef18838bdbf": {
       "attrs": {
        "height": 0.8,
        "width": 0.8,
        "x": 0.1,
        "y": 0.1
       },
       "content": {
        "cell": "a882113a-fbfa-4267-a8dd-5aeb1f03c038",
        "part": "whole"
       },
       "id": "db0c73b7-055c-430d-acae-4ef18838bdbf"
      }
     }
    },
    "84674130-2245-417c-8c4b-2962d5369cbc": {
     "id": "84674130-2245-417c-8c4b-2962d5369cbc",
     "prev": "a2c4c212-581c-4f84-afa7-9b318edbb7c5",
     "regions": {
      "71064b38-19f2-4de8-98ba-29b7488294c5": {
       "attrs": {
        "height": 0.8,
        "width": 0.8,
        "x": 0.1,
        "y": 0.1
       },
       "content": {
        "cell": "b521a453-a289-4dc9-96dd-df3f912cdb70",
        "part": "whole"
       },
       "id": "71064b38-19f2-4de8-98ba-29b7488294c5"
      }
     }
    },
    "857e7bcd-8cd1-4d48-a178-3334693b9e4f": {
     "id": "857e7bcd-8cd1-4d48-a178-3334693b9e4f",
     "prev": "18ddd815-b836-4906-8bc2-f1055e9e9aa3",
     "regions": {
      "f8bc5b5f-5b07-46f7-a0a4-c325a35011e0": {
       "attrs": {
        "height": 0.8,
        "width": 0.8,
        "x": 0.1,
        "y": 0.1
       },
       "content": {
        "cell": "fca29ff4-5ae3-45d3-9702-9f11c79e2000",
        "part": "whole"
       },
       "id": "f8bc5b5f-5b07-46f7-a0a4-c325a35011e0"
      }
     }
    },
    "87977f9f-954a-4568-bf38-95bbea9c7df2": {
     "id": "87977f9f-954a-4568-bf38-95bbea9c7df2",
     "prev": "726cd28f-6d65-4e9e-99bc-b23cc5165af9",
     "regions": {
      "91aa7511-0265-429b-be6c-7bb8b86a75db": {
       "attrs": {
        "height": 0.8,
        "width": 0.8,
        "x": 0.1,
        "y": 0.1
       },
       "content": {
        "cell": "da89e960-adac-49a6-8ccc-f25419196b76",
        "part": "whole"
       },
       "id": "91aa7511-0265-429b-be6c-7bb8b86a75db"
      }
     }
    },
    "88417c85-0292-4f58-9136-045f0d70dd68": {
     "id": "88417c85-0292-4f58-9136-045f0d70dd68",
     "prev": "798616f0-e997-47b0-94d8-2e329201f8a5",
     "regions": {
      "4df0f0c1-6c3f-447b-8a48-9271dc6d6f96": {
       "attrs": {
        "height": 0.22888020510976456,
        "width": 0.8,
        "x": 0.1,
        "y": 0.1
       },
       "content": {
        "cell": "d8689721-9cb4-49a0-bf5f-752f63a7b68d",
        "part": "whole"
       },
       "id": "4df0f0c1-6c3f-447b-8a48-9271dc6d6f96"
      },
      "a1b87c15-acb9-45bc-b6d1-791161df348f": {
       "attrs": {
        "height": 0.4675835249555285,
        "width": 0.8,
        "x": 0.1,
        "y": 0.4324164750444714
       },
       "content": {
        "cell": "6faa0fd0-5f90-4379-ab9b-5c50966d359a",
        "part": "whole"
       },
       "id": "a1b87c15-acb9-45bc-b6d1-791161df348f"
      }
     }
    },
    "88a83d88-ef76-4c84-a6e7-e5300a12081b": {
     "id": "88a83d88-ef76-4c84-a6e7-e5300a12081b",
     "prev": "6bc8de98-71d3-4efa-b2bb-2fca63b16989",
     "regions": {
      "0bac41f3-c1a9-4379-8f77-1331f6e140d8": {
       "attrs": {
        "height": 0.8,
        "width": 0.8,
        "x": 0.1,
        "y": 0.1
       },
       "content": {
        "cell": "6846b91e-a0a3-46fd-8da5-4a7c307a09e4",
        "part": "whole"
       },
       "id": "0bac41f3-c1a9-4379-8f77-1331f6e140d8"
      }
     }
    },
    "8b433791-3b6f-48b5-ae4a-18c63739e979": {
     "id": "8b433791-3b6f-48b5-ae4a-18c63739e979",
     "prev": "cd59f3fb-0386-4db5-928f-9270d31a93b1",
     "regions": {
      "36a95b9d-19d7-4113-80bc-03ebb120a841": {
       "attrs": {
        "height": 0.8,
        "width": 0.8,
        "x": 0.1,
        "y": 0.1
       },
       "content": {
        "cell": "b0da4076-6c75-4e19-83e9-239ef29f2294",
        "part": "whole"
       },
       "id": "36a95b9d-19d7-4113-80bc-03ebb120a841"
      }
     }
    },
    "8e11bc45-705f-454a-a05f-085ab33ce554": {
     "id": "8e11bc45-705f-454a-a05f-085ab33ce554",
     "prev": "9d646b0b-ec2f-4abc-b216-b5e39ff0566d",
     "regions": {
      "f77eaaa3-2b4d-481a-aa8e-484a397419fa": {
       "attrs": {
        "height": 0.8,
        "width": 0.8,
        "x": 0.1,
        "y": 0.1
       },
       "content": {
        "cell": "a662f42d-111e-4dc0-a714-2e0b0636e62c",
        "part": "whole"
       },
       "id": "f77eaaa3-2b4d-481a-aa8e-484a397419fa"
      }
     }
    },
    "99caa2c4-4ce4-41a9-806c-6ae31dad7e94": {
     "id": "99caa2c4-4ce4-41a9-806c-6ae31dad7e94",
     "prev": "c7b924ba-7cda-4f01-ac73-507591b73d87",
     "regions": {
      "f26899a5-ed5f-4835-89f0-ccd00a46cd71": {
       "attrs": {
        "height": 0.8,
        "width": 0.8,
        "x": 0.1,
        "y": 0.1
       },
       "content": {
        "cell": "be4eebd7-ac92-4b03-aac1-499213414731",
        "part": "whole"
       },
       "id": "f26899a5-ed5f-4835-89f0-ccd00a46cd71"
      }
     }
    },
    "9af3713f-1d3a-4078-9a62-667d230fc1dc": {
     "id": "9af3713f-1d3a-4078-9a62-667d230fc1dc",
     "prev": "88417c85-0292-4f58-9136-045f0d70dd68",
     "regions": {
      "7cbec688-6eb4-4319-a8b8-b196aa5d5e9f": {
       "attrs": {
        "height": 0.16876233196342397,
        "width": 0.8,
        "x": 0.1,
        "y": 0.1
       },
       "content": {
        "cell": "388ce351-94a2-4e43-ae11-c559c2b71ce9",
        "part": "whole"
       },
       "id": "7cbec688-6eb4-4319-a8b8-b196aa5d5e9f"
      },
      "f26e1e17-d764-446c-9912-b4c9e61cdf56": {
       "attrs": {
        "height": 0.5648330256334325,
        "width": 0.8,
        "x": 0.1,
        "y": 0.3351669743665675
       },
       "content": {
        "cell": "025d8ec3-0a7f-4be5-b3b9-adacd2364c88",
        "part": "whole"
       },
       "id": "f26e1e17-d764-446c-9912-b4c9e61cdf56"
      }
     }
    },
    "9d646b0b-ec2f-4abc-b216-b5e39ff0566d": {
     "id": "9d646b0b-ec2f-4abc-b216-b5e39ff0566d",
     "prev": "b0e099e0-b63b-4d77-8ada-d41cf540a396",
     "regions": {
      "3ac30f5b-48f9-42a8-97c3-6ba2401838ff": {
       "attrs": {
        "height": 0.8,
        "width": 0.8,
        "x": 0.1,
        "y": 0.1
       },
       "content": {
        "cell": "802beabf-a4a3-4fd4-9db9-f9c80cbda859",
        "part": "whole"
       },
       "id": "3ac30f5b-48f9-42a8-97c3-6ba2401838ff"
      }
     }
    },
    "9f3706c1-cbe4-4322-b4f2-896553a08ef0": {
     "id": "9f3706c1-cbe4-4322-b4f2-896553a08ef0",
     "prev": "5704682e-0500-4712-bc1d-72fe3606c797",
     "regions": {
      "6ea6ec13-de19-4b71-b494-7f95393dc20e": {
       "attrs": {
        "height": 0.8,
        "width": 0.8,
        "x": 0.1,
        "y": 0.1
       },
       "content": {
        "cell": "64f81528-becf-495e-9103-6df2990cc6f1",
        "part": "whole"
       },
       "id": "6ea6ec13-de19-4b71-b494-7f95393dc20e"
      }
     }
    },
    "a131c1cd-bb44-4686-9b32-3bfb15b1c332": {
     "id": "a131c1cd-bb44-4686-9b32-3bfb15b1c332",
     "prev": "e0c09938-56c5-49fd-ae84-1a81ed90c92c",
     "regions": {
      "397a6e00-8208-487b-990a-dad0007545eb": {
       "attrs": {
        "height": 0.8,
        "width": 0.8,
        "x": 0.1,
        "y": 0.1
       },
       "content": {
        "cell": "ad2f0be2-9d84-4add-a8be-e6c53a426ae9",
        "part": "whole"
       },
       "id": "397a6e00-8208-487b-990a-dad0007545eb"
      }
     }
    },
    "a2c4c212-581c-4f84-afa7-9b318edbb7c5": {
     "id": "a2c4c212-581c-4f84-afa7-9b318edbb7c5",
     "prev": "76c57bd8-1152-41a3-9365-c3cedfe1e415",
     "regions": {
      "aae4c8f7-8f62-41d3-8551-e824362fbf9a": {
       "attrs": {
        "height": 0.8,
        "width": 0.8,
        "x": 0.1,
        "y": 0.1
       },
       "content": {
        "cell": "c23adc8f-e5eb-470a-890b-b5ba2bdff992",
        "part": "whole"
       },
       "id": "aae4c8f7-8f62-41d3-8551-e824362fbf9a"
      }
     }
    },
    "a4193159-1352-4d80-b05d-2858560854fa": {
     "id": "a4193159-1352-4d80-b05d-2858560854fa",
     "prev": "dcc5454a-02dd-47aa-a4e3-6f350d5b5678",
     "regions": {
      "0acf5a4f-79ad-4d84-86f1-bd12fcfee0e3": {
       "attrs": {
        "height": 0.8,
        "width": 0.8,
        "x": 0.1,
        "y": 0.1
       },
       "content": {
        "cell": "bca88e6c-97ff-4fac-a160-c03a0beab51b",
        "part": "whole"
       },
       "id": "0acf5a4f-79ad-4d84-86f1-bd12fcfee0e3"
      }
     }
    },
    "aaaf5a59-4541-4753-b7b0-3a7526733b56": {
     "id": "aaaf5a59-4541-4753-b7b0-3a7526733b56",
     "prev": "776bfe9e-6088-4db5-9d0e-7385e5d10bbc",
     "regions": {
      "2b022827-86ef-4790-be89-4deef3050230": {
       "attrs": {
        "height": 0.8,
        "width": 0.8,
        "x": 0.1,
        "y": 0.1
       },
       "content": {
        "cell": "6d66d1e3-0b27-4c2b-82c0-ed08fb312b54",
        "part": "whole"
       },
       "id": "2b022827-86ef-4790-be89-4deef3050230"
      }
     }
    },
    "ac1690ae-12ef-47e8-bd14-935c0f280b1f": {
     "id": "ac1690ae-12ef-47e8-bd14-935c0f280b1f",
     "prev": "cf73ceaa-c104-45b7-9511-9dcdd27af54d",
     "regions": {
      "f4dc3acd-6e66-446a-a26d-92f89ad43bd6": {
       "attrs": {
        "height": 0.8,
        "width": 0.8,
        "x": 0.1,
        "y": 0.1
       },
       "content": {
        "cell": "6f3b2788-8f8e-4938-8566-01eeff54cb79",
        "part": "whole"
       },
       "id": "f4dc3acd-6e66-446a-a26d-92f89ad43bd6"
      }
     }
    },
    "b0e099e0-b63b-4d77-8ada-d41cf540a396": {
     "id": "b0e099e0-b63b-4d77-8ada-d41cf540a396",
     "prev": "4d0fb00e-8a01-4527-8773-c553b7907290",
     "regions": {
      "a3f7e0af-871c-42a4-abf6-6e63924baa2a": {
       "attrs": {
        "height": 0.8,
        "width": 0.8,
        "x": 0.1,
        "y": 0.1
       },
       "content": {
        "cell": "904e1437-0bba-4cdb-97f9-36721b03afdc",
        "part": "whole"
       },
       "id": "a3f7e0af-871c-42a4-abf6-6e63924baa2a"
      }
     }
    },
    "b0e92416-1a4c-43b3-bf25-6b7abe9dce50": {
     "id": "b0e92416-1a4c-43b3-bf25-6b7abe9dce50",
     "prev": "24e07aef-ad35-42a3-a99f-1ad4a0e68f33",
     "regions": {
      "433c3522-68cd-422f-9203-f6250f59be6d": {
       "attrs": {
        "height": 0.8,
        "width": 0.8,
        "x": 0.1,
        "y": 0.1
       },
       "content": {
        "cell": "ebe21312-02dc-4260-a861-4d0f4e33a106",
        "part": "whole"
       },
       "id": "433c3522-68cd-422f-9203-f6250f59be6d"
      }
     }
    },
    "b487ed63-f62c-4b88-a423-2987f18b4909": {
     "id": "b487ed63-f62c-4b88-a423-2987f18b4909",
     "prev": "84674130-2245-417c-8c4b-2962d5369cbc",
     "regions": {
      "cffe27c0-f66d-496e-917e-d633045b3c9c": {
       "attrs": {
        "height": 0.8,
        "width": 0.8,
        "x": 0.1,
        "y": 0.1
       },
       "content": {
        "cell": "8a31538c-f678-4515-942f-03624c2cc598",
        "part": "whole"
       },
       "id": "cffe27c0-f66d-496e-917e-d633045b3c9c"
      }
     }
    },
    "b5a22644-99cc-4f37-aed4-b41179798e65": {
     "id": "b5a22644-99cc-4f37-aed4-b41179798e65",
     "prev": "80a0325b-2196-460d-9835-480e828358e6",
     "regions": {
      "56ee04ff-12f0-4fc5-af34-c316a5be7ba6": {
       "attrs": {
        "height": 0.8,
        "width": 0.8,
        "x": 0.1,
        "y": 0.1
       },
       "content": {
        "cell": "a563a1d0-1c0a-48c7-839c-0fae28307be3",
        "part": "whole"
       },
       "id": "56ee04ff-12f0-4fc5-af34-c316a5be7ba6"
      }
     }
    },
    "bd19c079-ee8d-4991-81ec-8fe1a63bf395": {
     "id": "bd19c079-ee8d-4991-81ec-8fe1a63bf395",
     "prev": "59c0f3a2-a8c1-41ba-892e-da60418630ec",
     "regions": {
      "1ce8f390-f16b-498a-867a-2794187c0e9f": {
       "attrs": {
        "height": 0.8,
        "width": 0.8,
        "x": 0.1,
        "y": 0.1
       },
       "content": {
        "cell": "06208085-ff9c-4c58-8eb6-9712df361486",
        "part": "whole"
       },
       "id": "1ce8f390-f16b-498a-867a-2794187c0e9f"
      }
     }
    },
    "bdb83040-fc03-4a15-b46b-40340db93727": {
     "id": "bdb83040-fc03-4a15-b46b-40340db93727",
     "prev": "15b131a0-8a2f-4a30-866e-a9b0e6d92889",
     "regions": {
      "811a1dc7-9d69-4f59-8525-ca5a94d9e287": {
       "attrs": {
        "height": 0.8,
        "width": 0.8,
        "x": 0.1,
        "y": 0.1
       },
       "content": {
        "cell": "5036fcab-01b1-4e50-b612-1b1239b6566b",
        "part": "whole"
       },
       "id": "811a1dc7-9d69-4f59-8525-ca5a94d9e287"
      }
     }
    },
    "c7b924ba-7cda-4f01-ac73-507591b73d87": {
     "id": "c7b924ba-7cda-4f01-ac73-507591b73d87",
     "prev": "5f20e40a-7b68-4cb9-956e-661214fa4d63",
     "regions": {
      "a0a8773a-0b5c-4ca5-8b35-ca376a3ec92a": {
       "attrs": {
        "height": 0.8,
        "width": 0.8,
        "x": 0.1,
        "y": 0.1
       },
       "content": {
        "cell": "04fbc45b-7c8f-4328-9459-f419f929e671",
        "part": "whole"
       },
       "id": "a0a8773a-0b5c-4ca5-8b35-ca376a3ec92a"
      }
     }
    },
    "cd59f3fb-0386-4db5-928f-9270d31a93b1": {
     "id": "cd59f3fb-0386-4db5-928f-9270d31a93b1",
     "prev": "284bc7fd-5e46-449d-9453-785f60f97ad1",
     "regions": {
      "947c627c-5b73-47d1-aa4f-47cf33af7cc9": {
       "attrs": {
        "height": 0.8,
        "width": 0.8,
        "x": 0.1,
        "y": 0.1
       },
       "content": {
        "cell": "d332f46e-ec6c-483f-8b8e-7be034b02f74",
        "part": "whole"
       },
       "id": "947c627c-5b73-47d1-aa4f-47cf33af7cc9"
      }
     }
    },
    "cf73ceaa-c104-45b7-9511-9dcdd27af54d": {
     "id": "cf73ceaa-c104-45b7-9511-9dcdd27af54d",
     "prev": "0c525a37-3133-4e47-bfd7-329460e11f4f",
     "regions": {
      "77309ef5-ad3d-4b37-9bcd-3df815eb35d3": {
       "attrs": {
        "height": 0.8,
        "width": 0.8,
        "x": 0.1,
        "y": 0.1
       },
       "content": {
        "cell": "1010c270-e525-4f64-980b-6b68a1b63380",
        "part": "whole"
       },
       "id": "77309ef5-ad3d-4b37-9bcd-3df815eb35d3"
      }
     }
    },
    "d0e26eeb-b7df-485e-b7d8-2a67ba654d69": {
     "id": "d0e26eeb-b7df-485e-b7d8-2a67ba654d69",
     "prev": "99caa2c4-4ce4-41a9-806c-6ae31dad7e94",
     "regions": {
      "a29af074-8141-4ac9-8c0a-a59644df132b": {
       "attrs": {
        "height": 0.8,
        "width": 0.8,
        "x": 0.1,
        "y": 0.1
       },
       "content": {
        "cell": "ef151945-8089-4c54-8f92-95e891763b64",
        "part": "whole"
       },
       "id": "a29af074-8141-4ac9-8c0a-a59644df132b"
      }
     }
    },
    "da3c5255-1d0e-46a2-8b24-1e4e7df89382": {
     "id": "da3c5255-1d0e-46a2-8b24-1e4e7df89382",
     "prev": "f5ff0a12-aed2-4941-96e0-5ccce3025cb7",
     "regions": {
      "1da101db-4584-47b9-b9da-fb611d1bd2ca": {
       "attrs": {
        "height": 0.8,
        "width": 0.8,
        "x": 0.1,
        "y": 0.1
       },
       "content": {
        "cell": "e1d8ecdc-1e6f-4121-b5ad-4f8de8c08491",
        "part": "whole"
       },
       "id": "1da101db-4584-47b9-b9da-fb611d1bd2ca"
      }
     }
    },
    "db0de6c6-b010-42b3-83fe-1410f4dc07ed": {
     "id": "db0de6c6-b010-42b3-83fe-1410f4dc07ed",
     "prev": "015d0f80-d750-4fe3-8a23-bb6bad198db2",
     "regions": {
      "9dfbcc01-bafe-43c7-ba37-ac2ae0b1f2ba": {
       "attrs": {
        "height": 0.8,
        "width": 0.8,
        "x": 0.1,
        "y": 0.1
       },
       "content": {
        "cell": "cb06fb86-c37f-4aee-b9dc-be690c349a43",
        "part": "whole"
       },
       "id": "9dfbcc01-bafe-43c7-ba37-ac2ae0b1f2ba"
      }
     }
    },
    "dcc5454a-02dd-47aa-a4e3-6f350d5b5678": {
     "id": "dcc5454a-02dd-47aa-a4e3-6f350d5b5678",
     "prev": "ac1690ae-12ef-47e8-bd14-935c0f280b1f",
     "regions": {
      "63e6fbce-5ce4-4057-aa09-0a40c7ee68eb": {
       "attrs": {
        "height": 0.8,
        "width": 0.8,
        "x": 0.1,
        "y": 0.1
       },
       "content": {
        "cell": "dcf794c0-d6c2-4bae-847a-d4aabc24ae2c",
        "part": "whole"
       },
       "id": "63e6fbce-5ce4-4057-aa09-0a40c7ee68eb"
      }
     }
    },
    "e0c09938-56c5-49fd-ae84-1a81ed90c92c": {
     "id": "e0c09938-56c5-49fd-ae84-1a81ed90c92c",
     "prev": "b5a22644-99cc-4f37-aed4-b41179798e65",
     "regions": {
      "2d7d42f6-d00f-4797-93ad-e3a6abd709ec": {
       "attrs": {
        "height": 0.8,
        "width": 0.8,
        "x": 0.1,
        "y": 0.1
       },
       "content": {
        "cell": "3859b6fe-0fc9-4b10-9871-2345b932c6f9",
        "part": "whole"
       },
       "id": "2d7d42f6-d00f-4797-93ad-e3a6abd709ec"
      }
     }
    },
    "ecd266e9-9f5a-40cb-bc2f-c4a1527c1a5c": {
     "id": "ecd266e9-9f5a-40cb-bc2f-c4a1527c1a5c",
     "prev": "aaaf5a59-4541-4753-b7b0-3a7526733b56",
     "regions": {
      "89fbdfef-1d99-4563-acc1-efb4f61a2318": {
       "attrs": {
        "height": 0.8,
        "width": 0.8,
        "x": 0.1,
        "y": 0.1
       },
       "content": {
        "cell": "db01c303-15e4-46e7-a57b-85a12a0b8508",
        "part": "whole"
       },
       "id": "89fbdfef-1d99-4563-acc1-efb4f61a2318"
      }
     }
    },
    "f105841f-bdf9-4ee9-959a-9cea8775a3a0": {
     "id": "f105841f-bdf9-4ee9-959a-9cea8775a3a0",
     "prev": "6cd25acf-43f6-4341-9d05-36999c174320",
     "regions": {
      "6f127f43-ca52-4442-8032-357380fd4dee": {
       "attrs": {
        "height": 0.8,
        "width": 0.8,
        "x": 0.1,
        "y": 0.1
       },
       "content": {
        "cell": "1ed4d04f-e2b2-416b-ac99-c3d8470d3f51",
        "part": "whole"
       },
       "id": "6f127f43-ca52-4442-8032-357380fd4dee"
      }
     }
    },
    "f48bd5a8-5d98-46a2-aba3-3c453b2f8c8f": {
     "id": "f48bd5a8-5d98-46a2-aba3-3c453b2f8c8f",
     "prev": "ecd266e9-9f5a-40cb-bc2f-c4a1527c1a5c",
     "regions": {
      "b181fc3b-d476-485b-ab5a-ea55bf23abdd": {
       "attrs": {
        "height": 0.8,
        "width": 0.8,
        "x": 0.1,
        "y": 0.1
       },
       "content": {
        "cell": "0357e74e-0d51-41a0-bfc1-4d0fd16a5d53",
        "part": "whole"
       },
       "id": "b181fc3b-d476-485b-ab5a-ea55bf23abdd"
      }
     }
    },
    "f5ff0a12-aed2-4941-96e0-5ccce3025cb7": {
     "id": "f5ff0a12-aed2-4941-96e0-5ccce3025cb7",
     "prev": "486a6114-70e8-4b01-8b52-6bc1ab932685",
     "regions": {
      "cfc3434a-8a46-4848-9756-ab6e66f25769": {
       "attrs": {
        "height": 0.8,
        "width": 0.8,
        "x": 0.1,
        "y": 0.1
       },
       "content": {
        "cell": "46a4e4e4-2f27-433c-ae23-77f69157d41f",
        "part": "whole"
       },
       "id": "cfc3434a-8a46-4848-9756-ab6e66f25769"
      }
     }
    },
    "f76dbfa8-9e11-4853-9baf-ad35b3a223c4": {
     "id": "f76dbfa8-9e11-4853-9baf-ad35b3a223c4",
     "prev": "f48bd5a8-5d98-46a2-aba3-3c453b2f8c8f",
     "regions": {
      "a3322ca6-4c8c-4763-ad41-b9f561f277b2": {
       "attrs": {
        "height": 0.8,
        "width": 0.8,
        "x": 0.1,
        "y": 0.1
       },
       "content": {
        "cell": "a6ddaaaa-c29c-4d9c-9dc9-e98e98792359",
        "part": "whole"
       },
       "id": "a3322ca6-4c8c-4763-ad41-b9f561f277b2"
      }
     }
    },
    "faa6ebd4-7278-4685-8be2-25256367bf72": {
     "id": "faa6ebd4-7278-4685-8be2-25256367bf72",
     "prev": "106f5389-ed5d-40d1-b0d4-be1344e0fa0a",
     "regions": {
      "49b283db-2475-489a-8982-75b6f6318db1": {
       "attrs": {
        "height": 0.8,
        "width": 0.8,
        "x": 0.1,
        "y": 0.1
       },
       "content": {
        "cell": "af782d18-504a-4853-81ca-8b54ed8b49e9",
        "part": "whole"
       },
       "id": "49b283db-2475-489a-8982-75b6f6318db1"
      }
     }
    },
    "fdb183a1-7498-4bf8-a5c6-05efac0114a5": {
     "id": "fdb183a1-7498-4bf8-a5c6-05efac0114a5",
     "prev": "f76dbfa8-9e11-4853-9baf-ad35b3a223c4",
     "regions": {
      "a8a0e9dd-ed5d-4a71-a0b2-7e8bf16dcf36": {
       "attrs": {
        "height": 0.8,
        "width": 0.8,
        "x": 0.1,
        "y": 0.1
       },
       "content": {
        "cell": "a5207d7b-9c0e-463b-be86-a5efe909ece8",
        "part": "whole"
       },
       "id": "a8a0e9dd-ed5d-4a71-a0b2-7e8bf16dcf36"
      }
     }
    }
   },
   "themes": {
    "default": "8d6ffa35-30a6-4ac8-a0f8-80cab70482b4",
    "theme": {
     "8d6ffa35-30a6-4ac8-a0f8-80cab70482b4": {
      "id": "8d6ffa35-30a6-4ac8-a0f8-80cab70482b4",
      "palette": {
       "19cc588f-0593-49c9-9f4b-e4d7cc113b1c": {
        "id": "19cc588f-0593-49c9-9f4b-e4d7cc113b1c",
        "rgb": [
         252,
         252,
         252
        ]
       },
       "31af15d2-7e15-44c5-ab5e-e04b16a89eff": {
        "id": "31af15d2-7e15-44c5-ab5e-e04b16a89eff",
        "rgb": [
         68,
         68,
         68
        ]
       },
       "50f92c45-a630-455b-aec3-788680ec7410": {
        "id": "50f92c45-a630-455b-aec3-788680ec7410",
        "rgb": [
         155,
         177,
         192
        ]
       },
       "c5cc3653-2ee1-402a-aba2-7caae1da4f6c": {
        "id": "c5cc3653-2ee1-402a-aba2-7caae1da4f6c",
        "rgb": [
         43,
         126,
         184
        ]
       },
       "efa7f048-9acb-414c-8b04-a26811511a21": {
        "id": "efa7f048-9acb-414c-8b04-a26811511a21",
        "rgb": [
         25.118061674008803,
         73.60176211453744,
         107.4819383259912
        ]
       }
      },
      "rules": {
       "blockquote": {
        "color": "50f92c45-a630-455b-aec3-788680ec7410"
       },
       "code": {
        "font-family": "Anonymous Pro"
       },
       "h1": {
        "color": "c5cc3653-2ee1-402a-aba2-7caae1da4f6c",
        "font-family": "Lato",
        "font-size": 8
       },
       "h2": {
        "color": "c5cc3653-2ee1-402a-aba2-7caae1da4f6c",
        "font-family": "Lato",
        "font-size": 6
       },
       "h3": {
        "color": "50f92c45-a630-455b-aec3-788680ec7410",
        "font-family": "Lato",
        "font-size": 5.5
       },
       "h4": {
        "color": "c5cc3653-2ee1-402a-aba2-7caae1da4f6c",
        "font-family": "Lato",
        "font-size": 5
       },
       "h5": {
        "font-family": "Lato"
       },
       "h6": {
        "font-family": "Lato"
       },
       "h7": {
        "font-family": "Lato"
       },
       "pre": {
        "font-family": "Anonymous Pro",
        "font-size": 4
       }
      },
      "text-base": {
       "font-family": "Merriweather",
       "font-size": 4
      }
     },
     "d7d0e39e-6a50-4a4f-93fd-cc6aeafb8a19": {
      "backgrounds": {
       "dc7afa04-bf90-40b1-82a5-726e3cff5267": {
        "background-color": "31af15d2-7e15-44c5-ab5e-e04b16a89eff",
        "id": "dc7afa04-bf90-40b1-82a5-726e3cff5267"
       }
      },
      "id": "d7d0e39e-6a50-4a4f-93fd-cc6aeafb8a19",
      "palette": {
       "19cc588f-0593-49c9-9f4b-e4d7cc113b1c": {
        "id": "19cc588f-0593-49c9-9f4b-e4d7cc113b1c",
        "rgb": [
         252,
         252,
         252
        ]
       },
       "31af15d2-7e15-44c5-ab5e-e04b16a89eff": {
        "id": "31af15d2-7e15-44c5-ab5e-e04b16a89eff",
        "rgb": [
         68,
         68,
         68
        ]
       },
       "50f92c45-a630-455b-aec3-788680ec7410": {
        "id": "50f92c45-a630-455b-aec3-788680ec7410",
        "rgb": [
         197,
         226,
         245
        ]
       },
       "c5cc3653-2ee1-402a-aba2-7caae1da4f6c": {
        "id": "c5cc3653-2ee1-402a-aba2-7caae1da4f6c",
        "rgb": [
         43,
         126,
         184
        ]
       },
       "efa7f048-9acb-414c-8b04-a26811511a21": {
        "id": "efa7f048-9acb-414c-8b04-a26811511a21",
        "rgb": [
         25.118061674008803,
         73.60176211453744,
         107.4819383259912
        ]
       }
      },
      "rules": {
       "a": {
        "color": "19cc588f-0593-49c9-9f4b-e4d7cc113b1c"
       },
       "blockquote": {
        "color": "50f92c45-a630-455b-aec3-788680ec7410",
        "font-size": 3
       },
       "code": {
        "font-family": "Anonymous Pro"
       },
       "h1": {
        "color": "19cc588f-0593-49c9-9f4b-e4d7cc113b1c",
        "font-family": "Merriweather",
        "font-size": 8
       },
       "h2": {
        "color": "19cc588f-0593-49c9-9f4b-e4d7cc113b1c",
        "font-family": "Merriweather",
        "font-size": 6
       },
       "h3": {
        "color": "50f92c45-a630-455b-aec3-788680ec7410",
        "font-family": "Lato",
        "font-size": 5.5
       },
       "h4": {
        "color": "c5cc3653-2ee1-402a-aba2-7caae1da4f6c",
        "font-family": "Lato",
        "font-size": 5
       },
       "h5": {
        "font-family": "Lato"
       },
       "h6": {
        "font-family": "Lato"
       },
       "h7": {
        "font-family": "Lato"
       },
       "li": {
        "color": "50f92c45-a630-455b-aec3-788680ec7410",
        "font-size": 3.25
       },
       "pre": {
        "font-family": "Anonymous Pro",
        "font-size": 4
       }
      },
      "text-base": {
       "color": "19cc588f-0593-49c9-9f4b-e4d7cc113b1c",
       "font-family": "Lato",
       "font-size": 4
      }
     },
     "e4fcf2d0-3057-4b9e-8017-611ab73bb4e3": {
      "backgrounds": {
       "dc7afa04-bf90-40b1-82a5-726e3cff5267": {
        "background-color": "31af15d2-7e15-44c5-ab5e-e04b16a89eff",
        "id": "dc7afa04-bf90-40b1-82a5-726e3cff5267"
       }
      },
      "id": "e4fcf2d0-3057-4b9e-8017-611ab73bb4e3",
      "palette": {
       "19cc588f-0593-49c9-9f4b-e4d7cc113b1c": {
        "id": "19cc588f-0593-49c9-9f4b-e4d7cc113b1c",
        "rgb": [
         252,
         252,
         252
        ]
       },
       "31af15d2-7e15-44c5-ab5e-e04b16a89eff": {
        "id": "31af15d2-7e15-44c5-ab5e-e04b16a89eff",
        "rgb": [
         68,
         68,
         68
        ]
       },
       "50f92c45-a630-455b-aec3-788680ec7410": {
        "id": "50f92c45-a630-455b-aec3-788680ec7410",
        "rgb": [
         197,
         226,
         245
        ]
       },
       "c5cc3653-2ee1-402a-aba2-7caae1da4f6c": {
        "id": "c5cc3653-2ee1-402a-aba2-7caae1da4f6c",
        "rgb": [
         43,
         126,
         184
        ]
       },
       "efa7f048-9acb-414c-8b04-a26811511a21": {
        "id": "efa7f048-9acb-414c-8b04-a26811511a21",
        "rgb": [
         25.118061674008803,
         73.60176211453744,
         107.4819383259912
        ]
       }
      },
      "rules": {
       "a": {
        "color": "19cc588f-0593-49c9-9f4b-e4d7cc113b1c"
       },
       "blockquote": {
        "color": "50f92c45-a630-455b-aec3-788680ec7410",
        "font-size": 3
       },
       "code": {
        "font-family": "Anonymous Pro"
       },
       "h1": {
        "color": "19cc588f-0593-49c9-9f4b-e4d7cc113b1c",
        "font-family": "Merriweather",
        "font-size": 8
       },
       "h2": {
        "color": "19cc588f-0593-49c9-9f4b-e4d7cc113b1c",
        "font-family": "Merriweather",
        "font-size": 6
       },
       "h3": {
        "color": "50f92c45-a630-455b-aec3-788680ec7410",
        "font-family": "Lato",
        "font-size": 5.5
       },
       "h4": {
        "color": "c5cc3653-2ee1-402a-aba2-7caae1da4f6c",
        "font-family": "Lato",
        "font-size": 5
       },
       "h5": {
        "font-family": "Lato"
       },
       "h6": {
        "font-family": "Lato"
       },
       "h7": {
        "font-family": "Lato"
       },
       "li": {
        "color": "50f92c45-a630-455b-aec3-788680ec7410",
        "font-size": 3.25
       },
       "pre": {
        "font-family": "Anonymous Pro",
        "font-size": 4
       }
      },
      "text-base": {
       "color": "19cc588f-0593-49c9-9f4b-e4d7cc113b1c",
       "font-family": "Lato",
       "font-size": 4
      }
     }
    }
   }
  }
 },
 "nbformat": 4,
 "nbformat_minor": 1
}
