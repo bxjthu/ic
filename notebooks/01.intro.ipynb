{
 "cells": [
  {
   "cell_type": "markdown",
   "metadata": {
    "nbpresent": {
     "id": "67f6353c-d00a-4035-8fc3-5f5db23bf13c"
    }
   },
   "source": [
    "# 1. The way of the program"
   ]
  },
  {
   "cell_type": "markdown",
   "metadata": {
    "nbpresent": {
     "id": "260ad8c4-b93b-49ce-8cc5-c4a296053820"
    }
   },
   "source": [
    "##  Think like a computer scientist\n",
    "Computer scientists combines some of the best features of mathematics, engineering, and natural science\n",
    "- Like mathematicians: use formal languages to denote ideas\n",
    "- Like engineers: design things, assembling components into systems and evaluating tradeoffs among alternatives\n",
    "- Like scientists: observe the behavior of complex systems, form hypotheses, and test predictions"
   ]
  },
  {
   "cell_type": "markdown",
   "metadata": {
    "nbpresent": {
     "id": "09a5a586-fabc-4b12-84ce-04dd8274baf5"
    }
   },
   "source": [
    "## Skill of problem solving\n",
    "\n",
    "The single most important skill for a computer scientist is ** problem solving ** \n",
    "\n",
    "- the ability to formulate problems, \n",
    "- think creatively about solutions, \n",
    "- and express a solution clearly and accurately. \n",
    "\n",
    "&nbsp;\n",
    "<div class=\"alert alert-info\">\n",
    "The way to solve problems: **learning to program **\n",
    "</div>"
   ]
  },
  {
   "cell_type": "markdown",
   "metadata": {
    "nbpresent": {
     "id": "c9a66e0c-fc02-4497-be07-7aee7465bd60"
    }
   },
   "source": [
    "## Algorithms\n",
    "\n",
    "An algorithm is a step by step list of instructions that if followed exactly will solve the problem under consideration.\n",
    "\n",
    "Programming is a skill that allows a computer scientist to take an algorithm and represent it in a notation (a program) that can be followed by a computer. \n",
    "\n",
    "These programs are written in **programming languages**."
   ]
  },
  {
   "cell_type": "markdown",
   "metadata": {
    "nbpresent": {
     "id": "f9e385e8-dabe-4903-b47c-6a4a53527510"
    }
   },
   "source": [
    "## The Python Programming Language\n",
    "\n",
    "[Python](http://python.org) is a high-level language\n",
    "- easier to program in a high-level language so programs\n",
    "    - take less time to write\n",
    "    - shorter and easier to read\n",
    "    - more likely to be correct\n",
    "- high-level languages are portable"
   ]
  },
  {
   "cell_type": "markdown",
   "metadata": {
    "nbpresent": {
     "id": "8e0cbbe0-92d0-4151-9c04-efb13999ed53"
    }
   },
   "source": [
    "##  Interpreter vs Compiler\n",
    "\n",
    "&nbsp;\n",
    "<div class=\"panel panel-info\">\n",
    "    <div class=\"panel-heading\">1. Interpreter</div>\n",
    "    <div class=\"panel-body\">\n",
    "    <pre>source code → interpreter → output</pre>\n",
    "    </div>\n",
    "</div>\n",
    "\n",
    "\n",
    "<div class=\"panel panel-info\">\n",
    "    <div class=\"panel-heading\">2. Compiler</div>\n",
    "    <div class=\"panel-body\">\n",
    "    <pre>source code → compiler → object code → executor → output</pre>\n",
    "    </div>\n",
    "</div>"
   ]
  },
  {
   "cell_type": "markdown",
   "metadata": {
    "nbpresent": {
     "id": "844521ef-55f5-4101-bd41-033cbfbb1254"
    }
   },
   "source": [
    "## Python interpreter\n",
    "\n",
    "- python shell\n",
    "\n",
    "\n",
    "- ipython shell\n",
    "\n",
    "\n",
    "- jupyter notebook\n",
    "\n",
    "\n",
    "- python program"
   ]
  },
  {
   "cell_type": "markdown",
   "metadata": {
    "nbpresent": {
     "id": "5e363e09-2459-40cb-b5ca-631a69d56429"
    }
   },
   "source": [
    "** python shell **\n",
    "\n",
    "```\n",
    "$ python3\n",
    "Python 3.5.2 |Continuum Analytics, Inc.| (default, Jul  2 2016, 17:52:12) \n",
    "[GCC 4.2.1 Compatible Apple LLVM 4.2 (clang-425.0.28)] on darwin\n",
    "Type \"help\", \"copyright\", \"credits\" or \"license\" for more information.\n",
    ">>> 2 + 3\n",
    "5\n",
    ">>> \n",
    "```"
   ]
  },
  {
   "cell_type": "markdown",
   "metadata": {
    "nbpresent": {
     "id": "811b52c6-a6cd-490c-972b-fcef0d7baa72"
    }
   },
   "source": [
    "** ipython shell **\n",
    "\n",
    "```\n",
    "$ python3 -m IPython\n",
    "Python 3.5.2 (default, Jul  2 2016, 17:52:12) \n",
    "IPython 5.1.0 -- An enhanced Interactive Python.\n",
    "\n",
    "In [1]: 2 + 3\n",
    "Out[1]: 5\n",
    "\n",
    "In [2]: \n",
    "```"
   ]
  },
  {
   "cell_type": "markdown",
   "metadata": {
    "nbpresent": {
     "id": "eb09240b-4094-4c41-8c89-e25334b39139"
    }
   },
   "source": [
    "** jupyter notebook **\n",
    "\n",
    "IPython is now the name of the Python kernel for the [Jupyter Notebook](http://jupyter.org).\n",
    "\n",
    "```\n",
    "$ jupyter notebook\n",
    "```\n",
    "\n",
    "will automatically open a browser window showing your home directory.\n",
    "\n",
    "then you can **New** a **Python Notebook**"
   ]
  },
  {
   "cell_type": "markdown",
   "metadata": {
    "nbpresent": {
     "id": "e4311b48-5f0e-4f20-837c-a0d57b42335c"
    }
   },
   "source": [
    "**python program**\n",
    "\n",
    "```bash\n",
    "$ cat hello.py\n",
    "print(\"Hello world!\")\n",
    "```\n",
    "\n",
    "```bash\n",
    "$ python3 hello.py\n",
    "Hello world!\n",
    "```"
   ]
  },
  {
   "cell_type": "markdown",
   "metadata": {
    "nbpresent": {
     "id": "f117f1c3-9a7f-45e7-a24d-7490d3b09e5b"
    }
   },
   "source": [
    "## More About Programs\n",
    "A **program** is a sequence of instructions that specifies how to perform a computation. \n",
    "- Input\n",
    "- Output\n",
    "- Math and logic\n",
    "- Conditional execution\n",
    "- Repetition"
   ]
  },
  {
   "cell_type": "markdown",
   "metadata": {},
   "source": [
    "## What is debugging\n",
    "\n",
    "bugs, debugging\n",
    "\n",
    "Three kinds of errors can occur in a program: \n",
    "- syntax errors\n",
    "- runtime errors\n",
    "- semantic errors "
   ]
  },
  {
   "cell_type": "markdown",
   "metadata": {},
   "source": [
    "## Syntax errors\n",
    "\n",
    "Python can only execute a program if the program is syntactically correct; otherwise, the process **fails** and returns an error message. \n",
    "\n",
    "Syntax refers to the **structure** of a program and the **rules** about that structure. "
   ]
  },
  {
   "cell_type": "markdown",
   "metadata": {},
   "source": [
    "** Exercise **\n",
    "\n",
    "```\n",
    "1. Which of the following is a syntax error?\n",
    "\n",
    "(A) Attempting to divide by 0.\n",
    "(B) Forgetting a colon at the end of a statement where one is required.\n",
    "(C) Forgetting to divide by 100 when printing a percentage amount.\n",
    "```"
   ]
  },
  {
   "cell_type": "markdown",
   "metadata": {},
   "source": [
    "```\n",
    "2. Who or what typically finds syntax errors?\n",
    "\n",
    "(A) The programmer.\n",
    "(B) The compiler / interpreter.\n",
    "(C) The computer.\n",
    "(D) The teacher / instructor.\n",
    "```"
   ]
  },
  {
   "cell_type": "markdown",
   "metadata": {},
   "source": [
    "## Runtime Errors\n",
    "\n",
    "Runtime error does not appear until you run the program. \n",
    "\n",
    "These errors are also called **exceptions** because they usually indicate that something exceptional (and bad) has happened."
   ]
  },
  {
   "cell_type": "markdown",
   "metadata": {},
   "source": [
    "** Exercise **\n",
    "\n",
    "```\n",
    "Which of the following is a run-time error?\n",
    "\n",
    "(A) Attempting to divide by 0.\n",
    "(B) Forgetting a colon at the end of a statement where one is required.\n",
    "(C) Forgetting to divide by 100 when printing a percentage amount.\n",
    "```"
   ]
  },
  {
   "cell_type": "markdown",
   "metadata": {},
   "source": [
    "## Semantic Errors\n",
    "\n",
    "If there is a semantic error in your program, it will run successfully in the sense that the computer will not generate any error messages. \n",
    "\n",
    "However, your program will not do the right thing. It will do something else. \n",
    "\n",
    "The problem is that the program you wrote is not the program you wanted to write. The meaning of the program (its semantics) is wrong. \n"
   ]
  },
  {
   "cell_type": "markdown",
   "metadata": {},
   "source": [
    "** Exercise **\n",
    "\n",
    "```\n",
    "Which of the following is a semantic error?\n",
    "\n",
    "(A) Attempting to divide by 0.\n",
    "(B) Forgetting a semi-colon at the end of a statement where one is required.\n",
    "(C) Forgetting to divide by 100 when printing a percentage amount.\n",
    "```"
   ]
  },
  {
   "cell_type": "markdown",
   "metadata": {},
   "source": [
    "## Experimental Debugging\n",
    "\n",
    "Although it can be frustrating, debugging is one of the most intellectually rich, challenging, and interesting parts of programming.\n",
    "\n",
    "In some ways, debugging is like detective work. \n",
    "\n",
    "Debugging is also like an experimental science. "
   ]
  },
  {
   "cell_type": "markdown",
   "metadata": {},
   "source": [
    "** Exercise **\n",
    "```\n",
    "The difference between programming and debugging is:\n",
    "\n",
    "(A) programming is the process of writing and gradually debugging a program until it does what you want.\n",
    "(B) programming is creative and debugging is routine.\n",
    "(C) programming is fun and debugging is work.\n",
    "(D) there is no difference between them.\n",
    "```"
   ]
  },
  {
   "cell_type": "markdown",
   "metadata": {},
   "source": [
    "## Formal and Natural Languages\n",
    "\n",
    "Natural languages are the languages that people speak. They were not designed by people; they evolved naturally.\n",
    "\n",
    "Formal languages are languages that are designed by people for specific applications. \n",
    "\n",
    "**`Programming languages are formal languages that have been designed to express computations.`**\n"
   ]
  },
  {
   "cell_type": "markdown",
   "metadata": {},
   "source": [
    "Formal languages tend to have **strict rules about syntax**.\n",
    "\n",
    "- Tokens \n",
    "    - Tokens are the basic elements of the language\n",
    "\n",
    "- Structure of a statement\n",
    "    - the way the tokens are arranged"
   ]
  },
  {
   "cell_type": "markdown",
   "metadata": {},
   "source": [
    "**`Formal and natural languages differences`**\n",
    "\n",
    "- ambiguity\n",
    "\n",
    "- redundancy\n",
    "\n",
    "- literalness\n",
    "\n"
   ]
  },
  {
   "cell_type": "markdown",
   "metadata": {},
   "source": [
    "**`Exercise`**\n",
    "\n",
    "```\n",
    "1. The differences between natural and formal languages include:\n",
    "(A) natural languages can be parsed while formal languages cannot.\n",
    "(B) ambiguity, redundancy, and literalness.\n",
    "(C) there are no differences between natural and formal languages.\n",
    "(D) tokens, structure, syntax, and semantics.\n",
    "```"
   ]
  },
  {
   "cell_type": "markdown",
   "metadata": {},
   "source": [
    "```\n",
    "2. Reading a program is like reading other kinds of text.\n",
    "(A) True\n",
    "(B) False\n",
    "```"
   ]
  },
  {
   "cell_type": "markdown",
   "metadata": {},
   "source": [
    "## A Typical First Program"
   ]
  },
  {
   "cell_type": "code",
   "execution_count": 13,
   "metadata": {
    "collapsed": false
   },
   "outputs": [
    {
     "name": "stdout",
     "output_type": "stream",
     "text": [
      "Hello World!\n"
     ]
    }
   ],
   "source": [
    "print(\"Hello World!\")"
   ]
  },
  {
   "cell_type": "markdown",
   "metadata": {
    "nbpresent": {
     "id": "d88f4fc4-3ae1-4d88-b88c-ef1bdd85b609"
    }
   },
   "source": [
    "## Comments\n",
    "\n",
    "A comment in a computer program is **text** that is intended **only for the human reader** - it is completely ignored by the interpreter. \n",
    "\n",
    "In Python, the **#** token starts a comment. The rest of the line is ignored. "
   ]
  },
  {
   "cell_type": "markdown",
   "metadata": {
    "nbpresent": {
     "id": "78434818-0957-4f1a-9c17-ae15b08b0865"
    }
   },
   "source": [
    "```python\n",
    "#---------------------------------------------------\n",
    "# This demo program shows off how elegant Python is!\n",
    "# Written by Joe Soap, December 2010.\n",
    "# Anyone may freely copy or modify this program.\n",
    "#---------------------------------------------------\n",
    "\n",
    "print(\"Hello, World!\")     # Isn't this easy!\n",
    "```"
   ]
  },
  {
   "cell_type": "markdown",
   "metadata": {},
   "source": [
    "** Exercise **\n",
    "```\n",
    "What are comments for?\n",
    "(A) To tell the computer what you mean in your program.\n",
    "(B) For the people who are reading your code to know, in natural language, what the program is doing.\n",
    "(C) Nothing, they are extraneous information that is not needed.\n",
    "(D) Nothing in a short program. They are only needed for really large programs.\n",
    "```"
   ]
  },
  {
   "cell_type": "markdown",
   "metadata": {},
   "source": [
    "##  Glossary\n",
    "\n",
    "** algorithm **\n",
    "\n",
    "A general step by step process for solving a problem.\n",
    "\n",
    "** bug **\n",
    "\n",
    "An error in a program.\n",
    "\n",
    "** byte code **\n",
    "\n",
    "An intermediate language between source code and object code. Many modern languages first compile source code into byte code and then interpret the byte code with a program called a virtual machine.\n",
    "\n",
    "** comment **\n",
    "\n",
    "Information in a program that is meant for other programmers (or anyone reading the source code) and has no effect on the execution of the program.\n",
    "\n",
    "** compile **\n",
    "\n",
    "To translate a program written in a high-level language into a low-level language all at once, in preparation for later execution.\n",
    "\n",
    "** debugging **\n",
    "\n",
    "The process of finding and removing any of the three kinds of programming errors.\n",
    "\n",
    "** exception **\n",
    "\n",
    "Another name for a runtime error.\n",
    "\n",
    "** executable **\n",
    "\n",
    "Another name for object code that is ready to be executed.\n",
    "\n",
    "** formal language **\n",
    "\n",
    "Any one of the languages that people have designed for specific purposes, such as representing mathematical ideas or computer programs; all programming languages are formal languages.\n",
    "\n",
    "** high-level language **\n",
    "\n",
    "A programming language like Python that is designed to be easy for humans to read and write.\n",
    "\n",
    "** interpret **\n",
    "\n",
    "To execute a program in a high-level language by translating it one line at a time.\n",
    "\n",
    "** low-level language **\n",
    "\n",
    "A programming language that is designed to be easy for a computer to execute; also called machine language or assembly language.\n",
    "\n",
    "** natural language **\n",
    "\n",
    "Any one of the languages that people speak that evolved naturally.\n",
    "\n",
    "** object code **\n",
    "\n",
    "The output of the compiler after it translates the program.\n",
    "\n",
    "** parse **\n",
    "\n",
    "To examine a program and analyze the syntactic structure.\n",
    "\n",
    "** portability **\n",
    "\n",
    "A property of a program that can run on more than one kind of computer.\n",
    "\n",
    "** print function **\n",
    "\n",
    "A function used in a program or script that causes the Python interpreter to display a value on its output device.\n",
    "\n",
    "** problem solving **\n",
    "\n",
    "The process of formulating a problem, finding a solution, and expressing the solution.\n",
    "\n",
    "** program **\n",
    "\n",
    "A sequence of instructions that specifies to a computer actions and computations to be performed.\n",
    "\n",
    "** programming language **\n",
    "\n",
    "A formal notation for representing solutions.\n",
    "\n",
    "** Python shell **\n",
    "\n",
    "An interactive user interface to the Python interpreter. The user of a Python shell types commands at the prompt (>>>), and presses the return key to send these commands immediately to the interpreter for processing.\n",
    "\n",
    "** runtime error **\n",
    "\n",
    "An error that does not occur until the program has started to execute but that prevents the program from continuing.\n",
    "\n",
    "** semantic error **\n",
    "\n",
    "An error in a program that makes it do something other than what the programmer intended.\n",
    "\n",
    "** semantics **\n",
    "\n",
    "The meaning of a program.\n",
    "\n",
    "** shell mode **\n",
    "\n",
    "A style of using Python where we type expressions at the command prompt, and the results are shown immediately. Contrast with source code, and see the entry under Python shell.\n",
    "\n",
    "** source code **\n",
    "\n",
    "A program, stored in a file, in a high-level language before being compiled or interpreted.\n",
    "\n",
    "** syntax **\n",
    "\n",
    "The structure of a program.\n",
    "\n",
    "** syntax error **\n",
    "\n",
    "An error in a program that makes it impossible to parse — and therefore impossible to interpret.\n",
    "\n",
    "** token **\n",
    "\n",
    "One of the basic elements of the syntactic structure of a program, analogous to a word in a natural language."
   ]
  }
 ],
 "metadata": {
  "anaconda-cloud": {},
  "kernelspec": {
   "display_name": "Python [default]",
   "language": "python",
   "name": "python3"
  },
  "language_info": {
   "codemirror_mode": {
    "name": "ipython",
    "version": 3
   },
   "file_extension": ".py",
   "mimetype": "text/x-python",
   "name": "python",
   "nbconvert_exporter": "python",
   "pygments_lexer": "ipython3",
   "version": "3.5.2"
  },
  "nbpresent": {
   "slides": {
    "8c97bc3c-52a2-4894-9133-af9e18716a96": {
     "id": "8c97bc3c-52a2-4894-9133-af9e18716a96",
     "prev": "b2c6df2e-3366-4630-a7de-ac01f427ebbf",
     "regions": {
      "8ddb29b7-721f-4d81-91bd-e48007f77297": {
       "attrs": {
        "height": 0.8,
        "width": 0.8,
        "x": 0.1,
        "y": 0.1
       },
       "content": {
        "cell": "09a5a586-fabc-4b12-84ce-04dd8274baf5",
        "part": "source"
       },
       "id": "8ddb29b7-721f-4d81-91bd-e48007f77297"
      }
     },
     "theme": "cd3ed7da-0514-4f93-bf54-8bff507be993"
    },
    "b2c6df2e-3366-4630-a7de-ac01f427ebbf": {
     "id": "b2c6df2e-3366-4630-a7de-ac01f427ebbf",
     "prev": "d0087cd6-1f81-4568-acfd-2af034438566",
     "regions": {
      "72c7d30d-9d47-4135-b7ba-340ff8fdc12f": {
       "attrs": {
        "height": 0.8,
        "width": 0.8,
        "x": 0.1,
        "y": 0.1
       },
       "content": {
        "cell": "260ad8c4-b93b-49ce-8cc5-c4a296053820",
        "part": "source"
       },
       "id": "72c7d30d-9d47-4135-b7ba-340ff8fdc12f"
      }
     },
     "theme": "cd3ed7da-0514-4f93-bf54-8bff507be993"
    },
    "d0087cd6-1f81-4568-acfd-2af034438566": {
     "id": "d0087cd6-1f81-4568-acfd-2af034438566",
     "prev": null,
     "regions": {
      "6f0c2c48-4b4e-4e88-8b35-522a7a567afe": {
       "attrs": {
        "height": 0.2641827456198713,
        "width": 0.8,
        "x": 0.1,
        "y": 0.3856509203814593
       },
       "content": {
        "cell": "67f6353c-d00a-4035-8fc3-5f5db23bf13c",
        "part": "source"
       },
       "id": "6f0c2c48-4b4e-4e88-8b35-522a7a567afe"
      }
     },
     "theme": "cd3ed7da-0514-4f93-bf54-8bff507be993"
    }
   },
   "themes": {
    "default": "cd3ed7da-0514-4f93-bf54-8bff507be993",
    "theme": {
     "0af4be00-9728-451c-a8c0-c45c2d9600ee": {
      "backgrounds": {
       "backgroundColor": {
        "background-color": "backgroundColor",
        "id": "backgroundColor"
       }
      },
      "id": "0af4be00-9728-451c-a8c0-c45c2d9600ee",
      "palette": {
       "backgroundColor": {
        "id": "backgroundColor",
        "rgb": [
         34,
         34,
         34
        ]
       },
       "headingColor": {
        "id": "headingColor",
        "rgb": [
         238,
         238,
         238
        ]
       },
       "linkColor": {
        "id": "linkColor",
        "rgb": [
         170,
         34,
         51
        ]
       },
       "mainColor": {
        "id": "mainColor",
        "rgb": [
         238,
         238,
         238
        ]
       }
      },
      "rules": {
       "a": {
        "color": "linkColor"
       },
       "h1": {
        "color": "headingColor",
        "font-family": "Ubuntu",
        "font-size": 7
       },
       "h2": {
        "color": "headingColor",
        "font-family": "Ubuntu",
        "font-size": 5
       },
       "h3": {
        "color": "headingColor",
        "font-family": "Ubuntu",
        "font-size": 3.75
       },
       "h4": {
        "color": "headingColor",
        "font-family": "Ubuntu",
        "font-size": 3
       },
       "h5": {
        "color": "headingColor",
        "font-family": "Ubuntu"
       },
       "h6": {
        "color": "headingColor",
        "font-family": "Ubuntu"
       },
       "h7": {
        "color": "headingColor",
        "font-family": "Ubuntu"
       },
       "li": {
        "color": "mainColor",
        "font-family": "Ubuntu",
        "font-size": 5
       },
       "p": {
        "color": "mainColor",
        "font-family": "Ubuntu",
        "font-size": 5
       }
      },
      "text-base": {
       "color": "mainColor",
       "font-family": "Ubuntu",
       "font-size": 5
      }
     },
     "cd3ed7da-0514-4f93-bf54-8bff507be993": {
      "id": "cd3ed7da-0514-4f93-bf54-8bff507be993",
      "palette": {
       "19cc588f-0593-49c9-9f4b-e4d7cc113b1c": {
        "id": "19cc588f-0593-49c9-9f4b-e4d7cc113b1c",
        "rgb": [
         252,
         252,
         252
        ]
       },
       "31af15d2-7e15-44c5-ab5e-e04b16a89eff": {
        "id": "31af15d2-7e15-44c5-ab5e-e04b16a89eff",
        "rgb": [
         68,
         68,
         68
        ]
       },
       "50f92c45-a630-455b-aec3-788680ec7410": {
        "id": "50f92c45-a630-455b-aec3-788680ec7410",
        "rgb": [
         155,
         177,
         192
        ]
       },
       "c5cc3653-2ee1-402a-aba2-7caae1da4f6c": {
        "id": "c5cc3653-2ee1-402a-aba2-7caae1da4f6c",
        "rgb": [
         43,
         126,
         184
        ]
       },
       "efa7f048-9acb-414c-8b04-a26811511a21": {
        "id": "efa7f048-9acb-414c-8b04-a26811511a21",
        "rgb": [
         25.118061674008803,
         73.60176211453744,
         107.4819383259912
        ]
       }
      },
      "rules": {
       "blockquote": {
        "color": "50f92c45-a630-455b-aec3-788680ec7410"
       },
       "code": {
        "font-family": "Anonymous Pro"
       },
       "h1": {
        "color": "c5cc3653-2ee1-402a-aba2-7caae1da4f6c",
        "font-family": "Lato",
        "font-size": 8
       },
       "h2": {
        "color": "c5cc3653-2ee1-402a-aba2-7caae1da4f6c",
        "font-family": "Lato",
        "font-size": 6
       },
       "h3": {
        "color": "50f92c45-a630-455b-aec3-788680ec7410",
        "font-family": "Lato",
        "font-size": 5.5
       },
       "h4": {
        "color": "c5cc3653-2ee1-402a-aba2-7caae1da4f6c",
        "font-family": "Lato",
        "font-size": 5
       },
       "h5": {
        "font-family": "Lato"
       },
       "h6": {
        "font-family": "Lato"
       },
       "h7": {
        "font-family": "Lato"
       },
       "pre": {
        "font-family": "Anonymous Pro",
        "font-size": 4
       }
      },
      "text-base": {
       "font-family": "Merriweather",
       "font-size": 4
      }
     },
     "fc25ae1a-0115-4b1b-96e2-279cf093806b": {
      "backgrounds": {
       "backgroundColor": {
        "background-color": "backgroundColor",
        "id": "backgroundColor"
       }
      },
      "id": "fc25ae1a-0115-4b1b-96e2-279cf093806b",
      "palette": {
       "backgroundColor": {
        "id": "backgroundColor",
        "rgb": [
         17,
         17,
         17
        ]
       },
       "headingColor": {
        "id": "headingColor",
        "rgb": [
         238,
         238,
         238
        ]
       },
       "linkColor": {
        "id": "linkColor",
        "rgb": [
         231,
         173,
         82
        ]
       },
       "mainColor": {
        "id": "mainColor",
        "rgb": [
         238,
         238,
         238
        ]
       }
      },
      "rules": {
       "a": {
        "color": "linkColor"
       },
       "h1": {
        "color": "headingColor",
        "font-family": "Montserrat",
        "font-size": 7
       },
       "h2": {
        "color": "headingColor",
        "font-family": "Montserrat",
        "font-size": 5
       },
       "h3": {
        "color": "headingColor",
        "font-family": "Montserrat",
        "font-size": 3.75
       },
       "h4": {
        "color": "headingColor",
        "font-family": "Montserrat",
        "font-size": 3
       },
       "h5": {
        "color": "headingColor",
        "font-family": "Montserrat"
       },
       "h6": {
        "color": "headingColor",
        "font-family": "Montserrat"
       },
       "h7": {
        "color": "headingColor",
        "font-family": "Montserrat"
       },
       "li": {
        "color": "mainColor",
        "font-family": "Open Sans",
        "font-size": 4
       },
       "p": {
        "color": "mainColor",
        "font-family": "Open Sans",
        "font-size": 4
       }
      },
      "text-base": {
       "color": "mainColor",
       "font-family": "Open Sans",
       "font-size": 4
      }
     }
    }
   }
  }
 },
 "nbformat": 4,
 "nbformat_minor": 1
}
