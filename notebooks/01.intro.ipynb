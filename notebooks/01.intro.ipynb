{
 "cells": [
  {
   "cell_type": "markdown",
   "metadata": {
    "nbpresent": {
     "id": "67f6353c-d00a-4035-8fc3-5f5db23bf13c"
    }
   },
   "source": [
    "# 1. General Introduction\n",
    "\n",
    "- [The Way of the Program](#program)\n",
    "- Algorithms\n",
    "- The Python Programming Language\n",
    "- Executing Python in this Book\n",
    "- More About Programs\n",
    "- What is Debugging?\n",
    "- Experimental Debugging\n",
    "- Formal and Natural Languages\n",
    "- A Typical First Program\n",
    "- Comments"
   ]
  },
  {
   "cell_type": "markdown",
   "metadata": {
    "nbpresent": {
     "id": "c81bce23-b41b-4641-8bb7-8e9d119d4f47"
    }
   },
   "source": [
    "## <a name=\"program\"></a> The Way of the Program"
   ]
  },
  {
   "cell_type": "markdown",
   "metadata": {
    "nbpresent": {
     "id": "260ad8c4-b93b-49ce-8cc5-c4a296053820"
    }
   },
   "source": [
    "###  Think like a computer scientist\n",
    "Computer scientists combines some of the best features of mathematics, engineering, and natural science\n",
    "- Like mathematicians: use formal languages to denote ideas (specifically computations)\n",
    "- Like engineers: design things, assembling components into systems and evaluating tradeoffs among alternatives\n",
    "- Like scientists: observe the behavior of complex systems, form hypotheses, and test predictions"
   ]
  },
  {
   "cell_type": "markdown",
   "metadata": {
    "nbpresent": {
     "id": "09a5a586-fabc-4b12-84ce-04dd8274baf5"
    }
   },
   "source": [
    "The single most important skill for a computer scientist is **problem solving** \n",
    "\n",
    "- the ability to formulate problems, \n",
    "- think creatively about solutions, \n",
    "- and express a solution clearly and accurately. \n",
    "\n",
    "the process of learning to program is an excellent opportunity to practice problem solving skills \n"
   ]
  },
  {
   "cell_type": "markdown",
   "metadata": {
    "nbpresent": {
     "id": "c9a66e0c-fc02-4497-be07-7aee7465bd60"
    }
   },
   "source": [
    "## Algorithms\n",
    "\n",
    "An algorithm is a step by step list of instructions that if followed exactly will solve the problem under consideration.\n",
    "\n",
    "Programming is a skill that allows a computer scientist to take an algorithm and represent it in a notation (a program) that can be followed by a computer. \n",
    "\n",
    "These programs are written in programming languages."
   ]
  },
  {
   "cell_type": "code",
   "execution_count": 10,
   "metadata": {
    "collapsed": false,
    "nbpresent": {
     "id": "a38c6886-50d5-4ab8-936c-88f7228ca901"
    }
   },
   "outputs": [
    {
     "name": "stdout",
     "output_type": "stream",
     "text": [
      "您好 python 张三\n"
     ]
    }
   ],
   "source": [
    "print(\"您好 python \" + \"张三\")"
   ]
  },
  {
   "cell_type": "code",
   "execution_count": 5,
   "metadata": {
    "collapsed": false,
    "nbpresent": {
     "id": "5be0c0a4-23a3-4518-921f-e17112c9176d"
    }
   },
   "outputs": [
    {
     "data": {
      "text/plain": [
       "14"
      ]
     },
     "execution_count": 5,
     "metadata": {},
     "output_type": "execute_result"
    }
   ],
   "source": [
    "4+10"
   ]
  },
  {
   "cell_type": "markdown",
   "metadata": {
    "nbpresent": {
     "id": "f9e385e8-dabe-4903-b47c-6a4a53527510"
    }
   },
   "source": [
    "\n",
    "| This | is   |\n",
    "|------|------|\n",
    "|   a  | table|"
   ]
  },
  {
   "cell_type": "markdown",
   "metadata": {
    "nbpresent": {
     "id": "13ea1354-c0a8-46ca-b9d3-7d4ce003e20a"
    }
   },
   "source": [
    "# This is good"
   ]
  },
  {
   "cell_type": "markdown",
   "metadata": {
    "nbpresent": {
     "id": "d88f4fc4-3ae1-4d88-b88c-ef1bdd85b609"
    }
   },
   "source": [
    "## Comments"
   ]
  },
  {
   "cell_type": "markdown",
   "metadata": {},
   "source": [
    "```python\n",
    "#---------------------------------------------------\n",
    "# This demo program shows off how elegant Python is!\n",
    "# Written by Joe Soap, December 2010.\n",
    "# Anyone may freely copy or modify this program.\n",
    "#---------------------------------------------------\n",
    "\n",
    "print(\"Hello, World!\")     # Isn't this easy!\n",
    "```"
   ]
  },
  {
   "cell_type": "code",
   "execution_count": null,
   "metadata": {
    "collapsed": true
   },
   "outputs": [],
   "source": []
  }
 ],
 "metadata": {
  "anaconda-cloud": {},
  "kernelspec": {
   "display_name": "Python [default]",
   "language": "python",
   "name": "python3"
  },
  "language_info": {
   "codemirror_mode": {
    "name": "ipython",
    "version": 3
   },
   "file_extension": ".py",
   "mimetype": "text/x-python",
   "name": "python",
   "nbconvert_exporter": "python",
   "pygments_lexer": "ipython3",
   "version": "3.5.2"
  },
  "nbpresent": {
   "slides": {
    "245cd90d-e9ab-4850-9fa3-011dff64c893": {
     "id": "245cd90d-e9ab-4850-9fa3-011dff64c893",
     "prev": "d5c6612b-a7fc-41cd-b9e9-c7fb1ac94310",
     "regions": {
      "2b8f0569-a39e-4a68-a25c-f56c47968c7d": {
       "attrs": {
        "height": 0.8,
        "width": 0.8,
        "x": 0.1,
        "y": 0.1
       },
       "content": {
        "cell": "13ea1354-c0a8-46ca-b9d3-7d4ce003e20a",
        "part": "whole"
       },
       "id": "2b8f0569-a39e-4a68-a25c-f56c47968c7d"
      }
     }
    },
    "2d98afb3-d6ce-4233-a9af-1eb004fd56a2": {
     "id": "2d98afb3-d6ce-4233-a9af-1eb004fd56a2",
     "prev": "722f6d95-bdc6-45b5-a56b-35e88337323c",
     "regions": {
      "99f211c4-bf37-48d4-b018-800e9986b1e6": {
       "attrs": {
        "height": 0.8,
        "width": 0.8,
        "x": 0.1,
        "y": 0.1
       },
       "content": {
        "cell": "a38c6886-50d5-4ab8-936c-88f7228ca901",
        "part": "whole"
       },
       "id": "99f211c4-bf37-48d4-b018-800e9986b1e6"
      }
     },
     "theme": "cd3ed7da-0514-4f93-bf54-8bff507be993"
    },
    "37f384ad-1891-4ce6-84d5-7da58dccc8cb": {
     "id": "37f384ad-1891-4ce6-84d5-7da58dccc8cb",
     "prev": null,
     "regions": {
      "d7261696-dbe8-4172-944d-2a3ebaa9b034": {
       "attrs": {
        "height": 0.8,
        "width": 0.8,
        "x": 0.1,
        "y": 0.1
       },
       "content": {
        "cell": "67f6353c-d00a-4035-8fc3-5f5db23bf13c",
        "part": "whole"
       },
       "id": "d7261696-dbe8-4172-944d-2a3ebaa9b034"
      }
     },
     "theme": "cd3ed7da-0514-4f93-bf54-8bff507be993"
    },
    "722f6d95-bdc6-45b5-a56b-35e88337323c": {
     "id": "722f6d95-bdc6-45b5-a56b-35e88337323c",
     "prev": "ea70f3a0-a801-4e9d-9f27-1b3046b35a84",
     "regions": {
      "b8c6fb89-0918-4dff-af05-ce349551ce8c": {
       "attrs": {
        "height": 0.9330671989354625,
        "width": 0.8,
        "x": 0.1,
        "y": 0.05209580838323355
       },
       "content": {
        "cell": "c9a66e0c-fc02-4497-be07-7aee7465bd60",
        "part": "whole"
       },
       "id": "b8c6fb89-0918-4dff-af05-ce349551ce8c"
      }
     },
     "theme": "cd3ed7da-0514-4f93-bf54-8bff507be993"
    },
    "7ea72198-3d98-4f60-b21f-253cd7a60406": {
     "id": "7ea72198-3d98-4f60-b21f-253cd7a60406",
     "prev": "37f384ad-1891-4ce6-84d5-7da58dccc8cb",
     "regions": {
      "58520c8c-ffca-45a4-90eb-7b8a0a14b2c3": {
       "attrs": {
        "height": 0.8,
        "width": 0.8,
        "x": 0.1,
        "y": 0.1
       },
       "content": {
        "cell": "c81bce23-b41b-4641-8bb7-8e9d119d4f47",
        "part": "whole"
       },
       "id": "58520c8c-ffca-45a4-90eb-7b8a0a14b2c3"
      }
     },
     "theme": "cd3ed7da-0514-4f93-bf54-8bff507be993"
    },
    "b5ecc98f-2971-434e-9b39-e5c07b884dfe": {
     "id": "b5ecc98f-2971-434e-9b39-e5c07b884dfe",
     "prev": "2d98afb3-d6ce-4233-a9af-1eb004fd56a2",
     "regions": {
      "fcc6f06c-e450-4e0e-885a-c111e56d2755": {
       "attrs": {
        "height": 0.8,
        "width": 0.8,
        "x": 0.1,
        "y": 0.1
       },
       "content": {
        "cell": "5be0c0a4-23a3-4518-921f-e17112c9176d",
        "part": "whole"
       },
       "id": "fcc6f06c-e450-4e0e-885a-c111e56d2755"
      }
     },
     "theme": "cd3ed7da-0514-4f93-bf54-8bff507be993"
    },
    "c70abf16-ddda-4a47-8ecd-16940868fc48": {
     "id": "c70abf16-ddda-4a47-8ecd-16940868fc48",
     "prev": "7ea72198-3d98-4f60-b21f-253cd7a60406",
     "regions": {
      "f387ae90-b8e2-415e-aedc-c41c24c59079": {
       "attrs": {
        "height": 0.8,
        "width": 0.8,
        "x": 0.1,
        "y": 0.1
       },
       "content": {
        "cell": "260ad8c4-b93b-49ce-8cc5-c4a296053820",
        "part": "whole"
       },
       "id": "f387ae90-b8e2-415e-aedc-c41c24c59079"
      }
     },
     "theme": "cd3ed7da-0514-4f93-bf54-8bff507be993"
    },
    "d47366ac-dedb-4b62-aca1-789008e67144": {
     "id": "d47366ac-dedb-4b62-aca1-789008e67144",
     "prev": "245cd90d-e9ab-4850-9fa3-011dff64c893",
     "regions": {
      "ca3d4d2a-bd51-489c-8ced-866882038249": {
       "attrs": {
        "height": 0.8,
        "width": 0.8,
        "x": 0.1,
        "y": 0.1
       },
       "content": {
        "cell": "d88f4fc4-3ae1-4d88-b88c-ef1bdd85b609",
        "part": "whole"
       },
       "id": "ca3d4d2a-bd51-489c-8ced-866882038249"
      }
     }
    },
    "d5c6612b-a7fc-41cd-b9e9-c7fb1ac94310": {
     "id": "d5c6612b-a7fc-41cd-b9e9-c7fb1ac94310",
     "prev": "b5ecc98f-2971-434e-9b39-e5c07b884dfe",
     "regions": {
      "62ef7a27-7312-42f3-8f9a-df96a92b15b7": {
       "attrs": {
        "height": 0.8,
        "width": 0.8,
        "x": 0.1,
        "y": 0.1
       },
       "content": {
        "cell": "f9e385e8-dabe-4903-b47c-6a4a53527510",
        "part": "whole"
       },
       "id": "62ef7a27-7312-42f3-8f9a-df96a92b15b7"
      }
     },
     "theme": "cd3ed7da-0514-4f93-bf54-8bff507be993"
    },
    "ea70f3a0-a801-4e9d-9f27-1b3046b35a84": {
     "id": "ea70f3a0-a801-4e9d-9f27-1b3046b35a84",
     "prev": "c70abf16-ddda-4a47-8ecd-16940868fc48",
     "regions": {
      "f4781c39-b237-4110-83f0-9059efb54b15": {
       "attrs": {
        "height": 0.8,
        "width": 0.8,
        "x": 0.1,
        "y": 0.1
       },
       "content": {
        "cell": "09a5a586-fabc-4b12-84ce-04dd8274baf5",
        "part": "whole"
       },
       "id": "f4781c39-b237-4110-83f0-9059efb54b15"
      }
     },
     "theme": "cd3ed7da-0514-4f93-bf54-8bff507be993"
    }
   },
   "themes": {
    "default": "89034ed5-c593-4165-9a73-65c8147f03e1",
    "theme": {
     "195d3b36-fe6f-42b2-a214-80f3d32e1e4b": {
      "backgrounds": {
       "backgroundColor": {
        "background-color": "backgroundColor",
        "id": "backgroundColor"
       }
      },
      "id": "195d3b36-fe6f-42b2-a214-80f3d32e1e4b",
      "palette": {
       "backgroundColor": {
        "id": "backgroundColor",
        "rgb": [
         256,
         256,
         256
        ]
       },
       "headingColor": {
        "id": "headingColor",
        "rgb": [
         34,
         34,
         34
        ]
       },
       "linkColor": {
        "id": "linkColor",
        "rgb": [
         42,
         118,
         221
        ]
       },
       "mainColor": {
        "id": "mainColor",
        "rgb": [
         34,
         34,
         34
        ]
       }
      },
      "rules": {
       "a": {
        "color": "linkColor"
       },
       "h1": {
        "color": "headingColor",
        "font-family": "Source Sans Pro",
        "font-size": 5.25
       },
       "h2": {
        "color": "headingColor",
        "font-family": "Source Sans Pro",
        "font-size": 4
       },
       "h3": {
        "color": "headingColor",
        "font-family": "Source Sans Pro",
        "font-size": 3.5
       },
       "h4": {
        "color": "headingColor",
        "font-family": "Source Sans Pro",
        "font-size": 3
       },
       "h5": {
        "color": "headingColor",
        "font-family": "Source Sans Pro"
       },
       "h6": {
        "color": "headingColor",
        "font-family": "Source Sans Pro"
       },
       "h7": {
        "color": "headingColor",
        "font-family": "Source Sans Pro"
       },
       "li": {
        "color": "mainColor",
        "font-family": "Source Sans Pro",
        "font-size": 6
       },
       "p": {
        "color": "mainColor",
        "font-family": "Source Sans Pro",
        "font-size": 6
       }
      },
      "text-base": {
       "color": "mainColor",
       "font-family": "Source Sans Pro",
       "font-size": 6
      }
     },
     "2cc5bf16-d5ab-4270-b02a-e8b290907a70": {
      "backgrounds": {
       "backgroundColor": {
        "background-color": "backgroundColor",
        "id": "backgroundColor"
       }
      },
      "id": "2cc5bf16-d5ab-4270-b02a-e8b290907a70",
      "palette": {
       "backgroundColor": {
        "id": "backgroundColor",
        "rgb": [
         43,
         43,
         43
        ]
       },
       "headingColor": {
        "id": "headingColor",
        "rgb": [
         238,
         238,
         238
        ]
       },
       "linkColor": {
        "id": "linkColor",
        "rgb": [
         19,
         218,
         236
        ]
       },
       "mainColor": {
        "id": "mainColor",
        "rgb": [
         238,
         238,
         238
        ]
       }
      },
      "rules": {
       "a": {
        "color": "linkColor"
       },
       "h1": {
        "color": "headingColor",
        "font-family": "Oswald",
        "font-size": 7
       },
       "h2": {
        "color": "headingColor",
        "font-family": "Oswald",
        "font-size": 5
       },
       "h3": {
        "color": "headingColor",
        "font-family": "Oswald",
        "font-size": 3.75
       },
       "h4": {
        "color": "headingColor",
        "font-family": "Oswald",
        "font-size": 3
       },
       "h5": {
        "color": "headingColor",
        "font-family": "Oswald"
       },
       "h6": {
        "color": "headingColor",
        "font-family": "Oswald"
       },
       "h7": {
        "color": "headingColor",
        "font-family": "Oswald"
       },
       "li": {
        "color": "mainColor",
        "font-family": "Lato",
        "font-size": 5
       },
       "p": {
        "color": "mainColor",
        "font-family": "Lato",
        "font-size": 5
       }
      },
      "text-base": {
       "color": "mainColor",
       "font-family": "Lato",
       "font-size": 5
      }
     },
     "5b3243e7-9059-4697-96d7-b91a4f479934": {
      "backgrounds": {
       "backgroundColor": {
        "background-color": "backgroundColor",
        "id": "backgroundColor"
       }
      },
      "id": "5b3243e7-9059-4697-96d7-b91a4f479934",
      "palette": {
       "backgroundColor": {
        "id": "backgroundColor",
        "rgb": [
         34,
         34,
         34
        ]
       },
       "headingColor": {
        "id": "headingColor",
        "rgb": [
         256,
         256,
         256
        ]
       },
       "linkColor": {
        "id": "linkColor",
        "rgb": [
         66,
         175,
         250
        ]
       },
       "mainColor": {
        "id": "mainColor",
        "rgb": [
         256,
         256,
         256
        ]
       }
      },
      "rules": {
       "a": {
        "color": "linkColor"
       },
       "h1": {
        "color": "headingColor",
        "font-family": "Source Sans Pro",
        "font-size": 5.25
       },
       "h2": {
        "color": "headingColor",
        "font-family": "Source Sans Pro",
        "font-size": 4
       },
       "h3": {
        "color": "headingColor",
        "font-family": "Source Sans Pro",
        "font-size": 3.5
       },
       "h4": {
        "color": "headingColor",
        "font-family": "Source Sans Pro",
        "font-size": 3
       },
       "h5": {
        "color": "headingColor",
        "font-family": "Source Sans Pro"
       },
       "h6": {
        "color": "headingColor",
        "font-family": "Source Sans Pro"
       },
       "h7": {
        "color": "headingColor",
        "font-family": "Source Sans Pro"
       },
       "li": {
        "color": "mainColor",
        "font-family": "Source Sans Pro",
        "font-size": 6
       },
       "p": {
        "color": "mainColor",
        "font-family": "Source Sans Pro",
        "font-size": 6
       }
      },
      "text-base": {
       "color": "mainColor",
       "font-family": "Source Sans Pro",
       "font-size": 6
      }
     },
     "89034ed5-c593-4165-9a73-65c8147f03e1": {
      "backgrounds": {
       "dc7afa04-bf90-40b1-82a5-726e3cff5267": {
        "background-color": "31af15d2-7e15-44c5-ab5e-e04b16a89eff",
        "id": "dc7afa04-bf90-40b1-82a5-726e3cff5267"
       }
      },
      "id": "89034ed5-c593-4165-9a73-65c8147f03e1",
      "palette": {
       "19cc588f-0593-49c9-9f4b-e4d7cc113b1c": {
        "id": "19cc588f-0593-49c9-9f4b-e4d7cc113b1c",
        "rgb": [
         252,
         252,
         252
        ]
       },
       "31af15d2-7e15-44c5-ab5e-e04b16a89eff": {
        "id": "31af15d2-7e15-44c5-ab5e-e04b16a89eff",
        "rgb": [
         68,
         68,
         68
        ]
       },
       "50f92c45-a630-455b-aec3-788680ec7410": {
        "id": "50f92c45-a630-455b-aec3-788680ec7410",
        "rgb": [
         197,
         226,
         245
        ]
       },
       "c5cc3653-2ee1-402a-aba2-7caae1da4f6c": {
        "id": "c5cc3653-2ee1-402a-aba2-7caae1da4f6c",
        "rgb": [
         43,
         126,
         184
        ]
       },
       "efa7f048-9acb-414c-8b04-a26811511a21": {
        "id": "efa7f048-9acb-414c-8b04-a26811511a21",
        "rgb": [
         25.118061674008803,
         73.60176211453744,
         107.4819383259912
        ]
       }
      },
      "rules": {
       "a": {
        "color": "19cc588f-0593-49c9-9f4b-e4d7cc113b1c"
       },
       "blockquote": {
        "color": "50f92c45-a630-455b-aec3-788680ec7410",
        "font-size": 3
       },
       "code": {
        "font-family": "Anonymous Pro"
       },
       "h1": {
        "color": "19cc588f-0593-49c9-9f4b-e4d7cc113b1c",
        "font-family": "Merriweather",
        "font-size": 8
       },
       "h2": {
        "color": "19cc588f-0593-49c9-9f4b-e4d7cc113b1c",
        "font-family": "Merriweather",
        "font-size": 6
       },
       "h3": {
        "color": "50f92c45-a630-455b-aec3-788680ec7410",
        "font-family": "Lato",
        "font-size": 5.5
       },
       "h4": {
        "color": "c5cc3653-2ee1-402a-aba2-7caae1da4f6c",
        "font-family": "Lato",
        "font-size": 5
       },
       "h5": {
        "font-family": "Lato"
       },
       "h6": {
        "font-family": "Lato"
       },
       "h7": {
        "font-family": "Lato"
       },
       "li": {
        "color": "50f92c45-a630-455b-aec3-788680ec7410",
        "font-size": 3.25
       },
       "pre": {
        "font-family": "Anonymous Pro",
        "font-size": 4
       }
      },
      "text-base": {
       "color": "19cc588f-0593-49c9-9f4b-e4d7cc113b1c",
       "font-family": "Lato",
       "font-size": 4
      }
     },
     "cd3ed7da-0514-4f93-bf54-8bff507be993": {
      "id": "cd3ed7da-0514-4f93-bf54-8bff507be993",
      "palette": {
       "19cc588f-0593-49c9-9f4b-e4d7cc113b1c": {
        "id": "19cc588f-0593-49c9-9f4b-e4d7cc113b1c",
        "rgb": [
         252,
         252,
         252
        ]
       },
       "31af15d2-7e15-44c5-ab5e-e04b16a89eff": {
        "id": "31af15d2-7e15-44c5-ab5e-e04b16a89eff",
        "rgb": [
         68,
         68,
         68
        ]
       },
       "50f92c45-a630-455b-aec3-788680ec7410": {
        "id": "50f92c45-a630-455b-aec3-788680ec7410",
        "rgb": [
         155,
         177,
         192
        ]
       },
       "c5cc3653-2ee1-402a-aba2-7caae1da4f6c": {
        "id": "c5cc3653-2ee1-402a-aba2-7caae1da4f6c",
        "rgb": [
         43,
         126,
         184
        ]
       },
       "efa7f048-9acb-414c-8b04-a26811511a21": {
        "id": "efa7f048-9acb-414c-8b04-a26811511a21",
        "rgb": [
         25.118061674008803,
         73.60176211453744,
         107.4819383259912
        ]
       }
      },
      "rules": {
       "blockquote": {
        "color": "50f92c45-a630-455b-aec3-788680ec7410"
       },
       "code": {
        "font-family": "Anonymous Pro"
       },
       "h1": {
        "color": "c5cc3653-2ee1-402a-aba2-7caae1da4f6c",
        "font-family": "Lato",
        "font-size": 8
       },
       "h2": {
        "color": "c5cc3653-2ee1-402a-aba2-7caae1da4f6c",
        "font-family": "Lato",
        "font-size": 6
       },
       "h3": {
        "color": "50f92c45-a630-455b-aec3-788680ec7410",
        "font-family": "Lato",
        "font-size": 5.5
       },
       "h4": {
        "color": "c5cc3653-2ee1-402a-aba2-7caae1da4f6c",
        "font-family": "Lato",
        "font-size": 5
       },
       "h5": {
        "font-family": "Lato"
       },
       "h6": {
        "font-family": "Lato"
       },
       "h7": {
        "font-family": "Lato"
       },
       "pre": {
        "font-family": "Anonymous Pro",
        "font-size": 4
       }
      },
      "text-base": {
       "font-family": "Merriweather",
       "font-size": 4
      }
     },
     "d25cb832-51cf-432f-bd39-14971caa8760": {
      "backgrounds": {
       "backgroundColor": {
        "background-color": "backgroundColor",
        "id": "backgroundColor"
       }
      },
      "id": "d25cb832-51cf-432f-bd39-14971caa8760",
      "palette": {
       "backgroundColor": {
        "id": "backgroundColor",
        "rgb": [
         0,
         43,
         54
        ]
       },
       "headingColor": {
        "id": "headingColor",
        "rgb": [
         238,
         232,
         213
        ]
       },
       "linkColor": {
        "id": "linkColor",
        "rgb": [
         38,
         139,
         210
        ]
       },
       "mainColor": {
        "id": "mainColor",
        "rgb": [
         147,
         161,
         161
        ]
       }
      },
      "rules": {
       "a": {
        "color": "linkColor"
       },
       "h1": {
        "color": "headingColor",
        "font-family": "Oswald",
        "font-size": 7
       },
       "h2": {
        "color": "headingColor",
        "font-family": "Oswald",
        "font-size": 5
       },
       "h3": {
        "color": "headingColor",
        "font-family": "Oswald",
        "font-size": 3.75
       },
       "h4": {
        "color": "headingColor",
        "font-family": "Oswald",
        "font-size": 3
       },
       "h5": {
        "color": "headingColor",
        "font-family": "Oswald"
       },
       "h6": {
        "color": "headingColor",
        "font-family": "Oswald"
       },
       "h7": {
        "color": "headingColor",
        "font-family": "Oswald"
       },
       "li": {
        "color": "mainColor",
        "font-family": "Lato",
        "font-size": 5
       },
       "p": {
        "color": "mainColor",
        "font-family": "Lato",
        "font-size": 5
       }
      },
      "text-base": {
       "color": "mainColor",
       "font-family": "Lato",
       "font-size": 5
      }
     },
     "e38e6845-872d-44ba-9f26-766c1ca9d055": {
      "backgrounds": {
       "backgroundColor": {
        "background-color": "backgroundColor",
        "id": "backgroundColor"
       }
      },
      "id": "e38e6845-872d-44ba-9f26-766c1ca9d055",
      "palette": {
       "backgroundColor": {
        "id": "backgroundColor",
        "rgb": [
         256,
         256,
         256
        ]
       },
       "headingColor": {
        "id": "headingColor",
        "rgb": [
         0,
         0,
         0
        ]
       },
       "linkColor": {
        "id": "linkColor",
        "rgb": [
         0,
         0,
         139
        ]
       },
       "mainColor": {
        "id": "mainColor",
        "rgb": [
         0,
         0,
         0
        ]
       }
      },
      "rules": {
       "a": {
        "color": "linkColor"
       },
       "h1": {
        "color": "headingColor",
        "font-family": "News Cycle",
        "font-size": 7
       },
       "h2": {
        "color": "headingColor",
        "font-family": "News Cycle",
        "font-size": 5
       },
       "h3": {
        "color": "headingColor",
        "font-family": "News Cycle",
        "font-size": 3.75
       },
       "h4": {
        "color": "headingColor",
        "font-family": "News Cycle",
        "font-size": 3
       },
       "h5": {
        "color": "headingColor",
        "font-family": "News Cycle"
       },
       "h6": {
        "color": "headingColor",
        "font-family": "News Cycle"
       },
       "h7": {
        "color": "headingColor",
        "font-family": "News Cycle"
       },
       "li": {
        "color": "mainColor",
        "font-family": "Lato",
        "font-size": 5
       },
       "p": {
        "color": "mainColor",
        "font-family": "Lato",
        "font-size": 5
       }
      },
      "text-base": {
       "color": "mainColor",
       "font-family": "Lato",
       "font-size": 5
      }
     }
    }
   }
  }
 },
 "nbformat": 4,
 "nbformat_minor": 1
}
