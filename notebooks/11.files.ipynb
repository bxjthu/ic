{
 "cells": [
  {
   "cell_type": "markdown",
   "metadata": {
    "nbpresent": {
     "id": "a0fcaa46-29d7-4329-80c8-fbcd1f6da745"
    }
   },
   "source": [
    "# 11. Files, Exceptions"
   ]
  },
  {
   "cell_type": "markdown",
   "metadata": {
    "nbpresent": {
     "id": "a04f8282-250a-4e1e-9646-032fff518027"
    }
   },
   "source": [
    "## About Files\n",
    "\n",
    "- While a program is running, its data is stored in random access memory (RAM), which is **volatile**, i.e., when the program ends, data in RAM disappears. \n",
    "\n",
    "- To make data available the next time the program is started, it has to be written to a **non-volatile** storage medium.\n",
    "\n",
    "- Data on non-volatile storage media is stored in named locations on the media called **files**. By reading and writing files, programs can save information between program runs. "
   ]
  },
  {
   "cell_type": "markdown",
   "metadata": {
    "nbpresent": {
     "id": "55c8e9e4-80b7-494d-87fa-0c1028dda58a"
    }
   },
   "source": [
    "## Working with files\n",
    "\n",
    "In Python, we must open files before we can use them and close them when we are done with them."
   ]
  },
  {
   "cell_type": "markdown",
   "metadata": {
    "nbpresent": {
     "id": "5684b445-be78-4b49-bce5-24064e7fac84"
    }
   },
   "source": [
    "Method |\tUse\t| Explanation\n",
    "-------|--------|-------------\n",
    "open   | open(filename,'r')\t| Open a file called filename and use it for reading. This will return a reference to a file object.\n",
    "open   | open(filename,'w') | Open a file called filename and use it for writing. This will also return a reference to a file object.\n",
    "close  | filevariable.close()|\tFile use is complete."
   ]
  },
  {
   "cell_type": "markdown",
   "metadata": {
    "nbpresent": {
     "id": "ab3d071a-2412-4909-b522-f8f3c5eb384d"
    }
   },
   "source": [
    "## Reading & writing methods\n",
    "\n",
    "Method \t| Use\t| Explanation\n",
    "------------|-------|-------------\n",
    "write\t| filevar.write(astring)\t| Add astring to the end of the file. filevar must refer to a file that has been opened for writing.\n",
    "read(n)\t| filevar.read()\t| Reads and returns a string of n characters, or the entire file as a single string if n is not provided.\n",
    "readline(n)\t| filevar.readline()\t| Returns the next line of the file with all text up to and including the newline character. If n is provided as a parameter than only n characters will be returned if the line is longer than n.\n",
    "readlines(n)\t| filevar.readlines()\t| Returns a list of strings, each representing a single line of the file. If n is not provided then all lines of the file are returned. If n is provided then n characters are read but n is rounded up so that an entire line is returned."
   ]
  },
  {
   "cell_type": "markdown",
   "metadata": {
    "nbpresent": {
     "id": "68c0009c-b834-46ef-94c2-dc657ed4faf7"
    }
   },
   "source": [
    "## Writing to our first file"
   ]
  },
  {
   "cell_type": "code",
   "execution_count": null,
   "metadata": {
    "collapsed": true,
    "nbpresent": {
     "id": "0dc9465d-0ba8-4063-8e50-70f0c3197107"
    }
   },
   "outputs": [],
   "source": [
    "myfile = open(\"test.txt\", \"w\")\n",
    "myfile.write(\"My first file written from Python\\n\")\n",
    "myfile.write(\"---------------------------------\\n\")\n",
    "myfile.write(\"Hello, world!\\n\")\n",
    "myfile.close()"
   ]
  },
  {
   "cell_type": "code",
   "execution_count": null,
   "metadata": {
    "collapsed": false,
    "nbpresent": {
     "id": "e76f2fce-12a5-4a5a-96ca-1f8cd1c92fd7"
    }
   },
   "outputs": [],
   "source": [
    "%%bash\n",
    "ls\n",
    "cat test.txt"
   ]
  },
  {
   "cell_type": "markdown",
   "metadata": {
    "nbpresent": {
     "id": "275ea8e7-7c38-429b-aafc-b5bf3319f973"
    }
   },
   "source": [
    "## Finding a File on your Disk\n",
    "\n",
    "```python\n",
    "myfile = open(\"test.txt\", \"w\")\n",
    "\n",
    "myfile = open(\"subdir/test.txt\", \"w\")\n",
    "\n",
    "myfile = open(\"../../chap2/test.txt\", \"w\")\n",
    "```"
   ]
  },
  {
   "cell_type": "markdown",
   "metadata": {
    "nbpresent": {
     "id": "de3e955b-0944-409e-b994-3c9a0d3022f6"
    }
   },
   "source": [
    "## Reading a File\n",
    "\n",
    "Suppose we have a text file called `qbdata.txt` that contains the following data representing statistics about NFL quarterbacks.\n",
    "\n",
    "data format:\n",
    "\n",
    "`First Name, Last Name, Position, Team, Completions, Attempts, Yards, TDs, Ints, Comp%, Rating`"
   ]
  },
  {
   "cell_type": "markdown",
   "metadata": {
    "nbpresent": {
     "id": "dbc462f9-fbc7-4a9e-aa2e-b797e3e7d6c2"
    }
   },
   "source": [
    "```\n",
    "Colt McCoy QB CLE  135 222 1576    6   9   60.8%   74.5\n",
    "Josh Freeman QB TB 291 474 3451    25  6   61.4%   95.9\n",
    "Michael Vick QB PHI    233 372 3018    21  6   62.6%   100.2\n",
    "Matt Schaub QB HOU 365 574 4370    24  12  63.6%   92.0\n",
    "Philip Rivers QB SD    357 541 4710    30  13  66.0%   101.8\n",
    "Matt Hasselbeck QB SEA 266 444 3001    12  17  59.9%   73.2\n",
    "Jimmy Clausen QB CAR   157 299 1558    3   9   52.5%   58.4\n",
    "Joe Flacco QB BAL  306 489 3622    25  10  62.6%   93.6\n",
    "Kyle Orton QB DEN  293 498 3653    20  9   58.8%   87.5\n",
    "Jason Campbell QB OAK  194 329 2387    13  8   59.0%   84.5\n",
    "Peyton Manning QB IND  450 679 4700    33  17  66.3%   91.9\n",
    "Drew Brees QB NO   448 658 4620    33  22  68.1%   90.9\n",
    "Matt Ryan QB ATL   357 571 3705    28  9   62.5%   91.0\n",
    "Matt Cassel QB KC  262 450 3116    27  7   58.2%   93.0\n",
    "Mark Sanchez QB NYJ    278 507 3291    17  13  54.8%   75.3\n",
    "Brett Favre QB MIN 217 358 2509    11  19  60.6%   69.9\n",
    "David Garrard QB JAC   236 366 2734    23  15  64.5%   90.8\n",
    "Eli Manning QB NYG 339 539 4002    31  25  62.9%   85.3\n",
    "Carson Palmer QB CIN   362 586 3970    26  20  61.8%   82.4\n",
    "Alex Smith QB SF   204 342 2370    14  10  59.6%   82.1\n",
    "Chad Henne QB MIA  301 490 3301    15  19  61.4%   75.4\n",
    "Tony Romo QB DAL   148 213 1605    11  7   69.5%   94.9\n",
    "Jay Cutler QB CHI  261 432 3274    23  16  60.4%   86.3\n",
    "Jon Kitna QB DAL   209 318 2365    16  12  65.7%   88.9\n",
    "Tom Brady QB NE    324 492 3900    36  4   65.9%   111.0\n",
    "Ben Roethlisberger QB PIT  240 389 3200    17  5   61.7%   97.0\n",
    "Kerry Collins QB TEN   160 278 1823    14  8   57.6%   82.2\n",
    "Derek Anderson QB ARI  169 327 2065    7   10  51.7%   65.9\n",
    "Ryan Fitzpatrick QB BUF    255 441 3000    23  15  57.8%   81.8\n",
    "Donovan McNabb QB WAS  275 472 3377    14  15  58.3%   77.1\n",
    "Kevin Kolb QB PHI  115 189 1197    7   7   60.8%   76.1\n",
    "Aaron Rodgers QB GB    312 475 3922    28  11  65.7%   101.2\n",
    "Sam Bradford QB STL    354 590 3512    18  15  60.0%   76.5\n",
    "Shaun Hill QB DET  257 416 2686    16  12  61.8%   81.3\n",
    "\n",
    "\n",
    "\n",
    "\n",
    "\n",
    "\n",
    "\n",
    "```"
   ]
  },
  {
   "cell_type": "markdown",
   "metadata": {
    "nbpresent": {
     "id": "33e96dd6-3df4-41f7-a613-b634419b7674"
    }
   },
   "source": [
    "** Now create qbdata.txt **"
   ]
  },
  {
   "cell_type": "code",
   "execution_count": null,
   "metadata": {
    "collapsed": false,
    "nbpresent": {
     "id": "07ceedd7-ea32-4eb4-92ce-10360b609185"
    }
   },
   "outputs": [],
   "source": [
    "%%bash\n",
    "cat << _EOF > qbdata.txt\n",
    "Colt McCoy QB CLE  135 222 1576    6   9   60.8%   74.5\n",
    "Josh Freeman QB TB 291 474 3451    25  6   61.4%   95.9\n",
    "Michael Vick QB PHI    233 372 3018    21  6   62.6%   100.2\n",
    "Matt Schaub QB HOU 365 574 4370    24  12  63.6%   92.0\n",
    "Philip Rivers QB SD    357 541 4710    30  13  66.0%   101.8\n",
    "Matt Hasselbeck QB SEA 266 444 3001    12  17  59.9%   73.2\n",
    "Jimmy Clausen QB CAR   157 299 1558    3   9   52.5%   58.4\n",
    "Joe Flacco QB BAL  306 489 3622    25  10  62.6%   93.6\n",
    "Kyle Orton QB DEN  293 498 3653    20  9   58.8%   87.5\n",
    "Jason Campbell QB OAK  194 329 2387    13  8   59.0%   84.5\n",
    "Peyton Manning QB IND  450 679 4700    33  17  66.3%   91.9\n",
    "Drew Brees QB NO   448 658 4620    33  22  68.1%   90.9\n",
    "Matt Ryan QB ATL   357 571 3705    28  9   62.5%   91.0\n",
    "Matt Cassel QB KC  262 450 3116    27  7   58.2%   93.0\n",
    "Mark Sanchez QB NYJ    278 507 3291    17  13  54.8%   75.3\n",
    "Brett Favre QB MIN 217 358 2509    11  19  60.6%   69.9\n",
    "David Garrard QB JAC   236 366 2734    23  15  64.5%   90.8\n",
    "Eli Manning QB NYG 339 539 4002    31  25  62.9%   85.3\n",
    "Carson Palmer QB CIN   362 586 3970    26  20  61.8%   82.4\n",
    "Alex Smith QB SF   204 342 2370    14  10  59.6%   82.1\n",
    "Chad Henne QB MIA  301 490 3301    15  19  61.4%   75.4\n",
    "Tony Romo QB DAL   148 213 1605    11  7   69.5%   94.9\n",
    "Jay Cutler QB CHI  261 432 3274    23  16  60.4%   86.3\n",
    "Jon Kitna QB DAL   209 318 2365    16  12  65.7%   88.9\n",
    "Tom Brady QB NE    324 492 3900    36  4   65.9%   111.0\n",
    "Ben Roethlisberger QB PIT  240 389 3200    17  5   61.7%   97.0\n",
    "Kerry Collins QB TEN   160 278 1823    14  8   57.6%   82.2\n",
    "Derek Anderson QB ARI  169 327 2065    7   10  51.7%   65.9\n",
    "Ryan Fitzpatrick QB BUF    255 441 3000    23  15  57.8%   81.8\n",
    "Donovan McNabb QB WAS  275 472 3377    14  15  58.3%   77.1\n",
    "Kevin Kolb QB PHI  115 189 1197    7   7   60.8%   76.1\n",
    "Aaron Rodgers QB GB    312 475 3922    28  11  65.7%   101.2\n",
    "Sam Bradford QB STL    354 590 3512    18  15  60.0%   76.5\n",
    "Shaun Hill QB DET  257 416 2686    16  12  61.8%   81.3\n",
    "_EOF"
   ]
  },
  {
   "cell_type": "markdown",
   "metadata": {
    "nbpresent": {
     "id": "0dca797d-f164-41ba-a255-85465777ab1c"
    }
   },
   "source": [
    "## Iterating over lines in a file"
   ]
  },
  {
   "cell_type": "code",
   "execution_count": null,
   "metadata": {
    "collapsed": false,
    "nbpresent": {
     "id": "dae0e9f1-127e-41d0-aadc-aeed8e27d6ec"
    }
   },
   "outputs": [],
   "source": [
    "qbfile = open(\"qbdata.txt\", \"r\")\n",
    "\n",
    "for aline in qbfile:\n",
    "    values = aline.split()\n",
    "    print('QB ', values[0], values[1], \n",
    "          'had a rating of ', values[10] )\n",
    "\n",
    "qbfile.close()"
   ]
  },
  {
   "cell_type": "markdown",
   "metadata": {
    "nbpresent": {
     "id": "e010c205-1e16-4ddf-bd22-e85d878e5983"
    }
   },
   "source": [
    "## Alternative File Reading Methods"
   ]
  },
  {
   "cell_type": "code",
   "execution_count": null,
   "metadata": {
    "collapsed": false,
    "nbpresent": {
     "id": "4b00440b-9e36-4681-8c56-1195a249908e"
    }
   },
   "outputs": [],
   "source": [
    ">>> infile = open(\"qbdata.txt\", \"r\")\n",
    ">>> aline = infile.readline()\n",
    ">>> print(aline)\n",
    "\n",
    ">>> infile = open(\"qbdata.txt\", \"r\")\n",
    ">>> linelist = infile.readlines()\n",
    ">>> print(len(linelist))\n",
    ">>> print(linelist[0:4])"
   ]
  },
  {
   "cell_type": "code",
   "execution_count": null,
   "metadata": {
    "collapsed": false,
    "nbpresent": {
     "id": "9a87e8df-0fc2-4a69-a617-8025fbfbe362"
    }
   },
   "outputs": [],
   "source": [
    "infile = open(\"qbdata.txt\", \"r\")\n",
    "line = infile.readline()\n",
    "while line:\n",
    "    values = line.split()\n",
    "    print('QB ', values[0], values[1], \n",
    "          'had a rating of ', values[10] )\n",
    "    line = infile.readline()\n",
    "\n",
    "infile.close()"
   ]
  },
  {
   "cell_type": "code",
   "execution_count": null,
   "metadata": {
    "collapsed": false,
    "nbpresent": {
     "id": "c8dd9512-cdaf-4aaa-8016-795025cc0a5a"
    }
   },
   "outputs": [],
   "source": [
    "infile = open(\"qbdata.txt\", \"r\")\n",
    "while True:\n",
    "    line = infile.readline()\n",
    "    if len(line) == 0:   # If there are no more lines\n",
    "        break\n",
    "        \n",
    "    values = line.split()\n",
    "    print('QB ', values[0], values[1], 'had a rating of ', values[10] )\n",
    "\n",
    "infile.close()"
   ]
  },
  {
   "cell_type": "markdown",
   "metadata": {
    "nbpresent": {
     "id": "00709a6d-00b5-45f3-912c-4c61cb40c585"
    }
   },
   "source": [
    "## Turning a file into a list of lines\n",
    "\n",
    "The `readlines` method in reads all the lines and returns a list of the strings.\n",
    "\n",
    "<div class=\"alert alert-danger\">\n",
    "**Alert:** <br>\n",
    "The data file size should be very small so as to be loaded into RAM.\n",
    "</div>"
   ]
  },
  {
   "cell_type": "code",
   "execution_count": null,
   "metadata": {
    "collapsed": false,
    "nbpresent": {
     "id": "6878938a-4ddf-4483-9778-4ed65875673a"
    }
   },
   "outputs": [],
   "source": [
    "infile = open(\"qbdata.txt\", \"r\")\n",
    "lines = infile.readlines()\n",
    "infile.close()\n",
    "\n",
    "for line in lines:\n",
    "    values = line.split()\n",
    "    print('QB ', values[0], values[1], \n",
    "          'had a rating of ', values[10] )"
   ]
  },
  {
   "cell_type": "markdown",
   "metadata": {
    "nbpresent": {
     "id": "eca23645-2fd8-4fcb-84ac-c71c1f641498"
    }
   },
   "source": [
    "## Reading the whole file at once"
   ]
  },
  {
   "cell_type": "code",
   "execution_count": 21,
   "metadata": {
    "collapsed": false,
    "nbpresent": {
     "id": "76ebb79b-9c65-4190-9ea2-d15dfea0fe58"
    }
   },
   "outputs": [
    {
     "name": "stdout",
     "output_type": "stream",
     "text": [
      "There are 374 words in the file.\n"
     ]
    }
   ],
   "source": [
    "infile = open(\"qbdata.txt\", \"r\")\n",
    "content = infile.read()\n",
    "infile.close()\n",
    "\n",
    "words = content.split()\n",
    "print(\"There are {0} words in the file.\".\n",
    "      format(len(words)))"
   ]
  },
  {
   "cell_type": "markdown",
   "metadata": {
    "nbpresent": {
     "id": "9a3daa42-795b-45c1-9211-fe67668aa120"
    }
   },
   "source": [
    "## Writing Text Files\n",
    "\n",
    "One of the most commonly performed data processing tasks is to read data from a file, manipulate it in some way, and then write the resulting data out to a new data file to be used for other purposes later.\n",
    "\n",
    "Now we will save QB Names to a new file."
   ]
  },
  {
   "cell_type": "code",
   "execution_count": null,
   "metadata": {
    "collapsed": false,
    "nbpresent": {
     "id": "ede7f3aa-a46b-4c27-9199-68e88d170d83"
    }
   },
   "outputs": [],
   "source": [
    "infile = open(\"qbdata.txt\", \"r\")\n",
    "aline = infile.readline()\n",
    "while aline:\n",
    "    items = aline.split()\n",
    "    dataline = items[1] + ',' + items[0]\n",
    "    print(dataline)\n",
    "    aline = infile.readline()\n",
    "\n",
    "infile.close()"
   ]
  },
  {
   "cell_type": "code",
   "execution_count": null,
   "metadata": {
    "collapsed": true,
    "nbpresent": {
     "id": "02fb733d-e29c-4e24-82bd-ece5388fb004"
    }
   },
   "outputs": [],
   "source": [
    "infile = open(\"qbdata.txt\", \"r\")\n",
    "outfile = open(\"qbnames.txt\", \"w\")\n",
    "\n",
    "aline = infile.readline()\n",
    "while aline:\n",
    "    items = aline.split()\n",
    "    dataline = items[1] + ',' + items[0]\n",
    "    outfile.write(dataline + '\\n')\n",
    "    aline = infile.readline()\n",
    "\n",
    "infile.close()\n",
    "outfile.close()"
   ]
  },
  {
   "cell_type": "code",
   "execution_count": null,
   "metadata": {
    "collapsed": false,
    "nbpresent": {
     "id": "ee904ab6-df22-41ba-bb6e-a752efa9fb20"
    }
   },
   "outputs": [],
   "source": [
    "%%bash\n",
    "\n",
    "cat qbnames.txt"
   ]
  },
  {
   "cell_type": "markdown",
   "metadata": {
    "nbpresent": {
     "id": "d90ba022-2622-465b-b6d8-ad3e6171db3b"
    }
   },
   "source": [
    "<div class=\"alert alert-info\">\n",
    "**Note:**\n",
    "<br><br>\n",
    "\n",
    "When writing data to files, it is the programmers job to include the newline characters as part of the string if desired.\n",
    "</div>"
   ]
  },
  {
   "cell_type": "markdown",
   "metadata": {
    "nbpresent": {
     "id": "2a5e5102-1d7c-4d2a-9ff7-15c7239e8fe1"
    }
   },
   "source": [
    "## Fetching something from the web"
   ]
  },
  {
   "cell_type": "code",
   "execution_count": null,
   "metadata": {
    "collapsed": false,
    "nbpresent": {
     "id": "ea3ebb69-84f9-4024-b1ed-29b428e0716f"
    }
   },
   "outputs": [],
   "source": [
    "import urllib.request\n",
    "\n",
    "url = \"http://sei.pku.edu.cn/~caodg/course/ic/demos/foobar.py\"\n",
    "destination_filename = \"foobar.py\"\n",
    "\n",
    "urllib.request.urlretrieve(url, destination_filename)"
   ]
  },
  {
   "cell_type": "code",
   "execution_count": null,
   "metadata": {
    "collapsed": false,
    "nbpresent": {
     "id": "e96a9fe5-d920-4c9d-a78f-81ad12404b24"
    }
   },
   "outputs": [],
   "source": [
    "%%bash\n",
    "ls "
   ]
  },
  {
   "cell_type": "markdown",
   "metadata": {
    "nbpresent": {
     "id": "5209cf5d-a840-437e-9e93-f71a02446741"
    }
   },
   "source": [
    "## A slightly different example\n",
    "\n",
    "Rather than save the web resource to our local disk, we read it directly into a string, and return it:"
   ]
  },
  {
   "cell_type": "code",
   "execution_count": null,
   "metadata": {
    "collapsed": false,
    "nbpresent": {
     "id": "4637b747-2073-4211-9972-2437a7fb836a"
    }
   },
   "outputs": [],
   "source": [
    "import urllib.request\n",
    "\n",
    "def retrieve_page(url):\n",
    "    \"\"\" Retrieve the contents(bytes) of a web page.\n",
    "        The contents is decoded to a string before returning it.\n",
    "    \"\"\"\n",
    "    my_socket = urllib.request.urlopen(url)\n",
    "    dta = my_socket.read().decode('ascii')\n",
    "    my_socket.close()\n",
    "    return dta\n",
    "\n",
    "the_text = retrieve_page(\"http://sei.pku.edu.cn/~caodg/course/ic/demos/foobar.py\")\n",
    "print(the_text)"
   ]
  },
  {
   "cell_type": "markdown",
   "metadata": {
    "nbpresent": {
     "id": "f58739e9-1f7c-473d-9fb9-773b626170cb"
    }
   },
   "source": [
    "## Openning an non-existent file"
   ]
  },
  {
   "cell_type": "code",
   "execution_count": null,
   "metadata": {
    "collapsed": false,
    "nbpresent": {
     "id": "b5b369e2-360b-44e1-9cdd-cdd6c7848330"
    }
   },
   "outputs": [],
   "source": [
    "file = open('notexistfile')"
   ]
  },
  {
   "cell_type": "markdown",
   "metadata": {
    "nbpresent": {
     "id": "1a6ac48f-c571-4f89-882b-4186abd15ee7"
    }
   },
   "source": [
    "## Other exceptions"
   ]
  },
  {
   "cell_type": "code",
   "execution_count": null,
   "metadata": {
    "collapsed": false,
    "nbpresent": {
     "id": "acbe5840-b1fb-422c-b1d2-d35b9dbd5b9c"
    }
   },
   "outputs": [],
   "source": [
    "print(55/0)"
   ]
  },
  {
   "cell_type": "code",
   "execution_count": null,
   "metadata": {
    "collapsed": false,
    "nbpresent": {
     "id": "b2d1fd5b-f4a4-4b8d-9cf6-6c0668d7356a"
    }
   },
   "outputs": [],
   "source": [
    "a = []\n",
    "print(a[5])"
   ]
  },
  {
   "cell_type": "code",
   "execution_count": null,
   "metadata": {
    "collapsed": false,
    "nbpresent": {
     "id": "d6b17fa2-9bff-436c-9105-2b33cd7e73fe"
    }
   },
   "outputs": [],
   "source": [
    "'a'[0] = 'b'"
   ]
  },
  {
   "cell_type": "markdown",
   "metadata": {
    "nbpresent": {
     "id": "46bfc9c7-82f3-43d0-b4fa-42662ebabb32"
    }
   },
   "source": [
    "## Handle exceptions\n",
    "\n",
    "Sometimes we want to execute an operation that might cause an exception, but we don’t want the program to stop. We can handle the exception using the `try` statement to “wrap” a region of code."
   ]
  },
  {
   "cell_type": "code",
   "execution_count": null,
   "metadata": {
    "collapsed": false,
    "nbpresent": {
     "id": "830cce82-0651-4a54-b665-ccec98271f29"
    }
   },
   "outputs": [],
   "source": [
    "filename = input(\"Enter a file name: \")\n",
    "try:\n",
    "    f = open(filename, \"r\")\n",
    "except:\n",
    "    print(\"There is no file named\", filename)"
   ]
  },
  {
   "cell_type": "code",
   "execution_count": null,
   "metadata": {
    "collapsed": false,
    "nbpresent": {
     "id": "e2fe62fa-4523-47f2-8109-1fc3fb0fde42"
    }
   },
   "outputs": [],
   "source": [
    "filename = input(\"Enter a file name: \")\n",
    "try:\n",
    "    f = open(filename, \"r\")\n",
    "except Exception: # general exception\n",
    "    print(\"There is no file named\", filename)"
   ]
  },
  {
   "cell_type": "markdown",
   "metadata": {
    "nbpresent": {
     "id": "b24df91c-07e5-4da4-a82d-425dc9b0243a"
    }
   },
   "source": [
    "** handle selected exceptions **"
   ]
  },
  {
   "cell_type": "code",
   "execution_count": null,
   "metadata": {
    "collapsed": false,
    "nbpresent": {
     "id": "116cadcd-ffce-4005-ad9e-3728ffd13c30"
    }
   },
   "outputs": [],
   "source": [
    "while True:\n",
    "    try:\n",
    "        x = int(input(\"Please enter a number: \"))\n",
    "        break\n",
    "    except ValueError:\n",
    "        print(\"Oops!  That was no valid number.  Try again...\")"
   ]
  },
  {
   "cell_type": "code",
   "execution_count": null,
   "metadata": {
    "collapsed": false,
    "nbpresent": {
     "id": "ab06b41c-088d-4c22-b68d-24270225cb99"
    }
   },
   "outputs": [],
   "source": [
    "while True:\n",
    "    try:\n",
    "        x = int(input(\"Please enter a number: \"))\n",
    "        break\n",
    "    except ValueError:\n",
    "        print(\"Oops!  That was no valid number.  Try again...\")\n",
    "    except KeyboardInterrupt:\n",
    "        print(\"Oops!  Keyboard Interrupted\")"
   ]
  },
  {
   "cell_type": "code",
   "execution_count": null,
   "metadata": {
    "collapsed": false,
    "nbpresent": {
     "id": "f2014e19-7068-471c-9aee-d66bb5e157df"
    }
   },
   "outputs": [],
   "source": [
    "import sys\n",
    "\n",
    "try:\n",
    "    f = open('foobar.py')\n",
    "    s = f.readline()\n",
    "    i = int(s.strip())\n",
    "except OSError as err:\n",
    "    print(\"OS error: {0}\".format(err))\n",
    "except ValueError as err:\n",
    "    print(\"Could not convert data to an integer: {0}\".format(err))\n",
    "except:\n",
    "    print(\"Unexpected error:\", sys.exc_info()[0])\n",
    "    raise"
   ]
  },
  {
   "cell_type": "markdown",
   "metadata": {
    "nbpresent": {
     "id": "6606f47f-b43a-4450-aeb8-3829befecec3"
    }
   },
   "source": [
    "** `else` clause **\n",
    "\n",
    "The `try ... except` statement has an optional `else` clause, which, when present, must follow all `except` clauses.\n",
    "\n",
    "It is useful for code that must be executed if the `try` clause does not raise an exception."
   ]
  },
  {
   "cell_type": "code",
   "execution_count": null,
   "metadata": {
    "collapsed": false,
    "nbpresent": {
     "id": "741edae1-2f9c-4ffb-ac33-b47b2808239e"
    }
   },
   "outputs": [],
   "source": [
    "filename = input(\"Enter a file name: \")\n",
    "try:\n",
    "    f = open(filename, \"r\")\n",
    "except:\n",
    "    print(\"There is no file named\", filename)\n",
    "else:\n",
    "    print(filename, 'has', len(f.readlines()), 'lines')\n",
    "    f.close()"
   ]
  },
  {
   "cell_type": "markdown",
   "metadata": {
    "nbpresent": {
     "id": "0295ab74-4975-4ad9-8576-f3da479b064a"
    }
   },
   "source": [
    "** The `finally` clause of the `try` statement **\n",
    "\n",
    "A common programming pattern is to grab a resource of some kind — e.g. we may open a file for writing. Then we perform some computation which may raise an exception, or may work without any problems.\n",
    "\n",
    "Whatever happens, we want to “clean up” the resources we grabbed — e.g. close the file. \n",
    "\n",
    "The `finally` clause of the `try` statement is the way to do just this."
   ]
  },
  {
   "cell_type": "code",
   "execution_count": null,
   "metadata": {
    "collapsed": false,
    "nbpresent": {
     "id": "45befdd5-78d1-4d87-9ebd-e14f579b2e46"
    }
   },
   "outputs": [],
   "source": [
    "def divide(x, y):\n",
    "    try:\n",
    "        result = x / y\n",
    "    except ZeroDivisionError:\n",
    "        print(\"division by zero!\")\n",
    "    else:\n",
    "        print(\"result is\", result)\n",
    "    finally:\n",
    "        print(\"executing finally clause\")\n",
    "\n",
    "divide(10,0)\n",
    "divide(10,1)"
   ]
  },
  {
   "cell_type": "markdown",
   "metadata": {
    "nbpresent": {
     "id": "c6e5f9b2-166a-40ca-a97d-107e1514c056"
    }
   },
   "source": [
    "** Correct way to open a file, looks dirty **\n",
    "```python\n",
    "try:\n",
    "    f = open('xxx')\n",
    "except:\n",
    "    do something\n",
    "else:   \n",
    "    try:\n",
    "        do something\n",
    "    except:\n",
    "        do something\n",
    "    finally:\n",
    "        f.close()\n",
    "```"
   ]
  },
  {
   "cell_type": "markdown",
   "metadata": {
    "nbpresent": {
     "id": "f0e292a7-6572-413d-89ee-30dc539f7ddf"
    }
   },
   "source": [
    "## `with` statement\n",
    "\n",
    "The elegant way to open a file, do something, then automatically close the file:\n",
    "\n",
    "```python\n",
    "try:\n",
    "    with open( \"data.txt\" ) as f :\n",
    "        data = f.read()\n",
    "        do something \n",
    "except Exception as err :\n",
    "    print(\"error: {0}\".format(err))\n",
    "```"
   ]
  },
  {
   "cell_type": "code",
   "execution_count": null,
   "metadata": {
    "collapsed": false,
    "nbpresent": {
     "id": "27e1be40-7c9a-4eac-836c-1dd6cc579c09"
    }
   },
   "outputs": [],
   "source": [
    "try:\n",
    "    with open( \"foobar.py\" ) as f :\n",
    "        s = f.readline()\n",
    "        i = int(s.strip())\n",
    "except OSError as err :\n",
    "    print(\"OS error: {0}\".format(err))\n",
    "except Exception as err:\n",
    "    print(err)"
   ]
  },
  {
   "cell_type": "markdown",
   "metadata": {},
   "source": [
    "## Glossary\n",
    "\n",
    "** open **\n",
    "\n",
    "You must open a file before you can read its contents.\n",
    "\n",
    "** close **\n",
    "\n",
    "When you are done with a file, you should close it.\n",
    "\n",
    "** read **\n",
    "\n",
    "Will read the entire contents of a file as a string. This is often used in an assignment statement so that a variable can reference the contents of the file.\n",
    "\n",
    "** readline **\n",
    "\n",
    "Will read a single line from the file, up to and including the first instance of the newline character.\n",
    "\n",
    "** readlines **\n",
    "\n",
    "Will read the entire contents of a file into a list where each line of the file is a string and is an element in the list.\n",
    "\n",
    "** write **\n",
    "\n",
    "Will add characters to the end of a file that has been opened for writing.\n",
    "\n",
    "** exception **\n",
    "\n",
    "An error that occurs at runtime.\n",
    "\n",
    "** handle an exception **\n",
    "\n",
    "To prevent an exception from causing our program to crash, by wrapping the block of code in a try ... except construct."
   ]
  },
  {
   "cell_type": "code",
   "execution_count": null,
   "metadata": {
    "collapsed": true
   },
   "outputs": [],
   "source": []
  }
 ],
 "metadata": {
  "anaconda-cloud": {},
  "kernelspec": {
   "display_name": "Python [default]",
   "language": "python",
   "name": "python3"
  },
  "language_info": {
   "codemirror_mode": {
    "name": "ipython",
    "version": 3
   },
   "file_extension": ".py",
   "mimetype": "text/x-python",
   "name": "python",
   "nbconvert_exporter": "python",
   "pygments_lexer": "ipython3",
   "version": "3.5.2"
  },
  "nbpresent": {
   "slides": {
    "01713532-9d30-455f-b4c4-da4b56dd30df": {
     "id": "01713532-9d30-455f-b4c4-da4b56dd30df",
     "prev": "a9534005-9ed0-41cb-afe9-dcb2132acbe8",
     "regions": {
      "e1ae3936-4281-4f86-8723-4a9e1f929e67": {
       "attrs": {
        "height": 0.8,
        "width": 0.8,
        "x": 0.1,
        "y": 0.1
       },
       "content": {
        "cell": "e96a9fe5-d920-4c9d-a78f-81ad12404b24",
        "part": "whole"
       },
       "id": "e1ae3936-4281-4f86-8723-4a9e1f929e67"
      }
     }
    },
    "0c9573a0-0fe4-4cc9-b2ee-377e6f46616c": {
     "id": "0c9573a0-0fe4-4cc9-b2ee-377e6f46616c",
     "prev": "58ec252a-c8f4-448c-a52a-218f755b66a6",
     "regions": {
      "82690147-e9e1-4669-b676-b2216c2d48a4": {
       "attrs": {
        "height": 0.8,
        "width": 0.8,
        "x": 0.1,
        "y": 0.1
       },
       "content": {
        "cell": "f0e292a7-6572-413d-89ee-30dc539f7ddf",
        "part": "whole"
       },
       "id": "82690147-e9e1-4669-b676-b2216c2d48a4"
      }
     }
    },
    "104f9bcd-01b9-43df-b07e-a5b68bda9d3f": {
     "id": "104f9bcd-01b9-43df-b07e-a5b68bda9d3f",
     "prev": "133d1161-bd5e-4f4e-8bf1-2b0bcfb23e9b",
     "regions": {
      "c9d1868d-42f3-4a4b-86a3-e6e6e1e5faa9": {
       "attrs": {
        "height": 0.8,
        "width": 0.8,
        "x": 0.1,
        "y": 0.1
       },
       "content": {
        "cell": "9a87e8df-0fc2-4a69-a617-8025fbfbe362",
        "part": "whole"
       },
       "id": "c9d1868d-42f3-4a4b-86a3-e6e6e1e5faa9"
      }
     }
    },
    "10cafaee-f073-47d6-bcec-d5882b0253de": {
     "id": "10cafaee-f073-47d6-bcec-d5882b0253de",
     "prev": "9a255d79-c862-41c4-9d24-179a50adfe65",
     "regions": {
      "fe7531eb-b683-4ce8-9211-163dc6f88421": {
       "attrs": {
        "height": 0.8,
        "width": 0.8,
        "x": 0.1,
        "y": 0.1
       },
       "content": {
        "cell": "33e96dd6-3df4-41f7-a613-b634419b7674",
        "part": "whole"
       },
       "id": "fe7531eb-b683-4ce8-9211-163dc6f88421"
      }
     }
    },
    "133d1161-bd5e-4f4e-8bf1-2b0bcfb23e9b": {
     "id": "133d1161-bd5e-4f4e-8bf1-2b0bcfb23e9b",
     "prev": "a3972f3c-ba25-4070-bcea-3f31154691ff",
     "regions": {
      "84c011f8-966f-4736-8b33-389e59d1b9b2": {
       "attrs": {
        "height": 0.8,
        "width": 0.8,
        "x": 0.1,
        "y": 0.1
       },
       "content": {
        "cell": "4b00440b-9e36-4681-8c56-1195a249908e",
        "part": "whole"
       },
       "id": "84c011f8-966f-4736-8b33-389e59d1b9b2"
      }
     }
    },
    "134b6b15-c3e8-4115-90bb-b50772ab2f6f": {
     "id": "134b6b15-c3e8-4115-90bb-b50772ab2f6f",
     "prev": "f084c9a8-87fe-4188-8823-75af57f666a5",
     "regions": {
      "44878034-0227-449e-a5d6-4b7e3186bbe3": {
       "attrs": {
        "height": 0.8,
        "width": 0.8,
        "x": 0.1,
        "y": 0.1
       },
       "content": {
        "cell": "f2014e19-7068-471c-9aee-d66bb5e157df",
        "part": "whole"
       },
       "id": "44878034-0227-449e-a5d6-4b7e3186bbe3"
      }
     }
    },
    "1467636c-1b2b-4878-b37b-d7a47ae1c36f": {
     "id": "1467636c-1b2b-4878-b37b-d7a47ae1c36f",
     "prev": "6e2c6b28-95fb-4e50-a1a8-5c063f4e75c6",
     "regions": {
      "a3bfc792-4123-4939-8665-6d966cdddcde": {
       "attrs": {
        "height": 0.8,
        "width": 0.8,
        "x": 0.1,
        "y": 0.1
       },
       "content": {
        "cell": "5684b445-be78-4b49-bce5-24064e7fac84",
        "part": "whole"
       },
       "id": "a3bfc792-4123-4939-8665-6d966cdddcde"
      }
     }
    },
    "194b9863-205f-4ece-89de-b8c2b5176ce3": {
     "id": "194b9863-205f-4ece-89de-b8c2b5176ce3",
     "prev": "919e7129-a3a5-4735-8a39-bd2e3bae1c0c",
     "regions": {
      "7c177a77-4237-4400-9a1b-7a9fc26db173": {
       "attrs": {
        "height": 0.8,
        "width": 0.8,
        "x": 0.1,
        "y": 0.1
       },
       "content": {
        "cell": "4f749dcc-c6bf-44f2-b08c-aeeae905d0b4",
        "part": "whole"
       },
       "id": "7c177a77-4237-4400-9a1b-7a9fc26db173"
      }
     }
    },
    "1e56d6b7-b8d0-4e4c-8c2d-e1b0a4faed0c": {
     "id": "1e56d6b7-b8d0-4e4c-8c2d-e1b0a4faed0c",
     "prev": "478a0c0f-41dc-4a67-a655-0efb31a0b5ed",
     "regions": {
      "203b2fc1-44f7-4255-8096-3f8141272226": {
       "attrs": {
        "height": 0.8,
        "width": 0.8,
        "x": 0.1,
        "y": 0.1
       },
       "content": {
        "cell": "00709a6d-00b5-45f3-912c-4c61cb40c585",
        "part": "whole"
       },
       "id": "203b2fc1-44f7-4255-8096-3f8141272226"
      }
     }
    },
    "210db56c-1023-4bcc-8bfb-77a1ede300c0": {
     "id": "210db56c-1023-4bcc-8bfb-77a1ede300c0",
     "prev": null,
     "regions": {
      "c4f06694-c413-4da3-a7ee-fc29a8606501": {
       "attrs": {
        "height": 0.8,
        "width": 0.8,
        "x": 0.1,
        "y": 0.1
       },
       "content": {
        "cell": "a0fcaa46-29d7-4329-80c8-fbcd1f6da745",
        "part": "whole"
       },
       "id": "c4f06694-c413-4da3-a7ee-fc29a8606501"
      }
     }
    },
    "21d4158a-b967-4506-a80a-0b2e22227bf7": {
     "id": "21d4158a-b967-4506-a80a-0b2e22227bf7",
     "prev": "fc31259c-298b-4dcf-9a87-cff3354d4c42",
     "regions": {
      "4e52a350-6b4f-4dda-b363-b9ee969df9fc": {
       "attrs": {
        "height": 0.8,
        "width": 0.8,
        "x": 0.1,
        "y": 0.1
       },
       "content": {
        "cell": "b5b369e2-360b-44e1-9cdd-cdd6c7848330",
        "part": "whole"
       },
       "id": "4e52a350-6b4f-4dda-b363-b9ee969df9fc"
      }
     }
    },
    "34f2f392-33b5-4935-8946-3ca334c919d3": {
     "id": "34f2f392-33b5-4935-8946-3ca334c919d3",
     "prev": "5b78ea43-1ef1-4377-9150-d6f4fe2d7b8b",
     "regions": {
      "f07b1416-a540-48b1-81a9-f7ae6f4f53dd": {
       "attrs": {
        "height": 0.8,
        "width": 0.8,
        "x": 0.1,
        "y": 0.1
       },
       "content": {
        "cell": "d6b17fa2-9bff-436c-9105-2b33cd7e73fe",
        "part": "whole"
       },
       "id": "f07b1416-a540-48b1-81a9-f7ae6f4f53dd"
      }
     }
    },
    "360de3e0-d012-4177-bc23-97c1ebee3d94": {
     "id": "360de3e0-d012-4177-bc23-97c1ebee3d94",
     "prev": "7c99699c-845f-434f-ae99-43f1587f2b6e",
     "regions": {
      "33f424ae-fcbf-4885-8c0e-a344d4cf761d": {
       "attrs": {
        "height": 0.8,
        "width": 0.8,
        "x": 0.1,
        "y": 0.1
       },
       "content": {
        "cell": "2a5e5102-1d7c-4d2a-9ff7-15c7239e8fe1",
        "part": "whole"
       },
       "id": "33f424ae-fcbf-4885-8c0e-a344d4cf761d"
      }
     }
    },
    "383548da-9afe-4ccd-bbd7-4c113599f158": {
     "id": "383548da-9afe-4ccd-bbd7-4c113599f158",
     "prev": "34f2f392-33b5-4935-8946-3ca334c919d3",
     "regions": {
      "9abb0712-b6a7-4270-831b-427388e45eaf": {
       "attrs": {
        "height": 0.8,
        "width": 0.8,
        "x": 0.1,
        "y": 0.1
       },
       "content": {
        "cell": "46bfc9c7-82f3-43d0-b4fa-42662ebabb32",
        "part": "whole"
       },
       "id": "9abb0712-b6a7-4270-831b-427388e45eaf"
      }
     }
    },
    "3a7a265c-9cbe-492a-98b3-29caed8c359a": {
     "id": "3a7a265c-9cbe-492a-98b3-29caed8c359a",
     "prev": "5d9432a0-ad1b-4087-9bee-699acc283a57",
     "regions": {
      "76cfe238-39fe-48e4-958d-52f1eb67e457": {
       "attrs": {
        "height": 0.8,
        "width": 0.8,
        "x": 0.1,
        "y": 0.1
       },
       "content": {
        "cell": "0295ab74-4975-4ad9-8576-f3da479b064a",
        "part": "whole"
       },
       "id": "76cfe238-39fe-48e4-958d-52f1eb67e457"
      }
     }
    },
    "3a839c9e-0efe-4636-a246-7df91836195d": {
     "id": "3a839c9e-0efe-4636-a246-7df91836195d",
     "prev": "7a7d1672-9b0d-4f30-9c30-12b1d3ecc7b3",
     "regions": {
      "a0e77d20-e0c4-416b-93fa-46191960069b": {
       "attrs": {
        "height": 0.8,
        "width": 0.8,
        "x": 0.1,
        "y": 0.1
       },
       "content": {
        "cell": "e76f2fce-12a5-4a5a-96ca-1f8cd1c92fd7",
        "part": "whole"
       },
       "id": "a0e77d20-e0c4-416b-93fa-46191960069b"
      }
     }
    },
    "4251612d-dbc6-4f38-92c4-b05fe4a0144b": {
     "id": "4251612d-dbc6-4f38-92c4-b05fe4a0144b",
     "prev": "f2f6ca95-5f4b-4c34-9994-a00d2a934632",
     "regions": {
      "460077eb-f932-42a8-97aa-6d0c8d4147d5": {
       "attrs": {
        "height": 0.8,
        "width": 0.8,
        "x": 0.1,
        "y": 0.1
       },
       "content": {
        "cell": "ede7f3aa-a46b-4c27-9199-68e88d170d83",
        "part": "whole"
       },
       "id": "460077eb-f932-42a8-97aa-6d0c8d4147d5"
      }
     }
    },
    "478a0c0f-41dc-4a67-a655-0efb31a0b5ed": {
     "id": "478a0c0f-41dc-4a67-a655-0efb31a0b5ed",
     "prev": "104f9bcd-01b9-43df-b07e-a5b68bda9d3f",
     "regions": {
      "8c90f91d-d364-4a76-810c-f6fb6d7d4b02": {
       "attrs": {
        "height": 0.8,
        "width": 0.8,
        "x": 0.1,
        "y": 0.1
       },
       "content": {
        "cell": "c8dd9512-cdaf-4aaa-8016-795025cc0a5a",
        "part": "whole"
       },
       "id": "8c90f91d-d364-4a76-810c-f6fb6d7d4b02"
      }
     }
    },
    "516da9f9-f2d0-422c-8488-a919e01fef6a": {
     "id": "516da9f9-f2d0-422c-8488-a919e01fef6a",
     "prev": "210db56c-1023-4bcc-8bfb-77a1ede300c0",
     "regions": {
      "359a1298-8d11-4184-99b6-573eea09efb6": {
       "attrs": {
        "height": 0.8,
        "width": 0.8,
        "x": 0.1,
        "y": 0.1
       },
       "content": {
        "cell": "a04f8282-250a-4e1e-9646-032fff518027",
        "part": "whole"
       },
       "id": "359a1298-8d11-4184-99b6-573eea09efb6"
      }
     }
    },
    "55ca5e41-fed1-461c-b36d-99acf966b8a2": {
     "id": "55ca5e41-fed1-461c-b36d-99acf966b8a2",
     "prev": "c98a0a6c-c2d9-49a2-8646-c55a4e44da30",
     "regions": {
      "b713ccbe-4a24-4dee-9633-cd5596d800c9": {
       "attrs": {
        "height": 0.8,
        "width": 0.8,
        "x": 0.1,
        "y": 0.1
       },
       "content": {
        "cell": "4637b747-2073-4211-9972-2437a7fb836a",
        "part": "whole"
       },
       "id": "b713ccbe-4a24-4dee-9633-cd5596d800c9"
      }
     }
    },
    "58ec252a-c8f4-448c-a52a-218f755b66a6": {
     "id": "58ec252a-c8f4-448c-a52a-218f755b66a6",
     "prev": "c35baaa9-6035-451a-951a-9acaa710ce54",
     "regions": {
      "f68fc59f-b7cf-4708-98cf-6256c1bf2628": {
       "attrs": {
        "height": 0.8,
        "width": 0.8,
        "x": 0.1,
        "y": 0.1
       },
       "content": {
        "cell": "c6e5f9b2-166a-40ca-a97d-107e1514c056",
        "part": "whole"
       },
       "id": "f68fc59f-b7cf-4708-98cf-6256c1bf2628"
      }
     }
    },
    "5b78ea43-1ef1-4377-9150-d6f4fe2d7b8b": {
     "id": "5b78ea43-1ef1-4377-9150-d6f4fe2d7b8b",
     "prev": "b90db9d8-61b9-49bc-a85d-e8887b028f88",
     "regions": {
      "665c0b82-c93f-403b-9bfb-0152bf0ddd89": {
       "attrs": {
        "height": 0.8,
        "width": 0.8,
        "x": 0.1,
        "y": 0.1
       },
       "content": {
        "cell": "b2d1fd5b-f4a4-4b8d-9cf6-6c0668d7356a",
        "part": "whole"
       },
       "id": "665c0b82-c93f-403b-9bfb-0152bf0ddd89"
      }
     }
    },
    "5d9432a0-ad1b-4087-9bee-699acc283a57": {
     "id": "5d9432a0-ad1b-4087-9bee-699acc283a57",
     "prev": "5e51022c-6873-4a94-978f-ca5af6e52f14",
     "regions": {
      "e9c4eaf8-f5a2-4210-a4b1-83f56f6403bb": {
       "attrs": {
        "height": 0.8,
        "width": 0.8,
        "x": 0.1,
        "y": 0.1
       },
       "content": {
        "cell": "741edae1-2f9c-4ffb-ac33-b47b2808239e",
        "part": "whole"
       },
       "id": "e9c4eaf8-f5a2-4210-a4b1-83f56f6403bb"
      }
     }
    },
    "5e51022c-6873-4a94-978f-ca5af6e52f14": {
     "id": "5e51022c-6873-4a94-978f-ca5af6e52f14",
     "prev": "134b6b15-c3e8-4115-90bb-b50772ab2f6f",
     "regions": {
      "12cda537-fd91-48ee-aebe-67b7a3f92b84": {
       "attrs": {
        "height": 0.8,
        "width": 0.8,
        "x": 0.1,
        "y": 0.1
       },
       "content": {
        "cell": "6606f47f-b43a-4450-aeb8-3829befecec3",
        "part": "whole"
       },
       "id": "12cda537-fd91-48ee-aebe-67b7a3f92b84"
      }
     }
    },
    "6e2c6b28-95fb-4e50-a1a8-5c063f4e75c6": {
     "id": "6e2c6b28-95fb-4e50-a1a8-5c063f4e75c6",
     "prev": "516da9f9-f2d0-422c-8488-a919e01fef6a",
     "regions": {
      "d34e7640-3316-4256-bb81-e2668b971ac3": {
       "attrs": {
        "height": 0.8,
        "width": 0.8,
        "x": 0.1,
        "y": 0.1
       },
       "content": {
        "cell": "55c8e9e4-80b7-494d-87fa-0c1028dda58a",
        "part": "whole"
       },
       "id": "d34e7640-3316-4256-bb81-e2668b971ac3"
      }
     }
    },
    "74507520-bc61-4bbb-87ad-8c86bbaaeecb": {
     "id": "74507520-bc61-4bbb-87ad-8c86bbaaeecb",
     "prev": "b7043d4a-a28e-4fb0-bca0-eae2ab7b3d8a",
     "regions": {
      "1fac36ea-3cb9-4275-a49f-2db9c2479e9f": {
       "attrs": {
        "height": 0.8,
        "width": 0.8,
        "x": 0.1,
        "y": 0.1
       },
       "content": {
        "cell": "76ebb79b-9c65-4190-9ea2-d15dfea0fe58",
        "part": "whole"
       },
       "id": "1fac36ea-3cb9-4275-a49f-2db9c2479e9f"
      }
     }
    },
    "763f5018-398a-4b37-9b60-a2998bed35d5": {
     "id": "763f5018-398a-4b37-9b60-a2998bed35d5",
     "prev": "1e56d6b7-b8d0-4e4c-8c2d-e1b0a4faed0c",
     "regions": {
      "99403fee-9a15-4a97-9818-7c26765e24b5": {
       "attrs": {
        "height": 0.8,
        "width": 0.8,
        "x": 0.1,
        "y": 0.1
       },
       "content": {
        "cell": "6878938a-4ddf-4483-9778-4ed65875673a",
        "part": "whole"
       },
       "id": "99403fee-9a15-4a97-9818-7c26765e24b5"
      }
     }
    },
    "7a7d1672-9b0d-4f30-9c30-12b1d3ecc7b3": {
     "id": "7a7d1672-9b0d-4f30-9c30-12b1d3ecc7b3",
     "prev": "bf9f9c75-0591-4060-a3af-54291ba14a05",
     "regions": {
      "fcc74903-b68b-4ab5-b029-658e8e0fba63": {
       "attrs": {
        "height": 0.8,
        "width": 0.8,
        "x": 0.1,
        "y": 0.1
       },
       "content": {
        "cell": "0dc9465d-0ba8-4063-8e50-70f0c3197107",
        "part": "whole"
       },
       "id": "fcc74903-b68b-4ab5-b029-658e8e0fba63"
      }
     }
    },
    "7c677c70-c38b-4c93-8da7-f0a31016a142": {
     "id": "7c677c70-c38b-4c93-8da7-f0a31016a142",
     "prev": "bd01d1da-3b90-49d8-be00-2a7ac3926c42",
     "regions": {
      "23ad117b-7979-4bb8-9fc4-85b3d765985d": {
       "attrs": {
        "height": 0.8,
        "width": 0.8,
        "x": 0.1,
        "y": 0.1
       },
       "content": {
        "cell": "e2fe62fa-4523-47f2-8109-1fc3fb0fde42",
        "part": "whole"
       },
       "id": "23ad117b-7979-4bb8-9fc4-85b3d765985d"
      }
     }
    },
    "7c99699c-845f-434f-ae99-43f1587f2b6e": {
     "id": "7c99699c-845f-434f-ae99-43f1587f2b6e",
     "prev": "f516752c-5f34-4e05-bea4-6770a9c3428b",
     "regions": {
      "63062bf6-44fb-404c-82c6-4f8cd04fb3ea": {
       "attrs": {
        "height": 0.8,
        "width": 0.8,
        "x": 0.1,
        "y": 0.1
       },
       "content": {
        "cell": "d90ba022-2622-465b-b6d8-ad3e6171db3b",
        "part": "whole"
       },
       "id": "63062bf6-44fb-404c-82c6-4f8cd04fb3ea"
      }
     }
    },
    "919e7129-a3a5-4735-8a39-bd2e3bae1c0c": {
     "id": "919e7129-a3a5-4735-8a39-bd2e3bae1c0c",
     "prev": "0c9573a0-0fe4-4cc9-b2ee-377e6f46616c",
     "regions": {
      "c7e4ffb3-d58b-44e0-aed3-cf335296ab3f": {
       "attrs": {
        "height": 0.8,
        "width": 0.8,
        "x": 0.1,
        "y": 0.1
       },
       "content": {
        "cell": "27e1be40-7c9a-4eac-836c-1dd6cc579c09",
        "part": "whole"
       },
       "id": "c7e4ffb3-d58b-44e0-aed3-cf335296ab3f"
      }
     }
    },
    "932c2c73-a54a-475b-9b18-69e70c0a64ea": {
     "id": "932c2c73-a54a-475b-9b18-69e70c0a64ea",
     "prev": "b4360e42-274e-4232-96c0-46f2571c54a5",
     "regions": {
      "1b8aabd2-a445-4736-8cd4-5992620a484a": {
       "attrs": {
        "height": 0.8,
        "width": 0.8,
        "x": 0.1,
        "y": 0.1
       },
       "content": {
        "cell": "dae0e9f1-127e-41d0-aadc-aeed8e27d6ec",
        "part": "whole"
       },
       "id": "1b8aabd2-a445-4736-8cd4-5992620a484a"
      }
     }
    },
    "9a255d79-c862-41c4-9d24-179a50adfe65": {
     "id": "9a255d79-c862-41c4-9d24-179a50adfe65",
     "prev": "c11e7e07-e383-4e94-85d0-7bfe9720e898",
     "regions": {
      "0b805419-f505-42c9-a9c6-924316fc4a7a": {
       "attrs": {
        "height": 0.9791971612330895,
        "width": 1.0824351154331338,
        "x": -0.005788408846307292,
        "y": 0.011288534043025081
       },
       "content": {
        "cell": "dbc462f9-fbc7-4a9e-aa2e-b797e3e7d6c2",
        "part": "whole"
       },
       "id": "0b805419-f505-42c9-a9c6-924316fc4a7a"
      }
     }
    },
    "a1b2bf72-3d09-4bf9-8490-5125b6b62cca": {
     "id": "a1b2bf72-3d09-4bf9-8490-5125b6b62cca",
     "prev": "7c677c70-c38b-4c93-8da7-f0a31016a142",
     "regions": {
      "fbcad078-f8fa-4e3d-acea-8f29aa6a85b6": {
       "attrs": {
        "height": 0.8,
        "width": 0.8,
        "x": 0.1,
        "y": 0.1
       },
       "content": {
        "cell": "b24df91c-07e5-4da4-a82d-425dc9b0243a",
        "part": "whole"
       },
       "id": "fbcad078-f8fa-4e3d-acea-8f29aa6a85b6"
      }
     }
    },
    "a3972f3c-ba25-4070-bcea-3f31154691ff": {
     "id": "a3972f3c-ba25-4070-bcea-3f31154691ff",
     "prev": "932c2c73-a54a-475b-9b18-69e70c0a64ea",
     "regions": {
      "15b6ab29-57cb-42bc-8ecc-21e724949e46": {
       "attrs": {
        "height": 0.8,
        "width": 0.8,
        "x": 0.1,
        "y": 0.1
       },
       "content": {
        "cell": "e010c205-1e16-4ddf-bd22-e85d878e5983",
        "part": "whole"
       },
       "id": "15b6ab29-57cb-42bc-8ecc-21e724949e46"
      }
     }
    },
    "a8656926-1b36-4982-80b2-a95368405aad": {
     "id": "a8656926-1b36-4982-80b2-a95368405aad",
     "prev": "a1b2bf72-3d09-4bf9-8490-5125b6b62cca",
     "regions": {
      "c5b796d9-2463-45c6-b106-258e0af53732": {
       "attrs": {
        "height": 0.8,
        "width": 0.8,
        "x": 0.1,
        "y": 0.1
       },
       "content": {
        "cell": "116cadcd-ffce-4005-ad9e-3728ffd13c30",
        "part": "whole"
       },
       "id": "c5b796d9-2463-45c6-b106-258e0af53732"
      }
     }
    },
    "a9534005-9ed0-41cb-afe9-dcb2132acbe8": {
     "id": "a9534005-9ed0-41cb-afe9-dcb2132acbe8",
     "prev": "360de3e0-d012-4177-bc23-97c1ebee3d94",
     "regions": {
      "06fa9481-d2fa-41ca-b8ee-5d0636afef25": {
       "attrs": {
        "height": 0.8,
        "width": 0.8,
        "x": 0.1,
        "y": 0.1
       },
       "content": {
        "cell": "ea3ebb69-84f9-4024-b1ed-29b428e0716f",
        "part": "whole"
       },
       "id": "06fa9481-d2fa-41ca-b8ee-5d0636afef25"
      }
     }
    },
    "b4360e42-274e-4232-96c0-46f2571c54a5": {
     "id": "b4360e42-274e-4232-96c0-46f2571c54a5",
     "prev": "ef543b23-3f2e-47e0-a264-8dc84255ef55",
     "regions": {
      "2b1ae0ff-256a-42bb-a1cd-002670198693": {
       "attrs": {
        "height": 0.8,
        "width": 0.8,
        "x": 0.1,
        "y": 0.1
       },
       "content": {
        "cell": "0dca797d-f164-41ba-a255-85465777ab1c",
        "part": "whole"
       },
       "id": "2b1ae0ff-256a-42bb-a1cd-002670198693"
      }
     }
    },
    "b7043d4a-a28e-4fb0-bca0-eae2ab7b3d8a": {
     "id": "b7043d4a-a28e-4fb0-bca0-eae2ab7b3d8a",
     "prev": "763f5018-398a-4b37-9b60-a2998bed35d5",
     "regions": {
      "b34504b3-68f9-47f0-ab1f-ef5a8def46b2": {
       "attrs": {
        "height": 0.8,
        "width": 0.8,
        "x": 0.1,
        "y": 0.1
       },
       "content": {
        "cell": "eca23645-2fd8-4fcb-84ac-c71c1f641498",
        "part": "whole"
       },
       "id": "b34504b3-68f9-47f0-ab1f-ef5a8def46b2"
      }
     }
    },
    "b90db9d8-61b9-49bc-a85d-e8887b028f88": {
     "id": "b90db9d8-61b9-49bc-a85d-e8887b028f88",
     "prev": "d2a9f238-2a7b-4cc5-8604-323cac691192",
     "regions": {
      "4dbb707a-40a3-4af1-97fe-70cb993af989": {
       "attrs": {
        "height": 0.8,
        "width": 0.8,
        "x": 0.1,
        "y": 0.1
       },
       "content": {
        "cell": "acbe5840-b1fb-422c-b1d2-d35b9dbd5b9c",
        "part": "whole"
       },
       "id": "4dbb707a-40a3-4af1-97fe-70cb993af989"
      }
     }
    },
    "bc3d608f-fa95-4f55-b9b5-8eaed9591973": {
     "id": "bc3d608f-fa95-4f55-b9b5-8eaed9591973",
     "prev": "3a839c9e-0efe-4636-a246-7df91836195d",
     "regions": {
      "e973f6de-ecde-4ad4-85ca-54f3c3b76bad": {
       "attrs": {
        "height": 0.8,
        "width": 0.8,
        "x": 0.1,
        "y": 0.1
       },
       "content": {
        "cell": "275ea8e7-7c38-429b-aafc-b5bf3319f973",
        "part": "whole"
       },
       "id": "e973f6de-ecde-4ad4-85ca-54f3c3b76bad"
      }
     }
    },
    "bd01d1da-3b90-49d8-be00-2a7ac3926c42": {
     "id": "bd01d1da-3b90-49d8-be00-2a7ac3926c42",
     "prev": "383548da-9afe-4ccd-bbd7-4c113599f158",
     "regions": {
      "32d48f82-9689-49a3-addd-421e66c66b62": {
       "attrs": {
        "height": 0.8,
        "width": 0.8,
        "x": 0.1,
        "y": 0.1
       },
       "content": {
        "cell": "830cce82-0651-4a54-b665-ccec98271f29",
        "part": "whole"
       },
       "id": "32d48f82-9689-49a3-addd-421e66c66b62"
      }
     }
    },
    "bf9f9c75-0591-4060-a3af-54291ba14a05": {
     "id": "bf9f9c75-0591-4060-a3af-54291ba14a05",
     "prev": "e8942165-933c-4415-a52c-69ab43bb3dfb",
     "regions": {
      "1220a35f-2f4d-402f-802e-3a9388156cb5": {
       "attrs": {
        "height": 0.8,
        "width": 0.8,
        "x": 0.1,
        "y": 0.1
       },
       "content": {
        "cell": "68c0009c-b834-46ef-94c2-dc657ed4faf7",
        "part": "whole"
       },
       "id": "1220a35f-2f4d-402f-802e-3a9388156cb5"
      }
     }
    },
    "c11e7e07-e383-4e94-85d0-7bfe9720e898": {
     "id": "c11e7e07-e383-4e94-85d0-7bfe9720e898",
     "prev": "bc3d608f-fa95-4f55-b9b5-8eaed9591973",
     "regions": {
      "3bef7ddd-eb29-4a32-b109-5040a2bee56e": {
       "attrs": {
        "height": 0.8,
        "width": 0.9177644710578843,
        "x": 0.04411177644710579,
        "y": 0.1
       },
       "content": {
        "cell": "de3e955b-0944-409e-b994-3c9a0d3022f6",
        "part": "whole"
       },
       "id": "3bef7ddd-eb29-4a32-b109-5040a2bee56e"
      }
     }
    },
    "c35baaa9-6035-451a-951a-9acaa710ce54": {
     "id": "c35baaa9-6035-451a-951a-9acaa710ce54",
     "prev": "3a7a265c-9cbe-492a-98b3-29caed8c359a",
     "regions": {
      "4a9fbe33-9b11-475e-9da2-825aa5f413b9": {
       "attrs": {
        "height": 0.8,
        "width": 0.8,
        "x": 0.1,
        "y": 0.1
       },
       "content": {
        "cell": "45befdd5-78d1-4d87-9ebd-e14f579b2e46",
        "part": "whole"
       },
       "id": "4a9fbe33-9b11-475e-9da2-825aa5f413b9"
      }
     }
    },
    "c98a0a6c-c2d9-49a2-8646-c55a4e44da30": {
     "id": "c98a0a6c-c2d9-49a2-8646-c55a4e44da30",
     "prev": "01713532-9d30-455f-b4c4-da4b56dd30df",
     "regions": {
      "4a39214f-3ebc-4b9d-b623-eb44332c14bb": {
       "attrs": {
        "height": 0.8,
        "width": 0.8,
        "x": 0.1,
        "y": 0.1
       },
       "content": {
        "cell": "5209cf5d-a840-437e-9e93-f71a02446741",
        "part": "whole"
       },
       "id": "4a39214f-3ebc-4b9d-b623-eb44332c14bb"
      }
     }
    },
    "d2a9f238-2a7b-4cc5-8604-323cac691192": {
     "id": "d2a9f238-2a7b-4cc5-8604-323cac691192",
     "prev": "21d4158a-b967-4506-a80a-0b2e22227bf7",
     "regions": {
      "81012ece-5676-4467-b39f-12fe5911fff5": {
       "attrs": {
        "height": 0.8,
        "width": 0.8,
        "x": 0.1,
        "y": 0.1
       },
       "content": {
        "cell": "1a6ac48f-c571-4f89-882b-4186abd15ee7",
        "part": "whole"
       },
       "id": "81012ece-5676-4467-b39f-12fe5911fff5"
      }
     }
    },
    "e8942165-933c-4415-a52c-69ab43bb3dfb": {
     "id": "e8942165-933c-4415-a52c-69ab43bb3dfb",
     "prev": "1467636c-1b2b-4878-b37b-d7a47ae1c36f",
     "regions": {
      "a3a0e172-7cea-4251-a768-b7ec8287ce9f": {
       "attrs": {
        "height": 0.8,
        "width": 0.8,
        "x": 0.1,
        "y": 0.1
       },
       "content": {
        "cell": "ab3d071a-2412-4909-b522-f8f3c5eb384d",
        "part": "whole"
       },
       "id": "a3a0e172-7cea-4251-a768-b7ec8287ce9f"
      }
     }
    },
    "ef543b23-3f2e-47e0-a264-8dc84255ef55": {
     "id": "ef543b23-3f2e-47e0-a264-8dc84255ef55",
     "prev": "10cafaee-f073-47d6-bcec-d5882b0253de",
     "regions": {
      "7ebd1350-d178-44a4-9b31-2648af495bc6": {
       "attrs": {
        "height": 0.8,
        "width": 0.8,
        "x": 0.1,
        "y": 0.1
       },
       "content": {
        "cell": "07ceedd7-ea32-4eb4-92ce-10360b609185",
        "part": "whole"
       },
       "id": "7ebd1350-d178-44a4-9b31-2648af495bc6"
      }
     }
    },
    "f084c9a8-87fe-4188-8823-75af57f666a5": {
     "id": "f084c9a8-87fe-4188-8823-75af57f666a5",
     "prev": "a8656926-1b36-4982-80b2-a95368405aad",
     "regions": {
      "6337b102-442a-4069-b57e-2d5ed4adb601": {
       "attrs": {
        "height": 0.8,
        "width": 0.8,
        "x": 0.1,
        "y": 0.1
       },
       "content": {
        "cell": "ab06b41c-088d-4c22-b68d-24270225cb99",
        "part": "whole"
       },
       "id": "6337b102-442a-4069-b57e-2d5ed4adb601"
      }
     }
    },
    "f2f6ca95-5f4b-4c34-9994-a00d2a934632": {
     "id": "f2f6ca95-5f4b-4c34-9994-a00d2a934632",
     "prev": "74507520-bc61-4bbb-87ad-8c86bbaaeecb",
     "regions": {
      "c010dc13-88b4-4aa5-a4a2-eb90d4769ff8": {
       "attrs": {
        "height": 0.8,
        "width": 0.8,
        "x": 0.1,
        "y": 0.1
       },
       "content": {
        "cell": "9a3daa42-795b-45c1-9211-fe67668aa120",
        "part": "whole"
       },
       "id": "c010dc13-88b4-4aa5-a4a2-eb90d4769ff8"
      }
     }
    },
    "f516752c-5f34-4e05-bea4-6770a9c3428b": {
     "id": "f516752c-5f34-4e05-bea4-6770a9c3428b",
     "prev": "f792f7a5-d4ed-4477-a1a0-a1618ef1f271",
     "regions": {
      "29920976-c690-48da-9b57-2eca03672268": {
       "attrs": {
        "height": 0.8,
        "width": 0.8,
        "x": 0.1,
        "y": 0.1
       },
       "content": {
        "cell": "ee904ab6-df22-41ba-bb6e-a752efa9fb20",
        "part": "whole"
       },
       "id": "29920976-c690-48da-9b57-2eca03672268"
      }
     }
    },
    "f792f7a5-d4ed-4477-a1a0-a1618ef1f271": {
     "id": "f792f7a5-d4ed-4477-a1a0-a1618ef1f271",
     "prev": "4251612d-dbc6-4f38-92c4-b05fe4a0144b",
     "regions": {
      "182b83fe-9fde-4a3b-8c20-8fa761fcfe5d": {
       "attrs": {
        "height": 0.8,
        "width": 0.8,
        "x": 0.1,
        "y": 0.1
       },
       "content": {
        "cell": "02fb733d-e29c-4e24-82bd-ece5388fb004",
        "part": "whole"
       },
       "id": "182b83fe-9fde-4a3b-8c20-8fa761fcfe5d"
      }
     }
    },
    "fc31259c-298b-4dcf-9a87-cff3354d4c42": {
     "id": "fc31259c-298b-4dcf-9a87-cff3354d4c42",
     "prev": "55ca5e41-fed1-461c-b36d-99acf966b8a2",
     "regions": {
      "0262f2ba-7455-41b1-a64e-4be941f448c0": {
       "attrs": {
        "height": 0.8,
        "width": 0.8,
        "x": 0.1,
        "y": 0.1
       },
       "content": {
        "cell": "f58739e9-1f7c-473d-9fb9-773b626170cb",
        "part": "whole"
       },
       "id": "0262f2ba-7455-41b1-a64e-4be941f448c0"
      }
     }
    }
   },
   "themes": {
    "default": "ad61010f-e70b-4372-81a1-c8a554bc213b",
    "theme": {
     "ad61010f-e70b-4372-81a1-c8a554bc213b": {
      "id": "ad61010f-e70b-4372-81a1-c8a554bc213b",
      "palette": {
       "19cc588f-0593-49c9-9f4b-e4d7cc113b1c": {
        "id": "19cc588f-0593-49c9-9f4b-e4d7cc113b1c",
        "rgb": [
         252,
         252,
         252
        ]
       },
       "31af15d2-7e15-44c5-ab5e-e04b16a89eff": {
        "id": "31af15d2-7e15-44c5-ab5e-e04b16a89eff",
        "rgb": [
         68,
         68,
         68
        ]
       },
       "50f92c45-a630-455b-aec3-788680ec7410": {
        "id": "50f92c45-a630-455b-aec3-788680ec7410",
        "rgb": [
         155,
         177,
         192
        ]
       },
       "c5cc3653-2ee1-402a-aba2-7caae1da4f6c": {
        "id": "c5cc3653-2ee1-402a-aba2-7caae1da4f6c",
        "rgb": [
         43,
         126,
         184
        ]
       },
       "efa7f048-9acb-414c-8b04-a26811511a21": {
        "id": "efa7f048-9acb-414c-8b04-a26811511a21",
        "rgb": [
         25.118061674008803,
         73.60176211453744,
         107.4819383259912
        ]
       }
      },
      "rules": {
       "blockquote": {
        "color": "50f92c45-a630-455b-aec3-788680ec7410"
       },
       "code": {
        "font-family": "Anonymous Pro"
       },
       "h1": {
        "color": "c5cc3653-2ee1-402a-aba2-7caae1da4f6c",
        "font-family": "Lato",
        "font-size": 8
       },
       "h2": {
        "color": "c5cc3653-2ee1-402a-aba2-7caae1da4f6c",
        "font-family": "Lato",
        "font-size": 6
       },
       "h3": {
        "color": "50f92c45-a630-455b-aec3-788680ec7410",
        "font-family": "Lato",
        "font-size": 5.5
       },
       "h4": {
        "color": "c5cc3653-2ee1-402a-aba2-7caae1da4f6c",
        "font-family": "Lato",
        "font-size": 5
       },
       "h5": {
        "font-family": "Lato"
       },
       "h6": {
        "font-family": "Lato"
       },
       "h7": {
        "font-family": "Lato"
       },
       "pre": {
        "font-family": "Anonymous Pro",
        "font-size": 4
       }
      },
      "text-base": {
       "font-family": "Merriweather",
       "font-size": 4
      }
     }
    }
   }
  }
 },
 "nbformat": 4,
 "nbformat_minor": 1
}
