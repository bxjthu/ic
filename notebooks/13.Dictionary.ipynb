{
 "cells": [
  {
   "cell_type": "markdown",
   "metadata": {
    "nbpresent": {
     "id": "46f25b8f-179d-4244-bc72-b37593bb0669"
    }
   },
   "source": [
    "# 13. Dictionary"
   ]
  },
  {
   "cell_type": "markdown",
   "metadata": {
    "nbpresent": {
     "id": "3134208d-bd86-4d97-b72d-4f406b6f83fb"
    }
   },
   "source": [
    "## What is Dictionary\n",
    "\n",
    "The compound data types (strings, lists, and tuples) are sequential collections. This means that the items in the collection are ordered from left to right and they use integers as indices to access the values they contain.\n",
    "\n",
    "**Dictionaries** are a different kind of collection. They are Python’s built-in **mapping** type. A map is an **unordered, associative collection**. The association, or mapping, is from a **key**, which can be any **immutable type**, to a **value**, which can be any Python data object.\n"
   ]
  },
  {
   "cell_type": "markdown",
   "metadata": {
    "nbpresent": {
     "id": "0f748ac3-f334-4fed-bca5-50e6a4f94a78"
    }
   },
   "source": [
    "** Create a dictionary **\n",
    "\n",
    "One way to create a dictionary is to start with the empty dictionary and add key:value pairs. The empty dictionary is denoted {}"
   ]
  },
  {
   "cell_type": "code",
   "execution_count": null,
   "metadata": {
    "collapsed": false,
    "nbpresent": {
     "id": "f72d29e9-cc85-4688-ab95-c2611b742515"
    }
   },
   "outputs": [],
   "source": [
    "eng2sp = {}\n",
    "eng2sp[\"one\"] = \"uno\"\n",
    "eng2sp[\"two\"] = \"dos\"\n",
    "eng2sp[\"three\"] = \"tres\"\n",
    "print(eng2sp)"
   ]
  },
  {
   "cell_type": "code",
   "execution_count": null,
   "metadata": {
    "collapsed": false,
    "nbpresent": {
     "id": "a8b2131e-86ba-46f0-907b-b078eebd76c7"
    }
   },
   "outputs": [],
   "source": [
    "from IPython.display import IFrame\n",
    "IFrame(\"http://pythontutor.com/iframe-embed.html#code=eng2sp%20%3D%20%7B%7D%0Aeng2sp%5B%22one%22%5D%20%3D%20%22uno%22%0Aeng2sp%5B%22two%22%5D%20%3D%20%22dos%22%0Aeng2sp%5B%22three%22%5D%20%3D%20%22tres%22&codeDivHeight=400&codeDivWidth=350&cumulative=false&curInstr=0&heapPrimitives=false&origin=opt-frontend.js&py=3&rawInputLstJSON=%5B%5D&textReferences=false\", width='100%', height=450)"
   ]
  },
  {
   "cell_type": "code",
   "execution_count": null,
   "metadata": {
    "collapsed": false,
    "nbpresent": {
     "id": "875c082d-5573-4bc6-82e0-b51258342836"
    }
   },
   "outputs": [],
   "source": [
    "eng2sp = {'three': 'tres', 'one': 'uno', 'two': 'dos'}\n",
    "value = eng2sp['two']\n",
    "print(value)"
   ]
  },
  {
   "cell_type": "markdown",
   "metadata": {
    "nbpresent": {
     "id": "b2b6a535-11fc-4813-a69e-fc85253e51d6"
    }
   },
   "source": [
    "** why we use dictionaries instead of a list of tuples **\n",
    "\n",
    "Think about finding a value associated with a key:"
   ]
  },
  {
   "cell_type": "code",
   "execution_count": null,
   "metadata": {
    "collapsed": true,
    "nbpresent": {
     "id": "1e058d6c-d00e-4d1d-843d-ee8a93339525"
    }
   },
   "outputs": [],
   "source": [
    "d = {\"apples\": 430, \"bananas\": 312, \n",
    "     \"oranges\": 525, \"pears\": 217}\n",
    "\n",
    "l = [('apples', 430), ('bananas', 312),\n",
    "     ('oranges', 525), ('pears', 217)]"
   ]
  },
  {
   "cell_type": "markdown",
   "metadata": {
    "nbpresent": {
     "id": "8caaba6f-a277-42da-9df3-0b906b261085"
    }
   },
   "source": [
    "The reason is dictionaries are very fast, implemented using a technique called **hashing**, which allows us to access a value very quickly. \n",
    "\n",
    "By contrast, the list of tuples implementation is slow."
   ]
  },
  {
   "cell_type": "markdown",
   "metadata": {
    "nbpresent": {
     "id": "5928bb81-82a2-459c-a96c-074871562649"
    }
   },
   "source": [
    "** Exercise **\n",
    "```\n",
    "1. A dictionary is an unordered collection of key-value pairs.\n",
    "(A) False\n",
    "(B) True\n",
    "```"
   ]
  },
  {
   "cell_type": "markdown",
   "metadata": {
    "nbpresent": {
     "id": "345fdac6-e09e-46c6-85ea-078a4f3aba12"
    }
   },
   "source": [
    "```\n",
    "2. What is printed by the following statements?```\n",
    "```python\n",
    "mydict = {\"cat\":12, \"dog\":6, \"elephant\":23}\n",
    "print(mydict[\"dog\"])```\n",
    "```\n",
    "(A) 12\n",
    "(B) 6\n",
    "(C) 23\n",
    "(D) Error, you cannot use the index operator with a dictionary.```"
   ]
  },
  {
   "cell_type": "code",
   "execution_count": null,
   "metadata": {
    "collapsed": false,
    "nbpresent": {
     "id": "e5a18c66-acd8-42a4-95e4-806c982e7b3f"
    }
   },
   "outputs": [],
   "source": [
    "print(list(eng2sp.keys()))"
   ]
  },
  {
   "cell_type": "markdown",
   "metadata": {
    "nbpresent": {
     "id": "ac2de8ba-9f91-4dad-904c-d92a26ca5a70"
    }
   },
   "source": [
    "## Dictionary Operations"
   ]
  },
  {
   "cell_type": "code",
   "execution_count": null,
   "metadata": {
    "collapsed": false,
    "nbpresent": {
     "id": "aee1211c-41e7-4aaf-ba2a-26cdbf080c9e"
    }
   },
   "outputs": [],
   "source": [
    "inventory = {\"apples\": 430, \"bananas\": 312, \"oranges\": 525, \"pears\": 217}\n",
    "\n",
    "del inventory[\"oranges\"]\n",
    "\n",
    "print(inventory)"
   ]
  },
  {
   "cell_type": "code",
   "execution_count": null,
   "metadata": {
    "collapsed": false,
    "nbpresent": {
     "id": "0636057e-0029-4de2-9620-9178f667b9f3"
    }
   },
   "outputs": [],
   "source": [
    "inventory[\"pears\"] = 0\n",
    "print(inventory)"
   ]
  },
  {
   "cell_type": "code",
   "execution_count": null,
   "metadata": {
    "collapsed": false,
    "nbpresent": {
     "id": "26033c60-92fb-4e54-b887-1aecacff922d"
    }
   },
   "outputs": [],
   "source": [
    "inventory[\"oranges\"] = 0\n",
    "\n",
    "print(len(inventory))\n",
    "print(inventory)"
   ]
  },
  {
   "cell_type": "markdown",
   "metadata": {
    "nbpresent": {
     "id": "207323e4-2a6c-4e49-b216-a154326b9d75"
    }
   },
   "source": [
    "** Exercise **\n",
    "```\n",
    "What is printed by the following statements?```\n",
    "```python\n",
    "mydict = {\"cat\":12, \"dog\":6, \"elephant\":23}\n",
    "mydict[\"mouse\"] = mydict[\"cat\"] + mydict[\"dog\"]\n",
    "print(mydict[\"mouse\"])```\n",
    "```\n",
    "(A) 12\n",
    "(B) 0\n",
    "(C) 18\n",
    "(D) Error, there is no entry with mouse as the key.\n",
    "```"
   ]
  },
  {
   "cell_type": "markdown",
   "metadata": {
    "nbpresent": {
     "id": "d8504535-10c3-43c0-bff0-493a78cf62a7"
    }
   },
   "source": [
    "## Dictionary methods\n",
    "\n",
    "Method |\tParameters\t| Description\n",
    "-------|----------------|-------------\n",
    "keys\t| none\t| Returns a view of the keys in the dictionary\n",
    "values\t| none\t| Returns a view of the values in the dictionary\n",
    "items\t| none\t| Returns a view of the key-value pairs in the dictionary\n",
    "get\t| key\t| Returns the value associated with key; None otherwise\n",
    "get\t| key,alt|\tReturns the value associated with key; alt otherwise"
   ]
  },
  {
   "cell_type": "code",
   "execution_count": null,
   "metadata": {
    "collapsed": false,
    "nbpresent": {
     "id": "b2cf413a-dd02-456a-bb6f-bf0c30ea0541"
    }
   },
   "outputs": [],
   "source": [
    "for k in eng2sp.keys(): \n",
    "   print(\"Got key\", k, \"which maps to value\", eng2sp[k])\n",
    "\n",
    "print(type(eng2sp.keys()))\n",
    "ks = list(eng2sp.keys())\n",
    "print(ks)"
   ]
  },
  {
   "cell_type": "markdown",
   "metadata": {
    "nbpresent": {
     "id": "ffac6b08-e027-408a-bcd2-d79acd2dd32e"
    }
   },
   "source": [
    "It is so common to iterate over the keys in a dictionary that we can omit the keys method call in the for loop — iterating over a dictionary implicitly iterates over its keys:"
   ]
  },
  {
   "cell_type": "code",
   "execution_count": null,
   "metadata": {
    "collapsed": false,
    "nbpresent": {
     "id": "c093d9cb-0482-436f-8a13-2cb146045d1f"
    }
   },
   "outputs": [],
   "source": [
    "for k in eng2sp:\n",
    "   print(\"Got key\", k)"
   ]
  },
  {
   "cell_type": "markdown",
   "metadata": {
    "nbpresent": {
     "id": "d194863b-c366-4e8b-9e4b-2f098d182416"
    }
   },
   "source": [
    "** `values` and `items` method**"
   ]
  },
  {
   "cell_type": "code",
   "execution_count": null,
   "metadata": {
    "collapsed": false,
    "nbpresent": {
     "id": "f6d8bdab-b206-4cb0-bf40-7f196257d41a"
    }
   },
   "outputs": [],
   "source": [
    "print(list(eng2sp.values()))\n",
    "\n",
    "print(list(eng2sp.items()))"
   ]
  },
  {
   "cell_type": "code",
   "execution_count": null,
   "metadata": {
    "collapsed": false,
    "nbpresent": {
     "id": "2734868b-e93c-460f-9bd0-26f2eb050b19"
    }
   },
   "outputs": [],
   "source": [
    "for (k,v) in eng2sp.items():\n",
    "    print(\"Got\",k,\"that maps to\",v)"
   ]
  },
  {
   "cell_type": "markdown",
   "metadata": {
    "nbpresent": {
     "id": "03faa081-97d1-4387-a8c3-ef517cf4527b"
    }
   },
   "source": [
    "** get **"
   ]
  },
  {
   "cell_type": "code",
   "execution_count": null,
   "metadata": {
    "collapsed": false,
    "nbpresent": {
     "id": "a6887f84-520f-49c0-b81c-d5d0ffa0c1e7"
    }
   },
   "outputs": [],
   "source": [
    "inventory = {'apples': 430, 'bananas': 312, 'oranges': 525, 'pears': 217}\n",
    "\n",
    "print(inventory.get(\"apples\"))\n",
    "print(inventory.get(\"cherries\"))\n",
    "\n",
    "print(inventory.get(\"cherries\", 0))"
   ]
  },
  {
   "cell_type": "markdown",
   "metadata": {
    "nbpresent": {
     "id": "6e54531c-6870-4c90-aca4-f1ec17132f58"
    }
   },
   "source": [
    "** in, not in **"
   ]
  },
  {
   "cell_type": "code",
   "execution_count": null,
   "metadata": {
    "collapsed": false,
    "nbpresent": {
     "id": "1bb078ea-a6e3-4214-92ea-0322d054b905"
    }
   },
   "outputs": [],
   "source": [
    "inventory = {'apples': 430, 'bananas': 312, 'oranges': 525, 'pears': 217}\n",
    "print('apples' in inventory)\n",
    "print('cherries' not in inventory)\n",
    "\n",
    "if 'bananas' in inventory:\n",
    "    print(inventory['bananas'])\n",
    "else:\n",
    "    print(\"We have no bananas\")"
   ]
  },
  {
   "cell_type": "markdown",
   "metadata": {
    "nbpresent": {
     "id": "64369956-fc37-47f6-9fc1-8ac230378c15"
    }
   },
   "source": [
    "** Exercise **\n",
    "```\n",
    "1. What is printed by the following statements?```\n",
    "```python\n",
    "mydict = {\"cat\":12, \"dog\":6, \"elephant\":23, \"bear\":20}\n",
    "keylist = list(mydict.keys())\n",
    "keylist.sort()\n",
    "print(keylist[3])```\n",
    "```\n",
    "(A) cat\n",
    "(B) dog\n",
    "(C) elephant\n",
    "(D) bear\n",
    "```"
   ]
  },
  {
   "cell_type": "markdown",
   "metadata": {
    "nbpresent": {
     "id": "740094f7-acdf-4e24-9abe-fc8905f88597"
    }
   },
   "source": [
    "```\n",
    "2. What is printed by the following statements?```\n",
    "```python\n",
    "mydict = {\"cat\":12, \"dog\":6, \"elephant\":23, \"bear\":20}\n",
    "answer = mydict.get(\"cat\") // mydict.get(\"dog\")\n",
    "print(answer)```\n",
    "```\n",
    "(A) 2\n",
    "(B) 0.5\n",
    "(C) bear\n",
    "(D) Error, divide is not a valid operation on dictionaries.\n",
    "```"
   ]
  },
  {
   "cell_type": "markdown",
   "metadata": {
    "nbpresent": {
     "id": "0cce606b-d16c-4824-bde6-8218294878ea"
    }
   },
   "source": [
    "```3. What is printed by the following statements?```\n",
    "```python\n",
    "mydict = {\"cat\":12, \"dog\":6, \"elephant\":23, \"bear\":20}\n",
    "print(\"dog\" in mydict)```\n",
    "```\n",
    "(A) True\n",
    "(B) False\n",
    "```"
   ]
  },
  {
   "cell_type": "markdown",
   "metadata": {
    "nbpresent": {
     "id": "c9c081a1-a31d-4bd3-8f64-c3e4eaac8592"
    }
   },
   "source": [
    "```\n",
    "4. What is printed by the following statements?```\n",
    "```python\n",
    "mydict = {\"cat\":12, \"dog\":6, \"elephant\":23, \"bear\":20}\n",
    "print(23 in mydict)```\n",
    "```\n",
    "(A) True\n",
    "(B) False\n",
    "```"
   ]
  },
  {
   "cell_type": "markdown",
   "metadata": {
    "nbpresent": {
     "id": "fdf21a3e-aa29-49f2-8726-aef13495c058"
    }
   },
   "source": [
    "```\n",
    "5. What is printed by the following statements?```\n",
    "```python\n",
    "total = 0\n",
    "mydict = {\"cat\":12, \"dog\":6, \"elephant\":23, \"bear\":20}\n",
    "for akey in mydict:\n",
    "   if len(akey) > 3:\n",
    "      total = total + mydict[akey]\n",
    "print(total)```\n",
    "```\n",
    "(A) 18\n",
    "(B) 43\n",
    "(C) 0\n",
    "(D) 61\n",
    "```"
   ]
  },
  {
   "cell_type": "markdown",
   "metadata": {
    "nbpresent": {
     "id": "084be135-12e9-42be-8d7a-62e28eb24536"
    }
   },
   "source": [
    "## Fibonacci numbers"
   ]
  },
  {
   "cell_type": "code",
   "execution_count": null,
   "metadata": {
    "collapsed": false,
    "nbpresent": {
     "id": "6c64ea2e-61f2-4900-9f74-952a2b0b5f8e"
    }
   },
   "outputs": [],
   "source": [
    "alreadyknown = {0: 0, 1: 1}\n",
    "\n",
    "def fib(n):\n",
    "    if n not in alreadyknown:\n",
    "        new_value = fib(n-1) + fib(n-2)\n",
    "        alreadyknown[n] = new_value\n",
    "    return alreadyknown[n]\n",
    "\n",
    "fib(35)"
   ]
  },
  {
   "cell_type": "code",
   "execution_count": null,
   "metadata": {
    "collapsed": false,
    "nbpresent": {
     "id": "9665077f-4970-4242-8def-dc83e9ccae00"
    }
   },
   "outputs": [],
   "source": [
    "%%timeit \n",
    "\n",
    "fib(100)"
   ]
  },
  {
   "cell_type": "markdown",
   "metadata": {
    "nbpresent": {
     "id": "2f1923dd-033b-4362-a43a-c2c90a3f8a09"
    }
   },
   "source": [
    "## Counting letters"
   ]
  },
  {
   "cell_type": "code",
   "execution_count": null,
   "metadata": {
    "collapsed": false,
    "nbpresent": {
     "id": "a129c62a-16ae-4047-8252-7530e29fdbb2"
    }
   },
   "outputs": [],
   "source": [
    "def countLetters(text):\n",
    "    counts = {}\n",
    "\n",
    "    for l in text:\n",
    "        counts[l] = counts.get(l, 0) + 1\n",
    "    \n",
    "    return counts"
   ]
  },
  {
   "cell_type": "code",
   "execution_count": null,
   "metadata": {
    "collapsed": false,
    "nbpresent": {
     "id": "afb6fd40-bfde-430b-8da6-d30adae567ca"
    }
   },
   "outputs": [],
   "source": [
    "t = 'Such a frequency table might be useful for compressing a text file.'\n",
    "\n",
    "counts = countLetters(t)\n",
    "\n",
    "print(counts)"
   ]
  },
  {
   "cell_type": "code",
   "execution_count": null,
   "metadata": {
    "collapsed": false,
    "nbpresent": {
     "id": "db19eb8c-7218-4413-aa9a-07f8ff9c1cec"
    }
   },
   "outputs": [],
   "source": [
    "c_items = list(counts.items())\n",
    "c_items.sort()\n",
    "print(c_items)"
   ]
  },
  {
   "cell_type": "markdown",
   "metadata": {
    "nbpresent": {
     "id": "5c6fa1e6-0bb9-42fc-88b1-481231616edd"
    }
   },
   "source": [
    "## Glossary\n",
    "\n",
    "**dictionary**\n",
    "\n",
    "A collection of key-value pairs that maps from keys to values. The keys can be any immutable type, and the values can be any type.\n",
    "\n",
    "**key**\n",
    "\n",
    "A data item that is mapped to a value in a dictionary. Keys are used to look up values in a dictionary.\n",
    "\n",
    "**key-value pair**\n",
    "\n",
    "One of the pairs of items in a dictionary. Values are looked up in a dictionary by key.\n",
    "\n",
    "**mapping type**\n",
    "\n",
    "A mapping type is a data type comprised of a collection of keys and associated values. Python’s only built-in mapping type is the dictionary. Dictionaries implement the associative array abstract data type."
   ]
  },
  {
   "cell_type": "code",
   "execution_count": null,
   "metadata": {
    "collapsed": true,
    "nbpresent": {
     "id": "ab7ecd32-0120-46c8-8161-4c7b33b2ce47"
    }
   },
   "outputs": [],
   "source": []
  }
 ],
 "metadata": {
  "anaconda-cloud": {},
  "kernelspec": {
   "display_name": "Python [default]",
   "language": "python",
   "name": "python3"
  },
  "language_info": {
   "codemirror_mode": {
    "name": "ipython",
    "version": 3
   },
   "file_extension": ".py",
   "mimetype": "text/x-python",
   "name": "python",
   "nbconvert_exporter": "python",
   "pygments_lexer": "ipython3",
   "version": "3.5.2"
  },
  "nbpresent": {
   "slides": {
    "06a3477f-84bf-4e99-a28f-9222dc879c43": {
     "id": "06a3477f-84bf-4e99-a28f-9222dc879c43",
     "prev": "604243ea-763e-4a50-a153-0fa8fe4ef0ac",
     "regions": {
      "abf0b4b5-9616-40e9-85ea-6d8b155cad2c": {
       "attrs": {
        "height": 0.8,
        "width": 0.8,
        "x": 0.1,
        "y": 0.1
       },
       "content": {
        "cell": "fdf21a3e-aa29-49f2-8726-aef13495c058",
        "part": "whole"
       },
       "id": "abf0b4b5-9616-40e9-85ea-6d8b155cad2c"
      }
     }
    },
    "06b0beec-d1a8-49a8-9494-76a8ee7c44a4": {
     "id": "06b0beec-d1a8-49a8-9494-76a8ee7c44a4",
     "prev": "579ba44a-437f-4f2f-a1eb-9a8b3d9cccd2",
     "regions": {
      "28e9ea23-1945-480e-8b43-ea2a4f3c68a0": {
       "attrs": {
        "height": 0.8,
        "width": 0.8,
        "x": 0.1,
        "y": 0.1
       },
       "content": {
        "cell": "c093d9cb-0482-436f-8a13-2cb146045d1f",
        "part": "whole"
       },
       "id": "28e9ea23-1945-480e-8b43-ea2a4f3c68a0"
      }
     }
    },
    "06c993ba-5521-46ed-b973-632295ce43b7": {
     "id": "06c993ba-5521-46ed-b973-632295ce43b7",
     "prev": "b582617f-c35f-4b3d-843f-ef8c3c031989",
     "regions": {
      "98fd3d22-1fc5-45c4-8edf-b2e394b66233": {
       "attrs": {
        "height": 0.8,
        "width": 0.8,
        "x": 0.1,
        "y": 0.1
       },
       "content": {
        "cell": "8caaba6f-a277-42da-9df3-0b906b261085",
        "part": "whole"
       },
       "id": "98fd3d22-1fc5-45c4-8edf-b2e394b66233"
      }
     }
    },
    "080a5cf3-66ba-48f2-b776-8ef63bddc224": {
     "id": "080a5cf3-66ba-48f2-b776-8ef63bddc224",
     "prev": "659159f7-9c95-4bf0-90cd-ce4b34c1cd6d",
     "regions": {
      "bb7275e9-90db-41e6-b685-5bdbe7c29a10": {
       "attrs": {
        "height": 0.8,
        "width": 0.8,
        "x": 0.1,
        "y": 0.1
       },
       "content": {
        "cell": "0f748ac3-f334-4fed-bca5-50e6a4f94a78",
        "part": "whole"
       },
       "id": "bb7275e9-90db-41e6-b685-5bdbe7c29a10"
      }
     }
    },
    "084c67a3-a761-49a5-9c11-cf71e48211cc": {
     "id": "084c67a3-a761-49a5-9c11-cf71e48211cc",
     "prev": "8d2ff0ec-f4e7-4a5f-bb64-a6f8077e2d82",
     "regions": {
      "6668b4f4-8f47-43fd-951f-aeb39f5f8c2d": {
       "attrs": {
        "height": 0.8,
        "width": 0.8,
        "x": 0.1,
        "y": 0.1
       },
       "content": {
        "cell": "64369956-fc37-47f6-9fc1-8ac230378c15",
        "part": "whole"
       },
       "id": "6668b4f4-8f47-43fd-951f-aeb39f5f8c2d"
      }
     }
    },
    "0cae7d0e-9778-4777-8d04-98a22a210c00": {
     "id": "0cae7d0e-9778-4777-8d04-98a22a210c00",
     "prev": "06b0beec-d1a8-49a8-9494-76a8ee7c44a4",
     "regions": {
      "6ae5de37-c514-41c5-9b44-e735fe0dad50": {
       "attrs": {
        "height": 0.8,
        "width": 0.8,
        "x": 0.1,
        "y": 0.1
       },
       "content": {
        "cell": "d194863b-c366-4e8b-9e4b-2f098d182416",
        "part": "whole"
       },
       "id": "6ae5de37-c514-41c5-9b44-e735fe0dad50"
      }
     }
    },
    "0e872749-6f99-4160-b79d-e44927990377": {
     "id": "0e872749-6f99-4160-b79d-e44927990377",
     "prev": "9f2c10a6-0e29-4e72-92c7-ef92f89ea4b9",
     "regions": {
      "811e4148-2419-4276-8043-d4eee23383ef": {
       "attrs": {
        "height": 0.8,
        "width": 0.8,
        "x": 0.1,
        "y": 0.1
       },
       "content": {
        "cell": "6c64ea2e-61f2-4900-9f74-952a2b0b5f8e",
        "part": "whole"
       },
       "id": "811e4148-2419-4276-8043-d4eee23383ef"
      }
     }
    },
    "157cc359-6c39-4355-8b8f-26ce0e38c564": {
     "id": "157cc359-6c39-4355-8b8f-26ce0e38c564",
     "prev": "f91e3d6b-c511-4a0b-8069-80cca347b4d5",
     "regions": {
      "de1f8cf3-5f37-4bcd-988a-88ca3f49b902": {
       "attrs": {
        "height": 0.8,
        "width": 0.8,
        "x": 0.1,
        "y": 0.1
       },
       "content": {
        "cell": "a129c62a-16ae-4047-8252-7530e29fdbb2",
        "part": "whole"
       },
       "id": "de1f8cf3-5f37-4bcd-988a-88ca3f49b902"
      }
     }
    },
    "2bc5abb7-0bc0-4604-9863-2b93be4dc614": {
     "id": "2bc5abb7-0bc0-4604-9863-2b93be4dc614",
     "prev": "cf4dfc0f-fe91-438b-a055-acc57ce98665",
     "regions": {
      "823e3634-6cd3-4a83-89b5-fdbce263a589": {
       "attrs": {
        "height": 0.8,
        "width": 0.8,
        "x": 0.1,
        "y": 0.1
       },
       "content": {
        "cell": "a6887f84-520f-49c0-b81c-d5d0ffa0c1e7",
        "part": "whole"
       },
       "id": "823e3634-6cd3-4a83-89b5-fdbce263a589"
      }
     }
    },
    "2d8b00da-3137-4295-aec6-98e9efa33c01": {
     "id": "2d8b00da-3137-4295-aec6-98e9efa33c01",
     "prev": "7ad2de33-1195-40d1-9126-140c312b9b12",
     "regions": {
      "66041bd5-5408-4945-bb04-213fa70adf6f": {
       "attrs": {
        "height": 0.8,
        "width": 0.8,
        "x": 0.1,
        "y": 0.1
       },
       "content": {
        "cell": "b2cf413a-dd02-456a-bb6f-bf0c30ea0541",
        "part": "whole"
       },
       "id": "66041bd5-5408-4945-bb04-213fa70adf6f"
      }
     }
    },
    "3068318e-cd41-423c-81eb-152d767a87e0": {
     "id": "3068318e-cd41-423c-81eb-152d767a87e0",
     "prev": "b0852f55-6fee-4b87-822a-3fd67a1eeaee",
     "regions": {
      "28f975ef-6996-4712-9e07-4dfacdb7eba7": {
       "attrs": {
        "height": 0.8,
        "width": 0.8,
        "x": 0.1,
        "y": 0.1
       },
       "content": {
        "cell": "26033c60-92fb-4e54-b887-1aecacff922d",
        "part": "whole"
       },
       "id": "28f975ef-6996-4712-9e07-4dfacdb7eba7"
      }
     }
    },
    "35bdfe0d-270c-41f1-9e10-34217293ba81": {
     "id": "35bdfe0d-270c-41f1-9e10-34217293ba81",
     "prev": "37cb1f53-4219-4523-9527-390a93b1bfe8",
     "regions": {
      "46c184cc-1d52-437c-9daa-a3255d54088e": {
       "attrs": {
        "height": 0.8,
        "width": 0.8,
        "x": 0.1,
        "y": 0.1
       },
       "content": {
        "cell": "2734868b-e93c-460f-9bd0-26f2eb050b19",
        "part": "whole"
       },
       "id": "46c184cc-1d52-437c-9daa-a3255d54088e"
      }
     }
    },
    "37cb1f53-4219-4523-9527-390a93b1bfe8": {
     "id": "37cb1f53-4219-4523-9527-390a93b1bfe8",
     "prev": "0cae7d0e-9778-4777-8d04-98a22a210c00",
     "regions": {
      "0e318d06-9fc1-40d1-8024-5ae08d4a5408": {
       "attrs": {
        "height": 0.8,
        "width": 0.8,
        "x": 0.1,
        "y": 0.1
       },
       "content": {
        "cell": "f6d8bdab-b206-4cb0-bf40-7f196257d41a",
        "part": "whole"
       },
       "id": "0e318d06-9fc1-40d1-8024-5ae08d4a5408"
      }
     }
    },
    "396655e4-7eb5-45ed-8dbd-096065ad5b38": {
     "id": "396655e4-7eb5-45ed-8dbd-096065ad5b38",
     "prev": "8b7a37d0-78ac-4557-97f5-5ad96b1f61f0",
     "regions": {
      "e79def1d-58d3-48c2-9d0c-ad7421555d5c": {
       "attrs": {
        "height": 0.8,
        "width": 0.8,
        "x": 0.1,
        "y": 0.1
       },
       "content": {
        "cell": "e5a18c66-acd8-42a4-95e4-806c982e7b3f",
        "part": "whole"
       },
       "id": "e79def1d-58d3-48c2-9d0c-ad7421555d5c"
      }
     }
    },
    "3f592457-8690-4501-93b6-79a2c035a856": {
     "id": "3f592457-8690-4501-93b6-79a2c035a856",
     "prev": "3068318e-cd41-423c-81eb-152d767a87e0",
     "regions": {
      "b8e1175c-0ead-4bc9-bd87-ee0439e945b0": {
       "attrs": {
        "height": 0.8,
        "width": 0.8,
        "x": 0.1,
        "y": 0.1
       },
       "content": {
        "cell": "207323e4-2a6c-4e49-b216-a154326b9d75",
        "part": "whole"
       },
       "id": "b8e1175c-0ead-4bc9-bd87-ee0439e945b0"
      }
     }
    },
    "48030e57-1523-481e-b8bc-a42e900767e0": {
     "id": "48030e57-1523-481e-b8bc-a42e900767e0",
     "prev": "7b1fc112-c370-4926-9d14-81bfb3023ee9",
     "regions": {
      "2abe1863-ce03-476b-9b4f-0c627d62f239": {
       "attrs": {
        "height": 0.8,
        "width": 0.8,
        "x": 0.1,
        "y": 0.1
       },
       "content": {
        "cell": "a8b2131e-86ba-46f0-907b-b078eebd76c7",
        "part": "whole"
       },
       "id": "2abe1863-ce03-476b-9b4f-0c627d62f239"
      }
     }
    },
    "4a068f26-e889-4ccc-914c-a42fa1eceb9c": {
     "id": "4a068f26-e889-4ccc-914c-a42fa1eceb9c",
     "prev": "cc708878-5276-4ef8-9886-e4ea2aa350d5",
     "regions": {
      "13606414-14fe-4f27-b226-ab0481d16ef0": {
       "attrs": {
        "height": 0.8,
        "width": 0.8,
        "x": 0.1,
        "y": 0.1
       },
       "content": {
        "cell": "ab7ecd32-0120-46c8-8161-4c7b33b2ce47",
        "part": "whole"
       },
       "id": "13606414-14fe-4f27-b226-ab0481d16ef0"
      }
     }
    },
    "543ee5cb-6d21-4788-b13d-6a86c6cf2182": {
     "id": "543ee5cb-6d21-4788-b13d-6a86c6cf2182",
     "prev": "06c993ba-5521-46ed-b973-632295ce43b7",
     "regions": {
      "7296aff5-7849-477a-8a86-e198bc2eb33f": {
       "attrs": {
        "height": 0.8,
        "width": 0.8,
        "x": 0.1,
        "y": 0.1
       },
       "content": {
        "cell": "5928bb81-82a2-459c-a96c-074871562649",
        "part": "whole"
       },
       "id": "7296aff5-7849-477a-8a86-e198bc2eb33f"
      }
     }
    },
    "549b821d-8174-4da0-a756-a03cee983a02": {
     "id": "549b821d-8174-4da0-a756-a03cee983a02",
     "prev": "94a3f077-f943-4c3d-ad13-9781cdff2037",
     "regions": {
      "0ecfc1c6-0586-4058-ac63-64acb7e76ef2": {
       "attrs": {
        "height": 0.8,
        "width": 0.8,
        "x": 0.1,
        "y": 0.1
       },
       "content": {
        "cell": "aee1211c-41e7-4aaf-ba2a-26cdbf080c9e",
        "part": "whole"
       },
       "id": "0ecfc1c6-0586-4058-ac63-64acb7e76ef2"
      }
     }
    },
    "579ba44a-437f-4f2f-a1eb-9a8b3d9cccd2": {
     "id": "579ba44a-437f-4f2f-a1eb-9a8b3d9cccd2",
     "prev": "2d8b00da-3137-4295-aec6-98e9efa33c01",
     "regions": {
      "1cb95ffa-1dd2-44aa-a770-baf08cc86759": {
       "attrs": {
        "height": 0.8,
        "width": 0.8,
        "x": 0.1,
        "y": 0.1
       },
       "content": {
        "cell": "ffac6b08-e027-408a-bcd2-d79acd2dd32e",
        "part": "whole"
       },
       "id": "1cb95ffa-1dd2-44aa-a770-baf08cc86759"
      }
     }
    },
    "604243ea-763e-4a50-a153-0fa8fe4ef0ac": {
     "id": "604243ea-763e-4a50-a153-0fa8fe4ef0ac",
     "prev": "786f66c6-1082-4583-aef6-5a431ff1f8f1",
     "regions": {
      "0cfd293d-ad76-4a77-9ba2-a5a39bc0d96f": {
       "attrs": {
        "height": 0.8,
        "width": 0.8,
        "x": 0.1,
        "y": 0.1
       },
       "content": {
        "cell": "c9c081a1-a31d-4bd3-8f64-c3e4eaac8592",
        "part": "whole"
       },
       "id": "0cfd293d-ad76-4a77-9ba2-a5a39bc0d96f"
      }
     }
    },
    "659159f7-9c95-4bf0-90cd-ce4b34c1cd6d": {
     "id": "659159f7-9c95-4bf0-90cd-ce4b34c1cd6d",
     "prev": "98030e84-f920-47f5-a80e-ad5aa2367738",
     "regions": {
      "151925be-5ca7-4bab-8f06-ff02472a4480": {
       "attrs": {
        "height": 0.8,
        "width": 0.8,
        "x": 0.1,
        "y": 0.1
       },
       "content": {
        "cell": "3134208d-bd86-4d97-b72d-4f406b6f83fb",
        "part": "whole"
       },
       "id": "151925be-5ca7-4bab-8f06-ff02472a4480"
      }
     }
    },
    "786f66c6-1082-4583-aef6-5a431ff1f8f1": {
     "id": "786f66c6-1082-4583-aef6-5a431ff1f8f1",
     "prev": "a2e1d237-d796-418d-bc70-2ec0a0cefc61",
     "regions": {
      "1de8ab7a-3775-4296-9366-6d3fdad4cb9b": {
       "attrs": {
        "height": 0.8,
        "width": 0.8,
        "x": 0.1,
        "y": 0.1
       },
       "content": {
        "cell": "0cce606b-d16c-4824-bde6-8218294878ea",
        "part": "whole"
       },
       "id": "1de8ab7a-3775-4296-9366-6d3fdad4cb9b"
      }
     }
    },
    "7ad2de33-1195-40d1-9126-140c312b9b12": {
     "id": "7ad2de33-1195-40d1-9126-140c312b9b12",
     "prev": "3f592457-8690-4501-93b6-79a2c035a856",
     "regions": {
      "6becb03f-505a-4ad1-bbb1-b84cc6d8cc63": {
       "attrs": {
        "height": 0.8,
        "width": 0.8,
        "x": 0.1,
        "y": 0.1
       },
       "content": {
        "cell": "d8504535-10c3-43c0-bff0-493a78cf62a7",
        "part": "whole"
       },
       "id": "6becb03f-505a-4ad1-bbb1-b84cc6d8cc63"
      }
     }
    },
    "7b1fc112-c370-4926-9d14-81bfb3023ee9": {
     "id": "7b1fc112-c370-4926-9d14-81bfb3023ee9",
     "prev": "080a5cf3-66ba-48f2-b776-8ef63bddc224",
     "regions": {
      "d6eb0fb8-7e09-4f91-aa8b-324a6cd7b536": {
       "attrs": {
        "height": 0.8,
        "width": 0.8,
        "x": 0.1,
        "y": 0.1
       },
       "content": {
        "cell": "f72d29e9-cc85-4688-ab95-c2611b742515",
        "part": "whole"
       },
       "id": "d6eb0fb8-7e09-4f91-aa8b-324a6cd7b536"
      }
     }
    },
    "8b7a37d0-78ac-4557-97f5-5ad96b1f61f0": {
     "id": "8b7a37d0-78ac-4557-97f5-5ad96b1f61f0",
     "prev": "543ee5cb-6d21-4788-b13d-6a86c6cf2182",
     "regions": {
      "4d462dc3-ba98-4dbe-af75-66f05c61f4bf": {
       "attrs": {
        "height": 0.8,
        "width": 0.8,
        "x": 0.1,
        "y": 0.1
       },
       "content": {
        "cell": "345fdac6-e09e-46c6-85ea-078a4f3aba12",
        "part": "whole"
       },
       "id": "4d462dc3-ba98-4dbe-af75-66f05c61f4bf"
      }
     }
    },
    "8d2ff0ec-f4e7-4a5f-bb64-a6f8077e2d82": {
     "id": "8d2ff0ec-f4e7-4a5f-bb64-a6f8077e2d82",
     "prev": "ae7548ca-ace7-40a8-8792-bb229939b6e5",
     "regions": {
      "87c3eba1-db21-4728-bc94-5466410bb874": {
       "attrs": {
        "height": 0.8,
        "width": 0.8,
        "x": 0.1,
        "y": 0.1
       },
       "content": {
        "cell": "1bb078ea-a6e3-4214-92ea-0322d054b905",
        "part": "whole"
       },
       "id": "87c3eba1-db21-4728-bc94-5466410bb874"
      }
     }
    },
    "94a3f077-f943-4c3d-ad13-9781cdff2037": {
     "id": "94a3f077-f943-4c3d-ad13-9781cdff2037",
     "prev": "396655e4-7eb5-45ed-8dbd-096065ad5b38",
     "regions": {
      "4b4cc3b2-9cba-44bb-80b0-5961998b9bd8": {
       "attrs": {
        "height": 0.8,
        "width": 0.8,
        "x": 0.1,
        "y": 0.1
       },
       "content": {
        "cell": "ac2de8ba-9f91-4dad-904c-d92a26ca5a70",
        "part": "whole"
       },
       "id": "4b4cc3b2-9cba-44bb-80b0-5961998b9bd8"
      }
     }
    },
    "98030e84-f920-47f5-a80e-ad5aa2367738": {
     "id": "98030e84-f920-47f5-a80e-ad5aa2367738",
     "prev": null,
     "regions": {
      "84b018a9-8828-4383-bc89-34a1b7ccf015": {
       "attrs": {
        "height": 0.8,
        "width": 0.8,
        "x": 0.1,
        "y": 0.1
       },
       "content": {
        "cell": "46f25b8f-179d-4244-bc72-b37593bb0669",
        "part": "whole"
       },
       "id": "84b018a9-8828-4383-bc89-34a1b7ccf015"
      }
     }
    },
    "98d73e6d-4a69-4131-9993-b3e26ea4b1ed": {
     "id": "98d73e6d-4a69-4131-9993-b3e26ea4b1ed",
     "prev": "0e872749-6f99-4160-b79d-e44927990377",
     "regions": {
      "7f9dffa3-ee17-47f4-8a4b-bd608788f898": {
       "attrs": {
        "height": 0.8,
        "width": 0.8,
        "x": 0.1,
        "y": 0.1
       },
       "content": {
        "cell": "9665077f-4970-4242-8def-dc83e9ccae00",
        "part": "whole"
       },
       "id": "7f9dffa3-ee17-47f4-8a4b-bd608788f898"
      }
     }
    },
    "9f2c10a6-0e29-4e72-92c7-ef92f89ea4b9": {
     "id": "9f2c10a6-0e29-4e72-92c7-ef92f89ea4b9",
     "prev": "06a3477f-84bf-4e99-a28f-9222dc879c43",
     "regions": {
      "8632a918-3dd1-45c8-89c3-2e8ea10cce9b": {
       "attrs": {
        "height": 0.8,
        "width": 0.8,
        "x": 0.1,
        "y": 0.1
       },
       "content": {
        "cell": "084be135-12e9-42be-8d7a-62e28eb24536",
        "part": "whole"
       },
       "id": "8632a918-3dd1-45c8-89c3-2e8ea10cce9b"
      }
     }
    },
    "a2e1d237-d796-418d-bc70-2ec0a0cefc61": {
     "id": "a2e1d237-d796-418d-bc70-2ec0a0cefc61",
     "prev": "084c67a3-a761-49a5-9c11-cf71e48211cc",
     "regions": {
      "c9b1eec8-2550-4c78-8377-dda36b4f8a7d": {
       "attrs": {
        "height": 0.8,
        "width": 0.8,
        "x": 0.1,
        "y": 0.1
       },
       "content": {
        "cell": "740094f7-acdf-4e24-9abe-fc8905f88597",
        "part": "whole"
       },
       "id": "c9b1eec8-2550-4c78-8377-dda36b4f8a7d"
      }
     }
    },
    "ae7548ca-ace7-40a8-8792-bb229939b6e5": {
     "id": "ae7548ca-ace7-40a8-8792-bb229939b6e5",
     "prev": "2bc5abb7-0bc0-4604-9863-2b93be4dc614",
     "regions": {
      "7517eac7-1e46-4fb4-a856-c7b9960742fe": {
       "attrs": {
        "height": 0.8,
        "width": 0.8,
        "x": 0.1,
        "y": 0.1
       },
       "content": {
        "cell": "6e54531c-6870-4c90-aca4-f1ec17132f58",
        "part": "whole"
       },
       "id": "7517eac7-1e46-4fb4-a856-c7b9960742fe"
      }
     }
    },
    "b0852f55-6fee-4b87-822a-3fd67a1eeaee": {
     "id": "b0852f55-6fee-4b87-822a-3fd67a1eeaee",
     "prev": "549b821d-8174-4da0-a756-a03cee983a02",
     "regions": {
      "93f6caf8-a7e2-42dd-8d88-a57266323fea": {
       "attrs": {
        "height": 0.8,
        "width": 0.8,
        "x": 0.1,
        "y": 0.1
       },
       "content": {
        "cell": "0636057e-0029-4de2-9620-9178f667b9f3",
        "part": "whole"
       },
       "id": "93f6caf8-a7e2-42dd-8d88-a57266323fea"
      }
     }
    },
    "b582617f-c35f-4b3d-843f-ef8c3c031989": {
     "id": "b582617f-c35f-4b3d-843f-ef8c3c031989",
     "prev": "bd75b0bf-3d55-411e-912b-8ef0a2fdc122",
     "regions": {
      "284194f6-1aca-4bee-8872-8a26c81eaaec": {
       "attrs": {
        "height": 0.8,
        "width": 0.8,
        "x": 0.1,
        "y": 0.1
       },
       "content": {
        "cell": "1e058d6c-d00e-4d1d-843d-ee8a93339525",
        "part": "whole"
       },
       "id": "284194f6-1aca-4bee-8872-8a26c81eaaec"
      }
     }
    },
    "bd75b0bf-3d55-411e-912b-8ef0a2fdc122": {
     "id": "bd75b0bf-3d55-411e-912b-8ef0a2fdc122",
     "prev": "eabc4d8c-3001-4e8a-946e-160b98028f84",
     "regions": {
      "1b77df51-9ec4-4ebb-89dd-8fd91619ba23": {
       "attrs": {
        "height": 0.8,
        "width": 0.8,
        "x": 0.1,
        "y": 0.1
       },
       "content": {
        "cell": "b2b6a535-11fc-4813-a69e-fc85253e51d6",
        "part": "whole"
       },
       "id": "1b77df51-9ec4-4ebb-89dd-8fd91619ba23"
      }
     }
    },
    "cc708878-5276-4ef8-9886-e4ea2aa350d5": {
     "id": "cc708878-5276-4ef8-9886-e4ea2aa350d5",
     "prev": "edd26e67-cd8a-42e1-9d31-542fe76595a9",
     "regions": {
      "c5906e55-4b54-4626-b664-dd1da5087f43": {
       "attrs": {
        "height": 0.8,
        "width": 0.8,
        "x": 0.1,
        "y": 0.1
       },
       "content": {
        "cell": "db19eb8c-7218-4413-aa9a-07f8ff9c1cec",
        "part": "whole"
       },
       "id": "c5906e55-4b54-4626-b664-dd1da5087f43"
      }
     }
    },
    "cf4dfc0f-fe91-438b-a055-acc57ce98665": {
     "id": "cf4dfc0f-fe91-438b-a055-acc57ce98665",
     "prev": "35bdfe0d-270c-41f1-9e10-34217293ba81",
     "regions": {
      "5fa04efe-e89d-4cd0-98a5-2c7a16ad53d4": {
       "attrs": {
        "height": 0.8,
        "width": 0.8,
        "x": 0.1,
        "y": 0.1
       },
       "content": {
        "cell": "03faa081-97d1-4387-a8c3-ef517cf4527b",
        "part": "whole"
       },
       "id": "5fa04efe-e89d-4cd0-98a5-2c7a16ad53d4"
      }
     }
    },
    "eabc4d8c-3001-4e8a-946e-160b98028f84": {
     "id": "eabc4d8c-3001-4e8a-946e-160b98028f84",
     "prev": "48030e57-1523-481e-b8bc-a42e900767e0",
     "regions": {
      "3d1a2165-22b7-4884-a26c-b2e481030b86": {
       "attrs": {
        "height": 0.8,
        "width": 0.8,
        "x": 0.1,
        "y": 0.1
       },
       "content": {
        "cell": "875c082d-5573-4bc6-82e0-b51258342836",
        "part": "whole"
       },
       "id": "3d1a2165-22b7-4884-a26c-b2e481030b86"
      }
     }
    },
    "edd26e67-cd8a-42e1-9d31-542fe76595a9": {
     "id": "edd26e67-cd8a-42e1-9d31-542fe76595a9",
     "prev": "157cc359-6c39-4355-8b8f-26ce0e38c564",
     "regions": {
      "6153de30-6284-49de-b44e-c833fa0ee2e0": {
       "attrs": {
        "height": 0.8,
        "width": 0.8,
        "x": 0.1,
        "y": 0.1
       },
       "content": {
        "cell": "afb6fd40-bfde-430b-8da6-d30adae567ca",
        "part": "whole"
       },
       "id": "6153de30-6284-49de-b44e-c833fa0ee2e0"
      }
     }
    },
    "f91e3d6b-c511-4a0b-8069-80cca347b4d5": {
     "id": "f91e3d6b-c511-4a0b-8069-80cca347b4d5",
     "prev": "98d73e6d-4a69-4131-9993-b3e26ea4b1ed",
     "regions": {
      "7ad48651-9170-4d8d-9b3a-3689e7b3b3c1": {
       "attrs": {
        "height": 0.8,
        "width": 0.8,
        "x": 0.1,
        "y": 0.1
       },
       "content": {
        "cell": "2f1923dd-033b-4362-a43a-c2c90a3f8a09",
        "part": "whole"
       },
       "id": "7ad48651-9170-4d8d-9b3a-3689e7b3b3c1"
      }
     }
    }
   },
   "themes": {
    "default": "9852b577-3297-4e9b-b8a0-76a89f0315d1",
    "theme": {
     "48eb016a-983c-472d-b659-abe44ea7e38d": {
      "id": "48eb016a-983c-472d-b659-abe44ea7e38d",
      "palette": {
       "19cc588f-0593-49c9-9f4b-e4d7cc113b1c": {
        "id": "19cc588f-0593-49c9-9f4b-e4d7cc113b1c",
        "rgb": [
         252,
         252,
         252
        ]
       },
       "31af15d2-7e15-44c5-ab5e-e04b16a89eff": {
        "id": "31af15d2-7e15-44c5-ab5e-e04b16a89eff",
        "rgb": [
         68,
         68,
         68
        ]
       },
       "50f92c45-a630-455b-aec3-788680ec7410": {
        "id": "50f92c45-a630-455b-aec3-788680ec7410",
        "rgb": [
         155,
         177,
         192
        ]
       },
       "c5cc3653-2ee1-402a-aba2-7caae1da4f6c": {
        "id": "c5cc3653-2ee1-402a-aba2-7caae1da4f6c",
        "rgb": [
         43,
         126,
         184
        ]
       },
       "efa7f048-9acb-414c-8b04-a26811511a21": {
        "id": "efa7f048-9acb-414c-8b04-a26811511a21",
        "rgb": [
         25.118061674008803,
         73.60176211453744,
         107.4819383259912
        ]
       }
      },
      "rules": {
       "blockquote": {
        "color": "50f92c45-a630-455b-aec3-788680ec7410"
       },
       "code": {
        "font-family": "Anonymous Pro"
       },
       "h1": {
        "color": "c5cc3653-2ee1-402a-aba2-7caae1da4f6c",
        "font-family": "Lato",
        "font-size": 8
       },
       "h2": {
        "color": "c5cc3653-2ee1-402a-aba2-7caae1da4f6c",
        "font-family": "Lato",
        "font-size": 6
       },
       "h3": {
        "color": "50f92c45-a630-455b-aec3-788680ec7410",
        "font-family": "Lato",
        "font-size": 5.5
       },
       "h4": {
        "color": "c5cc3653-2ee1-402a-aba2-7caae1da4f6c",
        "font-family": "Lato",
        "font-size": 5
       },
       "h5": {
        "font-family": "Lato"
       },
       "h6": {
        "font-family": "Lato"
       },
       "h7": {
        "font-family": "Lato"
       },
       "pre": {
        "font-family": "Anonymous Pro",
        "font-size": 4
       }
      },
      "text-base": {
       "font-family": "Merriweather",
       "font-size": 4
      }
     },
     "9852b577-3297-4e9b-b8a0-76a89f0315d1": {
      "id": "9852b577-3297-4e9b-b8a0-76a89f0315d1",
      "palette": {
       "19cc588f-0593-49c9-9f4b-e4d7cc113b1c": {
        "id": "19cc588f-0593-49c9-9f4b-e4d7cc113b1c",
        "rgb": [
         252,
         252,
         252
        ]
       },
       "31af15d2-7e15-44c5-ab5e-e04b16a89eff": {
        "id": "31af15d2-7e15-44c5-ab5e-e04b16a89eff",
        "rgb": [
         68,
         68,
         68
        ]
       },
       "50f92c45-a630-455b-aec3-788680ec7410": {
        "id": "50f92c45-a630-455b-aec3-788680ec7410",
        "rgb": [
         155,
         177,
         192
        ]
       },
       "c5cc3653-2ee1-402a-aba2-7caae1da4f6c": {
        "id": "c5cc3653-2ee1-402a-aba2-7caae1da4f6c",
        "rgb": [
         43,
         126,
         184
        ]
       },
       "efa7f048-9acb-414c-8b04-a26811511a21": {
        "id": "efa7f048-9acb-414c-8b04-a26811511a21",
        "rgb": [
         25.118061674008803,
         73.60176211453744,
         107.4819383259912
        ]
       }
      },
      "rules": {
       "blockquote": {
        "color": "50f92c45-a630-455b-aec3-788680ec7410"
       },
       "code": {
        "font-family": "Anonymous Pro"
       },
       "h1": {
        "color": "c5cc3653-2ee1-402a-aba2-7caae1da4f6c",
        "font-family": "Lato",
        "font-size": 8
       },
       "h2": {
        "color": "c5cc3653-2ee1-402a-aba2-7caae1da4f6c",
        "font-family": "Lato",
        "font-size": 6
       },
       "h3": {
        "color": "50f92c45-a630-455b-aec3-788680ec7410",
        "font-family": "Lato",
        "font-size": 5.5
       },
       "h4": {
        "color": "c5cc3653-2ee1-402a-aba2-7caae1da4f6c",
        "font-family": "Lato",
        "font-size": 5
       },
       "h5": {
        "font-family": "Lato"
       },
       "h6": {
        "font-family": "Lato"
       },
       "h7": {
        "font-family": "Lato"
       },
       "pre": {
        "font-family": "Anonymous Pro",
        "font-size": 4
       }
      },
      "text-base": {
       "font-family": "Merriweather",
       "font-size": 4
      }
     }
    }
   }
  }
 },
 "nbformat": 4,
 "nbformat_minor": 1
}
