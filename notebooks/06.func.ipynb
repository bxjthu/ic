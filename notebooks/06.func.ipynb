{
 "cells": [
  {
   "cell_type": "markdown",
   "metadata": {
    "nbpresent": {
     "id": "3d33eff6-441b-446e-b9cb-5e49e4095cbf"
    }
   },
   "source": [
    "# 6. Function"
   ]
  },
  {
   "cell_type": "markdown",
   "metadata": {
    "nbpresent": {
     "id": "d0053bc1-5b65-4954-a2bc-106495937300"
    }
   },
   "source": [
    "## Functions\n",
    "\n",
    "In Python, a **function** is a named sequence of statements that belong together. \n",
    "\n",
    "The syntax for a **function definition** is:\n",
    "\n",
    "```python\n",
    "def name( parameters ):\n",
    "    statements\n",
    "```"
   ]
  },
  {
   "cell_type": "markdown",
   "metadata": {
    "nbpresent": {
     "id": "bbca09f3-c852-455a-8076-4eb07da1c34d"
    }
   },
   "source": [
    "```python\n",
    "def name( parameters ):\n",
    "    statements\n",
    "``` \n",
    "\n",
    "**A header line**: \n",
    "begins with a keyword(`def(` and ends with a `colon`.\n",
    "\n",
    "**A body**: \n",
    "consisting of one or more Python statements, each indented the same amount – 4 spaces is the Python standard – from the header line.\n"
   ]
  },
  {
   "cell_type": "markdown",
   "metadata": {
    "nbpresent": {
     "id": "85117064-70a9-47b4-b20a-e84afd979f21"
    }
   },
   "source": [
    "** Function definition explained **\n",
    "\n",
    "**name:**\n",
    "\n",
    "anything you like, but must follow the rules for legal identifiers \n",
    "\n",
    "**parameters:**\n",
    "\n",
    "specify what information the function needs to do its work.\n",
    "\n",
    "**satements:**\n",
    "\n",
    "There can be any number of statements inside the function, but they have to be indented from the <font color=\"red\">def</font>."
   ]
  },
  {
   "cell_type": "markdown",
   "metadata": {
    "nbpresent": {
     "id": "61634eb0-525d-4c2a-926e-5c2f29dbe147"
    }
   },
   "source": [
    "** Parameters: Formal vs Actual **\n",
    "\n",
    "**Formal parameters**\n",
    "\n",
    "In the definition, the parameter list is more specifically known as the formal parameters. This list of names describes those things that the function will need to receive from the user of the function. \n",
    "\n",
    "**Actual parameters**\n",
    "\n",
    "When you use a function, you provide values to the formal parameters. These values, often called **arguments** or **actual parameters**, are passed to the function by the user.\n"
   ]
  },
  {
   "cell_type": "markdown",
   "metadata": {
    "nbpresent": {
     "id": "bb5384f0-1794-410f-82cf-8b0d38492433"
    }
   },
   "source": [
    "** Example **\n",
    "\n",
    "```python\n",
    "import turtle\n",
    "\n",
    "def drawSquare(t, sz):\n",
    "    \"\"\"Make turtle t draw a square of with side sz.\"\"\"\n",
    "\n",
    "    for i in range(4):\n",
    "        t.forward(sz)\n",
    "        t.left(90)\n",
    "\n",
    "alex = turtle.Turtle() \n",
    "drawSquare(alex, 50)\n",
    "```"
   ]
  },
  {
   "cell_type": "code",
   "execution_count": 11,
   "metadata": {
    "collapsed": false,
    "nbpresent": {
     "id": "6923fffe-0602-4aef-a693-4203f05bc6e7"
    }
   },
   "outputs": [
    {
     "data": {
      "text/html": [
       "\n",
       "        <iframe\n",
       "            width=\"100%\"\n",
       "            height=\"450\"\n",
       "            src=\"http://162.105.175.204:8000/runestone/static/thinkcspy/Workspace/index.html\"\n",
       "            frameborder=\"0\"\n",
       "            allowfullscreen\n",
       "        ></iframe>\n",
       "        "
      ],
      "text/plain": [
       "<IPython.lib.display.IFrame at 0x106ba3128>"
      ]
     },
     "execution_count": 11,
     "metadata": {},
     "output_type": "execute_result"
    }
   ],
   "source": [
    "from IPython.display import IFrame\n",
    "IFrame('http://162.105.175.204:8000/runestone/static/thinkcspy/Workspace/index.html', width='100%', height=450)"
   ]
  },
  {
   "cell_type": "markdown",
   "metadata": {
    "nbpresent": {
     "id": "095c4be7-f8a8-49b0-a153-85cbb8952658"
    }
   },
   "source": [
    "**docstrings**\n",
    "\n",
    "By convention, Python programmers use **docstrings** for the key documentation of their functions.\n",
    "\n",
    "If the first thing after the function header is a string (mostly a triple-quoted string), it is called a **docstring** and gets special treatment in Python.\n",
    "\n",
    "Try `<function_name>.__doc__` in Python shell, will retrieve the docstring for the function. \n",
    "\n",
    "This is different from comments in your code, which are completely eliminated when the program is parsed."
   ]
  },
  {
   "cell_type": "markdown",
   "metadata": {
    "nbpresent": {
     "id": "52a5844d-044c-4d19-b860-50d9f09baf31"
    }
   },
   "source": [
    "** Function call **\n",
    "\n",
    "Defining a new function does not make the function run. \n",
    "\n",
    "To do that we need a **function call**. \n",
    "\n",
    "This is also known as a **function invocation**. "
   ]
  },
  {
   "cell_type": "markdown",
   "metadata": {
    "nbpresent": {
     "id": "eb078889-0681-4ade-a3d9-c12838c4a60b"
    }
   },
   "source": [
    "```python\n",
    "import turtle\n",
    "def drawSquare(t, sz):\n",
    "    \"\"\"Make turtle t draw a square with side sz.\"\"\"\n",
    "    for i in range(4):\n",
    "        t.forward(sz)\n",
    "        t.left(90)\n",
    "\n",
    "alex = turtle.Turtle() \n",
    "drawSquare(alex, 50)          \n",
    "alex.penup()\n",
    "alex.goto(100,100)\n",
    "alex.pendown()\n",
    "drawSquare(alex,75) # Draw another square\n",
    "```"
   ]
  },
  {
   "cell_type": "markdown",
   "metadata": {
    "nbpresent": {
     "id": "be2f9967-92cc-43bc-82ae-a83ce98edcf4"
    }
   },
   "source": [
    "**Exercise**\n",
    "\n",
    "```\n",
    "1. What is a function in Python?\n",
    "(A) A named sequence of statements.\n",
    "(B) Any sequence of statements.\n",
    "(C) A mathematical expression that calculates a value.\n",
    "(D) A statement of the form x = 5 + 4.\n",
    "```"
   ]
  },
  {
   "cell_type": "markdown",
   "metadata": {
    "nbpresent": {
     "id": "a24d0a81-1151-4e07-850a-bd0093afe734"
    }
   },
   "source": [
    "```\n",
    "2. What is one main purpose of a function?\n",
    "(A) To improve the speed of execution\n",
    "(B) To help the programmer organize programs into chunks that match how they think about the solution to the problem.\n",
    "(C) All Python programs must be written using functions\n",
    "(D) To calculate values.\n",
    "```"
   ]
  },
  {
   "cell_type": "markdown",
   "metadata": {
    "nbpresent": {
     "id": "b8d03a1e-7c96-4d28-a755-8914cb07f932"
    }
   },
   "source": [
    "```\n",
    "3. Which of the following is a valid function header (first line of a function definition)?\n",
    "(A) def drawCircle(t):\n",
    "(B) def drawCircle:\n",
    "(C) drawCircle(t, sz):\n",
    "(D) def drawCircle(t, sz)\n",
    "```"
   ]
  },
  {
   "cell_type": "markdown",
   "metadata": {
    "nbpresent": {
     "id": "d83b03a5-3791-4826-b519-8ba7702c86c0"
    }
   },
   "source": [
    "```\n",
    "4. True or false: A function can be called several times by placing a function call in the body of a loop.\n",
    "(A) True\n",
    "(B) False\n",
    "```"
   ]
  },
  {
   "cell_type": "markdown",
   "metadata": {
    "nbpresent": {
     "id": "f3c0652f-3991-4873-a05b-18f0ff7b3a8f"
    }
   },
   "source": [
    "## Functions that Return Values"
   ]
  },
  {
   "cell_type": "code",
   "execution_count": null,
   "metadata": {
    "collapsed": false,
    "nbpresent": {
     "id": "062d346b-c2f0-4bf2-9a9d-fdb1074d7a33"
    }
   },
   "outputs": [],
   "source": [
    "print(abs(-5))\n",
    "print(sum([1,2,3,4,5]))\n",
    "print(sum(range(101)))\n",
    "print(sorted([1,2,4,9,6]))"
   ]
  },
  {
   "cell_type": "code",
   "execution_count": null,
   "metadata": {
    "collapsed": false,
    "nbpresent": {
     "id": "82de043a-bf96-4ce3-8a53-de5a9cfbe541"
    }
   },
   "outputs": [],
   "source": [
    "import math\n",
    "\n",
    "print(math.pow(2, 3))\n",
    "print(math.pow(7, 4))"
   ]
  },
  {
   "cell_type": "code",
   "execution_count": null,
   "metadata": {
    "collapsed": false,
    "nbpresent": {
     "id": "9fba0f27-f604-4aee-9f20-5819e81d07c8"
    }
   },
   "outputs": [],
   "source": [
    "print(max(7, 11))\n",
    "print(max(4, 1, 17, 2, 12))\n",
    "print(max(3 * 11, 5 ** 3, 512 - 9, 1024 ** 0))"
   ]
  },
  {
   "cell_type": "markdown",
   "metadata": {
    "nbpresent": {
     "id": "8ac4e5c8-a1f3-45fc-a736-ecee71303553"
    }
   },
   "source": [
    "** Fruitful function **\n",
    "\n",
    "Functions that return values are sometimes called **fruitful functions**. \n",
    "\n",
    "In many other languages, a chunk that doesn’t return a value is called a **procedure**. In Python we still call it a **function**, or if we want to stress it, a **non-fruitful function**."
   ]
  },
  {
   "cell_type": "markdown",
   "metadata": {
    "nbpresent": {
     "id": "adc136d6-bbe5-4fef-9361-2da8fd22f565"
    }
   },
   "source": [
    "Fruitful functions still allow the user to provide information (arguments). \n",
    "\n",
    "However there is now an additional piece of data that is **returned from the function**.\n",
    "\n",
    "$\\require{AMScd}$\n",
    "\\begin{CD}\n",
    "     @>\\text{needs}>> \\text{Func} @>\\text{return}>>\n",
    "\\end{CD}"
   ]
  },
  {
   "cell_type": "markdown",
   "metadata": {
    "nbpresent": {
     "id": "3b2a83bf-4e09-40e9-9179-f689af1d0916"
    }
   },
   "source": [
    "** Local variable **"
   ]
  },
  {
   "cell_type": "code",
   "execution_count": null,
   "metadata": {
    "collapsed": false,
    "nbpresent": {
     "id": "5147afd5-6efe-487b-a858-f8c35a725662"
    }
   },
   "outputs": [],
   "source": [
    "def square(x):\n",
    "    y = x * x\n",
    "    return y\n",
    "\n",
    "toSquare = 10\n",
    "result = square(toSquare)\n",
    "print(\"The result of \", toSquare, \n",
    "      \" squared is \", result)"
   ]
  },
  {
   "cell_type": "markdown",
   "metadata": {
    "nbpresent": {
     "id": "2eb4ac99-79f5-4f2d-a1de-4419f06e287c"
    }
   },
   "source": [
    "** Step through **"
   ]
  },
  {
   "cell_type": "code",
   "execution_count": 1,
   "metadata": {
    "collapsed": false,
    "nbpresent": {
     "id": "631d407d-dca4-4cdd-b37d-53ef132a0df5"
    }
   },
   "outputs": [
    {
     "data": {
      "text/html": [
       "\n",
       "        <iframe\n",
       "            width=\"100%\"\n",
       "            height=\"300\"\n",
       "            src=\"http://162.105.175.204:8003/iframe-embed.html#code=def%20square(x%29%3A%0A%20%20%20%20y%20%3D%20x%20*%20x%0A%20%20%20%20return%20y%0A%0AtoSquare%20%3D%2010%0Aresult%20%3D%20square(toSquare%29%0Aprint(%22The%20result%20of%20%22,%20toSquare,%20%22%20squared%20is%20%22,%20result%29&codeDivHeight=400&codeDivWidth=350&cumulative=false&curInstr=0&heapPrimitives=false&origin=opt-frontend.js&py=3&rawInputLstJSON=%5B%5D&textReferences=false\"\n",
       "            frameborder=\"0\"\n",
       "            allowfullscreen\n",
       "        ></iframe>\n",
       "        "
      ],
      "text/plain": [
       "<IPython.lib.display.IFrame at 0x106b7a9e8>"
      ]
     },
     "execution_count": 1,
     "metadata": {},
     "output_type": "execute_result"
    }
   ],
   "source": [
    "from IPython.display import IFrame\n",
    "IFrame(\"http://162.105.175.204:8003/iframe-embed.html#code=def%20square(x%29%3A%0A%20%20%20%20y%20%3D%20x%20*%20x%0A%20%20%20%20return%20y%0A%0AtoSquare%20%3D%2010%0Aresult%20%3D%20square(toSquare%29%0Aprint(%22The%20result%20of%20%22,%20toSquare,%20%22%20squared%20is%20%22,%20result%29&codeDivHeight=400&codeDivWidth=350&cumulative=false&curInstr=0&heapPrimitives=false&origin=opt-frontend.js&py=3&rawInputLstJSON=%5B%5D&textReferences=false\", width='100%', height=300)"
   ]
  },
  {
   "cell_type": "markdown",
   "metadata": {
    "nbpresent": {
     "id": "9224f3f2-c5c8-443c-a4ec-63a13cb6d215"
    }
   },
   "source": [
    "** More about return value **\n",
    "\n",
    "Typically, functions will return values that can be printed or processed in some other way by the caller.\n",
    "\n",
    "All Python functions return the value <font color=\"red\">None</font> unless there is an explicit return statement with a value other than <font color=\"red\">None</font>. "
   ]
  },
  {
   "cell_type": "code",
   "execution_count": null,
   "metadata": {
    "collapsed": false,
    "nbpresent": {
     "id": "12191ab0-f994-40d2-a93e-f85d66342635"
    }
   },
   "outputs": [],
   "source": [
    "def square(x):\n",
    "    y = x * x\n",
    "    print(y)  # Bad!\n",
    "\n",
    "toSquare = 10\n",
    "result = square(toSquare)\n",
    "print(\"The result of \", toSquare, \n",
    "      \" squared is \", result)"
   ]
  },
  {
   "cell_type": "code",
   "execution_count": 2,
   "metadata": {
    "collapsed": false,
    "nbpresent": {
     "id": "635b0138-ceef-4170-97ad-33b5976b6be3"
    }
   },
   "outputs": [
    {
     "data": {
      "text/html": [
       "\n",
       "        <iframe\n",
       "            width=\"100%\"\n",
       "            height=\"300\"\n",
       "            src=\"http://162.105.175.204:8003/iframe-embed.html#code=def%20square(x%29%3A%0A%20%20%20%20y%20%3D%20x%20*%20x%0A%20%20%20%20print(y%29%20%20%20%23%20Bad!%20%0A%0AtoSquare%20%3D%2010%0Aresult%20%3D%20square(toSquare%29%0Aprint(%22The%20result%20of%20%22,%20toSquare,%20%22%20squared%20is%20%22,%20result%29&codeDivHeight=400&codeDivWidth=350&cumulative=false&curInstr=0&heapPrimitives=false&origin=opt-frontend.js&py=3&rawInputLstJSON=%5B%5D&textReferences=false\"\n",
       "            frameborder=\"0\"\n",
       "            allowfullscreen\n",
       "        ></iframe>\n",
       "        "
      ],
      "text/plain": [
       "<IPython.lib.display.IFrame at 0x106b7ac88>"
      ]
     },
     "execution_count": 2,
     "metadata": {},
     "output_type": "execute_result"
    }
   ],
   "source": [
    "from IPython.display import IFrame\n",
    "IFrame(\"http://162.105.175.204:8003/iframe-embed.html#code=def%20square(x%29%3A%0A%20%20%20%20y%20%3D%20x%20*%20x%0A%20%20%20%20print(y%29%20%20%20%23%20Bad!%20%0A%0AtoSquare%20%3D%2010%0Aresult%20%3D%20square(toSquare%29%0Aprint(%22The%20result%20of%20%22,%20toSquare,%20%22%20squared%20is%20%22,%20result%29&codeDivHeight=400&codeDivWidth=350&cumulative=false&curInstr=0&heapPrimitives=false&origin=opt-frontend.js&py=3&rawInputLstJSON=%5B%5D&textReferences=false\", width='100%', height=300)"
   ]
  },
  {
   "cell_type": "markdown",
   "metadata": {
    "nbpresent": {
     "id": "d5a0119c-40a0-4294-8869-d6b57624f99b"
    }
   },
   "source": [
    "** Exercise **\n",
    "\n",
    "```\n",
    "1. What will the following function return?\n",
    "```\n",
    "```python\n",
    "def addEm(x, y, z):\n",
    "    print(x + y + z)\n",
    "```\n",
    "```\n",
    "(A) Nothing (no value)\n",
    "(B) The value of x + y + z\n",
    "(C) The string 'x + y + z'\n",
    "```"
   ]
  },
  {
   "cell_type": "markdown",
   "metadata": {
    "nbpresent": {
     "id": "6ab3fc4c-0224-44f7-bc3b-11d04ea71e7f"
    }
   },
   "source": [
    "```\n",
    "2. What is wrong with this func definition:\n",
    "```\n",
    "```python\n",
    "def addEm(x, y, z):\n",
    "    return x + y + z\n",
    "    print('the answer is', x + y + z)\n",
    "```\n",
    "```\n",
    "(A) You should never use a print statement in a function definition.\n",
    "(B) You should not have any statements in a function after the return statement.\n",
    "(C) You must calculate the value of x+y+z before you return it.\n",
    "(D) A function cannot return a number.\n",
    "```"
   ]
  },
  {
   "cell_type": "markdown",
   "metadata": {
    "nbpresent": {
     "id": "805d7a23-6262-4a97-88b0-2d2340abf331"
    }
   },
   "source": [
    "## Variables and Parameters are Local\n",
    "\n",
    "```python\n",
    "def square(x):\n",
    "    y = x * x\n",
    "    return y\n",
    "\n",
    "    z = square(10)\n",
    "    print(y)\n",
    "```"
   ]
  },
  {
   "cell_type": "code",
   "execution_count": 1,
   "metadata": {
    "collapsed": false,
    "nbpresent": {
     "id": "08bf5cc7-7089-4568-bf77-6c46ba2b12e6"
    }
   },
   "outputs": [
    {
     "data": {
      "text/html": [
       "\n",
       "        <iframe\n",
       "            width=\"100%\"\n",
       "            height=\"300\"\n",
       "            src=\"http://162.105.175.204:8003/iframe-embed.html#code=def%20square(x%29%3A%0A%20%20%20%20y%20%3D%20x%20*%20x%0A%20%20%20%20return%20y%0A%0Az%20%3D%20square(10%29%0Aprint(y%29&codeDivHeight=400&codeDivWidth=350&cumulative=false&curInstr=0&heapPrimitives=false&origin=opt-frontend.js&py=3&rawInputLstJSON=%5B%5D&textReferences=false\"\n",
       "            frameborder=\"0\"\n",
       "            allowfullscreen\n",
       "        ></iframe>\n",
       "        "
      ],
      "text/plain": [
       "<IPython.lib.display.IFrame at 0x106b7a940>"
      ]
     },
     "execution_count": 1,
     "metadata": {},
     "output_type": "execute_result"
    }
   ],
   "source": [
    "from IPython.display import IFrame\n",
    "IFrame(\"http://162.105.175.204:8003/iframe-embed.html#code=def%20square(x%29%3A%0A%20%20%20%20y%20%3D%20x%20*%20x%0A%20%20%20%20return%20y%0A%0Az%20%3D%20square(10%29%0Aprint(y%29&codeDivHeight=400&codeDivWidth=350&cumulative=false&curInstr=0&heapPrimitives=false&origin=opt-frontend.js&py=3&rawInputLstJSON=%5B%5D&textReferences=false\", width='100%', height=300)"
   ]
  },
  {
   "cell_type": "markdown",
   "metadata": {
    "nbpresent": {
     "id": "2d2ff8be-6ff4-4384-a7d2-0a560104ce82"
    }
   },
   "source": [
    "** Variable lifetime **\n",
    "\n",
    "Local variable `y` only exist while the function is being executed — we call this its `lifetime`. \n",
    "\n",
    "When the execution of the function terminates (returns), the local variables are <span style=\"text-decoration: line-through;\">destroyed</span>. \n",
    "\n",
    "Each call of the function creates new local variables, and their lifetimes expire when the function returns to the caller.\n"
   ]
  },
  {
   "cell_type": "markdown",
   "metadata": {
    "nbpresent": {
     "id": "e756c530-b98f-4d75-a5ef-b47b83902cc1"
    }
   },
   "source": [
    "** Global variable **\n",
    "\n",
    "```python\n",
    "y = 10\n",
    "print(y)\n",
    "```\n",
    "\n",
    "<div class=\"alert alert-danger\">\n",
    "It is legal for a function to access a global variable. But this is considered **bad form** and should be avoided. \n",
    "</div>"
   ]
  },
  {
   "cell_type": "code",
   "execution_count": null,
   "metadata": {
    "collapsed": false,
    "nbpresent": {
     "id": "e9a4b023-bd49-4655-ae42-0bc07dcf3952"
    }
   },
   "outputs": [],
   "source": [
    "def badsquare(x):\n",
    "    y = x ** power\n",
    "    return y\n",
    "\n",
    "power = 2\n",
    "result = badsquare(10)\n",
    "print(result)"
   ]
  },
  {
   "cell_type": "markdown",
   "metadata": {
    "nbpresent": {
     "id": "ad0d56df-3c01-493e-920e-3c966ad89a8a"
    }
   },
   "source": [
    "Rewrite the above code, avoid using global variables."
   ]
  },
  {
   "cell_type": "markdown",
   "metadata": {
    "nbpresent": {
     "id": "9ffe9479-fa28-427f-bcfc-835d42754dc8"
    }
   },
   "source": [
    "** how variables are looked up in Python **\n",
    "\n",
    "- First, Python looks at the variables that are defined as local variables in the function. We call this the `local scope`. \n",
    "\n",
    "- If the variable name is not found in the `local scope`, then Python looks at the global variables, or `global scope`. \n",
    "\n",
    "Assignment statements in the local function cannot change variables defined outside the function. "
   ]
  },
  {
   "cell_type": "code",
   "execution_count": 4,
   "metadata": {
    "collapsed": false,
    "nbpresent": {
     "id": "17aa25b8-173b-4a01-b299-850a5adeff3e"
    }
   },
   "outputs": [
    {
     "data": {
      "text/html": [
       "\n",
       "        <iframe\n",
       "            width=\"100%\"\n",
       "            height=\"450\"\n",
       "            src=\"http://162.105.175.204:8003/iframe-embed.html#code=def%20powerof(x,%20p%29%3A%20%0A%20%20%20%20power%20%3D%20p%20%20%20%23%20Another%20dumb%20mistake%0A%20%20%20%20y%20%3D%20x%20**%20power%0A%20%20%20%20return%20y%0A%0Apower%20%3D%203%20%0Aresult%20%3D%20powerof(10,%202%29%0Aprint(result%29&codeDivHeight=400&codeDivWidth=350&cumulative=false&curInstr=0&heapPrimitives=false&origin=opt-frontend.js&py=3&rawInputLstJSON=%5B%5D&textReferences=false\"\n",
       "            frameborder=\"0\"\n",
       "            allowfullscreen\n",
       "        ></iframe>\n",
       "        "
      ],
      "text/plain": [
       "<IPython.lib.display.IFrame at 0x106b7ae80>"
      ]
     },
     "execution_count": 4,
     "metadata": {},
     "output_type": "execute_result"
    }
   ],
   "source": [
    "from IPython.display import IFrame\n",
    "IFrame(\"http://162.105.175.204:8003/iframe-embed.html#code=def%20powerof(x,%20p%29%3A%20%0A%20%20%20%20power%20%3D%20p%20%20%20%23%20Another%20dumb%20mistake%0A%20%20%20%20y%20%3D%20x%20**%20power%0A%20%20%20%20return%20y%0A%0Apower%20%3D%203%20%0Aresult%20%3D%20powerof(10,%202%29%0Aprint(result%29&codeDivHeight=400&codeDivWidth=350&cumulative=false&curInstr=0&heapPrimitives=false&origin=opt-frontend.js&py=3&rawInputLstJSON=%5B%5D&textReferences=false\", width='100%', height=450)"
   ]
  },
  {
   "cell_type": "markdown",
   "metadata": {
    "nbpresent": {
     "id": "96503525-2aed-4deb-be23-3a039c16ac58"
    }
   },
   "source": [
    "** Another example **\n",
    "\n",
    "```python\n",
    "def square(x):\n",
    "    y = x * x\n",
    "    x = 0       # assign a new value to x\n",
    "    return y\n",
    "\n",
    "x = 2 \n",
    "z = square(x)\n",
    "print(z)\n",
    "```"
   ]
  },
  {
   "cell_type": "code",
   "execution_count": 5,
   "metadata": {
    "collapsed": false,
    "nbpresent": {
     "id": "addbd817-767f-4d8c-97e8-b26c01da43c1"
    }
   },
   "outputs": [
    {
     "data": {
      "text/html": [
       "\n",
       "        <iframe\n",
       "            width=\"100%\"\n",
       "            height=\"450\"\n",
       "            src=\"http://162.105.175.204:8003/iframe-embed.html#code=def%20square(x%29%3A%0A%20%20%20%20y%20%3D%20x%20*%20x%0A%20%20%20%20x%20%3D%200%20%20%20%20%20%20%20%23%20assign%20a%20new%20value%20to%20the%20parameter%20x%0A%20%20%20%20return%20y%0A%0Ax%20%3D%202%20%0Az%20%3D%20square(x%29%0Aprint(z%29&codeDivHeight=400&codeDivWidth=350&cumulative=false&curInstr=0&heapPrimitives=false&origin=opt-frontend.js&py=3&rawInputLstJSON=%5B%5D&textReferences=false\"\n",
       "            frameborder=\"0\"\n",
       "            allowfullscreen\n",
       "        ></iframe>\n",
       "        "
      ],
      "text/plain": [
       "<IPython.lib.display.IFrame at 0x106b7afd0>"
      ]
     },
     "execution_count": 5,
     "metadata": {},
     "output_type": "execute_result"
    }
   ],
   "source": [
    "from IPython.display import IFrame\n",
    "IFrame(\"http://162.105.175.204:8003/iframe-embed.html#code=def%20square(x%29%3A%0A%20%20%20%20y%20%3D%20x%20*%20x%0A%20%20%20%20x%20%3D%200%20%20%20%20%20%20%20%23%20assign%20a%20new%20value%20to%20the%20parameter%20x%0A%20%20%20%20return%20y%0A%0Ax%20%3D%202%20%0Az%20%3D%20square(x%29%0Aprint(z%29&codeDivHeight=400&codeDivWidth=350&cumulative=false&curInstr=0&heapPrimitives=false&origin=opt-frontend.js&py=3&rawInputLstJSON=%5B%5D&textReferences=false\", width='100%', height=450)"
   ]
  },
  {
   "cell_type": "markdown",
   "metadata": {
    "nbpresent": {
     "id": "9c0f0bdb-346e-48a2-9e46-f2150efe0934"
    }
   },
   "source": [
    "** Access global variable **\n",
    "\n",
    "using `global` keyword to declare a variable as global"
   ]
  },
  {
   "cell_type": "code",
   "execution_count": null,
   "metadata": {
    "collapsed": false,
    "nbpresent": {
     "id": "370fb837-7534-42b9-8e46-caa57d6d9bdc"
    }
   },
   "outputs": [],
   "source": [
    "g = 10\n",
    "def testg():\n",
    "    global g\n",
    "    g = 100\n",
    "testg()\n",
    "print(g)"
   ]
  },
  {
   "cell_type": "markdown",
   "metadata": {
    "nbpresent": {
     "id": "474e0a8a-44a0-4f45-8b91-67d54b462f84"
    }
   },
   "source": [
    "** Exercise **\n",
    "\n",
    "```\n",
    "1. What is a variable’s scope?\n",
    "(A) Its value\n",
    "(B) The range of statements in the code where a variable can be accessed.\n",
    "(C) Its name\n",
    "```"
   ]
  },
  {
   "cell_type": "markdown",
   "metadata": {
    "nbpresent": {
     "id": "35c2b91f-38a7-4838-b9b9-3ed7c9a7098a"
    }
   },
   "source": [
    "```\n",
    "2. What is a local variable?\n",
    "(A) A temporary variable that is only used inside a function\n",
    "(B) The same as a parameter\n",
    "(C) Another name for any variable\n",
    "```"
   ]
  },
  {
   "cell_type": "markdown",
   "metadata": {
    "nbpresent": {
     "id": "4f1fb997-a3c8-47a8-bf10-562187c6a9a2"
    }
   },
   "source": [
    "```\n",
    "3. Can you use the same name for a local variable as a global variable?\n",
    "(A) Yes, and there is no reason not to.\n",
    "(B) Yes, but it is considered bad form.\n",
    "(C) No, it will cause an error.\n",
    "```"
   ]
  },
  {
   "cell_type": "markdown",
   "metadata": {
    "nbpresent": {
     "id": "23589a4a-3c4a-4ad3-be91-995af2410af3"
    }
   },
   "source": [
    "## The Accumulator Pattern\n",
    "\n"
   ]
  },
  {
   "cell_type": "code",
   "execution_count": null,
   "metadata": {
    "collapsed": false,
    "nbpresent": {
     "id": "b7f443c6-546b-4341-a0c2-6cb10f63a1f5"
    }
   },
   "outputs": [],
   "source": [
    "def square(x):\n",
    "    runningtotal = 0\n",
    "    for counter in range(x):\n",
    "        runningtotal = runningtotal + x\n",
    "\n",
    "    return runningtotal\n",
    "\n",
    "toSquare = 10\n",
    "squareResult = square(toSquare)\n",
    "print(\"The result of\", toSquare, \n",
    "      \"squared is\", squareResult)"
   ]
  },
  {
   "cell_type": "markdown",
   "metadata": {
    "nbpresent": {
     "id": "71dc46a6-2b42-43dc-94ed-550e923dd02f"
    }
   },
   "source": [
    "** Accumulator **\n",
    "\n",
    "This pattern of iterating the updating of a variable is commonly referred to as the **accumulator pattern**. We refer to the variable as the **accumulator**.\n",
    "\n",
    "Remember that the key to making it work successfully is to be sure to **initialize the variable** before you start the iteration. \n",
    "\n",
    "Once inside the iteration, it is required that you **update** the accumulator."
   ]
  },
  {
   "cell_type": "code",
   "execution_count": 6,
   "metadata": {
    "collapsed": false,
    "nbpresent": {
     "id": "99d96679-4ec4-47ce-ae77-9379a5f8c73b"
    }
   },
   "outputs": [
    {
     "data": {
      "text/html": [
       "\n",
       "        <iframe\n",
       "            width=\"100%\"\n",
       "            height=\"400\"\n",
       "            src=\"http://162.105.175.204:8003/iframe-embed.html#code=def%20square(x%29%3A%0A%20%20%20%20runningtotal%20%3D%200%0A%20%20%20%20for%20counter%20in%20range(x%29%3A%0A%20%20%20%20%20%20%20%20runningtotal%20%3D%20runningtotal%20%2B%20x%0A%0A%20%20%20%20return%20runningtotal%0A%0AtoSquare%20%3D%2010%0AsquareResult%20%3D%20square(toSquare%29%0Aprint(%22The%20result%20of%22,%20toSquare,%20%22squared%20is%22,%20squareResult%29&codeDivHeight=400&codeDivWidth=350&cumulative=false&curInstr=0&heapPrimitives=false&origin=opt-frontend.js&py=3&rawInputLstJSON=%5B%5D&textReferences=false\"\n",
       "            frameborder=\"0\"\n",
       "            allowfullscreen\n",
       "        ></iframe>\n",
       "        "
      ],
      "text/plain": [
       "<IPython.lib.display.IFrame at 0x106ba3080>"
      ]
     },
     "execution_count": 6,
     "metadata": {},
     "output_type": "execute_result"
    }
   ],
   "source": [
    "from IPython.display import IFrame\n",
    "IFrame(\"http://162.105.175.204:8003/iframe-embed.html#code=def%20square(x%29%3A%0A%20%20%20%20runningtotal%20%3D%200%0A%20%20%20%20for%20counter%20in%20range(x%29%3A%0A%20%20%20%20%20%20%20%20runningtotal%20%3D%20runningtotal%20%2B%20x%0A%0A%20%20%20%20return%20runningtotal%0A%0AtoSquare%20%3D%2010%0AsquareResult%20%3D%20square(toSquare%29%0Aprint(%22The%20result%20of%22,%20toSquare,%20%22squared%20is%22,%20squareResult%29&codeDivHeight=400&codeDivWidth=350&cumulative=false&curInstr=0&heapPrimitives=false&origin=opt-frontend.js&py=3&rawInputLstJSON=%5B%5D&textReferences=false\", width='100%', height=400)"
   ]
  },
  {
   "cell_type": "markdown",
   "metadata": {
    "nbpresent": {
     "id": "c91702f0-c48e-4cad-ac03-31704131d3d3"
    }
   },
   "source": [
    "## Functions can Call Other Functions\n",
    "\n",
    "It is important to understand that each of the functions we write can be used and **called from other functions** we write. \n",
    "\n",
    "This is one of the most important ways that computer scientists take a large problem and break it down into a group of smaller problems. \n",
    "\n",
    "This process of breaking a problem into smaller subproblems is called **functional decomposition**."
   ]
  },
  {
   "cell_type": "code",
   "execution_count": null,
   "metadata": {
    "collapsed": false,
    "nbpresent": {
     "id": "c2c5dcd8-febf-4798-b94c-ae9c86547a70"
    }
   },
   "outputs": [],
   "source": [
    "def square(x):\n",
    "    y = x * x\n",
    "    return y\n",
    "    \n",
    "def sum_of_squares(x, y, z): \n",
    "    a = square(x)\n",
    "    b = square(y)\n",
    "    c = square(z)\n",
    "    return a + b + c\n",
    "\n",
    "a,b,c = -5,2,10\n",
    "result = sum_of_squares(a, b, c)\n",
    "print(result)\n"
   ]
  },
  {
   "cell_type": "code",
   "execution_count": 7,
   "metadata": {
    "collapsed": false,
    "nbpresent": {
     "id": "500f3295-9faa-43c0-89ae-6d1cec4b0e25"
    }
   },
   "outputs": [
    {
     "data": {
      "text/html": [
       "\n",
       "        <iframe\n",
       "            width=\"100%\"\n",
       "            height=\"500\"\n",
       "            src=\"http://162.105.175.204:8003/iframe-embed.html#code=def%20square(x%29%3A%0A%20%20%20%20y%20%3D%20x%20*%20x%0A%20%20%20%20return%20y%0A%20%20%20%20%0Adef%20sum_of_squares(x,%20y,%20z%29%3A%20%0A%20%20%20%20a%20%3D%20square(x%29%0A%20%20%20%20b%20%3D%20square(y%29%0A%20%20%20%20c%20%3D%20square(z%29%0A%20%20%20%20%0A%20%20%20%20return%20a%20%2B%20b%20%2B%20c%0A%0Aa%20%3D%20-5%0Ab%20%3D%202%20%0Ac%20%3D%2010%0Aresult%20%3D%20sum_of_squares(a,%20b,%20c%29%0Aprint(result%29&codeDivHeight=400&codeDivWidth=350&cumulative=false&curInstr=0&heapPrimitives=false&origin=opt-frontend.js&py=3&rawInputLstJSON=%5B%5D&textReferences=false\"\n",
       "            frameborder=\"0\"\n",
       "            allowfullscreen\n",
       "        ></iframe>\n",
       "        "
      ],
      "text/plain": [
       "<IPython.lib.display.IFrame at 0x106ba31d0>"
      ]
     },
     "execution_count": 7,
     "metadata": {},
     "output_type": "execute_result"
    }
   ],
   "source": [
    "from IPython.display import IFrame\n",
    "IFrame(\"http://162.105.175.204:8003/iframe-embed.html#code=def%20square(x%29%3A%0A%20%20%20%20y%20%3D%20x%20*%20x%0A%20%20%20%20return%20y%0A%20%20%20%20%0Adef%20sum_of_squares(x,%20y,%20z%29%3A%20%0A%20%20%20%20a%20%3D%20square(x%29%0A%20%20%20%20b%20%3D%20square(y%29%0A%20%20%20%20c%20%3D%20square(z%29%0A%20%20%20%20%0A%20%20%20%20return%20a%20%2B%20b%20%2B%20c%0A%0Aa%20%3D%20-5%0Ab%20%3D%202%20%0Ac%20%3D%2010%0Aresult%20%3D%20sum_of_squares(a,%20b,%20c%29%0Aprint(result%29&codeDivHeight=400&codeDivWidth=350&cumulative=false&curInstr=0&heapPrimitives=false&origin=opt-frontend.js&py=3&rawInputLstJSON=%5B%5D&textReferences=false\", width='100%', height=500)"
   ]
  },
  {
   "cell_type": "markdown",
   "metadata": {
    "nbpresent": {
     "id": "65510ce1-b382-48eb-8d5a-6b3f805aaccb"
    }
   },
   "source": [
    "The above example illustrates many very important Python concepts, including:\n",
    "\n",
    "- local variables \n",
    "\n",
    "- global variables\n",
    "\n",
    "- parameter passing "
   ]
  },
  {
   "cell_type": "markdown",
   "metadata": {
    "nbpresent": {
     "id": "964ca65b-e1dd-47e9-8560-a110b762ed84"
    }
   },
   "source": [
    "```python\n",
    "import turtle\n",
    "def drawRectangle(t, w, h):\n",
    "    \"\"\"Get turtle t to draw a rectangle of width w and height h.\"\"\"\n",
    "    for i in range(2):\n",
    "        t.forward(w)\n",
    "        t.left(90)\n",
    "        t.forward(h)\n",
    "        t.left(90)\n",
    "\n",
    "def drawSquare(tx, sz): \n",
    "    drawRectangle(tx, sz, sz)\n",
    "\n",
    "tess = turtle.Turtle()           # create tess\n",
    "drawSquare(tess, 50)\n",
    "```"
   ]
  },
  {
   "cell_type": "markdown",
   "metadata": {
    "nbpresent": {
     "id": "0582aceb-21cb-4a62-bd07-d83a9b4540e5"
    }
   },
   "source": [
    "This example illustrates an important computer science problem solving technique called **generalization**. "
   ]
  },
  {
   "cell_type": "markdown",
   "metadata": {
    "nbpresent": {
     "id": "1d65457c-0a49-4507-b28e-75808bf11725"
    }
   },
   "source": [
    "** Why bother to create new functions **\n",
    "\n",
    "- Creating a new function gives you an opportunity to name a group of statements. \n",
    "    -Functions can simplify a program by hiding a complex computation behind a single command. The function (including its name) can capture your mental chunking, or abstraction, of the problem.\n",
    "\n",
    "- Creating a new function can make a program smaller by eliminating repetitive code.\n",
    "    -Sometimes you can write functions that allow you to solve a specific problem using a more general solution.\n"
   ]
  },
  {
   "cell_type": "markdown",
   "metadata": {
    "nbpresent": {
     "id": "b3e73261-33a7-4df6-b00d-d8fa444a46ae"
    }
   },
   "source": [
    "** Exercise: Drawing a circle **\n",
    "\n",
    "```python\n",
    "import turtle\n",
    "\n",
    "def drawPolygon(t, sideLength, numSides):\n",
    "    # fill your code here\n",
    "\n",
    "def drawCircle(anyTurtle, radius):\n",
    "    # fill your code here\n",
    "\n",
    "wheel = turtle.Turtle()\n",
    "drawCircle(wheel, 40)\n",
    "```"
   ]
  },
  {
   "cell_type": "code",
   "execution_count": 9,
   "metadata": {
    "collapsed": false,
    "nbpresent": {
     "id": "6877c85c-2a49-4395-9678-db8e0b42f9dd"
    }
   },
   "outputs": [
    {
     "data": {
      "text/html": [
       "\n",
       "        <iframe\n",
       "            width=\"100%\"\n",
       "            height=\"450\"\n",
       "            src=\"http://162.105.175.204:8000/runestone/static/thinkcspy/Workspace/index.html\"\n",
       "            frameborder=\"0\"\n",
       "            allowfullscreen\n",
       "        ></iframe>\n",
       "        "
      ],
      "text/plain": [
       "<IPython.lib.display.IFrame at 0x106ba3390>"
      ]
     },
     "execution_count": 9,
     "metadata": {},
     "output_type": "execute_result"
    }
   ],
   "source": [
    "from IPython.display import IFrame\n",
    "IFrame('http://162.105.175.204:8000/runestone/static/thinkcspy/Workspace/index.html', width='100%', height=450)"
   ]
  },
  {
   "cell_type": "markdown",
   "metadata": {
    "nbpresent": {
     "id": "79bf0202-027b-473f-8f86-a4d9dbecbe53"
    }
   },
   "source": [
    "## Flow of Execution Summary\n",
    "\n",
    "- Execution always begins at the first statement of the program. \n",
    "\n",
    "- Statements are executed one at a time, in order, from top to bottom. \n",
    "\n",
    "- Function definitions do not alter the flow of execution of the program, but remember that statements inside the function are not executed until the function is called. \n",
    "\n",
    "- Instead of going to the next statement, the flow jumps to the first line of the called function, executes all the statements there, and then comes back to pick up where it left off."
   ]
  },
  {
   "cell_type": "markdown",
   "metadata": {
    "nbpresent": {
     "id": "cbd6ced2-e105-4ee6-b7c0-febb309edea1"
    }
   },
   "source": [
    "** Exercise:  **\n",
    "\n",
    "Analyze the execution flow of the following code.\n",
    "\n",
    "```python\t\n",
    "def pow(b, p):\n",
    "    y = b ** p\n",
    "    return y\n",
    "\n",
    "def square(x):\n",
    "    a = pow(x, 2)\n",
    "    return a\n",
    "\n",
    "n = 5\n",
    "result = square(n)\n",
    "print(result)\n",
    "```\n"
   ]
  },
  {
   "cell_type": "code",
   "execution_count": 10,
   "metadata": {
    "collapsed": false,
    "nbpresent": {
     "id": "e3b2dc5d-ae91-4840-b252-a94e5ff9cff3"
    }
   },
   "outputs": [
    {
     "data": {
      "text/html": [
       "\n",
       "        <iframe\n",
       "            width=\"100%\"\n",
       "            height=\"400\"\n",
       "            src=\"http://162.105.175.204:8003/iframe-embed.html#code=def%20pow(b,%20p%29%3A%0A%20%20%20%20y%20%3D%20b%20**%20p%0A%20%20%20%20return%20y%0A%0Adef%20square(x%29%3A%0A%20%20%20%20a%20%3D%20pow(x,%202%29%0A%20%20%20%20return%20a%0A%0An%20%3D%205%0Aresult%20%3D%20square(n%29%0Aprint(result%29&codeDivHeight=400&codeDivWidth=350&cumulative=false&curInstr=0&heapPrimitives=false&origin=opt-frontend.js&py=3&rawInputLstJSON=%5B%5D&textReferences=false\"\n",
       "            frameborder=\"0\"\n",
       "            allowfullscreen\n",
       "        ></iframe>\n",
       "        "
      ],
      "text/plain": [
       "<IPython.lib.display.IFrame at 0x106ba34e0>"
      ]
     },
     "execution_count": 10,
     "metadata": {},
     "output_type": "execute_result"
    }
   ],
   "source": [
    "from IPython.display import IFrame\n",
    "IFrame(\"http://162.105.175.204:8003/iframe-embed.html#code=def%20pow(b,%20p%29%3A%0A%20%20%20%20y%20%3D%20b%20**%20p%0A%20%20%20%20return%20y%0A%0Adef%20square(x%29%3A%0A%20%20%20%20a%20%3D%20pow(x,%202%29%0A%20%20%20%20return%20a%0A%0An%20%3D%205%0Aresult%20%3D%20square(n%29%0Aprint(result%29&codeDivHeight=400&codeDivWidth=350&cumulative=false&curInstr=0&heapPrimitives=false&origin=opt-frontend.js&py=3&rawInputLstJSON=%5B%5D&textReferences=false\", width='100%', height=400)"
   ]
  },
  {
   "cell_type": "markdown",
   "metadata": {
    "nbpresent": {
     "id": "aa332752-0910-46c7-bba5-ff8065825fb2"
    }
   },
   "source": [
    "## Using a Main Function\n",
    "\n",
    "- Before the Python interpreter executes your program, it defines a few special variables. \n",
    "\n",
    "- One of those variables is called `__name__` and it is automatically set to the string value \"`__main__`\" when the program is being executed by itself in a **standalone** fashion. \n",
    "\n",
    "- If the program is being imported by another program, the `__name__` variable is set to the name of that module. \n",
    "\n",
    "- Usually we would not want to execute the **main** function if imported by another program.\n",
    "\n"
   ]
  },
  {
   "cell_type": "code",
   "execution_count": null,
   "metadata": {
    "collapsed": false,
    "nbpresent": {
     "id": "33179a5e-12ac-428a-9385-96ff73128c84"
    }
   },
   "outputs": [],
   "source": [
    "def squareit(n):\n",
    "    return n * n\n",
    "\n",
    "def cubeit(n):\n",
    "    return n*n*n\n",
    "\n",
    "def main():\n",
    "    anum = int(input(\"Please enter a number\"))\n",
    "    print(squareit(anum))\n",
    "    print(cubeit(anum))\n",
    "\n",
    "if __name__ == \"__main__\":\n",
    "    main()"
   ]
  },
  {
   "cell_type": "markdown",
   "metadata": {
    "nbpresent": {
     "id": "482263e9-e910-4248-9eb7-10f12bec459e"
    }
   },
   "source": [
    "** Exercise **\n",
    "\n",
    "Write a fruitful function `sumTo(n)` that returns the sum of all integer numbers up to and including `n`. So `sumTo(10)` would be `1+2+3...+10` which would return the value `55`. "
   ]
  },
  {
   "cell_type": "code",
   "execution_count": null,
   "metadata": {
    "collapsed": false,
    "nbpresent": {
     "id": "3149d5e0-ec03-4319-88f0-30b7f7470481"
    }
   },
   "outputs": [],
   "source": [
    "def sumTo(n):\n",
    "    # fill the code here\n",
    "    return result\n",
    "\n",
    "# Now lets see how well this works\n",
    "t = sumTo(0)\n",
    "print(\"The sum from 1 to 0 is\",t)\n",
    "t = sumTo(10)\n",
    "print(\"The sum from 1 to 10 is\",t)\n",
    "t = sumTo(5)\n",
    "print(\"The sum from 1 to 5 is\",t)\n"
   ]
  },
  {
   "cell_type": "markdown",
   "metadata": {
    "nbpresent": {
     "id": "8e14ba72-6816-4bce-bbf0-17842966f7bd"
    }
   },
   "source": [
    "## Program Development"
   ]
  },
  {
   "cell_type": "markdown",
   "metadata": {
    "nbpresent": {
     "id": "a6b8413f-e929-4933-89e8-a84e871020d1"
    }
   },
   "source": [
    "**incremental development**\n",
    "\n",
    "The goal of incremental development is to avoid long debugging sessions by adding and testing only a small amount of code at a time."
   ]
  },
  {
   "cell_type": "markdown",
   "metadata": {
    "nbpresent": {
     "id": "96f8e5ba-5e1b-47b5-9f5b-69cd5c4e9851"
    }
   },
   "source": [
    "** Example: distance between two points **\n",
    "\n",
    "The coordinates of $(x_1, y_1)$ and $(x_2, y_2)$\n",
    "\n",
    "$\\text{distance} = \\sqrt{(x_2-x_1)^2+(y_2-y_1)^2}$"
   ]
  },
  {
   "cell_type": "markdown",
   "metadata": {
    "nbpresent": {
     "id": "d08748d0-2c0f-4f0c-b7d4-b6c876831dd2"
    }
   },
   "source": [
    "** Example: step 1 **\n",
    "\n",
    "```python\n",
    "def distance(x1, y1, x2, y2):\n",
    "    return 0.0\n",
    "```\n",
    "\n",
    "Run and test it."
   ]
  },
  {
   "cell_type": "code",
   "execution_count": null,
   "metadata": {
    "collapsed": false,
    "nbpresent": {
     "id": "41426336-2700-4cd7-97e6-d456757b8574"
    }
   },
   "outputs": [],
   "source": [
    "def distance(x1, y1, x2, y2):\n",
    "    return 0.0\n",
    "\n",
    "print(distance(1, 2, 4, 6))"
   ]
  },
  {
   "cell_type": "markdown",
   "metadata": {
    "nbpresent": {
     "id": "bd135934-a063-484e-ac99-919bbf15e24b"
    }
   },
   "source": [
    "** Example: step 2 **\n",
    "\n",
    "```python\n",
    "def distance(x1, y1, x2, y2):\n",
    "    dx = x2 - x1\n",
    "    dy = y2 - y1\n",
    "    return 0.0\n",
    "```"
   ]
  },
  {
   "cell_type": "markdown",
   "metadata": {
    "nbpresent": {
     "id": "a205673f-b960-4f17-a592-bcf63c4aa520"
    }
   },
   "source": [
    "** Example: step 3 **\n",
    "\n",
    "```python\n",
    "def distance(x1, y1, x2, y2):\n",
    "    dx = x2 - x1\n",
    "    dy = y2 - y1\n",
    "    dsquared = dx**2 + dy**2\n",
    "    return 0.0\n",
    "```"
   ]
  },
  {
   "cell_type": "markdown",
   "metadata": {
    "nbpresent": {
     "id": "aec56125-3f39-4d01-baa4-9b0e99ad1845"
    }
   },
   "source": [
    "** Example: step 4**"
   ]
  },
  {
   "cell_type": "code",
   "execution_count": null,
   "metadata": {
    "collapsed": false,
    "nbpresent": {
     "id": "fe1b2dab-65d9-41b4-a9a0-5d375af2df06"
    }
   },
   "outputs": [],
   "source": [
    "def distance(x1, y1, x2, y2):\n",
    "    dx = x2 - x1\n",
    "    dy = y2 - y1\n",
    "    dsquared = dx**2 + dy**2\n",
    "    result = dsquared**0.5\n",
    "    return result\n",
    "\n",
    "print(distance(1, 2, 4, 6))"
   ]
  },
  {
   "cell_type": "markdown",
   "metadata": {
    "nbpresent": {
     "id": "10105b19-b76c-4b2a-813b-5f925a34e14e"
    }
   },
   "source": [
    "** About the incremental development process **\n",
    "\n",
    "- Start with a working skeleton program and make small incremental changes. At any point, if there is an error, you will know exactly where it is.\n",
    "\n",
    "- Use temporary variables to hold intermediate values so that you can easily inspect and check them.\n",
    "\n",
    "- Once the program is working, you might want to consolidate multiple statements into compound expressions, but only do this if it does not make the program more difficult to read.\n"
   ]
  },
  {
   "cell_type": "markdown",
   "metadata": {
    "nbpresent": {
     "id": "db559267-9155-4cd1-a5e4-7ca1df770098"
    }
   },
   "source": [
    "## Composition\n",
    "\n",
    "Functions can be called from within another. This ability to build functions by using other functions is called **composition**.\n",
    "\n"
   ]
  },
  {
   "cell_type": "markdown",
   "metadata": {
    "nbpresent": {
     "id": "a44ed8de-eac8-4ba2-ac30-eb9429feb030"
    }
   },
   "source": [
    "** Example **\n",
    "\n",
    "Write a function that takes two points, the center of the circle and a point on the perimeter, and computes the **area of the circle**.\n",
    "\n",
    "Assume that the center point is stored in the variables xc and yc, and the perimeter point is in xp and yp. \n",
    "\n",
    "```python\n",
    "radius = distance(xc, yc, xp, yp)\n",
    "```"
   ]
  },
  {
   "cell_type": "code",
   "execution_count": null,
   "metadata": {
    "collapsed": false,
    "nbpresent": {
     "id": "8cf0b805-6e01-4009-a8fd-ce215bc8a3bd"
    }
   },
   "outputs": [],
   "source": [
    "def distance(x1, y1, x2, y2):\n",
    "    dx = x2 - x1\n",
    "    dy = y2 - y1\n",
    "    dsquared = dx**2 + dy**2\n",
    "    return dsquared**0.5\n",
    "\n",
    "def area(xc, yc, xp, yp):\n",
    "    radius = distance(xc, yc, xp, yp)\n",
    "    return 3.14159 * radius**2\n",
    "\n",
    "print(area(0,0,1,1))"
   ]
  },
  {
   "cell_type": "markdown",
   "metadata": {},
   "source": [
    "## Glossary\n",
    "\n",
    "**chatterbox function**\n",
    "\n",
    "A function which interacts with the user (using input or print) when it should not. Silent functions that just convert their input arguments into their output results are usually the most useful ones.\n",
    "\n",
    "**composition (of functions)**\n",
    "\n",
    "Calling one function from within the body of another, or using the return value of one function as an argument to the call of another.\n",
    "\n",
    "**dead code**\n",
    "\n",
    "Part of a program that can never be executed, often because it appears after a return statement.\n",
    "\n",
    "**fruitful function**\n",
    "\n",
    "A function that yields a return value instead of **None**.\n",
    "\n",
    "**incremental development**\n",
    "\n",
    "A program development plan intended to simplify debugging by adding and testing only a small amount of code at a time.\n",
    "\n",
    "**None**\n",
    "\n",
    "A special Python value. One use in Python is that it is returned by functions that do not execute a return statement with a return argument.\n",
    "\n",
    "**return value**\n",
    "\n",
    "The value provided as the result of a function call.\n",
    "\n",
    "**scaffolding**\n",
    "\n",
    "Code that is used during program development to assist with development and debugging. The unit test code that we added in this chapter are examples of scaffolding.\n",
    "\n",
    "**temporary variable**\n",
    "\n",
    "A variable used to store an intermediate value in a complex calculation."
   ]
  },
  {
   "cell_type": "markdown",
   "metadata": {
    "collapsed": true,
    "nbpresent": {
     "id": "6e2a36dc-1307-42fe-8286-d26b784e85ab"
    }
   },
   "source": [
    "## Appendix\n",
    "\n",
    "** Visualize python code execution **\n",
    "\n",
    "http://pythontutor.com/"
   ]
  },
  {
   "cell_type": "code",
   "execution_count": null,
   "metadata": {
    "collapsed": true
   },
   "outputs": [],
   "source": []
  }
 ],
 "metadata": {
  "anaconda-cloud": {},
  "kernelspec": {
   "display_name": "Python [default]",
   "language": "python",
   "name": "python3"
  },
  "language_info": {
   "codemirror_mode": {
    "name": "ipython",
    "version": 3
   },
   "file_extension": ".py",
   "mimetype": "text/x-python",
   "name": "python",
   "nbconvert_exporter": "python",
   "pygments_lexer": "ipython3",
   "version": "3.5.2"
  },
  "nbpresent": {
   "slides": {
    "020f577b-2445-47d9-a155-47c7f5b5ddae": {
     "id": "020f577b-2445-47d9-a155-47c7f5b5ddae",
     "prev": "137b52f3-f3c7-4abb-bf25-ce8bd5e63b7c",
     "regions": {
      "7126bd4a-8d34-4090-83ae-abccd1026ec2": {
       "attrs": {
        "height": 0.8,
        "width": 0.8,
        "x": 0.1,
        "y": 0.1
       },
       "content": {
        "cell": "aa332752-0910-46c7-bba5-ff8065825fb2",
        "part": "whole"
       },
       "id": "7126bd4a-8d34-4090-83ae-abccd1026ec2"
      }
     }
    },
    "02749a8b-a12e-468a-b314-b48d2126acf6": {
     "id": "02749a8b-a12e-468a-b314-b48d2126acf6",
     "prev": "9286d6af-dfca-4f6d-8083-b8559c7ab803",
     "regions": {
      "3366b16a-b5b4-461b-aaf5-d8d1a462146d": {
       "attrs": {
        "height": 0.8,
        "width": 0.8,
        "x": 0.1,
        "y": 0.1
       },
       "content": {
        "cell": "addbd817-767f-4d8c-97e8-b26c01da43c1",
        "part": "outputs"
       },
       "id": "3366b16a-b5b4-461b-aaf5-d8d1a462146d"
      }
     }
    },
    "0a3b85d0-ed9f-46db-9bff-79f9976ed89c": {
     "id": "0a3b85d0-ed9f-46db-9bff-79f9976ed89c",
     "prev": "d396a360-2f7a-4ff5-a981-a436679626e3",
     "regions": {
      "ccb09bb4-25d5-435c-a82e-0452ab139211": {
       "attrs": {
        "height": 0.8,
        "width": 0.8,
        "x": 0.1,
        "y": 0.1
       },
       "content": {
        "cell": "4f1fb997-a3c8-47a8-bf10-562187c6a9a2",
        "part": "whole"
       },
       "id": "ccb09bb4-25d5-435c-a82e-0452ab139211"
      }
     }
    },
    "0d2a03bd-a1b6-4dd3-b724-8775be696a22": {
     "id": "0d2a03bd-a1b6-4dd3-b724-8775be696a22",
     "prev": "be497274-2f43-4c80-a786-30f69ec1c7ce",
     "regions": {
      "18009aba-6dcf-4654-bbf0-1f6ccfa420ff": {
       "attrs": {
        "height": 0.8,
        "width": 0.8,
        "x": 0.1,
        "y": 0.1
       },
       "content": {
        "cell": "d0053bc1-5b65-4954-a2bc-106495937300",
        "part": "whole"
       },
       "id": "18009aba-6dcf-4654-bbf0-1f6ccfa420ff"
      }
     }
    },
    "137b52f3-f3c7-4abb-bf25-ce8bd5e63b7c": {
     "id": "137b52f3-f3c7-4abb-bf25-ce8bd5e63b7c",
     "prev": "686e1b4d-ab26-4660-9816-77d7a14c4af1",
     "regions": {
      "10063cb0-72f1-4aa0-9180-d63144694145": {
       "attrs": {
        "height": 0.8,
        "width": 0.8,
        "x": 0.1,
        "y": 0.1
       },
       "content": {
        "cell": "e3b2dc5d-ae91-4840-b252-a94e5ff9cff3",
        "part": "outputs"
       },
       "id": "10063cb0-72f1-4aa0-9180-d63144694145"
      }
     }
    },
    "14f3ae5a-a837-43be-870b-e7731388662f": {
     "id": "14f3ae5a-a837-43be-870b-e7731388662f",
     "prev": "69221672-d70f-4a15-b08a-060e70c212a3",
     "regions": {
      "872291f9-b9e6-4b74-a608-cdb538fad1e8": {
       "attrs": {
        "height": 0.8,
        "width": 0.8,
        "x": 0.1,
        "y": 0.1
       },
       "content": {
        "cell": "635b0138-ceef-4170-97ad-33b5976b6be3",
        "part": "outputs"
       },
       "id": "872291f9-b9e6-4b74-a608-cdb538fad1e8"
      }
     }
    },
    "14f5d8ba-a919-4c21-9443-b2e7a621ca13": {
     "id": "14f5d8ba-a919-4c21-9443-b2e7a621ca13",
     "prev": "526c038b-44b5-4d75-acd3-da8301d95fdd",
     "regions": {
      "6e7afcfa-2cee-433b-ae8e-318bb4f782d1": {
       "attrs": {
        "height": 0.8,
        "width": 0.8,
        "x": 0.1,
        "y": 0.1
       },
       "content": {
        "cell": "be2f9967-92cc-43bc-82ae-a83ce98edcf4",
        "part": "whole"
       },
       "id": "6e7afcfa-2cee-433b-ae8e-318bb4f782d1"
      }
     }
    },
    "15159d5a-6024-4b48-9fb2-e18a0a30cb7f": {
     "id": "15159d5a-6024-4b48-9fb2-e18a0a30cb7f",
     "prev": "3194d087-1bc3-418a-aaee-6e21bd3c754e",
     "regions": {
      "9c7df508-3f4e-4eab-947a-087df2d1d3dd": {
       "attrs": {
        "height": 0.8,
        "width": 0.8,
        "x": 0.1,
        "y": 0.1
       },
       "content": {
        "cell": "474e0a8a-44a0-4f45-8b91-67d54b462f84",
        "part": "whole"
       },
       "id": "9c7df508-3f4e-4eab-947a-087df2d1d3dd"
      }
     }
    },
    "16b02af4-a6fe-4a29-9f6a-98383536c38c": {
     "id": "16b02af4-a6fe-4a29-9f6a-98383536c38c",
     "prev": "59f7837f-a6dc-44e1-8414-00d5eb3e2944",
     "regions": {
      "9392a38e-2b23-4edf-a121-36eb920a4abe": {
       "attrs": {
        "height": 0.8,
        "width": 0.8,
        "x": 0.1,
        "y": 0.1
       },
       "content": {
        "cell": "6877c85c-2a49-4395-9678-db8e0b42f9dd",
        "part": "whole"
       },
       "id": "9392a38e-2b23-4edf-a121-36eb920a4abe"
      }
     }
    },
    "1a915754-baba-4a3d-a60f-d748adfd1ef8": {
     "id": "1a915754-baba-4a3d-a60f-d748adfd1ef8",
     "prev": "7d331deb-49be-4a77-89f1-0c4eaf78ae27",
     "regions": {
      "5735bc14-fa6d-41d3-ab3a-95c837e4e3e1": {
       "attrs": {
        "height": 0.8,
        "width": 0.8,
        "x": 0.1,
        "y": 0.1
       },
       "content": {
        "cell": "9224f3f2-c5c8-443c-a4ec-63a13cb6d215",
        "part": "whole"
       },
       "id": "5735bc14-fa6d-41d3-ab3a-95c837e4e3e1"
      }
     }
    },
    "1c5e0152-9267-4a8e-878c-545a033b847c": {
     "id": "1c5e0152-9267-4a8e-878c-545a033b847c",
     "prev": "2feeb563-1bfe-4173-94e4-d950a53aa942",
     "regions": {
      "11f13f59-4ee2-4d9d-a353-af944c3ebed5": {
       "attrs": {
        "height": 0.8,
        "width": 0.8,
        "x": 0.1,
        "y": 0.1
       },
       "content": {
        "cell": "805d7a23-6262-4a97-88b0-2d2340abf331",
        "part": "whole"
       },
       "id": "11f13f59-4ee2-4d9d-a353-af944c3ebed5"
      }
     }
    },
    "245c7bf5-4f8b-4d01-9ed7-4ebfcd73caa1": {
     "id": "245c7bf5-4f8b-4d01-9ed7-4ebfcd73caa1",
     "prev": "2f994388-f421-4bbc-9589-2d7adcf04256",
     "regions": {
      "ec7b9b10-c93e-4501-bd5f-55ae3b1f748a": {
       "attrs": {
        "height": 0.675442321302194,
        "width": 0.8,
        "x": 0.1,
        "y": 0.2245576786978061
       },
       "content": {
        "cell": "fe1b2dab-65d9-41b4-a9a0-5d375af2df06",
        "part": "whole"
       },
       "id": "ec7b9b10-c93e-4501-bd5f-55ae3b1f748a"
      },
      "f5af72d8-154a-4b87-aae6-a5455a1d63e7": {
       "attrs": {
        "height": 0.12625619249823078,
        "width": 0.8,
        "x": 0.1,
        "y": 0.1
       },
       "content": {
        "cell": "aec56125-3f39-4d01-baa4-9b0e99ad1845",
        "part": "whole"
       },
       "id": "f5af72d8-154a-4b87-aae6-a5455a1d63e7"
      }
     }
    },
    "2adbafe3-f222-456a-9ceb-907b7d501181": {
     "id": "2adbafe3-f222-456a-9ceb-907b7d501181",
     "prev": "ca9ee1b6-121d-44af-af1c-25c3190065e8",
     "regions": {
      "eee399a9-605d-4b19-908e-0a6eda911a6a": {
       "attrs": {
        "height": 0.8188723755602739,
        "width": 0.8,
        "x": 0.1,
        "y": 0.08112762443972638
       },
       "content": {
        "cell": "8cf0b805-6e01-4009-a8fd-ce215bc8a3bd",
        "part": "whole"
       },
       "id": "eee399a9-605d-4b19-908e-0a6eda911a6a"
      }
     }
    },
    "2de63b4c-6f8a-479a-b181-16e530df6c65": {
     "id": "2de63b4c-6f8a-479a-b181-16e530df6c65",
     "prev": "c7cb716e-3006-4203-8b82-14ddb6b14acf",
     "regions": {
      "9100ee4a-d65a-4a42-97a3-505555c4c0e3": {
       "attrs": {
        "height": 0.8,
        "width": 0.8,
        "x": 0.1,
        "y": 0.1
       },
       "content": {
        "cell": "99d96679-4ec4-47ce-ae77-9379a5f8c73b",
        "part": "outputs"
       },
       "id": "9100ee4a-d65a-4a42-97a3-505555c4c0e3"
      }
     }
    },
    "2f994388-f421-4bbc-9589-2d7adcf04256": {
     "id": "2f994388-f421-4bbc-9589-2d7adcf04256",
     "prev": "c4de5cc0-2656-4a77-8640-71f243fc28e8",
     "regions": {
      "3e283502-a73b-4df1-8ddb-109a8f810383": {
       "attrs": {
        "height": 0.8056617126680822,
        "width": 0.8,
        "x": 0.1,
        "y": 0.09433828733191793
       },
       "content": {
        "cell": "a205673f-b960-4f17-a592-bcf63c4aa520",
        "part": "whole"
       },
       "id": "3e283502-a73b-4df1-8ddb-109a8f810383"
      }
     }
    },
    "2feeb563-1bfe-4173-94e4-d950a53aa942": {
     "id": "2feeb563-1bfe-4173-94e4-d950a53aa942",
     "prev": "c843c855-27e4-49cc-be10-7451791fdc33",
     "regions": {
      "a7726782-cefc-44bd-800e-983ae2f19ce1": {
       "attrs": {
        "height": 0.8,
        "width": 0.8,
        "x": 0.1,
        "y": 0.1
       },
       "content": {
        "cell": "6ab3fc4c-0224-44f7-bc3b-11d04ea71e7f",
        "part": "whole"
       },
       "id": "a7726782-cefc-44bd-800e-983ae2f19ce1"
      }
     }
    },
    "3004a5dc-d88f-4c5c-bcfe-cedcac89e1d4": {
     "id": "3004a5dc-d88f-4c5c-bcfe-cedcac89e1d4",
     "prev": "14f5d8ba-a919-4c21-9443-b2e7a621ca13",
     "regions": {
      "104c8071-e61d-4b78-aed7-b029de559605": {
       "attrs": {
        "height": 0.8,
        "width": 0.8,
        "x": 0.1,
        "y": 0.1
       },
       "content": {
        "cell": "a24d0a81-1151-4e07-850a-bd0093afe734",
        "part": "whole"
       },
       "id": "104c8071-e61d-4b78-aed7-b029de559605"
      }
     }
    },
    "3194d087-1bc3-418a-aaee-6e21bd3c754e": {
     "id": "3194d087-1bc3-418a-aaee-6e21bd3c754e",
     "prev": "9e7549f5-a1dd-483f-ad22-4985bc49b75a",
     "regions": {
      "4fb8ad02-50e2-4fb9-94ae-13c720906f3f": {
       "attrs": {
        "height": 0.8,
        "width": 0.8,
        "x": 0.1,
        "y": 0.1
       },
       "content": {
        "cell": "370fb837-7534-42b9-8e46-caa57d6d9bdc",
        "part": "whole"
       },
       "id": "4fb8ad02-50e2-4fb9-94ae-13c720906f3f"
      }
     }
    },
    "341d02fb-5100-48f5-a76b-70c61d96a787": {
     "id": "341d02fb-5100-48f5-a76b-70c61d96a787",
     "prev": "481b385a-9c94-4624-b218-85df9d0b396a",
     "regions": {
      "e1b28275-5d50-4ffc-ac34-771c9fb9915e": {
       "attrs": {
        "height": 0.8,
        "width": 0.8,
        "x": 0.1,
        "y": 0.1
       },
       "content": {
        "cell": "52a5844d-044c-4d19-b860-50d9f09baf31",
        "part": "whole"
       },
       "id": "e1b28275-5d50-4ffc-ac34-771c9fb9915e"
      }
     }
    },
    "34dceb7a-8a05-471b-935f-f9cc76b07459": {
     "id": "34dceb7a-8a05-471b-935f-f9cc76b07459",
     "prev": "6fc45153-cfc6-4f70-ae2a-05b18fd518e1",
     "regions": {
      "73323e9a-81a2-477c-ad25-c2935444141c": {
       "attrs": {
        "height": 0.8,
        "width": 0.8,
        "x": 0.1,
        "y": 0.1
       },
       "content": {
        "cell": "82de043a-bf96-4ce3-8a53-de5a9cfbe541",
        "part": "whole"
       },
       "id": "73323e9a-81a2-477c-ad25-c2935444141c"
      }
     }
    },
    "3692a0c0-6196-4a37-b988-dcc57844bca9": {
     "id": "3692a0c0-6196-4a37-b988-dcc57844bca9",
     "prev": "0a3b85d0-ed9f-46db-9bff-79f9976ed89c",
     "regions": {
      "751617da-0d37-4c12-b9b9-c01df564053f": {
       "attrs": {
        "height": 0.8,
        "width": 0.8,
        "x": 0.1,
        "y": 0.1
       },
       "content": {
        "cell": "23589a4a-3c4a-4ad3-be91-995af2410af3",
        "part": "whole"
       },
       "id": "751617da-0d37-4c12-b9b9-c01df564053f"
      }
     }
    },
    "3706fb0e-4eb8-4a37-b78c-7767f9ed0498": {
     "id": "3706fb0e-4eb8-4a37-b78c-7767f9ed0498",
     "prev": "245c7bf5-4f8b-4d01-9ed7-4ebfcd73caa1",
     "regions": {
      "184b47d9-9f47-490c-bdeb-d9c99328c5f2": {
       "attrs": {
        "height": 0.8188723755602739,
        "width": 0.8,
        "x": 0.1,
        "y": 0.08112762443972638
       },
       "content": {
        "cell": "10105b19-b76c-4b2a-813b-5f925a34e14e",
        "part": "whole"
       },
       "id": "184b47d9-9f47-490c-bdeb-d9c99328c5f2"
      }
     }
    },
    "383d62a1-154e-4b45-8715-6df5c85e8e9c": {
     "id": "383d62a1-154e-4b45-8715-6df5c85e8e9c",
     "prev": "e30f474d-f1d1-46e0-b0ef-eb068888ab6e",
     "regions": {
      "00a90617-d52f-464a-b5dc-3307ad2856ac": {
       "attrs": {
        "height": 0.8,
        "width": 0.8,
        "x": 0.1,
        "y": 0.1
       },
       "content": {
        "cell": "65510ce1-b382-48eb-8d5a-6b3f805aaccb",
        "part": "whole"
       },
       "id": "00a90617-d52f-464a-b5dc-3307ad2856ac"
      }
     }
    },
    "3fbbc5fb-4893-45c6-b206-1338830d1144": {
     "id": "3fbbc5fb-4893-45c6-b206-1338830d1144",
     "prev": "7e71f211-5177-4b5c-8a36-7f21623222f2",
     "regions": {
      "5c96a773-857a-4751-885f-bff8b7671175": {
       "attrs": {
        "height": 0.8,
        "width": 0.8,
        "x": 0.1,
        "y": 0.1
       },
       "content": {
        "cell": "17aa25b8-173b-4a01-b299-850a5adeff3e",
        "part": "outputs"
       },
       "id": "5c96a773-857a-4751-885f-bff8b7671175"
      }
     }
    },
    "47daea17-acbb-4f58-b3c4-790fc2a0cc64": {
     "id": "47daea17-acbb-4f58-b3c4-790fc2a0cc64",
     "prev": "020f577b-2445-47d9-a155-47c7f5b5ddae",
     "regions": {
      "8a6339a8-0f1d-4755-92a2-40384527fc8f": {
       "attrs": {
        "height": 0.8,
        "width": 0.8,
        "x": 0.1,
        "y": 0.1
       },
       "content": {
        "cell": "33179a5e-12ac-428a-9385-96ff73128c84",
        "part": "whole"
       },
       "id": "8a6339a8-0f1d-4755-92a2-40384527fc8f"
      }
     }
    },
    "481b385a-9c94-4624-b218-85df9d0b396a": {
     "id": "481b385a-9c94-4624-b218-85df9d0b396a",
     "prev": "e786a625-fec4-491f-bd76-5cdddb9fb52f",
     "regions": {
      "64dab950-9848-49bc-8c92-fbcefd60fc11": {
       "attrs": {
        "height": 0.8,
        "width": 0.8,
        "x": 0.1,
        "y": 0.1
       },
       "content": {
        "cell": "095c4be7-f8a8-49b0-a153-85cbb8952658",
        "part": "whole"
       },
       "id": "64dab950-9848-49bc-8c92-fbcefd60fc11"
      }
     }
    },
    "4ae623fb-9e48-49e9-8d84-940fa4142b67": {
     "id": "4ae623fb-9e48-49e9-8d84-940fa4142b67",
     "prev": "81860359-8630-4417-9622-14b82ecf495e",
     "regions": {
      "d84e91e4-4853-48ac-a532-fe30f82cd5ff": {
       "attrs": {
        "height": 0.8056617126680822,
        "width": 0.8,
        "x": 0.1,
        "y": 0.09433828733191793
       },
       "content": {
        "cell": "96f8e5ba-5e1b-47b5-9f5b-69cd5c4e9851",
        "part": "whole"
       },
       "id": "d84e91e4-4853-48ac-a532-fe30f82cd5ff"
      }
     }
    },
    "4cf53710-ee73-4818-972a-59b88dcbc199": {
     "id": "4cf53710-ee73-4818-972a-59b88dcbc199",
     "prev": "77faea56-4f34-410c-80cf-2a1a870c6dfa",
     "regions": {
      "108cd9b0-d449-4179-8888-c84d6cf77e77": {
       "attrs": {
        "height": 0.5924151696606788,
        "width": 0.8,
        "x": 0.1,
        "y": 0.3075848303393214
       },
       "content": {
        "cell": "5147afd5-6efe-487b-a858-f8c35a725662",
        "part": "whole"
       },
       "id": "108cd9b0-d449-4179-8888-c84d6cf77e77"
      },
      "1b62dbcc-d98c-4101-99f5-4e87db7dd474": {
       "attrs": {
        "height": 0.191439343535152,
        "width": 0.8,
        "x": 0.1,
        "y": 0.1
       },
       "content": {
        "cell": "3b2a83bf-4e09-40e9-9179-f689af1d0916",
        "part": "whole"
       },
       "id": "1b62dbcc-d98c-4101-99f5-4e87db7dd474"
      }
     }
    },
    "526c038b-44b5-4d75-acd3-da8301d95fdd": {
     "id": "526c038b-44b5-4d75-acd3-da8301d95fdd",
     "prev": "341d02fb-5100-48f5-a76b-70c61d96a787",
     "regions": {
      "5aa83cb7-410a-434c-957d-7e12878c6d9c": {
       "attrs": {
        "height": 0.8833887779995565,
        "width": 0.8598802395209582,
        "x": 0.06606786427145708,
        "y": 0.05564426702151254
       },
       "content": {
        "cell": "eb078889-0681-4ade-a3d9-c12838c4a60b",
        "part": "whole"
       },
       "id": "5aa83cb7-410a-434c-957d-7e12878c6d9c"
      }
     }
    },
    "59f7837f-a6dc-44e1-8414-00d5eb3e2944": {
     "id": "59f7837f-a6dc-44e1-8414-00d5eb3e2944",
     "prev": "d94204cb-6934-49fb-bd79-f171004d6562",
     "regions": {
      "744fc3ce-a313-4614-8cc1-cf05444ca12e": {
       "attrs": {
        "height": 0.8,
        "width": 0.8,
        "x": 0.1,
        "y": 0.1
       },
       "content": {
        "cell": "b3e73261-33a7-4df6-b00d-d8fa444a46ae",
        "part": "whole"
       },
       "id": "744fc3ce-a313-4614-8cc1-cf05444ca12e"
      }
     }
    },
    "5c248654-ec94-4e44-8531-a17f9561cc48": {
     "id": "5c248654-ec94-4e44-8531-a17f9561cc48",
     "prev": "ba389e41-4681-47c3-ad86-8c14a8e5b1cd",
     "regions": {
      "90ec5092-6e82-4eb0-93a1-c68a050aa2d6": {
       "attrs": {
        "height": 0.8056617126680822,
        "width": 0.8,
        "x": 0.1,
        "y": 0.09433828733191793
       },
       "content": {
        "cell": "41426336-2700-4cd7-97e6-d456757b8574",
        "part": "whole"
       },
       "id": "90ec5092-6e82-4eb0-93a1-c68a050aa2d6"
      }
     }
    },
    "5c6f666c-383b-4499-9d54-6f4f6ad0fed3": {
     "id": "5c6f666c-383b-4499-9d54-6f4f6ad0fed3",
     "prev": "2adbafe3-f222-456a-9ceb-907b7d501181",
     "regions": {
      "33fc4c01-ac8c-44b8-98da-46f9b2396dfd": {
       "attrs": {
        "height": 0.8188723755602739,
        "width": 0.8,
        "x": 0.1,
        "y": 0.08112762443972638
       },
       "content": {
        "cell": "6e2a36dc-1307-42fe-8286-d26b784e85ab",
        "part": "whole"
       },
       "id": "33fc4c01-ac8c-44b8-98da-46f9b2396dfd"
      }
     }
    },
    "60bfdcd8-2986-4403-888e-2e39b52675a6": {
     "id": "60bfdcd8-2986-4403-888e-2e39b52675a6",
     "prev": "c7752170-81e9-4e4a-9608-abbb5a16df0b",
     "regions": {
      "95d23278-1ab5-430d-9771-b929ca45fbac": {
       "attrs": {
        "height": 0.8,
        "width": 0.8,
        "x": 0.1,
        "y": 0.1
       },
       "content": {
        "cell": "61634eb0-525d-4c2a-926e-5c2f29dbe147",
        "part": "whole"
       },
       "id": "95d23278-1ab5-430d-9771-b929ca45fbac"
      }
     }
    },
    "61668ed2-f70a-45f5-84f8-5f773288c7ba": {
     "id": "61668ed2-f70a-45f5-84f8-5f773288c7ba",
     "prev": "60bfdcd8-2986-4403-888e-2e39b52675a6",
     "regions": {
      "1543bd04-d5a5-4dfd-b610-c805a8b30b20": {
       "attrs": {
        "height": 0.8,
        "width": 0.8,
        "x": 0.1,
        "y": 0.1
       },
       "content": {
        "cell": "bb5384f0-1794-410f-82cf-8b0d38492433",
        "part": "whole"
       },
       "id": "1543bd04-d5a5-4dfd-b610-c805a8b30b20"
      }
     }
    },
    "686e1b4d-ab26-4660-9816-77d7a14c4af1": {
     "id": "686e1b4d-ab26-4660-9816-77d7a14c4af1",
     "prev": "f87d25e1-6393-436e-902c-ca88a3b87328",
     "regions": {
      "88a4aca9-22ab-45e6-a78d-0cd14420c25e": {
       "attrs": {
        "height": 0.8,
        "width": 0.8,
        "x": 0.1,
        "y": 0.1
       },
       "content": {
        "cell": "cbd6ced2-e105-4ee6-b7c0-febb309edea1",
        "part": "whole"
       },
       "id": "88a4aca9-22ab-45e6-a78d-0cd14420c25e"
      }
     }
    },
    "69221672-d70f-4a15-b08a-060e70c212a3": {
     "id": "69221672-d70f-4a15-b08a-060e70c212a3",
     "prev": "1a915754-baba-4a3d-a60f-d748adfd1ef8",
     "regions": {
      "96705ef3-9667-40e8-95a8-45443a22f76d": {
       "attrs": {
        "height": 0.8,
        "width": 0.8,
        "x": 0.1,
        "y": 0.1
       },
       "content": {
        "cell": "12191ab0-f994-40d2-a93e-f85d66342635",
        "part": "whole"
       },
       "id": "96705ef3-9667-40e8-95a8-45443a22f76d"
      }
     }
    },
    "6fc45153-cfc6-4f70-ae2a-05b18fd518e1": {
     "id": "6fc45153-cfc6-4f70-ae2a-05b18fd518e1",
     "prev": "83c200a4-0e6c-459d-acf5-b40cc05aa9df",
     "regions": {
      "221e427d-519a-4a46-a1e7-6481f236b2a6": {
       "attrs": {
        "height": 0.8,
        "width": 0.8,
        "x": 0.1,
        "y": 0.1
       },
       "content": {
        "cell": "062d346b-c2f0-4bf2-9a9d-fdb1074d7a33",
        "part": "whole"
       },
       "id": "221e427d-519a-4a46-a1e7-6481f236b2a6"
      }
     }
    },
    "76b471b9-8aed-44c9-bf4b-5937e8a6bc60": {
     "id": "76b471b9-8aed-44c9-bf4b-5937e8a6bc60",
     "prev": "c96c2814-b00e-406e-92e5-5233c1b9d984",
     "regions": {
      "4380db36-d35d-4a42-adff-329887d29685": {
       "attrs": {
        "height": 0.8,
        "width": 0.8,
        "x": 0.1,
        "y": 0.1
       },
       "content": {
        "cell": "e756c530-b98f-4d75-a5ef-b47b83902cc1",
        "part": "whole"
       },
       "id": "4380db36-d35d-4a42-adff-329887d29685"
      }
     }
    },
    "77faea56-4f34-410c-80cf-2a1a870c6dfa": {
     "id": "77faea56-4f34-410c-80cf-2a1a870c6dfa",
     "prev": "ac3014b4-afe4-4580-a297-a23f024b786f",
     "regions": {
      "7d20df32-1a71-4b18-872c-9fdeb35ad0dd": {
       "attrs": {
        "height": 0.8,
        "width": 0.8,
        "x": 0.1,
        "y": 0.1
       },
       "content": {
        "cell": "adc136d6-bbe5-4fef-9361-2da8fd22f565",
        "part": "whole"
       },
       "id": "7d20df32-1a71-4b18-872c-9fdeb35ad0dd"
      }
     }
    },
    "7d331deb-49be-4a77-89f1-0c4eaf78ae27": {
     "id": "7d331deb-49be-4a77-89f1-0c4eaf78ae27",
     "prev": "4cf53710-ee73-4818-972a-59b88dcbc199",
     "regions": {
      "40f3299f-db86-41a1-bb4f-dca421bbd643": {
       "attrs": {
        "height": 0.152406298514083,
        "width": 0.8,
        "x": 0.1,
        "y": 0.1
       },
       "content": {
        "cell": "2eb4ac99-79f5-4f2d-a1de-4419f06e287c",
        "part": "whole"
       },
       "id": "40f3299f-db86-41a1-bb4f-dca421bbd643"
      },
      "8d635870-af6c-455a-9f6d-ae9d8aaa32b4": {
       "attrs": {
        "height": 0.6261255267243292,
        "width": 0.8,
        "x": 0.1,
        "y": 0.2738744732756709
       },
       "content": {
        "cell": "631d407d-dca4-4cdd-b37d-53ef132a0df5",
        "part": "outputs"
       },
       "id": "8d635870-af6c-455a-9f6d-ae9d8aaa32b4"
      }
     }
    },
    "7e71f211-5177-4b5c-8a36-7f21623222f2": {
     "id": "7e71f211-5177-4b5c-8a36-7f21623222f2",
     "prev": "92285f5e-09cc-432d-ab60-ff0ebb29fe8e",
     "regions": {
      "63b69b5c-330f-4ef9-b0e4-b107d4b084d1": {
       "attrs": {
        "height": 0.8,
        "width": 0.8,
        "x": 0.1,
        "y": 0.1
       },
       "content": {
        "cell": "9ffe9479-fa28-427f-bcfc-835d42754dc8",
        "part": "whole"
       },
       "id": "63b69b5c-330f-4ef9-b0e4-b107d4b084d1"
      }
     }
    },
    "81860359-8630-4417-9622-14b82ecf495e": {
     "id": "81860359-8630-4417-9622-14b82ecf495e",
     "prev": "bc271991-06af-442d-b7e2-0b00ee78be48",
     "regions": {
      "24c32a55-d863-4613-a182-69b922ee45ed": {
       "attrs": {
        "height": 0.6301486199575372,
        "width": 0.8,
        "x": 0.1,
        "y": 0.26985138004246284
       },
       "content": {
        "cell": "a6b8413f-e929-4933-89e8-a84e871020d1",
        "part": "whole"
       },
       "id": "24c32a55-d863-4613-a182-69b922ee45ed"
      },
      "32da4c13-726f-4393-ba8e-be5770280ac0": {
       "attrs": {
        "height": 0.1526775182826139,
        "width": 0.8,
        "x": 0.1,
        "y": 0.1
       },
       "content": {
        "cell": "8e14ba72-6816-4bce-bbf0-17842966f7bd",
        "part": "whole"
       },
       "id": "32da4c13-726f-4393-ba8e-be5770280ac0"
      }
     }
    },
    "822a886a-5ca4-4e4a-8e55-e81f910488d1": {
     "id": "822a886a-5ca4-4e4a-8e55-e81f910488d1",
     "prev": "383d62a1-154e-4b45-8715-6df5c85e8e9c",
     "regions": {
      "70acf512-4faa-451c-b350-ff014f483f77": {
       "attrs": {
        "height": 0.9295187402971836,
        "width": 0.8558882235528943,
        "x": 0.0750499001996008,
        "y": 0.029030827234420055
       },
       "content": {
        "cell": "964ca65b-e1dd-47e9-8560-a110b762ed84",
        "part": "whole"
       },
       "id": "70acf512-4faa-451c-b350-ff014f483f77"
      }
     }
    },
    "83c200a4-0e6c-459d-acf5-b40cc05aa9df": {
     "id": "83c200a4-0e6c-459d-acf5-b40cc05aa9df",
     "prev": "d1004b5b-a120-4a0d-8104-aaedd88cfec3",
     "regions": {
      "fc42f104-f477-4579-b17b-8bce1c40acec": {
       "attrs": {
        "height": 0.8,
        "width": 0.8,
        "x": 0.1,
        "y": 0.1
       },
       "content": {
        "cell": "f3c0652f-3991-4873-a05b-18f0ff7b3a8f",
        "part": "whole"
       },
       "id": "fc42f104-f477-4579-b17b-8bce1c40acec"
      }
     }
    },
    "8d18f2cb-a7d3-4397-8795-393ab53d7296": {
     "id": "8d18f2cb-a7d3-4397-8795-393ab53d7296",
     "prev": "76b471b9-8aed-44c9-bf4b-5937e8a6bc60",
     "regions": {
      "44d3aaac-cebe-4ca9-8f4b-3a84ecc818ae": {
       "attrs": {
        "height": 0.8,
        "width": 0.8,
        "x": 0.1,
        "y": 0.1
       },
       "content": {
        "cell": "e9a4b023-bd49-4655-ae42-0bc07dcf3952",
        "part": "whole"
       },
       "id": "44d3aaac-cebe-4ca9-8f4b-3a84ecc818ae"
      }
     }
    },
    "90034c06-db09-49f2-9bca-354429b3288e": {
     "id": "90034c06-db09-49f2-9bca-354429b3288e",
     "prev": "822a886a-5ca4-4e4a-8e55-e81f910488d1",
     "regions": {
      "f44bfb88-06bc-4501-bff1-9d08f00415a9": {
       "attrs": {
        "height": 0.8,
        "width": 0.8,
        "x": 0.1,
        "y": 0.1
       },
       "content": {
        "cell": "0582aceb-21cb-4a62-bd07-d83a9b4540e5",
        "part": "whole"
       },
       "id": "f44bfb88-06bc-4501-bff1-9d08f00415a9"
      }
     }
    },
    "92285f5e-09cc-432d-ab60-ff0ebb29fe8e": {
     "id": "92285f5e-09cc-432d-ab60-ff0ebb29fe8e",
     "prev": "8d18f2cb-a7d3-4397-8795-393ab53d7296",
     "regions": {
      "fa32b4f6-b9c3-4794-9cfb-d777dbf00d70": {
       "attrs": {
        "height": 0.8,
        "width": 0.8,
        "x": 0.1,
        "y": 0.1
       },
       "content": {
        "cell": "ad0d56df-3c01-493e-920e-3c966ad89a8a",
        "part": "whole"
       },
       "id": "fa32b4f6-b9c3-4794-9cfb-d777dbf00d70"
      }
     }
    },
    "9286d6af-dfca-4f6d-8083-b8559c7ab803": {
     "id": "9286d6af-dfca-4f6d-8083-b8559c7ab803",
     "prev": "3fbbc5fb-4893-45c6-b206-1338830d1144",
     "regions": {
      "c0525087-8ceb-49ad-8d21-f06f8c9570e0": {
       "attrs": {
        "height": 0.8,
        "width": 0.8,
        "x": 0.1,
        "y": 0.1
       },
       "content": {
        "cell": "96503525-2aed-4deb-be23-3a039c16ac58",
        "part": "whole"
       },
       "id": "c0525087-8ceb-49ad-8d21-f06f8c9570e0"
      }
     }
    },
    "9e7549f5-a1dd-483f-ad22-4985bc49b75a": {
     "id": "9e7549f5-a1dd-483f-ad22-4985bc49b75a",
     "prev": "02749a8b-a12e-468a-b314-b48d2126acf6",
     "regions": {
      "98f360cf-7907-4edd-a7a4-521ada094bc3": {
       "attrs": {
        "height": 0.8,
        "width": 0.8,
        "x": 0.1,
        "y": 0.1
       },
       "content": {
        "cell": "9c0f0bdb-346e-48a2-9e46-f2150efe0934",
        "part": "whole"
       },
       "id": "98f360cf-7907-4edd-a7a4-521ada094bc3"
      }
     }
    },
    "9f784c2f-ae9c-4cdd-821d-b3e35f93392d": {
     "id": "9f784c2f-ae9c-4cdd-821d-b3e35f93392d",
     "prev": "1c5e0152-9267-4a8e-878c-545a033b847c",
     "regions": {
      "f3ee824f-cf5a-410d-b2ad-3a4a4028a632": {
       "attrs": {
        "height": 0.8,
        "width": 0.8,
        "x": 0.1,
        "y": 0.1
       },
       "content": {
        "cell": "08bf5cc7-7089-4568-bf77-6c46ba2b12e6",
        "part": "outputs"
       },
       "id": "f3ee824f-cf5a-410d-b2ad-3a4a4028a632"
      }
     }
    },
    "a6859a7f-3482-4f75-96c4-6044cc6e23fb": {
     "id": "a6859a7f-3482-4f75-96c4-6044cc6e23fb",
     "prev": "3692a0c0-6196-4a37-b988-dcc57844bca9",
     "regions": {
      "64c4851a-712b-498f-be8e-67bede25941a": {
       "attrs": {
        "height": 0.8,
        "width": 0.8,
        "x": 0.1,
        "y": 0.1
       },
       "content": {
        "cell": "b7f443c6-546b-4341-a0c2-6cb10f63a1f5",
        "part": "whole"
       },
       "id": "64c4851a-712b-498f-be8e-67bede25941a"
      }
     }
    },
    "ac3014b4-afe4-4580-a297-a23f024b786f": {
     "id": "ac3014b4-afe4-4580-a297-a23f024b786f",
     "prev": "f29d375a-bd99-4d31-81ad-b1bb0f87f181",
     "regions": {
      "3df68713-2107-48b6-9558-85a3f4026239": {
       "attrs": {
        "height": 0.8,
        "width": 0.8,
        "x": 0.1,
        "y": 0.1
       },
       "content": {
        "cell": "8ac4e5c8-a1f3-45fc-a736-ecee71303553",
        "part": "whole"
       },
       "id": "3df68713-2107-48b6-9558-85a3f4026239"
      }
     }
    },
    "b0c0250a-aaa7-4da5-9e3b-1e580b82f78a": {
     "id": "b0c0250a-aaa7-4da5-9e3b-1e580b82f78a",
     "prev": "3004a5dc-d88f-4c5c-bcfe-cedcac89e1d4",
     "regions": {
      "0fdd3bdd-f770-4bc6-b779-635d45e63b8b": {
       "attrs": {
        "height": 0.8,
        "width": 0.8,
        "x": 0.1,
        "y": 0.1
       },
       "content": {
        "cell": "b8d03a1e-7c96-4d28-a755-8914cb07f932",
        "part": "whole"
       },
       "id": "0fdd3bdd-f770-4bc6-b779-635d45e63b8b"
      }
     }
    },
    "b6415d25-ddaf-424c-879b-b0caeea84ec2": {
     "id": "b6415d25-ddaf-424c-879b-b0caeea84ec2",
     "prev": "ff7eb7ab-e73f-4617-ab2c-06ac65cc7625",
     "regions": {
      "d719c084-8d04-447a-9284-e76d080fffdc": {
       "attrs": {
        "height": 0.8,
        "width": 0.8,
        "x": 0.1,
        "y": 0.1
       },
       "content": {
        "cell": "c2c5dcd8-febf-4798-b94c-ae9c86547a70",
        "part": "whole"
       },
       "id": "d719c084-8d04-447a-9284-e76d080fffdc"
      }
     }
    },
    "ba389e41-4681-47c3-ad86-8c14a8e5b1cd": {
     "id": "ba389e41-4681-47c3-ad86-8c14a8e5b1cd",
     "prev": "4ae623fb-9e48-49e9-8d84-940fa4142b67",
     "regions": {
      "da726746-59bb-4063-b34f-ee07e1364a42": {
       "attrs": {
        "height": 0.8056617126680822,
        "width": 0.8,
        "x": 0.1,
        "y": 0.09433828733191793
       },
       "content": {
        "cell": "d08748d0-2c0f-4f0c-b7d4-b6c876831dd2",
        "part": "whole"
       },
       "id": "da726746-59bb-4063-b34f-ee07e1364a42"
      }
     }
    },
    "bc271991-06af-442d-b7e2-0b00ee78be48": {
     "id": "bc271991-06af-442d-b7e2-0b00ee78be48",
     "prev": "fdc759c9-e44c-4b39-b089-fb1895cf7b26",
     "regions": {
      "42830ebe-fbb0-4244-a150-e9c765c5f648": {
       "attrs": {
        "height": 0.8,
        "width": 0.8,
        "x": 0.1,
        "y": 0.1
       },
       "content": {
        "cell": "3149d5e0-ec03-4319-88f0-30b7f7470481",
        "part": "whole"
       },
       "id": "42830ebe-fbb0-4244-a150-e9c765c5f648"
      }
     }
    },
    "be0d20e7-48a3-4d64-a5de-1a38e1e8cacc": {
     "id": "be0d20e7-48a3-4d64-a5de-1a38e1e8cacc",
     "prev": "3706fb0e-4eb8-4a37-b78c-7767f9ed0498",
     "regions": {
      "adf189e7-1c53-4628-b261-49750b673d56": {
       "attrs": {
        "height": 0.8188723755602739,
        "width": 0.8,
        "x": 0.1,
        "y": 0.08112762443972638
       },
       "content": {
        "cell": "db559267-9155-4cd1-a5e4-7ca1df770098",
        "part": "whole"
       },
       "id": "adf189e7-1c53-4628-b261-49750b673d56"
      }
     }
    },
    "be497274-2f43-4c80-a786-30f69ec1c7ce": {
     "id": "be497274-2f43-4c80-a786-30f69ec1c7ce",
     "prev": null,
     "regions": {
      "5f1da8bc-dea0-446d-872a-344727036b9a": {
       "attrs": {
        "height": 0.8,
        "width": 0.8,
        "x": 0.1,
        "y": 0.1
       },
       "content": {
        "cell": "3d33eff6-441b-446e-b9cb-5e49e4095cbf",
        "part": "whole"
       },
       "id": "5f1da8bc-dea0-446d-872a-344727036b9a"
      }
     }
    },
    "c4de5cc0-2656-4a77-8640-71f243fc28e8": {
     "id": "c4de5cc0-2656-4a77-8640-71f243fc28e8",
     "prev": "5c248654-ec94-4e44-8531-a17f9561cc48",
     "regions": {
      "cbc5346d-399a-4762-8fe0-a117a9009c62": {
       "attrs": {
        "height": 0.8056617126680822,
        "width": 0.8,
        "x": 0.1,
        "y": 0.09433828733191793
       },
       "content": {
        "cell": "bd135934-a063-484e-ac99-919bbf15e24b",
        "part": "whole"
       },
       "id": "cbc5346d-399a-4762-8fe0-a117a9009c62"
      }
     }
    },
    "c7752170-81e9-4e4a-9608-abbb5a16df0b": {
     "id": "c7752170-81e9-4e4a-9608-abbb5a16df0b",
     "prev": "d44d37f3-fad1-4ac2-924b-28c30a36fef2",
     "regions": {
      "f4471979-0a25-498f-80dd-662f9debbbb4": {
       "attrs": {
        "height": 0.8,
        "width": 0.8,
        "x": 0.1,
        "y": 0.1
       },
       "content": {
        "cell": "85117064-70a9-47b4-b20a-e84afd979f21",
        "part": "whole"
       },
       "id": "f4471979-0a25-498f-80dd-662f9debbbb4"
      }
     }
    },
    "c7cb716e-3006-4203-8b82-14ddb6b14acf": {
     "id": "c7cb716e-3006-4203-8b82-14ddb6b14acf",
     "prev": "a6859a7f-3482-4f75-96c4-6044cc6e23fb",
     "regions": {
      "d90abe91-fcc5-40ba-a873-875146f9185d": {
       "attrs": {
        "height": 0.8,
        "width": 0.8,
        "x": 0.1,
        "y": 0.1
       },
       "content": {
        "cell": "71dc46a6-2b42-43dc-94ed-550e923dd02f",
        "part": "whole"
       },
       "id": "d90abe91-fcc5-40ba-a873-875146f9185d"
      }
     }
    },
    "c843c855-27e4-49cc-be10-7451791fdc33": {
     "id": "c843c855-27e4-49cc-be10-7451791fdc33",
     "prev": "14f3ae5a-a837-43be-870b-e7731388662f",
     "regions": {
      "96aae994-fc71-43fb-a4cf-5a2ee1c7f198": {
       "attrs": {
        "height": 0.8,
        "width": 0.8,
        "x": 0.1,
        "y": 0.1
       },
       "content": {
        "cell": "d5a0119c-40a0-4294-8869-d6b57624f99b",
        "part": "whole"
       },
       "id": "96aae994-fc71-43fb-a4cf-5a2ee1c7f198"
      }
     }
    },
    "c96c2814-b00e-406e-92e5-5233c1b9d984": {
     "id": "c96c2814-b00e-406e-92e5-5233c1b9d984",
     "prev": "9f784c2f-ae9c-4cdd-821d-b3e35f93392d",
     "regions": {
      "eb4a8a3a-3487-4562-87c3-cf3a736c28e3": {
       "attrs": {
        "height": 0.8,
        "width": 0.8,
        "x": 0.1,
        "y": 0.1
       },
       "content": {
        "cell": "2d2ff8be-6ff4-4384-a7d2-0a560104ce82",
        "part": "whole"
       },
       "id": "eb4a8a3a-3487-4562-87c3-cf3a736c28e3"
      }
     }
    },
    "ca9ee1b6-121d-44af-af1c-25c3190065e8": {
     "id": "ca9ee1b6-121d-44af-af1c-25c3190065e8",
     "prev": "be0d20e7-48a3-4d64-a5de-1a38e1e8cacc",
     "regions": {
      "491d9c6f-bfe9-43dd-a5be-ee77a0a9bb2c": {
       "attrs": {
        "height": 0.8188723755602739,
        "width": 0.8,
        "x": 0.1,
        "y": 0.08112762443972638
       },
       "content": {
        "cell": "a44ed8de-eac8-4ba2-ac30-eb9429feb030",
        "part": "whole"
       },
       "id": "491d9c6f-bfe9-43dd-a5be-ee77a0a9bb2c"
      }
     }
    },
    "d1004b5b-a120-4a0d-8104-aaedd88cfec3": {
     "id": "d1004b5b-a120-4a0d-8104-aaedd88cfec3",
     "prev": "b0c0250a-aaa7-4da5-9e3b-1e580b82f78a",
     "regions": {
      "4a665988-45e3-461e-aad2-f6112a8f4470": {
       "attrs": {
        "height": 0.8,
        "width": 0.8,
        "x": 0.1,
        "y": 0.1
       },
       "content": {
        "cell": "d83b03a5-3791-4826-b519-8ba7702c86c0",
        "part": "whole"
       },
       "id": "4a665988-45e3-461e-aad2-f6112a8f4470"
      }
     }
    },
    "d396a360-2f7a-4ff5-a981-a436679626e3": {
     "id": "d396a360-2f7a-4ff5-a981-a436679626e3",
     "prev": "15159d5a-6024-4b48-9fb2-e18a0a30cb7f",
     "regions": {
      "b81d9b09-23ce-45ee-a26b-e335926cd109": {
       "attrs": {
        "height": 0.8,
        "width": 0.8,
        "x": 0.1,
        "y": 0.1
       },
       "content": {
        "cell": "35c2b91f-38a7-4838-b9b9-3ed7c9a7098a",
        "part": "whole"
       },
       "id": "b81d9b09-23ce-45ee-a26b-e335926cd109"
      }
     }
    },
    "d44d37f3-fad1-4ac2-924b-28c30a36fef2": {
     "id": "d44d37f3-fad1-4ac2-924b-28c30a36fef2",
     "prev": "0d2a03bd-a1b6-4dd3-b724-8775be696a22",
     "regions": {
      "2f1c60cc-c149-4d1e-903d-da4daf764ecd": {
       "attrs": {
        "height": 0.8,
        "width": 0.8,
        "x": 0.1,
        "y": 0.1
       },
       "content": {
        "cell": "bbca09f3-c852-455a-8076-4eb07da1c34d",
        "part": "whole"
       },
       "id": "2f1c60cc-c149-4d1e-903d-da4daf764ecd"
      }
     }
    },
    "d94204cb-6934-49fb-bd79-f171004d6562": {
     "id": "d94204cb-6934-49fb-bd79-f171004d6562",
     "prev": "90034c06-db09-49f2-9bca-354429b3288e",
     "regions": {
      "346eddbb-e98d-4b00-8efc-5be8e27fe911": {
       "attrs": {
        "height": 0.8,
        "width": 0.8,
        "x": 0.1,
        "y": 0.1
       },
       "content": {
        "cell": "1d65457c-0a49-4507-b28e-75808bf11725",
        "part": "whole"
       },
       "id": "346eddbb-e98d-4b00-8efc-5be8e27fe911"
      }
     }
    },
    "e30f474d-f1d1-46e0-b0ef-eb068888ab6e": {
     "id": "e30f474d-f1d1-46e0-b0ef-eb068888ab6e",
     "prev": "b6415d25-ddaf-424c-879b-b0caeea84ec2",
     "regions": {
      "b7dcd475-b67b-4f23-a156-08f0d905a743": {
       "attrs": {
        "height": 0.8,
        "width": 0.8,
        "x": 0.1,
        "y": 0.1
       },
       "content": {
        "cell": "500f3295-9faa-43c0-89ae-6d1cec4b0e25",
        "part": "outputs"
       },
       "id": "b7dcd475-b67b-4f23-a156-08f0d905a743"
      }
     }
    },
    "e786a625-fec4-491f-bd76-5cdddb9fb52f": {
     "id": "e786a625-fec4-491f-bd76-5cdddb9fb52f",
     "prev": "61668ed2-f70a-45f5-84f8-5f773288c7ba",
     "regions": {
      "d1c70d5f-6f67-4854-beca-e1de24a926a3": {
       "attrs": {
        "height": 0.8,
        "width": 0.8,
        "x": 0.1,
        "y": 0.1
       },
       "content": {
        "cell": "6923fffe-0602-4aef-a693-4203f05bc6e7",
        "part": "whole"
       },
       "id": "d1c70d5f-6f67-4854-beca-e1de24a926a3"
      }
     }
    },
    "f29d375a-bd99-4d31-81ad-b1bb0f87f181": {
     "id": "f29d375a-bd99-4d31-81ad-b1bb0f87f181",
     "prev": "34dceb7a-8a05-471b-935f-f9cc76b07459",
     "regions": {
      "9a59a591-d9f4-4b2d-a5a4-0b88e846cf78": {
       "attrs": {
        "height": 0.8,
        "width": 0.8,
        "x": 0.1,
        "y": 0.1
       },
       "content": {
        "cell": "9fba0f27-f604-4aee-9f20-5819e81d07c8",
        "part": "whole"
       },
       "id": "9a59a591-d9f4-4b2d-a5a4-0b88e846cf78"
      }
     }
    },
    "f87d25e1-6393-436e-902c-ca88a3b87328": {
     "id": "f87d25e1-6393-436e-902c-ca88a3b87328",
     "prev": "16b02af4-a6fe-4a29-9f6a-98383536c38c",
     "regions": {
      "4d0e951e-5a86-4dfc-b222-19cf1cd0498c": {
       "attrs": {
        "height": 0.888711465956975,
        "width": 0.863872255489022,
        "x": 0.0720558882235529,
        "y": 0.046773120425815044
       },
       "content": {
        "cell": "79bf0202-027b-473f-8f86-a4d9dbecbe53",
        "part": "whole"
       },
       "id": "4d0e951e-5a86-4dfc-b222-19cf1cd0498c"
      }
     }
    },
    "fdc759c9-e44c-4b39-b089-fb1895cf7b26": {
     "id": "fdc759c9-e44c-4b39-b089-fb1895cf7b26",
     "prev": "47daea17-acbb-4f58-b3c4-790fc2a0cc64",
     "regions": {
      "96f20c67-5a0e-4498-b4d4-bf3e47cf4c28": {
       "attrs": {
        "height": 0.8,
        "width": 0.8,
        "x": 0.1,
        "y": 0.1
       },
       "content": {
        "cell": "482263e9-e910-4248-9eb7-10f12bec459e",
        "part": "whole"
       },
       "id": "96f20c67-5a0e-4498-b4d4-bf3e47cf4c28"
      }
     }
    },
    "ff7eb7ab-e73f-4617-ab2c-06ac65cc7625": {
     "id": "ff7eb7ab-e73f-4617-ab2c-06ac65cc7625",
     "prev": "2de63b4c-6f8a-479a-b181-16e530df6c65",
     "regions": {
      "7d4c37fc-18f1-41d8-aaa2-726a34bd45fb": {
       "attrs": {
        "height": 0.8,
        "width": 0.8,
        "x": 0.1,
        "y": 0.1
       },
       "content": {
        "cell": "c91702f0-c48e-4cad-ac03-31704131d3d3",
        "part": "whole"
       },
       "id": "7d4c37fc-18f1-41d8-aaa2-726a34bd45fb"
      }
     }
    }
   },
   "themes": {
    "default": "e50a832a-8b90-4f7f-a1b2-e6eefedd298c",
    "theme": {
     "e50a832a-8b90-4f7f-a1b2-e6eefedd298c": {
      "id": "e50a832a-8b90-4f7f-a1b2-e6eefedd298c",
      "palette": {
       "19cc588f-0593-49c9-9f4b-e4d7cc113b1c": {
        "id": "19cc588f-0593-49c9-9f4b-e4d7cc113b1c",
        "rgb": [
         252,
         252,
         252
        ]
       },
       "31af15d2-7e15-44c5-ab5e-e04b16a89eff": {
        "id": "31af15d2-7e15-44c5-ab5e-e04b16a89eff",
        "rgb": [
         68,
         68,
         68
        ]
       },
       "50f92c45-a630-455b-aec3-788680ec7410": {
        "id": "50f92c45-a630-455b-aec3-788680ec7410",
        "rgb": [
         155,
         177,
         192
        ]
       },
       "c5cc3653-2ee1-402a-aba2-7caae1da4f6c": {
        "id": "c5cc3653-2ee1-402a-aba2-7caae1da4f6c",
        "rgb": [
         43,
         126,
         184
        ]
       },
       "efa7f048-9acb-414c-8b04-a26811511a21": {
        "id": "efa7f048-9acb-414c-8b04-a26811511a21",
        "rgb": [
         25.118061674008803,
         73.60176211453744,
         107.4819383259912
        ]
       }
      },
      "rules": {
       "blockquote": {
        "color": "50f92c45-a630-455b-aec3-788680ec7410"
       },
       "code": {
        "font-family": "Anonymous Pro"
       },
       "h1": {
        "color": "c5cc3653-2ee1-402a-aba2-7caae1da4f6c",
        "font-family": "Lato",
        "font-size": 8
       },
       "h2": {
        "color": "c5cc3653-2ee1-402a-aba2-7caae1da4f6c",
        "font-family": "Lato",
        "font-size": 6
       },
       "h3": {
        "color": "50f92c45-a630-455b-aec3-788680ec7410",
        "font-family": "Lato",
        "font-size": 5.5
       },
       "h4": {
        "color": "c5cc3653-2ee1-402a-aba2-7caae1da4f6c",
        "font-family": "Lato",
        "font-size": 5
       },
       "h5": {
        "font-family": "Lato"
       },
       "h6": {
        "font-family": "Lato"
       },
       "h7": {
        "font-family": "Lato"
       },
       "pre": {
        "font-family": "Anonymous Pro",
        "font-size": 4
       }
      },
      "text-base": {
       "font-family": "Merriweather",
       "font-size": 4
      }
     }
    }
   }
  }
 },
 "nbformat": 4,
 "nbformat_minor": 1
}
