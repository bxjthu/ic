{
 "cells": [
  {
   "cell_type": "markdown",
   "metadata": {},
   "source": [
    "# 4. Python Turtle Graphics"
   ]
  },
  {
   "cell_type": "markdown",
   "metadata": {},
   "source": [
    "## Our first turtle program\n",
    "\n",
    "```python\n",
    "import turtle               # allows us to use the turtles library\n",
    "wn = turtle.Screen()        # creates a graphics window\n",
    "alex = turtle.Turtle()      # create a turtle named alex\n",
    "alex.forward(150)           # tell alex to move forward by 150 units\n",
    "alex.left(90)               # turn by 90 degrees\n",
    "alex.forward(75)            # complete the second side of a rectangle\n",
    "```"
   ]
  },
  {
   "cell_type": "markdown",
   "metadata": {
    "collapsed": false
   },
   "source": [
    "**Exercise:**\n",
    "\n",
    "![TurtleL4](http://sei.pku.edu.cn/~caodg/course/ic/notebooks/images/TurtleL4.png)"
   ]
  },
  {
   "cell_type": "markdown",
   "metadata": {
    "collapsed": true
   },
   "source": [
    "** Exercise: **\n",
    "\n",
    "![TurtleL4](http://sei.pku.edu.cn/~caodg/course/ic/notebooks/images/TurtleCheckmark4.png)"
   ]
  },
  {
   "cell_type": "markdown",
   "metadata": {},
   "source": [
    "** Exercise: **\n",
    "\n",
    "![TurtleL4](http://sei.pku.edu.cn/~caodg/course/ic/notebooks/images/TurtleLineToWest.png)"
   ]
  },
  {
   "cell_type": "markdown",
   "metadata": {},
   "source": [
    "** Color & Pensize**\n",
    "\n",
    "\n",
    "```python\n",
    "import turtle\n",
    "\n",
    "wn = turtle.Screen()\n",
    "wn.bgcolor(\"blue\")\n",
    "\n",
    "alex = turtle.Turtle()\n",
    "alex.color(\"white\")\n",
    "alex.pensize(10)\n",
    "```"
   ]
  },
  {
   "cell_type": "markdown",
   "metadata": {},
   "source": [
    "** Exercise **\n",
    "\n",
    "![TurtleL4](http://sei.pku.edu.cn/~caodg/course/ic/notebooks/images/BlueTurtleL.png)"
   ]
  },
  {
   "cell_type": "markdown",
   "metadata": {},
   "source": [
    "** Exercise **\n",
    "\n",
    "![TurtleL4](http://sei.pku.edu.cn/~caodg/course/ic/notebooks/images/TurtleT.png)"
   ]
  },
  {
   "cell_type": "markdown",
   "metadata": {},
   "source": [
    "## Instances — A Herd of Turtles"
   ]
  },
  {
   "cell_type": "markdown",
   "metadata": {},
   "source": [
    "```python\n",
    "import turtle\n",
    "wn = turtle.Screen() \n",
    "wn.bgcolor(\"lightgreen\")\n",
    "\n",
    "tess = turtle.Turtle() \n",
    "tess.color(\"hotpink\")\n",
    "tess.pensize(5)\n",
    "tess.forward(80)\n",
    "\n",
    "alex = turtle.Turtle()\n",
    "alex.backward(100)\n",
    "\n",
    "wn.exitonclick()\n",
    "```"
   ]
  },
  {
   "cell_type": "markdown",
   "metadata": {},
   "source": [
    "** Exercise **\n",
    "\n",
    "![TurtleL4](http://sei.pku.edu.cn/~caodg/course/ic/notebooks/images/TwoTurtlesL.png)"
   ]
  },
  {
   "cell_type": "markdown",
   "metadata": {},
   "source": [
    "## The for Loop"
   ]
  },
  {
   "cell_type": "markdown",
   "metadata": {},
   "source": [
    "** Exercise **\n",
    "\n",
    "Draw a square"
   ]
  },
  {
   "cell_type": "markdown",
   "metadata": {},
   "source": [
    "```python\n",
    "import turtle\n",
    "\n",
    "tess = turtle.Turtle()\n",
    "tess.forward(80) \n",
    "tess.left(90)\n",
    "tess.forward(80)\n",
    "tess.left(90)\n",
    "tess.forward(80)\n",
    "tess.left(90)  \n",
    "tess.forward(80) \n",
    "```"
   ]
  },
  {
   "cell_type": "markdown",
   "metadata": {},
   "source": [
    "### `for` statement"
   ]
  },
  {
   "cell_type": "code",
   "execution_count": 2,
   "metadata": {
    "collapsed": false
   },
   "outputs": [
    {
     "name": "stdout",
     "output_type": "stream",
     "text": [
      "Hi Joe Please come to my party on Saturday!\n",
      "Hi Amy Please come to my party on Saturday!\n",
      "Hi Brad Please come to my party on Saturday!\n",
      "Hi Angelina Please come to my party on Saturday!\n",
      "Hi Zuki Please come to my party on Saturday!\n"
     ]
    }
   ],
   "source": [
    "for name in [\"Joe\", \"Amy\", \"Brad\", \"Angelina\", \"Zuki\"]:\n",
    "    print(\"Hi\", name, \"Please come to my party on Saturday!\")"
   ]
  },
  {
   "cell_type": "markdown",
   "metadata": {},
   "source": [
    "## Flow of Execution of the `for` Loop\n",
    "\n",
    "![forloop](http://sei.pku.edu.cn/~caodg/course/ic/notebooks/images/for.svg)"
   ]
  },
  {
   "cell_type": "markdown",
   "metadata": {},
   "source": [
    "## Iteration Helps\n",
    "\n",
    "```python\n",
    "import turtle\n",
    "alex = turtle.Turtle()\n",
    "\n",
    "for i in [0, 1, 2, 3]:  # repeat four times\n",
    "    alex.forward(80)\n",
    "    alex.left(90)\n",
    "```"
   ]
  },
  {
   "cell_type": "markdown",
   "metadata": {},
   "source": [
    "## Another version"
   ]
  },
  {
   "cell_type": "markdown",
   "metadata": {},
   "source": [
    "```python\n",
    "import turtle\n",
    "alex = turtle.Turtle()\n",
    "\n",
    "for i in [\"yellow\", \"red\", \"purple\", \"blue\"]: \n",
    "    alex.forward(80)\n",
    "    alex.left(90)\n",
    "```"
   ]
  },
  {
   "cell_type": "markdown",
   "metadata": {},
   "source": [
    "** \n",
    "```python\n",
    "import turtle\n",
    "alex = turtle.Turtle()\n",
    "\n",
    "for aColor in [\"yellow\", \"red\", \"purple\", \"blue\"]:\n",
    "   alex.color(aColor)\n",
    "   alex.forward(80)\n",
    "   alex.left(90)\n",
    "```"
   ]
  },
  {
   "cell_type": "code",
   "execution_count": 7,
   "metadata": {
    "collapsed": false
   },
   "outputs": [
    {
     "data": {
      "text/html": [
       "\n",
       "        <iframe\n",
       "            width=\"100%\"\n",
       "            height=\"350\"\n",
       "            src=\"https://162.105.175.204:8000/runestone/static/thinkcspy/Workspace/index.html\"\n",
       "            frameborder=\"0\"\n",
       "            allowfullscreen\n",
       "        ></iframe>\n",
       "        "
      ],
      "text/plain": [
       "<IPython.lib.display.IFrame at 0x106aa5048>"
      ]
     },
     "execution_count": 7,
     "metadata": {},
     "output_type": "execute_result"
    }
   ],
   "source": [
    "from IPython.display import IFrame\n",
    "IFrame('https://162.105.175.204:8000/runestone/static/thinkcspy/Workspace/index.html', width='100%', height=350)"
   ]
  },
  {
   "cell_type": "code",
   "execution_count": null,
   "metadata": {
    "collapsed": true
   },
   "outputs": [],
   "source": []
  }
 ],
 "metadata": {
  "anaconda-cloud": {},
  "kernelspec": {
   "display_name": "Python [default]",
   "language": "python",
   "name": "python3"
  },
  "language_info": {
   "codemirror_mode": {
    "name": "ipython",
    "version": 3
   },
   "file_extension": ".py",
   "mimetype": "text/x-python",
   "name": "python",
   "nbconvert_exporter": "python",
   "pygments_lexer": "ipython3",
   "version": "3.5.2"
  }
 },
 "nbformat": 4,
 "nbformat_minor": 1
}
