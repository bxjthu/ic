{
 "cells": [
  {
   "cell_type": "markdown",
   "metadata": {
    "nbpresent": {
     "id": "be108a25-1101-48a9-b263-74bb9f0f6172"
    }
   },
   "source": [
    "# 4. Python Turtle Graphics"
   ]
  },
  {
   "cell_type": "markdown",
   "metadata": {
    "nbpresent": {
     "id": "fb392846-a458-4da8-8aac-214c16344b0f"
    }
   },
   "source": [
    "** Our first turtle program **\n",
    "\n",
    "```python\n",
    "import turtle        # use the turtles library\n",
    "wn = turtle.Screen() # create a graphics window\n",
    "li = turtle.Turtle() # create a turtle named li\n",
    "li.forward(150)      # move forward by 150 units\n",
    "li.left(90)          # turn left by 90 degrees\n",
    "li.forward(75)       # other side of a rectangle\n",
    "```"
   ]
  },
  {
   "cell_type": "code",
   "execution_count": 4,
   "metadata": {
    "collapsed": false,
    "nbpresent": {
     "id": "c13e1178-4510-4863-ae02-feeb70d0c27f"
    }
   },
   "outputs": [
    {
     "data": {
      "text/html": [
       "\n",
       "        <iframe\n",
       "            width=\"100%\"\n",
       "            height=\"350\"\n",
       "            src=\"http://162.105.175.204:8000/runestone/static/thinkcspy/Workspace/index.html\"\n",
       "            frameborder=\"0\"\n",
       "            allowfullscreen\n",
       "        ></iframe>\n",
       "        "
      ],
      "text/plain": [
       "<IPython.lib.display.IFrame at 0x106a79e80>"
      ]
     },
     "execution_count": 4,
     "metadata": {},
     "output_type": "execute_result"
    }
   ],
   "source": [
    "from IPython.display import IFrame\n",
    "IFrame('http://162.105.175.204:8000/runestone/static/thinkcspy/Workspace/index.html', width='100%', height=450)"
   ]
  },
  {
   "cell_type": "markdown",
   "metadata": {
    "collapsed": false,
    "nbpresent": {
     "id": "e1723341-a9f9-4bdc-9299-179d249bd215"
    }
   },
   "source": [
    "**Exercise:**\n",
    "\n",
    "![TurtleL4](http://sei.pku.edu.cn/~caodg/course/ic/notebooks/images/TurtleL4.png)"
   ]
  },
  {
   "cell_type": "markdown",
   "metadata": {
    "collapsed": true,
    "nbpresent": {
     "id": "50ad67b6-5d1b-4bfe-a78d-29c454edaa39"
    }
   },
   "source": [
    "** Exercise: **\n",
    "\n",
    "![TurtleL4](http://sei.pku.edu.cn/~caodg/course/ic/notebooks/images/TurtleCheckmark4.png)"
   ]
  },
  {
   "cell_type": "markdown",
   "metadata": {
    "nbpresent": {
     "id": "663a76d1-e888-4917-80cc-d22c6baf27bf"
    }
   },
   "source": [
    "** Exercise: **\n",
    "\n",
    "![TurtleL4](http://sei.pku.edu.cn/~caodg/course/ic/notebooks/images/TurtleLineToWest.png)"
   ]
  },
  {
   "cell_type": "markdown",
   "metadata": {
    "nbpresent": {
     "id": "88c57a01-fb7b-45a8-b17e-3ab7197e2195"
    }
   },
   "source": [
    "** Color & Pensize**\n",
    "\n",
    "\n",
    "```python\n",
    "import turtle\n",
    "\n",
    "wn = turtle.Screen()\n",
    "wn.bgcolor(\"blue\")\n",
    "\n",
    "alex = turtle.Turtle()\n",
    "alex.color(\"white\")\n",
    "alex.pensize(10)\n",
    "```"
   ]
  },
  {
   "cell_type": "code",
   "execution_count": null,
   "metadata": {
    "collapsed": true,
    "nbpresent": {
     "id": "ef71dd40-d774-4aa0-bf4d-c7dc2d596136"
    }
   },
   "outputs": [],
   "source": [
    "from IPython.display import IFrame\n",
    "IFrame('http://162.105.175.204:8000/runestone/static/thinkcspy/Workspace/index.html', width='100%', height=450)"
   ]
  },
  {
   "cell_type": "markdown",
   "metadata": {
    "nbpresent": {
     "id": "58280b85-48ff-4f9f-aa87-033007574dd9"
    }
   },
   "source": [
    "** Exercise **\n",
    "\n",
    "![TurtleL4](http://sei.pku.edu.cn/~caodg/course/ic/notebooks/images/BlueTurtleL.png)"
   ]
  },
  {
   "cell_type": "markdown",
   "metadata": {
    "nbpresent": {
     "id": "862b26c1-70bf-4ddf-8e71-0ff1c394ac0a"
    }
   },
   "source": [
    "** Exercise **\n",
    "\n",
    "![TurtleL4](http://sei.pku.edu.cn/~caodg/course/ic/notebooks/images/TurtleT.png)"
   ]
  },
  {
   "cell_type": "markdown",
   "metadata": {
    "nbpresent": {
     "id": "d7a97da2-bb82-4d35-a37c-db3f3c537fa1"
    }
   },
   "source": [
    "## Instances — A Herd of Turtles"
   ]
  },
  {
   "cell_type": "markdown",
   "metadata": {
    "nbpresent": {
     "id": "41acc748-8f0d-40f2-97e8-9413038c1be2"
    }
   },
   "source": [
    "```python\n",
    "import turtle\n",
    "wn = turtle.Screen() \n",
    "wn.bgcolor(\"lightgreen\")\n",
    "\n",
    "tess = turtle.Turtle() \n",
    "tess.color(\"hotpink\")\n",
    "tess.pensize(5)\n",
    "tess.forward(80)\n",
    "\n",
    "alex = turtle.Turtle()\n",
    "alex.backward(100)\n",
    "\n",
    "wn.exitonclick()\n",
    "```"
   ]
  },
  {
   "cell_type": "markdown",
   "metadata": {
    "nbpresent": {
     "id": "ea6b5093-57c5-4136-8997-5c9618bebff7"
    }
   },
   "source": [
    "** Exercise **\n",
    "\n",
    "![TurtleL4](http://sei.pku.edu.cn/~caodg/course/ic/notebooks/images/TwoTurtlesL.png)"
   ]
  },
  {
   "cell_type": "markdown",
   "metadata": {
    "nbpresent": {
     "id": "dd789ca8-d018-48f7-b430-a2ace5b276b5"
    }
   },
   "source": [
    "## The for Loop\n",
    "\n",
    "** Exercise **\n",
    "\n",
    "Draw a square"
   ]
  },
  {
   "cell_type": "code",
   "execution_count": 5,
   "metadata": {
    "collapsed": false,
    "nbpresent": {
     "id": "bf98ec02-a072-4f53-a896-3cd7631db8bd"
    }
   },
   "outputs": [
    {
     "data": {
      "text/html": [
       "\n",
       "        <iframe\n",
       "            width=\"100%\"\n",
       "            height=\"450\"\n",
       "            src=\"http://162.105.175.204:8000/runestone/static/thinkcspy/Workspace/index.html\"\n",
       "            frameborder=\"0\"\n",
       "            allowfullscreen\n",
       "        ></iframe>\n",
       "        "
      ],
      "text/plain": [
       "<IPython.lib.display.IFrame at 0x106a79dd8>"
      ]
     },
     "execution_count": 5,
     "metadata": {},
     "output_type": "execute_result"
    }
   ],
   "source": [
    "from IPython.display import IFrame\n",
    "IFrame('http://162.105.175.204:8000/runestone/static/thinkcspy/Workspace/index.html', width='100%', height=450)"
   ]
  },
  {
   "cell_type": "markdown",
   "metadata": {
    "nbpresent": {
     "id": "6971df8c-dbfb-46d0-a18d-16173821ed00"
    }
   },
   "source": [
    "```python\n",
    "import turtle\n",
    "\n",
    "tess = turtle.Turtle()\n",
    "tess.forward(80) \n",
    "tess.left(90)\n",
    "tess.forward(80)\n",
    "tess.left(90)\n",
    "tess.forward(80)\n",
    "tess.left(90)  \n",
    "tess.forward(80) \n",
    "```"
   ]
  },
  {
   "cell_type": "markdown",
   "metadata": {
    "nbpresent": {
     "id": "d999290a-8bb6-4416-a92a-d106c3096497"
    }
   },
   "source": [
    "## `for` statement"
   ]
  },
  {
   "cell_type": "code",
   "execution_count": null,
   "metadata": {
    "collapsed": false,
    "nbpresent": {
     "id": "56f17bb0-67a8-41c7-969d-552d9c1a3624"
    }
   },
   "outputs": [],
   "source": [
    "for name in [\"Joe\", \"Amy\", \"Brad\", \"Angelina\"]:\n",
    "    print(\"Hi\", name)  # Note the indent"
   ]
  },
  {
   "cell_type": "markdown",
   "metadata": {
    "nbpresent": {
     "id": "b31b43d0-ed2b-4594-9c93-9512e635d4cd"
    }
   },
   "source": [
    "## Execution flow of `for` Loop\n",
    "\n",
    "<img src=\"http://sei.pku.edu.cn/~caodg/course/ic/notebooks/images/for.svg\" width=350>"
   ]
  },
  {
   "cell_type": "markdown",
   "metadata": {
    "nbpresent": {
     "id": "e593445f-b46f-4d3c-abfb-d8ad2207b3f7"
    }
   },
   "source": [
    "## Iteration Helps\n",
    "\n",
    "```python\n",
    "import turtle\n",
    "alex = turtle.Turtle()\n",
    "\n",
    "for i in [0, 1, 2, 3]:  # repeat four times\n",
    "    alex.forward(80)    # indent\n",
    "    alex.left(90)       # indent\n",
    "```"
   ]
  },
  {
   "cell_type": "markdown",
   "metadata": {
    "nbpresent": {
     "id": "a7c62558-bfeb-4382-8160-accd1bdab39d"
    }
   },
   "source": [
    "## Another version"
   ]
  },
  {
   "cell_type": "markdown",
   "metadata": {
    "nbpresent": {
     "id": "0028a770-43f0-48c5-8c5e-4552be626674"
    }
   },
   "source": [
    "```python\n",
    "import turtle\n",
    "alex = turtle.Turtle()\n",
    "\n",
    "for i in [\"yellow\", \"red\", \"purple\", \"blue\"]: \n",
    "    alex.forward(80)\n",
    "    alex.left(90)\n",
    "```"
   ]
  },
  {
   "cell_type": "markdown",
   "metadata": {
    "nbpresent": {
     "id": "b0065a22-498a-4369-9907-0a4470158ca8"
    }
   },
   "source": [
    "** Change line color **\n",
    "\n",
    "```python\n",
    "import turtle\n",
    "alex = turtle.Turtle()\n",
    "\n",
    "for aColor in [\"yellow\", \"red\", \"purple\", \"blue\"]:\n",
    "   alex.color(aColor)\n",
    "   alex.forward(80)\n",
    "   alex.left(90)\n",
    "```"
   ]
  },
  {
   "cell_type": "markdown",
   "metadata": {},
   "source": [
    "## List\n",
    "\n",
    "```python\n",
    "alist = [\"yellow\", \"red\", \"purple\", \"blue\"]\n",
    "\n",
    "a_len = len(alist)\n",
    "\n",
    "item1 = alist[0]\n",
    "aitem3 = alist[3]\n",
    "```"
   ]
  },
  {
   "cell_type": "code",
   "execution_count": null,
   "metadata": {
    "collapsed": false,
    "nbpresent": {
     "id": "800e9362-048e-4b27-802c-e2c4fda0b307"
    },
    "scrolled": true
   },
   "outputs": [],
   "source": [
    "from IPython.display import IFrame\n",
    "IFrame('http://http://162.105.175.204:8000/runestone/static/thinkcspy/Workspace/index.html', width='100%', height=350)"
   ]
  },
  {
   "cell_type": "markdown",
   "metadata": {
    "collapsed": true,
    "nbpresent": {
     "id": "e55f5aea-dd3f-4a83-bdea-4a64a755aec8"
    }
   },
   "source": [
    "** Exercise **\n",
    "\n",
    "![TurtleTriangle](http://sei.pku.edu.cn/~caodg/course/ic/notebooks/images/TurtleTriangle.png)"
   ]
  },
  {
   "cell_type": "code",
   "execution_count": null,
   "metadata": {
    "collapsed": false,
    "nbpresent": {
     "id": "468951c5-5730-458f-a57c-35067bf136fd"
    }
   },
   "outputs": [],
   "source": [
    "from IPython.display import IFrame\n",
    "IFrame('https://162.105.175.204:8000/runestone/static/thinkcspy/Workspace/index.html', width='100%', height=350)"
   ]
  },
  {
   "cell_type": "markdown",
   "metadata": {
    "nbpresent": {
     "id": "1b1ba4db-5d54-4864-881a-20a3fde6f675"
    }
   },
   "source": [
    "** Exercise **\n",
    "\n",
    "```\n",
    "1. In the following code, how many lines does this code print?\n",
    "```\n",
    "```python\n",
    "for number in [5, 4, 3, 2, 1, 0]:\n",
    "    print(\"I have\", number, \"cookies.  I'm going to eat one.\")\n",
    "```"
   ]
  },
  {
   "cell_type": "markdown",
   "metadata": {
    "nbpresent": {
     "id": "cd9d5419-c9ea-4cee-bdc6-84a199db6392"
    }
   },
   "source": [
    "```\n",
    "2. How does python know what lines are contained in the loop body?\n",
    "\n",
    "(A) They are indented to the same degree from the loop header.\n",
    "(B) There is always exactly one line in the loop body.\n",
    "(C) The loop body ends with a semi-colon (;) which is not shown in the code above.\n",
    "```"
   ]
  },
  {
   "cell_type": "markdown",
   "metadata": {
    "nbpresent": {
     "id": "cd2cbbc5-774c-43d1-9354-1e4ca21bb1c6"
    }
   },
   "source": [
    "```\n",
    "3. In the following code, what is the value of number the second time Python executes the loop?\n",
    "```\n",
    "```python\n",
    "for number in [5, 4, 3, 2, 1, 0]:\n",
    "    print(\"I have\", number, \"cookies.  I'm going to eat one.\")\n",
    "```"
   ]
  },
  {
   "cell_type": "markdown",
   "metadata": {
    "nbpresent": {
     "id": "1409a4d2-b59b-4608-b516-6607ea242860"
    }
   },
   "source": [
    "```\n",
    "4. Consider the following code:```\n",
    "\n",
    "```python\n",
    "for aColor in [\"yellow\", \"red\", \"green\", \"blue\"]:\n",
    "   alex.forward(50)\n",
    "   alex.left(90)\n",
    "```\n",
    "```\n",
    "What does each iteration through the loop do?\n",
    "(A) Draw a square using the same color for each side.\n",
    "(B) Draw a square using a different color for each side.\n",
    "(C) Draw one side of a square.\n",
    "```"
   ]
  },
  {
   "cell_type": "markdown",
   "metadata": {
    "nbpresent": {
     "id": "7312ab9c-7fbd-40aa-998e-b2a37584ee9f"
    }
   },
   "source": [
    "## The `range` Function"
   ]
  },
  {
   "cell_type": "markdown",
   "metadata": {
    "nbpresent": {
     "id": "e6584a3a-9280-48ed-a4cb-55d0a4f4dfaa"
    }
   },
   "source": [
    "```python\n",
    "for i in [0,1,2,3]:\n",
    "    # # Executes the body with i = 0, then 1, then 2, then 3\n",
    "    \n",
    "for i in range(4):\n",
    "    # Executes the body with i = 0, then 1, then 2, then 3\n",
    "```"
   ]
  },
  {
   "cell_type": "markdown",
   "metadata": {
    "nbpresent": {
     "id": "bc65b319-8508-442c-907a-6cc79d0b56a4"
    }
   },
   "source": [
    "<div class=\"alert alert-info\">\n",
    "Computer scientists like to count from 0!\n",
    "</div>"
   ]
  },
  {
   "cell_type": "code",
   "execution_count": null,
   "metadata": {
    "collapsed": false,
    "nbpresent": {
     "id": "00ad166f-2721-4a4d-baa1-d8a682055d12"
    },
    "scrolled": true
   },
   "outputs": [],
   "source": [
    "for x in range(4):\n",
    "    print(x)"
   ]
  },
  {
   "cell_type": "markdown",
   "metadata": {
    "nbpresent": {
     "id": "f54f7f75-a6fe-41ae-b2b5-ec4f2c699d0a"
    }
   },
   "source": [
    "```python\n",
    "import turtle\n",
    "alex = turtle.Turtle()\n",
    "\n",
    "for i in range(4): \n",
    "    alex.forward(80)\n",
    "    alex.left(90)\n",
    "```"
   ]
  },
  {
   "cell_type": "code",
   "execution_count": null,
   "metadata": {
    "collapsed": false,
    "nbpresent": {
     "id": "9f05b8bf-1119-48a6-ab50-7e5228eb6c87"
    }
   },
   "outputs": [],
   "source": [
    "type(range(1))\n",
    "print(range(1))\n",
    "print(list(range(1)))\n",
    "\n",
    "# in python2.7, range(1) is a list"
   ]
  },
  {
   "cell_type": "markdown",
   "metadata": {
    "nbpresent": {
     "id": "75e8d26b-6914-4de3-929b-37c6ed5bddd9"
    }
   },
   "source": [
    "** help(range) **\n",
    "\n",
    "```\n",
    "range(stop) -> range object\n",
    "range(start, stop[, step]) -> range object\n",
    "\n",
    "Return an object that produces a sequence of integers \n",
    "from start (inclusive) to stop (exclusive) by step.\n",
    "```"
   ]
  },
  {
   "cell_type": "markdown",
   "metadata": {
    "nbpresent": {
     "id": "a3b70c78-3745-4a2e-8ea5-16c66714ef5e"
    }
   },
   "source": [
    "**  range(start, stop, step) **"
   ]
  },
  {
   "cell_type": "code",
   "execution_count": null,
   "metadata": {
    "collapsed": false,
    "nbpresent": {
     "id": "315d6d10-ead3-4594-9b56-698cc015904f"
    }
   },
   "outputs": [],
   "source": [
    "print(list(range(4)))\n",
    "print(list(range(1, 5)))\n",
    "print(list(range(0, 19, 2)))\n",
    "print(list(range(0, 20, 2)))\n",
    "print(list(range(10, 0, -1)))"
   ]
  },
  {
   "cell_type": "markdown",
   "metadata": {
    "nbpresent": {
     "id": "57fc18f4-55f6-4b54-9bf9-812b925ab82c"
    }
   },
   "source": [
    "** Exercise **\n",
    "\n",
    "```\n",
    "1. In the command range(3, 10, 2), what does the second argument (10) specify?\n",
    "(A) Range should generate a list that stops at 9 (including 9).\n",
    "(B) Range should generate a list that starts at 10 (including 10).\n",
    "(C) Range should generate a list starting at 3 that stops at 10 (including 10).\n",
    "(D) Range should generate a list using every 10th number between the start and the stopping number.\n",
    "```"
   ]
  },
  {
   "cell_type": "markdown",
   "metadata": {
    "nbpresent": {
     "id": "c5561755-c3cc-4869-b992-3d341900b135"
    }
   },
   "source": [
    "```\n",
    "2. What command correctly generates the list [2, 5, 8]?\n",
    "(A) range(2, 5, 8)\n",
    "(B) range(2, 8, 3)\n",
    "(C) range(2, 10, 3)\n",
    "(D) range(8, 1, -3)\n",
    "```"
   ]
  },
  {
   "cell_type": "markdown",
   "metadata": {
    "nbpresent": {
     "id": "1f8aca69-0975-4fac-866b-c8b2acbc2044"
    }
   },
   "source": [
    "## More turtle Methods"
   ]
  },
  {
   "cell_type": "markdown",
   "metadata": {
    "nbpresent": {
     "id": "4be0286d-e564-4b74-8906-a5ce11635ed6"
    }
   },
   "source": [
    "** A turtle’s pen can be picked up or put down **\n",
    "\n",
    "```python\n",
    "alex.up()\n",
    "alex.forward(100)     # this moves alex, but no line is drawn\n",
    "alex.down()\n",
    "```"
   ]
  },
  {
   "cell_type": "markdown",
   "metadata": {
    "nbpresent": {
     "id": "4a3963af-8857-458b-ae66-995e9077a824"
    }
   },
   "source": [
    "** Every turtle can have its own shape ** \n",
    "\n",
    "Shapes: `arrow, blank, circle, classic, square, triangle, turtle`\n",
    "\n",
    "```python\n",
    "alex.shape(\"turtle\")\n",
    "```"
   ]
  },
  {
   "cell_type": "markdown",
   "metadata": {
    "nbpresent": {
     "id": "47a1d1c5-0e23-46a6-928c-53557ddde83c"
    }
   },
   "source": [
    "** Speed up or slow down **\n",
    "\n",
    "```python\n",
    "alex.speed(10)\n",
    "```"
   ]
  },
  {
   "cell_type": "markdown",
   "metadata": {
    "nbpresent": {
     "id": "0ed1902f-e262-4811-a041-57ed637a4c33"
    }
   },
   "source": [
    "** Stamp **\n",
    "\n",
    "A turtle can “stamp” its footprint onto the canvas, and this will remain after the turtle has moved somewhere else.\n",
    "\n",
    "Stamping works even when the pen is up."
   ]
  },
  {
   "cell_type": "markdown",
   "metadata": {
    "nbpresent": {
     "id": "adc5b83e-c503-4f21-8916-45e954c7ca98"
    }
   },
   "source": [
    "```python3\n",
    "import turtle\n",
    "wn = turtle.Screen()\n",
    "wn.bgcolor(\"lightgreen\")\n",
    "tess = turtle.Turtle()\n",
    "tess.color(\"blue\")\n",
    "tess.shape(\"turtle\")\n",
    "\n",
    "tess.up()                     \n",
    "for size in range(5, 60, 2):  \n",
    "    tess.stamp()              \n",
    "    tess.forward(size)        \n",
    "    tess.right(24) \n",
    "\n",
    "wn.exitonclick()\n",
    "```"
   ]
  },
  {
   "cell_type": "markdown",
   "metadata": {
    "nbpresent": {
     "id": "438090e4-9984-4b57-9690-578baf96289d"
    }
   },
   "source": [
    "** Exercise 1**\n",
    "\n",
    "Write a program to draw something like this:\n",
    "\n",
    "![TurtleCircle](http://sei.pku.edu.cn/~caodg/course/ic/notebooks/images/TurtleCircle.png)"
   ]
  },
  {
   "cell_type": "markdown",
   "metadata": {
    "collapsed": true,
    "nbpresent": {
     "id": "f23a05a4-1e1a-46c8-a123-11cf81244734"
    }
   },
   "source": [
    "** Exercise 2 **\n",
    "\n",
    "Use `for` loops to make a turtle draw a regular octagon (eight sides)\n",
    "\n",
    "For a regular convex n-gon, each interior angle has a measure of: \n",
    "\n",
    "$ (n-2) \\times \\frac{180^\\circ}{n}$"
   ]
  },
  {
   "cell_type": "markdown",
   "metadata": {
    "nbpresent": {
     "id": "33cef4ca-2cf5-4b91-b9e8-35d06a952d25"
    }
   },
   "source": [
    "** Exercise 3 **\n",
    "\n",
    "Run the following code, observe output:\n",
    "\n",
    "```python\n",
    "import turtle\n",
    "t=turtle.Turtle()\n",
    "for x in range(1,100,2):\n",
    "    t.forward(x)\n",
    "    t.left(90)\n",
    "```"
   ]
  },
  {
   "cell_type": "markdown",
   "metadata": {
    "nbpresent": {
     "id": "7a897701-aa63-49f0-b2f7-f4614f319a7b"
    }
   },
   "source": [
    "** Exercise 4 **\n",
    "\n",
    "Run the following code, observe output:\n",
    "\n",
    "```python\n",
    "import turtle\n",
    "t=turtle.Turtle()\n",
    "for x in range(1,100,2):\n",
    "    t.forward(x)\n",
    "    t.left(91)\n",
    "```"
   ]
  },
  {
   "cell_type": "code",
   "execution_count": null,
   "metadata": {
    "collapsed": true,
    "nbpresent": {
     "id": "68fa8374-98fa-490b-85cf-ff16af93ad4b"
    }
   },
   "outputs": [],
   "source": []
  }
 ],
 "metadata": {
  "anaconda-cloud": {},
  "kernelspec": {
   "display_name": "Python [default]",
   "language": "python",
   "name": "python3"
  },
  "language_info": {
   "codemirror_mode": {
    "name": "ipython",
    "version": 3
   },
   "file_extension": ".py",
   "mimetype": "text/x-python",
   "name": "python",
   "nbconvert_exporter": "python",
   "pygments_lexer": "ipython3",
   "version": "3.5.2"
  },
  "nbpresent": {
   "slides": {
    "01b20f73-5bf8-4d03-85e2-0dba815228a8": {
     "id": "01b20f73-5bf8-4d03-85e2-0dba815228a8",
     "prev": "ccf7f878-66ca-4868-8b65-004331d07c00",
     "regions": {
      "e57f38bf-5db6-4d24-a9b3-7651d4011469": {
       "attrs": {
        "height": 0.8,
        "width": 0.8,
        "x": 0.1,
        "y": 0.1
       },
       "content": {
        "cell": "1f8aca69-0975-4fac-866b-c8b2acbc2044",
        "part": "whole"
       },
       "id": "e57f38bf-5db6-4d24-a9b3-7651d4011469"
      }
     }
    },
    "04d59188-379c-4830-8102-2f87b22313cd": {
     "id": "04d59188-379c-4830-8102-2f87b22313cd",
     "prev": "45acf310-21e0-40bf-842d-cd379970f652",
     "regions": {
      "bfb8b416-702e-4884-bdf8-f2d05c0c8dc8": {
       "attrs": {
        "height": 0.8,
        "width": 0.8,
        "x": 0.1,
        "y": 0.1
       },
       "content": {
        "cell": "b31b43d0-ed2b-4594-9c93-9512e635d4cd",
        "part": "whole"
       },
       "id": "bfb8b416-702e-4884-bdf8-f2d05c0c8dc8"
      }
     }
    },
    "06268676-73e4-4a29-af0b-2f345263f15b": {
     "id": "06268676-73e4-4a29-af0b-2f345263f15b",
     "prev": "e93c3e46-82cf-43ad-9612-38456de5b1b3",
     "regions": {
      "57ce5bd9-c75f-4621-b3c8-7ecf151df66e": {
       "attrs": {
        "height": 0.8,
        "width": 0.8,
        "x": 0.1,
        "y": 0.1
       },
       "content": {
        "cell": "6971df8c-dbfb-46d0-a18d-16173821ed00",
        "part": "whole"
       },
       "id": "57ce5bd9-c75f-4621-b3c8-7ecf151df66e"
      }
     }
    },
    "09d95bc4-bedf-429a-b918-7c203bdc0cc0": {
     "id": "09d95bc4-bedf-429a-b918-7c203bdc0cc0",
     "prev": "72ab8699-1c5a-45c2-aa03-cf4610449867",
     "regions": {
      "eb0e9cff-9e0d-4d71-867c-ab23b26939af": {
       "attrs": {
        "height": 0.8,
        "width": 0.8,
        "x": 0.1,
        "y": 0.1
       },
       "content": {
        "cell": "bc65b319-8508-442c-907a-6cc79d0b56a4",
        "part": "whole"
       },
       "id": "eb0e9cff-9e0d-4d71-867c-ab23b26939af"
      }
     }
    },
    "1741bff4-54e5-442d-9c13-51f768fe015f": {
     "id": "1741bff4-54e5-442d-9c13-51f768fe015f",
     "prev": "3fbab1e5-7af7-4493-97c7-0b426053e510",
     "regions": {
      "8de086b2-17e2-45e7-b408-688e6ca52e9f": {
       "attrs": {
        "height": 0.8,
        "width": 0.8,
        "x": 0.1,
        "y": 0.1
       },
       "content": {
        "cell": "33cef4ca-2cf5-4b91-b9e8-35d06a952d25",
        "part": "whole"
       },
       "id": "8de086b2-17e2-45e7-b408-688e6ca52e9f"
      }
     }
    },
    "1efa9cae-db03-44e5-b69e-1f694fc3a9f6": {
     "id": "1efa9cae-db03-44e5-b69e-1f694fc3a9f6",
     "prev": "ad6de5bb-36c6-47fe-9c34-35246045dadc",
     "regions": {
      "acc6e6e3-6d5c-4e97-8d9b-1a7a080dfa05": {
       "attrs": {
        "height": 0.8,
        "width": 0.8,
        "x": 0.1,
        "y": 0.1
       },
       "content": {
        "cell": "468951c5-5730-458f-a57c-35067bf136fd",
        "part": "whole"
       },
       "id": "acc6e6e3-6d5c-4e97-8d9b-1a7a080dfa05"
      }
     }
    },
    "1f056dcb-79cf-4fa6-9f59-b352621d788a": {
     "id": "1f056dcb-79cf-4fa6-9f59-b352621d788a",
     "prev": "6b71b2d5-426a-4dfd-b981-5fa4760ad66b",
     "regions": {
      "5f419258-7f6f-42da-9847-fe46c35ff99d": {
       "attrs": {
        "height": 0.8,
        "width": 0.8,
        "x": 0.1,
        "y": 0.1
       },
       "content": {
        "cell": "4a3963af-8857-458b-ae66-995e9077a824",
        "part": "whole"
       },
       "id": "5f419258-7f6f-42da-9847-fe46c35ff99d"
      }
     }
    },
    "1f959394-2828-4f4c-8f23-dbf1321202bd": {
     "id": "1f959394-2828-4f4c-8f23-dbf1321202bd",
     "prev": "3d6bfd5e-8b64-4587-a4ab-c4176054e6dd",
     "regions": {
      "c353f377-1173-4b1b-a7a0-4b7099061695": {
       "attrs": {
        "height": 0.8,
        "width": 0.8,
        "x": 0.1,
        "y": 0.1
       },
       "content": {
        "cell": "315d6d10-ead3-4594-9b56-698cc015904f",
        "part": "whole"
       },
       "id": "c353f377-1173-4b1b-a7a0-4b7099061695"
      }
     }
    },
    "1f9ee3b3-7515-4799-8de1-fec4bdb19035": {
     "id": "1f9ee3b3-7515-4799-8de1-fec4bdb19035",
     "prev": "d8a628e4-be22-43f6-831e-05f9ef8a5457",
     "regions": {
      "75af5ed5-8245-4575-ae16-0d2b15bb5c69": {
       "attrs": {
        "height": 0.8,
        "width": 0.8,
        "x": 0.1,
        "y": 0.1
       },
       "content": {
        "cell": "b0065a22-498a-4369-9907-0a4470158ca8",
        "part": "whole"
       },
       "id": "75af5ed5-8245-4575-ae16-0d2b15bb5c69"
      }
     }
    },
    "22beff3f-a1ca-4cde-bd49-53900c889c29": {
     "id": "22beff3f-a1ca-4cde-bd49-53900c889c29",
     "prev": "909ed001-1a48-420f-8a19-e3651282adb3",
     "regions": {
      "0a238788-e57d-42fd-8883-7d1aab5cb89f": {
       "attrs": {
        "height": 0.8,
        "width": 0.9067864271457086,
        "x": 0.04610778443113773,
        "y": 0.1
       },
       "content": {
        "cell": "fb392846-a458-4da8-8aac-214c16344b0f",
        "part": "whole"
       },
       "id": "0a238788-e57d-42fd-8883-7d1aab5cb89f"
      }
     }
    },
    "265308b5-008d-4d27-96b1-ed6f0a1d0464": {
     "id": "265308b5-008d-4d27-96b1-ed6f0a1d0464",
     "prev": "d680b680-8be5-4e19-93a8-165433940d9f",
     "regions": {
      "3771d0bd-0fe3-4426-b92c-69334b7939b9": {
       "attrs": {
        "height": 0.8,
        "width": 0.8,
        "x": 0.1,
        "y": 0.1
       },
       "content": {
        "cell": "7312ab9c-7fbd-40aa-998e-b2a37584ee9f",
        "part": "whole"
       },
       "id": "3771d0bd-0fe3-4426-b92c-69334b7939b9"
      }
     }
    },
    "33b2c463-39b9-4f8a-910f-ee2560da8338": {
     "id": "33b2c463-39b9-4f8a-910f-ee2560da8338",
     "prev": "5f7a47d2-f4bf-40dd-b96c-83e715d4a415",
     "regions": {
      "3398337f-0238-4710-b6d3-1790acbea139": {
       "attrs": {
        "height": 0.8,
        "width": 0.8,
        "x": 0.1,
        "y": 0.1
       },
       "content": {
        "cell": "a7c62558-bfeb-4382-8160-accd1bdab39d",
        "part": "whole"
       },
       "id": "3398337f-0238-4710-b6d3-1790acbea139"
      }
     }
    },
    "3c50978a-4ff9-4c85-bb22-b05e9037b64f": {
     "id": "3c50978a-4ff9-4c85-bb22-b05e9037b64f",
     "prev": "edf0f28c-2812-4f3c-b5d4-c04edd903ce1",
     "regions": {
      "38157f3c-699e-4a0a-b28f-739e0cf15585": {
       "attrs": {
        "height": 0.8,
        "width": 0.8,
        "x": 0.1,
        "y": 0.1
       },
       "content": {
        "cell": "75e8d26b-6914-4de3-929b-37c6ed5bddd9",
        "part": "whole"
       },
       "id": "38157f3c-699e-4a0a-b28f-739e0cf15585"
      }
     }
    },
    "3d6bfd5e-8b64-4587-a4ab-c4176054e6dd": {
     "id": "3d6bfd5e-8b64-4587-a4ab-c4176054e6dd",
     "prev": "3c50978a-4ff9-4c85-bb22-b05e9037b64f",
     "regions": {
      "8983328f-382b-4f99-885c-228f785a132c": {
       "attrs": {
        "height": 0.8,
        "width": 0.8,
        "x": 0.1,
        "y": 0.1
       },
       "content": {
        "cell": "a3b70c78-3745-4a2e-8ea5-16c66714ef5e",
        "part": "whole"
       },
       "id": "8983328f-382b-4f99-885c-228f785a132c"
      }
     }
    },
    "3f647a20-4536-4ec2-8a82-0e3cea219a04": {
     "id": "3f647a20-4536-4ec2-8a82-0e3cea219a04",
     "prev": "7a57199a-efe1-423f-9194-790032f95a83",
     "regions": {
      "533429fe-9b9c-4b81-af93-743aef2f9804": {
       "attrs": {
        "height": 0.8,
        "width": 0.8,
        "x": 0.1,
        "y": 0.1
       },
       "content": {
        "cell": "41acc748-8f0d-40f2-97e8-9413038c1be2",
        "part": "whole"
       },
       "id": "533429fe-9b9c-4b81-af93-743aef2f9804"
      }
     }
    },
    "3fbab1e5-7af7-4493-97c7-0b426053e510": {
     "id": "3fbab1e5-7af7-4493-97c7-0b426053e510",
     "prev": "4c771610-b6f0-4735-8b39-91a829a4d781",
     "regions": {
      "a94cbbe8-657a-4597-aa29-1f7c97ab54ba": {
       "attrs": {
        "height": 0.8,
        "width": 0.8,
        "x": 0.1,
        "y": 0.1
       },
       "content": {
        "cell": "f23a05a4-1e1a-46c8-a123-11cf81244734",
        "part": "whole"
       },
       "id": "a94cbbe8-657a-4597-aa29-1f7c97ab54ba"
      }
     }
    },
    "45acf310-21e0-40bf-842d-cd379970f652": {
     "id": "45acf310-21e0-40bf-842d-cd379970f652",
     "prev": "06268676-73e4-4a29-af0b-2f345263f15b",
     "regions": {
      "23ace377-403f-48f8-b97c-929455bc98ea": {
       "attrs": {
        "height": 0.180793967620315,
        "width": 0.8,
        "x": 0.1,
        "y": 0.1
       },
       "content": {
        "cell": "d999290a-8bb6-4416-a92a-d106c3096497",
        "part": "whole"
       },
       "id": "23ace377-403f-48f8-b97c-929455bc98ea"
      },
      "7142ded4-4bd6-4c06-9237-1a513eabf818": {
       "attrs": {
        "height": 0.5906409403415392,
        "width": 0.8,
        "x": 0.1,
        "y": 0.3093590596584609
       },
       "content": {
        "cell": "56f17bb0-67a8-41c7-969d-552d9c1a3624",
        "part": "whole"
       },
       "id": "7142ded4-4bd6-4c06-9237-1a513eabf818"
      }
     }
    },
    "495a08b0-bfce-4c25-999b-680f971b6550": {
     "id": "495a08b0-bfce-4c25-999b-680f971b6550",
     "prev": "fd4c8969-3b9a-4dc2-82f1-2aca1358b637",
     "regions": {
      "83135e15-5acd-4e25-81cf-c17d1ab93bc3": {
       "attrs": {
        "height": 0.8,
        "width": 0.8,
        "x": 0.1,
        "y": 0.1
       },
       "content": {
        "cell": "dd789ca8-d018-48f7-b430-a2ace5b276b5",
        "part": "whole"
       },
       "id": "83135e15-5acd-4e25-81cf-c17d1ab93bc3"
      }
     }
    },
    "4ad419ca-fcd0-4368-8765-e6d2fa56ce55": {
     "id": "4ad419ca-fcd0-4368-8765-e6d2fa56ce55",
     "prev": "6e147a63-bd0c-4e95-948c-89dfcaf791ea",
     "regions": {
      "0d9f7891-b0c7-463f-8fd4-311959fa7f1e": {
       "attrs": {
        "height": 0.8,
        "width": 0.8,
        "x": 0.1,
        "y": 0.1
       },
       "content": {
        "cell": "adc5b83e-c503-4f21-8916-45e954c7ca98",
        "part": "whole"
       },
       "id": "0d9f7891-b0c7-463f-8fd4-311959fa7f1e"
      }
     }
    },
    "4c771610-b6f0-4735-8b39-91a829a4d781": {
     "id": "4c771610-b6f0-4735-8b39-91a829a4d781",
     "prev": "4ad419ca-fcd0-4368-8765-e6d2fa56ce55",
     "regions": {
      "3feaaba2-c46f-427b-b63b-0d582fd93136": {
       "attrs": {
        "height": 0.8,
        "width": 0.8,
        "x": 0.1,
        "y": 0.1
       },
       "content": {
        "cell": "438090e4-9984-4b57-9690-578baf96289d",
        "part": "whole"
       },
       "id": "3feaaba2-c46f-427b-b63b-0d582fd93136"
      }
     }
    },
    "521519e5-e26b-4d7b-90bd-fb85f723446b": {
     "id": "521519e5-e26b-4d7b-90bd-fb85f723446b",
     "prev": "09d95bc4-bedf-429a-b918-7c203bdc0cc0",
     "regions": {
      "1bc09f52-bc7d-4c91-872d-8dfaa7a55e35": {
       "attrs": {
        "height": 0.8,
        "width": 0.8,
        "x": 0.1,
        "y": 0.1
       },
       "content": {
        "cell": "00ad166f-2721-4a4d-baa1-d8a682055d12",
        "part": "whole"
       },
       "id": "1bc09f52-bc7d-4c91-872d-8dfaa7a55e35"
      }
     }
    },
    "55c88d2a-a5f0-4cf1-aca1-5334ffe5cfff": {
     "id": "55c88d2a-a5f0-4cf1-aca1-5334ffe5cfff",
     "prev": "1efa9cae-db03-44e5-b69e-1f694fc3a9f6",
     "regions": {
      "c45054a7-42fc-40cb-8601-52d46a303293": {
       "attrs": {
        "height": 0.8,
        "width": 0.8,
        "x": 0.1,
        "y": 0.1
       },
       "content": {
        "cell": "1b1ba4db-5d54-4864-881a-20a3fde6f675",
        "part": "whole"
       },
       "id": "c45054a7-42fc-40cb-8601-52d46a303293"
      }
     }
    },
    "5d9c2bb2-624c-4f94-a6af-2086adfd75c1": {
     "id": "5d9c2bb2-624c-4f94-a6af-2086adfd75c1",
     "prev": "eedc3fe2-a23c-4758-b124-35e1f961054f",
     "regions": {
      "f486e443-8386-4ba0-b925-190de7b48773": {
       "attrs": {
        "height": 0.8,
        "width": 0.8,
        "x": 0.1,
        "y": 0.1
       },
       "content": {
        "cell": "800e9362-048e-4b27-802c-e2c4fda0b307",
        "part": "whole"
       },
       "id": "f486e443-8386-4ba0-b925-190de7b48773"
      }
     }
    },
    "5f7a47d2-f4bf-40dd-b96c-83e715d4a415": {
     "id": "5f7a47d2-f4bf-40dd-b96c-83e715d4a415",
     "prev": "04d59188-379c-4830-8102-2f87b22313cd",
     "regions": {
      "10390660-bb43-432a-b1cf-379dcedcefcb": {
       "attrs": {
        "height": 0.8,
        "width": 0.8,
        "x": 0.1,
        "y": 0.1
       },
       "content": {
        "cell": "e593445f-b46f-4d3c-abfb-d8ad2207b3f7",
        "part": "whole"
       },
       "id": "10390660-bb43-432a-b1cf-379dcedcefcb"
      }
     }
    },
    "646d397a-d310-430f-ae94-dd4428d39f0e": {
     "id": "646d397a-d310-430f-ae94-dd4428d39f0e",
     "prev": "b5ab2726-9c69-4ba9-bcfb-16c3598098f4",
     "regions": {
      "9b6503a2-873a-4b0c-bae9-73aededa6074": {
       "attrs": {
        "height": 0.8,
        "width": 0.8,
        "x": 0.1,
        "y": 0.1
       },
       "content": {
        "cell": "cd2cbbc5-774c-43d1-9354-1e4ca21bb1c6",
        "part": "whole"
       },
       "id": "9b6503a2-873a-4b0c-bae9-73aededa6074"
      }
     }
    },
    "6b71b2d5-426a-4dfd-b981-5fa4760ad66b": {
     "id": "6b71b2d5-426a-4dfd-b981-5fa4760ad66b",
     "prev": "01b20f73-5bf8-4d03-85e2-0dba815228a8",
     "regions": {
      "774a5698-9e84-4db1-b8d7-a7a4c241c945": {
       "attrs": {
        "height": 0.8,
        "width": 0.8,
        "x": 0.1,
        "y": 0.1
       },
       "content": {
        "cell": "4be0286d-e564-4b74-8906-a5ce11635ed6",
        "part": "whole"
       },
       "id": "774a5698-9e84-4db1-b8d7-a7a4c241c945"
      }
     }
    },
    "6d9b0dcd-9d91-4148-ba23-ec59d3a2342d": {
     "id": "6d9b0dcd-9d91-4148-ba23-ec59d3a2342d",
     "prev": "e6be9b0d-5feb-4794-bdbd-4072720ec862",
     "regions": {
      "af31bbb1-a492-49c1-a33f-902253016000": {
       "attrs": {
        "height": 0.8,
        "width": 0.8,
        "x": 0.1,
        "y": 0.1
       },
       "content": {
        "cell": "ef71dd40-d774-4aa0-bf4d-c7dc2d596136",
        "part": "whole"
       },
       "id": "af31bbb1-a492-49c1-a33f-902253016000"
      }
     }
    },
    "6e147a63-bd0c-4e95-948c-89dfcaf791ea": {
     "id": "6e147a63-bd0c-4e95-948c-89dfcaf791ea",
     "prev": "99859751-b906-41fc-801b-53a6ab56fb1f",
     "regions": {
      "a4872835-5fbc-48b0-b4d6-2674be1dd188": {
       "attrs": {
        "height": 0.8,
        "width": 0.8,
        "x": 0.1,
        "y": 0.1
       },
       "content": {
        "cell": "0ed1902f-e262-4811-a041-57ed637a4c33",
        "part": "whole"
       },
       "id": "a4872835-5fbc-48b0-b4d6-2674be1dd188"
      }
     }
    },
    "72ab8699-1c5a-45c2-aa03-cf4610449867": {
     "id": "72ab8699-1c5a-45c2-aa03-cf4610449867",
     "prev": "265308b5-008d-4d27-96b1-ed6f0a1d0464",
     "regions": {
      "a3af6b08-0225-42d8-8616-669b1002364d": {
       "attrs": {
        "height": 0.8,
        "width": 0.8,
        "x": 0.1,
        "y": 0.1
       },
       "content": {
        "cell": "e6584a3a-9280-48ed-a4cb-55d0a4f4dfaa",
        "part": "whole"
       },
       "id": "a3af6b08-0225-42d8-8616-669b1002364d"
      }
     }
    },
    "7a57199a-efe1-423f-9194-790032f95a83": {
     "id": "7a57199a-efe1-423f-9194-790032f95a83",
     "prev": "c8c59a8a-589c-4dbb-b111-1f3c2fbf437b",
     "regions": {
      "9bb0876a-47b3-4d30-a4f2-6dbacda28f37": {
       "attrs": {
        "height": 0.8,
        "width": 0.8,
        "x": 0.1,
        "y": 0.1
       },
       "content": {
        "cell": "d7a97da2-bb82-4d35-a37c-db3f3c537fa1",
        "part": "whole"
       },
       "id": "9bb0876a-47b3-4d30-a4f2-6dbacda28f37"
      }
     }
    },
    "804d60a1-e3c2-4507-b35a-bbd9cb43db2a": {
     "id": "804d60a1-e3c2-4507-b35a-bbd9cb43db2a",
     "prev": "8141111c-7254-4983-8112-fbb2deb85b7a",
     "regions": {
      "004336ba-c125-412f-abd2-5680dbcc4658": {
       "attrs": {
        "height": 0.8,
        "width": 0.8,
        "x": 0.1,
        "y": 0.1
       },
       "content": {
        "cell": "68fa8374-98fa-490b-85cf-ff16af93ad4b",
        "part": "whole"
       },
       "id": "004336ba-c125-412f-abd2-5680dbcc4658"
      }
     }
    },
    "8141111c-7254-4983-8112-fbb2deb85b7a": {
     "id": "8141111c-7254-4983-8112-fbb2deb85b7a",
     "prev": "1741bff4-54e5-442d-9c13-51f768fe015f",
     "regions": {
      "27578fe3-899b-4e3a-a83a-a54ff7b1bb0b": {
       "attrs": {
        "height": 0.8,
        "width": 0.8,
        "x": 0.1,
        "y": 0.1
       },
       "content": {
        "cell": "7a897701-aa63-49f0-b2f7-f4614f319a7b",
        "part": "whole"
       },
       "id": "27578fe3-899b-4e3a-a83a-a54ff7b1bb0b"
      }
     }
    },
    "909d6297-6243-4e47-a0b6-b557e4684603": {
     "id": "909d6297-6243-4e47-a0b6-b557e4684603",
     "prev": "a6404bf7-f4f3-4455-a145-1faf563d7bd7",
     "regions": {
      "4769b767-c0d3-469b-b04e-833216d315e0": {
       "attrs": {
        "height": 0.8,
        "width": 0.8,
        "x": 0.1,
        "y": 0.1
       },
       "content": {
        "cell": "e1723341-a9f9-4bdc-9299-179d249bd215",
        "part": "whole"
       },
       "id": "4769b767-c0d3-469b-b04e-833216d315e0"
      }
     }
    },
    "909ed001-1a48-420f-8a19-e3651282adb3": {
     "id": "909ed001-1a48-420f-8a19-e3651282adb3",
     "prev": null,
     "regions": {
      "e8005dec-119a-4869-aea3-76fe3ddf056b": {
       "attrs": {
        "height": 0.8,
        "width": 0.8,
        "x": 0.1,
        "y": 0.1
       },
       "content": {
        "cell": "be108a25-1101-48a9-b263-74bb9f0f6172",
        "part": "whole"
       },
       "id": "e8005dec-119a-4869-aea3-76fe3ddf056b"
      }
     },
     "theme": null
    },
    "994a6957-13bc-429e-a23d-76da993e8fb6": {
     "id": "994a6957-13bc-429e-a23d-76da993e8fb6",
     "prev": "6d9b0dcd-9d91-4148-ba23-ec59d3a2342d",
     "regions": {
      "9dde8a92-e7b9-4d83-9e63-a737631abda0": {
       "attrs": {
        "height": 0.8,
        "width": 0.8,
        "x": 0.1,
        "y": 0.1
       },
       "content": {
        "cell": "58280b85-48ff-4f9f-aa87-033007574dd9",
        "part": "whole"
       },
       "id": "9dde8a92-e7b9-4d83-9e63-a737631abda0"
      }
     }
    },
    "99859751-b906-41fc-801b-53a6ab56fb1f": {
     "id": "99859751-b906-41fc-801b-53a6ab56fb1f",
     "prev": "1f056dcb-79cf-4fa6-9f59-b352621d788a",
     "regions": {
      "e67c81b9-6b2e-4b9a-b7e6-4e159b73e19d": {
       "attrs": {
        "height": 0.8,
        "width": 0.8,
        "x": 0.1,
        "y": 0.1
       },
       "content": {
        "cell": "47a1d1c5-0e23-46a6-928c-53557ddde83c",
        "part": "whole"
       },
       "id": "e67c81b9-6b2e-4b9a-b7e6-4e159b73e19d"
      }
     }
    },
    "a6404bf7-f4f3-4455-a145-1faf563d7bd7": {
     "id": "a6404bf7-f4f3-4455-a145-1faf563d7bd7",
     "prev": "22beff3f-a1ca-4cde-bd49-53900c889c29",
     "regions": {
      "c1425349-f13c-4c50-9039-4ac2a8148c0c": {
       "attrs": {
        "height": 0.8,
        "width": 0.8,
        "x": 0.1,
        "y": 0.1
       },
       "content": {
        "cell": "c13e1178-4510-4863-ae02-feeb70d0c27f",
        "part": "whole"
       },
       "id": "c1425349-f13c-4c50-9039-4ac2a8148c0c"
      }
     }
    },
    "ad6de5bb-36c6-47fe-9c34-35246045dadc": {
     "id": "ad6de5bb-36c6-47fe-9c34-35246045dadc",
     "prev": "5d9c2bb2-624c-4f94-a6af-2086adfd75c1",
     "regions": {
      "5fbe4f5a-e901-441d-9d14-060c3df1d3d9": {
       "attrs": {
        "height": 0.8,
        "width": 0.8,
        "x": 0.1,
        "y": 0.1
       },
       "content": {
        "cell": "e55f5aea-dd3f-4a83-bdea-4a64a755aec8",
        "part": "whole"
       },
       "id": "5fbe4f5a-e901-441d-9d14-060c3df1d3d9"
      }
     }
    },
    "b5ab2726-9c69-4ba9-bcfb-16c3598098f4": {
     "id": "b5ab2726-9c69-4ba9-bcfb-16c3598098f4",
     "prev": "55c88d2a-a5f0-4cf1-aca1-5334ffe5cfff",
     "regions": {
      "42cbe826-2577-4793-a98e-3a36000868ae": {
       "attrs": {
        "height": 0.8,
        "width": 0.8,
        "x": 0.1,
        "y": 0.1
       },
       "content": {
        "cell": "cd9d5419-c9ea-4cee-bdc6-84a199db6392",
        "part": "whole"
       },
       "id": "42cbe826-2577-4793-a98e-3a36000868ae"
      }
     }
    },
    "c2c5eab5-7b84-46f1-af6b-245083f4681f": {
     "id": "c2c5eab5-7b84-46f1-af6b-245083f4681f",
     "prev": "1f959394-2828-4f4c-8f23-dbf1321202bd",
     "regions": {
      "049e939d-650e-4102-92ea-3d425a809f6c": {
       "attrs": {
        "height": 0.8,
        "width": 0.8,
        "x": 0.1,
        "y": 0.1
       },
       "content": {
        "cell": "57fc18f4-55f6-4b54-9bf9-812b925ab82c",
        "part": "whole"
       },
       "id": "049e939d-650e-4102-92ea-3d425a809f6c"
      }
     }
    },
    "c8242515-ad10-4782-90cc-0f3eb90f9bef": {
     "id": "c8242515-ad10-4782-90cc-0f3eb90f9bef",
     "prev": "909d6297-6243-4e47-a0b6-b557e4684603",
     "regions": {
      "5c0c7de3-7bde-43b1-8129-6c796b03d301": {
       "attrs": {
        "height": 0.8,
        "width": 0.8,
        "x": 0.1,
        "y": 0.1
       },
       "content": {
        "cell": "50ad67b6-5d1b-4bfe-a78d-29c454edaa39",
        "part": "whole"
       },
       "id": "5c0c7de3-7bde-43b1-8129-6c796b03d301"
      }
     }
    },
    "c8c59a8a-589c-4dbb-b111-1f3c2fbf437b": {
     "id": "c8c59a8a-589c-4dbb-b111-1f3c2fbf437b",
     "prev": "994a6957-13bc-429e-a23d-76da993e8fb6",
     "regions": {
      "ce205d46-fe76-48ce-9195-d0adf0f73a40": {
       "attrs": {
        "height": 0.8,
        "width": 0.8,
        "x": 0.1,
        "y": 0.1
       },
       "content": {
        "cell": "862b26c1-70bf-4ddf-8e71-0ff1c394ac0a",
        "part": "whole"
       },
       "id": "ce205d46-fe76-48ce-9195-d0adf0f73a40"
      }
     }
    },
    "ccf7f878-66ca-4868-8b65-004331d07c00": {
     "id": "ccf7f878-66ca-4868-8b65-004331d07c00",
     "prev": "c2c5eab5-7b84-46f1-af6b-245083f4681f",
     "regions": {
      "7691e9b3-2e1e-41d3-b6dd-dd8a118181b3": {
       "attrs": {
        "height": 0.8,
        "width": 0.8,
        "x": 0.1,
        "y": 0.1
       },
       "content": {
        "cell": "c5561755-c3cc-4869-b992-3d341900b135",
        "part": "whole"
       },
       "id": "7691e9b3-2e1e-41d3-b6dd-dd8a118181b3"
      }
     }
    },
    "d680b680-8be5-4e19-93a8-165433940d9f": {
     "id": "d680b680-8be5-4e19-93a8-165433940d9f",
     "prev": "646d397a-d310-430f-ae94-dd4428d39f0e",
     "regions": {
      "e77612be-a1e6-4b36-b9f8-6b8bbc5d25f0": {
       "attrs": {
        "height": 0.8,
        "width": 0.8,
        "x": 0.1,
        "y": 0.1
       },
       "content": {
        "cell": "1409a4d2-b59b-4608-b516-6607ea242860",
        "part": "whole"
       },
       "id": "e77612be-a1e6-4b36-b9f8-6b8bbc5d25f0"
      }
     }
    },
    "d8a628e4-be22-43f6-831e-05f9ef8a5457": {
     "id": "d8a628e4-be22-43f6-831e-05f9ef8a5457",
     "prev": "33b2c463-39b9-4f8a-910f-ee2560da8338",
     "regions": {
      "978226e4-63f5-4f25-9ec1-ad257d0a8d8c": {
       "attrs": {
        "height": 0.8,
        "width": 0.8,
        "x": 0.1,
        "y": 0.1
       },
       "content": {
        "cell": "0028a770-43f0-48c5-8c5e-4552be626674",
        "part": "whole"
       },
       "id": "978226e4-63f5-4f25-9ec1-ad257d0a8d8c"
      }
     }
    },
    "dc2c7768-d2a8-4918-9317-1314865dad94": {
     "id": "dc2c7768-d2a8-4918-9317-1314865dad94",
     "prev": "521519e5-e26b-4d7b-90bd-fb85f723446b",
     "regions": {
      "3b98e12c-7b00-43d9-b8dc-69ce46fa7f43": {
       "attrs": {
        "height": 0.8,
        "width": 0.8,
        "x": 0.1,
        "y": 0.1
       },
       "content": {
        "cell": "f54f7f75-a6fe-41ae-b2b5-ec4f2c699d0a",
        "part": "whole"
       },
       "id": "3b98e12c-7b00-43d9-b8dc-69ce46fa7f43"
      }
     }
    },
    "e6be9b0d-5feb-4794-bdbd-4072720ec862": {
     "id": "e6be9b0d-5feb-4794-bdbd-4072720ec862",
     "prev": "ea26244a-e376-47ef-b07b-ce3ac4a082fd",
     "regions": {
      "4586e6ca-a3cb-451e-ac71-5445cbed096c": {
       "attrs": {
        "height": 0.8,
        "width": 0.8,
        "x": 0.1,
        "y": 0.1
       },
       "content": {
        "cell": "88c57a01-fb7b-45a8-b17e-3ab7197e2195",
        "part": "whole"
       },
       "id": "4586e6ca-a3cb-451e-ac71-5445cbed096c"
      }
     }
    },
    "e93c3e46-82cf-43ad-9612-38456de5b1b3": {
     "id": "e93c3e46-82cf-43ad-9612-38456de5b1b3",
     "prev": "495a08b0-bfce-4c25-999b-680f971b6550",
     "regions": {
      "5278ad17-c23e-4f2f-aa53-5f958aadd266": {
       "attrs": {
        "height": 0.8,
        "width": 0.8,
        "x": 0.1,
        "y": 0.1
       },
       "content": {
        "cell": "bf98ec02-a072-4f53-a896-3cd7631db8bd",
        "part": "whole"
       },
       "id": "5278ad17-c23e-4f2f-aa53-5f958aadd266"
      }
     }
    },
    "ea26244a-e376-47ef-b07b-ce3ac4a082fd": {
     "id": "ea26244a-e376-47ef-b07b-ce3ac4a082fd",
     "prev": "c8242515-ad10-4782-90cc-0f3eb90f9bef",
     "regions": {
      "dadd479e-35a1-4c44-8958-f0a4f9d259e7": {
       "attrs": {
        "height": 0.8,
        "width": 0.8,
        "x": 0.1,
        "y": 0.1
       },
       "content": {
        "cell": "663a76d1-e888-4917-80cc-d22c6baf27bf",
        "part": "whole"
       },
       "id": "dadd479e-35a1-4c44-8958-f0a4f9d259e7"
      }
     }
    },
    "edf0f28c-2812-4f3c-b5d4-c04edd903ce1": {
     "id": "edf0f28c-2812-4f3c-b5d4-c04edd903ce1",
     "prev": "dc2c7768-d2a8-4918-9317-1314865dad94",
     "regions": {
      "26736540-8080-4320-a970-2a0d154bd417": {
       "attrs": {
        "height": 0.8,
        "width": 0.8,
        "x": 0.1,
        "y": 0.1
       },
       "content": {
        "cell": "9f05b8bf-1119-48a6-ab50-7e5228eb6c87",
        "part": "whole"
       },
       "id": "26736540-8080-4320-a970-2a0d154bd417"
      }
     }
    },
    "eedc3fe2-a23c-4758-b124-35e1f961054f": {
     "id": "eedc3fe2-a23c-4758-b124-35e1f961054f",
     "prev": "1f9ee3b3-7515-4799-8de1-fec4bdb19035",
     "regions": {
      "4ae61bd8-9de8-483f-bf7e-3048b3d24dec": {
       "attrs": {
        "height": 0.8,
        "width": 0.8,
        "x": 0.1,
        "y": 0.1
       },
       "content": null,
       "id": "4ae61bd8-9de8-483f-bf7e-3048b3d24dec"
      }
     }
    },
    "fd4c8969-3b9a-4dc2-82f1-2aca1358b637": {
     "id": "fd4c8969-3b9a-4dc2-82f1-2aca1358b637",
     "prev": "3f647a20-4536-4ec2-8a82-0e3cea219a04",
     "regions": {
      "500a6829-221f-4e93-93cb-9e77ae5ee687": {
       "attrs": {
        "height": 0.8,
        "width": 0.8,
        "x": 0.1,
        "y": 0.1
       },
       "content": {
        "cell": "ea6b5093-57c5-4136-8997-5c9618bebff7",
        "part": "whole"
       },
       "id": "500a6829-221f-4e93-93cb-9e77ae5ee687"
      }
     }
    }
   },
   "themes": {
    "default": "4c2a3eab-390c-4160-a23e-42e58c3ecc75",
    "theme": {
     "4c2a3eab-390c-4160-a23e-42e58c3ecc75": {
      "id": "4c2a3eab-390c-4160-a23e-42e58c3ecc75",
      "palette": {
       "19cc588f-0593-49c9-9f4b-e4d7cc113b1c": {
        "id": "19cc588f-0593-49c9-9f4b-e4d7cc113b1c",
        "rgb": [
         252,
         252,
         252
        ]
       },
       "31af15d2-7e15-44c5-ab5e-e04b16a89eff": {
        "id": "31af15d2-7e15-44c5-ab5e-e04b16a89eff",
        "rgb": [
         68,
         68,
         68
        ]
       },
       "50f92c45-a630-455b-aec3-788680ec7410": {
        "id": "50f92c45-a630-455b-aec3-788680ec7410",
        "rgb": [
         155,
         177,
         192
        ]
       },
       "c5cc3653-2ee1-402a-aba2-7caae1da4f6c": {
        "id": "c5cc3653-2ee1-402a-aba2-7caae1da4f6c",
        "rgb": [
         43,
         126,
         184
        ]
       },
       "efa7f048-9acb-414c-8b04-a26811511a21": {
        "id": "efa7f048-9acb-414c-8b04-a26811511a21",
        "rgb": [
         25.118061674008803,
         73.60176211453744,
         107.4819383259912
        ]
       }
      },
      "rules": {
       "blockquote": {
        "color": "50f92c45-a630-455b-aec3-788680ec7410"
       },
       "code": {
        "font-family": "Anonymous Pro"
       },
       "h1": {
        "color": "c5cc3653-2ee1-402a-aba2-7caae1da4f6c",
        "font-family": "Lato",
        "font-size": 8
       },
       "h2": {
        "color": "c5cc3653-2ee1-402a-aba2-7caae1da4f6c",
        "font-family": "Lato",
        "font-size": 6
       },
       "h3": {
        "color": "50f92c45-a630-455b-aec3-788680ec7410",
        "font-family": "Lato",
        "font-size": 5.5
       },
       "h4": {
        "color": "c5cc3653-2ee1-402a-aba2-7caae1da4f6c",
        "font-family": "Lato",
        "font-size": 5
       },
       "h5": {
        "font-family": "Lato"
       },
       "h6": {
        "font-family": "Lato"
       },
       "h7": {
        "font-family": "Lato"
       },
       "pre": {
        "font-family": "Anonymous Pro",
        "font-size": 4
       }
      },
      "text-base": {
       "font-family": "Merriweather",
       "font-size": 4
      }
     }
    }
   }
  }
 },
 "nbformat": 4,
 "nbformat_minor": 1
}
