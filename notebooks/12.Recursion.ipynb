{
 "cells": [
  {
   "cell_type": "markdown",
   "metadata": {
    "nbpresent": {
     "id": "d6d940ca-1e88-42d8-b9fe-6392fcd112fe"
    }
   },
   "source": [
    "# 12. Recursion"
   ]
  },
  {
   "cell_type": "markdown",
   "metadata": {
    "nbpresent": {
     "id": "56014342-e706-47ac-974f-f5fbebf3fd16"
    }
   },
   "source": [
    "## What Is Recursion\n",
    "\n",
    "**Recursion** means “defining something in terms of itself” usually at some smaller scale, perhaps multiple times, to achieve your objective.\n",
    "\n",
    "Example: \n",
    "$$f(n) = \n",
    "\\begin{cases}\n",
    "1,  & \\text{if $n$ = 1} \\\\\n",
    "f(n-1) + n, & \\text{if $n$ > 1}\n",
    "\\end{cases}\n",
    "$$\n",
    "\n",
    "Generally **recursion** means functions **call themselves** to solve smaller subproblems."
   ]
  },
  {
   "cell_type": "markdown",
   "metadata": {
    "nbpresent": {
     "id": "cae1a2b1-2b84-4486-9a36-0031bfbbddac"
    }
   },
   "source": [
    "## Calculating the Sum of a List of Numbers\n",
    "\n",
    "Suppose that you want to calculate the sum of a list of numbers such as: \n",
    "\n",
    "`[1,3,5,7,9]`"
   ]
  },
  {
   "cell_type": "markdown",
   "metadata": {
    "nbpresent": {
     "id": "b8e22a3e-d7ee-4b7a-955a-371d062103fa"
    }
   },
   "source": [
    "** An iterative solution **"
   ]
  },
  {
   "cell_type": "code",
   "execution_count": null,
   "metadata": {
    "collapsed": false,
    "nbpresent": {
     "id": "b0784de1-e59a-4298-b309-8d80bbc3d9ee"
    }
   },
   "outputs": [],
   "source": [
    "def listsum(numList):\n",
    "    theSum = 0\n",
    "    for i in numList:\n",
    "        theSum = theSum + i\n",
    "    return theSum\n",
    "\n",
    "print(listsum([1,3,5,7,9]))"
   ]
  },
  {
   "cell_type": "markdown",
   "metadata": {
    "nbpresent": {
     "id": "55d3c9e2-745d-4429-99da-b2634688704b"
    }
   },
   "source": [
    "** An Recursion solution **\n",
    "\n",
    "$$\n",
    "\\text{lsum(lst)} = \n",
    "\\begin{cases} \n",
    "0, & \\text{ lst == [] } \\\\\n",
    "\\text{lst[0] + lsum(lst[1:])}, & \\text{ lst != []}\n",
    "\\end{cases}\n",
    "$$"
   ]
  },
  {
   "cell_type": "code",
   "execution_count": null,
   "metadata": {
    "collapsed": false,
    "nbpresent": {
     "id": "1297e77e-6fb7-444d-9c89-868b66e423de"
    }
   },
   "outputs": [],
   "source": [
    "def listsum(numList):\n",
    "   if len(numList) == 0:\n",
    "        return 0\n",
    "   else:\n",
    "        return numList[0] + listsum(numList[1:])\n",
    "\n",
    "print(listsum([1,3,5,7,9]))"
   ]
  },
  {
   "cell_type": "markdown",
   "metadata": {
    "nbpresent": {
     "id": "c3280bb1-0d14-4c2e-8e9e-7c522e9e9339"
    }
   },
   "source": [
    "** Recursive calls **\n",
    "\n",
    "<img src=\"http://interactivepython.org/runestone/static/thinkcspy/_images/sumlistIn.png\" width=500>"
   ]
  },
  {
   "cell_type": "markdown",
   "metadata": {
    "nbpresent": {
     "id": "4581af0a-79f2-4d7d-a587-e25c53a82eed"
    }
   },
   "source": [
    "<img src=\"http://interactivepython.org/runestone/static/thinkcspy/_images/sumlistOut.png\" width=600>"
   ]
  },
  {
   "cell_type": "markdown",
   "metadata": {
    "nbpresent": {
     "id": "a2a465a5-b774-4ee1-8741-68bb41354b03"
    }
   },
   "source": [
    "## The Three Laws of Recursion\n",
    "\n",
    "Like the robots of Asimov, all recursive algorithms must obey three important laws:\n",
    "\n",
    "- A recursive algorithm must have a base case.\n",
    "- A recursive algorithm must change its state and move toward the base case.\n",
    "- A recursive algorithm must call itself, recursively."
   ]
  },
  {
   "cell_type": "markdown",
   "metadata": {
    "nbpresent": {
     "id": "1c98484c-8cad-4308-ab93-24a0054b36f2"
    }
   },
   "source": [
    "## Case: Converting an Integer to a String in Any Base\n",
    "\n",
    "Suppose you want to convert an integer to a string in some base between binary and hexadecimal. \n",
    "\n",
    "For example, convert the integer 10 to its string representation in decimal as \"10\", or to its string representation in binary as \"1010\". "
   ]
  },
  {
   "cell_type": "markdown",
   "metadata": {
    "nbpresent": {
     "id": "5da2fe3e-737b-45c1-8703-82f860d39903"
    }
   },
   "source": [
    "** The overall algorithm:**\n",
    "\n",
    "1. Reduce the original number to a series of single-digit numbers.\n",
    "2. Convert the single digit-number to a string.\n",
    "3. Concatenate the single-digit strings together to form the final result."
   ]
  },
  {
   "cell_type": "markdown",
   "metadata": {
    "nbpresent": {
     "id": "0ddcaacb-6ea5-4922-98b7-c1e096bcc74c"
    }
   },
   "source": [
    "$$\n",
    "\\text{toStr(n, base)} = \n",
    "\\begin{cases}\n",
    "\\text{str(n)}, & \\text{n < base} \\\\\n",
    "\\text{toStr(n // base, base) + str(n % base)}, & \\text {n >= base}\n",
    "\\end{cases}\n",
    "$$"
   ]
  },
  {
   "cell_type": "code",
   "execution_count": null,
   "metadata": {
    "collapsed": false,
    "nbpresent": {
     "id": "3ae8df45-5a98-47a5-94e4-b4463b824c22"
    }
   },
   "outputs": [],
   "source": [
    "def toStr(n,base):\n",
    "   if n < base:\n",
    "      return str(n)\n",
    "   else:\n",
    "      return toStr(n//base,base) + str(n%base)\n",
    "\n",
    "print(toStr(1234,6))\n",
    "print(toStr(65535,9))"
   ]
  },
  {
   "cell_type": "markdown",
   "metadata": {
    "nbpresent": {
     "id": "257a2ee3-af33-441c-b9a8-88792f38e015"
    }
   },
   "source": [
    "** Problem of `str(n)` **\n",
    "\n",
    "Observe the output of:\n",
    "\n",
    "```python\n",
    "print(toStr(65535,16))\n",
    "```"
   ]
  },
  {
   "cell_type": "markdown",
   "metadata": {
    "nbpresent": {
     "id": "7fa8ea0f-870e-40f0-b300-64f6f9167aef"
    }
   },
   "source": [
    "** Better solution **\n",
    "\n",
    "looking up a conversion table to get the converted string."
   ]
  },
  {
   "cell_type": "code",
   "execution_count": null,
   "metadata": {
    "collapsed": false,
    "nbpresent": {
     "id": "b126fb9b-2afc-4481-a7d6-8b40a5d0b736"
    }
   },
   "outputs": [],
   "source": [
    "def toStr(n,base, table):\n",
    "   if n < base:\n",
    "      return table[n]\n",
    "   else:\n",
    "      return toStr(n//base,base,table) + \\\n",
    "        table[n%base]\n",
    "\n",
    "table = \"0123456789ABCDEFGHIJKLMNOPQRSTUVWXYZ\"\n",
    "print(toStr(65535,10,table))\n",
    "print(toStr(65535,16,table))\n",
    "print(toStr(65535,32,table))"
   ]
  },
  {
   "cell_type": "markdown",
   "metadata": {
    "nbpresent": {
     "id": "18285b54-d6b6-4838-99b2-9c6404d0a6fb"
    }
   },
   "source": [
    "## Case: Fibonacci numbers\n",
    "\n",
    "Fibonacci sequence `0, 1, 1, 2, 3, 5, 8, 13, 21, 34, 55, 89, 134, ...`\n",
    "\n",
    "```\n",
    "fib(0) = 0\n",
    "fib(1) = 1\n",
    "fib(n) = fib(n-1) + fib(n-2)  for n >= 2\n",
    "```"
   ]
  },
  {
   "cell_type": "code",
   "execution_count": null,
   "metadata": {
    "collapsed": false,
    "nbpresent": {
     "id": "5853f58c-be57-4726-974b-1e16cbfe376a"
    }
   },
   "outputs": [],
   "source": [
    "def fib(n):\n",
    "    if n <= 1:\n",
    "        return n\n",
    "    t = fib(n-1) + fib(n-2)\n",
    "    return t\n",
    "\n",
    "fib(10)"
   ]
  },
  {
   "cell_type": "markdown",
   "metadata": {
    "nbpresent": {
     "id": "5bb60bc5-49f4-4c73-b5fe-2058bbb429ef"
    }
   },
   "source": [
    "**Measuring algorithm efficiency**"
   ]
  },
  {
   "cell_type": "code",
   "execution_count": null,
   "metadata": {
    "collapsed": false,
    "nbpresent": {
     "id": "67d29c42-e21b-4702-a255-85a4fd2f575a"
    }
   },
   "outputs": [],
   "source": [
    "import time\n",
    "t0 = time.clock()\n",
    "n = 35\n",
    "result = fib(n)\n",
    "t1 = time.clock()\n",
    "\n",
    "print(\"fib({0}) = {1}, ({2:.2f} secs)\".format(\n",
    "        n, result, t1-t0))"
   ]
  },
  {
   "cell_type": "code",
   "execution_count": null,
   "metadata": {
    "collapsed": false,
    "nbpresent": {
     "id": "c763bca2-bb9a-4574-a10c-f85451d412e4"
    }
   },
   "outputs": [],
   "source": [
    "%%timeit\n",
    "\n",
    "fib(35)"
   ]
  },
  {
   "cell_type": "markdown",
   "metadata": {
    "nbpresent": {
     "id": "18057a74-a135-4842-a3d3-1a095aedb27a"
    }
   },
   "source": [
    "## Case:  Processing nested number list"
   ]
  },
  {
   "cell_type": "code",
   "execution_count": null,
   "metadata": {
    "collapsed": false,
    "nbpresent": {
     "id": "320e36f1-a846-4c8c-8e32-c5d86edda4d2"
    }
   },
   "outputs": [],
   "source": [
    "sum([1, 2, 8])"
   ]
  },
  {
   "cell_type": "code",
   "execution_count": null,
   "metadata": {
    "collapsed": false,
    "nbpresent": {
     "id": "ea2d0bc0-45ac-4ccf-a216-8d93438c9264"
    }
   },
   "outputs": [],
   "source": [
    "sum([1, 2, [11, 13], 8])"
   ]
  },
  {
   "cell_type": "markdown",
   "metadata": {
    "nbpresent": {
     "id": "da253e85-55da-4184-a7ff-8277bff225b7"
    }
   },
   "source": [
    "** sum all the numbers in recursive nested number list **"
   ]
  },
  {
   "cell_type": "code",
   "execution_count": null,
   "metadata": {
    "collapsed": false,
    "nbpresent": {
     "id": "017326fe-92f3-48a7-8bef-27640590656e"
    }
   },
   "outputs": [],
   "source": [
    "def r_sum(nested_num_list):\n",
    "    tot = 0\n",
    "    for element in nested_num_list:\n",
    "        if type(element) == type([]):\n",
    "            tot += r_sum(element)\n",
    "        else:\n",
    "            tot += element\n",
    "    return tot\n",
    "\n",
    "r_sum([1, 2, [11, 13], 8])"
   ]
  },
  {
   "cell_type": "markdown",
   "metadata": {
    "nbpresent": {
     "id": "c15e9d8a-0f74-47ff-b1e8-03f7d9e1ea50"
    }
   },
   "source": [
    "## Glossary\n",
    "\n",
    "**base case**\n",
    "\n",
    "A branch of the conditional statement in a recursive function that does not give rise to further recursive calls.\n",
    "\n",
    "**infinite recursion**\n",
    "\n",
    "A function that calls itself recursively without ever reaching the base case. Eventually, an infinite recursion causes a runtime error.\n",
    "\n",
    "**recursion**\n",
    "\n",
    "The process of calling the function that is already executing.\n",
    "\n",
    "**recursive call**\n",
    "\n",
    "The statement that calls an already executing function. Recursion can even be indirect — function f can call g which calls h, and h could make a call back to f.\n",
    "\n",
    "**recursive definition**\n",
    "\n",
    "A definition which defines something in terms of itself. To be useful it must include base cases which are not recursive. In this way it differs from a circular definition. Recursive definitions often provide an elegant way to express complex data structures."
   ]
  },
  {
   "cell_type": "code",
   "execution_count": null,
   "metadata": {
    "collapsed": true,
    "nbpresent": {
     "id": "87794815-e986-4b8e-9b05-78ec75de549c"
    }
   },
   "outputs": [],
   "source": []
  }
 ],
 "metadata": {
  "anaconda-cloud": {},
  "kernelspec": {
   "display_name": "Python [default]",
   "language": "python",
   "name": "python3"
  },
  "language_info": {
   "codemirror_mode": {
    "name": "ipython",
    "version": 3
   },
   "file_extension": ".py",
   "mimetype": "text/x-python",
   "name": "python",
   "nbconvert_exporter": "python",
   "pygments_lexer": "ipython3",
   "version": "3.5.2"
  },
  "nbpresent": {
   "slides": {
    "11c9af3b-e711-41de-9bd7-5c3d21f25320": {
     "id": "11c9af3b-e711-41de-9bd7-5c3d21f25320",
     "prev": "a70b99d5-03cb-40c0-b1f3-36c1e14deef8",
     "regions": {
      "8f170a71-92a8-4385-ac27-dedc99ab1daf": {
       "attrs": {
        "height": 0.8,
        "width": 0.8,
        "x": 0.1,
        "y": 0.1
       },
       "content": {
        "cell": "c763bca2-bb9a-4574-a10c-f85451d412e4",
        "part": "whole"
       },
       "id": "8f170a71-92a8-4385-ac27-dedc99ab1daf"
      }
     }
    },
    "1a9fd6f6-9f90-46b2-ac07-ad65de5d42a7": {
     "id": "1a9fd6f6-9f90-46b2-ac07-ad65de5d42a7",
     "prev": "2ce3837d-5eab-47f9-872b-ac9ecc0aad97",
     "regions": {
      "f75849fb-4af0-49d1-b7fe-29b59e4dc00a": {
       "attrs": {
        "height": 0.8,
        "width": 0.8,
        "x": 0.1,
        "y": 0.1
       },
       "content": {
        "cell": "c15e9d8a-0f74-47ff-b1e8-03f7d9e1ea50",
        "part": "whole"
       },
       "id": "f75849fb-4af0-49d1-b7fe-29b59e4dc00a"
      }
     }
    },
    "2290dc54-0418-443c-a9b0-f2ed1961e7c8": {
     "id": "2290dc54-0418-443c-a9b0-f2ed1961e7c8",
     "prev": "72126dee-3808-43ac-864a-a3f3d671e5fd",
     "regions": {
      "1f7a65d3-75a4-46ca-ad7a-1e5709daa7b2": {
       "attrs": {
        "height": 0.8,
        "width": 0.8,
        "x": 0.1,
        "y": 0.1
       },
       "content": {
        "cell": "b8e22a3e-d7ee-4b7a-955a-371d062103fa",
        "part": "whole"
       },
       "id": "1f7a65d3-75a4-46ca-ad7a-1e5709daa7b2"
      }
     }
    },
    "2a3e228c-9cba-4879-bf9d-08785cbb7f51": {
     "id": "2a3e228c-9cba-4879-bf9d-08785cbb7f51",
     "prev": "3b44e59c-70a8-4b67-9415-c1a2aaa8d1e3",
     "regions": {
      "82fa2321-202d-4833-824c-675bef299f0a": {
       "attrs": {
        "height": 0.8,
        "width": 0.8,
        "x": 0.1,
        "y": 0.1
       },
       "content": {
        "cell": "320e36f1-a846-4c8c-8e32-c5d86edda4d2",
        "part": "whole"
       },
       "id": "82fa2321-202d-4833-824c-675bef299f0a"
      }
     }
    },
    "2ce3837d-5eab-47f9-872b-ac9ecc0aad97": {
     "id": "2ce3837d-5eab-47f9-872b-ac9ecc0aad97",
     "prev": "373da3cb-2c00-42f1-b09d-8faff124ebb4",
     "regions": {
      "a5087ecc-8021-46ce-b368-8c087ce9dc76": {
       "attrs": {
        "height": 0.8,
        "width": 0.8,
        "x": 0.1,
        "y": 0.1
       },
       "content": {
        "cell": "017326fe-92f3-48a7-8bef-27640590656e",
        "part": "whole"
       },
       "id": "a5087ecc-8021-46ce-b368-8c087ce9dc76"
      }
     }
    },
    "2da73d0c-c505-42ee-9c09-14aabdcfa454": {
     "id": "2da73d0c-c505-42ee-9c09-14aabdcfa454",
     "prev": "5bd9fb36-da05-4d5a-80aa-d32629845bfc",
     "regions": {
      "cd15399d-8108-40c4-87c8-76e17e1f8ee3": {
       "attrs": {
        "height": 0.8,
        "width": 0.8,
        "x": 0.1,
        "y": 0.1
       },
       "content": {
        "cell": "b126fb9b-2afc-4481-a7d6-8b40a5d0b736",
        "part": "whole"
       },
       "id": "cd15399d-8108-40c4-87c8-76e17e1f8ee3"
      }
     }
    },
    "2e8f6f96-a80e-481b-9648-560224061148": {
     "id": "2e8f6f96-a80e-481b-9648-560224061148",
     "prev": "4df78e19-f192-4d1c-a59c-68b27a509d6f",
     "regions": {
      "00f9d4f9-fba8-49b2-9fb2-14bd275b105a": {
       "attrs": {
        "height": 0.8,
        "width": 0.8,
        "x": 0.1,
        "y": 0.1
       },
       "content": {
        "cell": "5da2fe3e-737b-45c1-8703-82f860d39903",
        "part": "whole"
       },
       "id": "00f9d4f9-fba8-49b2-9fb2-14bd275b105a"
      }
     }
    },
    "36fe8324-c4f0-4d63-adf3-9008d259c89d": {
     "id": "36fe8324-c4f0-4d63-adf3-9008d259c89d",
     "prev": "2a3e228c-9cba-4879-bf9d-08785cbb7f51",
     "regions": {
      "470e9b1a-1e93-4400-849f-101adc8f650f": {
       "attrs": {
        "height": 0.8,
        "width": 0.8,
        "x": 0.1,
        "y": 0.1
       },
       "content": {
        "cell": "ea2d0bc0-45ac-4ccf-a216-8d93438c9264",
        "part": "whole"
       },
       "id": "470e9b1a-1e93-4400-849f-101adc8f650f"
      }
     }
    },
    "373da3cb-2c00-42f1-b09d-8faff124ebb4": {
     "id": "373da3cb-2c00-42f1-b09d-8faff124ebb4",
     "prev": "36fe8324-c4f0-4d63-adf3-9008d259c89d",
     "regions": {
      "940910e8-0b42-4640-b373-471afe2d16e8": {
       "attrs": {
        "height": 0.8,
        "width": 0.8,
        "x": 0.1,
        "y": 0.1
       },
       "content": {
        "cell": "da253e85-55da-4184-a7ff-8277bff225b7",
        "part": "whole"
       },
       "id": "940910e8-0b42-4640-b373-471afe2d16e8"
      }
     }
    },
    "3916dc96-e0ad-4718-bf9c-1d03134cf490": {
     "id": "3916dc96-e0ad-4718-bf9c-1d03134cf490",
     "prev": "881e1471-2a89-4f88-8766-2bd71ad6cdd6",
     "regions": {
      "f6eb3300-af62-4de6-a7e0-0639e08a18d9": {
       "attrs": {
        "height": 0.8,
        "width": 0.8,
        "x": 0.1,
        "y": 0.1
       },
       "content": {
        "cell": "5853f58c-be57-4726-974b-1e16cbfe376a",
        "part": "whole"
       },
       "id": "f6eb3300-af62-4de6-a7e0-0639e08a18d9"
      }
     }
    },
    "3b44e59c-70a8-4b67-9415-c1a2aaa8d1e3": {
     "id": "3b44e59c-70a8-4b67-9415-c1a2aaa8d1e3",
     "prev": "11c9af3b-e711-41de-9bd7-5c3d21f25320",
     "regions": {
      "1a61c05d-a6ae-4bc6-bcfe-8dcc152d83c4": {
       "attrs": {
        "height": 0.8,
        "width": 0.8,
        "x": 0.1,
        "y": 0.1
       },
       "content": {
        "cell": "18057a74-a135-4842-a3d3-1a095aedb27a",
        "part": "whole"
       },
       "id": "1a61c05d-a6ae-4bc6-bcfe-8dcc152d83c4"
      }
     }
    },
    "490bb551-a532-4abf-a335-668bcf5d7f49": {
     "id": "490bb551-a532-4abf-a335-668bcf5d7f49",
     "prev": "1a9fd6f6-9f90-46b2-ac07-ad65de5d42a7",
     "regions": {
      "b1a45f9e-2636-49f3-94cd-acbc33de72ba": {
       "attrs": {
        "height": 0.8,
        "width": 0.8,
        "x": 0.1,
        "y": 0.1
       },
       "content": {
        "cell": "87794815-e986-4b8e-9b05-78ec75de549c",
        "part": "whole"
       },
       "id": "b1a45f9e-2636-49f3-94cd-acbc33de72ba"
      }
     }
    },
    "4c60df21-be09-4a2b-82a2-317d26e483d5": {
     "id": "4c60df21-be09-4a2b-82a2-317d26e483d5",
     "prev": "d006373c-7c38-4e8b-8a74-4290c20708fb",
     "regions": {
      "9dfddd12-0276-4e83-8f69-ae9f96890b9d": {
       "attrs": {
        "height": 0.8,
        "width": 0.8,
        "x": 0.1,
        "y": 0.1
       },
       "content": {
        "cell": "c3280bb1-0d14-4c2e-8e9e-7c522e9e9339",
        "part": "whole"
       },
       "id": "9dfddd12-0276-4e83-8f69-ae9f96890b9d"
      }
     }
    },
    "4df78e19-f192-4d1c-a59c-68b27a509d6f": {
     "id": "4df78e19-f192-4d1c-a59c-68b27a509d6f",
     "prev": "e6fd86d0-3c72-48ad-afa8-46cfce01d4c9",
     "regions": {
      "a377e7e9-d64e-4547-a892-bfaf92ccd039": {
       "attrs": {
        "height": 0.8,
        "width": 0.8,
        "x": 0.1,
        "y": 0.1
       },
       "content": {
        "cell": "1c98484c-8cad-4308-ab93-24a0054b36f2",
        "part": "whole"
       },
       "id": "a377e7e9-d64e-4547-a892-bfaf92ccd039"
      }
     }
    },
    "5bd9fb36-da05-4d5a-80aa-d32629845bfc": {
     "id": "5bd9fb36-da05-4d5a-80aa-d32629845bfc",
     "prev": "ccd02c2a-ebaa-4dcf-b6de-68d829e4a3d4",
     "regions": {
      "b6191490-2c33-48df-85ca-b40ca68a49ec": {
       "attrs": {
        "height": 0.8,
        "width": 0.8,
        "x": 0.1,
        "y": 0.1
       },
       "content": {
        "cell": "7fa8ea0f-870e-40f0-b300-64f6f9167aef",
        "part": "whole"
       },
       "id": "b6191490-2c33-48df-85ca-b40ca68a49ec"
      }
     }
    },
    "72126dee-3808-43ac-864a-a3f3d671e5fd": {
     "id": "72126dee-3808-43ac-864a-a3f3d671e5fd",
     "prev": "ee008c45-b80d-46a3-bb1f-1ca3f787e77c",
     "regions": {
      "5d0a0525-65c4-4a77-a08b-bf1c327059a6": {
       "attrs": {
        "height": 0.8,
        "width": 0.8,
        "x": 0.1,
        "y": 0.1
       },
       "content": {
        "cell": "cae1a2b1-2b84-4486-9a36-0031bfbbddac",
        "part": "whole"
       },
       "id": "5d0a0525-65c4-4a77-a08b-bf1c327059a6"
      }
     }
    },
    "881e1471-2a89-4f88-8766-2bd71ad6cdd6": {
     "id": "881e1471-2a89-4f88-8766-2bd71ad6cdd6",
     "prev": "2da73d0c-c505-42ee-9c09-14aabdcfa454",
     "regions": {
      "72607cfb-ae2e-4503-8eac-32a16ba57836": {
       "attrs": {
        "height": 0.8,
        "width": 0.8,
        "x": 0.1,
        "y": 0.1
       },
       "content": {
        "cell": "18285b54-d6b6-4838-99b2-9c6404d0a6fb",
        "part": "whole"
       },
       "id": "72607cfb-ae2e-4503-8eac-32a16ba57836"
      }
     }
    },
    "9dc798f2-6735-4ca9-8c03-a7a75bde35cc": {
     "id": "9dc798f2-6735-4ca9-8c03-a7a75bde35cc",
     "prev": null,
     "regions": {
      "8135a54b-6f7e-40ca-ae48-d9948dd78ce4": {
       "attrs": {
        "height": 0.8,
        "width": 0.8,
        "x": 0.1,
        "y": 0.1
       },
       "content": {
        "cell": "d6d940ca-1e88-42d8-b9fe-6392fcd112fe",
        "part": "whole"
       },
       "id": "8135a54b-6f7e-40ca-ae48-d9948dd78ce4"
      }
     }
    },
    "a70b99d5-03cb-40c0-b1f3-36c1e14deef8": {
     "id": "a70b99d5-03cb-40c0-b1f3-36c1e14deef8",
     "prev": "aab80489-9b02-42ca-bc39-78ead0b30b43",
     "regions": {
      "744f5cc4-c4ab-4995-8ce9-4d5ff3900b22": {
       "attrs": {
        "height": 0.8,
        "width": 0.8,
        "x": 0.1,
        "y": 0.1
       },
       "content": {
        "cell": "67d29c42-e21b-4702-a255-85a4fd2f575a",
        "part": "whole"
       },
       "id": "744f5cc4-c4ab-4995-8ce9-4d5ff3900b22"
      }
     }
    },
    "aab80489-9b02-42ca-bc39-78ead0b30b43": {
     "id": "aab80489-9b02-42ca-bc39-78ead0b30b43",
     "prev": "3916dc96-e0ad-4718-bf9c-1d03134cf490",
     "regions": {
      "e9cffd6d-efa6-450f-9162-8abcb49ec675": {
       "attrs": {
        "height": 0.8,
        "width": 0.8,
        "x": 0.1,
        "y": 0.1
       },
       "content": {
        "cell": "5bb60bc5-49f4-4c73-b5fe-2058bbb429ef",
        "part": "whole"
       },
       "id": "e9cffd6d-efa6-450f-9162-8abcb49ec675"
      }
     }
    },
    "b82a4ec8-e3bd-460a-b533-22a2a21d5f0f": {
     "id": "b82a4ec8-e3bd-460a-b533-22a2a21d5f0f",
     "prev": "4c60df21-be09-4a2b-82a2-317d26e483d5",
     "regions": {
      "0ec2f553-e4ab-467e-9125-95d7a8360497": {
       "attrs": {
        "height": 0.8,
        "width": 0.8,
        "x": 0.1,
        "y": 0.1
       },
       "content": {
        "cell": "4581af0a-79f2-4d7d-a587-e25c53a82eed",
        "part": "whole"
       },
       "id": "0ec2f553-e4ab-467e-9125-95d7a8360497"
      }
     }
    },
    "c06b1fe8-5b8d-4bff-ab47-7b825369900a": {
     "id": "c06b1fe8-5b8d-4bff-ab47-7b825369900a",
     "prev": "2290dc54-0418-443c-a9b0-f2ed1961e7c8",
     "regions": {
      "e39ec208-1c30-45ef-8cac-b95fe450714a": {
       "attrs": {
        "height": 0.8,
        "width": 0.8,
        "x": 0.1,
        "y": 0.1
       },
       "content": {
        "cell": "b0784de1-e59a-4298-b309-8d80bbc3d9ee",
        "part": "whole"
       },
       "id": "e39ec208-1c30-45ef-8cac-b95fe450714a"
      }
     }
    },
    "c469e60b-d7d6-40f5-841d-bf4accb4364a": {
     "id": "c469e60b-d7d6-40f5-841d-bf4accb4364a",
     "prev": "2e8f6f96-a80e-481b-9648-560224061148",
     "regions": {
      "46593b51-1e99-458c-929e-fc03b482ee58": {
       "attrs": {
        "height": 0.8,
        "width": 0.8,
        "x": 0.1,
        "y": 0.1
       },
       "content": {
        "cell": "0ddcaacb-6ea5-4922-98b7-c1e096bcc74c",
        "part": "whole"
       },
       "id": "46593b51-1e99-458c-929e-fc03b482ee58"
      }
     }
    },
    "ccd02c2a-ebaa-4dcf-b6de-68d829e4a3d4": {
     "id": "ccd02c2a-ebaa-4dcf-b6de-68d829e4a3d4",
     "prev": "ce34cdc0-8b2d-4498-b5bd-e4daab216f44",
     "regions": {
      "32f0605d-db2f-4617-bc07-c308dad2041b": {
       "attrs": {
        "height": 0.8,
        "width": 0.8,
        "x": 0.1,
        "y": 0.1
       },
       "content": {
        "cell": "257a2ee3-af33-441c-b9a8-88792f38e015",
        "part": "whole"
       },
       "id": "32f0605d-db2f-4617-bc07-c308dad2041b"
      }
     }
    },
    "ce34cdc0-8b2d-4498-b5bd-e4daab216f44": {
     "id": "ce34cdc0-8b2d-4498-b5bd-e4daab216f44",
     "prev": "c469e60b-d7d6-40f5-841d-bf4accb4364a",
     "regions": {
      "0fd8ffe4-bf01-4076-8c4d-602f2120906a": {
       "attrs": {
        "height": 0.8,
        "width": 0.8,
        "x": 0.1,
        "y": 0.1
       },
       "content": {
        "cell": "3ae8df45-5a98-47a5-94e4-b4463b824c22",
        "part": "whole"
       },
       "id": "0fd8ffe4-bf01-4076-8c4d-602f2120906a"
      }
     }
    },
    "d006373c-7c38-4e8b-8a74-4290c20708fb": {
     "id": "d006373c-7c38-4e8b-8a74-4290c20708fb",
     "prev": "f546c61c-e5f5-4c8f-a2fe-e670fe26dca5",
     "regions": {
      "3330554a-b54e-4fcd-8b7a-fe0c5427e59d": {
       "attrs": {
        "height": 0.8,
        "width": 0.8,
        "x": 0.1,
        "y": 0.1
       },
       "content": {
        "cell": "1297e77e-6fb7-444d-9c89-868b66e423de",
        "part": "whole"
       },
       "id": "3330554a-b54e-4fcd-8b7a-fe0c5427e59d"
      }
     }
    },
    "e6fd86d0-3c72-48ad-afa8-46cfce01d4c9": {
     "id": "e6fd86d0-3c72-48ad-afa8-46cfce01d4c9",
     "prev": "b82a4ec8-e3bd-460a-b533-22a2a21d5f0f",
     "regions": {
      "7541ab67-80d6-4f9c-b3c9-db4b4d6d885e": {
       "attrs": {
        "height": 0.8,
        "width": 0.8,
        "x": 0.1,
        "y": 0.1
       },
       "content": {
        "cell": "a2a465a5-b774-4ee1-8741-68bb41354b03",
        "part": "whole"
       },
       "id": "7541ab67-80d6-4f9c-b3c9-db4b4d6d885e"
      }
     }
    },
    "ee008c45-b80d-46a3-bb1f-1ca3f787e77c": {
     "id": "ee008c45-b80d-46a3-bb1f-1ca3f787e77c",
     "prev": "9dc798f2-6735-4ca9-8c03-a7a75bde35cc",
     "regions": {
      "59557782-b27c-4084-947c-1a117e9a8ab7": {
       "attrs": {
        "height": 0.8,
        "width": 0.8,
        "x": 0.1,
        "y": 0.1
       },
       "content": {
        "cell": "56014342-e706-47ac-974f-f5fbebf3fd16",
        "part": "whole"
       },
       "id": "59557782-b27c-4084-947c-1a117e9a8ab7"
      }
     }
    },
    "f546c61c-e5f5-4c8f-a2fe-e670fe26dca5": {
     "id": "f546c61c-e5f5-4c8f-a2fe-e670fe26dca5",
     "prev": "c06b1fe8-5b8d-4bff-ab47-7b825369900a",
     "regions": {
      "2ce4fd60-eacb-47a5-a969-d67ab2ed3691": {
       "attrs": {
        "height": 0.8,
        "width": 0.8,
        "x": 0.1,
        "y": 0.1
       },
       "content": {
        "cell": "55d3c9e2-745d-4429-99da-b2634688704b",
        "part": "whole"
       },
       "id": "2ce4fd60-eacb-47a5-a969-d67ab2ed3691"
      }
     }
    }
   },
   "themes": {
    "default": "86ffad3f-5e30-456c-8805-7e65c320f23b",
    "theme": {
     "86ffad3f-5e30-456c-8805-7e65c320f23b": {
      "id": "86ffad3f-5e30-456c-8805-7e65c320f23b",
      "palette": {
       "19cc588f-0593-49c9-9f4b-e4d7cc113b1c": {
        "id": "19cc588f-0593-49c9-9f4b-e4d7cc113b1c",
        "rgb": [
         252,
         252,
         252
        ]
       },
       "31af15d2-7e15-44c5-ab5e-e04b16a89eff": {
        "id": "31af15d2-7e15-44c5-ab5e-e04b16a89eff",
        "rgb": [
         68,
         68,
         68
        ]
       },
       "50f92c45-a630-455b-aec3-788680ec7410": {
        "id": "50f92c45-a630-455b-aec3-788680ec7410",
        "rgb": [
         155,
         177,
         192
        ]
       },
       "c5cc3653-2ee1-402a-aba2-7caae1da4f6c": {
        "id": "c5cc3653-2ee1-402a-aba2-7caae1da4f6c",
        "rgb": [
         43,
         126,
         184
        ]
       },
       "efa7f048-9acb-414c-8b04-a26811511a21": {
        "id": "efa7f048-9acb-414c-8b04-a26811511a21",
        "rgb": [
         25.118061674008803,
         73.60176211453744,
         107.4819383259912
        ]
       }
      },
      "rules": {
       "blockquote": {
        "color": "50f92c45-a630-455b-aec3-788680ec7410"
       },
       "code": {
        "font-family": "Anonymous Pro"
       },
       "h1": {
        "color": "c5cc3653-2ee1-402a-aba2-7caae1da4f6c",
        "font-family": "Lato",
        "font-size": 8
       },
       "h2": {
        "color": "c5cc3653-2ee1-402a-aba2-7caae1da4f6c",
        "font-family": "Lato",
        "font-size": 6
       },
       "h3": {
        "color": "50f92c45-a630-455b-aec3-788680ec7410",
        "font-family": "Lato",
        "font-size": 5.5
       },
       "h4": {
        "color": "c5cc3653-2ee1-402a-aba2-7caae1da4f6c",
        "font-family": "Lato",
        "font-size": 5
       },
       "h5": {
        "font-family": "Lato"
       },
       "h6": {
        "font-family": "Lato"
       },
       "h7": {
        "font-family": "Lato"
       },
       "pre": {
        "font-family": "Anonymous Pro",
        "font-size": 4
       }
      },
      "text-base": {
       "font-family": "Merriweather",
       "font-size": 4
      }
     }
    }
   }
  }
 },
 "nbformat": 4,
 "nbformat_minor": 1
}
