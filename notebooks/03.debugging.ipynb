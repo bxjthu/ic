{
 "cells": [
  {
   "cell_type": "markdown",
   "metadata": {
    "nbpresent": {
     "id": "64da71f0-afd1-4e6e-9a5b-6b059c9427b0"
    }
   },
   "source": [
    "# 3. Debugging"
   ]
  },
  {
   "cell_type": "markdown",
   "metadata": {
    "nbpresent": {
     "id": "5e90088d-4b9f-45df-8274-ea25a2a125d0"
    }
   },
   "source": [
    "## To be a Successful Programmer\n",
    "\n",
    "---\n",
    "\n",
    "<div class=\"alert alert-info\">\n",
    "Debugging is one of the most important skills\n",
    "</div>\n",
    "\n",
    "<div class=\"panel panel-success\">\n",
    "    <div class=\"panel-heading\">Secret To Success\n",
    "    </div>\n",
    "    <div class=\"panel-body\">Get something working and keep it working</div>\n",
    "</div>"
   ]
  },
  {
   "cell_type": "markdown",
   "metadata": {
    "nbpresent": {
     "id": "150dcb52-ad8c-4574-b4f7-19a1eeeadbea"
    }
   },
   "source": [
    "## Avoid debugging\n",
    "---\n",
    "\n",
    "<div class=\"alert alert-success\">\n",
    "Get something working and keep it working\n",
    "</div>\n",
    "\n",
    "1. Start Small \n",
    "\n",
    "2. Keep it working "
   ]
  },
  {
   "cell_type": "markdown",
   "metadata": {
    "nbpresent": {
     "id": "07a273dc-9b6a-484a-91a9-28ef72e225e1"
    }
   },
   "source": [
    "## An example\n",
    "---\n",
    "\n",
    "** Alarm clock problem in general **\n",
    "\n",
    "Ask the user for the time now (in hours), and ask for the number of hours to wait. Your program should output what the time will be on the clock when the alarm goes off."
   ]
  },
  {
   "cell_type": "code",
   "execution_count": null,
   "metadata": {
    "collapsed": false,
    "nbpresent": {
     "id": "e1e0435b-627e-4ea9-8cc9-be0fac17adce"
    }
   },
   "outputs": [],
   "source": [
    "current_time = input(\"what is the current time (in hours)?\")\n",
    "wait_time = input(\"How many hours do you want to wait\")\n",
    "\n",
    "print(current_time)\n",
    "print(wait_time)"
   ]
  },
  {
   "cell_type": "markdown",
   "metadata": {
    "nbpresent": {
     "id": "b495330b-fe36-4497-b05a-a3dbd61279d7"
    }
   },
   "source": [
    "** Next to figure out what the time will be after waiting *wait_time* number of hours  **"
   ]
  },
  {
   "cell_type": "code",
   "execution_count": null,
   "metadata": {
    "collapsed": false,
    "nbpresent": {
     "id": "ccf2a97e-f350-44c9-9706-a9d7bd3fdad4"
    }
   },
   "outputs": [],
   "source": [
    "current_time = input(\"What is the current time (in hours 0 - 23)?\")\n",
    "wait_time = input(\"How many hours do you want to wait\")\n",
    "\n",
    "print(current_time)\n",
    "print(wait_time)\n",
    "\n",
    "final_time = current_time + wait_time\n",
    "print(final_time)"
   ]
  },
  {
   "cell_type": "markdown",
   "metadata": {
    "nbpresent": {
     "id": "33d1e9b5-2ab8-4f1f-becd-9077be67cf2c"
    }
   },
   "source": [
    "** The problem: **\n",
    "\n",
    "* Python is doing string concatenation, not integer addition *"
   ]
  },
  {
   "cell_type": "code",
   "execution_count": null,
   "metadata": {
    "collapsed": false,
    "nbpresent": {
     "id": "db4b917d-436a-4468-a9ea-dc19bd38ca37"
    }
   },
   "outputs": [],
   "source": [
    "current_time_str = input(\"What is the current time (in hours 0-23)?\")\n",
    "wait_time_str = input(\"How many hours do you want to wait\")\n",
    "\n",
    "current_time_int = int(current_time_str)\n",
    "wait_time_int = int(wait_time_str)\n",
    "\n",
    "final_time_int = current_time_int + wait_time_int\n",
    "print(final_time_int)"
   ]
  },
  {
   "cell_type": "markdown",
   "metadata": {
    "nbpresent": {
     "id": "3fbba4ff-94cf-4ae0-addc-e97ff8c3aad3"
    }
   },
   "source": [
    "** Testing on boundary conditions **\n",
    "\n",
    "```python\n",
    "current_time_int = 10\n",
    "\n",
    "wait_time_int = 20\n",
    "\n",
    "```\n",
    "\n",
    "we get `final_time_int` of `30`\n"
   ]
  },
  {
   "cell_type": "code",
   "execution_count": null,
   "metadata": {
    "collapsed": false,
    "nbpresent": {
     "id": "7ee7384e-9fce-4c94-b13b-e099746b56ff"
    }
   },
   "outputs": [],
   "source": [
    "current_time_str = input(\"What is the current time (in hours 0-23)?\")\n",
    "wait_time_str = input(\"How many hours do you want to wait\")\n",
    "\n",
    "current_time_int = int(current_time_str)\n",
    "wait_time_int = int(wait_time_str)\n",
    "\n",
    "final_time_int = current_time_int + wait_time_int\n",
    "\n",
    "final_answer = final_time_int % 24\n",
    "\n",
    "print(\"The time after waiting is: \", final_answer)"
   ]
  },
  {
   "cell_type": "markdown",
   "metadata": {
    "nbpresent": {
     "id": "478733f9-1c2d-4fe5-9b4c-b87bf6739717"
    }
   },
   "source": [
    "## Beginning tips for Debugging\n",
    "---\n",
    "\n",
    "The process of debugging is much more like being a detective. \n",
    "\n",
    "- Everyone is a suspect (Except Python)! \n",
    "\n",
    "- Find clues.\n",
    "\n",
    "    - Error Messages\n",
    "    \n",
    "    - Print Statements"
   ]
  },
  {
   "cell_type": "markdown",
   "metadata": {
    "nbpresent": {
     "id": "ebac72df-c569-4d2c-b892-d80250610168"
    }
   },
   "source": [
    "## Know your error messages"
   ]
  },
  {
   "cell_type": "code",
   "execution_count": null,
   "metadata": {
    "collapsed": false,
    "nbpresent": {
     "id": "c8e20666-9b02-431f-b033-6a6d90da12da"
    }
   },
   "outputs": [],
   "source": [
    "%reset -f\n",
    "current_time_str = input(\"What is the current time (in hours 0-23)?\")\n",
    "wait_time_str = input(\"How many hours do you want to wait\")\n",
    "\n",
    "current_time_int = int(current_time_str)\n",
    "wait_time_int = int(wait_time_int)\n",
    "\n",
    "final_time_int = current_time_int + wait_time_int\n",
    "print(final_time_int)"
   ]
  },
  {
   "cell_type": "markdown",
   "metadata": {
    "nbpresent": {
     "id": "0d673e7f-ffae-4935-ac04-e5e5ccc09ca3"
    }
   },
   "source": [
    "** Statistics about errors **\n",
    "\n",
    "\n",
    "Message | Number | Percent\n",
    "---|---|---\n",
    "ParseError\t| 4999\t| 54.74%\n",
    "TypeError |\t1305\t| 14.29%\n",
    "NameError |\t1009\t| 11.05%\n",
    "ValueError |\t893\t| 9.78%"
   ]
  },
  {
   "cell_type": "markdown",
   "metadata": {
    "nbpresent": {
     "id": "f61f32ce-5f1e-4ed3-979b-06e9ccdb08a2"
    }
   },
   "source": [
    "** ParseError **\n",
    "\n",
    "Parse errors happen when you make an error in the syntax of your program. \n",
    "\n",
    "Usually ParseErrors can be traced back to missing punctuation characters, such as parenthesis, quotation marks, or commas. \n",
    "\n",
    "Paretheses must be balanced.\n",
    "\n"
   ]
  },
  {
   "cell_type": "code",
   "execution_count": null,
   "metadata": {
    "collapsed": false,
    "nbpresent": {
     "id": "591a12f9-4b62-4b51-8365-6a8b949bc969"
    }
   },
   "outputs": [],
   "source": [
    "current_time_str = input(\"What is the current time (in hours 0-23)?\")\n",
    "wait_time_str = input(\"How many hours do you want to wait\"\n",
    "\n",
    "current_time_int = int(current_time_str)\n",
    "wait_time_int = int(wait_time_str)\n",
    "\n",
    "final_time_int = current_time_int + wait_time_int\n",
    "print(final_time_int)"
   ]
  },
  {
   "cell_type": "markdown",
   "metadata": {
    "nbpresent": {
     "id": "7170a57d-f4e0-46de-98b7-617b74f7a704"
    }
   },
   "source": [
    "** TypeError **\n",
    "\n",
    "TypeErrors occur when you you try to combine two objects that are not compatible. \n",
    "\n",
    "For example you try to add together an integer and a string. \n",
    "\n",
    "Usually type errors can be isolated to lines that are using mathematical operators, and usually the line number given by the error message is an accurate indication of the line.\n",
    "\n"
   ]
  },
  {
   "cell_type": "code",
   "execution_count": null,
   "metadata": {
    "collapsed": false,
    "nbpresent": {
     "id": "ce1a26c1-03ef-4336-bc7f-9f2f8de766f2"
    }
   },
   "outputs": [],
   "source": [
    "a = input(uu'wpisz godzine')\n",
    "x = input(uu'wpisz liczbe godzin')\n",
    "int(x)\n",
    "int(a)\n",
    "h = x // 24\n",
    "s = x % 24\n",
    "print (h, s)\n",
    "a = a + s\n",
    "print ('godzina teraz %s' %a)"
   ]
  },
  {
   "cell_type": "markdown",
   "metadata": {
    "nbpresent": {
     "id": "c94e4722-3f6d-4e1a-8c8c-b6382c035029"
    }
   },
   "source": [
    "** NameError **\n",
    "\n",
    "Name errors almost always mean that you have used a variable before it has a value. \n",
    "\n",
    "Often NameErrors are simply caused by typos in your code. "
   ]
  },
  {
   "cell_type": "code",
   "execution_count": null,
   "metadata": {
    "collapsed": true,
    "nbpresent": {
     "id": "5fb1ced4-1996-4e74-a2e6-7ec39e26af32"
    }
   },
   "outputs": [],
   "source": [
    "str_time = input(\"What time is it now?\")\n",
    "str_wait_time = input(\"What is the number of nours to wait?\")\n",
    "time = int(str_time)\n",
    "wai_time = int(str_wait_time)\n",
    "\n",
    "time_when_alarm_go_off = time + wait_time\n",
    "print(time_when_alarm_go_off)"
   ]
  },
  {
   "cell_type": "markdown",
   "metadata": {
    "nbpresent": {
     "id": "dbe95e45-86d0-47d6-8b6f-cccea3cb5c5d"
    }
   },
   "source": [
    "** Another example **"
   ]
  },
  {
   "cell_type": "code",
   "execution_count": null,
   "metadata": {
    "collapsed": true,
    "nbpresent": {
     "id": "39c51b78-0285-479f-b17a-4cef2c3c7bde"
    }
   },
   "outputs": [],
   "source": [
    "n = input(\"What time is it now (in hours)?\")\n",
    "n = imt(n)\n",
    "m = input(\"How many hours do you want to wait?\")\n",
    "m = int(m)\n",
    "q = m % 12\n",
    "print(\"The time is now\", q)"
   ]
  },
  {
   "cell_type": "markdown",
   "metadata": {
    "nbpresent": {
     "id": "093db12c-4686-47d4-a99e-71e29e025cb5"
    }
   },
   "source": [
    "** And another **"
   ]
  },
  {
   "cell_type": "code",
   "execution_count": null,
   "metadata": {
    "collapsed": false,
    "nbpresent": {
     "id": "fc69f00d-423c-489e-935c-51b24b8043a7"
    }
   },
   "outputs": [],
   "source": [
    "present_time = input(\"Enter the present timein hours:\")\n",
    "set_alarm = input(\"Set the hours for alarm:\")\n",
    "int (present_time, set_time, alarm_time)\n",
    "alarm_time = present_time + set_alarm\n",
    "print(alarm_time)"
   ]
  },
  {
   "cell_type": "markdown",
   "metadata": {
    "nbpresent": {
     "id": "86b547d8-51f9-4702-8ecc-73a4aa69fb74"
    }
   },
   "source": [
    "** ValueError **\n",
    "\n",
    "Value errors occur when you pass a parameter to a function and the function is expecting a certain type, but you pass it a different type. \n",
    "\n",
    "Test different inputs running the following example"
   ]
  },
  {
   "cell_type": "code",
   "execution_count": null,
   "metadata": {
    "collapsed": false,
    "nbpresent": {
     "id": "8188aab7-989c-4ca6-a32a-484ce28f836d"
    }
   },
   "outputs": [],
   "source": [
    "current_time_str = input(\"What is the current time (in hours 0-23)?\")\n",
    "current_time_int = int(current_time_str)\n",
    "\n",
    "wait_time_str = input(\"How many hours do you want to wait\")\n",
    "wait_time_int = int(wait_time_int)\n",
    "\n",
    "final_time_int = current_time_int + wait_time_int\n",
    "print(final_time_int)"
   ]
  },
  {
   "cell_type": "markdown",
   "metadata": {
    "nbpresent": {
     "id": "88117b20-da37-4a5a-b6ca-7eee1b795549"
    }
   },
   "source": [
    "## Suggestion\n",
    "\n",
    "You need to keep track of the types of your variables, and understand what types your function is expecting. \n",
    "\n",
    "You can do this by writing comments in your code, or by naming your variables in a way that reminds you of their type.\n",
    "\n",
    "`print` statements are your friends. "
   ]
  }
 ],
 "metadata": {
  "anaconda-cloud": {},
  "kernelspec": {
   "display_name": "Python [default]",
   "language": "python",
   "name": "python3"
  },
  "language_info": {
   "codemirror_mode": {
    "name": "ipython",
    "version": 3
   },
   "file_extension": ".py",
   "mimetype": "text/x-python",
   "name": "python",
   "nbconvert_exporter": "python",
   "pygments_lexer": "ipython3",
   "version": "3.5.2"
  },
  "nbpresent": {
   "slides": {
    "0ef8a84d-fe9e-4c44-9fc2-93dcd8ecba8f": {
     "id": "0ef8a84d-fe9e-4c44-9fc2-93dcd8ecba8f",
     "prev": "c0a39b58-d978-4e0b-984d-58a36eb4571e",
     "regions": {
      "cd2ce762-e4c3-46c7-a061-b47eb0404d15": {
       "attrs": {
        "height": 0.8,
        "width": 0.8,
        "x": 0.1,
        "y": 0.1
       },
       "content": {
        "cell": "e1e0435b-627e-4ea9-8cc9-be0fac17adce",
        "part": "whole"
       },
       "id": "cd2ce762-e4c3-46c7-a061-b47eb0404d15"
      }
     }
    },
    "1069334a-45af-4844-b653-17cb1f10b2fe": {
     "id": "1069334a-45af-4844-b653-17cb1f10b2fe",
     "prev": "3372d07a-a1e9-4671-b948-2f2f3da38f68",
     "regions": {
      "ceb2115c-81cc-4766-a9e3-b0e6587bd06b": {
       "attrs": {
        "height": 0.8,
        "width": 0.8,
        "x": 0.1,
        "y": 0.1
       },
       "content": {
        "cell": "f61f32ce-5f1e-4ed3-979b-06e9ccdb08a2",
        "part": "whole"
       },
       "id": "ceb2115c-81cc-4766-a9e3-b0e6587bd06b"
      }
     }
    },
    "15e6560e-fc86-42d6-8d2b-e801f1ff1fae": {
     "id": "15e6560e-fc86-42d6-8d2b-e801f1ff1fae",
     "prev": "e68a00f3-2448-4216-a2ea-bd687139eae5",
     "regions": {
      "861cf6cb-507e-40e6-bbe0-183e3f03327e": {
       "attrs": {
        "height": 0.8,
        "width": 0.8,
        "x": 0.1,
        "y": 0.1
       },
       "content": {
        "cell": "3fbba4ff-94cf-4ae0-addc-e97ff8c3aad3",
        "part": "whole"
       },
       "id": "861cf6cb-507e-40e6-bbe0-183e3f03327e"
      }
     }
    },
    "1b12f2ea-9469-4fbd-99a7-30ba4bc7bddc": {
     "id": "1b12f2ea-9469-4fbd-99a7-30ba4bc7bddc",
     "prev": "66249927-b4b0-4892-85a9-765bfe2f7be0",
     "regions": {
      "46d926ea-dc6d-4e3f-9d94-7e6031953507": {
       "attrs": {
        "height": 0.8,
        "width": 0.8,
        "x": 0.1,
        "y": 0.1
       },
       "content": {
        "cell": "ccf2a97e-f350-44c9-9706-a9d7bd3fdad4",
        "part": "whole"
       },
       "id": "46d926ea-dc6d-4e3f-9d94-7e6031953507"
      }
     }
    },
    "23b72194-76de-49ab-ba67-c0a9b3eb35f8": {
     "id": "23b72194-76de-49ab-ba67-c0a9b3eb35f8",
     "prev": "d666d08c-12bc-4736-b7b5-1f5ba7bba4fc",
     "regions": {
      "ff9d59a5-ff21-4a9c-b28b-9f5c26d6f4d5": {
       "attrs": {
        "height": 0.8,
        "width": 0.8,
        "x": 0.1,
        "y": 0.1
       },
       "content": {
        "cell": "5fb1ced4-1996-4e74-a2e6-7ec39e26af32",
        "part": "whole"
       },
       "id": "ff9d59a5-ff21-4a9c-b28b-9f5c26d6f4d5"
      }
     }
    },
    "2f591fe2-56f8-45e3-95d0-8855415b81c9": {
     "id": "2f591fe2-56f8-45e3-95d0-8855415b81c9",
     "prev": "51afe7e0-7b83-473d-9b18-4f48c421b1cf",
     "regions": {
      "49749c72-9a63-45a7-a186-faea43e46137": {
       "attrs": {
        "height": 0.8,
        "width": 0.8,
        "x": 0.1,
        "y": 0.1
       },
       "content": {
        "cell": "86b547d8-51f9-4702-8ecc-73a4aa69fb74",
        "part": "whole"
       },
       "id": "49749c72-9a63-45a7-a186-faea43e46137"
      }
     }
    },
    "32c071ce-8f40-4b04-8542-cfa6b53a49a5": {
     "id": "32c071ce-8f40-4b04-8542-cfa6b53a49a5",
     "prev": "595fa934-16f8-48d2-97a1-eb6006033db0",
     "regions": {
      "4f7f1c55-1612-460a-bcec-335a38b23a3f": {
       "attrs": {
        "height": 0.8,
        "width": 0.8,
        "x": 0.1,
        "y": 0.1
       },
       "content": {
        "cell": "39c51b78-0285-479f-b17a-4cef2c3c7bde",
        "part": "whole"
       },
       "id": "4f7f1c55-1612-460a-bcec-335a38b23a3f"
      }
     }
    },
    "3372d07a-a1e9-4671-b948-2f2f3da38f68": {
     "id": "3372d07a-a1e9-4671-b948-2f2f3da38f68",
     "prev": "d945c0a9-9baf-4226-89ad-50b7a92b3201",
     "regions": {
      "052a0fd0-83d6-45da-9f8e-f9c441ab3400": {
       "attrs": {
        "height": 0.8,
        "width": 0.8,
        "x": 0.1,
        "y": 0.1
       },
       "content": {
        "cell": "0d673e7f-ffae-4935-ac04-e5e5ccc09ca3",
        "part": "whole"
       },
       "id": "052a0fd0-83d6-45da-9f8e-f9c441ab3400"
      }
     }
    },
    "37c35717-8390-4093-b8d2-a750509e799d": {
     "id": "37c35717-8390-4093-b8d2-a750509e799d",
     "prev": "15e6560e-fc86-42d6-8d2b-e801f1ff1fae",
     "regions": {
      "3295e3a7-0f5c-499c-ab49-dd045ca197a5": {
       "attrs": {
        "height": 0.8,
        "width": 0.8,
        "x": 0.1,
        "y": 0.1
       },
       "content": {
        "cell": "7ee7384e-9fce-4c94-b13b-e099746b56ff",
        "part": "whole"
       },
       "id": "3295e3a7-0f5c-499c-ab49-dd045ca197a5"
      }
     }
    },
    "3f765318-8501-4af1-a7ff-dde77470ea72": {
     "id": "3f765318-8501-4af1-a7ff-dde77470ea72",
     "prev": "ca5df825-e51e-4a65-bbdc-83b6dbf2cafa",
     "regions": {
      "ccb5f970-3125-4711-a01c-26052ab23a62": {
       "attrs": {
        "height": 0.8,
        "width": 0.8,
        "x": 0.1,
        "y": 0.1
       },
       "content": {
        "cell": "150dcb52-ad8c-4574-b4f7-19a1eeeadbea",
        "part": "whole"
       },
       "id": "ccb5f970-3125-4711-a01c-26052ab23a62"
      }
     }
    },
    "4606d0d2-5923-4d17-88b4-306e8aea64e2": {
     "id": "4606d0d2-5923-4d17-88b4-306e8aea64e2",
     "prev": "bf5c33e3-6c2f-43f3-bcc7-981d21d965b9",
     "regions": {
      "e703992a-fbcd-421a-a0c9-3994a78ee1b4": {
       "attrs": {
        "height": 0.8,
        "width": 0.8,
        "x": 0.1,
        "y": 0.1
       },
       "content": {
        "cell": "ebac72df-c569-4d2c-b892-d80250610168",
        "part": "whole"
       },
       "id": "e703992a-fbcd-421a-a0c9-3994a78ee1b4"
      }
     }
    },
    "51afe7e0-7b83-473d-9b18-4f48c421b1cf": {
     "id": "51afe7e0-7b83-473d-9b18-4f48c421b1cf",
     "prev": "671315cb-3d91-4392-93aa-639702d0109b",
     "regions": {
      "e2c297d2-d96b-4c73-93f2-9be3c5a1a90b": {
       "attrs": {
        "height": 0.8,
        "width": 0.8,
        "x": 0.1,
        "y": 0.1
       },
       "content": {
        "cell": "fc69f00d-423c-489e-935c-51b24b8043a7",
        "part": "whole"
       },
       "id": "e2c297d2-d96b-4c73-93f2-9be3c5a1a90b"
      }
     }
    },
    "55376c9d-9485-4a54-a9b4-4dbfa56ec523": {
     "id": "55376c9d-9485-4a54-a9b4-4dbfa56ec523",
     "prev": "8500b446-d555-4c61-8ad1-7f4a90e06cf6",
     "regions": {
      "4893e8f3-7097-4125-82e4-664dd711dd34": {
       "attrs": {
        "height": 0.8,
        "width": 0.8,
        "x": 0.1,
        "y": 0.1
       },
       "content": {
        "cell": "ce1a26c1-03ef-4336-bc7f-9f2f8de766f2",
        "part": "whole"
       },
       "id": "4893e8f3-7097-4125-82e4-664dd711dd34"
      }
     }
    },
    "595fa934-16f8-48d2-97a1-eb6006033db0": {
     "id": "595fa934-16f8-48d2-97a1-eb6006033db0",
     "prev": "23b72194-76de-49ab-ba67-c0a9b3eb35f8",
     "regions": {
      "306ffe51-b27f-468d-ab7f-139ec01e12fd": {
       "attrs": {
        "height": 0.8,
        "width": 0.8,
        "x": 0.1,
        "y": 0.1
       },
       "content": {
        "cell": "dbe95e45-86d0-47d6-8b6f-cccea3cb5c5d",
        "part": "whole"
       },
       "id": "306ffe51-b27f-468d-ab7f-139ec01e12fd"
      }
     }
    },
    "66249927-b4b0-4892-85a9-765bfe2f7be0": {
     "id": "66249927-b4b0-4892-85a9-765bfe2f7be0",
     "prev": "0ef8a84d-fe9e-4c44-9fc2-93dcd8ecba8f",
     "regions": {
      "d59f1caa-6a37-4dd5-8cd3-0ec1b95d012c": {
       "attrs": {
        "height": 0.8,
        "width": 0.8,
        "x": 0.1,
        "y": 0.1
       },
       "content": {
        "cell": "b495330b-fe36-4497-b05a-a3dbd61279d7",
        "part": "whole"
       },
       "id": "d59f1caa-6a37-4dd5-8cd3-0ec1b95d012c"
      }
     }
    },
    "671315cb-3d91-4392-93aa-639702d0109b": {
     "id": "671315cb-3d91-4392-93aa-639702d0109b",
     "prev": "32c071ce-8f40-4b04-8542-cfa6b53a49a5",
     "regions": {
      "6f767966-6de9-429b-afb1-ffd2c193a98a": {
       "attrs": {
        "height": 0.8,
        "width": 0.8,
        "x": 0.1,
        "y": 0.1
       },
       "content": {
        "cell": "093db12c-4686-47d4-a99e-71e29e025cb5",
        "part": "whole"
       },
       "id": "6f767966-6de9-429b-afb1-ffd2c193a98a"
      }
     }
    },
    "8500b446-d555-4c61-8ad1-7f4a90e06cf6": {
     "id": "8500b446-d555-4c61-8ad1-7f4a90e06cf6",
     "prev": "ef0cbc18-7f71-4887-b73d-b820e1434baa",
     "regions": {
      "1483e174-18e3-42ee-8986-74e7cdf31edc": {
       "attrs": {
        "height": 0.8,
        "width": 0.8,
        "x": 0.1,
        "y": 0.1
       },
       "content": {
        "cell": "7170a57d-f4e0-46de-98b7-617b74f7a704",
        "part": "whole"
       },
       "id": "1483e174-18e3-42ee-8986-74e7cdf31edc"
      }
     }
    },
    "a80e7f5c-fec4-48a7-bc24-625bdb4662c4": {
     "id": "a80e7f5c-fec4-48a7-bc24-625bdb4662c4",
     "prev": null,
     "regions": {
      "80a18fd3-72b9-44c7-af77-0600bbf5b028": {
       "attrs": {
        "height": 0.8,
        "width": 0.8,
        "x": 0.1,
        "y": 0.1
       },
       "content": {
        "cell": "64da71f0-afd1-4e6e-9a5b-6b059c9427b0",
        "part": "whole"
       },
       "id": "80a18fd3-72b9-44c7-af77-0600bbf5b028"
      }
     }
    },
    "b768d330-3a61-490e-ad38-189cad661e74": {
     "id": "b768d330-3a61-490e-ad38-189cad661e74",
     "prev": "2f591fe2-56f8-45e3-95d0-8855415b81c9",
     "regions": {
      "cbd5be41-2296-4316-9e5e-ea258deb71e8": {
       "attrs": {
        "height": 0.8,
        "width": 0.8,
        "x": 0.1,
        "y": 0.1
       },
       "content": {
        "cell": "8188aab7-989c-4ca6-a32a-484ce28f836d",
        "part": "whole"
       },
       "id": "cbd5be41-2296-4316-9e5e-ea258deb71e8"
      }
     }
    },
    "bf5c33e3-6c2f-43f3-bcc7-981d21d965b9": {
     "id": "bf5c33e3-6c2f-43f3-bcc7-981d21d965b9",
     "prev": "37c35717-8390-4093-b8d2-a750509e799d",
     "regions": {
      "27b5188a-ced0-4db8-90ed-28132a7f3bbb": {
       "attrs": {
        "height": 0.8,
        "width": 0.8,
        "x": 0.1,
        "y": 0.1
       },
       "content": {
        "cell": "478733f9-1c2d-4fe5-9b4c-b87bf6739717",
        "part": "whole"
       },
       "id": "27b5188a-ced0-4db8-90ed-28132a7f3bbb"
      }
     }
    },
    "c0a39b58-d978-4e0b-984d-58a36eb4571e": {
     "id": "c0a39b58-d978-4e0b-984d-58a36eb4571e",
     "prev": "3f765318-8501-4af1-a7ff-dde77470ea72",
     "regions": {
      "739ed249-b04a-44f7-bdb3-392b8fc72b11": {
       "attrs": {
        "height": 0.8,
        "width": 0.8,
        "x": 0.1,
        "y": 0.1
       },
       "content": {
        "cell": "07a273dc-9b6a-484a-91a9-28ef72e225e1",
        "part": "whole"
       },
       "id": "739ed249-b04a-44f7-bdb3-392b8fc72b11"
      }
     }
    },
    "c27675f5-a873-4ee1-b152-37376cf2ee81": {
     "id": "c27675f5-a873-4ee1-b152-37376cf2ee81",
     "prev": "b768d330-3a61-490e-ad38-189cad661e74",
     "regions": {
      "00d13076-e0a9-4079-9952-c27d855ed8ba": {
       "attrs": {
        "height": 0.8,
        "width": 0.8,
        "x": 0.1,
        "y": 0.1
       },
       "content": {
        "cell": "88117b20-da37-4a5a-b6ca-7eee1b795549",
        "part": "whole"
       },
       "id": "00d13076-e0a9-4079-9952-c27d855ed8ba"
      }
     }
    },
    "ca5df825-e51e-4a65-bbdc-83b6dbf2cafa": {
     "id": "ca5df825-e51e-4a65-bbdc-83b6dbf2cafa",
     "prev": "a80e7f5c-fec4-48a7-bc24-625bdb4662c4",
     "regions": {
      "13c0dec1-1ad0-4370-aed5-732f5bfd56cd": {
       "attrs": {
        "height": 0.8,
        "width": 0.8,
        "x": 0.1,
        "y": 0.1
       },
       "content": {
        "cell": "5e90088d-4b9f-45df-8274-ea25a2a125d0",
        "part": "whole"
       },
       "id": "13c0dec1-1ad0-4370-aed5-732f5bfd56cd"
      }
     }
    },
    "d666d08c-12bc-4736-b7b5-1f5ba7bba4fc": {
     "id": "d666d08c-12bc-4736-b7b5-1f5ba7bba4fc",
     "prev": "55376c9d-9485-4a54-a9b4-4dbfa56ec523",
     "regions": {
      "8464bac4-2632-4b17-b1cf-561c5bc13df1": {
       "attrs": {
        "height": 0.8,
        "width": 0.8,
        "x": 0.1,
        "y": 0.1
       },
       "content": {
        "cell": "c94e4722-3f6d-4e1a-8c8c-b6382c035029",
        "part": "whole"
       },
       "id": "8464bac4-2632-4b17-b1cf-561c5bc13df1"
      }
     }
    },
    "d945c0a9-9baf-4226-89ad-50b7a92b3201": {
     "id": "d945c0a9-9baf-4226-89ad-50b7a92b3201",
     "prev": "4606d0d2-5923-4d17-88b4-306e8aea64e2",
     "regions": {
      "fc33cf1e-4e7a-4c86-82bd-1bba73eca8cf": {
       "attrs": {
        "height": 0.8,
        "width": 0.8,
        "x": 0.1,
        "y": 0.1
       },
       "content": {
        "cell": "c8e20666-9b02-431f-b033-6a6d90da12da",
        "part": "whole"
       },
       "id": "fc33cf1e-4e7a-4c86-82bd-1bba73eca8cf"
      }
     }
    },
    "df26f4a6-9d3c-440e-90eb-4da725a233da": {
     "id": "df26f4a6-9d3c-440e-90eb-4da725a233da",
     "prev": "1b12f2ea-9469-4fbd-99a7-30ba4bc7bddc",
     "regions": {
      "dd6ead09-c0dd-436c-87f0-b31397899d13": {
       "attrs": {
        "height": 0.8,
        "width": 0.8,
        "x": 0.1,
        "y": 0.1
       },
       "content": {
        "cell": "33d1e9b5-2ab8-4f1f-becd-9077be67cf2c",
        "part": "whole"
       },
       "id": "dd6ead09-c0dd-436c-87f0-b31397899d13"
      }
     }
    },
    "e68a00f3-2448-4216-a2ea-bd687139eae5": {
     "id": "e68a00f3-2448-4216-a2ea-bd687139eae5",
     "prev": "df26f4a6-9d3c-440e-90eb-4da725a233da",
     "regions": {
      "4b3e68e9-f8d9-4b9a-b77a-3c403170160b": {
       "attrs": {
        "height": 0.8,
        "width": 0.8,
        "x": 0.1,
        "y": 0.1
       },
       "content": {
        "cell": "db4b917d-436a-4468-a9ea-dc19bd38ca37",
        "part": "whole"
       },
       "id": "4b3e68e9-f8d9-4b9a-b77a-3c403170160b"
      }
     }
    },
    "ef0cbc18-7f71-4887-b73d-b820e1434baa": {
     "id": "ef0cbc18-7f71-4887-b73d-b820e1434baa",
     "prev": "1069334a-45af-4844-b653-17cb1f10b2fe",
     "regions": {
      "b14e03e7-3062-48cd-9ddd-db7ac9be7134": {
       "attrs": {
        "height": 0.8,
        "width": 0.8,
        "x": 0.1,
        "y": 0.1
       },
       "content": {
        "cell": "591a12f9-4b62-4b51-8365-6a8b949bc969",
        "part": "whole"
       },
       "id": "b14e03e7-3062-48cd-9ddd-db7ac9be7134"
      }
     }
    }
   },
   "themes": {
    "default": "b0c887f5-2cc7-4389-b9be-1b10cbea7cdb",
    "theme": {
     "b0c887f5-2cc7-4389-b9be-1b10cbea7cdb": {
      "id": "b0c887f5-2cc7-4389-b9be-1b10cbea7cdb",
      "palette": {
       "19cc588f-0593-49c9-9f4b-e4d7cc113b1c": {
        "id": "19cc588f-0593-49c9-9f4b-e4d7cc113b1c",
        "rgb": [
         252,
         252,
         252
        ]
       },
       "31af15d2-7e15-44c5-ab5e-e04b16a89eff": {
        "id": "31af15d2-7e15-44c5-ab5e-e04b16a89eff",
        "rgb": [
         68,
         68,
         68
        ]
       },
       "50f92c45-a630-455b-aec3-788680ec7410": {
        "id": "50f92c45-a630-455b-aec3-788680ec7410",
        "rgb": [
         155,
         177,
         192
        ]
       },
       "c5cc3653-2ee1-402a-aba2-7caae1da4f6c": {
        "id": "c5cc3653-2ee1-402a-aba2-7caae1da4f6c",
        "rgb": [
         43,
         126,
         184
        ]
       },
       "efa7f048-9acb-414c-8b04-a26811511a21": {
        "id": "efa7f048-9acb-414c-8b04-a26811511a21",
        "rgb": [
         25.118061674008803,
         73.60176211453744,
         107.4819383259912
        ]
       }
      },
      "rules": {
       "blockquote": {
        "color": "50f92c45-a630-455b-aec3-788680ec7410"
       },
       "code": {
        "font-family": "Anonymous Pro"
       },
       "h1": {
        "color": "c5cc3653-2ee1-402a-aba2-7caae1da4f6c",
        "font-family": "Lato",
        "font-size": 8
       },
       "h2": {
        "color": "c5cc3653-2ee1-402a-aba2-7caae1da4f6c",
        "font-family": "Lato",
        "font-size": 6
       },
       "h3": {
        "color": "50f92c45-a630-455b-aec3-788680ec7410",
        "font-family": "Lato",
        "font-size": 5.5
       },
       "h4": {
        "color": "c5cc3653-2ee1-402a-aba2-7caae1da4f6c",
        "font-family": "Lato",
        "font-size": 5
       },
       "h5": {
        "font-family": "Lato"
       },
       "h6": {
        "font-family": "Lato"
       },
       "h7": {
        "font-family": "Lato"
       },
       "pre": {
        "font-family": "Anonymous Pro",
        "font-size": 4
       }
      },
      "text-base": {
       "font-family": "Merriweather",
       "font-size": 4
      }
     }
    }
   }
  }
 },
 "nbformat": 4,
 "nbformat_minor": 1
}
