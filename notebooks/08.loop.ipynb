{
 "cells": [
  {
   "cell_type": "markdown",
   "metadata": {
    "nbpresent": {
     "id": "5f59d39e-2811-4391-8b94-2dc1ecbaa5e7"
    }
   },
   "source": [
    "# 8. More About Iteration"
   ]
  },
  {
   "cell_type": "markdown",
   "metadata": {
    "nbpresent": {
     "id": "e6d6b589-b4ed-4360-b657-b55e0a0f496a"
    }
   },
   "source": [
    "- Computers are often used to automate repetitive tasks. \n",
    "\n",
    "- Repeated execution of a sequence of statements is called **iteration**.\n",
    "\n",
    "- `for` and `while` statement"
   ]
  },
  {
   "cell_type": "markdown",
   "metadata": {
    "nbpresent": {
     "id": "03f1d573-975a-4314-9bbd-03d71a837b99"
    }
   },
   "source": [
    "## The for loop revisited\n",
    "\n",
    "```python\n",
    "for f in [\"Joe\", \"Amy\", \"Brad\", \"Angelina\"]:\n",
    "    print(\"Hi\", f, \"Please come to my party on Saturday\")\n",
    "```"
   ]
  },
  {
   "cell_type": "code",
   "execution_count": null,
   "metadata": {
    "collapsed": false,
    "nbpresent": {
     "id": "820d3cef-696e-4f5e-b467-d043ae779f52"
    }
   },
   "outputs": [],
   "source": [
    "def sumTo(aBound):\n",
    "    theSum = 0\n",
    "    for aNumber in range(1, aBound + 1):\n",
    "        theSum = theSum + aNumber\n",
    "\n",
    "    return theSum\n",
    "\n",
    "print(sumTo(4))\n",
    "\n",
    "print(sumTo(1000))"
   ]
  },
  {
   "cell_type": "code",
   "execution_count": null,
   "metadata": {
    "collapsed": false,
    "nbpresent": {
     "id": "106413eb-7f93-4033-9650-3ddadd50cc5e"
    }
   },
   "outputs": [],
   "source": [
    "print(sum(range(4+1)))\n",
    "\n",
    "print(sum(range(1000+1)))"
   ]
  },
  {
   "cell_type": "markdown",
   "metadata": {
    "nbpresent": {
     "id": "0321b8e4-8e2f-4bc0-861a-765d283696f8"
    }
   },
   "source": [
    "## The `while` Statement\n",
    "\n",
    "<img src=\"http://sei.pku.edu.cn/~caodg/course/ic/notebooks/images/while.svg\" width=400>"
   ]
  },
  {
   "cell_type": "code",
   "execution_count": null,
   "metadata": {
    "collapsed": true,
    "nbpresent": {
     "id": "f67ec665-6c35-41d8-be16-bb2935db0162"
    }
   },
   "outputs": [],
   "source": [
    "def sumTo(aBound):\n",
    "    \"\"\" Return the sum of 1+2+3 ... n \"\"\"\n",
    "    theSum  = 0\n",
    "    aNumber = 1\n",
    "    while aNumber <= aBound:\n",
    "        theSum = theSum + aNumber\n",
    "        aNumber = aNumber + 1\n",
    "    return theSum\n",
    "\n",
    "print(sumTo(4))\n",
    "print(sumTo(1000))"
   ]
  },
  {
   "cell_type": "code",
   "execution_count": 2,
   "metadata": {
    "collapsed": false,
    "nbpresent": {
     "id": "d4d92a6b-8ed4-4463-9afa-2700407a42b4"
    }
   },
   "outputs": [
    {
     "data": {
      "text/html": [
       "\n",
       "        <iframe\n",
       "            width=\"100%\"\n",
       "            height=\"450\"\n",
       "            src=\"http://pythontutor.com/iframe-embed.html#code=def%20sumTo(aBound%29%3A%0A%20%20%20%20%22%22%22%20Return%20the%20sum%20of%201%2B2%2B3%20...%20n%20%22%22%22%0A%0A%20%20%20%20theSum%20%20%3D%200%0A%20%20%20%20aNumber%20%3D%201%0A%20%20%20%20while%20aNumber%20%3C%3D%20aBound%3A%0A%20%20%20%20%20%20%20%20theSum%20%3D%20theSum%20%2B%20aNumber%0A%20%20%20%20%20%20%20%20aNumber%20%3D%20aNumber%20%2B%201%0A%20%20%20%20return%20theSum%0A%0Aprint(sumTo(4%29%29%0A%0Aprint(sumTo(100%29%29&codeDivHeight=400&codeDivWidth=350&cumulative=false&curInstr=0&heapPrimitives=false&origin=opt-frontend.js&py=3&rawInputLstJSON=%5B%5D&textReferences=false\"\n",
       "            frameborder=\"0\"\n",
       "            allowfullscreen\n",
       "        ></iframe>\n",
       "        "
      ],
      "text/plain": [
       "<IPython.lib.display.IFrame at 0x106a7abe0>"
      ]
     },
     "execution_count": 2,
     "metadata": {},
     "output_type": "execute_result"
    }
   ],
   "source": [
    "from IPython.display import IFrame\n",
    "IFrame('http://pythontutor.com/iframe-embed.html#code=def%20sumTo(aBound%29%3A%0A%20%20%20%20%22%22%22%20Return%20the%20sum%20of%201%2B2%2B3%20...%20n%20%22%22%22%0A%0A%20%20%20%20theSum%20%20%3D%200%0A%20%20%20%20aNumber%20%3D%201%0A%20%20%20%20while%20aNumber%20%3C%3D%20aBound%3A%0A%20%20%20%20%20%20%20%20theSum%20%3D%20theSum%20%2B%20aNumber%0A%20%20%20%20%20%20%20%20aNumber%20%3D%20aNumber%20%2B%201%0A%20%20%20%20return%20theSum%0A%0Aprint(sumTo(4%29%29%0A%0Aprint(sumTo(100%29%29&codeDivHeight=400&codeDivWidth=350&cumulative=false&curInstr=0&heapPrimitives=false&origin=opt-frontend.js&py=3&rawInputLstJSON=%5B%5D&textReferences=false', width='100%', height=450)"
   ]
  },
  {
   "cell_type": "markdown",
   "metadata": {
    "nbpresent": {
     "id": "77885e9e-f2ad-4253-8f6e-6476a6df8932"
    }
   },
   "source": [
    "** Definite iteration vs Indefinite iteration **\n",
    "\n",
    "**Definite iteration**\n",
    "\n",
    "Usually a for loop creates a definite iteration because we definitely know how many times we are going to iterate. \n",
    "\n",
    "**Indefinite iteration**\n",
    "\n",
    "The while statement is dependent on a condition that needs to evaluate to False in order for the loop to terminate. Since we do not necessarily know when this will happen, it creates what we call indefinite iteration."
   ]
  },
  {
   "cell_type": "markdown",
   "metadata": {
    "nbpresent": {
     "id": "277f696a-16b0-42db-9a12-b21e5cfb4c26"
    }
   },
   "source": [
    "** Exercise **\n",
    "```\n",
    "True or False: You can rewrite any for-loop as a while-loop.\n",
    "(A) True\n",
    "(B) False\n",
    "```"
   ]
  },
  {
   "cell_type": "markdown",
   "metadata": {
    "nbpresent": {
     "id": "ece6d925-6e27-4176-97fe-b38e21ab03f6"
    }
   },
   "source": [
    "## Randomly Walking Turtles\n",
    "\n",
    "A walking turtle and program to behave in the following way:\n",
    "\n",
    "- The turtle begins in the center of the screen.\n",
    "- Flip a coin. If its heads then turn to the left 90 degrees. If its tails then turn to the right 90 degrees.\n",
    "- Take 50 steps forward.\n",
    "- If the turtle has moved outside the screen then stop, otherwise go back to step 2 and repeat.\n"
   ]
  },
  {
   "cell_type": "markdown",
   "metadata": {
    "nbpresent": {
     "id": "f1ccda5a-0b8d-4309-bf74-a14dbe7eb763"
    }
   },
   "source": [
    "```python\n",
    "create a window and a turtle\n",
    "\n",
    "while the turtle is still in the window:\n",
    "    generate a random number between 0 and 1\n",
    "    if the number == 0 (heads):\n",
    "        turn left\n",
    "    else:\n",
    "        turn right\n",
    "    move the turtle forward 50\n",
    "```"
   ]
  },
  {
   "cell_type": "code",
   "execution_count": null,
   "metadata": {
    "collapsed": false,
    "nbpresent": {
     "id": "5f4b0c2c-a22a-43a8-8233-357122c2bf87"
    }
   },
   "outputs": [],
   "source": [
    "import random\n",
    "import turtle\n",
    "\n",
    "def isInScreen(w, t):\n",
    "    return True\n",
    "\n",
    "t = turtle.Turtle()\n",
    "wn = turtle.Screen()\n",
    "\n",
    "while isInScreen(wn, t):\n",
    "    if (random.randrange(0, 2) == 0):\n",
    "        t.left(90)\n",
    "    else:          # tails\n",
    "        t.right(90)\n",
    "    t.forward(50)"
   ]
  },
  {
   "cell_type": "markdown",
   "metadata": {
    "nbpresent": {
     "id": "37608e0c-ec28-481a-870c-f0aad3207fc8"
    }
   },
   "source": [
    "** Exercise **\n",
    "\n",
    "```\n",
    "Which type of loop can be used to perform the following iteration: You choose a positive integer at random and then print the numbers from 1 up to and including the selected integer.\n",
    "(A) a for-loop or a while-loop\n",
    "(B) only a for-loop\n",
    "(C) only a while-loop\n",
    "```"
   ]
  },
  {
   "cell_type": "markdown",
   "metadata": {
    "nbpresent": {
     "id": "bbed77dd-6b28-4f43-b685-603d3facc598"
    }
   },
   "source": [
    "## The `3n + 1` Sequence\n",
    "\n",
    "** The Collatz conjecture**\n",
    "\n",
    "$$\n",
    "f(n) =\n",
    "\\begin{cases}\n",
    "n/2,  & \\text{if $n$ is even} \\\\\n",
    "3n+1, & \\text{if $n$ is odd}\n",
    "\\end{cases}\n",
    "$$\n",
    "\n",
    "$$\n",
    "a_{i}={\\begin{cases}n&{\\text{for }}i=0\\\\f(a_{i-1})&{\\text{for }}i>0\\end{cases}}\n",
    "$$\n",
    "\n",
    "This process will eventually reach the number 1, regardless of which positive integer is chosen initially."
   ]
  },
  {
   "cell_type": "code",
   "execution_count": null,
   "metadata": {
    "collapsed": false,
    "nbpresent": {
     "id": "eea2f27a-2b37-42fa-99fb-41c13f336b8e"
    },
    "scrolled": false
   },
   "outputs": [],
   "source": [
    "def seq3np1(n):\n",
    "    \"\"\" Print the 3n+1 sequence from n, terminating when it reaches 1.\"\"\"\n",
    "    while n != 1:\n",
    "        print(n)\n",
    "        if n % 2 == 0:        # n is even\n",
    "            n = n // 2\n",
    "        else:                 # n is odd\n",
    "            n = n * 3 + 1\n",
    "    print(n)                  # the last print is 1\n",
    "\n",
    "seq3np1(99887766)"
   ]
  },
  {
   "cell_type": "markdown",
   "metadata": {
    "nbpresent": {
     "id": "ad710f09-fbe2-4ae2-abc4-8887efcae699"
    }
   },
   "source": [
    "## Newton’s Method: computing square roots\n",
    "\n",
    "$$f(x)=x^2 - a$$\n",
    "\n",
    "$$\n",
    "x:f(x)=0\n",
    "$$\n",
    "\n",
    "\\begin{align}\n",
    "x_{1} & = x_{0}-{\\frac {f(x_{0})}{f'(x_{0})}} \\\\\n",
    "      & = \\frac{x_0}{2}+\\frac{a}{2x_0}\n",
    "\\end{align}"
   ]
  },
  {
   "cell_type": "code",
   "execution_count": null,
   "metadata": {
    "collapsed": false,
    "nbpresent": {
     "id": "f4c5d362-c0fa-4efe-9d8b-9f66a3375c44"
    }
   },
   "outputs": [],
   "source": [
    "def newtonSqrt(n, howmany):\n",
    "    approx = 0.5 * n\n",
    "    for i in range(howmany):\n",
    "        betterapprox = 0.5 * (approx + n/approx)\n",
    "        approx = betterapprox\n",
    "    return betterapprox\n",
    "\n",
    "print(10**0.5)\n",
    "print(newtonSqrt(10, 3))\n",
    "print(newtonSqrt(10, 5))\n",
    "print(newtonSqrt(10, 10))\n"
   ]
  },
  {
   "cell_type": "code",
   "execution_count": null,
   "metadata": {
    "collapsed": false,
    "nbpresent": {
     "id": "8fd72e0d-2c6f-49e3-a502-ee026d8b1645"
    }
   },
   "outputs": [],
   "source": [
    "def newtonSqrt(n):\n",
    "    approx = 0.5 * n\n",
    "    better = 0.5 * (approx + n/approx)\n",
    "    while better != approx:\n",
    "        approx = better\n",
    "        better = 0.5 * (approx + n/approx)\n",
    "    return approx\n",
    "\n",
    "print(newtonSqrt(10))"
   ]
  },
  {
   "cell_type": "code",
   "execution_count": 3,
   "metadata": {
    "collapsed": false,
    "nbpresent": {
     "id": "e2a8970f-6f06-4074-aceb-e116c36e3f6f"
    }
   },
   "outputs": [
    {
     "data": {
      "text/html": [
       "\n",
       "        <iframe\n",
       "            width=\"100%\"\n",
       "            height=\"400\"\n",
       "            src=\"http://pythontutor.com/iframe-embed.html#code=def%20newtonSqrt(n%29%3A%0A%20%20%20%20approx%20%3D%200.5%20*%20n%0A%20%20%20%20better%20%3D%200.5%20*%20(approx%20%2B%20n/approx%29%0A%20%20%20%20while%20better%20!%3D%20approx%3A%0A%20%20%20%20%20%20%20%20approx%20%3D%20better%0A%20%20%20%20%20%20%20%20better%20%3D%200.5%20*%20(approx%20%2B%20n/approx%29%0A%20%20%20%20return%20approx%0A%0Aprint(newtonSqrt(10%29%29&codeDivHeight=400&codeDivWidth=350&cumulative=false&curInstr=0&heapPrimitives=false&origin=opt-frontend.js&py=3&rawInputLstJSON=%5B%5D&textReferences=false\"\n",
       "            frameborder=\"0\"\n",
       "            allowfullscreen\n",
       "        ></iframe>\n",
       "        "
      ],
      "text/plain": [
       "<IPython.lib.display.IFrame at 0x106a98160>"
      ]
     },
     "execution_count": 3,
     "metadata": {},
     "output_type": "execute_result"
    }
   ],
   "source": [
    "from IPython.display import IFrame\n",
    "IFrame('http://pythontutor.com/iframe-embed.html#code=def%20newtonSqrt(n%29%3A%0A%20%20%20%20approx%20%3D%200.5%20*%20n%0A%20%20%20%20better%20%3D%200.5%20*%20(approx%20%2B%20n/approx%29%0A%20%20%20%20while%20better%20!%3D%20approx%3A%0A%20%20%20%20%20%20%20%20approx%20%3D%20better%0A%20%20%20%20%20%20%20%20better%20%3D%200.5%20*%20(approx%20%2B%20n/approx%29%0A%20%20%20%20return%20approx%0A%0Aprint(newtonSqrt(10%29%29&codeDivHeight=400&codeDivWidth=350&cumulative=false&curInstr=0&heapPrimitives=false&origin=opt-frontend.js&py=3&rawInputLstJSON=%5B%5D&textReferences=false', width='100%', height=400)"
   ]
  },
  {
   "cell_type": "markdown",
   "metadata": {
    "nbpresent": {
     "id": "017b191a-abd1-4593-bab5-54282a0cf4ec"
    }
   },
   "source": [
    "**floating point numbers comparition**\n",
    "\n",
    "```python\n",
    "while better != approx:\n",
    "```\n",
    "\n",
    "how to improve?"
   ]
  },
  {
   "cell_type": "markdown",
   "metadata": {
    "nbpresent": {
     "id": "9532ee04-e172-4672-9d5d-21c1292df733"
    }
   },
   "source": [
    "## Simple Tables"
   ]
  },
  {
   "cell_type": "code",
   "execution_count": null,
   "metadata": {
    "collapsed": false,
    "nbpresent": {
     "id": "a0c6d05e-6a15-4b3c-b22e-86c17a77928b"
    }
   },
   "outputs": [],
   "source": [
    "print(\"n\", '\\t', \"2**n\")     #table column headings\n",
    "print(\"---\", '\\t', \"-----\")\n",
    "\n",
    "for x in range(13):        # generate values for columns\n",
    "    print(x, '\\t', 2 ** x)"
   ]
  },
  {
   "cell_type": "markdown",
   "metadata": {
    "nbpresent": {
     "id": "437db60c-5924-47fa-af95-d556092bab92"
    }
   },
   "source": [
    "** Exercise **\n",
    "\n",
    "```\n",
    "What is the difference between a tab ('\\t') and a sequence of spaces?\n",
    "(A) A tab will line up items in a second column, regardless of how many characters were in the first column, while spaces will not.\n",
    "(B) There is no difference\n",
    "(C) A tab is wider than a sequence of spaces\n",
    "(D) You must use tabs for creating tables. You cannot use spaces.\n",
    "```"
   ]
  },
  {
   "cell_type": "markdown",
   "metadata": {
    "nbpresent": {
     "id": "6e601226-a0c6-4142-b912-c2f3255ae0a2"
    }
   },
   "source": [
    "## Nested Iteration"
   ]
  },
  {
   "cell_type": "code",
   "execution_count": null,
   "metadata": {
    "collapsed": false,
    "nbpresent": {
     "id": "ee676545-84b3-495c-abb5-c48660a8dae6"
    }
   },
   "outputs": [],
   "source": [
    "for i in range(5):\n",
    "    for j in range(3):\n",
    "        print(i, j)"
   ]
  },
  {
   "cell_type": "code",
   "execution_count": 4,
   "metadata": {
    "collapsed": false,
    "nbpresent": {
     "id": "cc8a586e-e815-4a48-bf12-205ce26ef914"
    }
   },
   "outputs": [
    {
     "data": {
      "text/html": [
       "\n",
       "        <iframe\n",
       "            width=\"100%\"\n",
       "            height=\"400\"\n",
       "            src=\"http://pythontutor.com/iframe-embed.html#code=for%20i%20in%20range(5%29%3A%0A%20%20%20%20for%20j%20in%20range(3%29%3A%0A%20%20%20%20%20%20%20%20print(i,%20j%29&codeDivHeight=400&codeDivWidth=350&cumulative=false&curInstr=0&heapPrimitives=false&origin=opt-frontend.js&py=3&rawInputLstJSON=%5B%5D&textReferences=false\"\n",
       "            frameborder=\"0\"\n",
       "            allowfullscreen\n",
       "        ></iframe>\n",
       "        "
      ],
      "text/plain": [
       "<IPython.lib.display.IFrame at 0x106a98240>"
      ]
     },
     "execution_count": 4,
     "metadata": {},
     "output_type": "execute_result"
    }
   ],
   "source": [
    "from IPython.display import IFrame\n",
    "IFrame('http://pythontutor.com/iframe-embed.html#code=for%20i%20in%20range(5%29%3A%0A%20%20%20%20for%20j%20in%20range(3%29%3A%0A%20%20%20%20%20%20%20%20print(i,%20j%29&codeDivHeight=400&codeDivWidth=350&cumulative=false&curInstr=0&heapPrimitives=false&origin=opt-frontend.js&py=3&rawInputLstJSON=%5B%5D&textReferences=false', width='100%', height=400)"
   ]
  },
  {
   "cell_type": "markdown",
   "metadata": {
    "nbpresent": {
     "id": "8a59670d-c99a-46df-8408-0ed242295c3a"
    }
   },
   "source": [
    "## the `break ` statement\n",
    "\n",
    "The **break** statement is used to immediately leave the body of its loop. \n",
    "\n",
    "The next statement to be executed is the first one after the body."
   ]
  },
  {
   "cell_type": "code",
   "execution_count": null,
   "metadata": {
    "collapsed": false,
    "nbpresent": {
     "id": "813c4a4b-84b8-4d5f-b7f1-fd65bc5a965b"
    }
   },
   "outputs": [],
   "source": [
    "for i in [12, 16, 17, 24, 29]:\n",
    "    if i % 2 == 1:  # If the number is odd\n",
    "       break        #  ... immediately exit the loop\n",
    "    print(i)\n",
    "print(\"done\")"
   ]
  },
  {
   "cell_type": "markdown",
   "metadata": {
    "nbpresent": {
     "id": "97c9d207-0ba4-47d9-990d-903c136c7b9a"
    }
   },
   "source": [
    "** middle-test loop **\n",
    "\n",
    "<img src=\"http://sei.pku.edu.cn/~caodg/course/ic/notebooks/images/break.svg\" width=400>"
   ]
  },
  {
   "cell_type": "code",
   "execution_count": null,
   "metadata": {
    "collapsed": false,
    "nbpresent": {
     "id": "4195253b-4bf6-4e73-913e-a69bbf59953d"
    }
   },
   "outputs": [],
   "source": [
    "total = 0\n",
    "while True:\n",
    "    response = input(\"Enter the next number. (Leave blank to end)\")\n",
    "    if response == \"\":\n",
    "        break\n",
    "    total += int(response)\n",
    "print(\"The total of the numbers you entered is \", total)"
   ]
  },
  {
   "cell_type": "markdown",
   "metadata": {
    "nbpresent": {
     "id": "4f3cd447-e8f4-4f10-89be-6464b3e3fa7d"
    }
   },
   "source": [
    "** post-test loop**\n",
    "\n",
    "```python\n",
    "while True:\n",
    "    play_the_game_once()\n",
    "    response = input(\"Play again? (yes or no)\")\n",
    "    if response != \"yes\":\n",
    "        break\n",
    "print(\"Goodbye!\")\n",
    "```"
   ]
  },
  {
   "cell_type": "code",
   "execution_count": null,
   "metadata": {
    "collapsed": false,
    "nbpresent": {
     "id": "b347883c-1a5d-4934-8e34-86637b38cfa0"
    }
   },
   "outputs": [],
   "source": [
    "import random                   # We cover random numbers in the\n",
    "rng = random.Random()           #  modules chapter, so peek ahead.\n",
    "number = rng.randrange(1, 1000) # Get random number between [1 and 1000).\n",
    "guesses = 0\n",
    "msg = \"\"\n",
    "while True:\n",
    "    guess = int(input(msg + \"\\nGuess my number between 1 and 1000: \"))\n",
    "    guesses += 1\n",
    "    if guess > number:\n",
    "        msg += str(guess) + \" is too high.\\n\"\n",
    "    elif guess < number:\n",
    "        msg += str(guess) + \" is too low.\\n\"\n",
    "    else:\n",
    "        break\n",
    "print(\"\\n\\nGreat, you got it in {0} guesses!\\n\\n\".format(guesses))"
   ]
  },
  {
   "cell_type": "markdown",
   "metadata": {
    "nbpresent": {
     "id": "434b667a-64bb-45e8-bb25-800938ab7fb4"
    }
   },
   "source": [
    "## The `continue` statement\n",
    "\n",
    "This is a control flow statement that causes the program to immediately skip the processing of the rest of the body of the loop, for the current iteration. \n",
    "\n",
    "**But** the loop still carries on running for its remaining iterations."
   ]
  },
  {
   "cell_type": "code",
   "execution_count": null,
   "metadata": {
    "collapsed": false,
    "nbpresent": {
     "id": "bf5e0193-e0c9-4ea8-b1b2-acc7f7271380"
    }
   },
   "outputs": [],
   "source": [
    "for i in [12, 16, 17, 24, 29, 30]:\n",
    "    if i % 2 == 1:      # If the number is odd\n",
    "       continue         # Don't process it\n",
    "    print(i)\n",
    "print(\"done\")"
   ]
  },
  {
   "cell_type": "markdown",
   "metadata": {
    "collapsed": true,
    "nbpresent": {
     "id": "708239dd-a1db-49a1-90e6-0dea74cca265"
    }
   },
   "source": [
    "## Glossary\n",
    "\n",
    "**algorithm**\n",
    "\n",
    "A step-by-step process for solving a category of problems.\n",
    "\n",
    "**body**\n",
    "\n",
    "The statements inside a loop.\n",
    "\n",
    "**counter**\n",
    "\n",
    "A variable used to count something, usually initialized to zero and incremented in the body of a loop.\n",
    "\n",
    "**cursor**\n",
    "\n",
    "An invisible marker that keeps track of where the next character will be printed.\n",
    "\n",
    "**definite iteration**\n",
    "\n",
    "A loop where we have an upper bound on the number of times the body will be executed. Definite iteration is usually best coded as a **for** loop.\n",
    "\n",
    "**escape sequence**\n",
    "\n",
    "An escape character, `\\\\`, followed by one or more printable characters used to designate a nonprintable character.\n",
    "\n",
    "**generalize**\n",
    "\n",
    "To replace something unnecessarily specific (like a constant value) with something appropriately general (like a variable or parameter). Generalization makes code more versatile, more likely to be reused, and sometimes even easier to write.\n",
    "\n",
    "**infinite loop**\n",
    "\n",
    "A loop in which the terminating condition is never satisfied.\n",
    "\n",
    "**indefinite iteration**\n",
    "\n",
    "A loop where we just need to keep going until some condition is met. A `while` statement is used for this case.\n",
    "\n",
    "**iteration**\n",
    "\n",
    "Repeated execution of a set of programming statements.\n",
    "\n",
    "**loop**\n",
    "\n",
    "A statement or group of statements that execute repeatedly until a terminating condition is satisfied.\n",
    "\n",
    "**loop variable**\n",
    "\n",
    "A variable used as part of the terminating condition of a loop.\n",
    "\n",
    "**nested loop\n",
    "A loop inside the body of another loop.\n",
    "newline\n",
    "A special character that causes the cursor to move to the beginning of the next line.\n",
    "reassignment\n",
    "Making more than one assignment to the same variable during the execution of a program.\n",
    "tab\n",
    "A special character that causes the cursor to move to the next tab stop on the current line."
   ]
  },
  {
   "cell_type": "code",
   "execution_count": null,
   "metadata": {
    "collapsed": true,
    "nbpresent": {
     "id": "6898d9c8-9fc0-4c61-a0a1-7121464db896"
    }
   },
   "outputs": [],
   "source": []
  }
 ],
 "metadata": {
  "anaconda-cloud": {},
  "kernelspec": {
   "display_name": "Python [default]",
   "language": "python",
   "name": "python3"
  },
  "language_info": {
   "codemirror_mode": {
    "name": "ipython",
    "version": 3
   },
   "file_extension": ".py",
   "mimetype": "text/x-python",
   "name": "python",
   "nbconvert_exporter": "python",
   "pygments_lexer": "ipython3",
   "version": "3.5.2"
  },
  "nbpresent": {
   "slides": {
    "00648834-40c5-448f-bdc2-0067eaeec02f": {
     "id": "00648834-40c5-448f-bdc2-0067eaeec02f",
     "prev": "1a7fc955-d554-4039-99c2-e0bbb0f2f02c",
     "regions": {
      "614bb002-2cf2-47cf-af18-b08a6e6df38f": {
       "attrs": {
        "height": 0.8,
        "width": 0.8,
        "x": 0.1,
        "y": 0.1
       },
       "content": {
        "cell": "277f696a-16b0-42db-9a12-b21e5cfb4c26",
        "part": "whole"
       },
       "id": "614bb002-2cf2-47cf-af18-b08a6e6df38f"
      }
     }
    },
    "04be15b5-579e-46e6-830f-0b5a28aff63c": {
     "id": "04be15b5-579e-46e6-830f-0b5a28aff63c",
     "prev": null,
     "regions": {
      "2885c5ee-301e-4bcf-91fa-03bc94b7ab0c": {
       "attrs": {
        "height": 0.8,
        "width": 0.8,
        "x": 0.1,
        "y": 0.1
       },
       "content": {
        "cell": "5f59d39e-2811-4391-8b94-2dc1ecbaa5e7",
        "part": "whole"
       },
       "id": "2885c5ee-301e-4bcf-91fa-03bc94b7ab0c"
      }
     }
    },
    "0569d44e-a551-40f6-a225-15ca30dee380": {
     "id": "0569d44e-a551-40f6-a225-15ca30dee380",
     "prev": "b2ab9931-0d16-48a7-bc38-57ff0271122b",
     "regions": {
      "fa0eda40-117f-478f-80bb-37a2904db8f3": {
       "attrs": {
        "height": 0.8,
        "width": 0.8,
        "x": 0.1,
        "y": 0.1
       },
       "content": {
        "cell": "cc8a586e-e815-4a48-bf12-205ce26ef914",
        "part": "whole"
       },
       "id": "fa0eda40-117f-478f-80bb-37a2904db8f3"
      }
     }
    },
    "0a024b16-00a2-4ffa-bdd1-9faf5c92ef68": {
     "id": "0a024b16-00a2-4ffa-bdd1-9faf5c92ef68",
     "prev": "cc3efad1-6c8e-4b3f-ad16-22fa93efe4bf",
     "regions": {
      "b0aee5e1-025e-4130-a8ef-a67256449b7e": {
       "attrs": {
        "height": 0.8,
        "width": 0.8,
        "x": 0.1,
        "y": 0.1
       },
       "content": {
        "cell": "8fd72e0d-2c6f-49e3-a502-ee026d8b1645",
        "part": "whole"
       },
       "id": "b0aee5e1-025e-4130-a8ef-a67256449b7e"
      }
     }
    },
    "0c85c068-12bd-4fbd-b33a-b883ed267fd7": {
     "id": "0c85c068-12bd-4fbd-b33a-b883ed267fd7",
     "prev": "2c5d2e7c-d7fc-459a-b8e8-9a548882fcc6",
     "regions": {
      "2c6a9555-a07e-4fb6-b5a3-0c25f9a27384": {
       "attrs": {
        "height": 0.8,
        "width": 0.8,
        "x": 0.1,
        "y": 0.1
       },
       "content": {
        "cell": "434b667a-64bb-45e8-bb25-800938ab7fb4",
        "part": "whole"
       },
       "id": "2c6a9555-a07e-4fb6-b5a3-0c25f9a27384"
      }
     }
    },
    "0df4464c-0269-4424-96b9-04d265c96518": {
     "id": "0df4464c-0269-4424-96b9-04d265c96518",
     "prev": "a6a987ec-72f7-4a34-bbbe-6db9710bde49",
     "regions": {
      "fe21d1c9-e24c-4cb8-93a7-15a873ddc502": {
       "attrs": {
        "height": 0.8,
        "width": 0.8,
        "x": 0.1,
        "y": 0.1
       },
       "content": {
        "cell": "6898d9c8-9fc0-4c61-a0a1-7121464db896",
        "part": "whole"
       },
       "id": "fe21d1c9-e24c-4cb8-93a7-15a873ddc502"
      }
     }
    },
    "13ac495f-27d0-42df-a4cf-a841767f4998": {
     "id": "13ac495f-27d0-42df-a4cf-a841767f4998",
     "prev": "0569d44e-a551-40f6-a225-15ca30dee380",
     "regions": {
      "ba77876f-8d1c-493d-a927-65bb5bb41ad5": {
       "attrs": {
        "height": 0.8,
        "width": 0.8,
        "x": 0.1,
        "y": 0.1
       },
       "content": {
        "cell": "8a59670d-c99a-46df-8408-0ed242295c3a",
        "part": "whole"
       },
       "id": "ba77876f-8d1c-493d-a927-65bb5bb41ad5"
      }
     }
    },
    "1a7fc955-d554-4039-99c2-e0bbb0f2f02c": {
     "id": "1a7fc955-d554-4039-99c2-e0bbb0f2f02c",
     "prev": "200b5a64-282c-4dc7-851f-acd81a19a4a5",
     "regions": {
      "9b6acaef-d564-4b6c-a4a2-5961c0d1c03e": {
       "attrs": {
        "height": 0.8,
        "width": 0.8,
        "x": 0.1,
        "y": 0.1
       },
       "content": {
        "cell": "77885e9e-f2ad-4253-8f6e-6476a6df8932",
        "part": "whole"
       },
       "id": "9b6acaef-d564-4b6c-a4a2-5961c0d1c03e"
      }
     }
    },
    "200b5a64-282c-4dc7-851f-acd81a19a4a5": {
     "id": "200b5a64-282c-4dc7-851f-acd81a19a4a5",
     "prev": "2aefe10a-173e-4e55-9ed8-8d26e8916e6f",
     "regions": {
      "4008977a-3a87-4d44-8f1f-e7bffaf5931d": {
       "attrs": {
        "height": 0.8,
        "width": 0.8,
        "x": 0.1,
        "y": 0.1
       },
       "content": {
        "cell": "d4d92a6b-8ed4-4463-9afa-2700407a42b4",
        "part": "whole"
       },
       "id": "4008977a-3a87-4d44-8f1f-e7bffaf5931d"
      }
     }
    },
    "2aefe10a-173e-4e55-9ed8-8d26e8916e6f": {
     "id": "2aefe10a-173e-4e55-9ed8-8d26e8916e6f",
     "prev": "2d70ec36-afc6-4bf2-81ef-2a8768363193",
     "regions": {
      "7451928b-c631-497b-a89e-d9a1c69ce21c": {
       "attrs": {
        "height": 0.8,
        "width": 0.8,
        "x": 0.1,
        "y": 0.1
       },
       "content": {
        "cell": "f67ec665-6c35-41d8-be16-bb2935db0162",
        "part": "whole"
       },
       "id": "7451928b-c631-497b-a89e-d9a1c69ce21c"
      }
     }
    },
    "2c5d2e7c-d7fc-459a-b8e8-9a548882fcc6": {
     "id": "2c5d2e7c-d7fc-459a-b8e8-9a548882fcc6",
     "prev": "48a8be3d-2405-4fd2-bf63-eb84ead4bbea",
     "regions": {
      "8d06fb67-2e0a-4210-91ec-f9d2e76a25d5": {
       "attrs": {
        "height": 0.8,
        "width": 0.8,
        "x": 0.1,
        "y": 0.1
       },
       "content": {
        "cell": "b347883c-1a5d-4934-8e34-86637b38cfa0",
        "part": "whole"
       },
       "id": "8d06fb67-2e0a-4210-91ec-f9d2e76a25d5"
      }
     }
    },
    "2d70ec36-afc6-4bf2-81ef-2a8768363193": {
     "id": "2d70ec36-afc6-4bf2-81ef-2a8768363193",
     "prev": "e7bb379f-2481-4078-b794-2e18e2faeade",
     "regions": {
      "282a71b2-64ed-40d3-836b-02722602850c": {
       "attrs": {
        "height": 0.8,
        "width": 0.8,
        "x": 0.1,
        "y": 0.1
       },
       "content": {
        "cell": "0321b8e4-8e2f-4bc0-861a-765d283696f8",
        "part": "whole"
       },
       "id": "282a71b2-64ed-40d3-836b-02722602850c"
      }
     }
    },
    "2e01226f-b2bd-4cef-9c86-ee7a4f13a5cd": {
     "id": "2e01226f-b2bd-4cef-9c86-ee7a4f13a5cd",
     "prev": "13ac495f-27d0-42df-a4cf-a841767f4998",
     "regions": {
      "c5ccd57e-4ead-4202-ae2c-3189fe43067e": {
       "attrs": {
        "height": 0.8,
        "width": 0.8,
        "x": 0.1,
        "y": 0.1
       },
       "content": {
        "cell": "813c4a4b-84b8-4d5f-b7f1-fd65bc5a965b",
        "part": "whole"
       },
       "id": "c5ccd57e-4ead-4202-ae2c-3189fe43067e"
      }
     }
    },
    "33711170-320f-4237-8eca-fef2de288f87": {
     "id": "33711170-320f-4237-8eca-fef2de288f87",
     "prev": "6d0ec602-ef52-4d47-9889-639ada923333",
     "regions": {
      "4d4a6bdb-6cc4-44ad-8a16-433efe93ae5a": {
       "attrs": {
        "height": 0.8,
        "width": 0.8,
        "x": 0.1,
        "y": 0.1
       },
       "content": {
        "cell": "017b191a-abd1-4593-bab5-54282a0cf4ec",
        "part": "whole"
       },
       "id": "4d4a6bdb-6cc4-44ad-8a16-433efe93ae5a"
      }
     }
    },
    "48a8be3d-2405-4fd2-bf63-eb84ead4bbea": {
     "id": "48a8be3d-2405-4fd2-bf63-eb84ead4bbea",
     "prev": "ad33aeb0-3666-4131-895e-f862a0835da7",
     "regions": {
      "b968a753-be4b-4c4f-9213-c84d4d0b51e5": {
       "attrs": {
        "height": 0.8,
        "width": 0.8,
        "x": 0.1,
        "y": 0.1
       },
       "content": {
        "cell": "4f3cd447-e8f4-4f10-89be-6464b3e3fa7d",
        "part": "whole"
       },
       "id": "b968a753-be4b-4c4f-9213-c84d4d0b51e5"
      }
     }
    },
    "6591f075-41c6-4fcf-8674-435acb367b86": {
     "id": "6591f075-41c6-4fcf-8674-435acb367b86",
     "prev": "f21c82cd-19b0-4938-8804-ca234b3c61b7",
     "regions": {
      "b2024cab-5167-4917-82d5-8c781b7f215c": {
       "attrs": {
        "height": 0.8,
        "width": 0.8,
        "x": 0.1,
        "y": 0.1
       },
       "content": {
        "cell": "bbed77dd-6b28-4f43-b685-603d3facc598",
        "part": "whole"
       },
       "id": "b2024cab-5167-4917-82d5-8c781b7f215c"
      }
     }
    },
    "6d0ec602-ef52-4d47-9889-639ada923333": {
     "id": "6d0ec602-ef52-4d47-9889-639ada923333",
     "prev": "0a024b16-00a2-4ffa-bdd1-9faf5c92ef68",
     "regions": {
      "f34b2662-47c0-4a1c-a6ea-c3d00bc34afb": {
       "attrs": {
        "height": 0.8,
        "width": 0.8,
        "x": 0.1,
        "y": 0.1
       },
       "content": {
        "cell": "e2a8970f-6f06-4074-aceb-e116c36e3f6f",
        "part": "whole"
       },
       "id": "f34b2662-47c0-4a1c-a6ea-c3d00bc34afb"
      }
     }
    },
    "74357fde-75cd-41fd-9b3f-d041931203d1": {
     "id": "74357fde-75cd-41fd-9b3f-d041931203d1",
     "prev": "33711170-320f-4237-8eca-fef2de288f87",
     "regions": {
      "f1eae632-c326-471d-aa77-9f723493465d": {
       "attrs": {
        "height": 0.8,
        "width": 0.8,
        "x": 0.1,
        "y": 0.1
       },
       "content": {
        "cell": "9532ee04-e172-4672-9d5d-21c1292df733",
        "part": "whole"
       },
       "id": "f1eae632-c326-471d-aa77-9f723493465d"
      }
     }
    },
    "7bd7efe0-6e8f-4004-818d-fd41830abdd9": {
     "id": "7bd7efe0-6e8f-4004-818d-fd41830abdd9",
     "prev": "945d918d-1130-4e36-8c5f-d15ab0aeb5f9",
     "regions": {
      "6caf0440-d56a-40ec-84e6-dbebfa92aed9": {
       "attrs": {
        "height": 0.8,
        "width": 0.8578842315369262,
        "x": 0.06706586826347306,
        "y": 0.1
       },
       "content": {
        "cell": "f1ccda5a-0b8d-4309-bf74-a14dbe7eb763",
        "part": "whole"
       },
       "id": "6caf0440-d56a-40ec-84e6-dbebfa92aed9"
      }
     }
    },
    "7f44de8b-965f-4528-bdf0-9f0f946c4c99": {
     "id": "7f44de8b-965f-4528-bdf0-9f0f946c4c99",
     "prev": "2e01226f-b2bd-4cef-9c86-ee7a4f13a5cd",
     "regions": {
      "0146acfd-06fa-4a40-a667-91f37f1d7a10": {
       "attrs": {
        "height": 0.8,
        "width": 0.8,
        "x": 0.1,
        "y": 0.1
       },
       "content": {
        "cell": "97c9d207-0ba4-47d9-990d-903c136c7b9a",
        "part": "whole"
       },
       "id": "0146acfd-06fa-4a40-a667-91f37f1d7a10"
      }
     }
    },
    "88597e5e-e692-4843-a632-60d1e389af14": {
     "id": "88597e5e-e692-4843-a632-60d1e389af14",
     "prev": "6591f075-41c6-4fcf-8674-435acb367b86",
     "regions": {
      "b8ad0263-3a4a-4917-b21a-e7f1d89070ad": {
       "attrs": {
        "height": 0.8,
        "width": 0.8,
        "x": 0.1,
        "y": 0.1
       },
       "content": {
        "cell": "eea2f27a-2b37-42fa-99fb-41c13f336b8e",
        "part": "whole"
       },
       "id": "b8ad0263-3a4a-4917-b21a-e7f1d89070ad"
      }
     }
    },
    "8cf9072f-7e1f-4758-85a1-f37ee32e2ebe": {
     "id": "8cf9072f-7e1f-4758-85a1-f37ee32e2ebe",
     "prev": "e9248cc2-e646-4a1e-88d8-45784a3556a6",
     "regions": {
      "9cbd161a-0eee-406c-b234-7aaeb0606a33": {
       "attrs": {
        "height": 0.8,
        "width": 0.8219560878243514,
        "x": 0.09301397205588822,
        "y": 0.1
       },
       "content": {
        "cell": "437db60c-5924-47fa-af95-d556092bab92",
        "part": "whole"
       },
       "id": "9cbd161a-0eee-406c-b234-7aaeb0606a33"
      }
     }
    },
    "945d918d-1130-4e36-8c5f-d15ab0aeb5f9": {
     "id": "945d918d-1130-4e36-8c5f-d15ab0aeb5f9",
     "prev": "00648834-40c5-448f-bdc2-0067eaeec02f",
     "regions": {
      "af58dad3-3146-41c6-a0d1-794eab023b8b": {
       "attrs": {
        "height": 0.8,
        "width": 0.8,
        "x": 0.1,
        "y": 0.1
       },
       "content": {
        "cell": "ece6d925-6e27-4176-97fe-b38e21ab03f6",
        "part": "whole"
       },
       "id": "af58dad3-3146-41c6-a0d1-794eab023b8b"
      }
     }
    },
    "94c7c253-f0b8-44ae-8e99-4f5b584b4054": {
     "id": "94c7c253-f0b8-44ae-8e99-4f5b584b4054",
     "prev": "7bd7efe0-6e8f-4004-818d-fd41830abdd9",
     "regions": {
      "34ff3167-0929-4e3c-aab1-1f6dca2c3c0d": {
       "attrs": {
        "height": 0.8,
        "width": 0.8,
        "x": 0.1,
        "y": 0.1
       },
       "content": {
        "cell": "5f4b0c2c-a22a-43a8-8233-357122c2bf87",
        "part": "whole"
       },
       "id": "34ff3167-0929-4e3c-aab1-1f6dca2c3c0d"
      }
     }
    },
    "9acc20c7-094c-46c4-ae8b-aee698de162f": {
     "id": "9acc20c7-094c-46c4-ae8b-aee698de162f",
     "prev": "8cf9072f-7e1f-4758-85a1-f37ee32e2ebe",
     "regions": {
      "1db42ace-efd9-4920-9e04-2f13e8e5fa61": {
       "attrs": {
        "height": 0.8,
        "width": 0.8,
        "x": 0.1,
        "y": 0.1
       },
       "content": {
        "cell": "6e601226-a0c6-4142-b912-c2f3255ae0a2",
        "part": "whole"
       },
       "id": "1db42ace-efd9-4920-9e04-2f13e8e5fa61"
      }
     }
    },
    "a6a987ec-72f7-4a34-bbbe-6db9710bde49": {
     "id": "a6a987ec-72f7-4a34-bbbe-6db9710bde49",
     "prev": "0c85c068-12bd-4fbd-b33a-b883ed267fd7",
     "regions": {
      "339b52fc-56dd-4285-8cc2-c2009c89db66": {
       "attrs": {
        "height": 0.8,
        "width": 0.8,
        "x": 0.1,
        "y": 0.1
       },
       "content": {
        "cell": "bf5e0193-e0c9-4ea8-b1b2-acc7f7271380",
        "part": "whole"
       },
       "id": "339b52fc-56dd-4285-8cc2-c2009c89db66"
      }
     }
    },
    "ad33aeb0-3666-4131-895e-f862a0835da7": {
     "id": "ad33aeb0-3666-4131-895e-f862a0835da7",
     "prev": "7f44de8b-965f-4528-bdf0-9f0f946c4c99",
     "regions": {
      "e66ec56c-fed2-4205-af6f-c610f723110a": {
       "attrs": {
        "height": 0.8,
        "width": 0.8,
        "x": 0.1,
        "y": 0.1
       },
       "content": {
        "cell": "4195253b-4bf6-4e73-913e-a69bbf59953d",
        "part": "whole"
       },
       "id": "e66ec56c-fed2-4205-af6f-c610f723110a"
      }
     }
    },
    "b0e5def4-1600-4095-b12e-ba3f2125a82c": {
     "id": "b0e5def4-1600-4095-b12e-ba3f2125a82c",
     "prev": "b704fdf5-a8be-49f8-b36e-ae6f04951161",
     "regions": {
      "7f9bec37-6823-4371-a08b-ce4a3f0e3ede": {
       "attrs": {
        "height": 0.8,
        "width": 0.8,
        "x": 0.1,
        "y": 0.1
       },
       "content": {
        "cell": "820d3cef-696e-4f5e-b467-d043ae779f52",
        "part": "whole"
       },
       "id": "7f9bec37-6823-4371-a08b-ce4a3f0e3ede"
      }
     }
    },
    "b2ab9931-0d16-48a7-bc38-57ff0271122b": {
     "id": "b2ab9931-0d16-48a7-bc38-57ff0271122b",
     "prev": "9acc20c7-094c-46c4-ae8b-aee698de162f",
     "regions": {
      "63a7b8e0-dd08-47c8-8fb6-ee12332727b0": {
       "attrs": {
        "height": 0.8,
        "width": 0.8,
        "x": 0.1,
        "y": 0.1
       },
       "content": {
        "cell": "ee676545-84b3-495c-abb5-c48660a8dae6",
        "part": "whole"
       },
       "id": "63a7b8e0-dd08-47c8-8fb6-ee12332727b0"
      }
     }
    },
    "b704fdf5-a8be-49f8-b36e-ae6f04951161": {
     "id": "b704fdf5-a8be-49f8-b36e-ae6f04951161",
     "prev": "c6e8b2e7-804b-4349-a6c4-bf58a127c452",
     "regions": {
      "fb4e777d-a4b9-463a-82a2-d9faf5107e40": {
       "attrs": {
        "height": 0.8,
        "width": 0.8,
        "x": 0.1,
        "y": 0.1
       },
       "content": {
        "cell": "03f1d573-975a-4314-9bbd-03d71a837b99",
        "part": "whole"
       },
       "id": "fb4e777d-a4b9-463a-82a2-d9faf5107e40"
      }
     }
    },
    "c6e8b2e7-804b-4349-a6c4-bf58a127c452": {
     "id": "c6e8b2e7-804b-4349-a6c4-bf58a127c452",
     "prev": "04be15b5-579e-46e6-830f-0b5a28aff63c",
     "regions": {
      "0ff44dd0-7775-495f-a9cc-0e805c55e030": {
       "attrs": {
        "height": 0.8,
        "width": 0.8,
        "x": 0.1,
        "y": 0.1
       },
       "content": {
        "cell": "e6d6b589-b4ed-4360-b657-b55e0a0f496a",
        "part": "whole"
       },
       "id": "0ff44dd0-7775-495f-a9cc-0e805c55e030"
      }
     }
    },
    "cc3efad1-6c8e-4b3f-ad16-22fa93efe4bf": {
     "id": "cc3efad1-6c8e-4b3f-ad16-22fa93efe4bf",
     "prev": "e777f55a-47cc-47f8-9c9a-cc579f8455ec",
     "regions": {
      "e3a30880-39a0-4ec1-8bf2-be1884b808ac": {
       "attrs": {
        "height": 0.8,
        "width": 0.8,
        "x": 0.1,
        "y": 0.1
       },
       "content": {
        "cell": "f4c5d362-c0fa-4efe-9d8b-9f66a3375c44",
        "part": "whole"
       },
       "id": "e3a30880-39a0-4ec1-8bf2-be1884b808ac"
      }
     }
    },
    "e777f55a-47cc-47f8-9c9a-cc579f8455ec": {
     "id": "e777f55a-47cc-47f8-9c9a-cc579f8455ec",
     "prev": "88597e5e-e692-4843-a632-60d1e389af14",
     "regions": {
      "36c5b5b4-759d-420c-bc2b-dce31637ec58": {
       "attrs": {
        "height": 0.8,
        "width": 0.8,
        "x": 0.1,
        "y": 0.1
       },
       "content": {
        "cell": "ad710f09-fbe2-4ae2-abc4-8887efcae699",
        "part": "whole"
       },
       "id": "36c5b5b4-759d-420c-bc2b-dce31637ec58"
      }
     }
    },
    "e7bb379f-2481-4078-b794-2e18e2faeade": {
     "id": "e7bb379f-2481-4078-b794-2e18e2faeade",
     "prev": "b0e5def4-1600-4095-b12e-ba3f2125a82c",
     "regions": {
      "796f6f6d-9062-428f-910d-0a877c887173": {
       "attrs": {
        "height": 0.8,
        "width": 0.8,
        "x": 0.1,
        "y": 0.1
       },
       "content": {
        "cell": "106413eb-7f93-4033-9650-3ddadd50cc5e",
        "part": "whole"
       },
       "id": "796f6f6d-9062-428f-910d-0a877c887173"
      }
     }
    },
    "e9248cc2-e646-4a1e-88d8-45784a3556a6": {
     "id": "e9248cc2-e646-4a1e-88d8-45784a3556a6",
     "prev": "74357fde-75cd-41fd-9b3f-d041931203d1",
     "regions": {
      "614ebe58-f563-4780-9ceb-cb26a63219d0": {
       "attrs": {
        "height": 0.8,
        "width": 0.8,
        "x": 0.1,
        "y": 0.1
       },
       "content": {
        "cell": "a0c6d05e-6a15-4b3c-b22e-86c17a77928b",
        "part": "whole"
       },
       "id": "614ebe58-f563-4780-9ceb-cb26a63219d0"
      }
     }
    },
    "f21c82cd-19b0-4938-8804-ca234b3c61b7": {
     "id": "f21c82cd-19b0-4938-8804-ca234b3c61b7",
     "prev": "94c7c253-f0b8-44ae-8e99-4f5b584b4054",
     "regions": {
      "25c6ac04-1f57-4d31-b930-458657616290": {
       "attrs": {
        "height": 0.8,
        "width": 0.8,
        "x": 0.1,
        "y": 0.1
       },
       "content": {
        "cell": "37608e0c-ec28-481a-870c-f0aad3207fc8",
        "part": "whole"
       },
       "id": "25c6ac04-1f57-4d31-b930-458657616290"
      }
     }
    }
   },
   "themes": {
    "default": "5e8f2a7b-0b4b-41e0-919d-db4718f3c384",
    "theme": {
     "5e8f2a7b-0b4b-41e0-919d-db4718f3c384": {
      "id": "5e8f2a7b-0b4b-41e0-919d-db4718f3c384",
      "palette": {
       "19cc588f-0593-49c9-9f4b-e4d7cc113b1c": {
        "id": "19cc588f-0593-49c9-9f4b-e4d7cc113b1c",
        "rgb": [
         252,
         252,
         252
        ]
       },
       "31af15d2-7e15-44c5-ab5e-e04b16a89eff": {
        "id": "31af15d2-7e15-44c5-ab5e-e04b16a89eff",
        "rgb": [
         68,
         68,
         68
        ]
       },
       "50f92c45-a630-455b-aec3-788680ec7410": {
        "id": "50f92c45-a630-455b-aec3-788680ec7410",
        "rgb": [
         155,
         177,
         192
        ]
       },
       "c5cc3653-2ee1-402a-aba2-7caae1da4f6c": {
        "id": "c5cc3653-2ee1-402a-aba2-7caae1da4f6c",
        "rgb": [
         43,
         126,
         184
        ]
       },
       "efa7f048-9acb-414c-8b04-a26811511a21": {
        "id": "efa7f048-9acb-414c-8b04-a26811511a21",
        "rgb": [
         25.118061674008803,
         73.60176211453744,
         107.4819383259912
        ]
       }
      },
      "rules": {
       "blockquote": {
        "color": "50f92c45-a630-455b-aec3-788680ec7410"
       },
       "code": {
        "font-family": "Anonymous Pro"
       },
       "h1": {
        "color": "c5cc3653-2ee1-402a-aba2-7caae1da4f6c",
        "font-family": "Lato",
        "font-size": 8
       },
       "h2": {
        "color": "c5cc3653-2ee1-402a-aba2-7caae1da4f6c",
        "font-family": "Lato",
        "font-size": 6
       },
       "h3": {
        "color": "50f92c45-a630-455b-aec3-788680ec7410",
        "font-family": "Lato",
        "font-size": 5.5
       },
       "h4": {
        "color": "c5cc3653-2ee1-402a-aba2-7caae1da4f6c",
        "font-family": "Lato",
        "font-size": 5
       },
       "h5": {
        "font-family": "Lato"
       },
       "h6": {
        "font-family": "Lato"
       },
       "h7": {
        "font-family": "Lato"
       },
       "pre": {
        "font-family": "Anonymous Pro",
        "font-size": 4
       }
      },
      "text-base": {
       "font-family": "Merriweather",
       "font-size": 4
      }
     }
    }
   }
  }
 },
 "nbformat": 4,
 "nbformat_minor": 1
}
