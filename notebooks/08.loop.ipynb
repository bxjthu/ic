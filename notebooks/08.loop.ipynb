{
 "cells": [
  {
   "cell_type": "markdown",
   "metadata": {},
   "source": [
    "# More About Iteration"
   ]
  },
  {
   "cell_type": "markdown",
   "metadata": {},
   "source": [
    "- Computers are often used to automate repetitive tasks. \n",
    "\n",
    "- Repeated execution of a sequence of statements is called **iteration**.\n",
    "\n",
    "- `for` and `while` statement"
   ]
  },
  {
   "cell_type": "markdown",
   "metadata": {},
   "source": [
    "## The for loop revisited\n",
    "\n",
    "```python\n",
    "for f in [\"Joe\", \"Amy\", \"Brad\", \"Angelina\"]:\n",
    "    print(\"Hi\", f, \"Please come to my party on Saturday\")\n",
    "```"
   ]
  },
  {
   "cell_type": "code",
   "execution_count": 2,
   "metadata": {
    "collapsed": false
   },
   "outputs": [
    {
     "name": "stdout",
     "output_type": "stream",
     "text": [
      "10\n",
      "500500\n"
     ]
    }
   ],
   "source": [
    "def sumTo(aBound):\n",
    "    theSum = 0\n",
    "    for aNumber in range(1, aBound + 1):\n",
    "        theSum = theSum + aNumber\n",
    "\n",
    "    return theSum\n",
    "\n",
    "print(sumTo(4))\n",
    "\n",
    "print(sumTo(1000))"
   ]
  },
  {
   "cell_type": "code",
   "execution_count": 3,
   "metadata": {
    "collapsed": false
   },
   "outputs": [
    {
     "name": "stdout",
     "output_type": "stream",
     "text": [
      "10\n",
      "500500\n"
     ]
    }
   ],
   "source": [
    "print(sum(range(4+1)))\n",
    "\n",
    "print(sum(range(1000+1)))"
   ]
  },
  {
   "cell_type": "markdown",
   "metadata": {},
   "source": [
    "## The `while` Statement\n",
    "\n",
    "<img src=\"images/while.svg\" width=400>"
   ]
  },
  {
   "cell_type": "code",
   "execution_count": null,
   "metadata": {
    "collapsed": true
   },
   "outputs": [],
   "source": [
    "def sumTo(aBound):\n",
    "    \"\"\" Return the sum of 1+2+3 ... n \"\"\"\n",
    "\n",
    "    theSum  = 0\n",
    "    aNumber = 1\n",
    "    while aNumber <= aBound:\n",
    "        theSum = theSum + aNumber\n",
    "        aNumber = aNumber + 1\n",
    "    return theSum\n",
    "\n",
    "print(sumTo(4))\n",
    "\n",
    "print(sumTo(1000))"
   ]
  },
  {
   "cell_type": "code",
   "execution_count": 2,
   "metadata": {
    "collapsed": false
   },
   "outputs": [
    {
     "data": {
      "text/html": [
       "\n",
       "        <iframe\n",
       "            width=\"100%\"\n",
       "            height=\"450\"\n",
       "            src=\"http://pythontutor.com/iframe-embed.html#code=def%20sumTo(aBound%29%3A%0A%20%20%20%20%22%22%22%20Return%20the%20sum%20of%201%2B2%2B3%20...%20n%20%22%22%22%0A%0A%20%20%20%20theSum%20%20%3D%200%0A%20%20%20%20aNumber%20%3D%201%0A%20%20%20%20while%20aNumber%20%3C%3D%20aBound%3A%0A%20%20%20%20%20%20%20%20theSum%20%3D%20theSum%20%2B%20aNumber%0A%20%20%20%20%20%20%20%20aNumber%20%3D%20aNumber%20%2B%201%0A%20%20%20%20return%20theSum%0A%0Aprint(sumTo(4%29%29%0A%0Aprint(sumTo(100%29%29&codeDivHeight=400&codeDivWidth=350&cumulative=false&curInstr=0&heapPrimitives=false&origin=opt-frontend.js&py=3&rawInputLstJSON=%5B%5D&textReferences=false\"\n",
       "            frameborder=\"0\"\n",
       "            allowfullscreen\n",
       "        ></iframe>\n",
       "        "
      ],
      "text/plain": [
       "<IPython.lib.display.IFrame at 0x106a7abe0>"
      ]
     },
     "execution_count": 2,
     "metadata": {},
     "output_type": "execute_result"
    }
   ],
   "source": [
    "from IPython.display import IFrame\n",
    "IFrame('http://pythontutor.com/iframe-embed.html#code=def%20sumTo(aBound%29%3A%0A%20%20%20%20%22%22%22%20Return%20the%20sum%20of%201%2B2%2B3%20...%20n%20%22%22%22%0A%0A%20%20%20%20theSum%20%20%3D%200%0A%20%20%20%20aNumber%20%3D%201%0A%20%20%20%20while%20aNumber%20%3C%3D%20aBound%3A%0A%20%20%20%20%20%20%20%20theSum%20%3D%20theSum%20%2B%20aNumber%0A%20%20%20%20%20%20%20%20aNumber%20%3D%20aNumber%20%2B%201%0A%20%20%20%20return%20theSum%0A%0Aprint(sumTo(4%29%29%0A%0Aprint(sumTo(100%29%29&codeDivHeight=400&codeDivWidth=350&cumulative=false&curInstr=0&heapPrimitives=false&origin=opt-frontend.js&py=3&rawInputLstJSON=%5B%5D&textReferences=false', width='100%', height=450)"
   ]
  },
  {
   "cell_type": "markdown",
   "metadata": {},
   "source": [
    "** Definite iteration vs Indefinite iteration **\n",
    "\n",
    "**Definite iteration**\n",
    "\n",
    "Usually a for loop creates a definite iteration because we definitely know how many times we are going to iterate. \n",
    "\n",
    "**Indefinite iteration**\n",
    "\n",
    "The while statement is dependent on a condition that needs to evaluate to False in order for the loop to terminate. Since we do not necessarily know when this will happen, it creates what we call indefinite iteration."
   ]
  },
  {
   "cell_type": "markdown",
   "metadata": {},
   "source": [
    "** Exercise **\n",
    "```\n",
    "True or False: You can rewrite any for-loop as a while-loop.\n",
    "(A) True\n",
    "(B) False\n",
    "```"
   ]
  },
  {
   "cell_type": "markdown",
   "metadata": {},
   "source": [
    "## Randomly Walking Turtles\n",
    "\n",
    "A walking turtle and program to behave in the following way:\n",
    "\n",
    "- The turtle begins in the center of the screen.\n",
    "- Flip a coin. If its heads then turn to the left 90 degrees. If its tails then turn to the right 90 degrees.\n",
    "- Take 50 steps forward.\n",
    "- If the turtle has moved outside the screen then stop, otherwise go back to step 2 and repeat.\n"
   ]
  },
  {
   "cell_type": "markdown",
   "metadata": {},
   "source": [
    "```python\n",
    "create a window and a turtle\n",
    "\n",
    "while the turtle is still in the window:\n",
    "    generate a random number between 0 and 1\n",
    "    if the number == 0 (heads):\n",
    "        turn left\n",
    "    else:\n",
    "        turn right\n",
    "    move the turtle forward 50\n",
    "```"
   ]
  },
  {
   "cell_type": "code",
   "execution_count": null,
   "metadata": {
    "collapsed": false
   },
   "outputs": [],
   "source": [
    "import random\n",
    "import turtle\n",
    "\n",
    "def isInScreen(w, t):\n",
    "    return True\n",
    "\n",
    "t = turtle.Turtle()\n",
    "wn = turtle.Screen()\n",
    "\n",
    "while isInScreen(wn, t):\n",
    "    if (random.randrange(0, 2) == 0):\n",
    "        t.left(90)\n",
    "    else:          # tails\n",
    "        t.right(90)\n",
    "    t.forward(50)"
   ]
  },
  {
   "cell_type": "markdown",
   "metadata": {},
   "source": [
    "** Exercise **\n",
    "\n",
    "```\n",
    "Which type of loop can be used to perform the following iteration: You choose a positive integer at random and then print the numbers from 1 up to and including the selected integer.\n",
    "(A) a for-loop or a while-loop\n",
    "(B) only a for-loop\n",
    "(C) only a while-loop\n",
    "```"
   ]
  },
  {
   "cell_type": "markdown",
   "metadata": {},
   "source": [
    "## The `3n + 1` Sequence\n",
    "\n",
    "** The Collatz conjecture**\n",
    "\n",
    "$$\n",
    "f(n) =\n",
    "\\begin{cases}\n",
    "n/2,  & \\text{if $n$ is even} \\\\\n",
    "3n+1, & \\text{if $n$ is odd}\n",
    "\\end{cases}\n",
    "$$\n",
    "\n",
    "$$\n",
    "a_{i}={\\begin{cases}n&{\\text{for }}i=0\\\\f(a_{i-1})&{\\text{for }}i>0\\end{cases}}\n",
    "$$\n",
    "\n",
    "This process will eventually reach the number 1, regardless of which positive integer is chosen initially."
   ]
  },
  {
   "cell_type": "code",
   "execution_count": null,
   "metadata": {
    "collapsed": false,
    "scrolled": false
   },
   "outputs": [],
   "source": [
    "def seq3np1(n):\n",
    "    \"\"\" Print the 3n+1 sequence from n, terminating when it reaches 1.\"\"\"\n",
    "    while n != 1:\n",
    "        print(n)\n",
    "        if n % 2 == 0:        # n is even\n",
    "            n = n // 2\n",
    "        else:                 # n is odd\n",
    "            n = n * 3 + 1\n",
    "    print(n)                  # the last print is 1\n",
    "\n",
    "seq3np1(99887766)"
   ]
  },
  {
   "cell_type": "markdown",
   "metadata": {},
   "source": [
    "## Newton’s Method: computing square roots\n",
    "\n",
    "$$f(x)=x^2 - a$$\n",
    "\n",
    "$$\n",
    "x:f(x)=0\n",
    "$$\n",
    "\n",
    "\\begin{align}\n",
    "x_{1} & = x_{0}-{\\frac {f(x_{0})}{f'(x_{0})}} \\\\\n",
    "      & = \\frac{x_0}{2}+\\frac{a}{2x_0}\n",
    "\\end{align}"
   ]
  },
  {
   "cell_type": "code",
   "execution_count": null,
   "metadata": {
    "collapsed": false
   },
   "outputs": [],
   "source": [
    "def newtonSqrt(n, howmany):\n",
    "    approx = 0.5 * n\n",
    "    for i in range(howmany):\n",
    "        betterapprox = 0.5 * (approx + n/approx)\n",
    "        approx = betterapprox\n",
    "    return betterapprox\n",
    "\n",
    "print(10**0.5)\n",
    "print(newtonSqrt(10, 3))\n",
    "print(newtonSqrt(10, 5))\n",
    "print(newtonSqrt(10, 10))\n"
   ]
  },
  {
   "cell_type": "code",
   "execution_count": null,
   "metadata": {
    "collapsed": false
   },
   "outputs": [],
   "source": [
    "def newtonSqrt(n):\n",
    "    approx = 0.5 * n\n",
    "    better = 0.5 * (approx + n/approx)\n",
    "    while better != approx:\n",
    "        approx = better\n",
    "        better = 0.5 * (approx + n/approx)\n",
    "    return approx\n",
    "\n",
    "print(newtonSqrt(10))"
   ]
  },
  {
   "cell_type": "code",
   "execution_count": 3,
   "metadata": {
    "collapsed": false
   },
   "outputs": [
    {
     "data": {
      "text/html": [
       "\n",
       "        <iframe\n",
       "            width=\"100%\"\n",
       "            height=\"400\"\n",
       "            src=\"http://pythontutor.com/iframe-embed.html#code=def%20newtonSqrt(n%29%3A%0A%20%20%20%20approx%20%3D%200.5%20*%20n%0A%20%20%20%20better%20%3D%200.5%20*%20(approx%20%2B%20n/approx%29%0A%20%20%20%20while%20better%20!%3D%20approx%3A%0A%20%20%20%20%20%20%20%20approx%20%3D%20better%0A%20%20%20%20%20%20%20%20better%20%3D%200.5%20*%20(approx%20%2B%20n/approx%29%0A%20%20%20%20return%20approx%0A%0Aprint(newtonSqrt(10%29%29&codeDivHeight=400&codeDivWidth=350&cumulative=false&curInstr=0&heapPrimitives=false&origin=opt-frontend.js&py=3&rawInputLstJSON=%5B%5D&textReferences=false\"\n",
       "            frameborder=\"0\"\n",
       "            allowfullscreen\n",
       "        ></iframe>\n",
       "        "
      ],
      "text/plain": [
       "<IPython.lib.display.IFrame at 0x106a98160>"
      ]
     },
     "execution_count": 3,
     "metadata": {},
     "output_type": "execute_result"
    }
   ],
   "source": [
    "from IPython.display import IFrame\n",
    "IFrame('http://pythontutor.com/iframe-embed.html#code=def%20newtonSqrt(n%29%3A%0A%20%20%20%20approx%20%3D%200.5%20*%20n%0A%20%20%20%20better%20%3D%200.5%20*%20(approx%20%2B%20n/approx%29%0A%20%20%20%20while%20better%20!%3D%20approx%3A%0A%20%20%20%20%20%20%20%20approx%20%3D%20better%0A%20%20%20%20%20%20%20%20better%20%3D%200.5%20*%20(approx%20%2B%20n/approx%29%0A%20%20%20%20return%20approx%0A%0Aprint(newtonSqrt(10%29%29&codeDivHeight=400&codeDivWidth=350&cumulative=false&curInstr=0&heapPrimitives=false&origin=opt-frontend.js&py=3&rawInputLstJSON=%5B%5D&textReferences=false', width='100%', height=400)"
   ]
  },
  {
   "cell_type": "markdown",
   "metadata": {},
   "source": [
    "**floating point numbers comparition**\n",
    "\n",
    "```python\n",
    "while better != approx:\n",
    "```\n",
    "\n",
    "how to improve?"
   ]
  },
  {
   "cell_type": "markdown",
   "metadata": {},
   "source": [
    "## Simple Tables"
   ]
  },
  {
   "cell_type": "code",
   "execution_count": null,
   "metadata": {
    "collapsed": false
   },
   "outputs": [],
   "source": [
    "print(\"n\", '\\t', \"2**n\")     #table column headings\n",
    "print(\"---\", '\\t', \"-----\")\n",
    "\n",
    "for x in range(13):        # generate values for columns\n",
    "    print(x, '\\t', 2 ** x)"
   ]
  },
  {
   "cell_type": "markdown",
   "metadata": {},
   "source": [
    "** Exercise **\n",
    "\n",
    "```\n",
    "What is the difference between a tab ('\\t') and a sequence of spaces?\n",
    "(A) A tab will line up items in a second column, regardless of how many characters were in the first column, while spaces will not.\n",
    "(B) There is no difference\n",
    "(C) A tab is wider than a sequence of spaces\n",
    "(D) You must use tabs for creating tables. You cannot use spaces.\n",
    "```"
   ]
  },
  {
   "cell_type": "markdown",
   "metadata": {},
   "source": [
    "## Nested Iteration"
   ]
  },
  {
   "cell_type": "code",
   "execution_count": null,
   "metadata": {
    "collapsed": false
   },
   "outputs": [],
   "source": [
    "for i in range(5):\n",
    "    for j in range(3):\n",
    "        print(i, j)"
   ]
  },
  {
   "cell_type": "code",
   "execution_count": 4,
   "metadata": {
    "collapsed": false
   },
   "outputs": [
    {
     "data": {
      "text/html": [
       "\n",
       "        <iframe\n",
       "            width=\"100%\"\n",
       "            height=\"400\"\n",
       "            src=\"http://pythontutor.com/iframe-embed.html#code=for%20i%20in%20range(5%29%3A%0A%20%20%20%20for%20j%20in%20range(3%29%3A%0A%20%20%20%20%20%20%20%20print(i,%20j%29&codeDivHeight=400&codeDivWidth=350&cumulative=false&curInstr=0&heapPrimitives=false&origin=opt-frontend.js&py=3&rawInputLstJSON=%5B%5D&textReferences=false\"\n",
       "            frameborder=\"0\"\n",
       "            allowfullscreen\n",
       "        ></iframe>\n",
       "        "
      ],
      "text/plain": [
       "<IPython.lib.display.IFrame at 0x106a98240>"
      ]
     },
     "execution_count": 4,
     "metadata": {},
     "output_type": "execute_result"
    }
   ],
   "source": [
    "from IPython.display import IFrame\n",
    "IFrame('http://pythontutor.com/iframe-embed.html#code=for%20i%20in%20range(5%29%3A%0A%20%20%20%20for%20j%20in%20range(3%29%3A%0A%20%20%20%20%20%20%20%20print(i,%20j%29&codeDivHeight=400&codeDivWidth=350&cumulative=false&curInstr=0&heapPrimitives=false&origin=opt-frontend.js&py=3&rawInputLstJSON=%5B%5D&textReferences=false', width='100%', height=400)"
   ]
  },
  {
   "cell_type": "markdown",
   "metadata": {},
   "source": [
    "## the `break ` statement\n",
    "\n",
    "The **break** statement is used to immediately leave the body of its loop. \n",
    "\n",
    "The next statement to be executed is the first one after the body."
   ]
  },
  {
   "cell_type": "code",
   "execution_count": null,
   "metadata": {
    "collapsed": false
   },
   "outputs": [],
   "source": [
    "for i in [12, 16, 17, 24, 29]:\n",
    "    if i % 2 == 1:  # If the number is odd\n",
    "       break        #  ... immediately exit the loop\n",
    "    print(i)\n",
    "print(\"done\")"
   ]
  },
  {
   "cell_type": "markdown",
   "metadata": {},
   "source": [
    "** middle-test loop **\n",
    "\n",
    "<img src=\"images/break.svg\" width=400>"
   ]
  },
  {
   "cell_type": "code",
   "execution_count": null,
   "metadata": {
    "collapsed": false
   },
   "outputs": [],
   "source": [
    "total = 0\n",
    "while True:\n",
    "    response = input(\"Enter the next number. (Leave blank to end)\")\n",
    "    if response == \"\":\n",
    "        break\n",
    "    total += int(response)\n",
    "print(\"The total of the numbers you entered is \", total)"
   ]
  },
  {
   "cell_type": "markdown",
   "metadata": {},
   "source": [
    "** post-test loop**\n",
    "\n",
    "```python\n",
    "while True:\n",
    "    play_the_game_once()\n",
    "    response = input(\"Play again? (yes or no)\")\n",
    "    if response != \"yes\":\n",
    "        break\n",
    "print(\"Goodbye!\")\n",
    "```"
   ]
  },
  {
   "cell_type": "code",
   "execution_count": null,
   "metadata": {
    "collapsed": false
   },
   "outputs": [],
   "source": [
    "import random                   # We cover random numbers in the\n",
    "rng = random.Random()           #  modules chapter, so peek ahead.\n",
    "number = rng.randrange(1, 1000) # Get random number between [1 and 1000).\n",
    "\n",
    "guesses = 0\n",
    "msg = \"\"\n",
    "\n",
    "while True:\n",
    "    guess = int(input(msg + \"\\nGuess my number between 1 and 1000: \"))\n",
    "    guesses += 1\n",
    "    if guess > number:\n",
    "        msg += str(guess) + \" is too high.\\n\"\n",
    "    elif guess < number:\n",
    "        msg += str(guess) + \" is too low.\\n\"\n",
    "    else:\n",
    "        break\n",
    "\n",
    "print(\"\\n\\nGreat, you got it in {0} guesses!\\n\\n\".format(guesses))"
   ]
  },
  {
   "cell_type": "markdown",
   "metadata": {},
   "source": [
    "## The `continue` statement\n",
    "\n",
    "This is a control flow statement that causes the program to immediately skip the processing of the rest of the body of the loop, for the current iteration. \n",
    "\n",
    "**But** the loop still carries on running for its remaining iterations."
   ]
  },
  {
   "cell_type": "code",
   "execution_count": null,
   "metadata": {
    "collapsed": false
   },
   "outputs": [],
   "source": [
    "for i in [12, 16, 17, 24, 29, 30]:\n",
    "    if i % 2 == 1:      # If the number is odd\n",
    "       continue         # Don't process it\n",
    "    print(i)\n",
    "print(\"done\")"
   ]
  },
  {
   "cell_type": "markdown",
   "metadata": {
    "collapsed": true
   },
   "source": [
    "## Glossary\n",
    "\n",
    "**algorithm**\n",
    "\n",
    "A step-by-step process for solving a category of problems.\n",
    "\n",
    "**body**\n",
    "\n",
    "The statements inside a loop.\n",
    "\n",
    "**counter**\n",
    "\n",
    "A variable used to count something, usually initialized to zero and incremented in the body of a loop.\n",
    "\n",
    "**cursor**\n",
    "\n",
    "An invisible marker that keeps track of where the next character will be printed.\n",
    "\n",
    "**definite iteration**\n",
    "\n",
    "A loop where we have an upper bound on the number of times the body will be executed. Definite iteration is usually best coded as a **for** loop.\n",
    "\n",
    "**escape sequence**\n",
    "\n",
    "An escape character, `\\\\`, followed by one or more printable characters used to designate a nonprintable character.\n",
    "\n",
    "**generalize**\n",
    "\n",
    "To replace something unnecessarily specific (like a constant value) with something appropriately general (like a variable or parameter). Generalization makes code more versatile, more likely to be reused, and sometimes even easier to write.\n",
    "\n",
    "**infinite loop**\n",
    "\n",
    "A loop in which the terminating condition is never satisfied.\n",
    "\n",
    "**indefinite iteration**\n",
    "\n",
    "A loop where we just need to keep going until some condition is met. A `while` statement is used for this case.\n",
    "\n",
    "**iteration**\n",
    "\n",
    "Repeated execution of a set of programming statements.\n",
    "\n",
    "**loop**\n",
    "\n",
    "A statement or group of statements that execute repeatedly until a terminating condition is satisfied.\n",
    "\n",
    "**loop variable**\n",
    "\n",
    "A variable used as part of the terminating condition of a loop.\n",
    "\n",
    "**nested loop\n",
    "A loop inside the body of another loop.\n",
    "newline\n",
    "A special character that causes the cursor to move to the beginning of the next line.\n",
    "reassignment\n",
    "Making more than one assignment to the same variable during the execution of a program.\n",
    "tab\n",
    "A special character that causes the cursor to move to the next tab stop on the current line."
   ]
  },
  {
   "cell_type": "code",
   "execution_count": null,
   "metadata": {
    "collapsed": true
   },
   "outputs": [],
   "source": []
  }
 ],
 "metadata": {
  "anaconda-cloud": {},
  "kernelspec": {
   "display_name": "Python [default]",
   "language": "python",
   "name": "python3"
  },
  "language_info": {
   "codemirror_mode": {
    "name": "ipython",
    "version": 3
   },
   "file_extension": ".py",
   "mimetype": "text/x-python",
   "name": "python",
   "nbconvert_exporter": "python",
   "pygments_lexer": "ipython3",
   "version": "3.5.2"
  }
 },
 "nbformat": 4,
 "nbformat_minor": 1
}
