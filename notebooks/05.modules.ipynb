{
 "cells": [
  {
   "cell_type": "markdown",
   "metadata": {},
   "source": [
    "# 4. Python Modules"
   ]
  },
  {
   "cell_type": "markdown",
   "metadata": {},
   "source": [
    "## Module\n",
    "\n",
    "A <span style=\"color:red\">module</span> is a file containing Python definitions and statements intended for use in other Python programs. \n",
    "\n",
    "There are many Python modules that come with Python as part of the standard library. \n",
    "\n",
    "Once we import the module, we can use things that are defined inside."
   ]
  },
  {
   "cell_type": "markdown",
   "metadata": {},
   "source": [
    "```python\n",
    "import turtle            # allows us to use the turtles library\n",
    "\n",
    "wn = turtle.Screen()     # creates a graphics window\n",
    "alex = turtle.Turtle()   # create a turtle named alex\n",
    "\n",
    "alex.forward(150)        # tell alex to move forward by 150 units\n",
    "alex.left(90)            # turn by 90 degrees\n",
    "alex.forward(75)         # complete the second side of a rectangle\n",
    "wn.exitonclick()\n",
    "```"
   ]
  },
  {
   "cell_type": "markdown",
   "metadata": {},
   "source": [
    "** Get help about module details **\n",
    "\n",
    "[Python 3 documentation](https://docs.python.org/3/)\n",
    "\n",
    "[The Python Language Reference](https://docs.python.org/3/reference/index.html)"
   ]
  },
  {
   "cell_type": "code",
   "execution_count": 1,
   "metadata": {
    "collapsed": false
   },
   "outputs": [
    {
     "data": {
      "text/html": [
       "\n",
       "        <iframe\n",
       "            width=\"100%\"\n",
       "            height=\"350\"\n",
       "            src=\"https://docs.python.org/3/library/turtle.html\"\n",
       "            frameborder=\"0\"\n",
       "            allowfullscreen\n",
       "        ></iframe>\n",
       "        "
      ],
      "text/plain": [
       "<IPython.lib.display.IFrame at 0x106a5b978>"
      ]
     },
     "execution_count": 1,
     "metadata": {},
     "output_type": "execute_result"
    }
   ],
   "source": [
    "from IPython.display import IFrame\n",
    "IFrame('https://docs.python.org/3/library/turtle.html', width='100%', height=350)"
   ]
  },
  {
   "cell_type": "markdown",
   "metadata": {},
   "source": [
    "** Exercise **\n",
    "\n",
    "```\n",
    "In Python a module is:\n",
    "(A) A file containing Python definitions and statements intended for use in other Python programs.\n",
    "(B) A separate block of code within a program.\n",
    "(C) One line of code in a program.\n",
    "(D) A file that contains documentation about functions in Python.\n",
    "```"
   ]
  },
  {
   "cell_type": "markdown",
   "metadata": {},
   "source": [
    "## The `math` module"
   ]
  },
  {
   "cell_type": "code",
   "execution_count": 2,
   "metadata": {
    "collapsed": false
   },
   "outputs": [
    {
     "name": "stdout",
     "output_type": "stream",
     "text": [
      "3.141592653589793\n",
      "2.718281828459045\n",
      "1.4142135623730951\n",
      "1.0\n"
     ]
    }
   ],
   "source": [
    "import math\n",
    "\n",
    "print(math.pi)\n",
    "print(math.e)\n",
    "\n",
    "print(math.sqrt(2.0))\n",
    "\n",
    "print(math.sin(math.radians(90)))   # sin of 90 degrees"
   ]
  },
  {
   "cell_type": "markdown",
   "metadata": {},
   "source": [
    "## The `random` module"
   ]
  },
  {
   "cell_type": "markdown",
   "metadata": {},
   "source": [
    "We often want to use random numbers in programs.\n",
    "\n",
    "Python provides a module **`random`** that helps with tasks like this."
   ]
  },
  {
   "cell_type": "code",
   "execution_count": null,
   "metadata": {
    "collapsed": true
   },
   "outputs": [],
   "source": [
    "import random\n",
    "\n",
    "prob = random.random()\n",
    "print(prob)\n",
    "\n",
    "diceThrow = random.randrange(1, 7)       # return an int, one of 1,2,3,4,5,6\n",
    "print(diceThrow)"
   ]
  },
  {
   "cell_type": "markdown",
   "metadata": {},
   "source": [
    "The `randrange` function generates an integer between its lower and upper argument, using the same semantics as `range` — so the lower bound is included, but the upper bound is excluded. All the values have an equal probability of occurring (i.e. the results are uniformly distributed).\n",
    "\n",
    "The `random()` function returns a floating point number in the range `[0.0, 1.0)`"
   ]
  },
  {
   "cell_type": "markdown",
   "metadata": {},
   "source": [
    "* Random number generators are based on a deterministic algorithm — repeatable and predictable. \n",
    "\n",
    "* So they’re called pseudo-random generators — they are not genuinely random. \n",
    "\n",
    "* They start with a seed value. \n",
    "\n",
    "* Each time you ask for another random number, you’ll get one based on the current seed attribute"
   ]
  },
  {
   "cell_type": "markdown",
   "metadata": {},
   "source": [
    "** Exercise **\n",
    "\n",
    "```\n",
    "1. Which of the following is the correct way to reference the value pi within the math module. Assume you have already imported the math module.\n",
    "(A) math.pi\n",
    "(B) math(pi)\n",
    "(C) pi.math\n",
    "(D) math->pi\n",
    "```"
   ]
  },
  {
   "cell_type": "markdown",
   "metadata": {},
   "source": [
    "```\n",
    "2. The correct code to generate a random number between 1 and 100 (inclusive) is:\n",
    "(A) prob = random.randrange(1, 101)\n",
    "(B) prob = random.randrange(1, 100)\n",
    "(C) prob = random.randrange(0, 101)\n",
    "(D) prob = random.randrange(0, 100)\n",
    "```"
   ]
  },
  {
   "cell_type": "markdown",
   "metadata": {},
   "source": [
    "```\n",
    "3. One reason that lotteries don’t use computers to generate random numbers is:\n",
    "(A) There is no computer on the stage for the drawing.\n",
    "(B) Because computers don't really generate random numbers, they generate pseudo-random numbers.\n",
    "(C) They would just generate the same numbers over and over again.\n",
    "(D) The computer can't tell what values were already selected, so it might generate all 5's instead of 5 unique numbers.\n",
    "```"
   ]
  },
  {
   "cell_type": "code",
   "execution_count": null,
   "metadata": {
    "collapsed": true
   },
   "outputs": [],
   "source": []
  }
 ],
 "metadata": {
  "anaconda-cloud": {},
  "kernelspec": {
   "display_name": "Python [default]",
   "language": "python",
   "name": "python3"
  },
  "language_info": {
   "codemirror_mode": {
    "name": "ipython",
    "version": 3
   },
   "file_extension": ".py",
   "mimetype": "text/x-python",
   "name": "python",
   "nbconvert_exporter": "python",
   "pygments_lexer": "ipython3",
   "version": "3.5.2"
  }
 },
 "nbformat": 4,
 "nbformat_minor": 1
}
