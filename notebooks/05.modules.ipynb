{
 "cells": [
  {
   "cell_type": "markdown",
   "metadata": {
    "nbpresent": {
     "id": "3eb43c69-8815-4d9f-b72f-4f5dbed15926"
    }
   },
   "source": [
    "# 5. Python Modules"
   ]
  },
  {
   "cell_type": "markdown",
   "metadata": {
    "nbpresent": {
     "id": "b795c3a5-d844-4307-ac2f-a33c71a7c8d1"
    }
   },
   "source": [
    "## Module\n",
    "\n",
    "A <span style=\"color:red\">module</span> is a file containing Python definitions and statements intended for use in other Python programs. \n",
    "\n",
    "There are many Python modules that come with Python as part of the standard library. \n",
    "\n",
    "Once we import the module, we can use things that are defined inside."
   ]
  },
  {
   "cell_type": "markdown",
   "metadata": {
    "nbpresent": {
     "id": "6a66fd4d-ac24-499f-ae7b-9c840f644cde"
    }
   },
   "source": [
    "```python\n",
    "import turtle   # use the turtle library\n",
    "\n",
    "wn = turtle.Screen()     \n",
    "alex = turtle.Turtle()   \n",
    "\n",
    "alex.forward(150)        \n",
    "alex.left(90)            \n",
    "alex.forward(75)         \n",
    "wn.exitonclick()\n",
    "```"
   ]
  },
  {
   "cell_type": "markdown",
   "metadata": {
    "nbpresent": {
     "id": "ab070042-634a-4bd5-8db2-8a79c8a9d5e4"
    }
   },
   "source": [
    "** Get help about module details **\n",
    "\n",
    "[Python 3 documentation](https://docs.python.org/3/)\n",
    "\n",
    "[The Python Language Reference](https://docs.python.org/3/reference/index.html)"
   ]
  },
  {
   "cell_type": "code",
   "execution_count": null,
   "metadata": {
    "collapsed": false,
    "nbpresent": {
     "id": "660a0d9c-df14-4c94-82f6-3a789728f864"
    }
   },
   "outputs": [],
   "source": [
    "from IPython.display import IFrame\n",
    "IFrame('https://docs.python.org/3/library/turtle.html', width='100%', height=350)"
   ]
  },
  {
   "cell_type": "markdown",
   "metadata": {
    "nbpresent": {
     "id": "59c60601-7ffb-43c5-8d7d-c380870092f7"
    }
   },
   "source": [
    "** Exercise **\n",
    "\n",
    "```\n",
    "In Python a module is:\n",
    "(A) A file containing Python definitions and statements intended for use in other Python programs.\n",
    "(B) A separate block of code within a program.\n",
    "(C) One line of code in a program.\n",
    "(D) A file that contains documentation about functions in Python.\n",
    "```"
   ]
  },
  {
   "cell_type": "markdown",
   "metadata": {
    "nbpresent": {
     "id": "7c3443b1-73e1-4e3d-b545-3cb6a71fbea6"
    }
   },
   "source": [
    "## The `math` module"
   ]
  },
  {
   "cell_type": "code",
   "execution_count": null,
   "metadata": {
    "collapsed": false,
    "nbpresent": {
     "id": "86c61236-7f6b-4881-bb4a-9a05e488763c"
    }
   },
   "outputs": [],
   "source": [
    "import math\n",
    "\n",
    "print(math.pi)\n",
    "print(math.e)\n",
    "print(math.inf)\n",
    "print(math.nan)\n",
    "\n",
    "print(math.sqrt(2.0))\n",
    "print(math.sin(math.radians(90))) # sin of 90 degree"
   ]
  },
  {
   "cell_type": "code",
   "execution_count": null,
   "metadata": {
    "collapsed": false,
    "nbpresent": {
     "id": "92002a34-a529-45b0-9bae-8efab204f080"
    }
   },
   "outputs": [],
   "source": [
    "import math\n",
    "\n",
    "print(math.factorial(20)) # 20!\n",
    "print(math.gcd(100,25)) # greatest common divisor\n",
    "print(math.fsum([.1, .1, .1, .1, .1, .1, \n",
    "                 .1, .1, .1, .1]))\n",
    "print(math.frexp(134.567)) \n",
    "# return (m,e), x == m * 2**e "
   ]
  },
  {
   "cell_type": "markdown",
   "metadata": {
    "nbpresent": {
     "id": "831a3c49-1a47-4ae3-a606-e88732dbd18b"
    }
   },
   "source": [
    "** Discussion **\n",
    "\n",
    "对于`5008`, 只移动两根火柴，能得到的最大数是多少?"
   ]
  },
  {
   "cell_type": "markdown",
   "metadata": {
    "nbpresent": {
     "id": "409d06f3-f646-4313-bea2-7b00f25d5bb8"
    }
   },
   "source": [
    "## The `random` module"
   ]
  },
  {
   "cell_type": "markdown",
   "metadata": {
    "nbpresent": {
     "id": "4611ca3d-82f5-4eba-8664-634490b3b32b"
    }
   },
   "source": [
    "We often want to use random numbers in programs.\n",
    "\n",
    "Python provides a module **`random`** that helps with tasks like this."
   ]
  },
  {
   "cell_type": "code",
   "execution_count": null,
   "metadata": {
    "collapsed": true,
    "nbpresent": {
     "id": "6f18afc5-c35f-4d60-8e16-c5895edeed02"
    }
   },
   "outputs": [],
   "source": [
    "import random\n",
    "\n",
    "prob = random.random()\n",
    "print(prob)\n",
    "\n",
    "diceThrow = random.randrange(1, 7)       \n",
    "# return an int, one of 1,2,3,4,5,6\n",
    "print(diceThrow)"
   ]
  },
  {
   "cell_type": "markdown",
   "metadata": {
    "nbpresent": {
     "id": "bda0f77e-8a75-4223-82fe-9037e6c72a5c"
    }
   },
   "source": [
    "The `randrange` function generates an integer between its lower and upper argument, using the same semantics as `range` — so the lower bound is included, but the upper bound is excluded. All the values have an equal probability of occurring (i.e. the results are uniformly distributed).\n",
    "\n",
    "The `random()` function returns a floating point number in the range `[0.0, 1.0)`"
   ]
  },
  {
   "cell_type": "markdown",
   "metadata": {
    "nbpresent": {
     "id": "89054726-01cd-42dc-94e6-6a98a921ab59"
    }
   },
   "source": [
    "* Random number generators are based on a deterministic algorithm — repeatable and predictable. \n",
    "\n",
    "* So they’re called **pseudo-random** generators — they are not genuinely random. \n",
    "\n",
    "* They start with a seed value. \n",
    "\n",
    "* Each time you ask for another random number, you’ll get one based on the current seed attribute"
   ]
  },
  {
   "cell_type": "code",
   "execution_count": null,
   "metadata": {
    "collapsed": false
   },
   "outputs": [],
   "source": [
    "import random\n",
    "print(random.choice(range(10)))\n",
    "print(random.sample(range(10),2))"
   ]
  },
  {
   "cell_type": "code",
   "execution_count": null,
   "metadata": {
    "collapsed": false
   },
   "outputs": [],
   "source": [
    "help(random)"
   ]
  },
  {
   "cell_type": "markdown",
   "metadata": {
    "nbpresent": {
     "id": "81808728-1eb3-4ab7-be74-094f4c37cf00"
    }
   },
   "source": [
    "** Exercise **\n",
    "\n",
    "```\n",
    "1. Which of the following is the correct way to reference the value pi within the math module. Assume you have already imported the math module.\n",
    "(A) math.pi\n",
    "(B) math(pi)\n",
    "(C) pi.math\n",
    "(D) math->pi\n",
    "```"
   ]
  },
  {
   "cell_type": "markdown",
   "metadata": {
    "nbpresent": {
     "id": "c579eaf1-d4a9-46a6-9e15-51b729ccf25f"
    }
   },
   "source": [
    "```\n",
    "2. The correct code to generate a random number between 1 and 100 (inclusive) is:\n",
    "(A) prob = random.randrange(1, 101)\n",
    "(B) prob = random.randrange(1, 100)\n",
    "(C) prob = random.randrange(0, 101)\n",
    "(D) prob = random.randrange(0, 100)\n",
    "```"
   ]
  },
  {
   "cell_type": "markdown",
   "metadata": {
    "nbpresent": {
     "id": "0739261f-d2e9-4086-8718-13e77e676a4e"
    }
   },
   "source": [
    "```\n",
    "3. One reason that lotteries don’t use computers to generate random numbers is:\n",
    "(A) There is no computer on the stage for the drawing.\n",
    "(B) Because computers don't really generate random numbers, they generate pseudo-random numbers.\n",
    "(C) They would just generate the same numbers over and over again.\n",
    "(D) The computer can't tell what values were already selected, so it might generate all 5's instead of 5 unique numbers.\n",
    "```"
   ]
  },
  {
   "cell_type": "markdown",
   "metadata": {
    "nbpresent": {
     "id": "a281809a-1666-4fb0-b6ad-ea0e625ea0f9"
    }
   },
   "source": [
    "```\n",
    "4. Use a for statement to print 10 random numbers between 25 and 35.\n",
    "\n",
    "```"
   ]
  },
  {
   "cell_type": "markdown",
   "metadata": {
    "nbpresent": {
     "id": "93e90d9d-c8aa-4beb-9e98-469b62baff68"
    }
   },
   "source": [
    "## The End"
   ]
  },
  {
   "cell_type": "code",
   "execution_count": 8,
   "metadata": {
    "collapsed": false,
    "nbpresent": {
     "id": "24f60897-2cff-4b74-92bc-5f29868dcb77"
    }
   },
   "outputs": [],
   "source": [
    "import this"
   ]
  },
  {
   "cell_type": "markdown",
   "metadata": {
    "collapsed": true,
    "nbpresent": {
     "id": "65b0c157-0e66-4148-a3e2-91e5b016e3d7"
    }
   },
   "source": [
    "## Glossary\n",
    "\n",
    "**deterministic**\n",
    "\n",
    "A process that is repeatable and predictable.\n",
    "\n",
    "**documentation**\n",
    "\n",
    "A place where you can go to get detailed information about aspects of your programming language.\n",
    "\n",
    "**module**\n",
    "\n",
    "A file containing Python definitions and statements intended for use in other Python programs. The contents of a module are made available to the other program by using the import statement.\n",
    "\n",
    "**pseudo-random number**\n",
    "\n",
    "A number that is not genuinely random but is instead created algorithmically.\n",
    "\n",
    "**random number**\n",
    "\n",
    "A number that is generated in such a way as to exhibit statistical randomness.\n",
    "\n",
    "**random number generator**\n",
    "\n",
    "A function that will provide you with random numbers, usually between 0 and 1.\n",
    "\n",
    "**standard library**\n",
    "\n",
    "A collection of modules that are part of the normal installation of Python."
   ]
  }
 ],
 "metadata": {
  "anaconda-cloud": {},
  "kernelspec": {
   "display_name": "Python [default]",
   "language": "python",
   "name": "python3"
  },
  "language_info": {
   "codemirror_mode": {
    "name": "ipython",
    "version": 3
   },
   "file_extension": ".py",
   "mimetype": "text/x-python",
   "name": "python",
   "nbconvert_exporter": "python",
   "pygments_lexer": "ipython3",
   "version": "3.5.2"
  },
  "nbpresent": {
   "slides": {
    "012fdc09-4ba2-4f96-b301-614578fb8d5d": {
     "id": "012fdc09-4ba2-4f96-b301-614578fb8d5d",
     "prev": null,
     "regions": {
      "a9b1f5bc-cb58-451d-ab3d-5238ef95dcac": {
       "attrs": {
        "height": 0.8,
        "width": 0.8,
        "x": 0.1,
        "y": 0.1
       },
       "content": {
        "cell": "3eb43c69-8815-4d9f-b72f-4f5dbed15926",
        "part": "whole"
       },
       "id": "a9b1f5bc-cb58-451d-ab3d-5238ef95dcac"
      }
     }
    },
    "09e91b8b-fce5-447a-8bb3-35ec1696ae65": {
     "id": "09e91b8b-fce5-447a-8bb3-35ec1696ae65",
     "prev": "bbb28783-c732-4909-b867-d6f747ab5d36",
     "regions": {
      "6f3a27b9-f15a-497c-9347-74aa387b4153": {
       "attrs": {
        "height": 0.8,
        "width": 0.8,
        "x": 0.1,
        "y": 0.1
       },
       "content": {
        "cell": "7c3443b1-73e1-4e3d-b545-3cb6a71fbea6",
        "part": "whole"
       },
       "id": "6f3a27b9-f15a-497c-9347-74aa387b4153"
      }
     }
    },
    "0b1904b0-e3d6-465c-812f-e601b3338420": {
     "id": "0b1904b0-e3d6-465c-812f-e601b3338420",
     "prev": "161b297d-bfda-480e-8ec5-d9334d1a6632",
     "regions": {
      "f8cd194d-2d93-485a-9965-e4bb91290168": {
       "attrs": {
        "height": 0.8,
        "width": 0.8,
        "x": 0.1,
        "y": 0.1
       },
       "content": {
        "cell": "c579eaf1-d4a9-46a6-9e15-51b729ccf25f",
        "part": "whole"
       },
       "id": "f8cd194d-2d93-485a-9965-e4bb91290168"
      }
     }
    },
    "0d63289b-80b0-4c75-80d2-8540b9e3b929": {
     "id": "0d63289b-80b0-4c75-80d2-8540b9e3b929",
     "prev": "d984631a-fea9-41ca-8c76-d5bc2205edc0",
     "regions": {
      "c68171af-fde8-43cb-a177-4d9042808174": {
       "attrs": {
        "height": 0.8,
        "width": 0.8,
        "x": 0.1,
        "y": 0.1
       },
       "content": {
        "cell": "6f18afc5-c35f-4d60-8e16-c5895edeed02",
        "part": "whole"
       },
       "id": "c68171af-fde8-43cb-a177-4d9042808174"
      }
     }
    },
    "161b297d-bfda-480e-8ec5-d9334d1a6632": {
     "id": "161b297d-bfda-480e-8ec5-d9334d1a6632",
     "prev": "ac6c8b7c-fb2e-4f6c-9c7b-02333a0bb746",
     "regions": {
      "ee0dfc37-27ea-4a26-825b-889cccd6e781": {
       "attrs": {
        "height": 0.8,
        "width": 0.8,
        "x": 0.1,
        "y": 0.1
       },
       "content": {
        "cell": "81808728-1eb3-4ab7-be74-094f4c37cf00",
        "part": "whole"
       },
       "id": "ee0dfc37-27ea-4a26-825b-889cccd6e781"
      }
     }
    },
    "3ed65a4e-ad34-43df-9e1c-86d3046fc81c": {
     "id": "3ed65a4e-ad34-43df-9e1c-86d3046fc81c",
     "prev": "4cee0914-4a94-4847-bc76-3cf53505711e",
     "regions": {
      "2db05bb5-d08d-459d-bfc8-37dba2b55a5c": {
       "attrs": {
        "height": 0.8,
        "width": 0.8,
        "x": 0.1,
        "y": 0.1
       },
       "content": {
        "cell": "a281809a-1666-4fb0-b6ad-ea0e625ea0f9",
        "part": "whole"
       },
       "id": "2db05bb5-d08d-459d-bfc8-37dba2b55a5c"
      }
     }
    },
    "4cee0914-4a94-4847-bc76-3cf53505711e": {
     "id": "4cee0914-4a94-4847-bc76-3cf53505711e",
     "prev": "0b1904b0-e3d6-465c-812f-e601b3338420",
     "regions": {
      "d46dff2a-daf1-4d9f-8e96-484e74cf8a11": {
       "attrs": {
        "height": 0.8,
        "width": 0.8,
        "x": 0.1,
        "y": 0.1
       },
       "content": {
        "cell": "0739261f-d2e9-4086-8718-13e77e676a4e",
        "part": "whole"
       },
       "id": "d46dff2a-daf1-4d9f-8e96-484e74cf8a11"
      }
     }
    },
    "8b35be3e-5df8-4a1f-89d7-c6feca944ad2": {
     "id": "8b35be3e-5df8-4a1f-89d7-c6feca944ad2",
     "prev": "3ed65a4e-ad34-43df-9e1c-86d3046fc81c",
     "regions": {
      "36032702-e7b4-4206-9042-152f97d4ecb3": {
       "attrs": {
        "height": 0.13757961783439496,
        "width": 0.8,
        "x": 0.1,
        "y": 0.1
       },
       "content": {
        "cell": "93e90d9d-c8aa-4beb-9e98-469b62baff68",
        "part": "whole"
       },
       "id": "36032702-e7b4-4206-9042-152f97d4ecb3"
      },
      "b97fe802-48a4-4b26-9258-6f0686590332": {
       "attrs": {
        "height": 0.6471337579617835,
        "width": 0.8,
        "x": 0.1,
        "y": 0.25286624203821656
       },
       "content": {
        "cell": "24f60897-2cff-4b74-92bc-5f29868dcb77",
        "part": "whole"
       },
       "id": "b97fe802-48a4-4b26-9258-6f0686590332"
      }
     }
    },
    "91ccf1b7-7818-465c-961d-99c048c9bda7": {
     "id": "91ccf1b7-7818-465c-961d-99c048c9bda7",
     "prev": "936fc0fb-df64-44e2-a932-8e0441ac458b",
     "regions": {
      "3e1bd6b6-0440-4841-aab1-bf963069b166": {
       "attrs": {
        "height": 0.8,
        "width": 0.8,
        "x": 0.1,
        "y": 0.1
       },
       "content": {
        "cell": "409d06f3-f646-4313-bea2-7b00f25d5bb8",
        "part": "whole"
       },
       "id": "3e1bd6b6-0440-4841-aab1-bf963069b166"
      }
     }
    },
    "936fc0fb-df64-44e2-a932-8e0441ac458b": {
     "id": "936fc0fb-df64-44e2-a932-8e0441ac458b",
     "prev": "a2414e8b-b42b-4f3a-a7f1-22131348836d",
     "regions": {
      "90de35b8-8168-406a-b75b-a80150dad05d": {
       "attrs": {
        "height": 0.8,
        "width": 0.8,
        "x": 0.1,
        "y": 0.1
       },
       "content": {
        "cell": "831a3c49-1a47-4ae3-a606-e88732dbd18b",
        "part": "whole"
       },
       "id": "90de35b8-8168-406a-b75b-a80150dad05d"
      }
     }
    },
    "9863d2cb-9215-4803-b06f-34e856d207fe": {
     "id": "9863d2cb-9215-4803-b06f-34e856d207fe",
     "prev": "012fdc09-4ba2-4f96-b301-614578fb8d5d",
     "regions": {
      "bde27d49-268c-4fb3-85c4-53fec79d9f4c": {
       "attrs": {
        "height": 0.8,
        "width": 0.8,
        "x": 0.1,
        "y": 0.1
       },
       "content": {
        "cell": "b795c3a5-d844-4307-ac2f-a33c71a7c8d1",
        "part": "whole"
       },
       "id": "bde27d49-268c-4fb3-85c4-53fec79d9f4c"
      }
     }
    },
    "a2414e8b-b42b-4f3a-a7f1-22131348836d": {
     "id": "a2414e8b-b42b-4f3a-a7f1-22131348836d",
     "prev": "dcb4990d-f5f4-4501-93f1-2de7a68e53c3",
     "regions": {
      "205b2676-cf84-4c1b-9cca-6ee19d89600b": {
       "attrs": {
        "height": 0.8,
        "width": 0.8,
        "x": 0.1,
        "y": 0.1
       },
       "content": {
        "cell": "92002a34-a529-45b0-9bae-8efab204f080",
        "part": "whole"
       },
       "id": "205b2676-cf84-4c1b-9cca-6ee19d89600b"
      }
     }
    },
    "a2cb1df5-e2ca-4a02-831b-45ecd5e8be74": {
     "id": "a2cb1df5-e2ca-4a02-831b-45ecd5e8be74",
     "prev": "0d63289b-80b0-4c75-80d2-8540b9e3b929",
     "regions": {
      "d9797db5-03f5-4962-b47a-3dc07fc7f59e": {
       "attrs": {
        "height": 0.8,
        "width": 0.8,
        "x": 0.1,
        "y": 0.1
       },
       "content": {
        "cell": "bda0f77e-8a75-4223-82fe-9037e6c72a5c",
        "part": "whole"
       },
       "id": "d9797db5-03f5-4962-b47a-3dc07fc7f59e"
      }
     }
    },
    "ac6c8b7c-fb2e-4f6c-9c7b-02333a0bb746": {
     "id": "ac6c8b7c-fb2e-4f6c-9c7b-02333a0bb746",
     "prev": "e80343e9-db91-4606-a1e7-a0e619ab6448",
     "regions": {
      "323bc154-a1ec-4a98-9e81-5f514fa94cf9": {
       "attrs": {
        "height": 0.8,
        "width": 0.8,
        "x": 0.1,
        "y": 0.1
       },
       "content": null,
       "id": "323bc154-a1ec-4a98-9e81-5f514fa94cf9"
      }
     }
    },
    "bbb28783-c732-4909-b867-d6f747ab5d36": {
     "id": "bbb28783-c732-4909-b867-d6f747ab5d36",
     "prev": "f2dc47cc-4502-47a6-8c5b-031e5d954ff5",
     "regions": {
      "68ddb7fa-e787-477a-a3d7-00e216e23aee": {
       "attrs": {
        "height": 0.8,
        "width": 0.8,
        "x": 0.1,
        "y": 0.1
       },
       "content": {
        "cell": "59c60601-7ffb-43c5-8d7d-c380870092f7",
        "part": "whole"
       },
       "id": "68ddb7fa-e787-477a-a3d7-00e216e23aee"
      }
     }
    },
    "d7574e84-5b8a-4b95-aead-c3557d320417": {
     "id": "d7574e84-5b8a-4b95-aead-c3557d320417",
     "prev": "9863d2cb-9215-4803-b06f-34e856d207fe",
     "regions": {
      "e5bc9ec6-8a1c-45cc-ab1b-cc39980a8d50": {
       "attrs": {
        "height": 0.8,
        "width": 0.8,
        "x": 0.1,
        "y": 0.1
       },
       "content": {
        "cell": "6a66fd4d-ac24-499f-ae7b-9c840f644cde",
        "part": "whole"
       },
       "id": "e5bc9ec6-8a1c-45cc-ab1b-cc39980a8d50"
      }
     }
    },
    "d984631a-fea9-41ca-8c76-d5bc2205edc0": {
     "id": "d984631a-fea9-41ca-8c76-d5bc2205edc0",
     "prev": "91ccf1b7-7818-465c-961d-99c048c9bda7",
     "regions": {
      "1ed3a9d8-ac8d-4d51-a9a1-0abc2e59070b": {
       "attrs": {
        "height": 0.8,
        "width": 0.8,
        "x": 0.1,
        "y": 0.1
       },
       "content": {
        "cell": "4611ca3d-82f5-4eba-8664-634490b3b32b",
        "part": "whole"
       },
       "id": "1ed3a9d8-ac8d-4d51-a9a1-0abc2e59070b"
      }
     }
    },
    "dcb4990d-f5f4-4501-93f1-2de7a68e53c3": {
     "id": "dcb4990d-f5f4-4501-93f1-2de7a68e53c3",
     "prev": "09e91b8b-fce5-447a-8bb3-35ec1696ae65",
     "regions": {
      "4a4a155d-6970-4918-8549-16aab22e34be": {
       "attrs": {
        "height": 0.8,
        "width": 0.8,
        "x": 0.1,
        "y": 0.1
       },
       "content": {
        "cell": "86c61236-7f6b-4881-bb4a-9a05e488763c",
        "part": "whole"
       },
       "id": "4a4a155d-6970-4918-8549-16aab22e34be"
      }
     }
    },
    "e80343e9-db91-4606-a1e7-a0e619ab6448": {
     "id": "e80343e9-db91-4606-a1e7-a0e619ab6448",
     "prev": "a2cb1df5-e2ca-4a02-831b-45ecd5e8be74",
     "regions": {
      "bd42dfc5-887d-4d9d-b2e9-5b722a3c52ff": {
       "attrs": {
        "height": 0.8,
        "width": 0.8,
        "x": 0.1,
        "y": 0.1
       },
       "content": {
        "cell": "89054726-01cd-42dc-94e6-6a98a921ab59",
        "part": "whole"
       },
       "id": "bd42dfc5-887d-4d9d-b2e9-5b722a3c52ff"
      }
     }
    },
    "e9beeb0c-08be-43b6-9bb1-cd06453b83e2": {
     "id": "e9beeb0c-08be-43b6-9bb1-cd06453b83e2",
     "prev": "d7574e84-5b8a-4b95-aead-c3557d320417",
     "regions": {
      "2aa93d9f-9292-47a0-9518-397602a17aad": {
       "attrs": {
        "height": 0.8,
        "width": 0.8,
        "x": 0.1,
        "y": 0.1
       },
       "content": {
        "cell": "ab070042-634a-4bd5-8db2-8a79c8a9d5e4",
        "part": "whole"
       },
       "id": "2aa93d9f-9292-47a0-9518-397602a17aad"
      }
     }
    },
    "f2dc47cc-4502-47a6-8c5b-031e5d954ff5": {
     "id": "f2dc47cc-4502-47a6-8c5b-031e5d954ff5",
     "prev": "e9beeb0c-08be-43b6-9bb1-cd06453b83e2",
     "regions": {
      "6d60d3d7-b5c5-4592-b63d-354532879969": {
       "attrs": {
        "height": 0.8,
        "width": 0.8,
        "x": 0.1,
        "y": 0.1
       },
       "content": {
        "cell": "660a0d9c-df14-4c94-82f6-3a789728f864",
        "part": "whole"
       },
       "id": "6d60d3d7-b5c5-4592-b63d-354532879969"
      }
     }
    }
   },
   "themes": {
    "default": "597d4095-8c09-40ae-8df7-e7cd90bdde56",
    "theme": {
     "597d4095-8c09-40ae-8df7-e7cd90bdde56": {
      "id": "597d4095-8c09-40ae-8df7-e7cd90bdde56",
      "palette": {
       "19cc588f-0593-49c9-9f4b-e4d7cc113b1c": {
        "id": "19cc588f-0593-49c9-9f4b-e4d7cc113b1c",
        "rgb": [
         252,
         252,
         252
        ]
       },
       "31af15d2-7e15-44c5-ab5e-e04b16a89eff": {
        "id": "31af15d2-7e15-44c5-ab5e-e04b16a89eff",
        "rgb": [
         68,
         68,
         68
        ]
       },
       "50f92c45-a630-455b-aec3-788680ec7410": {
        "id": "50f92c45-a630-455b-aec3-788680ec7410",
        "rgb": [
         155,
         177,
         192
        ]
       },
       "c5cc3653-2ee1-402a-aba2-7caae1da4f6c": {
        "id": "c5cc3653-2ee1-402a-aba2-7caae1da4f6c",
        "rgb": [
         43,
         126,
         184
        ]
       },
       "efa7f048-9acb-414c-8b04-a26811511a21": {
        "id": "efa7f048-9acb-414c-8b04-a26811511a21",
        "rgb": [
         25.118061674008803,
         73.60176211453744,
         107.4819383259912
        ]
       }
      },
      "rules": {
       "blockquote": {
        "color": "50f92c45-a630-455b-aec3-788680ec7410"
       },
       "code": {
        "font-family": "Anonymous Pro"
       },
       "h1": {
        "color": "c5cc3653-2ee1-402a-aba2-7caae1da4f6c",
        "font-family": "Lato",
        "font-size": 8
       },
       "h2": {
        "color": "c5cc3653-2ee1-402a-aba2-7caae1da4f6c",
        "font-family": "Lato",
        "font-size": 6
       },
       "h3": {
        "color": "50f92c45-a630-455b-aec3-788680ec7410",
        "font-family": "Lato",
        "font-size": 5.5
       },
       "h4": {
        "color": "c5cc3653-2ee1-402a-aba2-7caae1da4f6c",
        "font-family": "Lato",
        "font-size": 5
       },
       "h5": {
        "font-family": "Lato"
       },
       "h6": {
        "font-family": "Lato"
       },
       "h7": {
        "font-family": "Lato"
       },
       "pre": {
        "font-family": "Anonymous Pro",
        "font-size": 4
       }
      },
      "text-base": {
       "font-family": "Merriweather",
       "font-size": 4
      }
     }
    }
   }
  }
 },
 "nbformat": 4,
 "nbformat_minor": 1
}
